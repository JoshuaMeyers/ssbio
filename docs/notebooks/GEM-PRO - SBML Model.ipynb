{
 "cells": [
  {
   "cell_type": "markdown",
   "metadata": {
    "nbpresent": {
     "id": "43da7667-0df4-4319-a751-2db46388b7de"
    }
   },
   "source": [
    "# GEM-PRO - SBML Model\n",
    "\n",
    "This notebook gives an example of how to run the GEM-PRO pipeline with a **SBML model**, in this case *i*NJ661, the metabolic model of *M. tuberculosis*.\n",
    "\n",
    "<div class=\"alert alert-info\">\n",
    "\n",
    "**Input:** \n",
    "GEM (in SBML, JSON, or MAT formats)\n",
    "\n",
    "</div>\n",
    "\n",
    "<div class=\"alert alert-info\">\n",
    "\n",
    "**Output:**\n",
    "GEM-PRO model\n",
    "\n",
    "</div>"
   ]
  },
  {
   "cell_type": "markdown",
   "metadata": {
    "nbpresent": {
     "id": "1f7d53d9-cea2-4a20-bbd5-7c6080a81531"
    }
   },
   "source": [
    "## Imports"
   ]
  },
  {
   "cell_type": "code",
   "execution_count": 1,
   "metadata": {
    "collapsed": true,
    "nbpresent": {
     "id": "7dd1e366-fd3f-49db-b82d-d6f50ff95605"
    }
   },
   "outputs": [],
   "source": [
    "import sys\n",
    "import logging"
   ]
  },
  {
   "cell_type": "code",
   "execution_count": 2,
   "metadata": {
    "collapsed": true,
    "nbpresent": {
     "id": "076748d3-43a2-495c-9e08-efb61691dc05"
    }
   },
   "outputs": [],
   "source": [
    "# Import the GEM-PRO class\n",
    "from ssbio.pipeline.gempro import GEMPRO"
   ]
  },
  {
   "cell_type": "code",
   "execution_count": 3,
   "metadata": {
    "collapsed": true,
    "nbpresent": {
     "id": "052aee3e-8393-4894-9a5c-1acf9ed04377"
    }
   },
   "outputs": [],
   "source": [
    "# Printing multiple outputs per cell\n",
    "from IPython.core.interactiveshell import InteractiveShell\n",
    "InteractiveShell.ast_node_interactivity = \"all\""
   ]
  },
  {
   "cell_type": "markdown",
   "metadata": {
    "nbpresent": {
     "id": "99e22719-e141-4939-bca9-e6d384b8b53f"
    }
   },
   "source": [
    "### Logging\n",
    "\n",
    "Set the logging level in `logger.setLevel(logging.<LEVEL_HERE>)` to specify how verbose you want the pipeline to be. Debug is most verbose.\n",
    "\n",
    "- `CRITICAL`\n",
    "     - Only really important messages shown\n",
    "- `ERROR`\n",
    "     - Major errors\n",
    "- `WARNING`\n",
    "     - Warnings that don't affect running of the pipeline\n",
    "- `INFO` (default)\n",
    "     - Info such as the number of structures mapped per gene\n",
    "- `DEBUG`\n",
    "     - Really detailed information that will print out a lot of stuff\n",
    "     \n",
    "<div class=\"alert alert-warning\">\n",
    "\n",
    "**Warning:** \n",
    "`DEBUG` mode prints out a large amount of information, especially if you have a lot of genes. This may stall your notebook!\n",
    "</div>"
   ]
  },
  {
   "cell_type": "code",
   "execution_count": 4,
   "metadata": {
    "collapsed": true,
    "nbpresent": {
     "id": "62de97f6-e936-4308-8a67-3f66696cc016"
    }
   },
   "outputs": [],
   "source": [
    "# Create logger\n",
    "logger = logging.getLogger()\n",
    "logger.setLevel(logging.INFO)  # SET YOUR LOGGING LEVEL HERE #"
   ]
  },
  {
   "cell_type": "code",
   "execution_count": 5,
   "metadata": {
    "collapsed": true,
    "nbpresent": {
     "id": "b903f518-5123-42b3-9fdc-8157ad4d6e04"
    }
   },
   "outputs": [],
   "source": [
    "# Other logger stuff for Jupyter notebooks\n",
    "handler = logging.StreamHandler(sys.stderr)\n",
    "formatter = logging.Formatter('[%(asctime)s] [%(name)s] %(levelname)s: %(message)s', datefmt=\"%Y-%m-%d %H:%M\")\n",
    "handler.setFormatter(formatter)\n",
    "logger.handlers = [handler]"
   ]
  },
  {
   "cell_type": "markdown",
   "metadata": {
    "nbpresent": {
     "id": "cef6c233-fc6f-4f62-b4dd-a9d414b7cba4"
    }
   },
   "source": [
    "## Initialization of the project\n",
    "\n",
    "Set these three things:\n",
    "\n",
    "- `ROOT_DIR`\n",
    "    - The directory where a folder named after your `PROJECT` will be created\n",
    "- `PROJECT`\n",
    "    - Your project name\n",
    "- `LIST_OF_GENES`\n",
    "    - Your list of gene IDs\n",
    "    \n",
    "A directory will be created in `ROOT_DIR` with your `PROJECT` name. The folders are organized like so:\n",
    "```\n",
    "    ROOT_DIR\n",
    "    └── PROJECT\n",
    "        ├── data  # General storage for pipeline outputs\n",
    "        ├── model  # SBML and GEM-PRO models are stored here\n",
    "        ├── genes  # Per gene information\n",
    "        │   ├── <gene_id1>  # Specific gene directory\n",
    "        │   │   └── protein\n",
    "        │   │       ├── sequences  # Protein sequence files, alignments, etc.\n",
    "        │   │       └── structures  # Protein structure files, calculations, etc.\n",
    "        │   └── <gene_id2>\n",
    "        │       └── protein\n",
    "        │           ├── sequences\n",
    "        │           └── structures\n",
    "        ├── reactions  # Per reaction information\n",
    "        │   └── <reaction_id1>  # Specific reaction directory\n",
    "        │       └── complex\n",
    "        │           └── structures  # Protein complex files\n",
    "        └── metabolites  # Per metabolite information\n",
    "            └── <metabolite_id1>  # Specific metabolite directory\n",
    "                └── chemical\n",
    "                    └── structures  # Metabolite 2D and 3D structure files\n",
    "                \n",
    "```\n",
    "\n",
    "<div class=\"alert alert-info\">**Note:** Methods for protein complexes and metabolites are still in development.</div>"
   ]
  },
  {
   "cell_type": "code",
   "execution_count": 6,
   "metadata": {
    "collapsed": true,
    "nbpresent": {
     "id": "4f2f0539-d1b3-4d01-9b83-547413ba99da"
    }
   },
   "outputs": [],
   "source": [
    "# SET FOLDERS AND DATA HERE\n",
    "import tempfile\n",
    "ROOT_DIR = tempfile.gettempdir()\n",
    "\n",
    "PROJECT = 'mtuberculosis_gp'\n",
    "GEM_FILE = '../../ssbio/test/test_files/models/iNJ661.json'\n",
    "GEM_FILE_TYPE = 'json'\n",
    "PDB_FILE_TYPE = 'mmtf'"
   ]
  },
  {
   "cell_type": "code",
   "execution_count": 7,
   "metadata": {
    "nbpresent": {
     "id": "20cde5ad-ad7c-49fe-beb0-d4714a0cb1ea"
    }
   },
   "outputs": [
    {
     "name": "stderr",
     "output_type": "stream",
     "text": [
      "[2018-02-05 18:13] [ssbio.pipeline.gempro] INFO: Creating GEM-PRO project directory in folder /tmp\n",
      "[2018-02-05 18:13] [ssbio.pipeline.gempro] INFO: /tmp/mtuberculosis_gp: GEM-PRO project location\n",
      "[2018-02-05 18:13] [ssbio.pipeline.gempro] INFO: iNJ661: loaded model\n",
      "[2018-02-05 18:13] [ssbio.pipeline.gempro] INFO: 1025: number of reactions\n",
      "[2018-02-05 18:13] [ssbio.pipeline.gempro] INFO: 720: number of reactions linked to a gene\n",
      "[2018-02-05 18:13] [ssbio.pipeline.gempro] INFO: 661: number of genes (excluding spontaneous)\n",
      "[2018-02-05 18:13] [ssbio.pipeline.gempro] INFO: 826: number of metabolites\n",
      "[2018-02-05 18:13] [ssbio.pipeline.gempro] WARNING: IMPORTANT: All Gene objects have been transformed into GenePro objects, and will be for any new ones\n",
      "[2018-02-05 18:13] [ssbio.pipeline.gempro] INFO: 661: number of genes\n"
     ]
    }
   ],
   "source": [
    "# Create the GEM-PRO project\n",
    "my_gempro = GEMPRO(gem_name=PROJECT, root_dir=ROOT_DIR, gem_file_path=GEM_FILE, gem_file_type=GEM_FILE_TYPE, pdb_file_type=PDB_FILE_TYPE)"
   ]
  },
  {
   "cell_type": "markdown",
   "metadata": {
    "nbpresent": {
     "id": "e7a031e5-f6b3-4f64-9e2d-7933f538f854"
    }
   },
   "source": [
    "## Mapping gene ID --> sequence\n",
    "\n",
    "First, we need to map these IDs to their protein sequences. There are 2 ID mapping services provided to do this - through **KEGG** or **UniProt**. The end goal is to map a UniProt ID to each ID, since there is a comprehensive mapping (and some useful APIs) between UniProt and the PDB.\n",
    "\n",
    "<p><div class=\"alert alert-info\">**Note:** You only need to map gene IDs using one service. However you can run both if some genes don't map in one service and do map in another!</div></p>\n",
    "\n",
    "However, you don't need to map using these services if you already have the amino acid sequences for each protein. You can just manually load in the sequences as shown using the method `manual_seq_mapping`. Or, if you already have the UniProt IDs, you can load those in using the method `manual_uniprot_mapping`."
   ]
  },
  {
   "cell_type": "markdown",
   "metadata": {
    "nbpresent": {
     "id": "62abfde7-a10d-4270-bb7d-f6f6d3dcbbaf"
    }
   },
   "source": [
    "### Methods"
   ]
  },
  {
   "cell_type": "raw",
   "metadata": {
    "raw_mimetype": "text/restructuredtext"
   },
   "source": [
    ".. automethod:: ssbio.pipeline.gempro.GEMPRO.manual_seq_mapping\n",
    "    :noindex:"
   ]
  },
  {
   "cell_type": "code",
   "execution_count": 8,
   "metadata": {
    "nbpresent": {
     "id": "5258be02-70ac-4953-9ab5-ffc75a8b00ab"
    }
   },
   "outputs": [
    {
     "name": "stderr",
     "output_type": "stream",
     "text": [
      "[2018-02-05 18:14] [ssbio.pipeline.gempro] INFO: Loaded in 2 sequences\n"
     ]
    }
   ],
   "source": [
    "gene_to_seq_dict = {'Rv1295': 'MTVPPTATHQPWPGVIAAYRDRLPVGDDWTPVTLLEGGTPLIAATNLSKQTGCTIHLKVEGLNPTGSFKDRGMTMAVTDALAHGQRAVLCASTGNTSASAAAYAARAGITCAVLIPQGKIAMGKLAQAVMHGAKIIQIDGNFDDCLELARKMAADFPTISLVNSVNPVRIEGQKTAAFEIVDVLGTAPDVHALPVGNAGNITAYWKGYTEYHQLGLIDKLPRMLGTQAAGAAPLVLGEPVSHPETIATAIRIGSPASWTSAVEAQQQSKGRFLAASDEEILAAYHLVARVEGVFVEPASAASIAGLLKAIDDGWVARGSTVVCTVTGNGLKDPDTALKDMPSVSPVPVDPVAVVEKLGLA',\n",
    "                    'Rv2233': 'VSSPRERRPASQAPRLSRRPPAHQTSRSSPDTTAPTGSGLSNRFVNDNGIVTDTTASGTNCPPPPRAAARRASSPGESPQLVIFDLDGTLTDSARGIVSSFRHALNHIGAPVPEGDLATHIVGPPMHETLRAMGLGESAEEAIVAYRADYSARGWAMNSLFDGIGPLLADLRTAGVRLAVATSKAEPTARRILRHFGIEQHFEVIAGASTDGSRGSKVDVLAHALAQLRPLPERLVMVGDRSHDVDGAAAHGIDTVVVGWGYGRADFIDKTSTTVVTHAATIDELREALGV'}\n",
    "my_gempro.manual_seq_mapping(gene_to_seq_dict)"
   ]
  },
  {
   "cell_type": "raw",
   "metadata": {
    "raw_mimetype": "text/restructuredtext"
   },
   "source": [
    ".. automethod:: ssbio.pipeline.gempro.GEMPRO.manual_uniprot_mapping\n",
    "    :noindex:"
   ]
  },
  {
   "cell_type": "code",
   "execution_count": 9,
   "metadata": {
    "nbpresent": {
     "id": "8c3a026f-a8f6-4cb2-90c3-825f7d796909"
    }
   },
   "outputs": [
    {
     "data": {
      "application/vnd.jupyter.widget-view+json": {
       "model_id": "ca9a48b8d3274421a1764af4595cca40",
       "version_major": 2,
       "version_minor": 0
      },
      "text/plain": [
       "A Jupyter Widget"
      ]
     },
     "metadata": {},
     "output_type": "display_data"
    },
    {
     "name": "stdout",
     "output_type": "stream",
     "text": [
      "\n"
     ]
    },
    {
     "name": "stderr",
     "output_type": "stream",
     "text": [
      "[2018-02-05 18:14] [ssbio.pipeline.gempro] INFO: Completed manual ID mapping --> UniProt. See the \"df_uniprot_metadata\" attribute for a summary dataframe.\n"
     ]
    },
    {
     "data": {
      "text/html": [
       "<div>\n",
       "<style scoped>\n",
       "    .dataframe tbody tr th:only-of-type {\n",
       "        vertical-align: middle;\n",
       "    }\n",
       "\n",
       "    .dataframe tbody tr th {\n",
       "        vertical-align: top;\n",
       "    }\n",
       "\n",
       "    .dataframe thead th {\n",
       "        text-align: right;\n",
       "    }\n",
       "</style>\n",
       "<table border=\"1\" class=\"dataframe\">\n",
       "  <thead>\n",
       "    <tr style=\"text-align: right;\">\n",
       "      <th></th>\n",
       "      <th>uniprot</th>\n",
       "      <th>reviewed</th>\n",
       "      <th>gene_name</th>\n",
       "      <th>kegg</th>\n",
       "      <th>refseq</th>\n",
       "      <th>pfam</th>\n",
       "      <th>description</th>\n",
       "      <th>entry_date</th>\n",
       "      <th>entry_version</th>\n",
       "      <th>seq_date</th>\n",
       "      <th>seq_version</th>\n",
       "      <th>sequence_file</th>\n",
       "      <th>metadata_file</th>\n",
       "    </tr>\n",
       "    <tr>\n",
       "      <th>gene</th>\n",
       "      <th></th>\n",
       "      <th></th>\n",
       "      <th></th>\n",
       "      <th></th>\n",
       "      <th></th>\n",
       "      <th></th>\n",
       "      <th></th>\n",
       "      <th></th>\n",
       "      <th></th>\n",
       "      <th></th>\n",
       "      <th></th>\n",
       "      <th></th>\n",
       "      <th></th>\n",
       "    </tr>\n",
       "  </thead>\n",
       "  <tbody>\n",
       "    <tr>\n",
       "      <th>Rv0619</th>\n",
       "      <td>Q79FY3</td>\n",
       "      <td>False</td>\n",
       "      <td>galTb</td>\n",
       "      <td>NaN</td>\n",
       "      <td>NaN</td>\n",
       "      <td>PF02744</td>\n",
       "      <td>Probable galactose-1-phosphate uridylyltransfe...</td>\n",
       "      <td>2017-07-05</td>\n",
       "      <td>78</td>\n",
       "      <td>2004-07-05</td>\n",
       "      <td>1</td>\n",
       "      <td>Q79FY3.fasta</td>\n",
       "      <td>Q79FY3.xml</td>\n",
       "    </tr>\n",
       "    <tr>\n",
       "      <th>Rv1755c</th>\n",
       "      <td>P9WIA9</td>\n",
       "      <td>False</td>\n",
       "      <td>plcD</td>\n",
       "      <td>NaN</td>\n",
       "      <td>NaN</td>\n",
       "      <td>PF04185</td>\n",
       "      <td>Phospholipase C 4</td>\n",
       "      <td>2017-07-05</td>\n",
       "      <td>18</td>\n",
       "      <td>2014-04-16</td>\n",
       "      <td>1</td>\n",
       "      <td>P9WIA9.fasta</td>\n",
       "      <td>P9WIA9.xml</td>\n",
       "    </tr>\n",
       "    <tr>\n",
       "      <th>Rv2321c</th>\n",
       "      <td>P71891</td>\n",
       "      <td>False</td>\n",
       "      <td>rocD2</td>\n",
       "      <td>mtv:RVBD_2321c</td>\n",
       "      <td>WP_003411956.1</td>\n",
       "      <td>PF00202</td>\n",
       "      <td>Probable ornithine aminotransferase (C-terminu...</td>\n",
       "      <td>2017-07-05</td>\n",
       "      <td>116</td>\n",
       "      <td>1997-02-01</td>\n",
       "      <td>1</td>\n",
       "      <td>P71891.fasta</td>\n",
       "      <td>P71891.xml</td>\n",
       "    </tr>\n",
       "    <tr>\n",
       "      <th>Rv2322c</th>\n",
       "      <td>P71890</td>\n",
       "      <td>False</td>\n",
       "      <td>rocD1</td>\n",
       "      <td>mtv:RVBD_2322c</td>\n",
       "      <td>WP_003411957.1</td>\n",
       "      <td>PF00202</td>\n",
       "      <td>Probable ornithine aminotransferase (N-terminu...</td>\n",
       "      <td>2017-06-07</td>\n",
       "      <td>117</td>\n",
       "      <td>1997-02-01</td>\n",
       "      <td>1</td>\n",
       "      <td>P71890.fasta</td>\n",
       "      <td>P71890.xml</td>\n",
       "    </tr>\n",
       "  </tbody>\n",
       "</table>\n",
       "</div>"
      ],
      "text/plain": [
       "        uniprot  reviewed gene_name            kegg          refseq     pfam  \\\n",
       "gene                                                                           \n",
       "Rv0619   Q79FY3     False     galTb             NaN             NaN  PF02744   \n",
       "Rv1755c  P9WIA9     False      plcD             NaN             NaN  PF04185   \n",
       "Rv2321c  P71891     False     rocD2  mtv:RVBD_2321c  WP_003411956.1  PF00202   \n",
       "Rv2322c  P71890     False     rocD1  mtv:RVBD_2322c  WP_003411957.1  PF00202   \n",
       "\n",
       "                                               description  entry_date  \\\n",
       "gene                                                                     \n",
       "Rv0619   Probable galactose-1-phosphate uridylyltransfe...  2017-07-05   \n",
       "Rv1755c                                  Phospholipase C 4  2017-07-05   \n",
       "Rv2321c  Probable ornithine aminotransferase (C-terminu...  2017-07-05   \n",
       "Rv2322c  Probable ornithine aminotransferase (N-terminu...  2017-06-07   \n",
       "\n",
       "         entry_version    seq_date  seq_version sequence_file metadata_file  \n",
       "gene                                                                         \n",
       "Rv0619              78  2004-07-05            1  Q79FY3.fasta    Q79FY3.xml  \n",
       "Rv1755c             18  2014-04-16            1  P9WIA9.fasta    P9WIA9.xml  \n",
       "Rv2321c            116  1997-02-01            1  P71891.fasta    P71891.xml  \n",
       "Rv2322c            117  1997-02-01            1  P71890.fasta    P71890.xml  "
      ]
     },
     "execution_count": 9,
     "metadata": {},
     "output_type": "execute_result"
    }
   ],
   "source": [
    "manual_uniprot_dict = {'Rv1755c': 'P9WIA9', 'Rv2321c': 'P71891', 'Rv0619': 'Q79FY3', 'Rv0618': 'Q79FY4', 'Rv2322c': 'P71890'}\n",
    "my_gempro.manual_uniprot_mapping(manual_uniprot_dict)\n",
    "my_gempro.df_uniprot_metadata.tail(4)"
   ]
  },
  {
   "cell_type": "raw",
   "metadata": {
    "raw_mimetype": "text/restructuredtext"
   },
   "source": [
    ".. automethod:: ssbio.pipeline.gempro.GEMPRO.kegg_mapping_and_metadata\n",
    "    :noindex:"
   ]
  },
  {
   "cell_type": "code",
   "execution_count": 10,
   "metadata": {
    "nbpresent": {
     "id": "eed1aac7-8a33-4c4b-b7f2-8cf6be7fc534"
    }
   },
   "outputs": [
    {
     "data": {
      "application/vnd.jupyter.widget-view+json": {
       "model_id": "1ea4ed436cd84ed29b95ef8834fbb5c9",
       "version_major": 2,
       "version_minor": 0
      },
      "text/plain": [
       "A Jupyter Widget"
      ]
     },
     "metadata": {},
     "output_type": "display_data"
    },
    {
     "name": "stderr",
     "output_type": "stream",
     "text": [
      "[2018-02-05 18:14] [root] WARNING: status is not ok with Not Found\n",
      "[2018-02-05 18:14] [ssbio.databases.kegg] WARNING: mtu:Rv1755c: no sequence file available\n",
      "[2018-02-05 18:14] [root] WARNING: status is not ok with Not Found\n",
      "[2018-02-05 18:14] [ssbio.databases.kegg] WARNING: mtu:Rv1755c: no metadata file available\n",
      "[2018-02-05 18:14] [root] WARNING: status is not ok with Not Found\n",
      "[2018-02-05 18:14] [ssbio.databases.kegg] WARNING: mtu:Rv2233: no sequence file available\n",
      "[2018-02-05 18:14] [root] WARNING: status is not ok with Not Found\n",
      "[2018-02-05 18:14] [ssbio.databases.kegg] WARNING: mtu:Rv2233: no metadata file available\n",
      "[2018-02-05 18:14] [ssbio.core.protein] WARNING: Rv2233: representative sequence does not match mapped KEGG sequence.\n",
      "[2018-02-05 18:14] [root] WARNING: status is not ok with Not Found\n",
      "[2018-02-05 18:14] [ssbio.databases.kegg] WARNING: mtu:Rv0619: no sequence file available\n",
      "[2018-02-05 18:14] [root] WARNING: status is not ok with Not Found\n",
      "[2018-02-05 18:14] [ssbio.databases.kegg] WARNING: mtu:Rv0619: no metadata file available\n",
      "[2018-02-05 18:14] [root] WARNING: status is not ok with Not Found\n",
      "[2018-02-05 18:14] [ssbio.databases.kegg] WARNING: mtu:Rv0618: no sequence file available\n",
      "[2018-02-05 18:14] [root] WARNING: status is not ok with Not Found\n",
      "[2018-02-05 18:14] [ssbio.databases.kegg] WARNING: mtu:Rv2321c: no sequence file available\n",
      "[2018-02-05 18:14] [root] WARNING: status is not ok with Not Found\n",
      "[2018-02-05 18:14] [ssbio.databases.kegg] WARNING: mtu:Rv2321c: no metadata file available\n",
      "[2018-02-05 18:14] [root] WARNING: status is not ok with Not Found\n",
      "[2018-02-05 18:14] [ssbio.databases.kegg] WARNING: mtu:Rv2322c: no sequence file available\n",
      "[2018-02-05 18:14] [root] WARNING: status is not ok with Not Found\n",
      "[2018-02-05 18:14] [ssbio.databases.kegg] WARNING: mtu:Rv2322c: no metadata file available\n"
     ]
    },
    {
     "name": "stdout",
     "output_type": "stream",
     "text": [
      "\n"
     ]
    },
    {
     "name": "stderr",
     "output_type": "stream",
     "text": [
      "[2018-02-05 18:14] [ssbio.pipeline.gempro] INFO: 655/661: number of genes mapped to KEGG\n",
      "[2018-02-05 18:14] [ssbio.pipeline.gempro] INFO: Completed ID mapping --> KEGG. See the \"df_kegg_metadata\" attribute for a summary dataframe.\n"
     ]
    },
    {
     "name": "stdout",
     "output_type": "stream",
     "text": [
      "Missing KEGG mapping:  ['Rv0618', 'Rv2233', 'Rv0619', 'Rv1755c', 'Rv2322c', 'Rv2321c']\n"
     ]
    },
    {
     "data": {
      "text/html": [
       "<div>\n",
       "<style scoped>\n",
       "    .dataframe tbody tr th:only-of-type {\n",
       "        vertical-align: middle;\n",
       "    }\n",
       "\n",
       "    .dataframe tbody tr th {\n",
       "        vertical-align: top;\n",
       "    }\n",
       "\n",
       "    .dataframe thead th {\n",
       "        text-align: right;\n",
       "    }\n",
       "</style>\n",
       "<table border=\"1\" class=\"dataframe\">\n",
       "  <thead>\n",
       "    <tr style=\"text-align: right;\">\n",
       "      <th></th>\n",
       "      <th>kegg</th>\n",
       "      <th>refseq</th>\n",
       "      <th>uniprot</th>\n",
       "      <th>pdbs</th>\n",
       "      <th>sequence_file</th>\n",
       "      <th>metadata_file</th>\n",
       "    </tr>\n",
       "    <tr>\n",
       "      <th>gene</th>\n",
       "      <th></th>\n",
       "      <th></th>\n",
       "      <th></th>\n",
       "      <th></th>\n",
       "      <th></th>\n",
       "      <th></th>\n",
       "    </tr>\n",
       "  </thead>\n",
       "  <tbody>\n",
       "    <tr>\n",
       "      <th>Rv0013</th>\n",
       "      <td>mtu:Rv0013</td>\n",
       "      <td>YP_177615</td>\n",
       "      <td>I6WX77</td>\n",
       "      <td>NaN</td>\n",
       "      <td>mtu-Rv0013.faa</td>\n",
       "      <td>mtu-Rv0013.kegg</td>\n",
       "    </tr>\n",
       "    <tr>\n",
       "      <th>Rv0032</th>\n",
       "      <td>mtu:Rv0032</td>\n",
       "      <td>NP_214546</td>\n",
       "      <td>I6Y6Q7</td>\n",
       "      <td>NaN</td>\n",
       "      <td>mtu-Rv0032.faa</td>\n",
       "      <td>mtu-Rv0032.kegg</td>\n",
       "    </tr>\n",
       "    <tr>\n",
       "      <th>Rv0046c</th>\n",
       "      <td>mtu:Rv0046c</td>\n",
       "      <td>NP_214560</td>\n",
       "      <td>I6X8D3</td>\n",
       "      <td>1GR0</td>\n",
       "      <td>mtu-Rv0046c.faa</td>\n",
       "      <td>mtu-Rv0046c.kegg</td>\n",
       "    </tr>\n",
       "    <tr>\n",
       "      <th>Rv0066c</th>\n",
       "      <td>mtu:Rv0066c</td>\n",
       "      <td>NP_214580</td>\n",
       "      <td>L0T2B7</td>\n",
       "      <td>NaN</td>\n",
       "      <td>mtu-Rv0066c.faa</td>\n",
       "      <td>mtu-Rv0066c.kegg</td>\n",
       "    </tr>\n",
       "    <tr>\n",
       "      <th>Rv0069c</th>\n",
       "      <td>mtu:Rv0069c</td>\n",
       "      <td>NP_214583</td>\n",
       "      <td>A0A089S0Y8</td>\n",
       "      <td>NaN</td>\n",
       "      <td>mtu-Rv0069c.faa</td>\n",
       "      <td>mtu-Rv0069c.kegg</td>\n",
       "    </tr>\n",
       "  </tbody>\n",
       "</table>\n",
       "</div>"
      ],
      "text/plain": [
       "                kegg     refseq     uniprot  pdbs    sequence_file  \\\n",
       "gene                                                                 \n",
       "Rv0013    mtu:Rv0013  YP_177615      I6WX77   NaN   mtu-Rv0013.faa   \n",
       "Rv0032    mtu:Rv0032  NP_214546      I6Y6Q7   NaN   mtu-Rv0032.faa   \n",
       "Rv0046c  mtu:Rv0046c  NP_214560      I6X8D3  1GR0  mtu-Rv0046c.faa   \n",
       "Rv0066c  mtu:Rv0066c  NP_214580      L0T2B7   NaN  mtu-Rv0066c.faa   \n",
       "Rv0069c  mtu:Rv0069c  NP_214583  A0A089S0Y8   NaN  mtu-Rv0069c.faa   \n",
       "\n",
       "            metadata_file  \n",
       "gene                       \n",
       "Rv0013    mtu-Rv0013.kegg  \n",
       "Rv0032    mtu-Rv0032.kegg  \n",
       "Rv0046c  mtu-Rv0046c.kegg  \n",
       "Rv0066c  mtu-Rv0066c.kegg  \n",
       "Rv0069c  mtu-Rv0069c.kegg  "
      ]
     },
     "execution_count": 10,
     "metadata": {},
     "output_type": "execute_result"
    }
   ],
   "source": [
    "# KEGG mapping of gene ids\n",
    "my_gempro.kegg_mapping_and_metadata(kegg_organism_code='mtu')\n",
    "print('Missing KEGG mapping: ', my_gempro.missing_kegg_mapping)\n",
    "my_gempro.df_kegg_metadata.head()"
   ]
  },
  {
   "cell_type": "raw",
   "metadata": {
    "raw_mimetype": "text/restructuredtext"
   },
   "source": [
    ".. automethod:: ssbio.pipeline.gempro.GEMPRO.uniprot_mapping_and_metadata\n",
    "    :noindex:"
   ]
  },
  {
   "cell_type": "code",
   "execution_count": 11,
   "metadata": {
    "nbpresent": {
     "id": "ea9c8375-4046-4c46-b42b-018f5ee80b94"
    }
   },
   "outputs": [
    {
     "name": "stderr",
     "output_type": "stream",
     "text": [
      "[2018-02-05 18:14] [root] INFO: getUserAgent: Begin\n",
      "[2018-02-05 18:14] [root] INFO: getUserAgent: user_agent: EBI-Sample-Client/ (services.py; Python 3.6.3; Linux) Python-requests/2.18.4\n",
      "[2018-02-05 18:14] [root] INFO: getUserAgent: End\n",
      "[2018-02-05 18:15] [root] WARNING: status is not ok with Bad Request\n",
      "[2018-02-05 18:15] [root] WARNING: Results seems empty...returning empty dictionary.\n"
     ]
    },
    {
     "data": {
      "application/vnd.jupyter.widget-view+json": {
       "model_id": "f0255258adac4a938712161c06aa4aaf",
       "version_major": 2,
       "version_minor": 0
      },
      "text/plain": [
       "A Jupyter Widget"
      ]
     },
     "metadata": {},
     "output_type": "display_data"
    },
    {
     "name": "stdout",
     "output_type": "stream",
     "text": [
      "\n"
     ]
    },
    {
     "name": "stderr",
     "output_type": "stream",
     "text": [
      "[2018-02-05 18:15] [ssbio.pipeline.gempro] INFO: 0/661: number of genes mapped to UniProt\n",
      "[2018-02-05 18:15] [ssbio.pipeline.gempro] INFO: Completed ID mapping --> UniProt. See the \"df_uniprot_metadata\" attribute for a summary dataframe.\n"
     ]
    },
    {
     "name": "stdout",
     "output_type": "stream",
     "text": [
      "Missing UniProt mapping:  ['Rv2178c', 'Rv2476c', 'Rv3607c', 'Rv1202', 'Rv1030', 'Rv1187', 'Rv2421c', 'Rv2247', 'Rv2701c', 'Rv1662', 'Rv1380', 'Rv2763c', 'Rv2435c', 'Rv0082', 'Rv0189c', 'Rv3757c', 'Rv1133c', 'Rv1257c', 'Rv1623c', 'Rv0958', 'Rv1162', 'Rv3581c', 'Rv1739c', 'Rv1086', 'Rv1077', 'Rv1625c', 'Rv3227', 'Rv2832c', 'Rv3308', 'Rv2858c', 'Rv2193', 'Rv2834c', 'Rv2995c', 'Rv1915', 'Rv3003c', 'Rv1538c', 'Rv2793c', 'Rv2152c', 'Rv3468c', 'Rv1485', 'Rv1079', 'Rv1552', 'Rv1161', 'Rv3307', 'Rv0768', 'Rv1843c', 'Rv1302', 'Rv0780', 'Rv2064', 'Rv2124c', 'Rv1908c', 'Rv1555', 'Rv2754c', 'Rv0346c', 'Rv2467', 'Rv2384', 'Rv3758c', 'Rv1338', 'Rv1311', 'Rv1599', 'Rv1589', 'Rv2930', 'Rv0564c', 'Rv2070c', 'Rv0143c', 'Rv0107c', 'Rv2157c', 'Rv2847c', 'Rv1416', 'Rv0147', 'Rv0432', 'Rv3152', 'Rv0098', 'Rv0548c', 'Rv1408', 'Rv2320c', 'Rv2859c', 'Rv3314c', 'Rv3331', 'Rv3393', 'Rv0509', 'Rv2062c', 'Rv1248c', 'Rv1895', 'Rv2870c', 'Rv1131', 'Rv1294', 'Rv0337c', 'Rv0650', 'Rv1001', 'Rv2211c', 'Rv2471', 'Rv2075c', 'Rv1622c', 'Rv3045', 'Rv0772', 'Rv1607', 'Rv2601', 'Rv2363', 'Rv2483c', 'Rv1553', 'Rv1559', 'Rv3464', 'Rv3010c', 'Rv2552c', 'Rv1031', 'Rv1905c', 'Rv3815c', 'Rv2935', 'Rv3469c', 'Rv1595', 'Rv1293', 'Rv1099c', 'Rv3398c', 'Rv2764c', 'Rv1604', 'Rv2399c', 'Rv1695', 'Rv0253', 'Rv0046c', 'Rv3634c', 'Rv2982c', 'Rv0414c', 'Rv3410c', 'Rv3042c', 'Rv1659', 'Rv0013', 'Rv3582c', 'Rv2051c', 'Rv1082', 'Rv1373', 'Rv1570', 'Rv2236c', 'Rv1093', 'Rv1445c', 'Rv3602c', 'Rv2502c', 'Rv1436', 'Rv1849', 'Rv2382c', 'Rv0952', 'Rv2139', 'Rv0956', 'Rv3283', 'Rv3310', 'Rv0373c', 'Rv2243', 'Rv1612', 'Rv1307', 'Rv3229c', 'Rv3265c', 'Rv2220', 'Rv2786c', 'Rv0382c', 'Rv2583c', 'Rv2678c', 'Rv0896', 'Rv1207', 'Rv0183', 'Rv3913', 'Rv2940c', 'Rv3153', 'Rv1731', 'Rv0973c', 'Rv3247c', 'Rv0728c', 'Rv2987c', 'Rv3846', 'Rv3150', 'Rv0234c', 'Rv3794', 'Rv3436c', 'Rv2427c', 'Rv3257c', 'Rv2539c', 'Rv2965c', 'Rv2156c', 'Rv3791', 'Rv1296', 'Rv2287', 'Rv2899c', 'Rv3275c', 'Rv1837c', 'Rv1285', 'Rv1602', 'Rv2245', 'Rv0423c', 'Rv2208', 'Rv3801c', 'Rv0436c', 'Rv1492', 'Rv2780', 'Rv1658', 'Rv2674', 'Rv2329c', 'Rv3509c', 'Rv3290c', 'Rv0620', 'Rv1383', 'Rv1850', 'Rv0112', 'Rv2996c', 'Rv3396c', 'Rv2671', 'Rv1653', 'Rv2496c', 'Rv3330', 'Rv1663', 'Rv0820', 'Rv1448c', 'Rv2205c', 'Rv1447c', 'Rv2043c', 'Rv3806c', 'Rv2029c', 'Rv3792', 'Rv3313c', 'Rv1822', 'Rv3470c', 'Rv1609', 'Rv0103c', 'Rv3264c', 'Rv1484', 'Rv3534c', 'Rv1603', 'Rv0803', 'Rv2849c', 'Rv2458', 'Rv3341', 'Rv1617', 'Rv0570', 'Rv3609c', 'Rv1512', 'Rv1672c', 'Rv3759c', 'Rv2201', 'Rv0855', 'Rv3236c', 'Rv1940', 'Rv2163c', 'Rv0374c', 'Rv1563c', 'Rv0375c', 'Rv2455c', 'Rv1310', 'Rv1295', 'Rv2702', 'Rv3356c', 'Rv2445c', 'Rv3273', 'Rv1306', 'Rv3423c', 'Rv2589', 'Rv0317c', 'Rv3303c', 'Rv2439c', 'Rv1304', 'Rv3248c', 'Rv0858c', 'Rv0534c', 'Rv3158', 'Rv1605', 'Rv1127c', 'Rv1692', 'Rv1655', 'Rv2192c', 'Rv1391', 'Rv1122', 'Rv2454c', 'Rv2573', 'Rv2949c', 'Rv2379c', 'Rv1240', 'Rv1098c', 'Rv2196', 'Rv0555', 'Rv1350', 'Rv3302c', 'Rv1309', 'Rv0267', 'Rv0255c', 'Rv2194', 'Rv3051c', 'Rv0524', 'Rv2590', 'Rv2465c', 'Rv0137c', 'Rv1601', 'Rv0437c', 'Rv1554', 'Rv1318c', 'Rv3340', 'Rv1389', 'Rv2934', 'Rv0545c', 'Rv0558', 'Rv1005c', 'Rv1412', 'Rv2127', 'Rv2335', 'Rv2392', 'Rv2981c', 'Rv3709c', 'Rv3754', 'Rv2612c', 'Rv2931', 'Rv0557', 'Rv0252', 'Rv2928', 'Rv1347c', 'Rv1449c', 'Rv1600', 'Rv2207', 'Rv0536', 'Rv0295c', 'Rv3455c', 'Rv3411c', 'Rv0503c', 'Rv3708c', 'Rv0417', 'Rv1704c', 'Rv0489', 'Rv3795', 'Rv0553', 'Rv0573c', 'Rv2498c', 'Rv0470c', 'Rv0773c', 'Rv3048c', 'Rv2933', 'Rv3704c', 'Rv3818', 'Rv1737c', 'Rv0266c', 'Rv0644c', 'Rv2130c', 'Rv3280', 'Rv2400c', 'Rv2182c', 'Rv1018c', 'Rv2158c', 'Rv3149', 'Rv2289', 'Rv0126', 'Rv2967c', 'Rv3214', 'Rv2317', 'Rv3490', 'Rv2881c', 'Rv1916', 'Rv1438', 'Rv1348', 'Rv3808c', 'Rv0334', 'Rv1594', 'Rv3156', 'Rv2072c', 'Rv2344c', 'Rv2210c', 'Rv2281', 'Rv0993', 'Rv2316', 'Rv1406', 'Rv1613', 'Rv1201c', 'Rv0091', 'Rv3318', 'Rv3285', 'Rv0409', 'Rv0974c', 'Rv3316', 'Rv2121c', 'Rv2833c', 'Rv3309c', 'Rv1328', 'Rv3266c', 'Rv1213', 'Rv2697c', 'Rv0946c', 'Rv1832', 'Rv3793', 'Rv1011', 'Rv3696c', 'Rv2246', 'Rv3858c', 'Rv1620c', 'Rv2386c', 'Rv1618', 'Rv0211', 'Rv1631', 'Rv0512', 'Rv1385', 'Rv1286', 'Rv2122c', 'Rv3319', 'Rv2249c', 'Rv2835c', 'Rv2941', 'Rv2605c', 'Rv2394', 'Rv3145', 'Rv0886', 'Rv3157', 'Rv3737', 'Rv1094', 'Rv1820', 'Rv0500', 'Rv1236', 'Rv1409', 'Rv2136c', 'Rv3800c', 'Rv2984', 'Rv0118c', 'Rv1121', 'Rv2932', 'Rv1826', 'Rv2233', 'Rv1511', 'Rv2540c', 'Rv3838c', 'Rv1305', 'Rv2200c', 'Rv3146', 'Rv0389', 'Rv0848', 'Rv3279c', 'Rv1529', 'Rv0533c', 'Rv0951', 'Rv0884c', 'Rv1308', 'Rv0482', 'Rv2259', 'Rv0727c', 'Rv0261c', 'Rv3281', 'Rv3756c', 'Rv1475c', 'Rv0462', 'Rv1551', 'Rv0805', 'Rv1656', 'Rv2398c', 'Rv1392', 'Rv1170', 'Rv2438c', 'Rv3379c', 'Rv1562c', 'Rv0066c', 'Rv2726c', 'Rv1844c', 'Rv1699', 'Rv2231c', 'Rv3002c', 'Rv3441c', 'Rv1029', 'Rv3001c', 'Rv1415', 'Rv3148', 'Rv2378c', 'Rv2958c', 'Rv2900c', 'Rv0505c', 'Rv3043c', 'Rv1200', 'Rv1185c', 'Rv2531c', 'Rv3772', 'Rv2947c', 'Rv1654', 'Rv0486', 'Rv2436', 'Rv2977c', 'Rv0511', 'Rv1848', 'Rv1237', 'Rv3601c', 'Rv0733', 'Rv3155', 'Rv0753c', 'Rv0694', 'Rv3215', 'Rv3710', 'Rv3606c', 'Rv0254c', 'Rv3315c', 'Rv3713', 'Rv0155', 'Rv0859', 'Rv3317', 'Rv2222c', 'Rv2495c', 'Rv1745c', 'Rv2497c', 'Rv0771', 'Rv1320c', 'Rv3842c', 'Rv1349', 'Rv2773c', 'Rv1164', 'Rv1381', 'Rv0363c', 'Rv2682c', 'Rv3113', 'Rv3154', 'Rv2860c', 'Rv3588c', 'Rv3608c', 'Rv3535c', 'Rv2318', 'Rv0777', 'Rv0729', 'Rv1714', 'Rv0645c', 'Rv0853c', 'Rv0642c', 'Rv0162c', 'Rv2992c', 'Rv3068c', 'Rv1621c', 'Rv0522', 'Rv1568', 'Rv3465', 'Rv2584c', 'Rv2746c', 'Rv0248c', 'Rv0542c', 'Rv2383c', 'Rv0391', 'Rv2332', 'Rv1264', 'Rv2065', 'Rv1652', 'Rv2291', 'Rv1902c', 'Rv1928c', 'Rv0478', 'Rv0467', 'Rv2713', 'Rv1017c', 'Rv0501', 'Rv0422c', 'Rv1023', 'Rv3624c', 'Rv2071c', 'Rv2964', 'Rv0357c', 'Rv2195', 'Rv1647', 'Rv3293', 'Rv2006', 'Rv3826', 'Rv0499', 'Rv0032', 'Rv2988c', 'Rv2155c', 'Rv3372', 'Rv1712', 'Rv1336', 'Rv0306', 'Rv2397c', 'Rv1611', 'Rv3859c', 'Rv0889c', 'Rv2677c', 'Rv0069c', 'Rv2945c', 'Rv1238', 'Rv0408', 'Rv3276c', 'Rv2361c', 'Rv0510', 'Rv1569', 'Rv2610c', 'Rv0812', 'Rv2962c', 'Rv0649', 'Rv2381c', 'Rv2538c', 'Rv1872c', 'Rv3628', 'Rv0191', 'Rv2920c', 'Rv3777', 'Rv0808', 'Rv2447c', 'Rv2607', 'Rv2611c', 'Rv3790', 'Rv3147', 'Rv2380c', 'Rv2753c', 'Rv1323', 'Rv3255c', 'Rv2202c', 'Rv2443', 'Rv0247c', 'Rv1437', 'Rv3784', 'Rv0156', 'Rv1188', 'Rv0322', 'Rv2957', 'Rv0957', 'Rv3332', 'Rv0157', 'Rv3339c', 'Rv3809c', 'Rv2523c', 'Rv0468', 'Rv0936', 'Rv2501c', 'Rv3106', 'Rv0904c', 'Rv1878', 'Rv1451', 'Rv0794c', 'Rv1885c', 'Rv2524c', 'Rv2153c', 'Rv1606', 'Rv3432c', 'Rv0843', 'Rv0321', 'Rv2883c', 'Rv2334', 'Rv1315', 'Rv0819', 'Rv3667', 'Rv0809', 'Rv1596', 'Rv0084', 'Rv2066', 'Rv2391', 'Rv1319c', 'Rv1163', 'Rv2504c', 'Rv1239c', 'Rv3565', 'Rv2215', 'Rv2855', 'Rv0824c', 'Rv2537c', 'Rv1464', 'Rv2848c', 'Rv2225', 'Rv0070c', 'Rv2241', 'Rv1493', 'Rv1981c', 'Rv2503c', 'Rv2388c', 'Rv1092c', 'Rv1483', 'Rv0788', 'Rv0860']\n"
     ]
    },
    {
     "data": {
      "text/html": [
       "<div>\n",
       "<style scoped>\n",
       "    .dataframe tbody tr th:only-of-type {\n",
       "        vertical-align: middle;\n",
       "    }\n",
       "\n",
       "    .dataframe tbody tr th {\n",
       "        vertical-align: top;\n",
       "    }\n",
       "\n",
       "    .dataframe thead th {\n",
       "        text-align: right;\n",
       "    }\n",
       "</style>\n",
       "<table border=\"1\" class=\"dataframe\">\n",
       "  <thead>\n",
       "    <tr style=\"text-align: right;\">\n",
       "      <th></th>\n",
       "      <th>uniprot</th>\n",
       "      <th>reviewed</th>\n",
       "      <th>gene_name</th>\n",
       "      <th>kegg</th>\n",
       "      <th>refseq</th>\n",
       "      <th>pfam</th>\n",
       "      <th>description</th>\n",
       "      <th>entry_date</th>\n",
       "      <th>entry_version</th>\n",
       "      <th>seq_date</th>\n",
       "      <th>seq_version</th>\n",
       "      <th>sequence_file</th>\n",
       "      <th>metadata_file</th>\n",
       "    </tr>\n",
       "    <tr>\n",
       "      <th>gene</th>\n",
       "      <th></th>\n",
       "      <th></th>\n",
       "      <th></th>\n",
       "      <th></th>\n",
       "      <th></th>\n",
       "      <th></th>\n",
       "      <th></th>\n",
       "      <th></th>\n",
       "      <th></th>\n",
       "      <th></th>\n",
       "      <th></th>\n",
       "      <th></th>\n",
       "      <th></th>\n",
       "    </tr>\n",
       "  </thead>\n",
       "  <tbody>\n",
       "    <tr>\n",
       "      <th>Rv0618</th>\n",
       "      <td>Q79FY4</td>\n",
       "      <td>False</td>\n",
       "      <td>galTa</td>\n",
       "      <td>mtv:RVBD_0618</td>\n",
       "      <td>WP_003900189.1</td>\n",
       "      <td>PF01087</td>\n",
       "      <td>Probable galactose-1-phosphate uridylyltransfe...</td>\n",
       "      <td>2017-07-05</td>\n",
       "      <td>87</td>\n",
       "      <td>2004-07-05</td>\n",
       "      <td>1</td>\n",
       "      <td>Q79FY4.fasta</td>\n",
       "      <td>Q79FY4.xml</td>\n",
       "    </tr>\n",
       "    <tr>\n",
       "      <th>Rv0619</th>\n",
       "      <td>Q79FY3</td>\n",
       "      <td>False</td>\n",
       "      <td>galTb</td>\n",
       "      <td>NaN</td>\n",
       "      <td>NaN</td>\n",
       "      <td>PF02744</td>\n",
       "      <td>Probable galactose-1-phosphate uridylyltransfe...</td>\n",
       "      <td>2017-07-05</td>\n",
       "      <td>78</td>\n",
       "      <td>2004-07-05</td>\n",
       "      <td>1</td>\n",
       "      <td>Q79FY3.fasta</td>\n",
       "      <td>Q79FY3.xml</td>\n",
       "    </tr>\n",
       "    <tr>\n",
       "      <th>Rv1755c</th>\n",
       "      <td>P9WIA9</td>\n",
       "      <td>False</td>\n",
       "      <td>plcD</td>\n",
       "      <td>NaN</td>\n",
       "      <td>NaN</td>\n",
       "      <td>PF04185</td>\n",
       "      <td>Phospholipase C 4</td>\n",
       "      <td>2017-07-05</td>\n",
       "      <td>18</td>\n",
       "      <td>2014-04-16</td>\n",
       "      <td>1</td>\n",
       "      <td>P9WIA9.fasta</td>\n",
       "      <td>P9WIA9.xml</td>\n",
       "    </tr>\n",
       "    <tr>\n",
       "      <th>Rv2321c</th>\n",
       "      <td>P71891</td>\n",
       "      <td>False</td>\n",
       "      <td>rocD2</td>\n",
       "      <td>mtv:RVBD_2321c</td>\n",
       "      <td>WP_003411956.1</td>\n",
       "      <td>PF00202</td>\n",
       "      <td>Probable ornithine aminotransferase (C-terminu...</td>\n",
       "      <td>2017-07-05</td>\n",
       "      <td>116</td>\n",
       "      <td>1997-02-01</td>\n",
       "      <td>1</td>\n",
       "      <td>P71891.fasta</td>\n",
       "      <td>P71891.xml</td>\n",
       "    </tr>\n",
       "    <tr>\n",
       "      <th>Rv2322c</th>\n",
       "      <td>P71890</td>\n",
       "      <td>False</td>\n",
       "      <td>rocD1</td>\n",
       "      <td>mtv:RVBD_2322c</td>\n",
       "      <td>WP_003411957.1</td>\n",
       "      <td>PF00202</td>\n",
       "      <td>Probable ornithine aminotransferase (N-terminu...</td>\n",
       "      <td>2017-06-07</td>\n",
       "      <td>117</td>\n",
       "      <td>1997-02-01</td>\n",
       "      <td>1</td>\n",
       "      <td>P71890.fasta</td>\n",
       "      <td>P71890.xml</td>\n",
       "    </tr>\n",
       "  </tbody>\n",
       "</table>\n",
       "</div>"
      ],
      "text/plain": [
       "        uniprot  reviewed gene_name            kegg          refseq     pfam  \\\n",
       "gene                                                                           \n",
       "Rv0618   Q79FY4     False     galTa   mtv:RVBD_0618  WP_003900189.1  PF01087   \n",
       "Rv0619   Q79FY3     False     galTb             NaN             NaN  PF02744   \n",
       "Rv1755c  P9WIA9     False      plcD             NaN             NaN  PF04185   \n",
       "Rv2321c  P71891     False     rocD2  mtv:RVBD_2321c  WP_003411956.1  PF00202   \n",
       "Rv2322c  P71890     False     rocD1  mtv:RVBD_2322c  WP_003411957.1  PF00202   \n",
       "\n",
       "                                               description  entry_date  \\\n",
       "gene                                                                     \n",
       "Rv0618   Probable galactose-1-phosphate uridylyltransfe...  2017-07-05   \n",
       "Rv0619   Probable galactose-1-phosphate uridylyltransfe...  2017-07-05   \n",
       "Rv1755c                                  Phospholipase C 4  2017-07-05   \n",
       "Rv2321c  Probable ornithine aminotransferase (C-terminu...  2017-07-05   \n",
       "Rv2322c  Probable ornithine aminotransferase (N-terminu...  2017-06-07   \n",
       "\n",
       "         entry_version    seq_date  seq_version sequence_file metadata_file  \n",
       "gene                                                                         \n",
       "Rv0618              87  2004-07-05            1  Q79FY4.fasta    Q79FY4.xml  \n",
       "Rv0619              78  2004-07-05            1  Q79FY3.fasta    Q79FY3.xml  \n",
       "Rv1755c             18  2014-04-16            1  P9WIA9.fasta    P9WIA9.xml  \n",
       "Rv2321c            116  1997-02-01            1  P71891.fasta    P71891.xml  \n",
       "Rv2322c            117  1997-02-01            1  P71890.fasta    P71890.xml  "
      ]
     },
     "execution_count": 11,
     "metadata": {},
     "output_type": "execute_result"
    }
   ],
   "source": [
    "# UniProt mapping\n",
    "my_gempro.uniprot_mapping_and_metadata(model_gene_source='TUBERCULIST_ID')\n",
    "print('Missing UniProt mapping: ', my_gempro.missing_uniprot_mapping)\n",
    "my_gempro.df_uniprot_metadata.head()"
   ]
  },
  {
   "cell_type": "raw",
   "metadata": {
    "raw_mimetype": "text/restructuredtext"
   },
   "source": [
    ".. automethod:: ssbio.pipeline.gempro.GEMPRO.set_representative_sequence\n",
    "    :noindex:"
   ]
  },
  {
   "cell_type": "markdown",
   "metadata": {},
   "source": [
    "If you have mapped with both KEGG and UniProt mappers, then you can set a representative sequence for the gene using this function. If you used just one, this will just set that ID as representative.\n",
    "\n",
    "- If any sequences or IDs were provided manually, these will be set as representative first.\n",
    "- UniProt mappings override KEGG mappings except when KEGG mappings have PDBs associated with them and UniProt doesn't."
   ]
  },
  {
   "cell_type": "code",
   "execution_count": 12,
   "metadata": {
    "nbpresent": {
     "id": "a508fbba-7418-4334-ad6a-adb00f16a49a"
    }
   },
   "outputs": [
    {
     "data": {
      "application/vnd.jupyter.widget-view+json": {
       "model_id": "ef85f49a865f4db5b11fa89478d058b3",
       "version_major": 2,
       "version_minor": 0
      },
      "text/plain": [
       "A Jupyter Widget"
      ]
     },
     "metadata": {},
     "output_type": "display_data"
    },
    {
     "name": "stdout",
     "output_type": "stream",
     "text": [
      "\n"
     ]
    },
    {
     "name": "stderr",
     "output_type": "stream",
     "text": [
      "[2018-02-05 18:15] [ssbio.pipeline.gempro] INFO: 661/661: number of genes with a representative sequence\n",
      "[2018-02-05 18:15] [ssbio.pipeline.gempro] INFO: See the \"df_representative_sequences\" attribute for a summary dataframe.\n"
     ]
    },
    {
     "name": "stdout",
     "output_type": "stream",
     "text": [
      "Missing a representative sequence:  []\n"
     ]
    },
    {
     "data": {
      "text/html": [
       "<div>\n",
       "<style scoped>\n",
       "    .dataframe tbody tr th:only-of-type {\n",
       "        vertical-align: middle;\n",
       "    }\n",
       "\n",
       "    .dataframe tbody tr th {\n",
       "        vertical-align: top;\n",
       "    }\n",
       "\n",
       "    .dataframe thead th {\n",
       "        text-align: right;\n",
       "    }\n",
       "</style>\n",
       "<table border=\"1\" class=\"dataframe\">\n",
       "  <thead>\n",
       "    <tr style=\"text-align: right;\">\n",
       "      <th></th>\n",
       "      <th>uniprot</th>\n",
       "      <th>kegg</th>\n",
       "      <th>pdbs</th>\n",
       "      <th>sequence_file</th>\n",
       "      <th>metadata_file</th>\n",
       "    </tr>\n",
       "    <tr>\n",
       "      <th>gene</th>\n",
       "      <th></th>\n",
       "      <th></th>\n",
       "      <th></th>\n",
       "      <th></th>\n",
       "      <th></th>\n",
       "    </tr>\n",
       "  </thead>\n",
       "  <tbody>\n",
       "    <tr>\n",
       "      <th>Rv0013</th>\n",
       "      <td>I6WX77</td>\n",
       "      <td>mtu:Rv0013</td>\n",
       "      <td>NaN</td>\n",
       "      <td>mtu-Rv0013.faa</td>\n",
       "      <td>mtu-Rv0013.kegg</td>\n",
       "    </tr>\n",
       "    <tr>\n",
       "      <th>Rv0032</th>\n",
       "      <td>I6Y6Q7</td>\n",
       "      <td>mtu:Rv0032</td>\n",
       "      <td>NaN</td>\n",
       "      <td>mtu-Rv0032.faa</td>\n",
       "      <td>mtu-Rv0032.kegg</td>\n",
       "    </tr>\n",
       "    <tr>\n",
       "      <th>Rv0046c</th>\n",
       "      <td>I6X8D3</td>\n",
       "      <td>mtu:Rv0046c</td>\n",
       "      <td>1GR0</td>\n",
       "      <td>mtu-Rv0046c.faa</td>\n",
       "      <td>mtu-Rv0046c.kegg</td>\n",
       "    </tr>\n",
       "    <tr>\n",
       "      <th>Rv0066c</th>\n",
       "      <td>L0T2B7</td>\n",
       "      <td>mtu:Rv0066c</td>\n",
       "      <td>NaN</td>\n",
       "      <td>mtu-Rv0066c.faa</td>\n",
       "      <td>mtu-Rv0066c.kegg</td>\n",
       "    </tr>\n",
       "    <tr>\n",
       "      <th>Rv0069c</th>\n",
       "      <td>A0A089S0Y8</td>\n",
       "      <td>mtu:Rv0069c</td>\n",
       "      <td>NaN</td>\n",
       "      <td>mtu-Rv0069c.faa</td>\n",
       "      <td>mtu-Rv0069c.kegg</td>\n",
       "    </tr>\n",
       "  </tbody>\n",
       "</table>\n",
       "</div>"
      ],
      "text/plain": [
       "            uniprot         kegg  pdbs    sequence_file     metadata_file\n",
       "gene                                                                     \n",
       "Rv0013       I6WX77   mtu:Rv0013   NaN   mtu-Rv0013.faa   mtu-Rv0013.kegg\n",
       "Rv0032       I6Y6Q7   mtu:Rv0032   NaN   mtu-Rv0032.faa   mtu-Rv0032.kegg\n",
       "Rv0046c      I6X8D3  mtu:Rv0046c  1GR0  mtu-Rv0046c.faa  mtu-Rv0046c.kegg\n",
       "Rv0066c      L0T2B7  mtu:Rv0066c   NaN  mtu-Rv0066c.faa  mtu-Rv0066c.kegg\n",
       "Rv0069c  A0A089S0Y8  mtu:Rv0069c   NaN  mtu-Rv0069c.faa  mtu-Rv0069c.kegg"
      ]
     },
     "execution_count": 12,
     "metadata": {},
     "output_type": "execute_result"
    }
   ],
   "source": [
    "# Set representative sequences\n",
    "my_gempro.set_representative_sequence()\n",
    "print('Missing a representative sequence: ', my_gempro.missing_representative_sequence)\n",
    "my_gempro.df_representative_sequences.head()"
   ]
  },
  {
   "cell_type": "markdown",
   "metadata": {
    "nbpresent": {
     "id": "062947e1-7b9d-42e3-8e43-44fa1ae43e53"
    }
   },
   "source": [
    "## Mapping representative sequence --> structure\n",
    "\n",
    "These are the ways to map sequence to structure:\n",
    "\n",
    "1. Use the UniProt ID and their automatic mappings to the PDB\n",
    "2. BLAST the sequence to the PDB\n",
    "3. Make homology models or \n",
    "4. Map to existing homology models\n",
    "\n",
    "You can only utilize option #1 to map to PDBs if there is a mapped UniProt ID set in the representative sequence. If not, you'll have to BLAST your sequence to the PDB or make a homology model. You can also run both for maximum coverage."
   ]
  },
  {
   "cell_type": "markdown",
   "metadata": {
    "nbpresent": {
     "id": "51c4e384-789c-4466-a349-29e92db9eca1"
    }
   },
   "source": [
    "### Methods"
   ]
  },
  {
   "cell_type": "raw",
   "metadata": {
    "raw_mimetype": "text/restructuredtext"
   },
   "source": [
    ".. automethod:: ssbio.pipeline.gempro.GEMPRO.map_uniprot_to_pdb\n",
    "    :noindex:"
   ]
  },
  {
   "cell_type": "code",
   "execution_count": 13,
   "metadata": {
    "nbpresent": {
     "id": "204a8365-9c43-4b31-b8a5-a1c3f42d7e5d"
    }
   },
   "outputs": [
    {
     "name": "stderr",
     "output_type": "stream",
     "text": [
      "[2018-02-05 18:15] [ssbio.pipeline.gempro] INFO: Mapping UniProt IDs --> PDB IDs...\n",
      "[2018-02-05 18:15] [root] INFO: getUserAgent: Begin\n",
      "[2018-02-05 18:15] [root] INFO: getUserAgent: user_agent: EBI-Sample-Client/ (services.py; Python 3.6.3; Linux) Python-requests/2.18.4\n",
      "[2018-02-05 18:15] [root] INFO: getUserAgent: End\n",
      "[2018-02-05 18:15] [root] WARNING: status is not ok with Bad Request\n",
      "[2018-02-05 18:15] [root] WARNING: Results seems empty...returning empty dictionary.\n"
     ]
    },
    {
     "data": {
      "application/vnd.jupyter.widget-view+json": {
       "model_id": "9b081e47eb1a443fa9da1cd8e8e89f1a",
       "version_major": 2,
       "version_minor": 0
      },
      "text/plain": [
       "A Jupyter Widget"
      ]
     },
     "metadata": {},
     "output_type": "display_data"
    },
    {
     "name": "stdout",
     "output_type": "stream",
     "text": [
      "\n"
     ]
    },
    {
     "name": "stderr",
     "output_type": "stream",
     "text": [
      "[2018-02-05 18:15] [ssbio.pipeline.gempro] INFO: 0/661: number of genes with at least one experimental structure\n",
      "[2018-02-05 18:15] [ssbio.pipeline.gempro] INFO: Completed UniProt --> best PDB mapping. See the \"df_pdb_ranking\" attribute for a summary dataframe.\n",
      "[2018-02-05 18:15] [ssbio.pipeline.gempro] WARNING: Empty dataframe\n"
     ]
    },
    {
     "data": {
      "text/html": [
       "<div>\n",
       "<style scoped>\n",
       "    .dataframe tbody tr th:only-of-type {\n",
       "        vertical-align: middle;\n",
       "    }\n",
       "\n",
       "    .dataframe tbody tr th {\n",
       "        vertical-align: top;\n",
       "    }\n",
       "\n",
       "    .dataframe thead th {\n",
       "        text-align: right;\n",
       "    }\n",
       "</style>\n",
       "<table border=\"1\" class=\"dataframe\">\n",
       "  <thead>\n",
       "    <tr style=\"text-align: right;\">\n",
       "      <th></th>\n",
       "    </tr>\n",
       "  </thead>\n",
       "  <tbody>\n",
       "  </tbody>\n",
       "</table>\n",
       "</div>"
      ],
      "text/plain": [
       "Empty DataFrame\n",
       "Columns: []\n",
       "Index: []"
      ]
     },
     "execution_count": 13,
     "metadata": {},
     "output_type": "execute_result"
    }
   ],
   "source": [
    "# Mapping using the PDBe best_structures service\n",
    "my_gempro.map_uniprot_to_pdb(seq_ident_cutoff=.3)\n",
    "my_gempro.df_pdb_ranking.head()"
   ]
  },
  {
   "cell_type": "raw",
   "metadata": {
    "raw_mimetype": "text/restructuredtext"
   },
   "source": [
    ".. automethod:: ssbio.pipeline.gempro.GEMPRO.blast_seqs_to_pdb\n",
    "    :noindex:"
   ]
  },
  {
   "cell_type": "code",
   "execution_count": 14,
   "metadata": {
    "nbpresent": {
     "id": "7988f6de-2c28-48cf-8bf4-854c18f6cce0"
    }
   },
   "outputs": [
    {
     "data": {
      "application/vnd.jupyter.widget-view+json": {
       "model_id": "3576ec3f8b0c47f2b43347b4804818f2",
       "version_major": 2,
       "version_minor": 0
      },
      "text/plain": [
       "A Jupyter Widget"
      ]
     },
     "metadata": {},
     "output_type": "display_data"
    },
    {
     "name": "stdout",
     "output_type": "stream",
     "text": [
      "\n"
     ]
    },
    {
     "name": "stderr",
     "output_type": "stream",
     "text": [
      "[2018-02-05 18:15] [ssbio.pipeline.gempro] INFO: Completed sequence --> PDB BLAST. See the \"df_pdb_blast\" attribute for a summary dataframe.\n",
      "[2018-02-05 18:15] [ssbio.pipeline.gempro] INFO: 141: number of genes with additional structures added from BLAST\n"
     ]
    },
    {
     "data": {
      "text/html": [
       "<div>\n",
       "<style scoped>\n",
       "    .dataframe tbody tr th:only-of-type {\n",
       "        vertical-align: middle;\n",
       "    }\n",
       "\n",
       "    .dataframe tbody tr th {\n",
       "        vertical-align: top;\n",
       "    }\n",
       "\n",
       "    .dataframe thead th {\n",
       "        text-align: right;\n",
       "    }\n",
       "</style>\n",
       "<table border=\"1\" class=\"dataframe\">\n",
       "  <thead>\n",
       "    <tr style=\"text-align: right;\">\n",
       "      <th></th>\n",
       "      <th>pdb_id</th>\n",
       "      <th>pdb_chain_id</th>\n",
       "      <th>hit_score</th>\n",
       "      <th>hit_evalue</th>\n",
       "      <th>hit_percent_similar</th>\n",
       "      <th>hit_percent_ident</th>\n",
       "      <th>hit_num_ident</th>\n",
       "      <th>hit_num_similar</th>\n",
       "    </tr>\n",
       "    <tr>\n",
       "      <th>gene</th>\n",
       "      <th></th>\n",
       "      <th></th>\n",
       "      <th></th>\n",
       "      <th></th>\n",
       "      <th></th>\n",
       "      <th></th>\n",
       "      <th></th>\n",
       "      <th></th>\n",
       "    </tr>\n",
       "  </thead>\n",
       "  <tbody>\n",
       "    <tr>\n",
       "      <th>Rv0046c</th>\n",
       "      <td>1gr0</td>\n",
       "      <td>A</td>\n",
       "      <td>1861.0</td>\n",
       "      <td>0.0</td>\n",
       "      <td>1.000000</td>\n",
       "      <td>1.000000</td>\n",
       "      <td>367</td>\n",
       "      <td>367</td>\n",
       "    </tr>\n",
       "    <tr>\n",
       "      <th>Rv0066c</th>\n",
       "      <td>5kvu</td>\n",
       "      <td>D</td>\n",
       "      <td>3828.0</td>\n",
       "      <td>0.0</td>\n",
       "      <td>0.981208</td>\n",
       "      <td>0.981208</td>\n",
       "      <td>731</td>\n",
       "      <td>731</td>\n",
       "    </tr>\n",
       "  </tbody>\n",
       "</table>\n",
       "</div>"
      ],
      "text/plain": [
       "        pdb_id pdb_chain_id  hit_score  hit_evalue  hit_percent_similar  \\\n",
       "gene                                                                      \n",
       "Rv0046c   1gr0            A     1861.0         0.0             1.000000   \n",
       "Rv0066c   5kvu            D     3828.0         0.0             0.981208   \n",
       "\n",
       "         hit_percent_ident  hit_num_ident  hit_num_similar  \n",
       "gene                                                        \n",
       "Rv0046c           1.000000            367              367  \n",
       "Rv0066c           0.981208            731              731  "
      ]
     },
     "execution_count": 14,
     "metadata": {},
     "output_type": "execute_result"
    }
   ],
   "source": [
    "# Mapping using BLAST\n",
    "my_gempro.blast_seqs_to_pdb(all_genes=True, seq_ident_cutoff=.9, evalue=0.00001)\n",
    "my_gempro.df_pdb_blast.head(2)"
   ]
  },
  {
   "cell_type": "raw",
   "metadata": {
    "raw_mimetype": "text/restructuredtext"
   },
   "source": [
    ".. automethod:: ssbio.pipeline.gempro.GEMPRO.get_itasser_models\n",
    "    :noindex:"
   ]
  },
  {
   "cell_type": "code",
   "execution_count": 15,
   "metadata": {
    "nbpresent": {
     "id": "671863d8-b302-43d6-90a0-b9938a1400db"
    }
   },
   "outputs": [
    {
     "data": {
      "application/vnd.jupyter.widget-view+json": {
       "model_id": "93cac2ceb2f64c05832fcd1c4b674396",
       "version_major": 2,
       "version_minor": 0
      },
      "text/plain": [
       "A Jupyter Widget"
      ]
     },
     "metadata": {},
     "output_type": "display_data"
    },
    {
     "name": "stdout",
     "output_type": "stream",
     "text": [
      "\n"
     ]
    },
    {
     "name": "stderr",
     "output_type": "stream",
     "text": [
      "[2018-02-05 18:16] [ssbio.pipeline.gempro] INFO: Completed copying of 435 I-TASSER models to GEM-PRO directory. See the \"df_homology_models\" attribute for a summary dataframe.\n"
     ]
    },
    {
     "data": {
      "application/vnd.jupyter.widget-view+json": {
       "model_id": "c1c110baf9e84f01816a9758a97a04c1",
       "version_major": 2,
       "version_minor": 0
      },
      "text/plain": [
       "A Jupyter Widget"
      ]
     },
     "metadata": {},
     "output_type": "display_data"
    },
    {
     "name": "stdout",
     "output_type": "stream",
     "text": [
      "\n"
     ]
    },
    {
     "name": "stderr",
     "output_type": "stream",
     "text": [
      "[2018-02-05 18:16] [ssbio.pipeline.gempro] INFO: Completed copying of 9 I-TASSER models to GEM-PRO directory. See the \"df_homology_models\" attribute for a summary dataframe.\n"
     ]
    },
    {
     "data": {
      "text/html": [
       "<div>\n",
       "<style scoped>\n",
       "    .dataframe tbody tr th:only-of-type {\n",
       "        vertical-align: middle;\n",
       "    }\n",
       "\n",
       "    .dataframe tbody tr th {\n",
       "        vertical-align: top;\n",
       "    }\n",
       "\n",
       "    .dataframe thead th {\n",
       "        text-align: right;\n",
       "    }\n",
       "</style>\n",
       "<table border=\"1\" class=\"dataframe\">\n",
       "  <thead>\n",
       "    <tr style=\"text-align: right;\">\n",
       "      <th></th>\n",
       "      <th>id</th>\n",
       "      <th>structure_file</th>\n",
       "      <th>model_date</th>\n",
       "      <th>difficulty</th>\n",
       "      <th>top_template_pdb</th>\n",
       "      <th>top_template_chain</th>\n",
       "      <th>c_score</th>\n",
       "      <th>tm_score</th>\n",
       "      <th>tm_score_err</th>\n",
       "      <th>rmsd</th>\n",
       "      <th>rmsd_err</th>\n",
       "    </tr>\n",
       "    <tr>\n",
       "      <th>gene</th>\n",
       "      <th></th>\n",
       "      <th></th>\n",
       "      <th></th>\n",
       "      <th></th>\n",
       "      <th></th>\n",
       "      <th></th>\n",
       "      <th></th>\n",
       "      <th></th>\n",
       "      <th></th>\n",
       "      <th></th>\n",
       "      <th></th>\n",
       "    </tr>\n",
       "  </thead>\n",
       "  <tbody>\n",
       "    <tr>\n",
       "      <th>Rv0013</th>\n",
       "      <td>P9WN35</td>\n",
       "      <td>P9WN35_model1.pdb</td>\n",
       "      <td>2018-02-06</td>\n",
       "      <td>easy</td>\n",
       "      <td>1i7s</td>\n",
       "      <td>B</td>\n",
       "      <td>-0.53</td>\n",
       "      <td>0.65</td>\n",
       "      <td>0.13</td>\n",
       "      <td>6.8</td>\n",
       "      <td>4.0</td>\n",
       "    </tr>\n",
       "    <tr>\n",
       "      <th>Rv0032</th>\n",
       "      <td>P9WQ85</td>\n",
       "      <td>P9WQ85_model1.pdb</td>\n",
       "      <td>2018-02-06</td>\n",
       "      <td>easy</td>\n",
       "      <td>3a2b</td>\n",
       "      <td>A</td>\n",
       "      <td>-2.89</td>\n",
       "      <td>0.39</td>\n",
       "      <td>0.13</td>\n",
       "      <td>15.7</td>\n",
       "      <td>3.3</td>\n",
       "    </tr>\n",
       "    <tr>\n",
       "      <th>Rv0066c</th>\n",
       "      <td>O53611</td>\n",
       "      <td>O53611_model1.pdb</td>\n",
       "      <td>2018-02-06</td>\n",
       "      <td>easy</td>\n",
       "      <td>1itw</td>\n",
       "      <td>A</td>\n",
       "      <td>1.91</td>\n",
       "      <td>0.99</td>\n",
       "      <td>0.04</td>\n",
       "      <td>4.1</td>\n",
       "      <td>2.8</td>\n",
       "    </tr>\n",
       "    <tr>\n",
       "      <th>Rv0069c</th>\n",
       "      <td>P9WGT5</td>\n",
       "      <td>P9WGT5_model1.pdb</td>\n",
       "      <td>2018-02-06</td>\n",
       "      <td>easy</td>\n",
       "      <td>4rqo</td>\n",
       "      <td>A</td>\n",
       "      <td>1.18</td>\n",
       "      <td>0.88</td>\n",
       "      <td>0.07</td>\n",
       "      <td>4.6</td>\n",
       "      <td>3.0</td>\n",
       "    </tr>\n",
       "    <tr>\n",
       "      <th>Rv0070c</th>\n",
       "      <td>P9WGI7</td>\n",
       "      <td>P9WGI7_model1.pdb</td>\n",
       "      <td>2018-02-06</td>\n",
       "      <td>easy</td>\n",
       "      <td>3h7f</td>\n",
       "      <td>B</td>\n",
       "      <td>1.80</td>\n",
       "      <td>0.97</td>\n",
       "      <td>0.05</td>\n",
       "      <td>3.3</td>\n",
       "      <td>2.3</td>\n",
       "    </tr>\n",
       "  </tbody>\n",
       "</table>\n",
       "</div>"
      ],
      "text/plain": [
       "             id     structure_file  model_date difficulty top_template_pdb  \\\n",
       "gene                                                                         \n",
       "Rv0013   P9WN35  P9WN35_model1.pdb  2018-02-06       easy             1i7s   \n",
       "Rv0032   P9WQ85  P9WQ85_model1.pdb  2018-02-06       easy             3a2b   \n",
       "Rv0066c  O53611  O53611_model1.pdb  2018-02-06       easy             1itw   \n",
       "Rv0069c  P9WGT5  P9WGT5_model1.pdb  2018-02-06       easy             4rqo   \n",
       "Rv0070c  P9WGI7  P9WGI7_model1.pdb  2018-02-06       easy             3h7f   \n",
       "\n",
       "        top_template_chain  c_score  tm_score  tm_score_err  rmsd  rmsd_err  \n",
       "gene                                                                         \n",
       "Rv0013                   B    -0.53      0.65          0.13   6.8       4.0  \n",
       "Rv0032                   A    -2.89      0.39          0.13  15.7       3.3  \n",
       "Rv0066c                  A     1.91      0.99          0.04   4.1       2.8  \n",
       "Rv0069c                  A     1.18      0.88          0.07   4.6       3.0  \n",
       "Rv0070c                  B     1.80      0.97          0.05   3.3       2.3  "
      ]
     },
     "execution_count": 15,
     "metadata": {},
     "output_type": "execute_result"
    }
   ],
   "source": [
    "tb_homology_dir = '/home/nathan/projects_archive/homology_models/MTUBERCULOSIS/'\n",
    "\n",
    "##### EXAMPLE SPECIFIC CODE #####\n",
    "# Needed to map to older IDs used in this example\n",
    "import pandas as pd\n",
    "import os.path as op\n",
    "old_gene_to_homology = pd.read_csv(op.join(tb_homology_dir, 'data/161031-old_gene_to_uniprot_mapping.csv'))\n",
    "gene_to_uniprot = old_gene_to_homology.set_index('m_gene').to_dict()['u_uniprot_acc']\n",
    "my_gempro.get_itasser_models(homology_raw_dir=op.join(tb_homology_dir, 'raw'), custom_itasser_name_mapping=gene_to_uniprot)\n",
    "### END EXAMPLE SPECIFIC CODE ###\n",
    "\n",
    "# Organizing I-TASSER homology models\n",
    "my_gempro.get_itasser_models(homology_raw_dir=op.join(tb_homology_dir, 'raw'))\n",
    "my_gempro.df_homology_models.head()"
   ]
  },
  {
   "cell_type": "raw",
   "metadata": {
    "raw_mimetype": "text/restructuredtext"
   },
   "source": [
    ".. automethod:: ssbio.pipeline.gempro.GEMPRO.get_manual_homology_models\n",
    "    :noindex:"
   ]
  },
  {
   "cell_type": "code",
   "execution_count": 16,
   "metadata": {
    "nbpresent": {
     "id": "5c6b6ada-6634-4fb6-ad00-fe28ba29bc25"
    }
   },
   "outputs": [
    {
     "data": {
      "application/vnd.jupyter.widget-view+json": {
       "model_id": "6e159573a9d742a3b1d0dda5535f3612",
       "version_major": 2,
       "version_minor": 0
      },
      "text/plain": [
       "A Jupyter Widget"
      ]
     },
     "metadata": {},
     "output_type": "display_data"
    },
    {
     "name": "stdout",
     "output_type": "stream",
     "text": [
      "\n"
     ]
    },
    {
     "name": "stderr",
     "output_type": "stream",
     "text": [
      "[2018-02-05 18:16] [ssbio.pipeline.gempro] INFO: Updated homology model information for 0 genes.\n"
     ]
    }
   ],
   "source": [
    "homology_model_dict = {}\n",
    "my_gempro.get_manual_homology_models(homology_model_dict)"
   ]
  },
  {
   "cell_type": "markdown",
   "metadata": {
    "nbpresent": {
     "id": "6d3ecdf6-3b29-40fa-93e0-70160ba5bb76"
    }
   },
   "source": [
    "## Downloading and ranking structures"
   ]
  },
  {
   "cell_type": "markdown",
   "metadata": {
    "nbpresent": {
     "id": "f9ad45d6-b7da-4663-a3c4-fd44571b5107"
    }
   },
   "source": [
    "### Methods"
   ]
  },
  {
   "cell_type": "raw",
   "metadata": {
    "raw_mimetype": "text/restructuredtext"
   },
   "source": [
    ".. automethod:: ssbio.pipeline.gempro.GEMPRO.download_all_pdbs\n",
    "    :noindex:"
   ]
  },
  {
   "cell_type": "markdown",
   "metadata": {},
   "source": [
    "<div class=\"alert alert-warning\">\n",
    "\n",
    "**Warning:** \n",
    "Downloading all PDBs takes a while, since they are also parsed for metadata. You can skip this step and just set representative structures below if you want to minimize the number of PDBs downloaded.\n",
    "\n",
    "</div>"
   ]
  },
  {
   "cell_type": "code",
   "execution_count": null,
   "metadata": {
    "collapsed": true,
    "nbpresent": {
     "id": "ebd6dbf0-caae-44df-97ca-3e9645fe0918"
    }
   },
   "outputs": [],
   "source": [
    "# Download all mapped PDBs and gather the metadata\n",
    "my_gempro.download_all_pdbs()\n",
    "my_gempro.df_pdb_metadata.head(2)"
   ]
  },
  {
   "cell_type": "raw",
   "metadata": {
    "raw_mimetype": "text/restructuredtext"
   },
   "source": [
    ".. automethod:: ssbio.pipeline.gempro.GEMPRO.set_representative_structure\n",
    "    :noindex:"
   ]
  },
  {
   "cell_type": "code",
   "execution_count": 17,
   "metadata": {
    "nbpresent": {
     "id": "b8b3ad50-18bd-4999-ac3f-a50826b49a99"
    }
   },
   "outputs": [
    {
     "data": {
      "application/vnd.jupyter.widget-view+json": {
       "model_id": "d45279ef9ff54c949a6b3165837dfa39",
       "version_major": 2,
       "version_minor": 0
      },
      "text/plain": [
       "A Jupyter Widget"
      ]
     },
     "metadata": {},
     "output_type": "display_data"
    },
    {
     "name": "stderr",
     "output_type": "stream",
     "text": [
      "[2018-02-05 18:16] [ssbio.core.protein] WARNING: Rv0234c: no structures meet quality checks\n",
      "[2018-02-05 18:16] [ssbio.core.protein] WARNING: Rv0505c: no structures meet quality checks\n",
      "[2018-02-05 18:17] [ssbio.core.protein] WARNING: Rv2987c: no structures meet quality checks\n",
      "[2018-02-05 18:18] [ssbio.core.protein] WARNING: Rv2498c: no structures meet quality checks\n",
      "[2018-02-05 18:18] [ssbio.core.protein] WARNING: Rv3601c: no structures meet quality checks\n"
     ]
    },
    {
     "name": "stdout",
     "output_type": "stream",
     "text": [
      "\n"
     ]
    },
    {
     "name": "stderr",
     "output_type": "stream",
     "text": [
      "[2018-02-05 18:18] [ssbio.pipeline.gempro] INFO: 553/661: number of genes with a representative structure\n",
      "[2018-02-05 18:18] [ssbio.pipeline.gempro] INFO: See the \"df_representative_structures\" attribute for a summary dataframe.\n"
     ]
    },
    {
     "data": {
      "text/html": [
       "<div>\n",
       "<style scoped>\n",
       "    .dataframe tbody tr th:only-of-type {\n",
       "        vertical-align: middle;\n",
       "    }\n",
       "\n",
       "    .dataframe tbody tr th {\n",
       "        vertical-align: top;\n",
       "    }\n",
       "\n",
       "    .dataframe thead th {\n",
       "        text-align: right;\n",
       "    }\n",
       "</style>\n",
       "<table border=\"1\" class=\"dataframe\">\n",
       "  <thead>\n",
       "    <tr style=\"text-align: right;\">\n",
       "      <th></th>\n",
       "      <th>id</th>\n",
       "      <th>is_experimental</th>\n",
       "      <th>file_type</th>\n",
       "      <th>structure_file</th>\n",
       "    </tr>\n",
       "    <tr>\n",
       "      <th>gene</th>\n",
       "      <th></th>\n",
       "      <th></th>\n",
       "      <th></th>\n",
       "      <th></th>\n",
       "    </tr>\n",
       "  </thead>\n",
       "  <tbody>\n",
       "    <tr>\n",
       "      <th>Rv0013</th>\n",
       "      <td>REP-P9WN35</td>\n",
       "      <td>False</td>\n",
       "      <td>pdb</td>\n",
       "      <td>P9WN35_model1-X_clean.pdb</td>\n",
       "    </tr>\n",
       "    <tr>\n",
       "      <th>Rv0032</th>\n",
       "      <td>REP-P9WQ85</td>\n",
       "      <td>False</td>\n",
       "      <td>pdb</td>\n",
       "      <td>P9WQ85_model1-X_clean.pdb</td>\n",
       "    </tr>\n",
       "    <tr>\n",
       "      <th>Rv0046c</th>\n",
       "      <td>REP-1gr0</td>\n",
       "      <td>True</td>\n",
       "      <td>pdb</td>\n",
       "      <td>1gr0-A_clean.pdb</td>\n",
       "    </tr>\n",
       "    <tr>\n",
       "      <th>Rv0066c</th>\n",
       "      <td>REP-5kvu</td>\n",
       "      <td>True</td>\n",
       "      <td>pdb</td>\n",
       "      <td>5kvu-A_clean.pdb</td>\n",
       "    </tr>\n",
       "    <tr>\n",
       "      <th>Rv0069c</th>\n",
       "      <td>REP-P9WGT5</td>\n",
       "      <td>False</td>\n",
       "      <td>pdb</td>\n",
       "      <td>P9WGT5_model1-X_clean.pdb</td>\n",
       "    </tr>\n",
       "  </tbody>\n",
       "</table>\n",
       "</div>"
      ],
      "text/plain": [
       "                 id  is_experimental file_type             structure_file\n",
       "gene                                                                     \n",
       "Rv0013   REP-P9WN35            False       pdb  P9WN35_model1-X_clean.pdb\n",
       "Rv0032   REP-P9WQ85            False       pdb  P9WQ85_model1-X_clean.pdb\n",
       "Rv0046c    REP-1gr0             True       pdb           1gr0-A_clean.pdb\n",
       "Rv0066c    REP-5kvu             True       pdb           5kvu-A_clean.pdb\n",
       "Rv0069c  REP-P9WGT5            False       pdb  P9WGT5_model1-X_clean.pdb"
      ]
     },
     "execution_count": 17,
     "metadata": {},
     "output_type": "execute_result"
    }
   ],
   "source": [
    "# Set representative structures\n",
    "my_gempro.set_representative_structure()\n",
    "my_gempro.df_representative_structures.head()"
   ]
  },
  {
   "cell_type": "code",
   "execution_count": 18,
   "metadata": {
    "nbpresent": {
     "id": "1e804448-b945-4a58-8dd2-a75f96bb2870"
    }
   },
   "outputs": [
    {
     "data": {
      "text/plain": [
       "<StructProp REP-2d1f at 0x7fdec937e4a8>"
      ]
     },
     "execution_count": 18,
     "metadata": {},
     "output_type": "execute_result"
    },
    {
     "data": {
      "text/plain": [
       "{'_structure_dir': '/tmp/mtuberculosis_gp/genes/Rv1295/Rv1295_protein/structures',\n",
       " 'chains': [<ChainProp A at 0x7fdec8655630>],\n",
       " 'date': None,\n",
       " 'description': 'Threonine synthase (E.C.4.2.3.1)',\n",
       " 'file_type': 'pdb',\n",
       " 'id': 'REP-2d1f',\n",
       " 'is_experimental': True,\n",
       " 'mapped_chains': ['A'],\n",
       " 'notes': {},\n",
       " 'original_structure_id': '2d1f',\n",
       " 'resolution': 2.5,\n",
       " 'structure_file': '2d1f-A_clean.pdb',\n",
       " 'taxonomy_name': 'Mycobacterium tuberculosis'}"
      ]
     },
     "execution_count": 18,
     "metadata": {},
     "output_type": "execute_result"
    }
   ],
   "source": [
    "# Looking at the information saved within a gene\n",
    "my_gempro.genes.get_by_id('Rv1295').protein.representative_structure\n",
    "my_gempro.genes.get_by_id('Rv1295').protein.representative_structure.get_dict()"
   ]
  },
  {
   "cell_type": "markdown",
   "metadata": {
    "nbpresent": {
     "id": "a27b6df9-075d-421d-8071-6c074e1c5fd1"
    }
   },
   "source": [
    "## Creating homology models"
   ]
  },
  {
   "cell_type": "markdown",
   "metadata": {
    "nbpresent": {
     "id": "ef4bbfe9-7d0b-4fbb-94b9-1ab348dcfab8"
    }
   },
   "source": [
    "For those proteins with no representative structure, we can create homology models for them. `ssbio` contains some built in functions for easily running [I-TASSER](http://zhanglab.ccmb.med.umich.edu/I-TASSER/download/) locally or on machines with `SLURM` (ie. on NERSC) or `Torque` job scheduling.\n",
    "\n",
    "You can load in I-TASSER models once they complete using the `get_itasser_models` later.\n",
    "\n",
    "<p><div class=\"alert alert-info\">**Info:** Homology modeling can take a long time - about 24-72 hours per protein (highly dependent on the sequence length, as well as if there are available templates).</div></p>"
   ]
  },
  {
   "cell_type": "markdown",
   "metadata": {
    "nbpresent": {
     "id": "521da19c-361a-479f-8246-f07ccfacd78d"
    }
   },
   "source": [
    "### Methods"
   ]
  },
  {
   "cell_type": "raw",
   "metadata": {
    "raw_mimetype": "text/restructuredtext"
   },
   "source": [
    ".. automethod:: ssbio.pipeline.gempro.GEMPRO.prep_itasser_models\n",
    "    :noindex:"
   ]
  },
  {
   "cell_type": "code",
   "execution_count": 19,
   "metadata": {
    "nbpresent": {
     "id": "2a341eb6-9fb1-4381-8f45-fb452a0339a0"
    }
   },
   "outputs": [
    {
     "name": "stderr",
     "output_type": "stream",
     "text": [
      "[2018-02-05 18:18] [ssbio.protein.structure.homology.itasser.itasserprep] WARNING: Rv2934: I-TASSER modeling will not run as sequence length (1827) is not in the range [10, 1500]\n",
      "[2018-02-05 18:18] [ssbio.protein.structure.homology.itasser.itasserprep] WARNING: Rv2932: I-TASSER modeling will not run as sequence length (1538) is not in the range [10, 1500]\n",
      "[2018-02-05 18:18] [ssbio.protein.structure.homology.itasser.itasserprep] WARNING: Rv2933: I-TASSER modeling will not run as sequence length (2188) is not in the range [10, 1500]\n",
      "[2018-02-05 18:18] [ssbio.protein.structure.homology.itasser.itasserprep] WARNING: Rv2931: I-TASSER modeling will not run as sequence length (1876) is not in the range [10, 1500]\n",
      "[2018-02-05 18:18] [ssbio.protein.structure.homology.itasser.itasserprep] WARNING: Rv2380c: I-TASSER modeling will not run as sequence length (1682) is not in the range [10, 1500]\n",
      "[2018-02-05 18:18] [ssbio.protein.structure.homology.itasser.itasserprep] WARNING: Rv3859c: I-TASSER modeling will not run as sequence length (1527) is not in the range [10, 1500]\n",
      "[2018-02-05 18:18] [ssbio.protein.structure.homology.itasser.itasserprep] WARNING: Rv2476c: I-TASSER modeling will not run as sequence length (1624) is not in the range [10, 1500]\n",
      "[2018-02-05 18:18] [ssbio.protein.structure.homology.itasser.itasserprep] WARNING: Rv3800c: I-TASSER modeling will not run as sequence length (1733) is not in the range [10, 1500]\n",
      "[2018-02-05 18:18] [ssbio.protein.structure.homology.itasser.itasserprep] WARNING: Rv0107c: I-TASSER modeling will not run as sequence length (1632) is not in the range [10, 1500]\n",
      "[2018-02-05 18:18] [ssbio.protein.structure.homology.itasser.itasserprep] WARNING: Rv2940c: I-TASSER modeling will not run as sequence length (2111) is not in the range [10, 1500]\n",
      "[2018-02-05 18:18] [ssbio.protein.structure.homology.itasser.itasserprep] WARNING: Rv1662: I-TASSER modeling will not run as sequence length (1602) is not in the range [10, 1500]\n",
      "[2018-02-05 18:18] [ssbio.protein.structure.homology.itasser.itasserprep] WARNING: Rv2524c: I-TASSER modeling will not run as sequence length (3069) is not in the range [10, 1500]\n",
      "[2018-02-05 18:18] [ssbio.pipeline.gempro] INFO: Prepared I-TASSER modeling folders for 108 genes in folder /tmp/mtuberculosis_gp/data/homology_models\n"
     ]
    }
   ],
   "source": [
    "# Prep I-TASSER model folders\n",
    "my_gempro.prep_itasser_modeling('~/software/I-TASSER4.4', '~/software/ITLIB/', runtype='local', all_genes=False)"
   ]
  },
  {
   "cell_type": "markdown",
   "metadata": {
    "nbpresent": {
     "id": "4983f3e6-4831-4d00-a0ff-42311009306f"
    }
   },
   "source": [
    "## Saving your GEM-PRO"
   ]
  },
  {
   "cell_type": "markdown",
   "metadata": {
    "nbpresent": {
     "id": "e4fb2768-ac58-4e68-85d6-0710139b45da"
    }
   },
   "source": [
    "Finally, you can save your GEM-PRO as a `JSON` or `pickle` file, so you don't have to run the pipeline again. \n",
    "\n",
    "For most functions, if you rerun them, they will check for existing results saved as files. The only function that would take a long time is setting the representative structure, as they are each rechecked and cleaned. This is where saving helps!\n",
    "\n",
    "<p><div class=\"alert alert-warning\">**Warning:** Saving in JSON format is still experimental. For a full GEM-PRO with sequences & structures, depending on the number of genes, saving can take >5 minutes.</div></p>"
   ]
  },
  {
   "cell_type": "raw",
   "metadata": {
    "raw_mimetype": "text/restructuredtext"
   },
   "source": [
    ".. automethod:: ssbio.pipeline.gempro.GEMPRO.save_pickle\n",
    "    :noindex:"
   ]
  },
  {
   "cell_type": "code",
   "execution_count": 20,
   "metadata": {
    "collapsed": true
   },
   "outputs": [],
   "source": [
    "import os.path as op\n",
    "my_gempro.save_pickle(op.join(my_gempro.model_dir, '{}.pckl'.format(my_gempro.id)))"
   ]
  },
  {
   "cell_type": "raw",
   "metadata": {
    "raw_mimetype": "text/restructuredtext"
   },
   "source": [
    ".. automethod:: ssbio.pipeline.gempro.GEMPRO.save_json\n",
    "    :noindex:"
   ]
  },
  {
   "cell_type": "code",
   "execution_count": 21,
   "metadata": {
    "nbpresent": {
     "id": "abcf9f1b-09e9-4408-8413-7a80e3258559"
    }
   },
   "outputs": [
    {
     "name": "stderr",
     "output_type": "stream",
     "text": [
      "[2018-02-05 18:18] [root] WARNING: json-tricks: numpy scalar serialization is experimental and may work differently in future versions\n",
      "[2018-02-05 18:18] [ssbio.io] INFO: Saved <class 'ssbio.pipeline.gempro.GEMPRO'> (id: mtuberculosis_gp) to /tmp/mtuberculosis_gp/model/mtuberculosis_gp.json\n"
     ]
    }
   ],
   "source": [
    "import os.path as op\n",
    "my_gempro.save_json(op.join(my_gempro.model_dir, '{}.json'.format(my_gempro.id)), compression=False)"
   ]
  },
  {
   "cell_type": "markdown",
   "metadata": {},
   "source": [
    "## Loading a saved GEM-PRO"
   ]
  },
  {
   "cell_type": "code",
   "execution_count": null,
   "metadata": {
    "collapsed": true
   },
   "outputs": [],
   "source": [
    "# Loading a pickle file\n",
    "import pickle\n",
    "with open('/tmp/mtuberculosis_gp_atlas/model/mtuberculosis_gp_atlas.pckl', 'rb') as f:\n",
    "    my_saved_gempro = pickle.load(f)"
   ]
  },
  {
   "cell_type": "code",
   "execution_count": null,
   "metadata": {
    "collapsed": true
   },
   "outputs": [],
   "source": [
    "# Loading a JSON file\n",
    "import ssbio.core.io\n",
    "my_saved_gempro = ssbio.core.io.load_json('/tmp/mtuberculosis_gp_atlas/model/mtuberculosis_gp_atlas.json', decompression=False)"
   ]
  }
 ],
 "metadata": {
  "_draft": {
   "nbviewer_url": "https://gist.github.com/342e44766d1dda637e975a4ef61dae19"
  },
  "anaconda-cloud": {},
  "celltoolbar": "Raw Cell Format",
  "gist": {
   "data": {
    "description": "GEM-PRO pipeline example for a list of gene IDs",
    "public": false
   },
   "id": "342e44766d1dda637e975a4ef61dae19"
  },
  "kernelspec": {
   "display_name": "Python 3",
   "language": "python",
   "name": "python3"
  },
  "language_info": {
   "codemirror_mode": {
    "name": "ipython",
    "version": 3
   },
   "file_extension": ".py",
   "mimetype": "text/x-python",
   "name": "python",
   "nbconvert_exporter": "python",
   "pygments_lexer": "ipython3",
   "version": "3.6.3"
  },
  "nbpresent": {
   "slides": {
    "71ae1e02-0ef6-4127-b4d5-c3e2053937be": {
     "id": "71ae1e02-0ef6-4127-b4d5-c3e2053937be",
     "prev": null,
     "regions": {
      "7a124c69-33c3-4089-9b37-40b788641333": {
       "attrs": {
        "height": 1,
        "width": 1,
        "x": 0,
        "y": 0
       },
       "content": {
        "cell": "20cde5ad-ad7c-49fe-beb0-d4714a0cb1ea",
        "part": "whole"
       },
       "id": "7a124c69-33c3-4089-9b37-40b788641333"
      }
     },
     "theme": null
    }
   },
   "themes": {
    "default": "93b24641-49d7-4f7e-8fbe-91d4643b47c1",
    "theme": {
     "4d7d1fd6-8aba-4c1a-be20-7d109dfc841e": {
      "backgrounds": {
       "dc7afa04-bf90-40b1-82a5-726e3cff5267": {
        "background-color": "31af15d2-7e15-44c5-ab5e-e04b16a89eff",
        "id": "dc7afa04-bf90-40b1-82a5-726e3cff5267"
       }
      },
      "id": "4d7d1fd6-8aba-4c1a-be20-7d109dfc841e",
      "palette": {
       "19cc588f-0593-49c9-9f4b-e4d7cc113b1c": {
        "id": "19cc588f-0593-49c9-9f4b-e4d7cc113b1c",
        "rgb": [
         252,
         252,
         252
        ]
       },
       "31af15d2-7e15-44c5-ab5e-e04b16a89eff": {
        "id": "31af15d2-7e15-44c5-ab5e-e04b16a89eff",
        "rgb": [
         68,
         68,
         68
        ]
       },
       "50f92c45-a630-455b-aec3-788680ec7410": {
        "id": "50f92c45-a630-455b-aec3-788680ec7410",
        "rgb": [
         197,
         226,
         245
        ]
       },
       "c5cc3653-2ee1-402a-aba2-7caae1da4f6c": {
        "id": "c5cc3653-2ee1-402a-aba2-7caae1da4f6c",
        "rgb": [
         43,
         126,
         184
        ]
       },
       "efa7f048-9acb-414c-8b04-a26811511a21": {
        "id": "efa7f048-9acb-414c-8b04-a26811511a21",
        "rgb": [
         25.118061674008803,
         73.60176211453744,
         107.4819383259912
        ]
       }
      },
      "rules": {
       "a": {
        "color": "19cc588f-0593-49c9-9f4b-e4d7cc113b1c"
       },
       "blockquote": {
        "color": "50f92c45-a630-455b-aec3-788680ec7410",
        "font-size": 3
       },
       "code": {
        "font-family": "Anonymous Pro"
       },
       "h1": {
        "color": "19cc588f-0593-49c9-9f4b-e4d7cc113b1c",
        "font-family": "Merriweather",
        "font-size": 8
       },
       "h2": {
        "color": "19cc588f-0593-49c9-9f4b-e4d7cc113b1c",
        "font-family": "Merriweather",
        "font-size": 6
       },
       "h3": {
        "color": "50f92c45-a630-455b-aec3-788680ec7410",
        "font-family": "Lato",
        "font-size": 5.5
       },
       "h4": {
        "color": "c5cc3653-2ee1-402a-aba2-7caae1da4f6c",
        "font-family": "Lato",
        "font-size": 5
       },
       "h5": {
        "font-family": "Lato"
       },
       "h6": {
        "font-family": "Lato"
       },
       "h7": {
        "font-family": "Lato"
       },
       "li": {
        "color": "50f92c45-a630-455b-aec3-788680ec7410",
        "font-size": 3.25
       },
       "pre": {
        "font-family": "Anonymous Pro",
        "font-size": 4
       }
      },
      "text-base": {
       "color": "19cc588f-0593-49c9-9f4b-e4d7cc113b1c",
       "font-family": "Lato",
       "font-size": 4
      }
     },
     "93b24641-49d7-4f7e-8fbe-91d4643b47c1": {
      "id": "93b24641-49d7-4f7e-8fbe-91d4643b47c1",
      "palette": {
       "19cc588f-0593-49c9-9f4b-e4d7cc113b1c": {
        "id": "19cc588f-0593-49c9-9f4b-e4d7cc113b1c",
        "rgb": [
         252,
         252,
         252
        ]
       },
       "31af15d2-7e15-44c5-ab5e-e04b16a89eff": {
        "id": "31af15d2-7e15-44c5-ab5e-e04b16a89eff",
        "rgb": [
         68,
         68,
         68
        ]
       },
       "50f92c45-a630-455b-aec3-788680ec7410": {
        "id": "50f92c45-a630-455b-aec3-788680ec7410",
        "rgb": [
         155,
         177,
         192
        ]
       },
       "c5cc3653-2ee1-402a-aba2-7caae1da4f6c": {
        "id": "c5cc3653-2ee1-402a-aba2-7caae1da4f6c",
        "rgb": [
         43,
         126,
         184
        ]
       },
       "efa7f048-9acb-414c-8b04-a26811511a21": {
        "id": "efa7f048-9acb-414c-8b04-a26811511a21",
        "rgb": [
         25.118061674008803,
         73.60176211453744,
         107.4819383259912
        ]
       }
      },
      "rules": {
       "blockquote": {
        "color": "50f92c45-a630-455b-aec3-788680ec7410"
       },
       "code": {
        "font-family": "Anonymous Pro"
       },
       "h1": {
        "color": "c5cc3653-2ee1-402a-aba2-7caae1da4f6c",
        "font-family": "Lato",
        "font-size": 8
       },
       "h2": {
        "color": "c5cc3653-2ee1-402a-aba2-7caae1da4f6c",
        "font-family": "Lato",
        "font-size": 6
       },
       "h3": {
        "color": "50f92c45-a630-455b-aec3-788680ec7410",
        "font-family": "Lato",
        "font-size": 5.5
       },
       "h4": {
        "color": "c5cc3653-2ee1-402a-aba2-7caae1da4f6c",
        "font-family": "Lato",
        "font-size": 5
       },
       "h5": {
        "font-family": "Lato"
       },
       "h6": {
        "font-family": "Lato"
       },
       "h7": {
        "font-family": "Lato"
       },
       "pre": {
        "font-family": "Anonymous Pro",
        "font-size": 4
       }
      },
      "text-base": {
       "font-family": "Merriweather",
       "font-size": 4
      }
     }
    }
   }
  },
  "pycharm": {
   "stem_cell": {
    "cell_type": "raw",
    "source": [],
    "metadata": {
     "collapsed": false
    }
   }
  }
 },
 "nbformat": 4,
 "nbformat_minor": 1
}