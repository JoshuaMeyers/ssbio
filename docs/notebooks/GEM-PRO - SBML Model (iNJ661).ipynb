{
 "cells": [
  {
   "cell_type": "markdown",
   "metadata": {
    "nbpresent": {
     "id": "43da7667-0df4-4319-a751-2db46388b7de"
    }
   },
   "source": [
    "# GEM-PRO - SBML Model (iNJ661)\n",
    "\n",
    "This notebook gives an example of how to run the GEM-PRO pipeline with a **SBML model**, in this case *i*NJ661, the metabolic model of *M. tuberculosis*.\n",
    "\n",
    "<div class=\"alert alert-info\">\n",
    "\n",
    "**Input:** \n",
    "GEM (in SBML, JSON, or MAT formats)\n",
    "\n",
    "</div>\n",
    "\n",
    "<div class=\"alert alert-info\">\n",
    "\n",
    "**Output:**\n",
    "GEM-PRO model\n",
    "\n",
    "</div>"
   ]
  },
  {
   "cell_type": "markdown",
   "metadata": {
    "nbpresent": {
     "id": "1f7d53d9-cea2-4a20-bbd5-7c6080a81531"
    }
   },
   "source": [
    "## Imports"
   ]
  },
  {
   "cell_type": "code",
   "execution_count": 1,
   "metadata": {
    "collapsed": true,
    "nbpresent": {
     "id": "7dd1e366-fd3f-49db-b82d-d6f50ff95605"
    }
   },
   "outputs": [],
   "source": [
    "import sys\n",
    "import logging"
   ]
  },
  {
   "cell_type": "code",
   "execution_count": 2,
   "metadata": {
    "collapsed": true,
    "nbpresent": {
     "id": "076748d3-43a2-495c-9e08-efb61691dc05"
    }
   },
   "outputs": [],
   "source": [
    "# Import the GEM-PRO class\n",
    "from ssbio.pipeline.gempro import GEMPRO"
   ]
  },
  {
   "cell_type": "code",
   "execution_count": 3,
   "metadata": {
    "collapsed": true,
    "nbpresent": {
     "id": "052aee3e-8393-4894-9a5c-1acf9ed04377"
    }
   },
   "outputs": [],
   "source": [
    "# Printing multiple outputs per cell\n",
    "from IPython.core.interactiveshell import InteractiveShell\n",
    "InteractiveShell.ast_node_interactivity = \"all\""
   ]
  },
  {
   "cell_type": "markdown",
   "metadata": {
    "nbpresent": {
     "id": "99e22719-e141-4939-bca9-e6d384b8b53f"
    }
   },
   "source": [
    "### Logging\n",
    "\n",
    "Set the logging level in `logger.setLevel(logging.<LEVEL_HERE>)` to specify how verbose you want the pipeline to be. Debug is most verbose.\n",
    "\n",
    "- `CRITICAL`\n",
    "     - Only really important messages shown\n",
    "- `ERROR`\n",
    "     - Major errors\n",
    "- `WARNING`\n",
    "     - Warnings that don't affect running of the pipeline\n",
    "- `INFO` (default)\n",
    "     - Info such as the number of structures mapped per gene\n",
    "- `DEBUG`\n",
    "     - Really detailed information that will print out a lot of stuff\n",
    "     \n",
    "<div class=\"alert alert-warning\">\n",
    "\n",
    "**Warning:** \n",
    "`DEBUG` mode prints out a large amount of information, especially if you have a lot of genes. This may stall your notebook!\n",
    "</div>"
   ]
  },
  {
   "cell_type": "code",
   "execution_count": 4,
   "metadata": {
    "collapsed": true,
    "nbpresent": {
     "id": "62de97f6-e936-4308-8a67-3f66696cc016"
    }
   },
   "outputs": [],
   "source": [
    "# Create logger\n",
    "logger = logging.getLogger()\n",
    "logger.setLevel(logging.INFO)  # SET YOUR LOGGING LEVEL HERE #"
   ]
  },
  {
   "cell_type": "code",
   "execution_count": 5,
   "metadata": {
    "collapsed": true,
    "nbpresent": {
     "id": "b903f518-5123-42b3-9fdc-8157ad4d6e04"
    }
   },
   "outputs": [],
   "source": [
    "# Other logger stuff for Jupyter notebooks\n",
    "handler = logging.StreamHandler(sys.stderr)\n",
    "formatter = logging.Formatter('[%(asctime)s] [%(name)s] %(levelname)s: %(message)s', datefmt=\"%Y-%m-%d %H:%M\")\n",
    "handler.setFormatter(formatter)\n",
    "logger.handlers = [handler]"
   ]
  },
  {
   "cell_type": "markdown",
   "metadata": {
    "nbpresent": {
     "id": "cef6c233-fc6f-4f62-b4dd-a9d414b7cba4"
    }
   },
   "source": [
    "## Initialization of the project\n",
    "\n",
    "Set these three things:\n",
    "\n",
    "- `ROOT_DIR`\n",
    "    - The directory where a folder named after your `PROJECT` will be created\n",
    "- `PROJECT`\n",
    "    - Your project name\n",
    "- `LIST_OF_GENES`\n",
    "    - Your list of gene IDs\n",
    "    \n",
    "A directory will be created in `ROOT_DIR` with your `PROJECT` name. The folders are organized like so:\n",
    "```\n",
    "    ROOT_DIR\n",
    "    └── PROJECT\n",
    "        ├── data  # General storage for pipeline outputs\n",
    "        ├── model  # SBML and GEM-PRO models are stored here\n",
    "        ├── genes  # Per gene information\n",
    "        │   ├── <gene_id1>  # Specific gene directory\n",
    "        │   │   └── protein\n",
    "        │   │       ├── sequences  # Protein sequence files, alignments, etc.\n",
    "        │   │       └── structures  # Protein structure files, calculations, etc.\n",
    "        │   └── <gene_id2>\n",
    "        │       └── protein\n",
    "        │           ├── sequences\n",
    "        │           └── structures\n",
    "        ├── reactions  # Per reaction information\n",
    "        │   └── <reaction_id1>  # Specific reaction directory\n",
    "        │       └── complex\n",
    "        │           └── structures  # Protein complex files\n",
    "        └── metabolites  # Per metabolite information\n",
    "            └── <metabolite_id1>  # Specific metabolite directory\n",
    "                └── chemical\n",
    "                    └── structures  # Metabolite 2D and 3D structure files\n",
    "                \n",
    "```\n",
    "\n",
    "<div class=\"alert alert-info\">**Note:** Methods for protein complexes and metabolites are still in development.</div>"
   ]
  },
  {
   "cell_type": "code",
   "execution_count": 6,
   "metadata": {
    "collapsed": true,
    "nbpresent": {
     "id": "4f2f0539-d1b3-4d01-9b83-547413ba99da"
    }
   },
   "outputs": [],
   "source": [
    "# SET FOLDERS AND DATA HERE\n",
    "import tempfile\n",
    "ROOT_DIR = tempfile.gettempdir()\n",
    "\n",
    "PROJECT = 'mtuberculosis_gp_atlas'\n",
    "GEM_FILE = '/home/nathan/projects_unsynced/mtuberculosis_gp_atlas/model/iNJ661.json'\n",
    "GEM_FILE_TYPE = 'json'\n",
    "PDB_FILE_TYPE = 'mmtf'"
   ]
  },
  {
   "cell_type": "code",
   "execution_count": 7,
   "metadata": {
    "nbpresent": {
     "id": "20cde5ad-ad7c-49fe-beb0-d4714a0cb1ea"
    }
   },
   "outputs": [
    {
     "name": "stderr",
     "output_type": "stream",
     "text": [
      "[2017-09-24 05:45] [ssbio.pipeline.gempro] INFO: Creating GEM-PRO project directory in folder /tmp\n",
      "[2017-09-24 05:45] [ssbio.pipeline.gempro] INFO: /tmp/mtuberculosis_gp_atlas: GEM-PRO project location\n",
      "[2017-09-24 05:45] [ssbio.pipeline.gempro] INFO: iNJ661: loaded model\n",
      "[2017-09-24 05:45] [ssbio.pipeline.gempro] INFO: 1025: number of reactions\n",
      "[2017-09-24 05:45] [ssbio.pipeline.gempro] INFO: 720: number of reactions linked to a gene\n",
      "[2017-09-24 05:45] [ssbio.pipeline.gempro] INFO: 661: number of genes (excluding spontaneous)\n",
      "[2017-09-24 05:45] [ssbio.pipeline.gempro] INFO: 826: number of metabolites\n",
      "[2017-09-24 05:45] [ssbio.pipeline.gempro] WARNING: IMPORTANT: All Gene objects have been transformed into GenePro objects, and will be for any new ones\n",
      "[2017-09-24 05:45] [ssbio.pipeline.gempro] INFO: 661: number of genes\n"
     ]
    }
   ],
   "source": [
    "# Create the GEM-PRO project\n",
    "my_gempro = GEMPRO(gem_name=PROJECT, root_dir=ROOT_DIR, gem_file_path=GEM_FILE, gem_file_type=GEM_FILE_TYPE, pdb_file_type=PDB_FILE_TYPE)"
   ]
  },
  {
   "cell_type": "markdown",
   "metadata": {
    "nbpresent": {
     "id": "e7a031e5-f6b3-4f64-9e2d-7933f538f854"
    }
   },
   "source": [
    "## Mapping gene ID --> sequence\n",
    "\n",
    "First, we need to map these IDs to their protein sequences. There are 2 ID mapping services provided to do this - through **KEGG** or **UniProt**. The end goal is to map a UniProt ID to each ID, since there is a comprehensive mapping (and some useful APIs) between UniProt and the PDB.\n",
    "\n",
    "<p><div class=\"alert alert-info\">**Note:** You only need to map gene IDs using one service. However you can run both if some genes don't map in one service and do map in another!</div></p>\n",
    "\n",
    "However, you don't need to map using these services if you already have the amino acid sequences for each protein. You can just manually load in the sequences as shown using the method `manual_seq_mapping`. Or, if you already have the UniProt IDs, you can load those in using the method `manual_uniprot_mapping`."
   ]
  },
  {
   "cell_type": "markdown",
   "metadata": {
    "nbpresent": {
     "id": "62abfde7-a10d-4270-bb7d-f6f6d3dcbbaf"
    }
   },
   "source": [
    "### Methods"
   ]
  },
  {
   "cell_type": "raw",
   "metadata": {
    "nbpresent": {
     "id": "7bb29bf2-2e1d-4a8b-a701-3743aa342e10"
    },
    "raw_mimetype": "text/restructuredtext"
   },
   "source": [
    ".. automethod:: ssbio.pipeline.gempro.GEMPRO.manual_seq_mapping\n",
    "    :noindex:"
   ]
  },
  {
   "cell_type": "code",
   "execution_count": 8,
   "metadata": {
    "nbpresent": {
     "id": "5258be02-70ac-4953-9ab5-ffc75a8b00ab"
    }
   },
   "outputs": [
    {
     "name": "stderr",
     "output_type": "stream",
     "text": [
      "[2017-09-24 05:45] [ssbio.pipeline.gempro] INFO: Loaded in 2 sequences\n"
     ]
    }
   ],
   "source": [
    "gene_to_seq_dict = {'Rv1295': 'MTVPPTATHQPWPGVIAAYRDRLPVGDDWTPVTLLEGGTPLIAATNLSKQTGCTIHLKVEGLNPTGSFKDRGMTMAVTDALAHGQRAVLCASTGNTSASAAAYAARAGITCAVLIPQGKIAMGKLAQAVMHGAKIIQIDGNFDDCLELARKMAADFPTISLVNSVNPVRIEGQKTAAFEIVDVLGTAPDVHALPVGNAGNITAYWKGYTEYHQLGLIDKLPRMLGTQAAGAAPLVLGEPVSHPETIATAIRIGSPASWTSAVEAQQQSKGRFLAASDEEILAAYHLVARVEGVFVEPASAASIAGLLKAIDDGWVARGSTVVCTVTGNGLKDPDTALKDMPSVSPVPVDPVAVVEKLGLA',\n",
    "                    'Rv2233': 'VSSPRERRPASQAPRLSRRPPAHQTSRSSPDTTAPTGSGLSNRFVNDNGIVTDTTASGTNCPPPPRAAARRASSPGESPQLVIFDLDGTLTDSARGIVSSFRHALNHIGAPVPEGDLATHIVGPPMHETLRAMGLGESAEEAIVAYRADYSARGWAMNSLFDGIGPLLADLRTAGVRLAVATSKAEPTARRILRHFGIEQHFEVIAGASTDGSRGSKVDVLAHALAQLRPLPERLVMVGDRSHDVDGAAAHGIDTVVVGWGYGRADFIDKTSTTVVTHAATIDELREALGV'}\n",
    "my_gempro.manual_seq_mapping(gene_to_seq_dict)"
   ]
  },
  {
   "cell_type": "raw",
   "metadata": {
    "nbpresent": {
     "id": "b26de43f-a14c-4fae-bce5-65c7927ea788"
    },
    "raw_mimetype": "text/restructuredtext"
   },
   "source": [
    ".. automethod:: ssbio.pipeline.gempro.GEMPRO.manual_uniprot_mapping\n",
    "    :noindex:"
   ]
  },
  {
   "cell_type": "code",
   "execution_count": 9,
   "metadata": {
    "nbpresent": {
     "id": "8c3a026f-a8f6-4cb2-90c3-825f7d796909"
    }
   },
   "outputs": [
    {
     "data": {
      "application/vnd.jupyter.widget-view+json": {
       "model_id": "7e3fcfa09c654f259422cb17731a6d24"
      }
     },
     "metadata": {},
     "output_type": "display_data"
    },
    {
     "name": "stderr",
     "output_type": "stream",
     "text": [
      "[2017-09-24 05:45] [ssbio.pipeline.gempro] INFO: Completed manual ID mapping --> UniProt. See the \"df_uniprot_metadata\" attribute for a summary dataframe.\n"
     ]
    },
    {
     "name": "stdout",
     "output_type": "stream",
     "text": [
      "\n"
     ]
    },
    {
     "data": {
      "text/html": [
       "<div>\n",
       "<style>\n",
       "    .dataframe thead tr:only-child th {\n",
       "        text-align: right;\n",
       "    }\n",
       "\n",
       "    .dataframe thead th {\n",
       "        text-align: left;\n",
       "    }\n",
       "\n",
       "    .dataframe tbody tr th {\n",
       "        vertical-align: top;\n",
       "    }\n",
       "</style>\n",
       "<table border=\"1\" class=\"dataframe\">\n",
       "  <thead>\n",
       "    <tr style=\"text-align: right;\">\n",
       "      <th></th>\n",
       "      <th>uniprot</th>\n",
       "      <th>reviewed</th>\n",
       "      <th>gene_name</th>\n",
       "      <th>kegg</th>\n",
       "      <th>refseq</th>\n",
       "      <th>pfam</th>\n",
       "      <th>description</th>\n",
       "      <th>entry_date</th>\n",
       "      <th>entry_version</th>\n",
       "      <th>seq_date</th>\n",
       "      <th>seq_version</th>\n",
       "      <th>sequence_file</th>\n",
       "      <th>metadata_file</th>\n",
       "    </tr>\n",
       "    <tr>\n",
       "      <th>gene</th>\n",
       "      <th></th>\n",
       "      <th></th>\n",
       "      <th></th>\n",
       "      <th></th>\n",
       "      <th></th>\n",
       "      <th></th>\n",
       "      <th></th>\n",
       "      <th></th>\n",
       "      <th></th>\n",
       "      <th></th>\n",
       "      <th></th>\n",
       "      <th></th>\n",
       "      <th></th>\n",
       "    </tr>\n",
       "  </thead>\n",
       "  <tbody>\n",
       "    <tr>\n",
       "      <th>Rv0619</th>\n",
       "      <td>Q79FY3</td>\n",
       "      <td>False</td>\n",
       "      <td>galTb</td>\n",
       "      <td>NaN</td>\n",
       "      <td>NaN</td>\n",
       "      <td>PF02744</td>\n",
       "      <td>Probable galactose-1-phosphate uridylyltransfe...</td>\n",
       "      <td>2017-07-05</td>\n",
       "      <td>78</td>\n",
       "      <td>2004-07-05</td>\n",
       "      <td>1</td>\n",
       "      <td>Q79FY3.fasta</td>\n",
       "      <td>Q79FY3.xml</td>\n",
       "    </tr>\n",
       "    <tr>\n",
       "      <th>Rv1755c</th>\n",
       "      <td>P9WIA9</td>\n",
       "      <td>False</td>\n",
       "      <td>plcD</td>\n",
       "      <td>NaN</td>\n",
       "      <td>NaN</td>\n",
       "      <td>PF04185</td>\n",
       "      <td>Phospholipase C 4</td>\n",
       "      <td>2017-07-05</td>\n",
       "      <td>18</td>\n",
       "      <td>2014-04-16</td>\n",
       "      <td>1</td>\n",
       "      <td>P9WIA9.fasta</td>\n",
       "      <td>P9WIA9.xml</td>\n",
       "    </tr>\n",
       "    <tr>\n",
       "      <th>Rv2321c</th>\n",
       "      <td>P71891</td>\n",
       "      <td>False</td>\n",
       "      <td>rocD2</td>\n",
       "      <td>mtv:RVBD_2321c</td>\n",
       "      <td>WP_003411956.1</td>\n",
       "      <td>PF00202</td>\n",
       "      <td>Probable ornithine aminotransferase (C-terminu...</td>\n",
       "      <td>2017-07-05</td>\n",
       "      <td>116</td>\n",
       "      <td>1997-02-01</td>\n",
       "      <td>1</td>\n",
       "      <td>P71891.fasta</td>\n",
       "      <td>P71891.xml</td>\n",
       "    </tr>\n",
       "    <tr>\n",
       "      <th>Rv2322c</th>\n",
       "      <td>P71890</td>\n",
       "      <td>False</td>\n",
       "      <td>rocD1</td>\n",
       "      <td>mtv:RVBD_2322c</td>\n",
       "      <td>WP_003411957.1</td>\n",
       "      <td>PF00202</td>\n",
       "      <td>Probable ornithine aminotransferase (N-terminu...</td>\n",
       "      <td>2017-06-07</td>\n",
       "      <td>117</td>\n",
       "      <td>1997-02-01</td>\n",
       "      <td>1</td>\n",
       "      <td>P71890.fasta</td>\n",
       "      <td>P71890.xml</td>\n",
       "    </tr>\n",
       "  </tbody>\n",
       "</table>\n",
       "</div>"
      ],
      "text/plain": [
       "        uniprot  reviewed gene_name            kegg          refseq     pfam  \\\n",
       "gene                                                                           \n",
       "Rv0619   Q79FY3     False     galTb             NaN             NaN  PF02744   \n",
       "Rv1755c  P9WIA9     False      plcD             NaN             NaN  PF04185   \n",
       "Rv2321c  P71891     False     rocD2  mtv:RVBD_2321c  WP_003411956.1  PF00202   \n",
       "Rv2322c  P71890     False     rocD1  mtv:RVBD_2322c  WP_003411957.1  PF00202   \n",
       "\n",
       "                                               description  entry_date  \\\n",
       "gene                                                                     \n",
       "Rv0619   Probable galactose-1-phosphate uridylyltransfe...  2017-07-05   \n",
       "Rv1755c                                  Phospholipase C 4  2017-07-05   \n",
       "Rv2321c  Probable ornithine aminotransferase (C-terminu...  2017-07-05   \n",
       "Rv2322c  Probable ornithine aminotransferase (N-terminu...  2017-06-07   \n",
       "\n",
       "         entry_version    seq_date  seq_version sequence_file metadata_file  \n",
       "gene                                                                         \n",
       "Rv0619              78  2004-07-05            1  Q79FY3.fasta    Q79FY3.xml  \n",
       "Rv1755c             18  2014-04-16            1  P9WIA9.fasta    P9WIA9.xml  \n",
       "Rv2321c            116  1997-02-01            1  P71891.fasta    P71891.xml  \n",
       "Rv2322c            117  1997-02-01            1  P71890.fasta    P71890.xml  "
      ]
     },
     "execution_count": 9,
     "metadata": {},
     "output_type": "execute_result"
    }
   ],
   "source": [
    "manual_uniprot_dict = {'Rv1755c': 'P9WIA9', 'Rv2321c': 'P71891', 'Rv0619': 'Q79FY3', 'Rv0618': 'Q79FY4', 'Rv2322c': 'P71890'}\n",
    "my_gempro.manual_uniprot_mapping(manual_uniprot_dict)\n",
    "my_gempro.df_uniprot_metadata.tail(4)"
   ]
  },
  {
   "cell_type": "raw",
   "metadata": {
    "nbpresent": {
     "id": "ad2e3d1a-3830-47ee-a5bd-ed72f25e4acd"
    },
    "raw_mimetype": "text/restructuredtext"
   },
   "source": [
    ".. automethod:: ssbio.pipeline.gempro.GEMPRO.kegg_mapping_and_metadata\n",
    "    :noindex:"
   ]
  },
  {
   "cell_type": "code",
   "execution_count": 10,
   "metadata": {
    "nbpresent": {
     "id": "eed1aac7-8a33-4c4b-b7f2-8cf6be7fc534"
    }
   },
   "outputs": [
    {
     "data": {
      "application/vnd.jupyter.widget-view+json": {
       "model_id": "23e75e8bc0bc45429090995dc4c371bf"
      }
     },
     "metadata": {},
     "output_type": "display_data"
    },
    {
     "name": "stderr",
     "output_type": "stream",
     "text": [
      "[2017-09-24 05:45] [root] WARNING: status is not ok with Not Found\n",
      "[2017-09-24 05:45] [ssbio.databases.kegg] WARNING: mtu:Rv1755c: no sequence file available\n",
      "[2017-09-24 05:45] [root] WARNING: status is not ok with Not Found\n",
      "[2017-09-24 05:45] [ssbio.databases.kegg] WARNING: mtu:Rv1755c: no metadata file available\n",
      "[2017-09-24 05:45] [root] WARNING: status is not ok with Not Found\n",
      "[2017-09-24 05:45] [ssbio.databases.kegg] WARNING: mtu:Rv2233: no sequence file available\n",
      "[2017-09-24 05:45] [root] WARNING: status is not ok with Not Found\n",
      "[2017-09-24 05:45] [ssbio.databases.kegg] WARNING: mtu:Rv2233: no metadata file available\n",
      "[2017-09-24 05:45] [ssbio.core.protein] WARNING: Rv2233: representative sequence does not match mapped KEGG sequence.\n",
      "[2017-09-24 05:45] [root] WARNING: status is not ok with Not Found\n",
      "[2017-09-24 05:45] [ssbio.databases.kegg] WARNING: mtu:Rv0619: no sequence file available\n",
      "[2017-09-24 05:45] [root] WARNING: status is not ok with Not Found\n",
      "[2017-09-24 05:45] [ssbio.databases.kegg] WARNING: mtu:Rv0619: no metadata file available\n",
      "[2017-09-24 05:45] [root] WARNING: status is not ok with Not Found\n",
      "[2017-09-24 05:45] [ssbio.databases.kegg] WARNING: mtu:Rv0618: no sequence file available\n",
      "[2017-09-24 05:45] [root] WARNING: status is not ok with Not Found\n",
      "[2017-09-24 05:45] [ssbio.databases.kegg] WARNING: mtu:Rv2321c: no sequence file available\n",
      "[2017-09-24 05:45] [root] WARNING: status is not ok with Not Found\n",
      "[2017-09-24 05:45] [ssbio.databases.kegg] WARNING: mtu:Rv2321c: no metadata file available\n",
      "[2017-09-24 05:45] [root] WARNING: status is not ok with Not Found\n",
      "[2017-09-24 05:45] [ssbio.databases.kegg] WARNING: mtu:Rv2322c: no sequence file available\n",
      "[2017-09-24 05:45] [root] WARNING: status is not ok with Not Found\n",
      "[2017-09-24 05:45] [ssbio.databases.kegg] WARNING: mtu:Rv2322c: no metadata file available\n",
      "[2017-09-24 05:45] [ssbio.pipeline.gempro] INFO: 655/661: number of genes mapped to KEGG\n",
      "[2017-09-24 05:45] [ssbio.pipeline.gempro] INFO: Completed ID mapping --> KEGG. See the \"df_kegg_metadata\" attribute for a summary dataframe.\n"
     ]
    },
    {
     "name": "stdout",
     "output_type": "stream",
     "text": [
      "\n",
      "Missing KEGG mapping:  ['Rv2233', 'Rv2322c', 'Rv0619', 'Rv0618', 'Rv2321c', 'Rv1755c']\n"
     ]
    },
    {
     "data": {
      "text/html": [
       "<div>\n",
       "<style>\n",
       "    .dataframe thead tr:only-child th {\n",
       "        text-align: right;\n",
       "    }\n",
       "\n",
       "    .dataframe thead th {\n",
       "        text-align: left;\n",
       "    }\n",
       "\n",
       "    .dataframe tbody tr th {\n",
       "        vertical-align: top;\n",
       "    }\n",
       "</style>\n",
       "<table border=\"1\" class=\"dataframe\">\n",
       "  <thead>\n",
       "    <tr style=\"text-align: right;\">\n",
       "      <th></th>\n",
       "      <th>kegg</th>\n",
       "      <th>refseq</th>\n",
       "      <th>uniprot</th>\n",
       "      <th>pdbs</th>\n",
       "      <th>sequence_file</th>\n",
       "      <th>metadata_file</th>\n",
       "    </tr>\n",
       "    <tr>\n",
       "      <th>gene</th>\n",
       "      <th></th>\n",
       "      <th></th>\n",
       "      <th></th>\n",
       "      <th></th>\n",
       "      <th></th>\n",
       "      <th></th>\n",
       "    </tr>\n",
       "  </thead>\n",
       "  <tbody>\n",
       "    <tr>\n",
       "      <th>Rv0013</th>\n",
       "      <td>mtu:Rv0013</td>\n",
       "      <td>YP_177615</td>\n",
       "      <td>P9WN35</td>\n",
       "      <td>NaN</td>\n",
       "      <td>mtu-Rv0013.faa</td>\n",
       "      <td>mtu-Rv0013.kegg</td>\n",
       "    </tr>\n",
       "    <tr>\n",
       "      <th>Rv0032</th>\n",
       "      <td>mtu:Rv0032</td>\n",
       "      <td>NP_214546</td>\n",
       "      <td>P9WQ85</td>\n",
       "      <td>NaN</td>\n",
       "      <td>mtu-Rv0032.faa</td>\n",
       "      <td>mtu-Rv0032.kegg</td>\n",
       "    </tr>\n",
       "    <tr>\n",
       "      <th>Rv0046c</th>\n",
       "      <td>mtu:Rv0046c</td>\n",
       "      <td>NP_214560</td>\n",
       "      <td>P9WKI1</td>\n",
       "      <td>1GR0</td>\n",
       "      <td>mtu-Rv0046c.faa</td>\n",
       "      <td>mtu-Rv0046c.kegg</td>\n",
       "    </tr>\n",
       "    <tr>\n",
       "      <th>Rv0066c</th>\n",
       "      <td>mtu:Rv0066c</td>\n",
       "      <td>NP_214580</td>\n",
       "      <td>O53611</td>\n",
       "      <td>5KVU</td>\n",
       "      <td>mtu-Rv0066c.faa</td>\n",
       "      <td>mtu-Rv0066c.kegg</td>\n",
       "    </tr>\n",
       "    <tr>\n",
       "      <th>Rv0069c</th>\n",
       "      <td>mtu:Rv0069c</td>\n",
       "      <td>NP_214583</td>\n",
       "      <td>P9WGT5</td>\n",
       "      <td>NaN</td>\n",
       "      <td>mtu-Rv0069c.faa</td>\n",
       "      <td>mtu-Rv0069c.kegg</td>\n",
       "    </tr>\n",
       "  </tbody>\n",
       "</table>\n",
       "</div>"
      ],
      "text/plain": [
       "                kegg     refseq uniprot  pdbs    sequence_file  \\\n",
       "gene                                                             \n",
       "Rv0013    mtu:Rv0013  YP_177615  P9WN35   NaN   mtu-Rv0013.faa   \n",
       "Rv0032    mtu:Rv0032  NP_214546  P9WQ85   NaN   mtu-Rv0032.faa   \n",
       "Rv0046c  mtu:Rv0046c  NP_214560  P9WKI1  1GR0  mtu-Rv0046c.faa   \n",
       "Rv0066c  mtu:Rv0066c  NP_214580  O53611  5KVU  mtu-Rv0066c.faa   \n",
       "Rv0069c  mtu:Rv0069c  NP_214583  P9WGT5   NaN  mtu-Rv0069c.faa   \n",
       "\n",
       "            metadata_file  \n",
       "gene                       \n",
       "Rv0013    mtu-Rv0013.kegg  \n",
       "Rv0032    mtu-Rv0032.kegg  \n",
       "Rv0046c  mtu-Rv0046c.kegg  \n",
       "Rv0066c  mtu-Rv0066c.kegg  \n",
       "Rv0069c  mtu-Rv0069c.kegg  "
      ]
     },
     "execution_count": 10,
     "metadata": {},
     "output_type": "execute_result"
    }
   ],
   "source": [
    "# KEGG mapping of gene ids\n",
    "my_gempro.kegg_mapping_and_metadata(kegg_organism_code='mtu')\n",
    "print('Missing KEGG mapping: ', my_gempro.missing_kegg_mapping)\n",
    "my_gempro.df_kegg_metadata.head()"
   ]
  },
  {
   "cell_type": "raw",
   "metadata": {
    "nbpresent": {
     "id": "5ab939a8-e53d-4e61-bad2-f6624cc12710"
    },
    "raw_mimetype": "text/restructuredtext"
   },
   "source": [
    ".. automethod:: ssbio.pipeline.gempro.GEMPRO.uniprot_mapping_and_metadata\n",
    "    :noindex:"
   ]
  },
  {
   "cell_type": "code",
   "execution_count": 11,
   "metadata": {
    "nbpresent": {
     "id": "ea9c8375-4046-4c46-b42b-018f5ee80b94"
    }
   },
   "outputs": [
    {
     "name": "stderr",
     "output_type": "stream",
     "text": [
      "[2017-09-24 05:45] [root] INFO: getUserAgent: Begin\n",
      "[2017-09-24 05:45] [root] INFO: getUserAgent: user_agent: EBI-Sample-Client/ (services.py; Python 3.5.3; Linux) Python-requests/2.14.2\n",
      "[2017-09-24 05:45] [root] INFO: getUserAgent: End\n"
     ]
    },
    {
     "data": {
      "application/vnd.jupyter.widget-view+json": {
       "model_id": "32b0be90619d490b94c133c5c305a54a"
      }
     },
     "metadata": {},
     "output_type": "display_data"
    },
    {
     "name": "stderr",
     "output_type": "stream",
     "text": [
      "[2017-09-24 05:45] [ssbio.pipeline.gempro] INFO: 589/661: number of genes mapped to UniProt\n",
      "[2017-09-24 05:45] [ssbio.pipeline.gempro] INFO: Completed ID mapping --> UniProt. See the \"df_uniprot_metadata\" attribute for a summary dataframe.\n"
     ]
    },
    {
     "name": "stdout",
     "output_type": "stream",
     "text": [
      "\n",
      "Missing UniProt mapping:  ['Rv0753c', 'Rv2458', 'Rv2471', 'Rv0649', 'Rv3758c', 'Rv1902c', 'Rv2233', 'Rv0156', 'Rv3468c', 'Rv2436', 'Rv2320c', 'Rv1916', 'Rv0511', 'Rv1163', 'Rv1928c', 'Rv1662', 'Rv1618', 'Rv0266c', 'Rv3737', 'Rv0812', 'Rv2380c', 'Rv2590', 'Rv3784', 'Rv2858c', 'Rv0253', 'Rv1844c', 'Rv2398c', 'Rv2524c', 'Rv1511', 'Rv2318', 'Rv3565', 'Rv0317c', 'Rv1704c', 'Rv1239c', 'Rv3113', 'Rv2062c', 'Rv2671', 'Rv0860', 'Rv0958', 'Rv1005c', 'Rv3759c', 'Rv2833c', 'Rv0252', 'Rv1127c', 'Rv3331', 'Rv1162', 'Rv2382c', 'Rv2379c', 'Rv0974c', 'Rv2381c', 'Rv0993', 'Rv0082', 'Rv0727c', 'Rv1647', 'Rv0143c', 'Rv3777', 'Rv3469c', 'Rv1915', 'Rv1512', 'Rv3379c', 'Rv0375c', 'Rv0155', 'Rv3281', 'Rv3317', 'Rv2316', 'Rv1164', 'Rv0147', 'Rv3332']\n"
     ]
    },
    {
     "data": {
      "text/html": [
       "<div>\n",
       "<style>\n",
       "    .dataframe thead tr:only-child th {\n",
       "        text-align: right;\n",
       "    }\n",
       "\n",
       "    .dataframe thead th {\n",
       "        text-align: left;\n",
       "    }\n",
       "\n",
       "    .dataframe tbody tr th {\n",
       "        vertical-align: top;\n",
       "    }\n",
       "</style>\n",
       "<table border=\"1\" class=\"dataframe\">\n",
       "  <thead>\n",
       "    <tr style=\"text-align: right;\">\n",
       "      <th></th>\n",
       "      <th>uniprot</th>\n",
       "      <th>reviewed</th>\n",
       "      <th>gene_name</th>\n",
       "      <th>kegg</th>\n",
       "      <th>refseq</th>\n",
       "      <th>pdbs</th>\n",
       "      <th>pfam</th>\n",
       "      <th>description</th>\n",
       "      <th>entry_date</th>\n",
       "      <th>entry_version</th>\n",
       "      <th>seq_date</th>\n",
       "      <th>seq_version</th>\n",
       "      <th>sequence_file</th>\n",
       "      <th>metadata_file</th>\n",
       "    </tr>\n",
       "    <tr>\n",
       "      <th>gene</th>\n",
       "      <th></th>\n",
       "      <th></th>\n",
       "      <th></th>\n",
       "      <th></th>\n",
       "      <th></th>\n",
       "      <th></th>\n",
       "      <th></th>\n",
       "      <th></th>\n",
       "      <th></th>\n",
       "      <th></th>\n",
       "      <th></th>\n",
       "      <th></th>\n",
       "      <th></th>\n",
       "      <th></th>\n",
       "    </tr>\n",
       "  </thead>\n",
       "  <tbody>\n",
       "    <tr>\n",
       "      <th>Rv0013</th>\n",
       "      <td>P9WN35</td>\n",
       "      <td>False</td>\n",
       "      <td>trpG</td>\n",
       "      <td>mtu:Rv0013</td>\n",
       "      <td>WP_003899773.1;YP_177615.1</td>\n",
       "      <td>NaN</td>\n",
       "      <td>PF00117</td>\n",
       "      <td>Anthranilate synthase component 2</td>\n",
       "      <td>2017-06-07</td>\n",
       "      <td>22</td>\n",
       "      <td>2014-04-16</td>\n",
       "      <td>1</td>\n",
       "      <td>P9WN35.fasta</td>\n",
       "      <td>P9WN35.xml</td>\n",
       "    </tr>\n",
       "    <tr>\n",
       "      <th>Rv0032</th>\n",
       "      <td>P9WQ85</td>\n",
       "      <td>False</td>\n",
       "      <td>bioF2</td>\n",
       "      <td>mtu:Rv0032</td>\n",
       "      <td>NP_214546.1;WP_003905217.1</td>\n",
       "      <td>NaN</td>\n",
       "      <td>PF00155</td>\n",
       "      <td>Putative 8-amino-7-oxononanoate synthase 2</td>\n",
       "      <td>2017-05-10</td>\n",
       "      <td>20</td>\n",
       "      <td>2014-04-16</td>\n",
       "      <td>1</td>\n",
       "      <td>P9WQ85.fasta</td>\n",
       "      <td>P9WQ85.xml</td>\n",
       "    </tr>\n",
       "    <tr>\n",
       "      <th>Rv0046c</th>\n",
       "      <td>P9WKI1</td>\n",
       "      <td>False</td>\n",
       "      <td>ino1</td>\n",
       "      <td>mtu:Rv0046c</td>\n",
       "      <td>NP_214560.1;WP_003902822.1</td>\n",
       "      <td>1GR0</td>\n",
       "      <td>PF01658</td>\n",
       "      <td>Inositol-3-phosphate synthase</td>\n",
       "      <td>2017-06-07</td>\n",
       "      <td>25</td>\n",
       "      <td>2014-04-16</td>\n",
       "      <td>1</td>\n",
       "      <td>P9WKI1.fasta</td>\n",
       "      <td>P9WKI1.xml</td>\n",
       "    </tr>\n",
       "    <tr>\n",
       "      <th>Rv0066c</th>\n",
       "      <td>O53611</td>\n",
       "      <td>False</td>\n",
       "      <td>icd2</td>\n",
       "      <td>mtu:Rv0066c;mtv:RVBD_0066c</td>\n",
       "      <td>NP_214580.1;WP_003899797.1</td>\n",
       "      <td>NaN</td>\n",
       "      <td>PF03971</td>\n",
       "      <td>Probable isocitrate dehydrogenase [NADP] Icd2 ...</td>\n",
       "      <td>2017-06-07</td>\n",
       "      <td>127</td>\n",
       "      <td>1998-06-01</td>\n",
       "      <td>1</td>\n",
       "      <td>O53611.fasta</td>\n",
       "      <td>O53611.xml</td>\n",
       "    </tr>\n",
       "    <tr>\n",
       "      <th>Rv0069c</th>\n",
       "      <td>P9WGT5</td>\n",
       "      <td>False</td>\n",
       "      <td>sdaA</td>\n",
       "      <td>mtu:Rv0069c</td>\n",
       "      <td>NP_214583.1;WP_003400600.1</td>\n",
       "      <td>NaN</td>\n",
       "      <td>PF03313;PF03315</td>\n",
       "      <td>L-serine dehydratase</td>\n",
       "      <td>2017-06-07</td>\n",
       "      <td>20</td>\n",
       "      <td>2014-04-16</td>\n",
       "      <td>1</td>\n",
       "      <td>P9WGT5.fasta</td>\n",
       "      <td>P9WGT5.xml</td>\n",
       "    </tr>\n",
       "  </tbody>\n",
       "</table>\n",
       "</div>"
      ],
      "text/plain": [
       "        uniprot  reviewed gene_name                        kegg  \\\n",
       "gene                                                              \n",
       "Rv0013   P9WN35     False      trpG                  mtu:Rv0013   \n",
       "Rv0032   P9WQ85     False     bioF2                  mtu:Rv0032   \n",
       "Rv0046c  P9WKI1     False      ino1                 mtu:Rv0046c   \n",
       "Rv0066c  O53611     False      icd2  mtu:Rv0066c;mtv:RVBD_0066c   \n",
       "Rv0069c  P9WGT5     False      sdaA                 mtu:Rv0069c   \n",
       "\n",
       "                             refseq  pdbs             pfam  \\\n",
       "gene                                                         \n",
       "Rv0013   WP_003899773.1;YP_177615.1   NaN          PF00117   \n",
       "Rv0032   NP_214546.1;WP_003905217.1   NaN          PF00155   \n",
       "Rv0046c  NP_214560.1;WP_003902822.1  1GR0          PF01658   \n",
       "Rv0066c  NP_214580.1;WP_003899797.1   NaN          PF03971   \n",
       "Rv0069c  NP_214583.1;WP_003400600.1   NaN  PF03313;PF03315   \n",
       "\n",
       "                                               description  entry_date  \\\n",
       "gene                                                                     \n",
       "Rv0013                   Anthranilate synthase component 2  2017-06-07   \n",
       "Rv0032          Putative 8-amino-7-oxononanoate synthase 2  2017-05-10   \n",
       "Rv0046c                      Inositol-3-phosphate synthase  2017-06-07   \n",
       "Rv0066c  Probable isocitrate dehydrogenase [NADP] Icd2 ...  2017-06-07   \n",
       "Rv0069c                               L-serine dehydratase  2017-06-07   \n",
       "\n",
       "         entry_version    seq_date  seq_version sequence_file metadata_file  \n",
       "gene                                                                         \n",
       "Rv0013              22  2014-04-16            1  P9WN35.fasta    P9WN35.xml  \n",
       "Rv0032              20  2014-04-16            1  P9WQ85.fasta    P9WQ85.xml  \n",
       "Rv0046c             25  2014-04-16            1  P9WKI1.fasta    P9WKI1.xml  \n",
       "Rv0066c            127  1998-06-01            1  O53611.fasta    O53611.xml  \n",
       "Rv0069c             20  2014-04-16            1  P9WGT5.fasta    P9WGT5.xml  "
      ]
     },
     "execution_count": 11,
     "metadata": {},
     "output_type": "execute_result"
    }
   ],
   "source": [
    "# UniProt mapping\n",
    "my_gempro.uniprot_mapping_and_metadata(model_gene_source='TUBERCULIST_ID')\n",
    "print('Missing UniProt mapping: ', my_gempro.missing_uniprot_mapping)\n",
    "my_gempro.df_uniprot_metadata.head()"
   ]
  },
  {
   "cell_type": "raw",
   "metadata": {
    "nbpresent": {
     "id": "5d0e86ac-cae8-484a-94e4-2968718b0642"
    },
    "raw_mimetype": "text/restructuredtext"
   },
   "source": [
    ".. automethod:: ssbio.pipeline.gempro.GEMPRO.set_representative_sequence\n",
    "    :noindex:"
   ]
  },
  {
   "cell_type": "markdown",
   "metadata": {},
   "source": [
    "If you have mapped with both KEGG and UniProt mappers, then you can set a representative sequence for the gene using this function. If you used just one, this will just set that ID as representative.\n",
    "\n",
    "- If any sequences or IDs were provided manually, these will be set as representative first.\n",
    "- UniProt mappings override KEGG mappings except when KEGG mappings have PDBs associated with them and UniProt doesn't."
   ]
  },
  {
   "cell_type": "code",
   "execution_count": 12,
   "metadata": {
    "nbpresent": {
     "id": "a508fbba-7418-4334-ad6a-adb00f16a49a"
    }
   },
   "outputs": [
    {
     "data": {
      "application/vnd.jupyter.widget-view+json": {
       "model_id": "f15d174957354ef8b37bfdd094cdab52"
      }
     },
     "metadata": {},
     "output_type": "display_data"
    },
    {
     "name": "stderr",
     "output_type": "stream",
     "text": [
      "[2017-09-24 05:45] [ssbio.pipeline.gempro] INFO: 661/661: number of genes with a representative sequence\n",
      "[2017-09-24 05:45] [ssbio.pipeline.gempro] INFO: See the \"df_representative_sequences\" attribute for a summary dataframe.\n"
     ]
    },
    {
     "name": "stdout",
     "output_type": "stream",
     "text": [
      "\n",
      "Missing a representative sequence:  []\n"
     ]
    },
    {
     "data": {
      "text/html": [
       "<div>\n",
       "<style>\n",
       "    .dataframe thead tr:only-child th {\n",
       "        text-align: right;\n",
       "    }\n",
       "\n",
       "    .dataframe thead th {\n",
       "        text-align: left;\n",
       "    }\n",
       "\n",
       "    .dataframe tbody tr th {\n",
       "        vertical-align: top;\n",
       "    }\n",
       "</style>\n",
       "<table border=\"1\" class=\"dataframe\">\n",
       "  <thead>\n",
       "    <tr style=\"text-align: right;\">\n",
       "      <th></th>\n",
       "      <th>uniprot</th>\n",
       "      <th>kegg</th>\n",
       "      <th>pdbs</th>\n",
       "      <th>sequence_file</th>\n",
       "      <th>metadata_file</th>\n",
       "    </tr>\n",
       "    <tr>\n",
       "      <th>gene</th>\n",
       "      <th></th>\n",
       "      <th></th>\n",
       "      <th></th>\n",
       "      <th></th>\n",
       "      <th></th>\n",
       "    </tr>\n",
       "  </thead>\n",
       "  <tbody>\n",
       "    <tr>\n",
       "      <th>Rv0013</th>\n",
       "      <td>P9WN35</td>\n",
       "      <td>mtu:Rv0013</td>\n",
       "      <td>NaN</td>\n",
       "      <td>P9WN35.fasta</td>\n",
       "      <td>P9WN35.xml</td>\n",
       "    </tr>\n",
       "    <tr>\n",
       "      <th>Rv0032</th>\n",
       "      <td>P9WQ85</td>\n",
       "      <td>mtu:Rv0032</td>\n",
       "      <td>NaN</td>\n",
       "      <td>P9WQ85.fasta</td>\n",
       "      <td>P9WQ85.xml</td>\n",
       "    </tr>\n",
       "    <tr>\n",
       "      <th>Rv0046c</th>\n",
       "      <td>P9WKI1</td>\n",
       "      <td>mtu:Rv0046c</td>\n",
       "      <td>1GR0</td>\n",
       "      <td>P9WKI1.fasta</td>\n",
       "      <td>P9WKI1.xml</td>\n",
       "    </tr>\n",
       "    <tr>\n",
       "      <th>Rv0066c</th>\n",
       "      <td>O53611</td>\n",
       "      <td>mtu:Rv0066c;mtv:RVBD_0066c</td>\n",
       "      <td>NaN</td>\n",
       "      <td>O53611.fasta</td>\n",
       "      <td>O53611.xml</td>\n",
       "    </tr>\n",
       "    <tr>\n",
       "      <th>Rv0069c</th>\n",
       "      <td>P9WGT5</td>\n",
       "      <td>mtu:Rv0069c</td>\n",
       "      <td>NaN</td>\n",
       "      <td>P9WGT5.fasta</td>\n",
       "      <td>P9WGT5.xml</td>\n",
       "    </tr>\n",
       "  </tbody>\n",
       "</table>\n",
       "</div>"
      ],
      "text/plain": [
       "        uniprot                        kegg  pdbs sequence_file metadata_file\n",
       "gene                                                                         \n",
       "Rv0013   P9WN35                  mtu:Rv0013   NaN  P9WN35.fasta    P9WN35.xml\n",
       "Rv0032   P9WQ85                  mtu:Rv0032   NaN  P9WQ85.fasta    P9WQ85.xml\n",
       "Rv0046c  P9WKI1                 mtu:Rv0046c  1GR0  P9WKI1.fasta    P9WKI1.xml\n",
       "Rv0066c  O53611  mtu:Rv0066c;mtv:RVBD_0066c   NaN  O53611.fasta    O53611.xml\n",
       "Rv0069c  P9WGT5                 mtu:Rv0069c   NaN  P9WGT5.fasta    P9WGT5.xml"
      ]
     },
     "execution_count": 12,
     "metadata": {},
     "output_type": "execute_result"
    }
   ],
   "source": [
    "# Set representative sequences\n",
    "my_gempro.set_representative_sequence()\n",
    "print('Missing a representative sequence: ', my_gempro.missing_representative_sequence)\n",
    "my_gempro.df_representative_sequences.head()"
   ]
  },
  {
   "cell_type": "markdown",
   "metadata": {
    "nbpresent": {
     "id": "062947e1-7b9d-42e3-8e43-44fa1ae43e53"
    }
   },
   "source": [
    "## Mapping representative sequence --> structure\n",
    "\n",
    "These are the ways to map sequence to structure:\n",
    "\n",
    "1. Use the UniProt ID and their automatic mappings to the PDB\n",
    "2. BLAST the sequence to the PDB\n",
    "3. Make homology models or \n",
    "4. Map to existing homology models\n",
    "\n",
    "You can only utilize option #1 to map to PDBs if there is a mapped UniProt ID set in the representative sequence. If not, you'll have to BLAST your sequence to the PDB or make a homology model. You can also run both for maximum coverage."
   ]
  },
  {
   "cell_type": "markdown",
   "metadata": {
    "nbpresent": {
     "id": "51c4e384-789c-4466-a349-29e92db9eca1"
    }
   },
   "source": [
    "### Methods"
   ]
  },
  {
   "cell_type": "raw",
   "metadata": {
    "nbpresent": {
     "id": "5d0e86ac-cae8-484a-94e4-2968718b0642"
    },
    "raw_mimetype": "text/restructuredtext"
   },
   "source": [
    ".. automethod:: ssbio.pipeline.gempro.GEMPRO.map_uniprot_to_pdb\n",
    "    :noindex:"
   ]
  },
  {
   "cell_type": "code",
   "execution_count": 13,
   "metadata": {
    "nbpresent": {
     "id": "204a8365-9c43-4b31-b8a5-a1c3f42d7e5d"
    }
   },
   "outputs": [
    {
     "name": "stderr",
     "output_type": "stream",
     "text": [
      "[2017-09-24 05:46] [ssbio.pipeline.gempro] INFO: Mapping UniProt IDs --> PDB IDs...\n",
      "[2017-09-24 05:46] [root] INFO: getUserAgent: Begin\n",
      "[2017-09-24 05:46] [root] INFO: getUserAgent: user_agent: EBI-Sample-Client/ (services.py; Python 3.5.3; Linux) Python-requests/2.14.2\n",
      "[2017-09-24 05:46] [root] INFO: getUserAgent: End\n"
     ]
    },
    {
     "data": {
      "application/vnd.jupyter.widget-view+json": {
       "model_id": "4eb1a2bdc3d34ad9a6c833f32a15ca1b"
      }
     },
     "metadata": {},
     "output_type": "display_data"
    },
    {
     "name": "stderr",
     "output_type": "stream",
     "text": [
      "[2017-09-24 05:46] [ssbio.pipeline.gempro] INFO: 182/661: number of genes with at least one experimental structure\n",
      "[2017-09-24 05:46] [ssbio.pipeline.gempro] INFO: Completed UniProt --> best PDB mapping. See the \"df_pdb_ranking\" attribute for a summary dataframe.\n"
     ]
    },
    {
     "name": "stdout",
     "output_type": "stream",
     "text": [
      "\n"
     ]
    },
    {
     "data": {
      "text/html": [
       "<div>\n",
       "<style>\n",
       "    .dataframe thead tr:only-child th {\n",
       "        text-align: right;\n",
       "    }\n",
       "\n",
       "    .dataframe thead th {\n",
       "        text-align: left;\n",
       "    }\n",
       "\n",
       "    .dataframe tbody tr th {\n",
       "        vertical-align: top;\n",
       "    }\n",
       "</style>\n",
       "<table border=\"1\" class=\"dataframe\">\n",
       "  <thead>\n",
       "    <tr style=\"text-align: right;\">\n",
       "      <th></th>\n",
       "      <th>pdb_id</th>\n",
       "      <th>pdb_chain_id</th>\n",
       "      <th>uniprot</th>\n",
       "      <th>experimental_method</th>\n",
       "      <th>resolution</th>\n",
       "      <th>coverage</th>\n",
       "      <th>start</th>\n",
       "      <th>end</th>\n",
       "      <th>unp_start</th>\n",
       "      <th>unp_end</th>\n",
       "      <th>rank</th>\n",
       "    </tr>\n",
       "    <tr>\n",
       "      <th>gene</th>\n",
       "      <th></th>\n",
       "      <th></th>\n",
       "      <th></th>\n",
       "      <th></th>\n",
       "      <th></th>\n",
       "      <th></th>\n",
       "      <th></th>\n",
       "      <th></th>\n",
       "      <th></th>\n",
       "      <th></th>\n",
       "      <th></th>\n",
       "    </tr>\n",
       "  </thead>\n",
       "  <tbody>\n",
       "    <tr>\n",
       "      <th>Rv0046c</th>\n",
       "      <td>1gr0</td>\n",
       "      <td>A</td>\n",
       "      <td>P9WKI1</td>\n",
       "      <td>X-ray diffraction</td>\n",
       "      <td>1.95</td>\n",
       "      <td>1.0</td>\n",
       "      <td>1</td>\n",
       "      <td>367</td>\n",
       "      <td>1</td>\n",
       "      <td>367</td>\n",
       "      <td>1</td>\n",
       "    </tr>\n",
       "    <tr>\n",
       "      <th>Rv0098</th>\n",
       "      <td>3b18</td>\n",
       "      <td>A</td>\n",
       "      <td>P9WM67</td>\n",
       "      <td>X-ray diffraction</td>\n",
       "      <td>2.75</td>\n",
       "      <td>1.0</td>\n",
       "      <td>1</td>\n",
       "      <td>183</td>\n",
       "      <td>1</td>\n",
       "      <td>183</td>\n",
       "      <td>2</td>\n",
       "    </tr>\n",
       "    <tr>\n",
       "      <th>Rv0098</th>\n",
       "      <td>2pfc</td>\n",
       "      <td>A</td>\n",
       "      <td>P9WM67</td>\n",
       "      <td>X-ray diffraction</td>\n",
       "      <td>2.30</td>\n",
       "      <td>1.0</td>\n",
       "      <td>1</td>\n",
       "      <td>183</td>\n",
       "      <td>1</td>\n",
       "      <td>183</td>\n",
       "      <td>1</td>\n",
       "    </tr>\n",
       "    <tr>\n",
       "      <th>Rv0137c</th>\n",
       "      <td>1nwa</td>\n",
       "      <td>A</td>\n",
       "      <td>P9WJM5</td>\n",
       "      <td>X-ray diffraction</td>\n",
       "      <td>1.50</td>\n",
       "      <td>1.0</td>\n",
       "      <td>22</td>\n",
       "      <td>203</td>\n",
       "      <td>1</td>\n",
       "      <td>182</td>\n",
       "      <td>1</td>\n",
       "    </tr>\n",
       "    <tr>\n",
       "      <th>Rv0211</th>\n",
       "      <td>4r43</td>\n",
       "      <td>A</td>\n",
       "      <td>P9WIH3</td>\n",
       "      <td>X-ray diffraction</td>\n",
       "      <td>1.80</td>\n",
       "      <td>1.0</td>\n",
       "      <td>21</td>\n",
       "      <td>626</td>\n",
       "      <td>1</td>\n",
       "      <td>606</td>\n",
       "      <td>1</td>\n",
       "    </tr>\n",
       "  </tbody>\n",
       "</table>\n",
       "</div>"
      ],
      "text/plain": [
       "        pdb_id pdb_chain_id uniprot experimental_method  resolution  coverage  \\\n",
       "gene                                                                            \n",
       "Rv0046c   1gr0            A  P9WKI1   X-ray diffraction        1.95       1.0   \n",
       "Rv0098    3b18            A  P9WM67   X-ray diffraction        2.75       1.0   \n",
       "Rv0098    2pfc            A  P9WM67   X-ray diffraction        2.30       1.0   \n",
       "Rv0137c   1nwa            A  P9WJM5   X-ray diffraction        1.50       1.0   \n",
       "Rv0211    4r43            A  P9WIH3   X-ray diffraction        1.80       1.0   \n",
       "\n",
       "         start  end  unp_start  unp_end  rank  \n",
       "gene                                           \n",
       "Rv0046c      1  367          1      367     1  \n",
       "Rv0098       1  183          1      183     2  \n",
       "Rv0098       1  183          1      183     1  \n",
       "Rv0137c     22  203          1      182     1  \n",
       "Rv0211      21  626          1      606     1  "
      ]
     },
     "execution_count": 13,
     "metadata": {},
     "output_type": "execute_result"
    }
   ],
   "source": [
    "# Mapping using the PDBe best_structures service\n",
    "my_gempro.map_uniprot_to_pdb(seq_ident_cutoff=.3)\n",
    "my_gempro.df_pdb_ranking.head()"
   ]
  },
  {
   "cell_type": "raw",
   "metadata": {
    "nbpresent": {
     "id": "5d0e86ac-cae8-484a-94e4-2968718b0642"
    },
    "raw_mimetype": "text/restructuredtext"
   },
   "source": [
    ".. automethod:: ssbio.pipeline.gempro.GEMPRO.blast_seqs_to_pdb\n",
    "    :noindex:"
   ]
  },
  {
   "cell_type": "code",
   "execution_count": 14,
   "metadata": {
    "nbpresent": {
     "id": "7988f6de-2c28-48cf-8bf4-854c18f6cce0"
    }
   },
   "outputs": [
    {
     "data": {
      "application/vnd.jupyter.widget-view+json": {
       "model_id": "9514823f701243549f6dc497e1bc6b1c"
      }
     },
     "metadata": {},
     "output_type": "display_data"
    },
    {
     "name": "stderr",
     "output_type": "stream",
     "text": [
      "[2017-09-24 05:46] [ssbio.pipeline.gempro] INFO: Completed sequence --> PDB BLAST. See the \"df_pdb_blast\" attribute for a summary dataframe.\n",
      "[2017-09-24 05:46] [ssbio.pipeline.gempro] INFO: 31: number of genes with additional structures added from BLAST\n"
     ]
    },
    {
     "name": "stdout",
     "output_type": "stream",
     "text": [
      "\n"
     ]
    },
    {
     "data": {
      "text/html": [
       "<div>\n",
       "<style>\n",
       "    .dataframe thead tr:only-child th {\n",
       "        text-align: right;\n",
       "    }\n",
       "\n",
       "    .dataframe thead th {\n",
       "        text-align: left;\n",
       "    }\n",
       "\n",
       "    .dataframe tbody tr th {\n",
       "        vertical-align: top;\n",
       "    }\n",
       "</style>\n",
       "<table border=\"1\" class=\"dataframe\">\n",
       "  <thead>\n",
       "    <tr style=\"text-align: right;\">\n",
       "      <th></th>\n",
       "      <th>pdb_id</th>\n",
       "      <th>pdb_chain_id</th>\n",
       "      <th>hit_score</th>\n",
       "      <th>hit_evalue</th>\n",
       "      <th>hit_percent_similar</th>\n",
       "      <th>hit_percent_ident</th>\n",
       "      <th>hit_num_ident</th>\n",
       "      <th>hit_num_similar</th>\n",
       "    </tr>\n",
       "    <tr>\n",
       "      <th>gene</th>\n",
       "      <th></th>\n",
       "      <th></th>\n",
       "      <th></th>\n",
       "      <th></th>\n",
       "      <th></th>\n",
       "      <th></th>\n",
       "      <th></th>\n",
       "      <th></th>\n",
       "    </tr>\n",
       "  </thead>\n",
       "  <tbody>\n",
       "    <tr>\n",
       "      <th>Rv0066c</th>\n",
       "      <td>5kvu</td>\n",
       "      <td>D</td>\n",
       "      <td>3828.0</td>\n",
       "      <td>0.0</td>\n",
       "      <td>0.981208</td>\n",
       "      <td>0.981208</td>\n",
       "      <td>731</td>\n",
       "      <td>731</td>\n",
       "    </tr>\n",
       "    <tr>\n",
       "      <th>Rv0066c</th>\n",
       "      <td>5kvu</td>\n",
       "      <td>B</td>\n",
       "      <td>3828.0</td>\n",
       "      <td>0.0</td>\n",
       "      <td>0.981208</td>\n",
       "      <td>0.981208</td>\n",
       "      <td>731</td>\n",
       "      <td>731</td>\n",
       "    </tr>\n",
       "  </tbody>\n",
       "</table>\n",
       "</div>"
      ],
      "text/plain": [
       "        pdb_id pdb_chain_id  hit_score  hit_evalue  hit_percent_similar  \\\n",
       "gene                                                                      \n",
       "Rv0066c   5kvu            D     3828.0         0.0             0.981208   \n",
       "Rv0066c   5kvu            B     3828.0         0.0             0.981208   \n",
       "\n",
       "         hit_percent_ident  hit_num_ident  hit_num_similar  \n",
       "gene                                                        \n",
       "Rv0066c           0.981208            731              731  \n",
       "Rv0066c           0.981208            731              731  "
      ]
     },
     "execution_count": 14,
     "metadata": {},
     "output_type": "execute_result"
    }
   ],
   "source": [
    "# Mapping using BLAST\n",
    "my_gempro.blast_seqs_to_pdb(all_genes=True, seq_ident_cutoff=.9, evalue=0.00001)\n",
    "my_gempro.df_pdb_blast.head(2)"
   ]
  },
  {
   "cell_type": "raw",
   "metadata": {
    "nbpresent": {
     "id": "5d0e86ac-cae8-484a-94e4-2968718b0642"
    },
    "raw_mimetype": "text/restructuredtext"
   },
   "source": [
    ".. automethod:: ssbio.pipeline.gempro.GEMPRO.get_itasser_models\n",
    "    :noindex:"
   ]
  },
  {
   "cell_type": "code",
   "execution_count": 15,
   "metadata": {
    "nbpresent": {
     "id": "671863d8-b302-43d6-90a0-b9938a1400db"
    }
   },
   "outputs": [
    {
     "data": {
      "application/vnd.jupyter.widget-view+json": {
       "model_id": "127780770b3d4d9bb33252638a8190d2"
      }
     },
     "metadata": {},
     "output_type": "display_data"
    },
    {
     "name": "stderr",
     "output_type": "stream",
     "text": [
      "[2017-09-24 05:46] [ssbio.pipeline.gempro] INFO: Completed copying of 435 I-TASSER models to GEM-PRO directory. See the \"df_homology_models\" attribute for a summary dataframe.\n"
     ]
    },
    {
     "name": "stdout",
     "output_type": "stream",
     "text": [
      "\n"
     ]
    },
    {
     "data": {
      "application/vnd.jupyter.widget-view+json": {
       "model_id": "a91d01e6dd5c4f0b9939eec0b4f1986e"
      }
     },
     "metadata": {},
     "output_type": "display_data"
    },
    {
     "name": "stderr",
     "output_type": "stream",
     "text": [
      "[2017-09-24 05:46] [ssbio.pipeline.gempro] INFO: Completed copying of 9 I-TASSER models to GEM-PRO directory. See the \"df_homology_models\" attribute for a summary dataframe.\n"
     ]
    },
    {
     "name": "stdout",
     "output_type": "stream",
     "text": [
      "\n"
     ]
    },
    {
     "data": {
      "text/html": [
       "<div>\n",
       "<style>\n",
       "    .dataframe thead tr:only-child th {\n",
       "        text-align: right;\n",
       "    }\n",
       "\n",
       "    .dataframe thead th {\n",
       "        text-align: left;\n",
       "    }\n",
       "\n",
       "    .dataframe tbody tr th {\n",
       "        vertical-align: top;\n",
       "    }\n",
       "</style>\n",
       "<table border=\"1\" class=\"dataframe\">\n",
       "  <thead>\n",
       "    <tr style=\"text-align: right;\">\n",
       "      <th></th>\n",
       "      <th>c_score</th>\n",
       "      <th>difficulty</th>\n",
       "      <th>id</th>\n",
       "      <th>model_date</th>\n",
       "      <th>model_file</th>\n",
       "      <th>rmsd</th>\n",
       "      <th>rmsd_err</th>\n",
       "      <th>tm_score</th>\n",
       "      <th>tm_score_err</th>\n",
       "      <th>top_template_chain</th>\n",
       "      <th>top_template_pdb</th>\n",
       "    </tr>\n",
       "    <tr>\n",
       "      <th>gene</th>\n",
       "      <th></th>\n",
       "      <th></th>\n",
       "      <th></th>\n",
       "      <th></th>\n",
       "      <th></th>\n",
       "      <th></th>\n",
       "      <th></th>\n",
       "      <th></th>\n",
       "      <th></th>\n",
       "      <th></th>\n",
       "      <th></th>\n",
       "    </tr>\n",
       "  </thead>\n",
       "  <tbody>\n",
       "    <tr>\n",
       "      <th>Rv0013</th>\n",
       "      <td>-0.53</td>\n",
       "      <td>easy</td>\n",
       "      <td>P9WN35</td>\n",
       "      <td>2015-12-28</td>\n",
       "      <td>P9WN35_model1.pdb</td>\n",
       "      <td>6.8</td>\n",
       "      <td>4.0</td>\n",
       "      <td>0.65</td>\n",
       "      <td>0.13</td>\n",
       "      <td>B</td>\n",
       "      <td>1i7s</td>\n",
       "    </tr>\n",
       "    <tr>\n",
       "      <th>Rv0032</th>\n",
       "      <td>-2.89</td>\n",
       "      <td>easy</td>\n",
       "      <td>P9WQ85</td>\n",
       "      <td>2016-01-11</td>\n",
       "      <td>P9WQ85_model1.pdb</td>\n",
       "      <td>15.7</td>\n",
       "      <td>3.3</td>\n",
       "      <td>0.39</td>\n",
       "      <td>0.13</td>\n",
       "      <td>A</td>\n",
       "      <td>3a2b</td>\n",
       "    </tr>\n",
       "    <tr>\n",
       "      <th>Rv0066c</th>\n",
       "      <td>1.91</td>\n",
       "      <td>easy</td>\n",
       "      <td>O53611</td>\n",
       "      <td>2016-01-04</td>\n",
       "      <td>O53611_model1.pdb</td>\n",
       "      <td>4.1</td>\n",
       "      <td>2.8</td>\n",
       "      <td>0.99</td>\n",
       "      <td>0.04</td>\n",
       "      <td>A</td>\n",
       "      <td>1itw</td>\n",
       "    </tr>\n",
       "    <tr>\n",
       "      <th>Rv0069c</th>\n",
       "      <td>1.18</td>\n",
       "      <td>easy</td>\n",
       "      <td>P9WGT5</td>\n",
       "      <td>2016-01-08</td>\n",
       "      <td>P9WGT5_model1.pdb</td>\n",
       "      <td>4.6</td>\n",
       "      <td>3.0</td>\n",
       "      <td>0.88</td>\n",
       "      <td>0.07</td>\n",
       "      <td>A</td>\n",
       "      <td>4rqo</td>\n",
       "    </tr>\n",
       "    <tr>\n",
       "      <th>Rv0070c</th>\n",
       "      <td>1.80</td>\n",
       "      <td>easy</td>\n",
       "      <td>P9WGI7</td>\n",
       "      <td>2015-12-29</td>\n",
       "      <td>P9WGI7_model1.pdb</td>\n",
       "      <td>3.3</td>\n",
       "      <td>2.3</td>\n",
       "      <td>0.97</td>\n",
       "      <td>0.05</td>\n",
       "      <td>B</td>\n",
       "      <td>3h7f</td>\n",
       "    </tr>\n",
       "  </tbody>\n",
       "</table>\n",
       "</div>"
      ],
      "text/plain": [
       "         c_score difficulty      id  model_date         model_file  rmsd  \\\n",
       "gene                                                                       \n",
       "Rv0013     -0.53       easy  P9WN35  2015-12-28  P9WN35_model1.pdb   6.8   \n",
       "Rv0032     -2.89       easy  P9WQ85  2016-01-11  P9WQ85_model1.pdb  15.7   \n",
       "Rv0066c     1.91       easy  O53611  2016-01-04  O53611_model1.pdb   4.1   \n",
       "Rv0069c     1.18       easy  P9WGT5  2016-01-08  P9WGT5_model1.pdb   4.6   \n",
       "Rv0070c     1.80       easy  P9WGI7  2015-12-29  P9WGI7_model1.pdb   3.3   \n",
       "\n",
       "         rmsd_err  tm_score  tm_score_err top_template_chain top_template_pdb  \n",
       "gene                                                                           \n",
       "Rv0013        4.0      0.65          0.13                  B             1i7s  \n",
       "Rv0032        3.3      0.39          0.13                  A             3a2b  \n",
       "Rv0066c       2.8      0.99          0.04                  A             1itw  \n",
       "Rv0069c       3.0      0.88          0.07                  A             4rqo  \n",
       "Rv0070c       2.3      0.97          0.05                  B             3h7f  "
      ]
     },
     "execution_count": 15,
     "metadata": {},
     "output_type": "execute_result"
    }
   ],
   "source": [
    "tb_homology_dir = '/home/nathan/projects_archive/homology_models/MTUBERCULOSIS/'\n",
    "\n",
    "##### EXAMPLE SPECIFIC CODE #####\n",
    "# Needed to map to older IDs used in this example\n",
    "import pandas as pd\n",
    "import os.path as op\n",
    "old_gene_to_homology = pd.read_csv(op.join(tb_homology_dir, 'data/161031-old_gene_to_uniprot_mapping.csv'))\n",
    "gene_to_uniprot = old_gene_to_homology.set_index('m_gene').to_dict()['u_uniprot_acc']\n",
    "my_gempro.get_itasser_models(homology_raw_dir=op.join(tb_homology_dir, 'raw'), custom_itasser_name_mapping=gene_to_uniprot)\n",
    "### END EXAMPLE SPECIFIC CODE ###\n",
    "\n",
    "# Organizing I-TASSER homology models\n",
    "my_gempro.get_itasser_models(homology_raw_dir=op.join(tb_homology_dir, 'raw'))\n",
    "my_gempro.df_homology_models.head()"
   ]
  },
  {
   "cell_type": "raw",
   "metadata": {
    "nbpresent": {
     "id": "5d0e86ac-cae8-484a-94e4-2968718b0642"
    },
    "raw_mimetype": "text/restructuredtext"
   },
   "source": [
    ".. automethod:: ssbio.pipeline.gempro.GEMPRO.get_manual_homology_models\n",
    "    :noindex:"
   ]
  },
  {
   "cell_type": "code",
   "execution_count": 16,
   "metadata": {
    "nbpresent": {
     "id": "5c6b6ada-6634-4fb6-ad00-fe28ba29bc25"
    }
   },
   "outputs": [
    {
     "data": {
      "application/vnd.jupyter.widget-view+json": {
       "model_id": "dd04c213dd8b4cf191071724afaf8b20"
      }
     },
     "metadata": {},
     "output_type": "display_data"
    },
    {
     "name": "stderr",
     "output_type": "stream",
     "text": [
      "[2017-09-24 04:05] [ssbio.pipeline.gempro] INFO: Updated homology model information for 0 genes.\n"
     ]
    },
    {
     "name": "stdout",
     "output_type": "stream",
     "text": [
      "\n"
     ]
    }
   ],
   "source": [
    "homology_model_dict = {}\n",
    "my_gempro.get_manual_homology_models(homology_model_dict)"
   ]
  },
  {
   "cell_type": "markdown",
   "metadata": {
    "nbpresent": {
     "id": "6d3ecdf6-3b29-40fa-93e0-70160ba5bb76"
    }
   },
   "source": [
    "## Downloading and ranking structures"
   ]
  },
  {
   "cell_type": "markdown",
   "metadata": {
    "nbpresent": {
     "id": "f9ad45d6-b7da-4663-a3c4-fd44571b5107"
    }
   },
   "source": [
    "### Methods"
   ]
  },
  {
   "cell_type": "raw",
   "metadata": {
    "nbpresent": {
     "id": "5d0e86ac-cae8-484a-94e4-2968718b0642"
    },
    "raw_mimetype": "text/restructuredtext"
   },
   "source": [
    ".. automethod:: ssbio.pipeline.gempro.GEMPRO.pdb_downloader_and_metadata\n",
    "    :noindex:"
   ]
  },
  {
   "cell_type": "markdown",
   "metadata": {},
   "source": [
    "<div class=\"alert alert-warning\">\n",
    "\n",
    "**Warning:** \n",
    "Downloading all PDBs takes a while, since they are also parsed for metadata. You can skip this step and just set representative structures below if you want to minimize the number of PDBs downloaded.\n",
    "\n",
    "</div>"
   ]
  },
  {
   "cell_type": "code",
   "execution_count": 17,
   "metadata": {
    "nbpresent": {
     "id": "ebd6dbf0-caae-44df-97ca-3e9645fe0918"
    }
   },
   "outputs": [
    {
     "data": {
      "application/vnd.jupyter.widget-view+json": {
       "model_id": "114b54bef4544ab589bd1a91ab7cfe86"
      }
     },
     "metadata": {},
     "output_type": "display_data"
    },
    {
     "name": "stdout",
     "output_type": "stream",
     "text": [
      "\r",
      "          \r",
      "84/|/ 13%|| 84/661 [00:40<04:35,  2.10it/s]"
     ]
    },
    {
     "name": "stderr",
     "output_type": "stream",
     "text": [
      "[2017-09-24 04:12] [ssbio.pipeline.gempro] INFO: Updated PDB metadata dataframe. See the \"df_pdb_metadata\" attribute for a summary dataframe.\n",
      "[2017-09-24 04:12] [ssbio.pipeline.gempro] INFO: Saved 973 structures total\n"
     ]
    },
    {
     "name": "stdout",
     "output_type": "stream",
     "text": [
      "\n"
     ]
    },
    {
     "data": {
      "text/html": [
       "<div>\n",
       "<style>\n",
       "    .dataframe thead tr:only-child th {\n",
       "        text-align: right;\n",
       "    }\n",
       "\n",
       "    .dataframe thead th {\n",
       "        text-align: left;\n",
       "    }\n",
       "\n",
       "    .dataframe tbody tr th {\n",
       "        vertical-align: top;\n",
       "    }\n",
       "</style>\n",
       "<table border=\"1\" class=\"dataframe\">\n",
       "  <thead>\n",
       "    <tr style=\"text-align: right;\">\n",
       "      <th></th>\n",
       "      <th>chemicals</th>\n",
       "      <th>description</th>\n",
       "      <th>experimental_method</th>\n",
       "      <th>mapped_chains</th>\n",
       "      <th>pdb_id</th>\n",
       "      <th>pdb_title</th>\n",
       "      <th>resolution</th>\n",
       "      <th>structure_file</th>\n",
       "      <th>taxonomy_name</th>\n",
       "    </tr>\n",
       "    <tr>\n",
       "      <th>gene</th>\n",
       "      <th></th>\n",
       "      <th></th>\n",
       "      <th></th>\n",
       "      <th></th>\n",
       "      <th></th>\n",
       "      <th></th>\n",
       "      <th></th>\n",
       "      <th></th>\n",
       "      <th></th>\n",
       "    </tr>\n",
       "  </thead>\n",
       "  <tbody>\n",
       "    <tr>\n",
       "      <th>Rv0046c</th>\n",
       "      <td>CAC;NAD;ZN</td>\n",
       "      <td>INOSITOL-3-PHOSPHATE SYNTHASE (E.C.5.5.1.4)</td>\n",
       "      <td>X-ray diffraction</td>\n",
       "      <td>A</td>\n",
       "      <td>1gr0</td>\n",
       "      <td>myo-inositol 1-phosphate synthase from Mycobac...</td>\n",
       "      <td>1.95</td>\n",
       "      <td>1gr0.mmtf</td>\n",
       "      <td>MYCOBACTERIUM TUBERCULOSIS</td>\n",
       "    </tr>\n",
       "    <tr>\n",
       "      <th>Rv0066c</th>\n",
       "      <td>EDO;GOL;MLA;MLT;NAP;SIN</td>\n",
       "      <td>Isocitrate dehydrogenase (E.C.1.1.1.42)</td>\n",
       "      <td>X-RAY DIFFRACTION</td>\n",
       "      <td>A;B;C;D</td>\n",
       "      <td>5kvu</td>\n",
       "      <td>Crystal structure of isocitrate dehydrogenase-...</td>\n",
       "      <td>2.66</td>\n",
       "      <td>5kvu.mmtf</td>\n",
       "      <td>Mycobacterium tuberculosis (strain ATCC 25618 ...</td>\n",
       "    </tr>\n",
       "  </tbody>\n",
       "</table>\n",
       "</div>"
      ],
      "text/plain": [
       "                       chemicals                                  description  \\\n",
       "gene                                                                            \n",
       "Rv0046c               CAC;NAD;ZN  INOSITOL-3-PHOSPHATE SYNTHASE (E.C.5.5.1.4)   \n",
       "Rv0066c  EDO;GOL;MLA;MLT;NAP;SIN      Isocitrate dehydrogenase (E.C.1.1.1.42)   \n",
       "\n",
       "        experimental_method mapped_chains pdb_id  \\\n",
       "gene                                               \n",
       "Rv0046c   X-ray diffraction             A   1gr0   \n",
       "Rv0066c   X-RAY DIFFRACTION       A;B;C;D   5kvu   \n",
       "\n",
       "                                                 pdb_title  resolution  \\\n",
       "gene                                                                     \n",
       "Rv0046c  myo-inositol 1-phosphate synthase from Mycobac...        1.95   \n",
       "Rv0066c  Crystal structure of isocitrate dehydrogenase-...        2.66   \n",
       "\n",
       "        structure_file                                      taxonomy_name  \n",
       "gene                                                                       \n",
       "Rv0046c      1gr0.mmtf                         MYCOBACTERIUM TUBERCULOSIS  \n",
       "Rv0066c      5kvu.mmtf  Mycobacterium tuberculosis (strain ATCC 25618 ...  "
      ]
     },
     "execution_count": 17,
     "metadata": {},
     "output_type": "execute_result"
    }
   ],
   "source": [
    "# Download all mapped PDBs and gather the metadata\n",
    "my_gempro.pdb_downloader_and_metadata()\n",
    "my_gempro.df_pdb_metadata.head(2)"
   ]
  },
  {
   "cell_type": "raw",
   "metadata": {
    "nbpresent": {
     "id": "5d0e86ac-cae8-484a-94e4-2968718b0642"
    },
    "raw_mimetype": "text/restructuredtext"
   },
   "source": [
    ".. automethod:: ssbio.pipeline.gempro.GEMPRO.set_representative_structure\n",
    "    :noindex:"
   ]
  },
  {
   "cell_type": "code",
   "execution_count": 18,
   "metadata": {
    "nbpresent": {
     "id": "b8b3ad50-18bd-4999-ac3f-a50826b49a99"
    }
   },
   "outputs": [
    {
     "data": {
      "application/vnd.jupyter.widget-view+json": {
       "model_id": "1e9b9f96d1e3405394d4ae6e95f65920"
      }
     },
     "metadata": {},
     "output_type": "display_data"
    },
    {
     "name": "stderr",
     "output_type": "stream",
     "text": [
      "[2017-09-24 04:13] [ssbio.core.protein] WARNING: Rv0432: no structures meet quality checks\n",
      "[2017-09-24 04:13] [ssbio.core.protein] WARNING: Rv1286: no structures meet quality checks\n",
      "[2017-09-24 04:13] [ssbio.core.protein] WARNING: Rv2934: no structures meet quality checks\n",
      "[2017-09-24 04:13] [ssbio.core.protein] WARNING: Rv2932: no structures meet quality checks\n",
      "[2017-09-24 04:13] [ssbio.core.protein] WARNING: Rv2933: no structures meet quality checks\n",
      "[2017-09-24 04:13] [ssbio.core.protein] WARNING: Rv2931: no structures meet quality checks\n",
      "[2017-09-24 04:13] [ssbio.core.protein] WARNING: Rv2945c: no structures meet quality checks\n",
      "[2017-09-24 04:13] [ssbio.core.protein] WARNING: Rv2941: no structures meet quality checks\n",
      "[2017-09-24 04:13] [ssbio.core.protein] WARNING: Rv2495c: no structures meet quality checks\n",
      "[2017-09-24 04:14] [ssbio.core.protein] WARNING: Rv2380c: no structures meet quality checks\n",
      "[2017-09-24 04:14] [ssbio.core.protein] WARNING: Rv2987c: no structures meet quality checks\n",
      "[2017-09-24 04:15] [ssbio.core.protein] WARNING: Rv3859c: no structures meet quality checks\n",
      "[2017-09-24 04:15] [ssbio.core.protein] WARNING: Rv2476c: no structures meet quality checks\n",
      "[2017-09-24 04:15] [ssbio.core.protein] WARNING: Rv1653: no structures meet quality checks\n",
      "[2017-09-24 04:15] [ssbio.core.protein] WARNING: Rv3800c: no structures meet quality checks\n",
      "[2017-09-24 04:16] [ssbio.core.protein] WARNING: Rv2498c: no structures meet quality checks\n",
      "[2017-09-24 04:16] [ssbio.core.protein] WARNING: Rv1885c: no structures meet quality checks\n",
      "[2017-09-24 04:16] [ssbio.core.protein] WARNING: Rv3601c: no structures meet quality checks\n",
      "[2017-09-24 04:16] [ssbio.core.protein] WARNING: Rv3330: no structures meet quality checks\n",
      "[2017-09-24 04:16] [ssbio.core.protein] WARNING: Rv3793: no structures meet quality checks\n",
      "[2017-09-24 04:16] [ssbio.core.protein] WARNING: Rv2940c: no structures meet quality checks\n",
      "[2017-09-24 04:16] [ssbio.core.protein] WARNING: Rv1662: no structures meet quality checks\n",
      "[2017-09-24 04:16] [ssbio.core.protein] WARNING: Rv2524c: no structures meet quality checks\n",
      "[2017-09-24 04:17] [ssbio.core.protein] WARNING: Rv1625c: no structures meet quality checks\n",
      "[2017-09-24 04:17] [ssbio.pipeline.gempro] INFO: 590/661: number of genes with a representative structure\n",
      "[2017-09-24 04:17] [ssbio.pipeline.gempro] INFO: See the \"df_representative_structures\" attribute for a summary dataframe.\n"
     ]
    },
    {
     "name": "stdout",
     "output_type": "stream",
     "text": [
      "\n"
     ]
    },
    {
     "data": {
      "text/html": [
       "<div>\n",
       "<style>\n",
       "    .dataframe thead tr:only-child th {\n",
       "        text-align: right;\n",
       "    }\n",
       "\n",
       "    .dataframe thead th {\n",
       "        text-align: left;\n",
       "    }\n",
       "\n",
       "    .dataframe tbody tr th {\n",
       "        vertical-align: top;\n",
       "    }\n",
       "</style>\n",
       "<table border=\"1\" class=\"dataframe\">\n",
       "  <thead>\n",
       "    <tr style=\"text-align: right;\">\n",
       "      <th></th>\n",
       "      <th>id</th>\n",
       "      <th>is_experimental</th>\n",
       "      <th>file_type</th>\n",
       "      <th>structure_file</th>\n",
       "    </tr>\n",
       "    <tr>\n",
       "      <th>gene</th>\n",
       "      <th></th>\n",
       "      <th></th>\n",
       "      <th></th>\n",
       "      <th></th>\n",
       "    </tr>\n",
       "  </thead>\n",
       "  <tbody>\n",
       "    <tr>\n",
       "      <th>Rv0013</th>\n",
       "      <td>REP-P9WN35</td>\n",
       "      <td>False</td>\n",
       "      <td>pdb</td>\n",
       "      <td>P9WN35_model1-X_clean.pdb</td>\n",
       "    </tr>\n",
       "    <tr>\n",
       "      <th>Rv0032</th>\n",
       "      <td>REP-P9WQ85</td>\n",
       "      <td>False</td>\n",
       "      <td>pdb</td>\n",
       "      <td>P9WQ85_model1-X_clean.pdb</td>\n",
       "    </tr>\n",
       "    <tr>\n",
       "      <th>Rv0046c</th>\n",
       "      <td>REP-1gr0</td>\n",
       "      <td>True</td>\n",
       "      <td>pdb</td>\n",
       "      <td>1gr0-A_clean.pdb</td>\n",
       "    </tr>\n",
       "    <tr>\n",
       "      <th>Rv0066c</th>\n",
       "      <td>REP-5kvu</td>\n",
       "      <td>True</td>\n",
       "      <td>pdb</td>\n",
       "      <td>5kvu-A_clean.pdb</td>\n",
       "    </tr>\n",
       "    <tr>\n",
       "      <th>Rv0069c</th>\n",
       "      <td>REP-P9WGT5</td>\n",
       "      <td>False</td>\n",
       "      <td>pdb</td>\n",
       "      <td>P9WGT5_model1-X_clean.pdb</td>\n",
       "    </tr>\n",
       "  </tbody>\n",
       "</table>\n",
       "</div>"
      ],
      "text/plain": [
       "                 id  is_experimental file_type             structure_file\n",
       "gene                                                                     \n",
       "Rv0013   REP-P9WN35            False       pdb  P9WN35_model1-X_clean.pdb\n",
       "Rv0032   REP-P9WQ85            False       pdb  P9WQ85_model1-X_clean.pdb\n",
       "Rv0046c    REP-1gr0             True       pdb           1gr0-A_clean.pdb\n",
       "Rv0066c    REP-5kvu             True       pdb           5kvu-A_clean.pdb\n",
       "Rv0069c  REP-P9WGT5            False       pdb  P9WGT5_model1-X_clean.pdb"
      ]
     },
     "execution_count": 18,
     "metadata": {},
     "output_type": "execute_result"
    }
   ],
   "source": [
    "# Set representative structures\n",
    "my_gempro.set_representative_structure()\n",
    "my_gempro.df_representative_structures.head()"
   ]
  },
  {
   "cell_type": "code",
   "execution_count": 19,
   "metadata": {
    "nbpresent": {
     "id": "1e804448-b945-4a58-8dd2-a75f96bb2870"
    }
   },
   "outputs": [
    {
     "data": {
      "text/plain": [
       "<StructProp REP-2d1f at 0x7fc1468b42b0>"
      ]
     },
     "execution_count": 19,
     "metadata": {},
     "output_type": "execute_result"
    },
    {
     "data": {
      "text/plain": [
       "{'_structure_dir': '/tmp/mtuberculosis_gp_atlas/genes/Rv1295/Rv1295_protein/structures',\n",
       " 'chains': [<ChainProp A at 0x7fc145e106a0>],\n",
       " 'date': None,\n",
       " 'description': 'Threonine synthase (E.C.4.2.3.1)',\n",
       " 'file_type': 'pdb',\n",
       " 'id': 'REP-2d1f',\n",
       " 'is_experimental': True,\n",
       " 'mapped_chains': ['A'],\n",
       " 'notes': {},\n",
       " 'original_pdb_id': '2d1f',\n",
       " 'resolution': 2.5,\n",
       " 'structure_file': '2d1f-A_clean.pdb',\n",
       " 'taxonomy_name': 'Mycobacterium tuberculosis'}"
      ]
     },
     "execution_count": 19,
     "metadata": {},
     "output_type": "execute_result"
    }
   ],
   "source": [
    "# Looking at the information saved within a gene\n",
    "my_gempro.genes.get_by_id('Rv1295').protein.representative_structure\n",
    "my_gempro.genes.get_by_id('Rv1295').protein.representative_structure.get_dict()"
   ]
  },
  {
   "cell_type": "markdown",
   "metadata": {
    "nbpresent": {
     "id": "a27b6df9-075d-421d-8071-6c074e1c5fd1"
    }
   },
   "source": [
    "## Creating homology models"
   ]
  },
  {
   "cell_type": "markdown",
   "metadata": {
    "nbpresent": {
     "id": "ef4bbfe9-7d0b-4fbb-94b9-1ab348dcfab8"
    }
   },
   "source": [
    "For those proteins with no representative structure, we can create homology models for them. `ssbio` contains some built in functions for easily running [I-TASSER](http://zhanglab.ccmb.med.umich.edu/I-TASSER/download/) locally or on machines with `SLURM` (ie. on NERSC) or `Torque` job scheduling.\n",
    "\n",
    "You can load in I-TASSER models once they complete using the `get_itasser_models` later.\n",
    "\n",
    "<p><div class=\"alert alert-info\">**Info:** Homology modeling can take a long time - about 24-72 hours per protein (highly dependent on the sequence length, as well as if there are available templates).</div></p>"
   ]
  },
  {
   "cell_type": "markdown",
   "metadata": {
    "nbpresent": {
     "id": "521da19c-361a-479f-8246-f07ccfacd78d"
    }
   },
   "source": [
    "### Methods"
   ]
  },
  {
   "cell_type": "raw",
   "metadata": {
    "nbpresent": {
     "id": "5d0e86ac-cae8-484a-94e4-2968718b0642"
    },
    "raw_mimetype": "text/restructuredtext"
   },
   "source": [
    ".. automethod:: ssbio.pipeline.gempro.GEMPRO.prep_itasser_models\n",
    "    :noindex:"
   ]
  },
  {
   "cell_type": "code",
   "execution_count": 20,
   "metadata": {
    "nbpresent": {
     "id": "2a341eb6-9fb1-4381-8f45-fb452a0339a0"
    }
   },
   "outputs": [
    {
     "name": "stderr",
     "output_type": "stream",
     "text": [
      "[2017-09-24 04:17] [ssbio.protein.structure.homology.itasser.itasserprep] WARNING: Rv2934: I-TASSER modeling will not run as sequence length (1827) is not in the range [10, 1500]\n",
      "[2017-09-24 04:17] [ssbio.protein.structure.homology.itasser.itasserprep] WARNING: Rv2932: I-TASSER modeling will not run as sequence length (1538) is not in the range [10, 1500]\n",
      "[2017-09-24 04:17] [ssbio.protein.structure.homology.itasser.itasserprep] WARNING: Rv2933: I-TASSER modeling will not run as sequence length (2188) is not in the range [10, 1500]\n",
      "[2017-09-24 04:17] [ssbio.protein.structure.homology.itasser.itasserprep] WARNING: Rv2931: I-TASSER modeling will not run as sequence length (1876) is not in the range [10, 1500]\n",
      "[2017-09-24 04:17] [ssbio.protein.structure.homology.itasser.itasserprep] WARNING: Rv2380c: I-TASSER modeling will not run as sequence length (1682) is not in the range [10, 1500]\n",
      "[2017-09-24 04:17] [ssbio.protein.structure.homology.itasser.itasserprep] WARNING: Rv3859c: I-TASSER modeling will not run as sequence length (1527) is not in the range [10, 1500]\n",
      "[2017-09-24 04:17] [ssbio.protein.structure.homology.itasser.itasserprep] WARNING: Rv2476c: I-TASSER modeling will not run as sequence length (1624) is not in the range [10, 1500]\n",
      "[2017-09-24 04:17] [ssbio.protein.structure.homology.itasser.itasserprep] WARNING: Rv3800c: I-TASSER modeling will not run as sequence length (1733) is not in the range [10, 1500]\n",
      "[2017-09-24 04:17] [ssbio.protein.structure.homology.itasser.itasserprep] WARNING: Rv0107c: I-TASSER modeling will not run as sequence length (1632) is not in the range [10, 1500]\n",
      "[2017-09-24 04:17] [ssbio.protein.structure.homology.itasser.itasserprep] WARNING: Rv2940c: I-TASSER modeling will not run as sequence length (2111) is not in the range [10, 1500]\n",
      "[2017-09-24 04:17] [ssbio.protein.structure.homology.itasser.itasserprep] WARNING: Rv1662: I-TASSER modeling will not run as sequence length (1602) is not in the range [10, 1500]\n",
      "[2017-09-24 04:17] [ssbio.protein.structure.homology.itasser.itasserprep] WARNING: Rv2524c: I-TASSER modeling will not run as sequence length (3069) is not in the range [10, 1500]\n",
      "[2017-09-24 04:17] [ssbio.pipeline.gempro] INFO: Prepared I-TASSER modeling folders for 71 genes in folder /tmp/mtuberculosis_gp_atlas/data/homology_models\n"
     ]
    }
   ],
   "source": [
    "# Prep I-TASSER model folders\n",
    "my_gempro.prep_itasser_models('~/software/I-TASSER4.4', '~/software/ITLIB/', runtype='local', all_genes=False)"
   ]
  },
  {
   "cell_type": "markdown",
   "metadata": {
    "nbpresent": {
     "id": "4983f3e6-4831-4d00-a0ff-42311009306f"
    }
   },
   "source": [
    "## Saving your GEM-PRO"
   ]
  },
  {
   "cell_type": "markdown",
   "metadata": {
    "nbpresent": {
     "id": "e4fb2768-ac58-4e68-85d6-0710139b45da"
    }
   },
   "source": [
    "Finally, you can save your GEM-PRO as a `JSON` or `pickle` file, so you don't have to run the pipeline again. \n",
    "\n",
    "For most functions, if you rerun them, they will check for existing results saved as files. The only function that would take a long time is setting the representative structure, as they are each rechecked and cleaned. This is where saving helps!\n",
    "\n",
    "<p><div class=\"alert alert-warning\">**Warning:** Saving in JSON format is still experimental. For a full GEM-PRO with sequences & structures, depending on the number of genes, saving can take >5 minutes.</div></p>"
   ]
  },
  {
   "cell_type": "raw",
   "metadata": {
    "raw_mimetype": "text/restructuredtext"
   },
   "source": [
    ".. automethod:: ssbio.pipeline.gempro.GEMPRO.save_pickle\n",
    "    :noindex:"
   ]
  },
  {
   "cell_type": "code",
   "execution_count": 21,
   "metadata": {},
   "outputs": [],
   "source": [
    "import os.path as op\n",
    "my_gempro.save_pickle(op.join(my_gempro.model_dir, '{}.pckl'.format(my_gempro.id)))"
   ]
  },
  {
   "cell_type": "raw",
   "metadata": {
    "nbpresent": {
     "id": "5d0e86ac-cae8-484a-94e4-2968718b0642"
    },
    "raw_mimetype": "text/restructuredtext"
   },
   "source": [
    ".. automethod:: ssbio.pipeline.gempro.GEMPRO.save_json\n",
    "    :noindex:"
   ]
  },
  {
   "cell_type": "code",
   "execution_count": 5,
   "metadata": {
    "nbpresent": {
     "id": "abcf9f1b-09e9-4408-8413-7a80e3258559"
    }
   },
   "outputs": [],
   "source": [
    "import os.path as op\n",
    "my_gempro.save_json(op.join(my_gempro.model_dir, '{}.json'.format(my_gempro.id)), compression=False)"
   ]
  },
  {
   "cell_type": "markdown",
   "metadata": {},
   "source": [
    "## Loading a saved GEM-PRO"
   ]
  },
  {
   "cell_type": "code",
   "execution_count": 1,
   "metadata": {
    "collapsed": true
   },
   "outputs": [],
   "source": [
    "# Loading a pickle file\n",
    "import pickle\n",
    "with open('/tmp/mtuberculosis_gp_atlas/model/mtuberculosis_gp_atlas.pckl', 'rb') as f:\n",
    "    my_saved_gempro = pickle.load(f)"
   ]
  },
  {
   "cell_type": "code",
   "execution_count": 13,
   "metadata": {},
   "outputs": [
    {
     "data": {
      "text/plain": [
       "{'id': 'Rv0417',\n",
       " 'name': 'thiG',\n",
       " 'notes': {'original_bigg_ids': ['Rv0417']},\n",
       " 'protein': <Protein Rv0417 at 0x7f103b45c1d0>,\n",
       " 'root_dir': '/tmp/mtuberculosis_gp_atlas/genes'}"
      ]
     },
     "execution_count": 13,
     "metadata": {},
     "output_type": "execute_result"
    }
   ],
   "source": [
    "my_saved_gempro.genes[0].__json_encode__()"
   ]
  },
  {
   "cell_type": "code",
   "execution_count": 10,
   "metadata": {},
   "outputs": [
    {
     "data": {
      "text/plain": [
       "{'_root_dir': '/tmp/mtuberculosis_gp_atlas/genes/Rv0417',\n",
       " 'description': None,\n",
       " 'id': 'Rv0417',\n",
       " 'notes': {},\n",
       " 'pdb_file_type': 'mmtf',\n",
       " 'representative_chain': 'X',\n",
       " 'representative_chain_seq_coverage': 100.0,\n",
       " 'representative_sequence': UniProtProp(seq=Seq('MAESKLVIGDRSFASRLIMGTGGATNLAVLEQALIASGTELTTVAIRRVDADGG...PAR', SingleLetterAlphabet()), id='P9WG73', name='sp|P9WG73|THIG_MYCTU', description='Thiazole synthase', dbxrefs=[]),\n",
       " 'representative_structure': <StructProp REP-P9WG73 at 0x7f103b45c4a8>,\n",
       " 'sequence_alignments': [<<class 'Bio.Align.MultipleSeqAlignment'> instance (2 records of length 252, SingleLetterAlphabet()) at 7f103b45ca20>],\n",
       " 'sequences': [KEGGProp(seq=Seq('MAESKLVIGDRSFASRLIMGTGGATNLAVLEQALIASGTELTTVAIRRVDADGG...PAR', SingleLetterAlphabet()), id='mtu:Rv0417', name='mtu:Rv0417', description='mtu:Rv0417 K03149 thiazole synthase [EC:2.8.1.10] | (RefSeq) thiG; thiazole synthase (A)', dbxrefs=[]),\n",
       "  UniProtProp(seq=Seq('MAESKLVIGDRSFASRLIMGTGGATNLAVLEQALIASGTELTTVAIRRVDADGG...PAR', SingleLetterAlphabet()), id='P9WG73', name='sp|P9WG73|THIG_MYCTU', description='Thiazole synthase', dbxrefs=[])],\n",
       " 'structure_alignments': [],\n",
       " 'structures': [<ITASSERProp P9WG73 at 0x7f103b45c208>,\n",
       "  <StructProp REP-P9WG73 at 0x7f103b45c4a8>]}"
      ]
     },
     "execution_count": 10,
     "metadata": {},
     "output_type": "execute_result"
    }
   ],
   "source": [
    "my_saved_gempro.genes[0].protein.__json_encode__()"
   ]
  },
  {
   "cell_type": "code",
   "execution_count": 6,
   "metadata": {},
   "outputs": [
    {
     "ename": "AttributeError",
     "evalue": "'GenePro' object has no attribute '_root_dir'",
     "output_type": "error",
     "traceback": [
      "\u001b[0;31m---------------------------------------------------------------------------\u001b[0m",
      "\u001b[0;31mAttributeError\u001b[0m                            Traceback (most recent call last)",
      "\u001b[0;32m<ipython-input-6-1a7ccd1e60af>\u001b[0m in \u001b[0;36m<module>\u001b[0;34m()\u001b[0m\n\u001b[1;32m      1\u001b[0m \u001b[0;31m# Loading a JSON file\u001b[0m\u001b[0;34m\u001b[0m\u001b[0;34m\u001b[0m\u001b[0m\n\u001b[1;32m      2\u001b[0m \u001b[0;32mimport\u001b[0m \u001b[0mssbio\u001b[0m\u001b[0;34m.\u001b[0m\u001b[0mcore\u001b[0m\u001b[0;34m.\u001b[0m\u001b[0mio\u001b[0m\u001b[0;34m\u001b[0m\u001b[0m\n\u001b[0;32m----> 3\u001b[0;31m \u001b[0mmy_saved_gempro\u001b[0m \u001b[0;34m=\u001b[0m \u001b[0mssbio\u001b[0m\u001b[0;34m.\u001b[0m\u001b[0mcore\u001b[0m\u001b[0;34m.\u001b[0m\u001b[0mio\u001b[0m\u001b[0;34m.\u001b[0m\u001b[0mload_json\u001b[0m\u001b[0;34m(\u001b[0m\u001b[0;34m'/tmp/mtuberculosis_gp_atlas/model/mtuberculosis_gp_atlas.json'\u001b[0m\u001b[0;34m,\u001b[0m \u001b[0mdecompression\u001b[0m\u001b[0;34m=\u001b[0m\u001b[0;32mFalse\u001b[0m\u001b[0;34m)\u001b[0m\u001b[0;34m\u001b[0m\u001b[0m\n\u001b[0m",
      "\u001b[0;32m/mnt/projects/ssbio/ssbio/core/io.py\u001b[0m in \u001b[0;36mload_json\u001b[0;34m(file, new_root_dir, decompression)\u001b[0m\n\u001b[1;32m     23\u001b[0m     \u001b[0;32melse\u001b[0m\u001b[0;34m:\u001b[0m\u001b[0;34m\u001b[0m\u001b[0m\n\u001b[1;32m     24\u001b[0m         \u001b[0;32mwith\u001b[0m \u001b[0mopen\u001b[0m\u001b[0;34m(\u001b[0m\u001b[0mfile\u001b[0m\u001b[0;34m,\u001b[0m \u001b[0;34m'r'\u001b[0m\u001b[0;34m)\u001b[0m \u001b[0;32mas\u001b[0m \u001b[0mf\u001b[0m\u001b[0;34m:\u001b[0m\u001b[0;34m\u001b[0m\u001b[0m\n\u001b[0;32m---> 25\u001b[0;31m             \u001b[0mmy_object\u001b[0m \u001b[0;34m=\u001b[0m \u001b[0mload\u001b[0m\u001b[0;34m(\u001b[0m\u001b[0mf\u001b[0m\u001b[0;34m,\u001b[0m \u001b[0mdecompression\u001b[0m\u001b[0;34m=\u001b[0m\u001b[0mdecompression\u001b[0m\u001b[0;34m)\u001b[0m\u001b[0;34m\u001b[0m\u001b[0m\n\u001b[0m\u001b[1;32m     26\u001b[0m     \u001b[0;32mif\u001b[0m \u001b[0mnew_root_dir\u001b[0m\u001b[0;34m:\u001b[0m\u001b[0;34m\u001b[0m\u001b[0m\n\u001b[1;32m     27\u001b[0m         \u001b[0mmy_object\u001b[0m\u001b[0;34m.\u001b[0m\u001b[0mroot_dir\u001b[0m \u001b[0;34m=\u001b[0m \u001b[0mnew_root_dir\u001b[0m\u001b[0;34m\u001b[0m\u001b[0m\n",
      "\u001b[0;32m/home/nathan/anaconda3/lib/python3.5/site-packages/json_tricks/np.py\u001b[0m in \u001b[0;36mload\u001b[0;34m(fp, preserve_order, ignore_comments, decompression, obj_pairs_hooks, extra_obj_pairs_hooks, cls_lookup_map, allow_duplicates, **jsonkwargs)\u001b[0m\n\u001b[1;32m    125\u001b[0m \treturn nonp.load(fp, preserve_order=preserve_order, ignore_comments=ignore_comments, decompression=decompression,\n\u001b[1;32m    126\u001b[0m                 \u001b[0mobj_pairs_hooks\u001b[0m\u001b[0;34m=\u001b[0m\u001b[0mobj_pairs_hooks\u001b[0m\u001b[0;34m,\u001b[0m \u001b[0mextra_obj_pairs_hooks\u001b[0m\u001b[0;34m=\u001b[0m\u001b[0mextra_obj_pairs_hooks\u001b[0m\u001b[0;34m,\u001b[0m \u001b[0mcls_lookup_map\u001b[0m\u001b[0;34m=\u001b[0m\u001b[0mcls_lookup_map\u001b[0m\u001b[0;34m,\u001b[0m\u001b[0;34m\u001b[0m\u001b[0m\n\u001b[0;32m--> 127\u001b[0;31m \t\tallow_duplicates=allow_duplicates, **jsonkwargs)\n\u001b[0m\u001b[1;32m    128\u001b[0m \u001b[0;34m\u001b[0m\u001b[0m\n\u001b[1;32m    129\u001b[0m \u001b[0;34m\u001b[0m\u001b[0m\n",
      "\u001b[0;32m/home/nathan/anaconda3/lib/python3.5/site-packages/json_tricks/nonp.py\u001b[0m in \u001b[0;36mload\u001b[0;34m(fp, preserve_order, ignore_comments, decompression, obj_pairs_hooks, extra_obj_pairs_hooks, cls_lookup_map, allow_duplicates, **jsonkwargs)\u001b[0m\n\u001b[1;32m    191\u001b[0m \treturn loads(string, preserve_order=preserve_order, ignore_comments=ignore_comments, decompression=decompression,\n\u001b[1;32m    192\u001b[0m                 \u001b[0mobj_pairs_hooks\u001b[0m\u001b[0;34m=\u001b[0m\u001b[0mobj_pairs_hooks\u001b[0m\u001b[0;34m,\u001b[0m \u001b[0mextra_obj_pairs_hooks\u001b[0m\u001b[0;34m=\u001b[0m\u001b[0mextra_obj_pairs_hooks\u001b[0m\u001b[0;34m,\u001b[0m \u001b[0mcls_lookup_map\u001b[0m\u001b[0;34m=\u001b[0m\u001b[0mcls_lookup_map\u001b[0m\u001b[0;34m,\u001b[0m\u001b[0;34m\u001b[0m\u001b[0m\n\u001b[0;32m--> 193\u001b[0;31m \t\tallow_duplicates=allow_duplicates, **jsonkwargs)\n\u001b[0m\u001b[1;32m    194\u001b[0m \u001b[0;34m\u001b[0m\u001b[0m\n\u001b[1;32m    195\u001b[0m \u001b[0;34m\u001b[0m\u001b[0m\n",
      "\u001b[0;32m/home/nathan/anaconda3/lib/python3.5/site-packages/json_tricks/nonp.py\u001b[0m in \u001b[0;36mloads\u001b[0;34m(string, preserve_order, ignore_comments, decompression, obj_pairs_hooks, extra_obj_pairs_hooks, cls_lookup_map, allow_duplicates, **jsonkwargs)\u001b[0m\n\u001b[1;32m    166\u001b[0m         \u001b[0mhooks\u001b[0m \u001b[0;34m=\u001b[0m \u001b[0mtuple\u001b[0m\u001b[0;34m(\u001b[0m\u001b[0mextra_obj_pairs_hooks\u001b[0m\u001b[0;34m)\u001b[0m \u001b[0;34m+\u001b[0m \u001b[0mobj_pairs_hooks\u001b[0m\u001b[0;34m\u001b[0m\u001b[0m\n\u001b[1;32m    167\u001b[0m         \u001b[0mhook\u001b[0m \u001b[0;34m=\u001b[0m \u001b[0mTricksPairHook\u001b[0m\u001b[0;34m(\u001b[0m\u001b[0mordered\u001b[0m\u001b[0;34m=\u001b[0m\u001b[0mpreserve_order\u001b[0m\u001b[0;34m,\u001b[0m \u001b[0mobj_pairs_hooks\u001b[0m\u001b[0;34m=\u001b[0m\u001b[0mhooks\u001b[0m\u001b[0;34m,\u001b[0m \u001b[0mallow_duplicates\u001b[0m\u001b[0;34m=\u001b[0m\u001b[0mallow_duplicates\u001b[0m\u001b[0;34m)\u001b[0m\u001b[0;34m\u001b[0m\u001b[0m\n\u001b[0;32m--> 168\u001b[0;31m         \u001b[0;32mreturn\u001b[0m \u001b[0mjson_loads\u001b[0m\u001b[0;34m(\u001b[0m\u001b[0mstring\u001b[0m\u001b[0;34m,\u001b[0m \u001b[0mobject_pairs_hook\u001b[0m\u001b[0;34m=\u001b[0m\u001b[0mhook\u001b[0m\u001b[0;34m,\u001b[0m \u001b[0;34m**\u001b[0m\u001b[0mjsonkwargs\u001b[0m\u001b[0;34m)\u001b[0m\u001b[0;34m\u001b[0m\u001b[0m\n\u001b[0m\u001b[1;32m    169\u001b[0m \u001b[0;34m\u001b[0m\u001b[0m\n\u001b[1;32m    170\u001b[0m \u001b[0;34m\u001b[0m\u001b[0m\n",
      "\u001b[0;32m/home/nathan/anaconda3/lib/python3.5/json/__init__.py\u001b[0m in \u001b[0;36mloads\u001b[0;34m(s, encoding, cls, object_hook, parse_float, parse_int, parse_constant, object_pairs_hook, **kw)\u001b[0m\n\u001b[1;32m    330\u001b[0m     \u001b[0;32mif\u001b[0m \u001b[0mparse_constant\u001b[0m \u001b[0;32mis\u001b[0m \u001b[0;32mnot\u001b[0m \u001b[0;32mNone\u001b[0m\u001b[0;34m:\u001b[0m\u001b[0;34m\u001b[0m\u001b[0m\n\u001b[1;32m    331\u001b[0m         \u001b[0mkw\u001b[0m\u001b[0;34m[\u001b[0m\u001b[0;34m'parse_constant'\u001b[0m\u001b[0;34m]\u001b[0m \u001b[0;34m=\u001b[0m \u001b[0mparse_constant\u001b[0m\u001b[0;34m\u001b[0m\u001b[0m\n\u001b[0;32m--> 332\u001b[0;31m     \u001b[0;32mreturn\u001b[0m \u001b[0mcls\u001b[0m\u001b[0;34m(\u001b[0m\u001b[0;34m**\u001b[0m\u001b[0mkw\u001b[0m\u001b[0;34m)\u001b[0m\u001b[0;34m.\u001b[0m\u001b[0mdecode\u001b[0m\u001b[0;34m(\u001b[0m\u001b[0ms\u001b[0m\u001b[0;34m)\u001b[0m\u001b[0;34m\u001b[0m\u001b[0m\n\u001b[0m",
      "\u001b[0;32m/home/nathan/anaconda3/lib/python3.5/json/decoder.py\u001b[0m in \u001b[0;36mdecode\u001b[0;34m(self, s, _w)\u001b[0m\n\u001b[1;32m    337\u001b[0m \u001b[0;34m\u001b[0m\u001b[0m\n\u001b[1;32m    338\u001b[0m         \"\"\"\n\u001b[0;32m--> 339\u001b[0;31m         \u001b[0mobj\u001b[0m\u001b[0;34m,\u001b[0m \u001b[0mend\u001b[0m \u001b[0;34m=\u001b[0m \u001b[0mself\u001b[0m\u001b[0;34m.\u001b[0m\u001b[0mraw_decode\u001b[0m\u001b[0;34m(\u001b[0m\u001b[0ms\u001b[0m\u001b[0;34m,\u001b[0m \u001b[0midx\u001b[0m\u001b[0;34m=\u001b[0m\u001b[0m_w\u001b[0m\u001b[0;34m(\u001b[0m\u001b[0ms\u001b[0m\u001b[0;34m,\u001b[0m \u001b[0;36m0\u001b[0m\u001b[0;34m)\u001b[0m\u001b[0;34m.\u001b[0m\u001b[0mend\u001b[0m\u001b[0;34m(\u001b[0m\u001b[0;34m)\u001b[0m\u001b[0;34m)\u001b[0m\u001b[0;34m\u001b[0m\u001b[0m\n\u001b[0m\u001b[1;32m    340\u001b[0m         \u001b[0mend\u001b[0m \u001b[0;34m=\u001b[0m \u001b[0m_w\u001b[0m\u001b[0;34m(\u001b[0m\u001b[0ms\u001b[0m\u001b[0;34m,\u001b[0m \u001b[0mend\u001b[0m\u001b[0;34m)\u001b[0m\u001b[0;34m.\u001b[0m\u001b[0mend\u001b[0m\u001b[0;34m(\u001b[0m\u001b[0;34m)\u001b[0m\u001b[0;34m\u001b[0m\u001b[0m\n\u001b[1;32m    341\u001b[0m         \u001b[0;32mif\u001b[0m \u001b[0mend\u001b[0m \u001b[0;34m!=\u001b[0m \u001b[0mlen\u001b[0m\u001b[0;34m(\u001b[0m\u001b[0ms\u001b[0m\u001b[0;34m)\u001b[0m\u001b[0;34m:\u001b[0m\u001b[0;34m\u001b[0m\u001b[0m\n",
      "\u001b[0;32m/home/nathan/anaconda3/lib/python3.5/json/decoder.py\u001b[0m in \u001b[0;36mraw_decode\u001b[0;34m(self, s, idx)\u001b[0m\n\u001b[1;32m    353\u001b[0m         \"\"\"\n\u001b[1;32m    354\u001b[0m         \u001b[0;32mtry\u001b[0m\u001b[0;34m:\u001b[0m\u001b[0;34m\u001b[0m\u001b[0m\n\u001b[0;32m--> 355\u001b[0;31m             \u001b[0mobj\u001b[0m\u001b[0;34m,\u001b[0m \u001b[0mend\u001b[0m \u001b[0;34m=\u001b[0m \u001b[0mself\u001b[0m\u001b[0;34m.\u001b[0m\u001b[0mscan_once\u001b[0m\u001b[0;34m(\u001b[0m\u001b[0ms\u001b[0m\u001b[0;34m,\u001b[0m \u001b[0midx\u001b[0m\u001b[0;34m)\u001b[0m\u001b[0;34m\u001b[0m\u001b[0m\n\u001b[0m\u001b[1;32m    356\u001b[0m         \u001b[0;32mexcept\u001b[0m \u001b[0mStopIteration\u001b[0m \u001b[0;32mas\u001b[0m \u001b[0merr\u001b[0m\u001b[0;34m:\u001b[0m\u001b[0;34m\u001b[0m\u001b[0m\n\u001b[1;32m    357\u001b[0m             \u001b[0;32mraise\u001b[0m \u001b[0mJSONDecodeError\u001b[0m\u001b[0;34m(\u001b[0m\u001b[0;34m\"Expecting value\"\u001b[0m\u001b[0;34m,\u001b[0m \u001b[0ms\u001b[0m\u001b[0;34m,\u001b[0m \u001b[0merr\u001b[0m\u001b[0;34m.\u001b[0m\u001b[0mvalue\u001b[0m\u001b[0;34m)\u001b[0m \u001b[0;32mfrom\u001b[0m \u001b[0;32mNone\u001b[0m\u001b[0;34m\u001b[0m\u001b[0m\n",
      "\u001b[0;32m/home/nathan/anaconda3/lib/python3.5/site-packages/json_tricks/decoders.py\u001b[0m in \u001b[0;36m__call__\u001b[0;34m(self, pairs)\u001b[0m\n\u001b[1;32m     39\u001b[0m                 \u001b[0mmap\u001b[0m \u001b[0;34m=\u001b[0m \u001b[0mself\u001b[0m\u001b[0;34m.\u001b[0m\u001b[0mmap_type\u001b[0m\u001b[0;34m(\u001b[0m\u001b[0mpairs\u001b[0m\u001b[0;34m)\u001b[0m\u001b[0;34m\u001b[0m\u001b[0m\n\u001b[1;32m     40\u001b[0m                 \u001b[0;32mfor\u001b[0m \u001b[0mhook\u001b[0m \u001b[0;32min\u001b[0m \u001b[0mself\u001b[0m\u001b[0;34m.\u001b[0m\u001b[0mobj_pairs_hooks\u001b[0m\u001b[0;34m:\u001b[0m\u001b[0;34m\u001b[0m\u001b[0m\n\u001b[0;32m---> 41\u001b[0;31m                         \u001b[0mmap\u001b[0m \u001b[0;34m=\u001b[0m \u001b[0mhook\u001b[0m\u001b[0;34m(\u001b[0m\u001b[0mmap\u001b[0m\u001b[0;34m)\u001b[0m\u001b[0;34m\u001b[0m\u001b[0m\n\u001b[0m\u001b[1;32m     42\u001b[0m                 \u001b[0;32mreturn\u001b[0m \u001b[0mmap\u001b[0m\u001b[0;34m\u001b[0m\u001b[0m\n\u001b[1;32m     43\u001b[0m \u001b[0;34m\u001b[0m\u001b[0m\n",
      "\u001b[0;32m/home/nathan/anaconda3/lib/python3.5/site-packages/json_tricks/decoders.py\u001b[0m in \u001b[0;36m__call__\u001b[0;34m(self, dct)\u001b[0m\n\u001b[1;32m    147\u001b[0m \t\t\t\t\t'__new__ method and can\\'t be restored').format(name))\n\u001b[1;32m    148\u001b[0m                         \u001b[0;32mif\u001b[0m \u001b[0mhasattr\u001b[0m\u001b[0;34m(\u001b[0m\u001b[0mobj\u001b[0m\u001b[0;34m,\u001b[0m \u001b[0;34m'__json_decode__'\u001b[0m\u001b[0;34m)\u001b[0m\u001b[0;34m:\u001b[0m\u001b[0;34m\u001b[0m\u001b[0m\n\u001b[0;32m--> 149\u001b[0;31m                                 \u001b[0mobj\u001b[0m\u001b[0;34m.\u001b[0m\u001b[0m__json_decode__\u001b[0m\u001b[0;34m(\u001b[0m\u001b[0;34m**\u001b[0m\u001b[0mattrs\u001b[0m\u001b[0;34m)\u001b[0m\u001b[0;34m\u001b[0m\u001b[0m\n\u001b[0m\u001b[1;32m    150\u001b[0m                         \u001b[0;32melse\u001b[0m\u001b[0;34m:\u001b[0m\u001b[0;34m\u001b[0m\u001b[0m\n\u001b[1;32m    151\u001b[0m                                 \u001b[0mobj\u001b[0m\u001b[0;34m.\u001b[0m\u001b[0m__dict__\u001b[0m \u001b[0;34m=\u001b[0m \u001b[0mdict\u001b[0m\u001b[0;34m(\u001b[0m\u001b[0mattrs\u001b[0m\u001b[0;34m)\u001b[0m\u001b[0;34m\u001b[0m\u001b[0m\n",
      "\u001b[0;32m/mnt/projects/ssbio/ssbio/core/genepro.py\u001b[0m in \u001b[0;36m__json_decode__\u001b[0;34m(self, **attrs)\u001b[0m\n\u001b[1;32m     78\u001b[0m     \u001b[0;32mdef\u001b[0m \u001b[0m__json_decode__\u001b[0m\u001b[0;34m(\u001b[0m\u001b[0mself\u001b[0m\u001b[0;34m,\u001b[0m \u001b[0;34m**\u001b[0m\u001b[0mattrs\u001b[0m\u001b[0;34m)\u001b[0m\u001b[0;34m:\u001b[0m\u001b[0;34m\u001b[0m\u001b[0m\n\u001b[1;32m     79\u001b[0m         \u001b[0;32mfor\u001b[0m \u001b[0mk\u001b[0m\u001b[0;34m,\u001b[0m \u001b[0mv\u001b[0m \u001b[0;32min\u001b[0m \u001b[0mattrs\u001b[0m\u001b[0;34m.\u001b[0m\u001b[0mitems\u001b[0m\u001b[0;34m(\u001b[0m\u001b[0;34m)\u001b[0m\u001b[0;34m:\u001b[0m\u001b[0;34m\u001b[0m\u001b[0m\n\u001b[0;32m---> 80\u001b[0;31m             \u001b[0msetattr\u001b[0m\u001b[0;34m(\u001b[0m\u001b[0mself\u001b[0m\u001b[0;34m,\u001b[0m \u001b[0mk\u001b[0m\u001b[0;34m,\u001b[0m \u001b[0mv\u001b[0m\u001b[0;34m)\u001b[0m\u001b[0;34m\u001b[0m\u001b[0m\n\u001b[0m",
      "\u001b[0;32m/mnt/projects/ssbio/ssbio/core/genepro.py\u001b[0m in \u001b[0;36mroot_dir\u001b[0;34m(self, path)\u001b[0m\n\u001b[1;32m     36\u001b[0m             \u001b[0;32mraise\u001b[0m \u001b[0mValueError\u001b[0m\u001b[0;34m(\u001b[0m\u001b[0;34m'{}: folder does not exist'\u001b[0m\u001b[0;34m.\u001b[0m\u001b[0mformat\u001b[0m\u001b[0;34m(\u001b[0m\u001b[0mpath\u001b[0m\u001b[0;34m)\u001b[0m\u001b[0;34m)\u001b[0m\u001b[0;34m\u001b[0m\u001b[0m\n\u001b[1;32m     37\u001b[0m \u001b[0;34m\u001b[0m\u001b[0m\n\u001b[0;32m---> 38\u001b[0;31m         \u001b[0;32mif\u001b[0m \u001b[0mself\u001b[0m\u001b[0;34m.\u001b[0m\u001b[0m_root_dir\u001b[0m\u001b[0;34m:\u001b[0m\u001b[0;34m\u001b[0m\u001b[0m\n\u001b[0m\u001b[1;32m     39\u001b[0m             \u001b[0mlog\u001b[0m\u001b[0;34m.\u001b[0m\u001b[0mdebug\u001b[0m\u001b[0;34m(\u001b[0m\u001b[0;34m'Changing root directory of Gene \"{}\" from {} to {}'\u001b[0m\u001b[0;34m.\u001b[0m\u001b[0mformat\u001b[0m\u001b[0;34m(\u001b[0m\u001b[0mself\u001b[0m\u001b[0;34m.\u001b[0m\u001b[0mid\u001b[0m\u001b[0;34m,\u001b[0m \u001b[0mself\u001b[0m\u001b[0;34m.\u001b[0m\u001b[0mroot_dir\u001b[0m\u001b[0;34m,\u001b[0m \u001b[0mpath\u001b[0m\u001b[0;34m)\u001b[0m\u001b[0;34m)\u001b[0m\u001b[0;34m\u001b[0m\u001b[0m\n\u001b[1;32m     40\u001b[0m \u001b[0;34m\u001b[0m\u001b[0m\n",
      "\u001b[0;31mAttributeError\u001b[0m: 'GenePro' object has no attribute '_root_dir'"
     ]
    }
   ],
   "source": [
    "# Loading a JSON file\n",
    "import ssbio.core.io\n",
    "my_saved_gempro = ssbio.core.io.load_json('/tmp/mtuberculosis_gp_atlas/model/mtuberculosis_gp_atlas.json', decompression=False)"
   ]
  },
  {
   "cell_type": "code",
   "execution_count": null,
   "metadata": {
    "collapsed": true
   },
   "outputs": [],
   "source": []
  }
 ],
 "metadata": {
  "_draft": {
   "nbviewer_url": "https://gist.github.com/342e44766d1dda637e975a4ef61dae19"
  },
  "anaconda-cloud": {},
  "celltoolbar": "Raw Cell Format",
  "gist": {
   "data": {
    "description": "GEM-PRO pipeline example for a list of gene IDs",
    "public": false
   },
   "id": "342e44766d1dda637e975a4ef61dae19"
  },
  "kernelspec": {
   "display_name": "Python [default]",
   "language": "python",
   "name": "python3"
  },
  "language_info": {
   "codemirror_mode": {
    "name": "ipython",
    "version": 3
   },
   "file_extension": ".py",
   "mimetype": "text/x-python",
   "name": "python",
   "nbconvert_exporter": "python",
   "pygments_lexer": "ipython3",
   "version": "3.5.3"
  },
  "nbpresent": {
   "slides": {
    "71ae1e02-0ef6-4127-b4d5-c3e2053937be": {
     "id": "71ae1e02-0ef6-4127-b4d5-c3e2053937be",
     "prev": null,
     "regions": {
      "7a124c69-33c3-4089-9b37-40b788641333": {
       "attrs": {
        "height": 1,
        "width": 1,
        "x": 0,
        "y": 0
       },
       "content": {
        "cell": "20cde5ad-ad7c-49fe-beb0-d4714a0cb1ea",
        "part": "whole"
       },
       "id": "7a124c69-33c3-4089-9b37-40b788641333"
      }
     },
     "theme": null
    }
   },
   "themes": {
    "default": "93b24641-49d7-4f7e-8fbe-91d4643b47c1",
    "theme": {
     "4d7d1fd6-8aba-4c1a-be20-7d109dfc841e": {
      "backgrounds": {
       "dc7afa04-bf90-40b1-82a5-726e3cff5267": {
        "background-color": "31af15d2-7e15-44c5-ab5e-e04b16a89eff",
        "id": "dc7afa04-bf90-40b1-82a5-726e3cff5267"
       }
      },
      "id": "4d7d1fd6-8aba-4c1a-be20-7d109dfc841e",
      "palette": {
       "19cc588f-0593-49c9-9f4b-e4d7cc113b1c": {
        "id": "19cc588f-0593-49c9-9f4b-e4d7cc113b1c",
        "rgb": [
         252,
         252,
         252
        ]
       },
       "31af15d2-7e15-44c5-ab5e-e04b16a89eff": {
        "id": "31af15d2-7e15-44c5-ab5e-e04b16a89eff",
        "rgb": [
         68,
         68,
         68
        ]
       },
       "50f92c45-a630-455b-aec3-788680ec7410": {
        "id": "50f92c45-a630-455b-aec3-788680ec7410",
        "rgb": [
         197,
         226,
         245
        ]
       },
       "c5cc3653-2ee1-402a-aba2-7caae1da4f6c": {
        "id": "c5cc3653-2ee1-402a-aba2-7caae1da4f6c",
        "rgb": [
         43,
         126,
         184
        ]
       },
       "efa7f048-9acb-414c-8b04-a26811511a21": {
        "id": "efa7f048-9acb-414c-8b04-a26811511a21",
        "rgb": [
         25.118061674008803,
         73.60176211453744,
         107.4819383259912
        ]
       }
      },
      "rules": {
       "a": {
        "color": "19cc588f-0593-49c9-9f4b-e4d7cc113b1c"
       },
       "blockquote": {
        "color": "50f92c45-a630-455b-aec3-788680ec7410",
        "font-size": 3
       },
       "code": {
        "font-family": "Anonymous Pro"
       },
       "h1": {
        "color": "19cc588f-0593-49c9-9f4b-e4d7cc113b1c",
        "font-family": "Merriweather",
        "font-size": 8
       },
       "h2": {
        "color": "19cc588f-0593-49c9-9f4b-e4d7cc113b1c",
        "font-family": "Merriweather",
        "font-size": 6
       },
       "h3": {
        "color": "50f92c45-a630-455b-aec3-788680ec7410",
        "font-family": "Lato",
        "font-size": 5.5
       },
       "h4": {
        "color": "c5cc3653-2ee1-402a-aba2-7caae1da4f6c",
        "font-family": "Lato",
        "font-size": 5
       },
       "h5": {
        "font-family": "Lato"
       },
       "h6": {
        "font-family": "Lato"
       },
       "h7": {
        "font-family": "Lato"
       },
       "li": {
        "color": "50f92c45-a630-455b-aec3-788680ec7410",
        "font-size": 3.25
       },
       "pre": {
        "font-family": "Anonymous Pro",
        "font-size": 4
       }
      },
      "text-base": {
       "color": "19cc588f-0593-49c9-9f4b-e4d7cc113b1c",
       "font-family": "Lato",
       "font-size": 4
      }
     },
     "93b24641-49d7-4f7e-8fbe-91d4643b47c1": {
      "id": "93b24641-49d7-4f7e-8fbe-91d4643b47c1",
      "palette": {
       "19cc588f-0593-49c9-9f4b-e4d7cc113b1c": {
        "id": "19cc588f-0593-49c9-9f4b-e4d7cc113b1c",
        "rgb": [
         252,
         252,
         252
        ]
       },
       "31af15d2-7e15-44c5-ab5e-e04b16a89eff": {
        "id": "31af15d2-7e15-44c5-ab5e-e04b16a89eff",
        "rgb": [
         68,
         68,
         68
        ]
       },
       "50f92c45-a630-455b-aec3-788680ec7410": {
        "id": "50f92c45-a630-455b-aec3-788680ec7410",
        "rgb": [
         155,
         177,
         192
        ]
       },
       "c5cc3653-2ee1-402a-aba2-7caae1da4f6c": {
        "id": "c5cc3653-2ee1-402a-aba2-7caae1da4f6c",
        "rgb": [
         43,
         126,
         184
        ]
       },
       "efa7f048-9acb-414c-8b04-a26811511a21": {
        "id": "efa7f048-9acb-414c-8b04-a26811511a21",
        "rgb": [
         25.118061674008803,
         73.60176211453744,
         107.4819383259912
        ]
       }
      },
      "rules": {
       "blockquote": {
        "color": "50f92c45-a630-455b-aec3-788680ec7410"
       },
       "code": {
        "font-family": "Anonymous Pro"
       },
       "h1": {
        "color": "c5cc3653-2ee1-402a-aba2-7caae1da4f6c",
        "font-family": "Lato",
        "font-size": 8
       },
       "h2": {
        "color": "c5cc3653-2ee1-402a-aba2-7caae1da4f6c",
        "font-family": "Lato",
        "font-size": 6
       },
       "h3": {
        "color": "50f92c45-a630-455b-aec3-788680ec7410",
        "font-family": "Lato",
        "font-size": 5.5
       },
       "h4": {
        "color": "c5cc3653-2ee1-402a-aba2-7caae1da4f6c",
        "font-family": "Lato",
        "font-size": 5
       },
       "h5": {
        "font-family": "Lato"
       },
       "h6": {
        "font-family": "Lato"
       },
       "h7": {
        "font-family": "Lato"
       },
       "pre": {
        "font-family": "Anonymous Pro",
        "font-size": 4
       }
      },
      "text-base": {
       "font-family": "Merriweather",
       "font-size": 4
      }
     }
    }
   }
  }
 },
 "nbformat": 4,
 "nbformat_minor": 1
}
