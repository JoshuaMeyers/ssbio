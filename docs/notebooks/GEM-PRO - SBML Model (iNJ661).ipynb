{
 "cells": [
  {
   "cell_type": "markdown",
   "metadata": {},
   "source": [
    "# GEM-PRO - SBML Model (iNJ661)\n",
    "\n",
    "This notebook gives an example of how to run the GEM-PRO pipeline with a **SBML model**, in this case *i*NJ661, the metabolic model of *M. tuberculosis*.\n",
    "\n",
    "<div class=\"alert alert-info\">\n",
    "\n",
    "**Input:** \n",
    "GEM (in SBML, JSON, or MAT formats)\n",
    "\n",
    "</div>\n",
    "\n",
    "<div class=\"alert alert-info\">\n",
    "\n",
    "**Output:**\n",
    "GEM-PRO model\n",
    "\n",
    "</div>"
   ]
  },
  {
   "cell_type": "markdown",
   "metadata": {},
   "source": [
    "## Imports"
   ]
  },
  {
   "cell_type": "code",
   "execution_count": 1,
   "metadata": {
    "collapsed": true
   },
   "outputs": [],
   "source": [
    "import sys\n",
    "import logging"
   ]
  },
  {
   "cell_type": "code",
   "execution_count": 2,
   "metadata": {
    "collapsed": false
   },
   "outputs": [],
   "source": [
    "# Import the GEM-PRO class\n",
    "from ssbio.pipeline.gempro import GEMPRO"
   ]
  },
  {
   "cell_type": "code",
   "execution_count": 3,
   "metadata": {
    "collapsed": false
   },
   "outputs": [],
   "source": [
    "# Printing multiple outputs per cell\n",
    "from IPython.core.interactiveshell import InteractiveShell\n",
    "InteractiveShell.ast_node_interactivity = \"all\""
   ]
  },
  {
   "cell_type": "markdown",
   "metadata": {},
   "source": [
    "### Logging\n",
    "\n",
    "Set the logging level in `logger.setLevel(logging.<LEVEL_HERE>)` to specify how verbose you want the pipeline to be. Debug is most verbose.\n",
    "\n",
    "- `CRITICAL`\n",
    "     - Only really important messages shown\n",
    "- `ERROR`\n",
    "     - Major errors\n",
    "- `WARNING`\n",
    "     - Warnings that don't affect running of the pipeline\n",
    "- `INFO` (default)\n",
    "     - Info such as the number of structures mapped per gene\n",
    "- `DEBUG`\n",
    "     - Really detailed information that will print out a lot of stuff\n",
    "     \n",
    "<div class=\"alert alert-warning\">\n",
    "\n",
    "**Warning:** \n",
    "`DEBUG` mode prints out a large amount of information, especially if you have a lot of genes. This may stall your notebook!\n",
    "</div>"
   ]
  },
  {
   "cell_type": "code",
   "execution_count": 4,
   "metadata": {
    "collapsed": true
   },
   "outputs": [],
   "source": [
    "# Create logger\n",
    "logger = logging.getLogger()\n",
    "logger.setLevel(logging.INFO)  # SET YOUR LOGGING LEVEL HERE #"
   ]
  },
  {
   "cell_type": "code",
   "execution_count": 5,
   "metadata": {
    "collapsed": true
   },
   "outputs": [],
   "source": [
    "# Other logger stuff for Jupyter notebooks\n",
    "handler = logging.StreamHandler(sys.stderr)\n",
    "formatter = logging.Formatter('[%(asctime)s] [%(name)s] %(levelname)s: %(message)s', datefmt=\"%Y-%m-%d %H:%M\")\n",
    "handler.setFormatter(formatter)\n",
    "logger.handlers = [handler]"
   ]
  },
  {
   "cell_type": "markdown",
   "metadata": {},
   "source": [
    "## Initialization of the project\n",
    "\n",
    "Set these three things:\n",
    "\n",
    "- `ROOT_DIR`\n",
    "    - The directory where a folder named after your `PROJECT` will be created\n",
    "- `PROJECT`\n",
    "    - Your project name\n",
    "- `LIST_OF_GENES`\n",
    "    - Your list of gene IDs\n",
    "    \n",
    "A directory will be created in `ROOT_DIR` with your `PROJECT` name. The folders are organized like so:\n",
    "```\n",
    "    ROOT_DIR\n",
    "    └── PROJECT\n",
    "        ├── data  # General storage for pipeline outputs\n",
    "        ├── model  # SBML and GEM-PRO models are stored here\n",
    "        ├── genes  # Per gene information\n",
    "        │   ├── <gene_id1>  # Specific gene directory\n",
    "        │   │   └── protein\n",
    "        │   │       ├── sequences  # Protein sequence files, alignments, etc.\n",
    "        │   │       └── structures  # Protein structure files, calculations, etc.\n",
    "        │   └── <gene_id2>\n",
    "        │       └── protein\n",
    "        │           ├── sequences\n",
    "        │           └── structures\n",
    "        ├── reactions  # Per reaction information\n",
    "        │   └── <reaction_id1>  # Specific reaction directory\n",
    "        │       └── complex\n",
    "        │           └── structures  # Protein complex files\n",
    "        └── metabolites  # Per metabolite information\n",
    "            └── <metabolite_id1>  # Specific metabolite directory\n",
    "                └── chemical\n",
    "                    └── structures  # Metabolite 2D and 3D structure files\n",
    "                \n",
    "```\n",
    "\n",
    "<div class=\"alert alert-info\">**Note:** Methods for protein complexes and metabolites are still in development.</div>"
   ]
  },
  {
   "cell_type": "code",
   "execution_count": 6,
   "metadata": {
    "collapsed": true
   },
   "outputs": [],
   "source": [
    "# SET FOLDERS AND DATA HERE\n",
    "import tempfile\n",
    "ROOT_DIR = tempfile.gettempdir()\n",
    "\n",
    "PROJECT = 'iNJ661_GP'\n",
    "GEM_FILE = '/home/nathan/Downloads/iNJ661.json'\n",
    "GEM_FILE_TYPE = 'json'"
   ]
  },
  {
   "cell_type": "code",
   "execution_count": 7,
   "metadata": {
    "collapsed": false
   },
   "outputs": [
    {
     "name": "stderr",
     "output_type": "stream",
     "text": [
      "[2017-03-08 13:18] [ssbio.pipeline.gempro] INFO: iNJ661: loaded model\n",
      "[2017-03-08 13:18] [ssbio.pipeline.gempro] INFO: 1025: number of reactions\n",
      "[2017-03-08 13:18] [ssbio.pipeline.gempro] INFO: 720: number of reactions linked to a gene\n",
      "[2017-03-08 13:18] [ssbio.pipeline.gempro] INFO: 661: number of genes (excluding spontaneous)\n",
      "[2017-03-08 13:18] [ssbio.pipeline.gempro] INFO: 826: number of metabolites\n",
      "[2017-03-08 13:18] [ssbio.pipeline.gempro] WARNING: IMPORTANT: All Gene objects have been transformed into GenePro objects, and will be for any new ones\n",
      "[2017-03-08 13:18] [ssbio.pipeline.gempro] INFO: /tmp/iNJ661_GP: GEM-PRO project location\n",
      "[2017-03-08 13:18] [ssbio.pipeline.gempro] INFO: 661: number of genes\n"
     ]
    }
   ],
   "source": [
    "# Create the GEM-PRO project\n",
    "my_gempro = GEMPRO(gem_name=PROJECT, root_dir=ROOT_DIR, gem_file_path=GEM_FILE, gem_file_type=GEM_FILE_TYPE)"
   ]
  },
  {
   "cell_type": "markdown",
   "metadata": {},
   "source": [
    "## Mapping gene ID --> sequence\n",
    "\n",
    "First, we need to map these IDs to their protein sequences. There are 2 ID mapping services provided to do this - through **KEGG** or **UniProt**. The end goal is to map a UniProt ID to each ID, since there is a comprehensive mapping (and some useful APIs) between UniProt and the PDB.\n",
    "\n",
    "<p><div class=\"alert alert-info\">**Note:** You only need to map gene IDs using one service. However you can run both if some genes don't map in one service and do map in another!</div></p>\n",
    "\n",
    "However, you don't need to map using these services if you already have the amino acid sequences for each protein. You can just manually load in the sequences as shown using the method `manual_seq_mapping`. Or, if you already have the UniProt IDs, you can load those in using the method `manual_uniprot_mapping`."
   ]
  },
  {
   "cell_type": "markdown",
   "metadata": {},
   "source": [
    "### Methods"
   ]
  },
  {
   "cell_type": "raw",
   "metadata": {
    "raw_mimetype": "text/restructuredtext"
   },
   "source": [
    ".. automethod:: ssbio.pipeline.gempro.GEMPRO.manual_seq_mapping\n",
    "    :noindex:"
   ]
  },
  {
   "cell_type": "code",
   "execution_count": 8,
   "metadata": {
    "collapsed": false
   },
   "outputs": [
    {
     "name": "stderr",
     "output_type": "stream",
     "text": [
      "[2017-03-08 13:18] [ssbio.pipeline.gempro] INFO: Loaded in 2 sequences\n"
     ]
    }
   ],
   "source": [
    "gene_to_seq_dict = {'Rv1295': 'MTVPPTATHQPWPGVIAAYRDRLPVGDDWTPVTLLEGGTPLIAATNLSKQTGCTIHLKVEGLNPTGSFKDRGMTMAVTDALAHGQRAVLCASTGNTSASAAAYAARAGITCAVLIPQGKIAMGKLAQAVMHGAKIIQIDGNFDDCLELARKMAADFPTISLVNSVNPVRIEGQKTAAFEIVDVLGTAPDVHALPVGNAGNITAYWKGYTEYHQLGLIDKLPRMLGTQAAGAAPLVLGEPVSHPETIATAIRIGSPASWTSAVEAQQQSKGRFLAASDEEILAAYHLVARVEGVFVEPASAASIAGLLKAIDDGWVARGSTVVCTVTGNGLKDPDTALKDMPSVSPVPVDPVAVVEKLGLA',\n",
    "                    'Rv2233': 'VSSPRERRPASQAPRLSRRPPAHQTSRSSPDTTAPTGSGLSNRFVNDNGIVTDTTASGTNCPPPPRAAARRASSPGESPQLVIFDLDGTLTDSARGIVSSFRHALNHIGAPVPEGDLATHIVGPPMHETLRAMGLGESAEEAIVAYRADYSARGWAMNSLFDGIGPLLADLRTAGVRLAVATSKAEPTARRILRHFGIEQHFEVIAGASTDGSRGSKVDVLAHALAQLRPLPERLVMVGDRSHDVDGAAAHGIDTVVVGWGYGRADFIDKTSTTVVTHAATIDELREALGV'}\n",
    "my_gempro.manual_seq_mapping(gene_to_seq_dict)"
   ]
  },
  {
   "cell_type": "raw",
   "metadata": {
    "raw_mimetype": "text/restructuredtext"
   },
   "source": [
    ".. automethod:: ssbio.pipeline.gempro.GEMPRO.manual_uniprot_mapping\n",
    "    :noindex:"
   ]
  },
  {
   "cell_type": "code",
   "execution_count": 9,
   "metadata": {
    "collapsed": false
   },
   "outputs": [
    {
     "name": "stderr",
     "output_type": "stream",
     "text": [
      "[2017-03-08 13:18] [ssbio.pipeline.gempro] INFO: Completed manual ID mapping --> UniProt. See the \"df_uniprot_metadata\" attribute for a summary dataframe.\n"
     ]
    },
    {
     "data": {
      "text/html": [
       "<div>\n",
       "<table border=\"1\" class=\"dataframe\">\n",
       "  <thead>\n",
       "    <tr style=\"text-align: right;\">\n",
       "      <th></th>\n",
       "      <th>uniprot</th>\n",
       "      <th>reviewed</th>\n",
       "      <th>gene_name</th>\n",
       "      <th>kegg</th>\n",
       "      <th>refseq</th>\n",
       "      <th>num_pdbs</th>\n",
       "      <th>ec_number</th>\n",
       "      <th>pfam</th>\n",
       "      <th>seq_len</th>\n",
       "      <th>description</th>\n",
       "      <th>entry_version</th>\n",
       "      <th>seq_version</th>\n",
       "      <th>sequence_file</th>\n",
       "      <th>metadata_file</th>\n",
       "    </tr>\n",
       "    <tr>\n",
       "      <th>gene</th>\n",
       "      <th></th>\n",
       "      <th></th>\n",
       "      <th></th>\n",
       "      <th></th>\n",
       "      <th></th>\n",
       "      <th></th>\n",
       "      <th></th>\n",
       "      <th></th>\n",
       "      <th></th>\n",
       "      <th></th>\n",
       "      <th></th>\n",
       "      <th></th>\n",
       "      <th></th>\n",
       "      <th></th>\n",
       "    </tr>\n",
       "  </thead>\n",
       "  <tbody>\n",
       "    <tr>\n",
       "      <th>Rv0619</th>\n",
       "      <td>Q79FY3</td>\n",
       "      <td>False</td>\n",
       "      <td>galTb</td>\n",
       "      <td>NaN</td>\n",
       "      <td>NaN</td>\n",
       "      <td>0</td>\n",
       "      <td>NaN</td>\n",
       "      <td>PF02744</td>\n",
       "      <td>181</td>\n",
       "      <td>Probable galactose-1-phosphate uridylyltransfe...</td>\n",
       "      <td>2017-02-15</td>\n",
       "      <td>2004-07-05</td>\n",
       "      <td>Q79FY3.fasta</td>\n",
       "      <td>Q79FY3.txt</td>\n",
       "    </tr>\n",
       "    <tr>\n",
       "      <th>Rv0618</th>\n",
       "      <td>Q79FY4</td>\n",
       "      <td>False</td>\n",
       "      <td>galTa</td>\n",
       "      <td>mtv:RVBD_0618</td>\n",
       "      <td>NaN</td>\n",
       "      <td>0</td>\n",
       "      <td>NaN</td>\n",
       "      <td>PF01087</td>\n",
       "      <td>231</td>\n",
       "      <td>Probable galactose-1-phosphate uridylyltransfe...</td>\n",
       "      <td>2017-02-15</td>\n",
       "      <td>2004-07-05</td>\n",
       "      <td>Q79FY4.fasta</td>\n",
       "      <td>Q79FY4.txt</td>\n",
       "    </tr>\n",
       "    <tr>\n",
       "      <th>Rv2321c</th>\n",
       "      <td>P71891</td>\n",
       "      <td>False</td>\n",
       "      <td>rocD2</td>\n",
       "      <td>mtv:RVBD_2321c</td>\n",
       "      <td>NaN</td>\n",
       "      <td>0</td>\n",
       "      <td>NaN</td>\n",
       "      <td>PF00202</td>\n",
       "      <td>181</td>\n",
       "      <td>Probable ornithine aminotransferase (C-terminu...</td>\n",
       "      <td>2017-02-15</td>\n",
       "      <td>1997-02-01</td>\n",
       "      <td>P71891.fasta</td>\n",
       "      <td>P71891.txt</td>\n",
       "    </tr>\n",
       "    <tr>\n",
       "      <th>Rv2322c</th>\n",
       "      <td>P71890</td>\n",
       "      <td>False</td>\n",
       "      <td>rocD1</td>\n",
       "      <td>mtv:RVBD_2322c</td>\n",
       "      <td>WP_003411957.1;NZ_KK339370.1</td>\n",
       "      <td>0</td>\n",
       "      <td>NaN</td>\n",
       "      <td>PF00202</td>\n",
       "      <td>221</td>\n",
       "      <td>Probable ornithine aminotransferase (N-terminu...</td>\n",
       "      <td>2017-02-15</td>\n",
       "      <td>1997-02-01</td>\n",
       "      <td>P71890.fasta</td>\n",
       "      <td>P71890.txt</td>\n",
       "    </tr>\n",
       "  </tbody>\n",
       "</table>\n",
       "</div>"
      ],
      "text/plain": [
       "        uniprot reviewed gene_name            kegg  \\\n",
       "gene                                                 \n",
       "Rv0619   Q79FY3    False     galTb             NaN   \n",
       "Rv0618   Q79FY4    False     galTa   mtv:RVBD_0618   \n",
       "Rv2321c  P71891    False     rocD2  mtv:RVBD_2321c   \n",
       "Rv2322c  P71890    False     rocD1  mtv:RVBD_2322c   \n",
       "\n",
       "                               refseq  num_pdbs ec_number     pfam  seq_len  \\\n",
       "gene                                                                          \n",
       "Rv0619                            NaN         0       NaN  PF02744      181   \n",
       "Rv0618                            NaN         0       NaN  PF01087      231   \n",
       "Rv2321c                           NaN         0       NaN  PF00202      181   \n",
       "Rv2322c  WP_003411957.1;NZ_KK339370.1         0       NaN  PF00202      221   \n",
       "\n",
       "                                               description entry_version  \\\n",
       "gene                                                                       \n",
       "Rv0619   Probable galactose-1-phosphate uridylyltransfe...    2017-02-15   \n",
       "Rv0618   Probable galactose-1-phosphate uridylyltransfe...    2017-02-15   \n",
       "Rv2321c  Probable ornithine aminotransferase (C-terminu...    2017-02-15   \n",
       "Rv2322c  Probable ornithine aminotransferase (N-terminu...    2017-02-15   \n",
       "\n",
       "        seq_version sequence_file metadata_file  \n",
       "gene                                             \n",
       "Rv0619   2004-07-05  Q79FY3.fasta    Q79FY3.txt  \n",
       "Rv0618   2004-07-05  Q79FY4.fasta    Q79FY4.txt  \n",
       "Rv2321c  1997-02-01  P71891.fasta    P71891.txt  \n",
       "Rv2322c  1997-02-01  P71890.fasta    P71890.txt  "
      ]
     },
     "execution_count": 9,
     "metadata": {},
     "output_type": "execute_result"
    }
   ],
   "source": [
    "manual_uniprot_dict = {'Rv1755c': 'P9WIA9', 'Rv2321c': 'P71891', 'Rv0619': 'Q79FY3', 'Rv0618': 'Q79FY4', 'Rv2322c': 'P71890'}\n",
    "my_gempro.manual_uniprot_mapping(manual_uniprot_dict)\n",
    "my_gempro.df_uniprot_metadata.tail(4)"
   ]
  },
  {
   "cell_type": "raw",
   "metadata": {
    "raw_mimetype": "text/restructuredtext"
   },
   "source": [
    ".. automethod:: ssbio.pipeline.gempro.GEMPRO.kegg_mapping_and_metadata\n",
    "    :noindex:"
   ]
  },
  {
   "cell_type": "code",
   "execution_count": 10,
   "metadata": {
    "collapsed": false
   },
   "outputs": [
    {
     "name": "stderr",
     "output_type": "stream",
     "text": [
      "[2017-03-08 13:18] [root] WARNING: status is not ok with Not Found\n",
      "[2017-03-08 13:18] [ssbio.databases.kegg] WARNING: mtu:Rv1755c: no sequence file available\n",
      "[2017-03-08 13:18] [root] WARNING: status is not ok with Not Found\n",
      "[2017-03-08 13:18] [ssbio.databases.kegg] WARNING: mtu:Rv1755c: no metadata file available\n",
      "[2017-03-08 13:18] [root] WARNING: status is not ok with Not Found\n",
      "[2017-03-08 13:18] [ssbio.databases.kegg] WARNING: mtu:Rv2233: no sequence file available\n",
      "[2017-03-08 13:18] [root] WARNING: status is not ok with Not Found\n",
      "[2017-03-08 13:18] [ssbio.databases.kegg] WARNING: mtu:Rv2233: no metadata file available\n",
      "[2017-03-08 13:18] [root] WARNING: status is not ok with Not Found\n",
      "[2017-03-08 13:18] [ssbio.databases.kegg] WARNING: mtu:Rv0619: no sequence file available\n",
      "[2017-03-08 13:18] [root] WARNING: status is not ok with Not Found\n",
      "[2017-03-08 13:18] [ssbio.databases.kegg] WARNING: mtu:Rv0619: no metadata file available\n",
      "[2017-03-08 13:18] [root] WARNING: status is not ok with Not Found\n",
      "[2017-03-08 13:18] [ssbio.databases.kegg] WARNING: mtu:Rv0618: no sequence file available\n",
      "[2017-03-08 13:18] [root] WARNING: status is not ok with Not Found\n",
      "[2017-03-08 13:18] [ssbio.databases.kegg] WARNING: mtu:Rv2321c: no sequence file available\n",
      "[2017-03-08 13:18] [root] WARNING: status is not ok with Not Found\n",
      "[2017-03-08 13:18] [ssbio.databases.kegg] WARNING: mtu:Rv2321c: no metadata file available\n",
      "[2017-03-08 13:18] [root] WARNING: status is not ok with Not Found\n",
      "[2017-03-08 13:18] [ssbio.databases.kegg] WARNING: mtu:Rv2322c: no sequence file available\n",
      "[2017-03-08 13:18] [root] WARNING: status is not ok with Not Found\n",
      "[2017-03-08 13:18] [ssbio.databases.kegg] WARNING: mtu:Rv2322c: no metadata file available\n",
      "[2017-03-08 13:18] [ssbio.pipeline.gempro] INFO: 655/661: number of genes mapped to KEGG\n",
      "[2017-03-08 13:18] [ssbio.pipeline.gempro] INFO: Completed ID mapping --> KEGG. See the \"df_kegg_metadata\" attribute for a summary dataframe.\n"
     ]
    },
    {
     "name": "stdout",
     "output_type": "stream",
     "text": [
      "\n",
      "Missing KEGG mapping:  ['Rv0619', 'Rv1755c', 'Rv2322c', 'Rv2321c', 'Rv2233', 'Rv0618']\n"
     ]
    },
    {
     "data": {
      "text/html": [
       "<div>\n",
       "<table border=\"1\" class=\"dataframe\">\n",
       "  <thead>\n",
       "    <tr style=\"text-align: right;\">\n",
       "      <th></th>\n",
       "      <th>kegg</th>\n",
       "      <th>refseq</th>\n",
       "      <th>uniprot</th>\n",
       "      <th>num_pdbs</th>\n",
       "      <th>pdbs</th>\n",
       "      <th>seq_len</th>\n",
       "      <th>sequence_file</th>\n",
       "      <th>metadata_file</th>\n",
       "    </tr>\n",
       "    <tr>\n",
       "      <th>gene</th>\n",
       "      <th></th>\n",
       "      <th></th>\n",
       "      <th></th>\n",
       "      <th></th>\n",
       "      <th></th>\n",
       "      <th></th>\n",
       "      <th></th>\n",
       "      <th></th>\n",
       "    </tr>\n",
       "  </thead>\n",
       "  <tbody>\n",
       "    <tr>\n",
       "      <th>Rv0417</th>\n",
       "      <td>mtu:Rv0417</td>\n",
       "      <td>NP_214931</td>\n",
       "      <td>P9WG73</td>\n",
       "      <td>0</td>\n",
       "      <td>NaN</td>\n",
       "      <td>252</td>\n",
       "      <td>mtu-Rv0417.faa</td>\n",
       "      <td>mtu-Rv0417.kegg</td>\n",
       "    </tr>\n",
       "    <tr>\n",
       "      <th>Rv2291</th>\n",
       "      <td>mtu:Rv2291</td>\n",
       "      <td>NP_216807</td>\n",
       "      <td>P9WHF5</td>\n",
       "      <td>0</td>\n",
       "      <td>NaN</td>\n",
       "      <td>284</td>\n",
       "      <td>mtu-Rv2291.faa</td>\n",
       "      <td>mtu-Rv2291.kegg</td>\n",
       "    </tr>\n",
       "    <tr>\n",
       "      <th>Rv3737</th>\n",
       "      <td>mtu:Rv3737</td>\n",
       "      <td>NP_218254</td>\n",
       "      <td>O69704</td>\n",
       "      <td>0</td>\n",
       "      <td>NaN</td>\n",
       "      <td>529</td>\n",
       "      <td>mtu-Rv3737.faa</td>\n",
       "      <td>mtu-Rv3737.kegg</td>\n",
       "    </tr>\n",
       "    <tr>\n",
       "      <th>Rv1295</th>\n",
       "      <td>mtu:Rv1295</td>\n",
       "      <td>NP_215811</td>\n",
       "      <td>P9WG59</td>\n",
       "      <td>1</td>\n",
       "      <td>2D1F</td>\n",
       "      <td>360</td>\n",
       "      <td>mtu-Rv1295.faa</td>\n",
       "      <td>mtu-Rv1295.kegg</td>\n",
       "    </tr>\n",
       "    <tr>\n",
       "      <th>Rv1559</th>\n",
       "      <td>mtu:Rv1559</td>\n",
       "      <td>NP_216075</td>\n",
       "      <td>P9WG95</td>\n",
       "      <td>0</td>\n",
       "      <td>NaN</td>\n",
       "      <td>429</td>\n",
       "      <td>mtu-Rv1559.faa</td>\n",
       "      <td>mtu-Rv1559.kegg</td>\n",
       "    </tr>\n",
       "  </tbody>\n",
       "</table>\n",
       "</div>"
      ],
      "text/plain": [
       "              kegg     refseq uniprot  num_pdbs  pdbs  seq_len  \\\n",
       "gene                                                             \n",
       "Rv0417  mtu:Rv0417  NP_214931  P9WG73         0   NaN      252   \n",
       "Rv2291  mtu:Rv2291  NP_216807  P9WHF5         0   NaN      284   \n",
       "Rv3737  mtu:Rv3737  NP_218254  O69704         0   NaN      529   \n",
       "Rv1295  mtu:Rv1295  NP_215811  P9WG59         1  2D1F      360   \n",
       "Rv1559  mtu:Rv1559  NP_216075  P9WG95         0   NaN      429   \n",
       "\n",
       "         sequence_file    metadata_file  \n",
       "gene                                     \n",
       "Rv0417  mtu-Rv0417.faa  mtu-Rv0417.kegg  \n",
       "Rv2291  mtu-Rv2291.faa  mtu-Rv2291.kegg  \n",
       "Rv3737  mtu-Rv3737.faa  mtu-Rv3737.kegg  \n",
       "Rv1295  mtu-Rv1295.faa  mtu-Rv1295.kegg  \n",
       "Rv1559  mtu-Rv1559.faa  mtu-Rv1559.kegg  "
      ]
     },
     "execution_count": 10,
     "metadata": {},
     "output_type": "execute_result"
    }
   ],
   "source": [
    "# KEGG mapping of gene ids\n",
    "my_gempro.kegg_mapping_and_metadata(kegg_organism_code='mtu')\n",
    "print('Missing KEGG mapping: ', my_gempro.missing_kegg_mapping)\n",
    "my_gempro.df_kegg_metadata.head()"
   ]
  },
  {
   "cell_type": "raw",
   "metadata": {
    "raw_mimetype": "text/restructuredtext"
   },
   "source": [
    ".. automethod:: ssbio.pipeline.gempro.GEMPRO.uniprot_mapping_and_metadata\n",
    "    :noindex:"
   ]
  },
  {
   "cell_type": "code",
   "execution_count": 11,
   "metadata": {
    "collapsed": false
   },
   "outputs": [
    {
     "name": "stderr",
     "output_type": "stream",
     "text": [
      "[2017-03-08 13:18] [root] INFO: getUserAgent: Begin\n",
      "[2017-03-08 13:18] [root] INFO: getUserAgent: user_agent: EBI-Sample-Client/ (services.py; Python 3.5.2; Linux) Python-requests/2.12.4\n",
      "[2017-03-08 13:18] [root] INFO: getUserAgent: End\n",
      "[2017-03-08 13:18] [ssbio.pipeline.gempro] INFO: 589/661: number of genes mapped to UniProt\n",
      "[2017-03-08 13:18] [ssbio.pipeline.gempro] INFO: Completed ID mapping --> UniProt. See the \"df_uniprot_metadata\" attribute for a summary dataframe.\n"
     ]
    },
    {
     "name": "stdout",
     "output_type": "stream",
     "text": [
      "\n",
      "Missing UniProt mapping:  ['Rv1512', 'Rv3784', 'Rv1618', 'Rv0266c', 'Rv0375c', 'Rv2320c', 'Rv3317', 'Rv1915', 'Rv3469c', 'Rv0958', 'Rv2233', 'Rv0147', 'Rv0649', 'Rv2318', 'Rv2858c', 'Rv0253', 'Rv0155', 'Rv0753c', 'Rv2398c', 'Rv2471', 'Rv0143c', 'Rv3777', 'Rv2590', 'Rv0317c', 'Rv0993', 'Rv1704c', 'Rv3737', 'Rv3281', 'Rv3331', 'Rv3758c', 'Rv0860', 'Rv2436', 'Rv2382c', 'Rv1163', 'Rv3113', 'Rv3759c', 'Rv0974c', 'Rv3379c', 'Rv2062c', 'Rv1662', 'Rv2316', 'Rv1647', 'Rv1928c', 'Rv2380c', 'Rv2379c', 'Rv2833c', 'Rv1164', 'Rv0156', 'Rv0727c', 'Rv0812', 'Rv1005c', 'Rv1127c', 'Rv1511', 'Rv3332', 'Rv1844c', 'Rv3468c', 'Rv3565', 'Rv1902c', 'Rv1162', 'Rv2381c', 'Rv0082', 'Rv2458', 'Rv0252', 'Rv2671', 'Rv0511', 'Rv1916', 'Rv1239c', 'Rv2524c']\n"
     ]
    },
    {
     "data": {
      "text/html": [
       "<div>\n",
       "<table border=\"1\" class=\"dataframe\">\n",
       "  <thead>\n",
       "    <tr style=\"text-align: right;\">\n",
       "      <th></th>\n",
       "      <th>uniprot</th>\n",
       "      <th>reviewed</th>\n",
       "      <th>gene_name</th>\n",
       "      <th>kegg</th>\n",
       "      <th>refseq</th>\n",
       "      <th>num_pdbs</th>\n",
       "      <th>pdbs</th>\n",
       "      <th>ec_number</th>\n",
       "      <th>pfam</th>\n",
       "      <th>seq_len</th>\n",
       "      <th>description</th>\n",
       "      <th>entry_version</th>\n",
       "      <th>seq_version</th>\n",
       "      <th>sequence_file</th>\n",
       "      <th>metadata_file</th>\n",
       "    </tr>\n",
       "    <tr>\n",
       "      <th>gene</th>\n",
       "      <th></th>\n",
       "      <th></th>\n",
       "      <th></th>\n",
       "      <th></th>\n",
       "      <th></th>\n",
       "      <th></th>\n",
       "      <th></th>\n",
       "      <th></th>\n",
       "      <th></th>\n",
       "      <th></th>\n",
       "      <th></th>\n",
       "      <th></th>\n",
       "      <th></th>\n",
       "      <th></th>\n",
       "      <th></th>\n",
       "    </tr>\n",
       "  </thead>\n",
       "  <tbody>\n",
       "    <tr>\n",
       "      <th>Rv0417</th>\n",
       "      <td>P9WG73</td>\n",
       "      <td>True</td>\n",
       "      <td>thiG</td>\n",
       "      <td>mtu:Rv0417</td>\n",
       "      <td>NP_214931.1;NC_000962.3;WP_003916659.1;NZ_KK33...</td>\n",
       "      <td>0</td>\n",
       "      <td>NaN</td>\n",
       "      <td>2.8.1.10</td>\n",
       "      <td>PF05690</td>\n",
       "      <td>252</td>\n",
       "      <td>Thiazole synthase {ECO:0000255|HAMAP-Rule:MF_0...</td>\n",
       "      <td>2017-02-15</td>\n",
       "      <td>2014-04-16</td>\n",
       "      <td>P9WG73.fasta</td>\n",
       "      <td>P9WG73.txt</td>\n",
       "    </tr>\n",
       "    <tr>\n",
       "      <th>Rv2291</th>\n",
       "      <td>P9WHF5</td>\n",
       "      <td>True</td>\n",
       "      <td>sseB</td>\n",
       "      <td>mtu:Rv2291</td>\n",
       "      <td>NP_216807.1;NC_000962.3;WP_003899253.1;NZ_KK33...</td>\n",
       "      <td>0</td>\n",
       "      <td>NaN</td>\n",
       "      <td>2.8.1.1</td>\n",
       "      <td>PF00581</td>\n",
       "      <td>284</td>\n",
       "      <td>Putative thiosulfate sulfurtransferase SseB</td>\n",
       "      <td>2017-02-15</td>\n",
       "      <td>2014-04-16</td>\n",
       "      <td>P9WHF5.fasta</td>\n",
       "      <td>P9WHF5.txt</td>\n",
       "    </tr>\n",
       "    <tr>\n",
       "      <th>Rv1295</th>\n",
       "      <td>P9WG59</td>\n",
       "      <td>True</td>\n",
       "      <td>thrC</td>\n",
       "      <td>mtu:Rv1295</td>\n",
       "      <td>NP_215811.1;NC_000962.3;WP_003406652.1;NZ_KK33...</td>\n",
       "      <td>1</td>\n",
       "      <td>2D1F</td>\n",
       "      <td>4.2.3.1</td>\n",
       "      <td>PF00291</td>\n",
       "      <td>360</td>\n",
       "      <td>TS;Threonine synthase</td>\n",
       "      <td>2017-02-15</td>\n",
       "      <td>2014-04-16</td>\n",
       "      <td>P9WG59.fasta</td>\n",
       "      <td>P9WG59.txt</td>\n",
       "    </tr>\n",
       "    <tr>\n",
       "      <th>Rv1559</th>\n",
       "      <td>P9WG95</td>\n",
       "      <td>True</td>\n",
       "      <td>ilvA</td>\n",
       "      <td>mtu:Rv1559</td>\n",
       "      <td>NP_216075.1;NC_000962.3;WP_003407781.1;NZ_KK33...</td>\n",
       "      <td>0</td>\n",
       "      <td>NaN</td>\n",
       "      <td>4.3.1.19</td>\n",
       "      <td>PF00291;PF00585</td>\n",
       "      <td>429</td>\n",
       "      <td>Threonine deaminase;L-threonine dehydratase bi...</td>\n",
       "      <td>2017-02-15</td>\n",
       "      <td>2014-04-16</td>\n",
       "      <td>P9WG95.fasta</td>\n",
       "      <td>P9WG95.txt</td>\n",
       "    </tr>\n",
       "    <tr>\n",
       "      <th>Rv2447c</th>\n",
       "      <td>I6Y0R5</td>\n",
       "      <td>True</td>\n",
       "      <td>folC</td>\n",
       "      <td>mtu:Rv2447c;mtv:RVBD_2447c</td>\n",
       "      <td>NP_216963.1;NC_000962.3;WP_003899324.1;NZ_KK33...</td>\n",
       "      <td>2</td>\n",
       "      <td>2VOS;2VOR</td>\n",
       "      <td>6.3.2.17;6.3.2.12</td>\n",
       "      <td>PF02875;PF08245</td>\n",
       "      <td>487</td>\n",
       "      <td>Tetrahydrofolylpolyglutamate synthase;Folylpol...</td>\n",
       "      <td>2017-02-15</td>\n",
       "      <td>2012-10-03</td>\n",
       "      <td>I6Y0R5.fasta</td>\n",
       "      <td>I6Y0R5.txt</td>\n",
       "    </tr>\n",
       "  </tbody>\n",
       "</table>\n",
       "</div>"
      ],
      "text/plain": [
       "        uniprot reviewed gene_name                        kegg  \\\n",
       "gene                                                             \n",
       "Rv0417   P9WG73     True      thiG                  mtu:Rv0417   \n",
       "Rv2291   P9WHF5     True      sseB                  mtu:Rv2291   \n",
       "Rv1295   P9WG59     True      thrC                  mtu:Rv1295   \n",
       "Rv1559   P9WG95     True      ilvA                  mtu:Rv1559   \n",
       "Rv2447c  I6Y0R5     True      folC  mtu:Rv2447c;mtv:RVBD_2447c   \n",
       "\n",
       "                                                    refseq  num_pdbs  \\\n",
       "gene                                                                   \n",
       "Rv0417   NP_214931.1;NC_000962.3;WP_003916659.1;NZ_KK33...         0   \n",
       "Rv2291   NP_216807.1;NC_000962.3;WP_003899253.1;NZ_KK33...         0   \n",
       "Rv1295   NP_215811.1;NC_000962.3;WP_003406652.1;NZ_KK33...         1   \n",
       "Rv1559   NP_216075.1;NC_000962.3;WP_003407781.1;NZ_KK33...         0   \n",
       "Rv2447c  NP_216963.1;NC_000962.3;WP_003899324.1;NZ_KK33...         2   \n",
       "\n",
       "              pdbs          ec_number             pfam  seq_len  \\\n",
       "gene                                                              \n",
       "Rv0417         NaN           2.8.1.10          PF05690      252   \n",
       "Rv2291         NaN            2.8.1.1          PF00581      284   \n",
       "Rv1295        2D1F            4.2.3.1          PF00291      360   \n",
       "Rv1559         NaN           4.3.1.19  PF00291;PF00585      429   \n",
       "Rv2447c  2VOS;2VOR  6.3.2.17;6.3.2.12  PF02875;PF08245      487   \n",
       "\n",
       "                                               description entry_version  \\\n",
       "gene                                                                       \n",
       "Rv0417   Thiazole synthase {ECO:0000255|HAMAP-Rule:MF_0...    2017-02-15   \n",
       "Rv2291         Putative thiosulfate sulfurtransferase SseB    2017-02-15   \n",
       "Rv1295                               TS;Threonine synthase    2017-02-15   \n",
       "Rv1559   Threonine deaminase;L-threonine dehydratase bi...    2017-02-15   \n",
       "Rv2447c  Tetrahydrofolylpolyglutamate synthase;Folylpol...    2017-02-15   \n",
       "\n",
       "        seq_version sequence_file metadata_file  \n",
       "gene                                             \n",
       "Rv0417   2014-04-16  P9WG73.fasta    P9WG73.txt  \n",
       "Rv2291   2014-04-16  P9WHF5.fasta    P9WHF5.txt  \n",
       "Rv1295   2014-04-16  P9WG59.fasta    P9WG59.txt  \n",
       "Rv1559   2014-04-16  P9WG95.fasta    P9WG95.txt  \n",
       "Rv2447c  2012-10-03  I6Y0R5.fasta    I6Y0R5.txt  "
      ]
     },
     "execution_count": 11,
     "metadata": {},
     "output_type": "execute_result"
    }
   ],
   "source": [
    "# UniProt mapping\n",
    "my_gempro.uniprot_mapping_and_metadata(model_gene_source='TUBERCULIST_ID')\n",
    "print('Missing UniProt mapping: ', my_gempro.missing_uniprot_mapping)\n",
    "my_gempro.df_uniprot_metadata.head()"
   ]
  },
  {
   "cell_type": "raw",
   "metadata": {
    "raw_mimetype": "text/restructuredtext"
   },
   "source": [
    ".. automethod:: ssbio.pipeline.gempro.GEMPRO.set_representative_sequence\n",
    "    :noindex:"
   ]
  },
  {
   "cell_type": "code",
   "execution_count": 12,
   "metadata": {
    "collapsed": false
   },
   "outputs": [
    {
     "name": "stderr",
     "output_type": "stream",
     "text": [
      "[2017-03-08 13:18] [ssbio.pipeline.gempro] INFO: 661/661: number of genes with a representative sequence\n",
      "[2017-03-08 13:18] [ssbio.pipeline.gempro] INFO: See the \"df_representative_sequences\" attribute for a summary dataframe.\n"
     ]
    },
    {
     "name": "stdout",
     "output_type": "stream",
     "text": [
      "\n",
      "Missing a representative sequence:  []\n"
     ]
    },
    {
     "data": {
      "text/html": [
       "<div>\n",
       "<table border=\"1\" class=\"dataframe\">\n",
       "  <thead>\n",
       "    <tr style=\"text-align: right;\">\n",
       "      <th></th>\n",
       "      <th>uniprot</th>\n",
       "      <th>kegg</th>\n",
       "      <th>num_pdbs</th>\n",
       "      <th>pdbs</th>\n",
       "      <th>seq_len</th>\n",
       "      <th>sequence_file</th>\n",
       "    </tr>\n",
       "    <tr>\n",
       "      <th>gene</th>\n",
       "      <th></th>\n",
       "      <th></th>\n",
       "      <th></th>\n",
       "      <th></th>\n",
       "      <th></th>\n",
       "      <th></th>\n",
       "    </tr>\n",
       "  </thead>\n",
       "  <tbody>\n",
       "    <tr>\n",
       "      <th>Rv0417</th>\n",
       "      <td>P9WG73</td>\n",
       "      <td>mtu:Rv0417</td>\n",
       "      <td>0</td>\n",
       "      <td>NaN</td>\n",
       "      <td>252</td>\n",
       "      <td>P9WG73.fasta</td>\n",
       "    </tr>\n",
       "    <tr>\n",
       "      <th>Rv2291</th>\n",
       "      <td>P9WHF5</td>\n",
       "      <td>mtu:Rv2291</td>\n",
       "      <td>0</td>\n",
       "      <td>NaN</td>\n",
       "      <td>284</td>\n",
       "      <td>P9WHF5.fasta</td>\n",
       "    </tr>\n",
       "    <tr>\n",
       "      <th>Rv3737</th>\n",
       "      <td>O69704</td>\n",
       "      <td>mtu:Rv3737</td>\n",
       "      <td>0</td>\n",
       "      <td>NaN</td>\n",
       "      <td>529</td>\n",
       "      <td>mtu-Rv3737.faa</td>\n",
       "    </tr>\n",
       "    <tr>\n",
       "      <th>Rv1295</th>\n",
       "      <td>P9WG59</td>\n",
       "      <td>mtu:Rv1295</td>\n",
       "      <td>1</td>\n",
       "      <td>2D1F</td>\n",
       "      <td>360</td>\n",
       "      <td>Rv1295.faa</td>\n",
       "    </tr>\n",
       "    <tr>\n",
       "      <th>Rv1559</th>\n",
       "      <td>P9WG95</td>\n",
       "      <td>mtu:Rv1559</td>\n",
       "      <td>0</td>\n",
       "      <td>NaN</td>\n",
       "      <td>429</td>\n",
       "      <td>P9WG95.fasta</td>\n",
       "    </tr>\n",
       "  </tbody>\n",
       "</table>\n",
       "</div>"
      ],
      "text/plain": [
       "       uniprot        kegg  num_pdbs  pdbs  seq_len   sequence_file\n",
       "gene                                                               \n",
       "Rv0417  P9WG73  mtu:Rv0417         0   NaN      252    P9WG73.fasta\n",
       "Rv2291  P9WHF5  mtu:Rv2291         0   NaN      284    P9WHF5.fasta\n",
       "Rv3737  O69704  mtu:Rv3737         0   NaN      529  mtu-Rv3737.faa\n",
       "Rv1295  P9WG59  mtu:Rv1295         1  2D1F      360      Rv1295.faa\n",
       "Rv1559  P9WG95  mtu:Rv1559         0   NaN      429    P9WG95.fasta"
      ]
     },
     "execution_count": 12,
     "metadata": {},
     "output_type": "execute_result"
    }
   ],
   "source": [
    "# Set representative sequences\n",
    "my_gempro.set_representative_sequence()\n",
    "print('Missing a representative sequence: ', my_gempro.missing_representative_sequence)\n",
    "my_gempro.df_representative_sequences.head()"
   ]
  },
  {
   "cell_type": "markdown",
   "metadata": {},
   "source": [
    "## Mapping representative sequence --> structure\n",
    "\n",
    "These are the ways to map sequence to structure:\n",
    "\n",
    "1. Use the UniProt ID and their automatic mappings to the PDB\n",
    "2. BLAST the sequence to the PDB\n",
    "3. Make homology models or \n",
    "4. Map to existing homology models\n",
    "\n",
    "You can only utilize option #1 to map to PDBs if there is a mapped UniProt ID set in the representative sequence. If not, you'll have to BLAST your sequence to the PDB or make a homology model. You can also run both for maximum coverage."
   ]
  },
  {
   "cell_type": "markdown",
   "metadata": {},
   "source": [
    "### Methods"
   ]
  },
  {
   "cell_type": "raw",
   "metadata": {
    "raw_mimetype": "text/restructuredtext"
   },
   "source": [
    ".. automethod:: ssbio.pipeline.gempro.GEMPRO.map_uniprot_to_pdb\n",
    "    :noindex:"
   ]
  },
  {
   "cell_type": "code",
   "execution_count": 13,
   "metadata": {
    "collapsed": false
   },
   "outputs": [
    {
     "name": "stderr",
     "output_type": "stream",
     "text": [
      "[2017-03-08 13:18] [ssbio.pipeline.gempro] INFO: Mapping UniProt IDs --> PDB IDs...\n",
      "[2017-03-08 13:18] [root] INFO: getUserAgent: Begin\n",
      "[2017-03-08 13:18] [root] INFO: getUserAgent: user_agent: EBI-Sample-Client/ (services.py; Python 3.5.2; Linux) Python-requests/2.12.4\n",
      "[2017-03-08 13:18] [root] INFO: getUserAgent: End\n",
      "[2017-03-08 13:18] [ssbio.pipeline.gempro] INFO: 176/661: number of genes with at least one experimental structure\n",
      "[2017-03-08 13:18] [ssbio.pipeline.gempro] INFO: Completed UniProt --> best PDB mapping. See the \"df_pdb_ranking\" attribute for a summary dataframe.\n"
     ]
    },
    {
     "name": "stdout",
     "output_type": "stream",
     "text": [
      "\n"
     ]
    },
    {
     "data": {
      "text/html": [
       "<div>\n",
       "<table border=\"1\" class=\"dataframe\">\n",
       "  <thead>\n",
       "    <tr style=\"text-align: right;\">\n",
       "      <th></th>\n",
       "      <th>pdb_id</th>\n",
       "      <th>pdb_chain_id</th>\n",
       "      <th>uniprot</th>\n",
       "      <th>experimental_method</th>\n",
       "      <th>resolution</th>\n",
       "      <th>coverage</th>\n",
       "      <th>start</th>\n",
       "      <th>end</th>\n",
       "      <th>unp_start</th>\n",
       "      <th>unp_end</th>\n",
       "      <th>rank</th>\n",
       "    </tr>\n",
       "    <tr>\n",
       "      <th>gene</th>\n",
       "      <th></th>\n",
       "      <th></th>\n",
       "      <th></th>\n",
       "      <th></th>\n",
       "      <th></th>\n",
       "      <th></th>\n",
       "      <th></th>\n",
       "      <th></th>\n",
       "      <th></th>\n",
       "      <th></th>\n",
       "      <th></th>\n",
       "    </tr>\n",
       "  </thead>\n",
       "  <tbody>\n",
       "    <tr>\n",
       "      <th>Rv1295</th>\n",
       "      <td>2d1f</td>\n",
       "      <td>A</td>\n",
       "      <td>P9WG59</td>\n",
       "      <td>X-ray diffraction</td>\n",
       "      <td>2.50</td>\n",
       "      <td>1.000</td>\n",
       "      <td>1</td>\n",
       "      <td>360</td>\n",
       "      <td>1</td>\n",
       "      <td>360</td>\n",
       "      <td>1</td>\n",
       "    </tr>\n",
       "    <tr>\n",
       "      <th>Rv1295</th>\n",
       "      <td>2d1f</td>\n",
       "      <td>B</td>\n",
       "      <td>P9WG59</td>\n",
       "      <td>X-ray diffraction</td>\n",
       "      <td>2.50</td>\n",
       "      <td>1.000</td>\n",
       "      <td>1</td>\n",
       "      <td>360</td>\n",
       "      <td>1</td>\n",
       "      <td>360</td>\n",
       "      <td>2</td>\n",
       "    </tr>\n",
       "    <tr>\n",
       "      <th>Rv1201c</th>\n",
       "      <td>3fsy</td>\n",
       "      <td>A</td>\n",
       "      <td>P9WP21</td>\n",
       "      <td>X-ray diffraction</td>\n",
       "      <td>1.97</td>\n",
       "      <td>0.997</td>\n",
       "      <td>4</td>\n",
       "      <td>319</td>\n",
       "      <td>2</td>\n",
       "      <td>317</td>\n",
       "      <td>1</td>\n",
       "    </tr>\n",
       "    <tr>\n",
       "      <th>Rv1201c</th>\n",
       "      <td>3fsy</td>\n",
       "      <td>B</td>\n",
       "      <td>P9WP21</td>\n",
       "      <td>X-ray diffraction</td>\n",
       "      <td>1.97</td>\n",
       "      <td>0.997</td>\n",
       "      <td>4</td>\n",
       "      <td>319</td>\n",
       "      <td>2</td>\n",
       "      <td>317</td>\n",
       "      <td>2</td>\n",
       "    </tr>\n",
       "    <tr>\n",
       "      <th>Rv1201c</th>\n",
       "      <td>3fsy</td>\n",
       "      <td>C</td>\n",
       "      <td>P9WP21</td>\n",
       "      <td>X-ray diffraction</td>\n",
       "      <td>1.97</td>\n",
       "      <td>0.997</td>\n",
       "      <td>4</td>\n",
       "      <td>319</td>\n",
       "      <td>2</td>\n",
       "      <td>317</td>\n",
       "      <td>3</td>\n",
       "    </tr>\n",
       "  </tbody>\n",
       "</table>\n",
       "</div>"
      ],
      "text/plain": [
       "        pdb_id pdb_chain_id uniprot experimental_method  resolution  coverage  \\\n",
       "gene                                                                            \n",
       "Rv1295    2d1f            A  P9WG59   X-ray diffraction        2.50     1.000   \n",
       "Rv1295    2d1f            B  P9WG59   X-ray diffraction        2.50     1.000   \n",
       "Rv1201c   3fsy            A  P9WP21   X-ray diffraction        1.97     0.997   \n",
       "Rv1201c   3fsy            B  P9WP21   X-ray diffraction        1.97     0.997   \n",
       "Rv1201c   3fsy            C  P9WP21   X-ray diffraction        1.97     0.997   \n",
       "\n",
       "         start  end  unp_start  unp_end  rank  \n",
       "gene                                           \n",
       "Rv1295       1  360          1      360     1  \n",
       "Rv1295       1  360          1      360     2  \n",
       "Rv1201c      4  319          2      317     1  \n",
       "Rv1201c      4  319          2      317     2  \n",
       "Rv1201c      4  319          2      317     3  "
      ]
     },
     "execution_count": 13,
     "metadata": {},
     "output_type": "execute_result"
    }
   ],
   "source": [
    "# Mapping using the PDBe best_structures service\n",
    "my_gempro.map_uniprot_to_pdb(seq_ident_cutoff=.3)\n",
    "my_gempro.df_pdb_ranking.head()"
   ]
  },
  {
   "cell_type": "raw",
   "metadata": {
    "raw_mimetype": "text/restructuredtext"
   },
   "source": [
    ".. automethod:: ssbio.pipeline.gempro.GEMPRO.blast_seqs_to_pdb\n",
    "    :noindex:"
   ]
  },
  {
   "cell_type": "code",
   "execution_count": 14,
   "metadata": {
    "collapsed": false
   },
   "outputs": [
    {
     "name": "stderr",
     "output_type": "stream",
     "text": [
      "[2017-03-08 13:18] [ssbio.pipeline.gempro] INFO: Completed sequence --> PDB BLAST. See the \"df_pdb_blast\" attribute for a summary dataframe.\n",
      "[2017-03-08 13:18] [ssbio.pipeline.gempro] INFO: 31: number of genes with additional structures added from BLAST\n"
     ]
    },
    {
     "name": "stdout",
     "output_type": "stream",
     "text": [
      "\n"
     ]
    },
    {
     "data": {
      "text/html": [
       "<div>\n",
       "<table border=\"1\" class=\"dataframe\">\n",
       "  <thead>\n",
       "    <tr style=\"text-align: right;\">\n",
       "      <th></th>\n",
       "      <th>pdb_id</th>\n",
       "      <th>pdb_chain_id</th>\n",
       "      <th>hit_score</th>\n",
       "      <th>hit_evalue</th>\n",
       "      <th>hit_percent_similar</th>\n",
       "      <th>hit_percent_ident</th>\n",
       "      <th>hit_num_ident</th>\n",
       "      <th>hit_num_similar</th>\n",
       "    </tr>\n",
       "    <tr>\n",
       "      <th>gene</th>\n",
       "      <th></th>\n",
       "      <th></th>\n",
       "      <th></th>\n",
       "      <th></th>\n",
       "      <th></th>\n",
       "      <th></th>\n",
       "      <th></th>\n",
       "      <th></th>\n",
       "    </tr>\n",
       "  </thead>\n",
       "  <tbody>\n",
       "    <tr>\n",
       "      <th>Rv3846</th>\n",
       "      <td>1gn2</td>\n",
       "      <td>A</td>\n",
       "      <td>1023.0</td>\n",
       "      <td>2.657300e-111</td>\n",
       "      <td>0.995169</td>\n",
       "      <td>0.995169</td>\n",
       "      <td>206</td>\n",
       "      <td>206</td>\n",
       "    </tr>\n",
       "    <tr>\n",
       "      <th>Rv3846</th>\n",
       "      <td>1gn2</td>\n",
       "      <td>B</td>\n",
       "      <td>1023.0</td>\n",
       "      <td>2.657300e-111</td>\n",
       "      <td>0.995169</td>\n",
       "      <td>0.995169</td>\n",
       "      <td>206</td>\n",
       "      <td>206</td>\n",
       "    </tr>\n",
       "  </tbody>\n",
       "</table>\n",
       "</div>"
      ],
      "text/plain": [
       "       pdb_id pdb_chain_id  hit_score     hit_evalue  hit_percent_similar  \\\n",
       "gene                                                                        \n",
       "Rv3846   1gn2            A     1023.0  2.657300e-111             0.995169   \n",
       "Rv3846   1gn2            B     1023.0  2.657300e-111             0.995169   \n",
       "\n",
       "        hit_percent_ident  hit_num_ident  hit_num_similar  \n",
       "gene                                                       \n",
       "Rv3846           0.995169            206              206  \n",
       "Rv3846           0.995169            206              206  "
      ]
     },
     "execution_count": 14,
     "metadata": {},
     "output_type": "execute_result"
    }
   ],
   "source": [
    "# Mapping using BLAST\n",
    "my_gempro.blast_seqs_to_pdb(all_genes=True, seq_ident_cutoff=.9, evalue=0.00001)\n",
    "my_gempro.df_pdb_blast.head(2)"
   ]
  },
  {
   "cell_type": "raw",
   "metadata": {
    "raw_mimetype": "text/restructuredtext"
   },
   "source": [
    ".. automethod:: ssbio.pipeline.gempro.GEMPRO.get_itasser_models\n",
    "    :noindex:"
   ]
  },
  {
   "cell_type": "code",
   "execution_count": 15,
   "metadata": {
    "collapsed": false
   },
   "outputs": [
    {
     "name": "stderr",
     "output_type": "stream",
     "text": [
      "[2017-03-08 13:18] [ssbio.pipeline.gempro] INFO: Completed copying of 435 I-TASSER models to GEM-PRO directory. See the \"df_homology_models\" attribute for a summary dataframe.\n"
     ]
    },
    {
     "name": "stdout",
     "output_type": "stream",
     "text": [
      "\n"
     ]
    },
    {
     "name": "stderr",
     "output_type": "stream",
     "text": [
      "[2017-03-08 13:18] [ssbio.pipeline.gempro] INFO: Completed copying of 9 I-TASSER models to GEM-PRO directory. See the \"df_homology_models\" attribute for a summary dataframe.\n"
     ]
    },
    {
     "name": "stdout",
     "output_type": "stream",
     "text": [
      "\n"
     ]
    },
    {
     "data": {
      "text/html": [
       "<div>\n",
       "<table border=\"1\" class=\"dataframe\">\n",
       "  <thead>\n",
       "    <tr style=\"text-align: right;\">\n",
       "      <th></th>\n",
       "      <th>c_score</th>\n",
       "      <th>difficulty</th>\n",
       "      <th>id</th>\n",
       "      <th>model_date</th>\n",
       "      <th>model_file</th>\n",
       "      <th>rmsd</th>\n",
       "      <th>rmsd_err</th>\n",
       "      <th>tm_score</th>\n",
       "      <th>tm_score_err</th>\n",
       "      <th>top_template_chain</th>\n",
       "      <th>top_template_pdb</th>\n",
       "    </tr>\n",
       "    <tr>\n",
       "      <th>gene</th>\n",
       "      <th></th>\n",
       "      <th></th>\n",
       "      <th></th>\n",
       "      <th></th>\n",
       "      <th></th>\n",
       "      <th></th>\n",
       "      <th></th>\n",
       "      <th></th>\n",
       "      <th></th>\n",
       "      <th></th>\n",
       "      <th></th>\n",
       "    </tr>\n",
       "  </thead>\n",
       "  <tbody>\n",
       "    <tr>\n",
       "      <th>Rv0417</th>\n",
       "      <td>1.66</td>\n",
       "      <td>easy</td>\n",
       "      <td>P9WG73</td>\n",
       "      <td>2015-12-30</td>\n",
       "      <td>P9WG73_model1.pdb</td>\n",
       "      <td>2.6</td>\n",
       "      <td>1.9</td>\n",
       "      <td>0.95</td>\n",
       "      <td>0.05</td>\n",
       "      <td>C</td>\n",
       "      <td>2htm</td>\n",
       "    </tr>\n",
       "    <tr>\n",
       "      <th>Rv2291</th>\n",
       "      <td>1.38</td>\n",
       "      <td>easy</td>\n",
       "      <td>P9WHF5</td>\n",
       "      <td>2016-01-04</td>\n",
       "      <td>P9WHF5_model1.pdb</td>\n",
       "      <td>3.3</td>\n",
       "      <td>2.3</td>\n",
       "      <td>0.91</td>\n",
       "      <td>0.06</td>\n",
       "      <td>A</td>\n",
       "      <td>3olh</td>\n",
       "    </tr>\n",
       "    <tr>\n",
       "      <th>Rv1559</th>\n",
       "      <td>0.73</td>\n",
       "      <td>easy</td>\n",
       "      <td>P9WG95</td>\n",
       "      <td>2016-01-08</td>\n",
       "      <td>P9WG95_model1.pdb</td>\n",
       "      <td>5.4</td>\n",
       "      <td>3.4</td>\n",
       "      <td>0.81</td>\n",
       "      <td>0.09</td>\n",
       "      <td>A</td>\n",
       "      <td>1tdj</td>\n",
       "    </tr>\n",
       "    <tr>\n",
       "      <th>Rv3113</th>\n",
       "      <td>0.72</td>\n",
       "      <td>easy</td>\n",
       "      <td>O05790</td>\n",
       "      <td>2015-12-30</td>\n",
       "      <td>O05790_model1.pdb</td>\n",
       "      <td>4.1</td>\n",
       "      <td>2.8</td>\n",
       "      <td>0.81</td>\n",
       "      <td>0.09</td>\n",
       "      <td>A</td>\n",
       "      <td>3sd7</td>\n",
       "    </tr>\n",
       "    <tr>\n",
       "      <th>Rv2447c</th>\n",
       "      <td>0.07</td>\n",
       "      <td>easy</td>\n",
       "      <td>I6Y0R5</td>\n",
       "      <td>2016-01-08</td>\n",
       "      <td>I6Y0R5_model1.pdb</td>\n",
       "      <td>7.1</td>\n",
       "      <td>4.2</td>\n",
       "      <td>0.72</td>\n",
       "      <td>0.11</td>\n",
       "      <td>A</td>\n",
       "      <td>2vos</td>\n",
       "    </tr>\n",
       "  </tbody>\n",
       "</table>\n",
       "</div>"
      ],
      "text/plain": [
       "         c_score difficulty      id  model_date         model_file  rmsd  \\\n",
       "gene                                                                       \n",
       "Rv0417      1.66       easy  P9WG73  2015-12-30  P9WG73_model1.pdb   2.6   \n",
       "Rv2291      1.38       easy  P9WHF5  2016-01-04  P9WHF5_model1.pdb   3.3   \n",
       "Rv1559      0.73       easy  P9WG95  2016-01-08  P9WG95_model1.pdb   5.4   \n",
       "Rv3113      0.72       easy  O05790  2015-12-30  O05790_model1.pdb   4.1   \n",
       "Rv2447c     0.07       easy  I6Y0R5  2016-01-08  I6Y0R5_model1.pdb   7.1   \n",
       "\n",
       "         rmsd_err  tm_score  tm_score_err top_template_chain top_template_pdb  \n",
       "gene                                                                           \n",
       "Rv0417        1.9      0.95          0.05                  C             2htm  \n",
       "Rv2291        2.3      0.91          0.06                  A             3olh  \n",
       "Rv1559        3.4      0.81          0.09                  A             1tdj  \n",
       "Rv3113        2.8      0.81          0.09                  A             3sd7  \n",
       "Rv2447c       4.2      0.72          0.11                  A             2vos  "
      ]
     },
     "execution_count": 15,
     "metadata": {},
     "output_type": "execute_result"
    }
   ],
   "source": [
    "tb_homology_dir = '/home/nathan/projects_archive/homology_models/MTUBERCULOSIS/'\n",
    "\n",
    "##### EXAMPLE SPECIFIC CODE #####\n",
    "# Needed to map to older IDs used in this example\n",
    "import pandas as pd\n",
    "import os.path as op\n",
    "old_gene_to_homology = pd.read_csv(op.join(tb_homology_dir, 'data/161031-old_gene_to_uniprot_mapping.csv'))\n",
    "gene_to_uniprot = old_gene_to_homology.set_index('m_gene').to_dict()['u_uniprot_acc']\n",
    "my_gempro.get_itasser_models(homology_raw_dir=op.join(tb_homology_dir, 'raw'), custom_itasser_name_mapping=gene_to_uniprot)\n",
    "### END EXAMPLE SPECIFIC CODE ###\n",
    "\n",
    "# Organizing I-TASSER homology models\n",
    "my_gempro.get_itasser_models(homology_raw_dir=op.join(tb_homology_dir, 'raw'))\n",
    "my_gempro.df_homology_models.head()"
   ]
  },
  {
   "cell_type": "raw",
   "metadata": {
    "raw_mimetype": "text/restructuredtext"
   },
   "source": [
    ".. automethod:: ssbio.pipeline.gempro.GEMPRO.manual_homology_models\n",
    "    :noindex:"
   ]
  },
  {
   "cell_type": "code",
   "execution_count": 16,
   "metadata": {
    "collapsed": false
   },
   "outputs": [
    {
     "name": "stderr",
     "output_type": "stream",
     "text": [
      "[2017-03-08 13:18] [ssbio.pipeline.gempro] INFO: Updated homology model information for 0 genes.\n"
     ]
    },
    {
     "name": "stdout",
     "output_type": "stream",
     "text": [
      "\n"
     ]
    }
   ],
   "source": [
    "homology_model_dict = {}\n",
    "my_gempro.manual_homology_models(homology_model_dict)"
   ]
  },
  {
   "cell_type": "markdown",
   "metadata": {},
   "source": [
    "## Downloading and ranking structures"
   ]
  },
  {
   "cell_type": "markdown",
   "metadata": {},
   "source": [
    "### Methods"
   ]
  },
  {
   "cell_type": "raw",
   "metadata": {
    "raw_mimetype": "text/restructuredtext"
   },
   "source": [
    ".. automethod:: ssbio.pipeline.gempro.GEMPRO.pdb_downloader_and_metadata\n",
    "    :noindex:"
   ]
  },
  {
   "cell_type": "code",
   "execution_count": null,
   "metadata": {
    "collapsed": false
   },
   "outputs": [
    {
     "name": "stdout",
     "output_type": "stream",
     "text": [
      "608/|/ 92%|| 608/661 [18:01<01:34,  1.78s/it]"
     ]
    },
    {
     "name": "stderr",
     "output_type": "stream",
     "text": [
      "[2017-03-08 13:39] [ssbio.pipeline.gempro] INFO: Updated PDB metadata dataframe. See the \"df_pdb_metadata\" attribute for a summary dataframe.\n",
      "[2017-03-08 13:39] [ssbio.pipeline.gempro] INFO: Saved 942 structures total\n"
     ]
    },
    {
     "name": "stdout",
     "output_type": "stream",
     "text": [
      "\n"
     ]
    },
    {
     "data": {
      "text/html": [
       "<div>\n",
       "<table border=\"1\" class=\"dataframe\">\n",
       "  <thead>\n",
       "    <tr style=\"text-align: right;\">\n",
       "      <th></th>\n",
       "      <th>chemicals</th>\n",
       "      <th>date</th>\n",
       "      <th>description</th>\n",
       "      <th>experimental_method</th>\n",
       "      <th>mapped_chains</th>\n",
       "      <th>pdb_id</th>\n",
       "      <th>pdb_title</th>\n",
       "      <th>resolution</th>\n",
       "      <th>structure_file</th>\n",
       "      <th>taxonomy_name</th>\n",
       "    </tr>\n",
       "    <tr>\n",
       "      <th>gene</th>\n",
       "      <th></th>\n",
       "      <th></th>\n",
       "      <th></th>\n",
       "      <th></th>\n",
       "      <th></th>\n",
       "      <th></th>\n",
       "      <th></th>\n",
       "      <th></th>\n",
       "      <th></th>\n",
       "      <th></th>\n",
       "    </tr>\n",
       "  </thead>\n",
       "  <tbody>\n",
       "    <tr>\n",
       "      <th>Rv1295</th>\n",
       "      <td>PLP</td>\n",
       "      <td>2006-09-05;2009-02-24;2009-04-28;2011-07-13</td>\n",
       "      <td>Threonine synthase (E.C.4.2.3.1)</td>\n",
       "      <td>X-ray diffraction</td>\n",
       "      <td>A;B</td>\n",
       "      <td>2d1f</td>\n",
       "      <td>Structure of Mycobacterium tuberculosis threon...</td>\n",
       "      <td>2.50</td>\n",
       "      <td>2d1f.cif</td>\n",
       "      <td>Mycobacterium tuberculosis</td>\n",
       "    </tr>\n",
       "    <tr>\n",
       "      <th>Rv1201c</th>\n",
       "      <td>SCA;MPD;MG;NA;ACY</td>\n",
       "      <td>2009-06-23;2011-07-13</td>\n",
       "      <td>Tetrahydrodipicolinate N-succinyltransferase (...</td>\n",
       "      <td>X-ray diffraction</td>\n",
       "      <td>A;B;C;D;E</td>\n",
       "      <td>3fsy</td>\n",
       "      <td>Structure of tetrahydrodipicolinate N-succinyl...</td>\n",
       "      <td>1.97</td>\n",
       "      <td>3fsy.cif</td>\n",
       "      <td>Mycobacterium tuberculosis</td>\n",
       "    </tr>\n",
       "  </tbody>\n",
       "</table>\n",
       "</div>"
      ],
      "text/plain": [
       "                 chemicals                                         date  \\\n",
       "gene                                                                      \n",
       "Rv1295                 PLP  2006-09-05;2009-02-24;2009-04-28;2011-07-13   \n",
       "Rv1201c  SCA;MPD;MG;NA;ACY                        2009-06-23;2011-07-13   \n",
       "\n",
       "                                               description  \\\n",
       "gene                                                         \n",
       "Rv1295                    Threonine synthase (E.C.4.2.3.1)   \n",
       "Rv1201c  Tetrahydrodipicolinate N-succinyltransferase (...   \n",
       "\n",
       "        experimental_method mapped_chains pdb_id  \\\n",
       "gene                                               \n",
       "Rv1295    X-ray diffraction           A;B   2d1f   \n",
       "Rv1201c   X-ray diffraction     A;B;C;D;E   3fsy   \n",
       "\n",
       "                                                 pdb_title  resolution  \\\n",
       "gene                                                                     \n",
       "Rv1295   Structure of Mycobacterium tuberculosis threon...        2.50   \n",
       "Rv1201c  Structure of tetrahydrodipicolinate N-succinyl...        1.97   \n",
       "\n",
       "        structure_file               taxonomy_name  \n",
       "gene                                                \n",
       "Rv1295        2d1f.cif  Mycobacterium tuberculosis  \n",
       "Rv1201c       3fsy.cif  Mycobacterium tuberculosis  "
      ]
     },
     "execution_count": 17,
     "metadata": {},
     "output_type": "execute_result"
    }
   ],
   "source": [
    "# Download all mapped PDBs and gather the metadata\n",
    "my_gempro.pdb_downloader_and_metadata()\n",
    "my_gempro.df_pdb_metadata.head(2)"
   ]
  },
  {
   "cell_type": "raw",
   "metadata": {
    "raw_mimetype": "text/restructuredtext"
   },
   "source": [
    ".. automethod:: ssbio.pipeline.gempro.GEMPRO.set_representative_structure\n",
    "    :noindex:"
   ]
  },
  {
   "cell_type": "code",
   "execution_count": null,
   "metadata": {
    "collapsed": false
   },
   "outputs": [
    {
     "name": "stderr",
     "output_type": "stream",
     "text": [
      "[2017-03-08 13:39] [ssbio.core.protein] WARNING: Rv0432: no structures meet quality checks\n",
      "[2017-03-08 13:40] [ssbio.core.protein] WARNING: Rv1286: no structures meet quality checks\n",
      "[2017-03-08 13:40] [ssbio.core.protein] WARNING: Rv2934: no structures meet quality checks\n",
      "[2017-03-08 13:40] [ssbio.core.protein] WARNING: Rv2932: no structures meet quality checks\n",
      "[2017-03-08 13:40] [ssbio.core.protein] WARNING: Rv2933: no structures meet quality checks\n",
      "[2017-03-08 13:40] [ssbio.core.protein] WARNING: Rv2931: no structures meet quality checks\n",
      "[2017-03-08 13:40] [ssbio.core.protein] WARNING: Rv2945c: no structures meet quality checks\n",
      "[2017-03-08 13:40] [ssbio.core.protein] WARNING: Rv2941: no structures meet quality checks\n"
     ]
    }
   ],
   "source": [
    "# Set representative structures\n",
    "my_gempro.set_representative_structure()\n",
    "my_gempro.df_representative_structures.head()"
   ]
  },
  {
   "cell_type": "code",
   "execution_count": null,
   "metadata": {
    "collapsed": false
   },
   "outputs": [],
   "source": [
    "# Looking at the information saved within a gene\n",
    "my_gempro.genes.get_by_id('Rv1295').protein.representative_structure\n",
    "my_gempro.genes.get_by_id('Rv1295').protein.representative_structure.get_dict()"
   ]
  },
  {
   "cell_type": "markdown",
   "metadata": {},
   "source": [
    "## Creating homology models"
   ]
  },
  {
   "cell_type": "markdown",
   "metadata": {},
   "source": [
    "For those proteins with no representative structure, we can create homology models for them. `ssbio` contains some built in functions for easily running [I-TASSER](http://zhanglab.ccmb.med.umich.edu/I-TASSER/download/) locally or on machines with `SLURM` (ie. on NERSC) or `Torque` job scheduling.\n",
    "\n",
    "You can load in I-TASSER models once they complete using the `get_itasser_models` later.\n",
    "\n",
    "<p><div class=\"alert alert-info\">**Info:** Homology modeling can take a long time - about 24-72 hours per protein (highly dependent on the sequence length, as well as if there are available templates).</div></p>"
   ]
  },
  {
   "cell_type": "markdown",
   "metadata": {},
   "source": [
    "### Methods"
   ]
  },
  {
   "cell_type": "raw",
   "metadata": {
    "raw_mimetype": "text/restructuredtext"
   },
   "source": [
    ".. automethod:: ssbio.pipeline.gempro.GEMPRO.prep_itasser_models\n",
    "    :noindex:"
   ]
  },
  {
   "cell_type": "code",
   "execution_count": null,
   "metadata": {
    "collapsed": false
   },
   "outputs": [],
   "source": [
    "# Prep I-TASSER model folders\n",
    "my_gempro.prep_itasser_models('~/software/I-TASSER4.4', '~/software/ITLIB/', runtype='local', all_genes=False)"
   ]
  },
  {
   "cell_type": "markdown",
   "metadata": {},
   "source": [
    "## Saving your GEM-PRO"
   ]
  },
  {
   "cell_type": "markdown",
   "metadata": {},
   "source": [
    "<p><div class=\"alert alert-warning\">**Warning:** Saving is still experimental. For a full GEM-PRO with sequences & structures, depending on the number of genes, saving can take >5 minutes.</div></p>"
   ]
  },
  {
   "cell_type": "raw",
   "metadata": {
    "raw_mimetype": "text/restructuredtext"
   },
   "source": [
    ".. automethod:: ssbio.pipeline.gempro.GEMPRO.save_json\n",
    "    :noindex:"
   ]
  },
  {
   "cell_type": "code",
   "execution_count": null,
   "metadata": {
    "collapsed": false
   },
   "outputs": [],
   "source": [
    "import os.path as op\n",
    "my_gempro.save_json(op.join(my_gempro.model_dir, '{}.json'.format(my_gempro.id)), compression=False)"
   ]
  }
 ],
 "metadata": {
  "_draft": {
   "nbviewer_url": "https://gist.github.com/342e44766d1dda637e975a4ef61dae19"
  },
  "anaconda-cloud": {},
  "celltoolbar": "Raw Cell Format",
  "gist": {
   "data": {
    "description": "GEM-PRO pipeline example for a list of gene IDs",
    "public": false
   },
   "id": "342e44766d1dda637e975a4ef61dae19"
  },
  "kernelspec": {
   "display_name": "Python [default]",
   "language": "python",
   "name": "python3"
  },
  "language_info": {
   "codemirror_mode": {
    "name": "ipython",
    "version": 3
   },
   "file_extension": ".py",
   "mimetype": "text/x-python",
   "name": "python",
   "nbconvert_exporter": "python",
   "pygments_lexer": "ipython3",
   "version": "3.5.2"
  },
  "widgets": {
   "state": {
    "54399863d1614d468b18caf3e7ec9fde": {
     "views": [
      {
       "cell_index": 26
      }
     ]
    },
    "a1805c568e6146dab872dcf13eea9205": {
     "views": [
      {
       "cell_index": 30
      }
     ]
    },
    "a887a470270547cca4766f189dd50372": {
     "views": [
      {
       "cell_index": 32
      }
     ]
    },
    "aa4a8dbac4394d21940557cea6d7436f": {
     "views": [
      {
       "cell_index": 20
      }
     ]
    },
    "bee17ea37f90411999151cdef0a5b63a": {
     "views": [
      {
       "cell_index": 22
      }
     ]
    },
    "d7eec6c4260a4f67af68386dc335f474": {
     "views": [
      {
       "cell_index": 30
      }
     ]
    },
    "db9ad1fec84140128f0b6668e5a1032d": {
     "views": [
      {
       "cell_index": 28
      }
     ]
    },
    "e127843c1bbd435886f51de01d7d226c": {
     "views": [
      {
       "cell_index": 30
      }
     ]
    },
    "f5633e25936e4a328fc4fc19a41880ce": {
     "views": [
      {
       "cell_index": 18
      }
     ]
    },
    "f8939cdda5074a9c849907b882832569": {
     "views": [
      {
       "cell_index": 38
      }
     ]
    },
    "ff6fd1f6c27c45fdb568d12da5b1cd2b": {
     "views": [
      {
       "cell_index": 36
      }
     ]
    }
   },
   "version": "1.2.0"
  }
 },
 "nbformat": 4,
 "nbformat_minor": 1
}
