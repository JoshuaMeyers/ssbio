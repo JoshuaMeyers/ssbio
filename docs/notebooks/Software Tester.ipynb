{
 "cells": [
  {
   "cell_type": "markdown",
   "metadata": {},
   "source": [
    "# Software Tester"
   ]
  },
  {
   "cell_type": "code",
   "execution_count": 1,
   "metadata": {
    "collapsed": true
   },
   "outputs": [],
   "source": [
    "def check_path(path):\n",
    "    import shutil\n",
    "    \n",
    "    checker = shutil.which(path)\n",
    "    if checker:\n",
    "        print('SUCCESS: {} found!'.format(path))\n",
    "        return checker\n",
    "    else:\n",
    "        raise OSError('FAILURE: unable to run {}'.format(path))"
   ]
  },
  {
   "cell_type": "code",
   "execution_count": 2,
   "metadata": {
    "collapsed": true
   },
   "outputs": [],
   "source": [
    "def check_path_run(cmd):\n",
    "    import shlex\n",
    "    import subprocess\n",
    "    program_and_args = shlex.split(cmd)\n",
    "    try:\n",
    "        command = subprocess.Popen(program_and_args, stdout=subprocess.PIPE, stderr=subprocess.PIPE)\n",
    "        out, err = command.communicate()\n",
    "    except FileNotFoundError:\n",
    "        raise OSError('FAILURE: unable to run {}'.format(program_and_args[0]))\n",
    "    \n",
    "    print('*****STDOUT*****')\n",
    "    print(out.decode(\"utf-8\") )\n",
    "    print('--------------\\n')\n",
    "    print('*****STDERR*****')\n",
    "    print(err.decode(\"utf-8\") )"
   ]
  },
  {
   "cell_type": "code",
   "execution_count": 3,
   "metadata": {
    "collapsed": true
   },
   "outputs": [],
   "source": [
    "import os.path as op"
   ]
  },
  {
   "cell_type": "markdown",
   "metadata": {},
   "source": [
    "## I-TASSER"
   ]
  },
  {
   "cell_type": "code",
   "execution_count": 4,
   "metadata": {
    "collapsed": true
   },
   "outputs": [],
   "source": [
    "itasser_dir = '/home/nathan/software/I-TASSER/'\n",
    "itasser_downloadlib = op.join(itasser_dir, 'download_lib.pl')\n",
    "itasser_exec = op.join(itasser_dir, 'I-TASSERmod/runI-TASSER.pl')"
   ]
  },
  {
   "cell_type": "code",
   "execution_count": 5,
   "metadata": {},
   "outputs": [
    {
     "ename": "OSError",
     "evalue": "FAILURE: unable to run /home/nathan/software/I-TASSER/download_lib.pl",
     "output_type": "error",
     "traceback": [
      "\u001b[0;31m---------------------------------------------------------------------------\u001b[0m",
      "\u001b[0;31mOSError\u001b[0m                                   Traceback (most recent call last)",
      "\u001b[0;32m<ipython-input-5-08e4d77e68e6>\u001b[0m in \u001b[0;36m<module>\u001b[0;34m()\u001b[0m\n\u001b[0;32m----> 1\u001b[0;31m \u001b[0mcheck_path\u001b[0m\u001b[0;34m(\u001b[0m\u001b[0mitasser_downloadlib\u001b[0m\u001b[0;34m)\u001b[0m\u001b[0;34m\u001b[0m\u001b[0m\n\u001b[0m",
      "\u001b[0;32m<ipython-input-1-a0b2f37e1662>\u001b[0m in \u001b[0;36mcheck_path\u001b[0;34m(path)\u001b[0m\n\u001b[1;32m      7\u001b[0m         \u001b[0;32mreturn\u001b[0m \u001b[0mchecker\u001b[0m\u001b[0;34m\u001b[0m\u001b[0m\n\u001b[1;32m      8\u001b[0m     \u001b[0;32melse\u001b[0m\u001b[0;34m:\u001b[0m\u001b[0;34m\u001b[0m\u001b[0m\n\u001b[0;32m----> 9\u001b[0;31m         \u001b[0;32mraise\u001b[0m \u001b[0mOSError\u001b[0m\u001b[0;34m(\u001b[0m\u001b[0;34m'FAILURE: unable to run {}'\u001b[0m\u001b[0;34m.\u001b[0m\u001b[0mformat\u001b[0m\u001b[0;34m(\u001b[0m\u001b[0mpath\u001b[0m\u001b[0;34m)\u001b[0m\u001b[0;34m)\u001b[0m\u001b[0;34m\u001b[0m\u001b[0m\n\u001b[0m",
      "\u001b[0;31mOSError\u001b[0m: FAILURE: unable to run /home/nathan/software/I-TASSER/download_lib.pl"
     ]
    }
   ],
   "source": [
    "check_path(itasser_downloadlib)"
   ]
  },
  {
   "cell_type": "code",
   "execution_count": 6,
   "metadata": {},
   "outputs": [
    {
     "ename": "OSError",
     "evalue": "FAILURE: unable to run /home/nathan/software/I-TASSER/I-TASSERmod/runI-TASSER.pl",
     "output_type": "error",
     "traceback": [
      "\u001b[0;31m---------------------------------------------------------------------------\u001b[0m",
      "\u001b[0;31mOSError\u001b[0m                                   Traceback (most recent call last)",
      "\u001b[0;32m<ipython-input-6-10ef17a15b7c>\u001b[0m in \u001b[0;36m<module>\u001b[0;34m()\u001b[0m\n\u001b[0;32m----> 1\u001b[0;31m \u001b[0mcheck_path\u001b[0m\u001b[0;34m(\u001b[0m\u001b[0mitasser_exec\u001b[0m\u001b[0;34m)\u001b[0m\u001b[0;34m\u001b[0m\u001b[0m\n\u001b[0m",
      "\u001b[0;32m<ipython-input-1-a0b2f37e1662>\u001b[0m in \u001b[0;36mcheck_path\u001b[0;34m(path)\u001b[0m\n\u001b[1;32m      7\u001b[0m         \u001b[0;32mreturn\u001b[0m \u001b[0mchecker\u001b[0m\u001b[0;34m\u001b[0m\u001b[0m\n\u001b[1;32m      8\u001b[0m     \u001b[0;32melse\u001b[0m\u001b[0;34m:\u001b[0m\u001b[0;34m\u001b[0m\u001b[0m\n\u001b[0;32m----> 9\u001b[0;31m         \u001b[0;32mraise\u001b[0m \u001b[0mOSError\u001b[0m\u001b[0;34m(\u001b[0m\u001b[0;34m'FAILURE: unable to run {}'\u001b[0m\u001b[0;34m.\u001b[0m\u001b[0mformat\u001b[0m\u001b[0;34m(\u001b[0m\u001b[0mpath\u001b[0m\u001b[0;34m)\u001b[0m\u001b[0;34m)\u001b[0m\u001b[0;34m\u001b[0m\u001b[0m\n\u001b[0m",
      "\u001b[0;31mOSError\u001b[0m: FAILURE: unable to run /home/nathan/software/I-TASSER/I-TASSERmod/runI-TASSER.pl"
     ]
    }
   ],
   "source": [
    "check_path(itasser_exec)"
   ]
  },
  {
   "cell_type": "code",
   "execution_count": 7,
   "metadata": {},
   "outputs": [
    {
     "ename": "OSError",
     "evalue": "FAILURE: unable to run /home/nathan/software/I-TASSER/I-TASSERmod/runI-TASSER.pl",
     "output_type": "error",
     "traceback": [
      "\u001b[0;31m---------------------------------------------------------------------------\u001b[0m",
      "\u001b[0;31mFileNotFoundError\u001b[0m                         Traceback (most recent call last)",
      "\u001b[0;32m<ipython-input-2-32b65d2e387a>\u001b[0m in \u001b[0;36mcheck_path_run\u001b[0;34m(cmd)\u001b[0m\n\u001b[1;32m      5\u001b[0m     \u001b[0;32mtry\u001b[0m\u001b[0;34m:\u001b[0m\u001b[0;34m\u001b[0m\u001b[0m\n\u001b[0;32m----> 6\u001b[0;31m         \u001b[0mcommand\u001b[0m \u001b[0;34m=\u001b[0m \u001b[0msubprocess\u001b[0m\u001b[0;34m.\u001b[0m\u001b[0mPopen\u001b[0m\u001b[0;34m(\u001b[0m\u001b[0mprogram_and_args\u001b[0m\u001b[0;34m,\u001b[0m \u001b[0mstdout\u001b[0m\u001b[0;34m=\u001b[0m\u001b[0msubprocess\u001b[0m\u001b[0;34m.\u001b[0m\u001b[0mPIPE\u001b[0m\u001b[0;34m,\u001b[0m \u001b[0mstderr\u001b[0m\u001b[0;34m=\u001b[0m\u001b[0msubprocess\u001b[0m\u001b[0;34m.\u001b[0m\u001b[0mPIPE\u001b[0m\u001b[0;34m)\u001b[0m\u001b[0;34m\u001b[0m\u001b[0m\n\u001b[0m\u001b[1;32m      7\u001b[0m         \u001b[0mout\u001b[0m\u001b[0;34m,\u001b[0m \u001b[0merr\u001b[0m \u001b[0;34m=\u001b[0m \u001b[0mcommand\u001b[0m\u001b[0;34m.\u001b[0m\u001b[0mcommunicate\u001b[0m\u001b[0;34m(\u001b[0m\u001b[0;34m)\u001b[0m\u001b[0;34m\u001b[0m\u001b[0m\n",
      "\u001b[0;32m~/anaconda3/lib/python3.6/subprocess.py\u001b[0m in \u001b[0;36m__init__\u001b[0;34m(self, args, bufsize, executable, stdin, stdout, stderr, preexec_fn, close_fds, shell, cwd, env, universal_newlines, startupinfo, creationflags, restore_signals, start_new_session, pass_fds, encoding, errors)\u001b[0m\n\u001b[1;32m    708\u001b[0m                                 \u001b[0merrread\u001b[0m\u001b[0;34m,\u001b[0m \u001b[0merrwrite\u001b[0m\u001b[0;34m,\u001b[0m\u001b[0;34m\u001b[0m\u001b[0m\n\u001b[0;32m--> 709\u001b[0;31m                                 restore_signals, start_new_session)\n\u001b[0m\u001b[1;32m    710\u001b[0m         \u001b[0;32mexcept\u001b[0m\u001b[0;34m:\u001b[0m\u001b[0;34m\u001b[0m\u001b[0m\n",
      "\u001b[0;32m~/anaconda3/lib/python3.6/subprocess.py\u001b[0m in \u001b[0;36m_execute_child\u001b[0;34m(self, args, executable, preexec_fn, close_fds, pass_fds, cwd, env, startupinfo, creationflags, shell, p2cread, p2cwrite, c2pread, c2pwrite, errread, errwrite, restore_signals, start_new_session)\u001b[0m\n\u001b[1;32m   1343\u001b[0m                             \u001b[0merr_msg\u001b[0m \u001b[0;34m+=\u001b[0m \u001b[0;34m': '\u001b[0m \u001b[0;34m+\u001b[0m \u001b[0mrepr\u001b[0m\u001b[0;34m(\u001b[0m\u001b[0merr_filename\u001b[0m\u001b[0;34m)\u001b[0m\u001b[0;34m\u001b[0m\u001b[0m\n\u001b[0;32m-> 1344\u001b[0;31m                     \u001b[0;32mraise\u001b[0m \u001b[0mchild_exception_type\u001b[0m\u001b[0;34m(\u001b[0m\u001b[0merrno_num\u001b[0m\u001b[0;34m,\u001b[0m \u001b[0merr_msg\u001b[0m\u001b[0;34m,\u001b[0m \u001b[0merr_filename\u001b[0m\u001b[0;34m)\u001b[0m\u001b[0;34m\u001b[0m\u001b[0m\n\u001b[0m\u001b[1;32m   1345\u001b[0m                 \u001b[0;32mraise\u001b[0m \u001b[0mchild_exception_type\u001b[0m\u001b[0;34m(\u001b[0m\u001b[0merr_msg\u001b[0m\u001b[0;34m)\u001b[0m\u001b[0;34m\u001b[0m\u001b[0m\n",
      "\u001b[0;31mFileNotFoundError\u001b[0m: [Errno 2] No such file or directory: '/home/nathan/software/I-TASSER/I-TASSERmod/runI-TASSER.pl': '/home/nathan/software/I-TASSER/I-TASSERmod/runI-TASSER.pl'",
      "\nDuring handling of the above exception, another exception occurred:\n",
      "\u001b[0;31mOSError\u001b[0m                                   Traceback (most recent call last)",
      "\u001b[0;32m<ipython-input-7-367a0c7ea53b>\u001b[0m in \u001b[0;36m<module>\u001b[0;34m()\u001b[0m\n\u001b[0;32m----> 1\u001b[0;31m \u001b[0mcheck_path_run\u001b[0m\u001b[0;34m(\u001b[0m\u001b[0mitasser_exec\u001b[0m\u001b[0;34m)\u001b[0m\u001b[0;34m\u001b[0m\u001b[0m\n\u001b[0m",
      "\u001b[0;32m<ipython-input-2-32b65d2e387a>\u001b[0m in \u001b[0;36mcheck_path_run\u001b[0;34m(cmd)\u001b[0m\n\u001b[1;32m      7\u001b[0m         \u001b[0mout\u001b[0m\u001b[0;34m,\u001b[0m \u001b[0merr\u001b[0m \u001b[0;34m=\u001b[0m \u001b[0mcommand\u001b[0m\u001b[0;34m.\u001b[0m\u001b[0mcommunicate\u001b[0m\u001b[0;34m(\u001b[0m\u001b[0;34m)\u001b[0m\u001b[0;34m\u001b[0m\u001b[0m\n\u001b[1;32m      8\u001b[0m     \u001b[0;32mexcept\u001b[0m \u001b[0mFileNotFoundError\u001b[0m\u001b[0;34m:\u001b[0m\u001b[0;34m\u001b[0m\u001b[0m\n\u001b[0;32m----> 9\u001b[0;31m         \u001b[0;32mraise\u001b[0m \u001b[0mOSError\u001b[0m\u001b[0;34m(\u001b[0m\u001b[0;34m'FAILURE: unable to run {}'\u001b[0m\u001b[0;34m.\u001b[0m\u001b[0mformat\u001b[0m\u001b[0;34m(\u001b[0m\u001b[0mprogram_and_args\u001b[0m\u001b[0;34m[\u001b[0m\u001b[0;36m0\u001b[0m\u001b[0;34m]\u001b[0m\u001b[0;34m)\u001b[0m\u001b[0;34m)\u001b[0m\u001b[0;34m\u001b[0m\u001b[0m\n\u001b[0m\u001b[1;32m     10\u001b[0m \u001b[0;34m\u001b[0m\u001b[0m\n\u001b[1;32m     11\u001b[0m     \u001b[0mprint\u001b[0m\u001b[0;34m(\u001b[0m\u001b[0;34m'*****STDOUT*****'\u001b[0m\u001b[0;34m)\u001b[0m\u001b[0;34m\u001b[0m\u001b[0m\n",
      "\u001b[0;31mOSError\u001b[0m: FAILURE: unable to run /home/nathan/software/I-TASSER/I-TASSERmod/runI-TASSER.pl"
     ]
    }
   ],
   "source": [
    "check_path_run(itasser_exec)"
   ]
  },
  {
   "cell_type": "markdown",
   "metadata": {},
   "source": [
    "## DSSP"
   ]
  },
  {
   "cell_type": "code",
   "execution_count": 8,
   "metadata": {
    "collapsed": true
   },
   "outputs": [],
   "source": [
    "dssp_exec = 'dssp'"
   ]
  },
  {
   "cell_type": "code",
   "execution_count": 9,
   "metadata": {},
   "outputs": [
    {
     "name": "stdout",
     "output_type": "stream",
     "text": [
      "SUCCESS: dssp found!\n"
     ]
    },
    {
     "data": {
      "text/plain": [
       "'/usr/bin/dssp'"
      ]
     },
     "execution_count": 9,
     "metadata": {},
     "output_type": "execute_result"
    }
   ],
   "source": [
    "check_path(dssp_exec)"
   ]
  },
  {
   "cell_type": "code",
   "execution_count": 10,
   "metadata": {},
   "outputs": [
    {
     "name": "stdout",
     "output_type": "stream",
     "text": [
      "*****STDOUT*****\n",
      "\n",
      "--------------\n",
      "\n",
      "*****STDERR*****\n",
      "mkdssp 2.2.1 options:\n",
      "  -h [ --help ]         Display help message\n",
      "  -i [ --input ] arg    Input file\n",
      "  -o [ --output ] arg   Output file, use 'stdout' to output to screen\n",
      "  -v [ --verbose ]      Verbose output\n",
      "  --version             Print version\n",
      "  -d [ --debug ] arg    Debug level (for even more verbose output)\n",
      "\n",
      "\n",
      "Examples: \n",
      "\n",
      "To calculate the secondary structure for the file 1crn.pdb and\n",
      "write the result to a file called 1crn.dssp, you type:\n",
      "\n",
      "  dssp -i 1crn.pdb -o 1crn.dssp\n",
      "\n",
      "\n"
     ]
    }
   ],
   "source": [
    "check_path_run(dssp_exec)"
   ]
  },
  {
   "cell_type": "markdown",
   "metadata": {},
   "source": [
    "## MSMS"
   ]
  },
  {
   "cell_type": "code",
   "execution_count": 11,
   "metadata": {
    "collapsed": true
   },
   "outputs": [],
   "source": [
    "msms_exec = 'msms'"
   ]
  },
  {
   "cell_type": "code",
   "execution_count": 12,
   "metadata": {},
   "outputs": [
    {
     "name": "stdout",
     "output_type": "stream",
     "text": [
      "SUCCESS: msms found!\n"
     ]
    },
    {
     "data": {
      "text/plain": [
       "'/usr/local/bin/msms'"
      ]
     },
     "execution_count": 12,
     "metadata": {},
     "output_type": "execute_result"
    }
   ],
   "source": [
    "check_path(msms_exec)"
   ]
  },
  {
   "cell_type": "code",
   "execution_count": 13,
   "metadata": {},
   "outputs": [
    {
     "name": "stdout",
     "output_type": "stream",
     "text": [
      "*****STDOUT*****\n",
      "MSMS 2.6.1 started on structure\n",
      "Copyright M.F. Sanner (1994)\n",
      "Compilation flags -O2 -DVERBOSE -DTIMING\n",
      "MSMS: No input stream specified\n",
      "\n",
      "--------------\n",
      "\n",
      "*****STDERR*****\n",
      "\n"
     ]
    }
   ],
   "source": [
    "check_path_run(msms_exec)"
   ]
  },
  {
   "cell_type": "markdown",
   "metadata": {},
   "source": [
    "## STRIDE"
   ]
  },
  {
   "cell_type": "code",
   "execution_count": 14,
   "metadata": {
    "collapsed": true
   },
   "outputs": [],
   "source": [
    "stride_exec = 'stride'"
   ]
  },
  {
   "cell_type": "code",
   "execution_count": 15,
   "metadata": {},
   "outputs": [
    {
     "name": "stdout",
     "output_type": "stream",
     "text": [
      "SUCCESS: stride found!\n"
     ]
    },
    {
     "data": {
      "text/plain": [
       "'/usr/local/bin/stride'"
      ]
     },
     "execution_count": 15,
     "metadata": {},
     "output_type": "execute_result"
    }
   ],
   "source": [
    "check_path(stride_exec)"
   ]
  },
  {
   "cell_type": "code",
   "execution_count": 16,
   "metadata": {},
   "outputs": [
    {
     "name": "stdout",
     "output_type": "stream",
     "text": [
      "*****STDOUT*****\n",
      "\n",
      "--------------\n",
      "\n",
      "*****STDERR*****\n",
      "\n",
      "You must specify input file \n",
      "\n",
      "Action: secondary structure assignment\n",
      "Usage: stride [Options] InputFile [ > file ]\n",
      "Options:  \n",
      "  -fFile      Output file\n",
      "  -mFile      MolScript file\n",
      "  -o          Report secondary structure summary Only\n",
      "  -h          Report Hydrogen bonds\n",
      "  -rId1Id2..  Read only chains Id1, Id2 ...\n",
      "  -cId1Id2..  Process only Chains Id1, Id2 ...\n",
      "  -q[File]    Generate SeQuence file in FASTA format and die\n",
      "\n",
      "Options are position  and case insensitive\n",
      "\n"
     ]
    }
   ],
   "source": [
    "check_path_run(stride_exec)"
   ]
  },
  {
   "cell_type": "markdown",
   "metadata": {},
   "source": [
    "## FreeSASA"
   ]
  },
  {
   "cell_type": "code",
   "execution_count": 17,
   "metadata": {
    "collapsed": true
   },
   "outputs": [],
   "source": [
    "freesasa_exec = 'freesasa'"
   ]
  },
  {
   "cell_type": "code",
   "execution_count": 18,
   "metadata": {},
   "outputs": [
    {
     "name": "stdout",
     "output_type": "stream",
     "text": [
      "SUCCESS: freesasa found!\n"
     ]
    },
    {
     "data": {
      "text/plain": [
       "'/usr/local/bin/freesasa'"
      ]
     },
     "execution_count": 18,
     "metadata": {},
     "output_type": "execute_result"
    }
   ],
   "source": [
    "check_path(freesasa_exec)"
   ]
  },
  {
   "cell_type": "code",
   "execution_count": 19,
   "metadata": {},
   "outputs": [
    {
     "name": "stdout",
     "output_type": "stream",
     "text": [
      "*****STDOUT*****\n",
      "## FreeSASA 2.0 ##\n",
      "\n",
      "--------------\n",
      "\n",
      "*****STDERR*****\n",
      "FreeSASA:structure.c:640: error: input had no valid ATOM or HETATM lines\n",
      "FreeSASA:structure.c:648: error: \n",
      "freesasa: error: invalid input\n",
      "\n",
      "Run 'freesasa -h' for usage instructions.\n",
      "\n",
      "Report bugs to <https://github.com/mittinatten/freesasa/issues>\n",
      "Home page: <http://freesasa.github.io>\n",
      "\n",
      "\n"
     ]
    }
   ],
   "source": [
    "check_path_run(freesasa_exec)"
   ]
  },
  {
   "cell_type": "markdown",
   "metadata": {},
   "source": [
    "## FATCAT"
   ]
  },
  {
   "cell_type": "code",
   "execution_count": 20,
   "metadata": {
    "collapsed": true
   },
   "outputs": [],
   "source": [
    "fatcat_exec = '/home/nathan/software/fatcat/runFATCAT.sh'"
   ]
  },
  {
   "cell_type": "code",
   "execution_count": 21,
   "metadata": {},
   "outputs": [
    {
     "name": "stdout",
     "output_type": "stream",
     "text": [
      "SUCCESS: /home/nathan/software/fatcat/runFATCAT.sh found!\n"
     ]
    },
    {
     "data": {
      "text/plain": [
       "'/home/nathan/software/fatcat/runFATCAT.sh'"
      ]
     },
     "execution_count": 21,
     "metadata": {},
     "output_type": "execute_result"
    }
   ],
   "source": [
    "check_path(fatcat_exec)"
   ]
  },
  {
   "cell_type": "code",
   "execution_count": 22,
   "metadata": {},
   "outputs": [
    {
     "name": "stdout",
     "output_type": "stream",
     "text": [
      "*****STDOUT*****\n",
      "Protein Comparison Tool 4.1.1-SNAPSHOT 20151103-1640\n",
      "-------------------\n",
      "jFatCat_rigid v.1.1 help: \n",
      "-------------------\n",
      "\n",
      "jFatCat_rigid accepts the following parameters:\n",
      "\n",
      "--- pairwise alignments ---\n",
      " two files to align can be specified by providing a path to a file, or a URL:\n",
      "   -file1 the first file to align\n",
      "   -file2 the second file to align\n",
      " alternatively you can specify PDB files by their PDB ids:\n",
      "   -pdbFilePath  Path to the directory in your file system that contains the PDB files.\n",
      "   -pdb1  PDB ID of target structure. Chain IDs are optional. In order to specify chain IDs write e.g: 5pti.A\n",
      "   -pdb2  PDB ID of query structure. Chain IDs are optional. In order to specify chain IDs write e.g: 5pti.A\n",
      "\n",
      "   -h / -help / --help : print this help string.\n",
      "   -version: print version info\n",
      "   -printXML true/false print the XML representation of the alignment on stdout.\n",
      "   -printFatCat true/false print the original FATCAT output to stdout.\n",
      "   -printCE true/false print the result in CE style\n",
      "   -show3d print a 3D visualisation of the alignment (requires jmolapplet.jar in classpath)\n",
      "   -outFile file to write the output to (default: writes XML representation).\n",
      "   -outputPDB use this flag together with -outFile to dump the PDB file of the aligned structures, instead of the XML representation, instead of XML\n",
      "   -autoFetch true/false if set to true PDB files will automatically get downloaded and stored in the right location. (default: false)\n",
      "   -showMenu displays the menu that allows to run alignments through a user interface.\n",
      "\n",
      "--- custom searches ---\n",
      "   -alignPairs (mandatory) path to a file that contains a set of pairs to compair\n",
      "   -outFile (mandatory) a file that will contain the summary of all the pairwise alignments\n",
      "\n",
      "--- database searches ---\n",
      "   -searchFile (mandatory) path to a PDB file that should be used in the search\n",
      "   -outFile (mandatory) a directory that will contain the results of the DB search\n",
      "   -nrCPU (optional) Number of CPUs to use for the database search. By default will use the all, but one CPU in the system.\n",
      "   -pdbFilePath (mandatory) Path to the directory in your file system that contains the PDB files.\n",
      "   -saveOutputDir (optional) a directory that will contain the detailed outputs of the alignments. By default will write XML files, if used together with -outputPDB, will write PDB files of the alignment.\n",
      "\n",
      " Once DB seaches are complete it is possible to view the results with:\n",
      "   -showDBresult (optional) path to a DB outFile to show. Also provide the -pdbFilePath parameter to enable visualisation of results.\n",
      "\n",
      "--- jFatCat_rigid parameters: ---\n",
      "   -fragLen The length of the fragments.\n",
      "   -rmsdCut The RMSD cutoff to be used during AFP detection.\n",
      "   -disCut The distance cutoff used when calculate the connectivity of AFP pairs\n",
      "   -maxTra The number of twists that are allowed to be introduced. If set to 0 alignments are run in RIGID mode.\n",
      "\n",
      " For boolean arguments: if neither the text >true< or >false< is provided it is assumed to mean >true<. Instead of >-argument false< it is also possible to write -noArgument.\n",
      "\n",
      "--- How to specify what to align ---\n",
      " If only a PDB code is provided, the whole structure will be used for the alignment.\n",
      " To specify a particular chain write as: 4hhb.A (chain IDs are case sensitive, PDB ids are not)\n",
      " To specify that the 1st chain in a structure should be used write: 4hhb:0 .\n",
      " In order to align SCOP domains, provide pdb1/pdb2 as: d4hhba_ Note: if SCOP is not installed at the -pdbFilePath, will automatically download and install.\n",
      "\n",
      "\n",
      "\n",
      "--------------\n",
      "\n",
      "*****STDERR*****\n",
      "Error: insufficient arguments.\n",
      "\n"
     ]
    }
   ],
   "source": [
    "check_path_run(fatcat_exec)"
   ]
  },
  {
   "cell_type": "markdown",
   "metadata": {},
   "source": [
    "## SCRATCH"
   ]
  },
  {
   "cell_type": "code",
   "execution_count": 23,
   "metadata": {
    "collapsed": true
   },
   "outputs": [],
   "source": [
    "scratch_exec = '/home/nathan/software/SCRATCH-1D_1.1/bin/run_SCRATCH-1D_predictors.sh'"
   ]
  },
  {
   "cell_type": "code",
   "execution_count": 24,
   "metadata": {},
   "outputs": [
    {
     "name": "stdout",
     "output_type": "stream",
     "text": [
      "SUCCESS: /home/nathan/software/SCRATCH-1D_1.1/bin/run_SCRATCH-1D_predictors.sh found!\n"
     ]
    },
    {
     "data": {
      "text/plain": [
       "'/home/nathan/software/SCRATCH-1D_1.1/bin/run_SCRATCH-1D_predictors.sh'"
      ]
     },
     "execution_count": 24,
     "metadata": {},
     "output_type": "execute_result"
    }
   ],
   "source": [
    "check_path(scratch_exec)"
   ]
  },
  {
   "cell_type": "code",
   "execution_count": 25,
   "metadata": {},
   "outputs": [
    {
     "name": "stdout",
     "output_type": "stream",
     "text": [
      "*****STDOUT*****\n",
      "\n",
      "Usage : ./run_SCRATCH-1D_predictors.sh input_fasta  out_prefix  [num_threads]\n",
      "\n",
      "\n",
      "--------------\n",
      "\n",
      "*****STDERR*****\n",
      "\n"
     ]
    }
   ],
   "source": [
    "check_path_run(scratch_exec)"
   ]
  },
  {
   "cell_type": "markdown",
   "metadata": {},
   "source": [
    "## TMHMM"
   ]
  },
  {
   "cell_type": "code",
   "execution_count": 26,
   "metadata": {
    "collapsed": true
   },
   "outputs": [],
   "source": [
    "tmhmm_exec = 'tmhmm'"
   ]
  },
  {
   "cell_type": "code",
   "execution_count": 27,
   "metadata": {},
   "outputs": [
    {
     "name": "stdout",
     "output_type": "stream",
     "text": [
      "SUCCESS: tmhmm found!\n"
     ]
    },
    {
     "data": {
      "text/plain": [
       "'/home/nathan/software/tmhmm-2.0c/bin/tmhmm'"
      ]
     },
     "execution_count": 27,
     "metadata": {},
     "output_type": "execute_result"
    }
   ],
   "source": [
    "check_path(tmhmm_exec)"
   ]
  },
  {
   "cell_type": "code",
   "execution_count": 28,
   "metadata": {},
   "outputs": [
    {
     "name": "stdout",
     "output_type": "stream",
     "text": [
      "*****STDOUT*****\n",
      "\n",
      "--------------\n",
      "\n",
      "*****STDERR*****\n",
      "\n"
     ]
    }
   ],
   "source": [
    "check_path_run(tmhmm_exec)"
   ]
  },
  {
   "cell_type": "markdown",
   "metadata": {},
   "source": [
    "## EMBOSS"
   ]
  },
  {
   "cell_type": "markdown",
   "metadata": {},
   "source": [
    "### pepstats"
   ]
  },
  {
   "cell_type": "code",
   "execution_count": null,
   "metadata": {
    "collapsed": true
   },
   "outputs": [],
   "source": [
    "pepstats_exec = 'pepstats'"
   ]
  },
  {
   "cell_type": "code",
   "execution_count": 13,
   "metadata": {},
   "outputs": [
    {
     "name": "stdout",
     "output_type": "stream",
     "text": [
      "SUCCESS: pepstats found!\n"
     ]
    },
    {
     "data": {
      "text/plain": [
       "'/usr/bin/pepstats'"
      ]
     },
     "execution_count": 13,
     "metadata": {},
     "output_type": "execute_result"
    }
   ],
   "source": [
    "check_path(pepstats_exec)"
   ]
  },
  {
   "cell_type": "code",
   "execution_count": 55,
   "metadata": {},
   "outputs": [
    {
     "name": "stdout",
     "output_type": "stream",
     "text": [
      "*****STDOUT*****\n",
      "\n",
      "--------------\n",
      "\n",
      "*****STDERR*****\n",
      "Calculate statistics of protein properties\n",
      "Input protein sequence(s): Error: Unable to get reply from user - end of standard input\n",
      "\n"
     ]
    }
   ],
   "source": [
    "check_path_run(pepstats_exec)"
   ]
  },
  {
   "cell_type": "markdown",
   "metadata": {},
   "source": [
    "### needle"
   ]
  },
  {
   "cell_type": "code",
   "execution_count": null,
   "metadata": {
    "collapsed": true
   },
   "outputs": [],
   "source": [
    "needle_exec = 'needle'"
   ]
  },
  {
   "cell_type": "code",
   "execution_count": 14,
   "metadata": {},
   "outputs": [
    {
     "name": "stdout",
     "output_type": "stream",
     "text": [
      "SUCCESS: needle found!\n"
     ]
    },
    {
     "data": {
      "text/plain": [
       "'/usr/bin/needle'"
      ]
     },
     "execution_count": 14,
     "metadata": {},
     "output_type": "execute_result"
    }
   ],
   "source": [
    "check_path(needle_exec)"
   ]
  },
  {
   "cell_type": "code",
   "execution_count": 56,
   "metadata": {},
   "outputs": [
    {
     "name": "stdout",
     "output_type": "stream",
     "text": [
      "*****STDOUT*****\n",
      "\n",
      "--------------\n",
      "\n",
      "*****STDERR*****\n",
      "Needleman-Wunsch global alignment of two sequences\n",
      "Input sequence: Error: Unable to get reply from user - end of standard input\n",
      "\n"
     ]
    }
   ],
   "source": [
    "check_path_run(needle_exec)"
   ]
  },
  {
   "cell_type": "markdown",
   "metadata": {},
   "source": [
    "## nglview"
   ]
  },
  {
   "cell_type": "code",
   "execution_count": 57,
   "metadata": {},
   "outputs": [
    {
     "data": {
      "application/vnd.jupyter.widget-view+json": {
       "model_id": "ec028241df8a419bb4b7ae566666d9dd",
       "version_major": 2,
       "version_minor": 0
      },
      "text/html": [
       "<p>Failed to display Jupyter Widget of type <code>NGLWidget</code>.</p>\n",
       "<p>\n",
       "  If you're reading this message in Jupyter Notebook or JupyterLab, it may mean\n",
       "  that the widgets JavaScript is still loading. If this message persists, it\n",
       "  likely means that the widgets JavaScript library is either not installed or\n",
       "  not enabled. See the <a href=\"https://ipywidgets.readthedocs.io/en/stable/user_install.html\">Jupyter\n",
       "  Widgets Documentation</a> for setup instructions.\n",
       "</p>\n",
       "<p>\n",
       "  If you're reading this message in another notebook frontend (for example, a static\n",
       "  rendering on GitHub or <a href=\"https://nbviewer.jupyter.org/\">NBViewer</a>),\n",
       "  it may mean that your frontend doesn't currently support widgets.\n",
       "</p>\n"
      ],
      "text/plain": [
       "NGLWidget()"
      ]
     },
     "metadata": {},
     "output_type": "display_data"
    }
   ],
   "source": [
    "import nglview\n",
    "view = nglview.show_pdbid(\"3pqr\")\n",
    "view"
   ]
  }
 ],
 "metadata": {
  "kernelspec": {
   "display_name": "Python [default]",
   "language": "python",
   "name": "python3"
  },
  "language_info": {
   "codemirror_mode": {
    "name": "ipython",
    "version": 3
   },
   "file_extension": ".py",
   "mimetype": "text/x-python",
   "name": "python",
   "nbconvert_exporter": "python",
   "pygments_lexer": "ipython3",
   "version": "3.6.3"
  }
 },
 "nbformat": 4,
 "nbformat_minor": 2
}
