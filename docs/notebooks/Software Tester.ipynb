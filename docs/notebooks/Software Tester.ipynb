{
 "cells": [
  {
   "cell_type": "markdown",
   "metadata": {},
   "source": [
    "# Software Tester"
   ]
  },
  {
   "cell_type": "markdown",
   "metadata": {},
   "source": [
    "## I-TASSER"
   ]
  },
  {
   "cell_type": "code",
   "execution_count": null,
   "metadata": {
    "collapsed": true
   },
   "outputs": [],
   "source": []
  },
  {
   "cell_type": "code",
   "execution_count": 1,
   "metadata": {},
   "outputs": [
    {
     "name": "stdout",
     "output_type": "stream",
     "text": [
      "mkdssp 2.2.1 options:\r\n",
      "  -h [ --help ]         Display help message\r\n",
      "  -i [ --input ] arg    Input file\r\n",
      "  -o [ --output ] arg   Output file, use 'stdout' to output to screen\r\n",
      "  -v [ --verbose ]      Verbose output\r\n",
      "  --version             Print version\r\n",
      "  -d [ --debug ] arg    Debug level (for even more verbose output)\r\n",
      "\r\n",
      "\r\n",
      "Examples: \r\n",
      "\r\n",
      "To calculate the secondary structure for the file 1crn.pdb and\r\n",
      "write the result to a file called 1crn.dssp, you type:\r\n",
      "\r\n",
      "  dssp -i 1crn.pdb -o 1crn.dssp\r\n",
      "\r\n"
     ]
    }
   ],
   "source": [
    "!dssp"
   ]
  },
  {
   "cell_type": "code",
   "execution_count": 2,
   "metadata": {},
   "outputs": [
    {
     "name": "stdout",
     "output_type": "stream",
     "text": [
      "mkdssp 2.2.1 options:\r\n",
      "  -h [ --help ]         Display help message\r\n",
      "  -i [ --input ] arg    Input file\r\n",
      "  -o [ --output ] arg   Output file, use 'stdout' to output to screen\r\n",
      "  -v [ --verbose ]      Verbose output\r\n",
      "  --version             Print version\r\n",
      "  -d [ --debug ] arg    Debug level (for even more verbose output)\r\n",
      "\r\n",
      "\r\n",
      "Examples: \r\n",
      "\r\n",
      "To calculate the secondary structure for the file 1crn.pdb and\r\n",
      "write the result to a file called 1crn.dssp, you type:\r\n",
      "\r\n",
      "  mkdssp -i 1crn.pdb -o 1crn.dssp\r\n",
      "\r\n"
     ]
    }
   ],
   "source": [
    "!mkdssp"
   ]
  },
  {
   "cell_type": "code",
   "execution_count": 3,
   "metadata": {},
   "outputs": [
    {
     "name": "stdout",
     "output_type": "stream",
     "text": [
      "MSMS 2.6.1 started on structure\r\n",
      "Copyright M.F. Sanner (1994)\r\n",
      "Compilation flags -O2 -DVERBOSE -DTIMING\r\n",
      "MSMS: No input stream specified\r\n"
     ]
    }
   ],
   "source": [
    "!msms"
   ]
  },
  {
   "cell_type": "code",
   "execution_count": 4,
   "metadata": {},
   "outputs": [
    {
     "name": "stdout",
     "output_type": "stream",
     "text": [
      "Needleman-Wunsch global alignment of two sequences\n",
      "Input sequence: ^C\n"
     ]
    }
   ],
   "source": [
    "!needle"
   ]
  },
  {
   "cell_type": "code",
   "execution_count": 5,
   "metadata": {},
   "outputs": [
    {
     "name": "stdout",
     "output_type": "stream",
     "text": [
      "Calculate statistics of protein properties\n",
      "Input protein sequence(s): ^C\n"
     ]
    }
   ],
   "source": [
    "!pepstats"
   ]
  },
  {
   "cell_type": "code",
   "execution_count": 6,
   "metadata": {
    "collapsed": true
   },
   "outputs": [],
   "source": [
    "import subprocess\n",
    "command = subprocess.Popen('needle',\n",
    "                           stdout=subprocess.PIPE,\n",
    "                           stderr=subprocess.PIPE,\n",
    "                           shell=True)\n",
    "out, err = command.communicate()"
   ]
  },
  {
   "cell_type": "code",
   "execution_count": 7,
   "metadata": {},
   "outputs": [
    {
     "data": {
      "text/plain": [
       "b''"
      ]
     },
     "execution_count": 7,
     "metadata": {},
     "output_type": "execute_result"
    }
   ],
   "source": [
    "out"
   ]
  },
  {
   "cell_type": "code",
   "execution_count": 8,
   "metadata": {},
   "outputs": [
    {
     "data": {
      "text/plain": [
       "b'Needleman-Wunsch global alignment of two sequences\\nInput sequence: Error: Unable to get reply from user - end of standard input\\n'"
      ]
     },
     "execution_count": 8,
     "metadata": {},
     "output_type": "execute_result"
    }
   ],
   "source": [
    "err"
   ]
  },
  {
   "cell_type": "code",
   "execution_count": 9,
   "metadata": {
    "collapsed": true
   },
   "outputs": [],
   "source": [
    "from bioservices.kegg import KEGG\n",
    "k = KEGG()"
   ]
  },
  {
   "cell_type": "code",
   "execution_count": null,
   "metadata": {
    "collapsed": true
   },
   "outputs": [],
   "source": []
  }
 ],
 "metadata": {
  "kernelspec": {
   "display_name": "Python [default]",
   "language": "python",
   "name": "python3"
  },
  "language_info": {
   "codemirror_mode": {
    "name": "ipython",
    "version": 3
   },
   "file_extension": ".py",
   "mimetype": "text/x-python",
   "name": "python",
   "nbconvert_exporter": "python",
   "pygments_lexer": "ipython3",
   "version": "3.6.3"
  }
 },
 "nbformat": 4,
 "nbformat_minor": 2
}
