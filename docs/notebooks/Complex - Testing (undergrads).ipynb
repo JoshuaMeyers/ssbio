{
 "cells": [
  {
   "cell_type": "markdown",
   "metadata": {},
   "source": [
    "# README\n",
    "\n",
    "Notebook to test the Complex class"
   ]
  },
  {
   "cell_type": "code",
   "execution_count": 5,
   "metadata": {
    "collapsed": true
   },
   "outputs": [],
   "source": [
    "monomer_example1 = {'ident': 'CARNRACE-MONOMER', \n",
    "                    'subunit_stoich': {'b0036': 1.0}}\n",
    "# monomer_example2 = {'ident': '', \n",
    "#                     'subunit_stoich': }\n",
    "homomer_example1 = {'ident': 'ANSB-CPLX', \n",
    "                    'subunit_stoich': {'b2957': 4.0}}\n",
    "# homomer_example2 = {'ident': '', \n",
    "#                     'subunit_stoich': }\n",
    "heteromer_example1 = {'ident': 'CPLX0-1762', \n",
    "                      'subunit_stoich': {'b1388': 1.0,\n",
    "                                         'b1389': 1.0,\n",
    "                                         'b1390': 1.0,\n",
    "                                         'b1392': 1.0}}\n",
    "heteromer_example2 = {'ident': 'SULFITE-REDUCT-CPLX', \n",
    "                      'subunit_stoich': {'b2763': 4.0, \n",
    "                                         'b2764': 8.0}}"
   ]
  },
  {
   "cell_type": "code",
   "execution_count": 6,
   "metadata": {
    "collapsed": true
   },
   "outputs": [],
   "source": [
    "from ssbio.core.complex import Complex"
   ]
  },
  {
   "cell_type": "code",
   "execution_count": 17,
   "metadata": {
    "collapsed": true
   },
   "outputs": [],
   "source": [
    "import tempfile"
   ]
  },
  {
   "cell_type": "code",
   "execution_count": 22,
   "metadata": {},
   "outputs": [
    {
     "name": "stdout",
     "output_type": "stream",
     "text": [
      "id: CARNRACE-MONOMER\n",
      "complex_dir: /tmp/CARNRACE-MONOMER\n",
      "subunit_dict: {'b0036': 1.0}\n",
      "oligomeric_state: None\n"
     ]
    }
   ],
   "source": [
    "# Makes a new Complex object\n",
    "# root_dir is where a folder named after the identifier will be created \n",
    "monomer = Complex(ident=monomer_example1['ident'], \n",
    "                  subunits=monomer_example1['subunit_stoich'], \n",
    "                  root_dir=tempfile.gettempdir())\n",
    "\n",
    "\n",
    "print('id:', monomer.id)\n",
    "\n",
    "print('complex_dir:', monomer.complex_dir)\n",
    "\n",
    "print('subunit_dict:', monomer.subunit_dict)\n",
    "\n",
    "# Should print \"monomer\" \n",
    "print('oligomeric_state:', monomer.oligomeric_state)"
   ]
  },
  {
   "cell_type": "code",
   "execution_count": 16,
   "metadata": {},
   "outputs": [
    {
     "name": "stdout",
     "output_type": "stream",
     "text": [
      "Complex - Testing.ipynb\r\n",
      "Complex - Testing (undergrads).ipynb\r\n",
      "FATCAT - Structure Similarity.ipynb\r\n",
      "GEM-PRO - Calculating Protein Properties.ipynb\r\n",
      "GEM-PRO - Genes & Sequences.ipynb\r\n",
      "GEM-PRO - List of Gene IDs.ipynb\r\n",
      "GEM-PRO - SBML Model.ipynb\r\n",
      "I-TASSER and TMHMM Install Guide.ipynb\r\n",
      "PDBProp - Working With a Single PDB Structure.ipynb\r\n",
      "Protein - Structure Mapping, Alignments, and Visualization.ipynb\r\n",
      "SeqProp - Protein Sequence Properties.ipynb\r\n",
      "Software Installation Tester.ipynb\r\n",
      "SWISS-MODEL - Downloading homology models.ipynb\r\n"
     ]
    }
   ],
   "source": [
    "!ls"
   ]
  },
  {
   "cell_type": "code",
   "execution_count": null,
   "metadata": {
    "collapsed": true
   },
   "outputs": [],
   "source": []
  }
 ],
 "metadata": {
  "kernelspec": {
   "display_name": "Python [default]",
   "language": "python",
   "name": "python3"
  },
  "language_info": {
   "codemirror_mode": {
    "name": "ipython",
    "version": 3
   },
   "file_extension": ".py",
   "mimetype": "text/x-python",
   "name": "python",
   "nbconvert_exporter": "python",
   "pygments_lexer": "ipython3",
   "version": "3.6.3"
  }
 },
 "nbformat": 4,
 "nbformat_minor": 2
}
