{
 "cells": [
  {
   "cell_type": "markdown",
   "metadata": {},
   "source": [
    "# SWISS-MODEL - Downloading homology models\n",
    "\n",
    "This notebook gives a tutorial of the **SWISSMODEL object**, which is a simple class to parse and download models from the SWISS-MODEL homology model repository.\n",
    "\n",
    "<div class=\"alert alert-info\">\n",
    "\n",
    "**Input:** Path to SWISS-MODEL metadata directory, UniProt accession(s)\n",
    "\n",
    "</div>\n",
    "\n",
    "<div class=\"alert alert-info\">\n",
    "\n",
    "**Output:** Downloaded SWISS-MODEL models\n",
    "\n",
    "</div>\n",
    "\n",
    "## Instructions\n",
    "1. Download the metadata for your organism of interest at SWISS-MODEL from here: https://swissmodel.expasy.org/repository, under the column \"Download Metadata (Models and structures)\"\n",
    "1. Extract that directory, which will then create a SWISS-MODEL_Repository folder)\n",
    "1. Create a new SWISSMODEL object, pointing it to that folder\n",
    "1. Download models for a specified UniProt accession"
   ]
  },
  {
   "cell_type": "code",
   "execution_count": 3,
   "metadata": {
    "collapsed": true
   },
   "outputs": [],
   "source": [
    "from ssbio.databases.swissmodel import SWISSMODEL"
   ]
  },
  {
   "cell_type": "code",
   "execution_count": 4,
   "metadata": {},
   "outputs": [],
   "source": [
    "my_swissmodels = SWISSMODEL('/tmp/SWISS-MODEL_Repository/')"
   ]
  },
  {
   "cell_type": "code",
   "execution_count": 7,
   "metadata": {},
   "outputs": [
    {
     "data": {
      "text/plain": [
       "['Q9I1D5',\n",
       " 'Q9HYP3',\n",
       " 'Q9HVD6',\n",
       " 'Q9HUG7',\n",
       " 'Q9HUF9',\n",
       " 'Q9HXU9',\n",
       " 'Q9I6D2',\n",
       " 'Q9I3M6',\n",
       " 'Q9I2Y8',\n",
       " 'Q9I6T7']"
      ]
     },
     "execution_count": 7,
     "metadata": {},
     "output_type": "execute_result"
    }
   ],
   "source": [
    "# This gives you a list of all UniProt accession numbers with at least one model\n",
    "my_swissmodels.uniprots_modeled[:10]"
   ]
  },
  {
   "cell_type": "code",
   "execution_count": 8,
   "metadata": {},
   "outputs": [
    {
     "data": {
      "text/plain": [
       "[{'coordinate_id': '589e6dd4ad01f06944a986b1',\n",
       "  'from': 8,\n",
       "  'provider': 'swissmodel',\n",
       "  'qmean': -3.0383757617,\n",
       "  'template': '3i8b.1.A',\n",
       "  'to': 456,\n",
       "  'uniprot_ac': 'Q9I1D5',\n",
       "  'url': 'https://swissmodel.expasy.org/repository/uniprot/Q9I1D5.pdb?from=8&to=456&template=3i8b.1.A&provider=swissmodel'},\n",
       " {'coordinate_id': '589e6dd4ad01f06944a986b5',\n",
       "  'from': 9,\n",
       "  'provider': 'swissmodel',\n",
       "  'qmean': -3.1346833803,\n",
       "  'template': '3i8b.1.A',\n",
       "  'to': 496,\n",
       "  'uniprot_ac': 'Q9I1D5',\n",
       "  'url': 'https://swissmodel.expasy.org/repository/uniprot/Q9I1D5.pdb?from=9&to=496&template=3i8b.1.A&provider=swissmodel'}]"
      ]
     },
     "execution_count": 8,
     "metadata": {},
     "output_type": "execute_result"
    }
   ],
   "source": [
    "# This gives you a list of all models available for a UniProt entry\n",
    "my_swissmodels.get_models(uniprot_acc='Q9I1D5')"
   ]
  },
  {
   "cell_type": "code",
   "execution_count": 9,
   "metadata": {},
   "outputs": [
    {
     "data": {
      "text/plain": [
       "['/tmp/Q9I1D5_3i8b.1.A_8_456.pdb', '/tmp/Q9I1D5_3i8b.1.A_9_496.pdb']"
      ]
     },
     "execution_count": 9,
     "metadata": {},
     "output_type": "execute_result"
    }
   ],
   "source": [
    "# This downloads all models available for a UniProt entry\n",
    "my_swissmodels.download_models(uniprot_acc='Q9I1D5', outdir='/tmp/', force_rerun=False)"
   ]
  }
 ],
 "metadata": {
  "kernelspec": {
   "display_name": "Python [default]",
   "language": "python",
   "name": "python3"
  },
  "language_info": {
   "codemirror_mode": {
    "name": "ipython",
    "version": 3
   },
   "file_extension": ".py",
   "mimetype": "text/x-python",
   "name": "python",
   "nbconvert_exporter": "python",
   "pygments_lexer": "ipython3",
   "version": "3.6.3"
  }
 },
 "nbformat": 4,
 "nbformat_minor": 2
}
