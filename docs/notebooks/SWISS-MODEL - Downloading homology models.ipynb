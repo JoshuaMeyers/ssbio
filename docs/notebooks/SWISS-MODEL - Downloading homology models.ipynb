{
 "cells": [
  {
   "cell_type": "markdown",
   "metadata": {},
   "source": [
    "# SWISS-MODEL - Downloading homology models\n",
    "\n",
    "This notebook gives a tutorial of the **SWISSMODEL object**, which is a simple class to parse and download models from the SWISS-MODEL homology model repository.\n",
    "\n",
    "<div class=\"alert alert-info\">\n",
    "\n",
    "**Input:** Path to SWISS-MODEL metadata directory, UniProt accession(s)\n",
    "\n",
    "</div>\n",
    "\n",
    "<div class=\"alert alert-info\">\n",
    "\n",
    "**Output:** Downloaded SWISS-MODEL models\n",
    "\n",
    "</div>\n",
    "\n",
    "## Instructions\n",
    "1. Download the metadata for your organism of interest at SWISS-MODEL from here: https://swissmodel.expasy.org/repository, under the column \"Download Metadata (Models and structures)\"\n",
    "1. Extract that directory, which will then create a SWISS-MODEL_Repository folder)\n",
    "1. Create a new SWISSMODEL object, pointing it to that folder\n",
    "1. Download models for a specified UniProt accession"
   ]
  },
  {
   "cell_type": "code",
   "execution_count": null,
   "metadata": {
    "collapsed": true
   },
   "outputs": [],
   "source": [
    "from ssbio.databases.swissmodel import SWISSMODEL"
   ]
  },
  {
   "cell_type": "code",
   "execution_count": null,
   "metadata": {
    "collapsed": true
   },
   "outputs": [],
   "source": [
    "my_swissmodels = SWISSMODEL('/tmp/SWISS-MODEL_Repository/')"
   ]
  },
  {
   "cell_type": "code",
   "execution_count": null,
   "metadata": {},
   "outputs": [],
   "source": [
    "# This gives you a list of all UniProt accession numbers with at least one model\n",
    "my_swissmodels.uniprots_modeled[:10]"
   ]
  },
  {
   "cell_type": "code",
   "execution_count": null,
   "metadata": {},
   "outputs": [],
   "source": [
    "# This gives you a list of all models available for a UniProt entry\n",
    "my_swissmodels.get_models(uniprot_acc='Q9I1D5')"
   ]
  },
  {
   "cell_type": "code",
   "execution_count": null,
   "metadata": {},
   "outputs": [],
   "source": [
    "# This downloads all models available for a UniProt entry\n",
    "my_swissmodels.download_models(uniprot_acc='Q9I1D5', outdir='/tmp/', force_rerun=False)"
   ]
  }
 ],
 "metadata": {
  "kernelspec": {
   "display_name": "Python [default]",
   "language": "python",
   "name": "python3"
  },
  "language_info": {
   "codemirror_mode": {
    "name": "ipython",
    "version": 3
   },
   "file_extension": ".py",
   "mimetype": "text/x-python",
   "name": "python",
   "nbconvert_exporter": "python",
   "pygments_lexer": "ipython3",
   "version": "3.6.3"
  }
 },
 "nbformat": 4,
 "nbformat_minor": 2
}
