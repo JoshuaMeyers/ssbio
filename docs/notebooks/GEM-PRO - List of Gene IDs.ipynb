{
 "cells": [
  {
   "cell_type": "markdown",
   "metadata": {},
   "source": [
    "# GEM-PRO - List of Gene IDs\n",
    "\n",
    "This notebook gives an example of how to run the GEM-PRO pipeline with a **list of gene IDs**.\n",
    "<div class=\"alert alert-info\">\n",
    "\n",
    "**Input:** List of gene IDs\n",
    "\n",
    "</div>\n",
    "\n",
    "<div class=\"alert alert-info\">\n",
    "\n",
    "**Output:** GEM-PRO model\n",
    "\n",
    "</div>\n"
   ]
  },
  {
   "cell_type": "markdown",
   "metadata": {},
   "source": [
    "## Imports"
   ]
  },
  {
   "cell_type": "code",
   "execution_count": null,
   "metadata": {
    "collapsed": true
   },
   "outputs": [],
   "source": [
    "import sys\n",
    "import logging"
   ]
  },
  {
   "cell_type": "code",
   "execution_count": null,
   "metadata": {
    "collapsed": true
   },
   "outputs": [],
   "source": [
    "# Import the GEM-PRO class\n",
    "from ssbio.pipeline.gempro import GEMPRO"
   ]
  },
  {
   "cell_type": "code",
   "execution_count": null,
   "metadata": {
    "collapsed": true
   },
   "outputs": [],
   "source": [
    "# Printing multiple outputs per cell\n",
    "from IPython.core.interactiveshell import InteractiveShell\n",
    "InteractiveShell.ast_node_interactivity = \"all\""
   ]
  },
  {
   "cell_type": "markdown",
   "metadata": {},
   "source": [
    "### Logging\n",
    "\n",
    "Set the logging level in `logger.setLevel(logging.<LEVEL_HERE>)` to specify how verbose you want the pipeline to be. Debug is most verbose.\n",
    "\n",
    "- `CRITICAL`\n",
    "     - Only really important messages shown\n",
    "- `ERROR`\n",
    "     - Major errors\n",
    "- `WARNING`\n",
    "     - Warnings that don't affect running of the pipeline\n",
    "- `INFO` (default)\n",
    "     - Info such as the number of structures mapped per gene\n",
    "- `DEBUG`\n",
    "     - Really detailed information that will print out a lot of stuff\n",
    "     \n",
    "<div class=\"alert alert-warning\">\n",
    "\n",
    "**Warning:** \n",
    "`DEBUG` mode prints out a large amount of information, especially if you have a lot of genes. This may stall your notebook!\n",
    "</div>"
   ]
  },
  {
   "cell_type": "code",
   "execution_count": null,
   "metadata": {
    "collapsed": true
   },
   "outputs": [],
   "source": [
    "# Create logger\n",
    "logger = logging.getLogger()\n",
    "logger.setLevel(logging.INFO)  # SET YOUR LOGGING LEVEL HERE #"
   ]
  },
  {
   "cell_type": "code",
   "execution_count": null,
   "metadata": {
    "collapsed": true
   },
   "outputs": [],
   "source": [
    "# Other logger stuff for Jupyter notebooks\n",
    "handler = logging.StreamHandler(sys.stderr)\n",
    "formatter = logging.Formatter('[%(asctime)s] [%(name)s] %(levelname)s: %(message)s', datefmt=\"%Y-%m-%d %H:%M\")\n",
    "handler.setFormatter(formatter)\n",
    "logger.handlers = [handler]"
   ]
  },
  {
   "cell_type": "markdown",
   "metadata": {},
   "source": [
    "## Initialization of the project\n",
    "\n",
    "Set these three things:\n",
    "\n",
    "- `ROOT_DIR`\n",
    "    - The directory where a folder named after your `PROJECT` will be created\n",
    "- `PROJECT`\n",
    "    - Your project name\n",
    "- `LIST_OF_GENES`\n",
    "    - Your list of gene IDs\n",
    "    \n",
    "A directory will be created in `ROOT_DIR` with your `PROJECT` name. The folders are organized like so:\n",
    "```\n",
    "    ROOT_DIR\n",
    "    └── PROJECT\n",
    "        ├── data  # General storage for pipeline outputs\n",
    "        ├── model  # SBML and GEM-PRO models are stored here\n",
    "        ├── genes  # Per gene information\n",
    "        │   ├── <gene_id1>  # Specific gene directory\n",
    "        │   │   └── protein\n",
    "        │   │       ├── sequences  # Protein sequence files, alignments, etc.\n",
    "        │   │       └── structures  # Protein structure files, calculations, etc.\n",
    "        │   └── <gene_id2>\n",
    "        │       └── protein\n",
    "        │           ├── sequences\n",
    "        │           └── structures\n",
    "        ├── reactions  # Per reaction information\n",
    "        │   └── <reaction_id1>  # Specific reaction directory\n",
    "        │       └── complex\n",
    "        │           └── structures  # Protein complex files\n",
    "        └── metabolites  # Per metabolite information\n",
    "            └── <metabolite_id1>  # Specific metabolite directory\n",
    "                └── chemical\n",
    "                    └── structures  # Metabolite 2D and 3D structure files\n",
    "                \n",
    "```\n",
    "\n",
    "<div class=\"alert alert-info\">**Note:** Methods for protein complexes and metabolites are still in development.</div>"
   ]
  },
  {
   "cell_type": "code",
   "execution_count": null,
   "metadata": {
    "collapsed": true
   },
   "outputs": [],
   "source": [
    "# SET FOLDERS AND DATA HERE\n",
    "import tempfile\n",
    "ROOT_DIR = tempfile.gettempdir()\n",
    "\n",
    "PROJECT = 'genes_GP'\n",
    "LIST_OF_GENES = ['b0761', 'b0889', 'b0995', 'b1013', 'b1014', 'b1040', 'b1130', 'b1187', 'b1221', 'b1299']\n",
    "PDB_FILE_TYPE = 'mmtf'"
   ]
  },
  {
   "cell_type": "code",
   "execution_count": null,
   "metadata": {},
   "outputs": [],
   "source": [
    "# Create the GEM-PRO project\n",
    "my_gempro = GEMPRO(gem_name=PROJECT, root_dir=ROOT_DIR, genes_list=LIST_OF_GENES, pdb_file_type=PDB_FILE_TYPE)"
   ]
  },
  {
   "cell_type": "markdown",
   "metadata": {},
   "source": [
    "## Mapping gene ID --> sequence\n",
    "\n",
    "First, we need to map these IDs to their protein sequences. There are 2 ID mapping services provided to do this - through **KEGG** or **UniProt**. The end goal is to map a UniProt ID to each ID, since there is a comprehensive mapping (and some useful APIs) between UniProt and the PDB.\n",
    "\n",
    "<p><div class=\"alert alert-info\">**Note:** You only need to map gene IDs using one service. However you can run both if some genes don't map in one service and do map in another!</div></p>"
   ]
  },
  {
   "cell_type": "markdown",
   "metadata": {},
   "source": [
    "### Methods"
   ]
  },
  {
   "cell_type": "raw",
   "metadata": {},
   "source": [
    ".. automethod:: ssbio.pipeline.gempro.GEMPRO.kegg_mapping_and_metadata\n",
    "    :noindex:"
   ]
  },
  {
   "cell_type": "code",
   "execution_count": null,
   "metadata": {},
   "outputs": [],
   "source": [
    "# KEGG mapping of gene ids\n",
    "my_gempro.kegg_mapping_and_metadata(kegg_organism_code='eco')\n",
    "print('Missing KEGG mapping: ', my_gempro.missing_kegg_mapping)\n",
    "my_gempro.df_kegg_metadata.head()"
   ]
  },
  {
   "cell_type": "raw",
   "metadata": {},
   "source": [
    ".. automethod:: ssbio.pipeline.gempro.GEMPRO.uniprot_mapping_and_metadata\n",
    "    :noindex:"
   ]
  },
  {
   "cell_type": "code",
   "execution_count": null,
   "metadata": {},
   "outputs": [],
   "source": [
    "# UniProt mapping\n",
    "my_gempro.uniprot_mapping_and_metadata(model_gene_source='ENSEMBLGENOME_ID')\n",
    "print('Missing UniProt mapping: ', my_gempro.missing_uniprot_mapping)\n",
    "my_gempro.df_uniprot_metadata.head()"
   ]
  },
  {
   "cell_type": "raw",
   "metadata": {},
   "source": [
    ".. automethod:: ssbio.pipeline.gempro.GEMPRO.set_representative_sequence\n",
    "    :noindex:"
   ]
  },
  {
   "cell_type": "code",
   "execution_count": null,
   "metadata": {},
   "outputs": [],
   "source": [
    "# Set representative sequences\n",
    "my_gempro.set_representative_sequence()\n",
    "print('Missing a representative sequence: ', my_gempro.missing_representative_sequence)\n",
    "my_gempro.df_representative_sequences.head()"
   ]
  },
  {
   "cell_type": "markdown",
   "metadata": {},
   "source": [
    "## Mapping representative sequence --> structure\n",
    "\n",
    "These are the ways to map sequence to structure:\n",
    "\n",
    "1. Use the UniProt ID and their automatic mappings to the PDB\n",
    "2. BLAST the sequence to the PDB\n",
    "3. Make homology models or \n",
    "4. Map to existing homology models\n",
    "\n",
    "You can only utilize option #1 to map to PDBs if there is a mapped UniProt ID set in the representative sequence. If not, you'll have to BLAST your sequence to the PDB or make a homology model. You can also run both for maximum coverage."
   ]
  },
  {
   "cell_type": "markdown",
   "metadata": {},
   "source": [
    "### Methods"
   ]
  },
  {
   "cell_type": "raw",
   "metadata": {},
   "source": [
    ".. automethod:: ssbio.pipeline.gempro.GEMPRO.map_uniprot_to_pdb\n",
    "    :noindex:"
   ]
  },
  {
   "cell_type": "code",
   "execution_count": null,
   "metadata": {},
   "outputs": [],
   "source": [
    "# Mapping using the PDBe best_structures service\n",
    "my_gempro.map_uniprot_to_pdb(seq_ident_cutoff=.3)\n",
    "my_gempro.df_pdb_ranking.head()"
   ]
  },
  {
   "cell_type": "raw",
   "metadata": {},
   "source": [
    ".. automethod:: ssbio.pipeline.gempro.GEMPRO.blast_seqs_to_pdb\n",
    "    :noindex:"
   ]
  },
  {
   "cell_type": "code",
   "execution_count": null,
   "metadata": {},
   "outputs": [],
   "source": [
    "# Mapping using BLAST\n",
    "my_gempro.blast_seqs_to_pdb(all_genes=True, seq_ident_cutoff=.9, evalue=0.00001)\n",
    "my_gempro.df_pdb_blast.head(2)"
   ]
  },
  {
   "cell_type": "markdown",
   "metadata": {},
   "source": [
    "## Downloading and ranking structures"
   ]
  },
  {
   "cell_type": "markdown",
   "metadata": {},
   "source": [
    "### Methods"
   ]
  },
  {
   "cell_type": "raw",
   "metadata": {},
   "source": [
    ".. automethod:: ssbio.pipeline.gempro.GEMPRO.pdb_downloader_and_metadata\n",
    "    :noindex:"
   ]
  },
  {
   "cell_type": "markdown",
   "metadata": {},
   "source": [
    "<div class=\"alert alert-warning\">\n",
    "\n",
    "**Warning:** \n",
    "Downloading all PDBs takes a while, since they are also parsed for metadata. You can skip this step and just set representative structures below if you want to minimize the number of PDBs downloaded.\n",
    "\n",
    "</div>"
   ]
  },
  {
   "cell_type": "code",
   "execution_count": null,
   "metadata": {},
   "outputs": [],
   "source": [
    "# Download all mapped PDBs and gather the metadata\n",
    "my_gempro.pdb_downloader_and_metadata()\n",
    "my_gempro.df_pdb_metadata.head(2)"
   ]
  },
  {
   "cell_type": "raw",
   "metadata": {},
   "source": [
    ".. automethod:: ssbio.pipeline.gempro.GEMPRO.set_representative_structure\n",
    "    :noindex:"
   ]
  },
  {
   "cell_type": "code",
   "execution_count": null,
   "metadata": {},
   "outputs": [],
   "source": [
    "# Set representative structures\n",
    "my_gempro.set_representative_structure()\n",
    "my_gempro.df_representative_structures.head()"
   ]
  },
  {
   "cell_type": "code",
   "execution_count": null,
   "metadata": {},
   "outputs": [],
   "source": [
    "# Looking at the information saved within a gene\n",
    "my_gempro.genes.get_by_id('b1187').protein.representative_structure\n",
    "my_gempro.genes.get_by_id('b1187').protein.representative_structure.get_dict()"
   ]
  },
  {
   "cell_type": "markdown",
   "metadata": {},
   "source": [
    "## Saving your GEM-PRO"
   ]
  },
  {
   "cell_type": "markdown",
   "metadata": {},
   "source": [
    "<p><div class=\"alert alert-warning\">**Warning:** Saving is still experimental. For a full GEM-PRO with sequences & structures, depending on the number of genes, saving can take >5 minutes.</div></p>"
   ]
  },
  {
   "cell_type": "raw",
   "metadata": {},
   "source": [
    ".. automethod:: ssbio.pipeline.gempro.GEMPRO.save_json\n",
    "    :noindex:"
   ]
  },
  {
   "cell_type": "code",
   "execution_count": null,
   "metadata": {},
   "outputs": [],
   "source": [
    "import os.path as op\n",
    "my_gempro.save_json(op.join(my_gempro.model_dir, '{}.json'.format(my_gempro.id)), compression=False)"
   ]
  }
 ],
 "metadata": {
  "_draft": {
   "nbviewer_url": "https://gist.github.com/342e44766d1dda637e975a4ef61dae19"
  },
  "anaconda-cloud": {},
  "celltoolbar": "Raw Cell Format",
  "gist": {
   "data": {
    "description": "GEM-PRO pipeline example for a list of gene IDs",
    "public": false
   },
   "id": "342e44766d1dda637e975a4ef61dae19"
  },
  "kernelspec": {
   "display_name": "Python [default]",
   "language": "python",
   "name": "python3"
  },
  "language_info": {
   "codemirror_mode": {
    "name": "ipython",
    "version": 3
   },
   "file_extension": ".py",
   "mimetype": "text/x-python",
   "name": "python",
   "nbconvert_exporter": "python",
   "pygments_lexer": "ipython3",
   "version": "3.6.3"
  },
  "widgets": {
   "state": {
    "17ae537fadb545a796f7f00c4e01e5fb": {
     "views": [
      {
       "cell_index": 18
      }
     ]
    },
    "8388f9f0d2e9404fa72ac7fe92054d4a": {
     "views": [
      {
       "cell_index": 22
      }
     ]
    },
    "ddd32aebde664a5dbf0955fce77e77b9": {
     "views": [
      {
       "cell_index": 14
      }
     ]
    },
    "de8593f89bd14e57ae95734b4c36fc9a": {
     "views": [
      {
       "cell_index": 16
      }
     ]
    }
   },
   "version": "1.2.0"
  }
 },
 "nbformat": 4,
 "nbformat_minor": 1
}
