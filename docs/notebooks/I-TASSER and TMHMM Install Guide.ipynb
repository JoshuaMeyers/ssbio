{
 "cells": [
  {
   "cell_type": "markdown",
   "metadata": {},
   "source": [
    "# I-TASSER and TMHMM Install Guide\n",
    "\n",
    "This notebook provides a guide to installing I-TASSER and TMHMM in Binder, since these require you to register with your email and cannot be installed beforehand."
   ]
  },
  {
   "cell_type": "code",
   "execution_count": 2,
   "metadata": {
    "collapsed": true
   },
   "outputs": [],
   "source": [
    "import os\n",
    "import os.path as op"
   ]
  },
  {
   "cell_type": "markdown",
   "metadata": {
    "collapsed": true
   },
   "source": [
    "## I-TASSER\n",
    "\n",
    "1. See: http://ssbio.readthedocs.io/en/latest/instructions/itasser.html for instructions on how to obtain the program - follow it up until step 3.\n",
    "1. Copy and paste the download link below in ``itasser_download_link``\n",
    "1. Make sure the version number is correct in ``itasser_version_number``\n",
    "1. Extract the archive\n",
    "1. Download the I-TASSER library (this will take some time)\n",
    "\n",
    "Installation will be complete after this. Your paths to execute I-TASSER using *ssbio* are:\n",
    "\n",
    "    ~/software/itasser/I-TASSER5.1/I-TASSERmod/runI-TASSER.pl\n",
    "        \n",
    "with a library directory of\n",
    "\n",
    "    ~/software/itasser/ITLIB"
   ]
  },
  {
   "cell_type": "code",
   "execution_count": null,
   "metadata": {
    "collapsed": true
   },
   "outputs": [],
   "source": [
    "# Step 2\n",
    "itasser_download_link = 'my_download_link'\n",
    "\n",
    "# Step 3\n",
    "itasser_version_number = '5.1'"
   ]
  },
  {
   "cell_type": "code",
   "execution_count": null,
   "metadata": {
    "collapsed": true
   },
   "outputs": [],
   "source": [
    "# Step 4\n",
    "itasser_archive = itasser_download_link.split('/')[-1]\n",
    "os.mkdir(op.expanduser('~/software/itasser/'))\n",
    "os.chdir(op.expanduser('~/software/itasser/'))\n",
    "!wget $itasser_download_link\n",
    "!tar -jxf $itasser_archive"
   ]
  },
  {
   "cell_type": "code",
   "execution_count": null,
   "metadata": {
    "collapsed": true
   },
   "outputs": [],
   "source": [
    "# Step 5\n",
    "os.mkdir(op.expanduser('~/software/itasser/ITLIB'))\n",
    "!./I-TASSER5.1/download_lib.pl -libdir ITLIB"
   ]
  },
  {
   "cell_type": "markdown",
   "metadata": {
    "collapsed": true
   },
   "source": [
    "## TMHMM\n",
    "\n",
    "1. See: http://ssbio.readthedocs.io/en/latest/instructions/tmhmm.html for instructions on how to obtain the program - follow it up until step 2\n",
    "1. Copy and paste the download link below in ``tmhmm_download_link``\n",
    "1. Run the code below to install ``tmhmm``.\n"
   ]
  },
  {
   "cell_type": "code",
   "execution_count": null,
   "metadata": {
    "collapsed": true
   },
   "outputs": [],
   "source": [
    "# Step 2\n",
    "tmhmm_download_link = 'my_download_link'"
   ]
  },
  {
   "cell_type": "code",
   "execution_count": null,
   "metadata": {
    "collapsed": true
   },
   "outputs": [],
   "source": [
    "# Step 3\n",
    "os.mkdir(op.expanduser('~/software/tmhmm/'))\n",
    "os.chdir(op.expanduser('~/software/tmhmm/'))\n",
    "!wget $tmhmm_download_link\n",
    "!tar -zxf tmhmm-2.0c.Linux.tar.gz\n",
    "\n",
    "# Replace perl path\n",
    "os.chdir(op.expanduser('~/software/tmhmm/tmhmm-2.0c/'))\n",
    "!var=\"#!/usr/bin/perl\"\n",
    "!sed -i \"1s/.*/$var/\" bin/tmhmm\n",
    "!var=\"#!/usr/bin/perl -w\"\n",
    "!sed -i \"1s/.*/$var/\" bin/tmhmmformat.pl\n",
    "\n",
    "# Create symbolic links\n",
    "!ln -s $HOME/software/tmhmm/tmhmm-2.0c/bin/* /srv/venv/bin/"
   ]
  },
  {
   "cell_type": "code",
   "execution_count": 5,
   "metadata": {},
   "outputs": [],
   "source": [
    "# Replace perl path\n",
    "os.chdir(op.expanduser('~/software/tmhmm/tmhmm-2.0c/bin'))\n",
    "!var=\"#!\\/usr\\/bin\\/perl\"\n",
    "!sed -i \"1s/.*/$var/\" tmhmm\n",
    "!var=\"#!\\/usr\\/bin\\/perl -w\"\n",
    "!sed -i \"1s/.*/$var/\" tmhmmformat.pl"
   ]
  },
  {
   "cell_type": "code",
   "execution_count": null,
   "metadata": {
    "collapsed": true
   },
   "outputs": [],
   "source": []
  }
 ],
 "metadata": {
  "kernelspec": {
   "display_name": "Python [default]",
   "language": "python",
   "name": "python3"
  },
  "language_info": {
   "codemirror_mode": {
    "name": "ipython",
    "version": 3
   },
   "file_extension": ".py",
   "mimetype": "text/x-python",
   "name": "python",
   "nbconvert_exporter": "python",
   "pygments_lexer": "ipython3",
   "version": "3.6.3"
  }
 },
 "nbformat": 4,
 "nbformat_minor": 2
}
