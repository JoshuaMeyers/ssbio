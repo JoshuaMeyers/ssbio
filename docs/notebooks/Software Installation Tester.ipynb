{
 "cells": [
  {
   "cell_type": "markdown",
   "metadata": {},
   "source": [
    "# Software Installation Tester\n",
    "\n",
    "This notebook simply tests if external programs have been installed correctly and can run in a Binder environment."
   ]
  },
  {
   "cell_type": "code",
   "execution_count": 2,
   "metadata": {
    "collapsed": true
   },
   "outputs": [],
   "source": [
    "import os.path as op\n",
    "\n",
    "def check_path(path):\n",
    "    \"\"\"Check if the specified program is in the PATH and can be run in a shell.\"\"\"\n",
    "    import shutil\n",
    "    \n",
    "    checker = shutil.which(path)\n",
    "    if checker:\n",
    "        print('SUCCESS: {} found!'.format(path))\n",
    "        return checker\n",
    "    else:\n",
    "        raise OSError('FAILURE: unable to find {}'.format(path))\n",
    "        \n",
    "def check_path_run(cmd):\n",
    "    \"\"\"Check if a command can be run and print out the stdout and stderr.\"\"\"\n",
    "    import shlex\n",
    "    import subprocess\n",
    "    program_and_args = shlex.split(cmd)\n",
    "    try:\n",
    "        command = subprocess.Popen(program_and_args, stdout=subprocess.PIPE, stderr=subprocess.PIPE)\n",
    "        out, err = command.communicate()\n",
    "    except FileNotFoundError:\n",
    "        raise OSError('FAILURE: unable to run {}'.format(program_and_args[0]))\n",
    "    \n",
    "    print('*****STDOUT*****')\n",
    "    print(out.decode(\"utf-8\") )\n",
    "    print('--------------\\n')\n",
    "    print('*****STDERR*****')\n",
    "    print(err.decode(\"utf-8\") )"
   ]
  },
  {
   "cell_type": "markdown",
   "metadata": {},
   "source": [
    "## DSSP"
   ]
  },
  {
   "cell_type": "code",
   "execution_count": null,
   "metadata": {
    "collapsed": true
   },
   "outputs": [],
   "source": [
    "dssp_exec = 'dssp'"
   ]
  },
  {
   "cell_type": "code",
   "execution_count": null,
   "metadata": {},
   "outputs": [],
   "source": [
    "check_path(dssp_exec)"
   ]
  },
  {
   "cell_type": "code",
   "execution_count": null,
   "metadata": {},
   "outputs": [],
   "source": [
    "check_path_run(dssp_exec)"
   ]
  },
  {
   "cell_type": "markdown",
   "metadata": {},
   "source": [
    "## MSMS"
   ]
  },
  {
   "cell_type": "code",
   "execution_count": null,
   "metadata": {
    "collapsed": true
   },
   "outputs": [],
   "source": [
    "msms_exec = 'msms'"
   ]
  },
  {
   "cell_type": "code",
   "execution_count": null,
   "metadata": {},
   "outputs": [],
   "source": [
    "check_path(msms_exec)"
   ]
  },
  {
   "cell_type": "code",
   "execution_count": null,
   "metadata": {},
   "outputs": [],
   "source": [
    "check_path_run(msms_exec)"
   ]
  },
  {
   "cell_type": "markdown",
   "metadata": {},
   "source": [
    "## STRIDE"
   ]
  },
  {
   "cell_type": "code",
   "execution_count": null,
   "metadata": {
    "collapsed": true
   },
   "outputs": [],
   "source": [
    "stride_exec = 'stride'"
   ]
  },
  {
   "cell_type": "code",
   "execution_count": null,
   "metadata": {},
   "outputs": [],
   "source": [
    "check_path(stride_exec)"
   ]
  },
  {
   "cell_type": "code",
   "execution_count": null,
   "metadata": {},
   "outputs": [],
   "source": [
    "check_path_run(stride_exec)"
   ]
  },
  {
   "cell_type": "markdown",
   "metadata": {},
   "source": [
    "## FreeSASA"
   ]
  },
  {
   "cell_type": "code",
   "execution_count": null,
   "metadata": {
    "collapsed": true
   },
   "outputs": [],
   "source": [
    "freesasa_exec = 'freesasa'"
   ]
  },
  {
   "cell_type": "code",
   "execution_count": null,
   "metadata": {},
   "outputs": [],
   "source": [
    "check_path(freesasa_exec)"
   ]
  },
  {
   "cell_type": "code",
   "execution_count": null,
   "metadata": {},
   "outputs": [],
   "source": [
    "check_path_run(freesasa_exec)"
   ]
  },
  {
   "cell_type": "markdown",
   "metadata": {},
   "source": [
    "## FATCAT"
   ]
  },
  {
   "cell_type": "code",
   "execution_count": null,
   "metadata": {
    "collapsed": true
   },
   "outputs": [],
   "source": [
    "fatcat_exec = 'fatcat'"
   ]
  },
  {
   "cell_type": "code",
   "execution_count": null,
   "metadata": {},
   "outputs": [],
   "source": [
    "check_path(fatcat_exec)"
   ]
  },
  {
   "cell_type": "code",
   "execution_count": null,
   "metadata": {},
   "outputs": [],
   "source": [
    "check_path_run(fatcat_exec)"
   ]
  },
  {
   "cell_type": "markdown",
   "metadata": {},
   "source": [
    "## SCRATCH"
   ]
  },
  {
   "cell_type": "code",
   "execution_count": null,
   "metadata": {
    "collapsed": true
   },
   "outputs": [],
   "source": [
    "scratch_exec = 'scratch'"
   ]
  },
  {
   "cell_type": "code",
   "execution_count": null,
   "metadata": {},
   "outputs": [],
   "source": [
    "check_path(scratch_exec)"
   ]
  },
  {
   "cell_type": "code",
   "execution_count": null,
   "metadata": {},
   "outputs": [],
   "source": [
    "check_path_run(scratch_exec)"
   ]
  },
  {
   "cell_type": "markdown",
   "metadata": {},
   "source": [
    "## EMBOSS"
   ]
  },
  {
   "cell_type": "markdown",
   "metadata": {},
   "source": [
    "### pepstats"
   ]
  },
  {
   "cell_type": "code",
   "execution_count": null,
   "metadata": {
    "collapsed": true
   },
   "outputs": [],
   "source": [
    "pepstats_exec = 'pepstats'"
   ]
  },
  {
   "cell_type": "code",
   "execution_count": null,
   "metadata": {},
   "outputs": [],
   "source": [
    "check_path(pepstats_exec)"
   ]
  },
  {
   "cell_type": "code",
   "execution_count": null,
   "metadata": {},
   "outputs": [],
   "source": [
    "check_path_run(pepstats_exec)"
   ]
  },
  {
   "cell_type": "markdown",
   "metadata": {},
   "source": [
    "### needle"
   ]
  },
  {
   "cell_type": "code",
   "execution_count": null,
   "metadata": {
    "collapsed": true
   },
   "outputs": [],
   "source": [
    "needle_exec = 'needle'"
   ]
  },
  {
   "cell_type": "code",
   "execution_count": null,
   "metadata": {},
   "outputs": [],
   "source": [
    "check_path(needle_exec)"
   ]
  },
  {
   "cell_type": "code",
   "execution_count": null,
   "metadata": {},
   "outputs": [],
   "source": [
    "check_path_run(needle_exec)"
   ]
  },
  {
   "cell_type": "markdown",
   "metadata": {},
   "source": [
    "## nglview"
   ]
  },
  {
   "cell_type": "code",
   "execution_count": null,
   "metadata": {},
   "outputs": [],
   "source": [
    "import nglview\n",
    "view = nglview.show_structure_file(\"../../ssbio/test/test_files/structures/1kf6.pdb\")\n",
    "view"
   ]
  },
  {
   "cell_type": "markdown",
   "metadata": {},
   "source": [
    "## TMHMM\n",
    "\n",
    "Please see [I-TASSER and TMHMM Install Guide](I-TASSER and TMHMM Install Guide.ipynb) for instructions on how to get this program installed."
   ]
  },
  {
   "cell_type": "code",
   "execution_count": null,
   "metadata": {
    "collapsed": true
   },
   "outputs": [],
   "source": [
    "tmhmm_exec = 'tmhmm'"
   ]
  },
  {
   "cell_type": "code",
   "execution_count": null,
   "metadata": {},
   "outputs": [],
   "source": [
    "check_path(tmhmm_exec)"
   ]
  },
  {
   "cell_type": "code",
   "execution_count": null,
   "metadata": {},
   "outputs": [],
   "source": [
    "check_path_run(tmhmm_exec)"
   ]
  },
  {
   "cell_type": "markdown",
   "metadata": {},
   "source": [
    "## I-TASSER\n",
    "\n",
    "Please see [I-TASSER and TMHMM Install Guide](I-TASSER and TMHMM Install Guide.ipynb) for instructions on how to get this program installed."
   ]
  },
  {
   "cell_type": "code",
   "execution_count": 5,
   "metadata": {},
   "outputs": [],
   "source": [
    "itasser_version = '5.1'\n",
    "itasser_dir = op.expanduser('~/software/itasser/I-TASSER{}/'.format(itasser_version))\n",
    "itasser_downloadlib = op.join(itasser_dir, 'download_lib.pl')\n",
    "itasser_exec = op.join(itasser_dir, 'I-TASSERmod/runI-TASSER.pl')"
   ]
  },
  {
   "cell_type": "code",
   "execution_count": 6,
   "metadata": {},
   "outputs": [
    {
     "name": "stdout",
     "output_type": "stream",
     "text": [
      "SUCCESS: /home/nathan/software/itasser/I-TASSER5.1/download_lib.pl found!\n"
     ]
    },
    {
     "data": {
      "text/plain": [
       "'/home/nathan/software/itasser/I-TASSER5.1/download_lib.pl'"
      ]
     },
     "execution_count": 6,
     "metadata": {},
     "output_type": "execute_result"
    }
   ],
   "source": [
    "check_path(itasser_downloadlib)"
   ]
  },
  {
   "cell_type": "code",
   "execution_count": 7,
   "metadata": {},
   "outputs": [
    {
     "name": "stdout",
     "output_type": "stream",
     "text": [
      "SUCCESS: /home/nathan/software/itasser/I-TASSER5.1/I-TASSERmod/runI-TASSER.pl found!\n"
     ]
    },
    {
     "data": {
      "text/plain": [
       "'/home/nathan/software/itasser/I-TASSER5.1/I-TASSERmod/runI-TASSER.pl'"
      ]
     },
     "execution_count": 7,
     "metadata": {},
     "output_type": "execute_result"
    }
   ],
   "source": [
    "check_path(itasser_exec)"
   ]
  },
  {
   "cell_type": "code",
   "execution_count": 8,
   "metadata": {},
   "outputs": [
    {
     "name": "stdout",
     "output_type": "stream",
     "text": [
      "*****STDOUT*****\n",
      "I-TASSER USAGE:\n",
      "=====================\n",
      "Mandatory arguments:\n",
      "=====================\n",
      "./runI-TASSER.pl -libdir lib_dir -seqname sequence_name -datadir data_dir\n",
      "==================\n",
      "Optional arguments:\n",
      "==================\n",
      "    -runstyle   default value is \"serial\" which means running I-TASSER simulation sequentially.\n",
      "                \"parallel\" means running I-TASSER simulations in parallel, distributed on cluster nodes, using PBS/torque job scheduling system.\n",
      "                \"gnuparallel\" means running I-TASSER simulations in parallel, distributed on multiple cores of one computer, using GNU parallel.\n",
      "    -homoflag   [real, benchmark],\"real\" will use all templates, \"benchmark\" will exclude homologous templates    \n",
      "    -idcut      sequence identity cutoff for \"benchmark\" runs, default value is 0.3, range is in [0,1]    \n",
      "    -ntemp      number of top templates output for each threading program, default is 20, range is in [1,50]    \n",
      "    -nmodel     number of final models output by I-TASSER, default value is 5, range is in [1,10]\n",
      "    -LBS        [true or false], whether to predict ligand-binding site (default: false)\n",
      "    -EC         [true or false], whether to predict EC number (default: false)\n",
      "    -GO         [true or false], whether to predict GO terms (default: false)\n",
      "   \n",
      "\n",
      "    -restraint1 specify distance/contact restraints \n",
      "                (read more at http://zhanglab.ccmb.med.umich.edu/I-TASSER/option1.html)\n",
      "    -restraint2 specify template with alignment \n",
      "                (read more at http://zhanglab.ccmb.med.umich.edu/I-TASSER/option4.html)\n",
      "    -restraint3 specify template name without alignment \n",
      "                (read more at http://zhanglab.ccmb.med.umich.edu/I-TASSER/option2.html)\n",
      "    -restraint4 specify template file without alignment \n",
      "                (read more at http://zhanglab.ccmb.med.umich.edu/I-TASSER/option3.html)\n",
      "    -temp_excl  exclude specific templates from template library \n",
      "                (read more at http://zhanglab.ccmb.med.umich.edu/I-TASSER/option6.html)\n",
      "    -traj       true or false, (default: true) deposit the trajectory files\n",
      "    -light      true or false, (default: false) this option runs quick simulations\n",
      "    -hours      specify maximum hours of simulations (default=5 when -light=true)\n",
      "    -outdir     where the final results should be saved (default value is set to data_dir)\n",
      "======================\n",
      "Tips for path setting:\n",
      "======================\n",
      "    -pkgdir:    directory of I-TASSER suite. go to the I-TASSERmod folder and enter the command \"pwd\",\n",
      "                you may get similar message like this /home/yangji/I-TASSER4.1/I-TASSERmod\n",
      "                then the path is /home/yangji/I-TASSER4.1\n",
      "    -libdir:    directory of I-TASSER library. go to the MTX and enter the command \"pwd\", \n",
      "                you may get similar message like this /home/yangji/ITLIB/MTX\n",
      "                then the path is /home/yangji/ITLIB    \n",
      "    -java_home: enter the command \"which java\", you may get a path like /usr/bin/java, then the path is /usr\n",
      "    -seqname:   this name must be different for different targets so that you can run multiple jobs at the same time.\n",
      "    -datadir:   this is the directory where your input sequence \"seq.fasta\" is located.\n",
      "                When you run multiple jobs, different targets need to be put under different folders\n",
      "    \n",
      "     We suggest testing your installation first with a short sequence (e.g., about 30 residues) before running production jobs for your proteins.\n",
      "     An example command for running I-TASSER using a sequence \"seq.fasta\" under the folder /home/yangji/data/example\n",
      "\n",
      "/home/nathan/software/itasser/I-TASSER5.1/I-TASSERmod/runI-TASSER.pl -pkgdir /home/nathan/software/itasser/I-TASSER5.1 -libdir /home/nathan/ITLIB -LBS true -EC true -GO true -seqname example -datadir /home/nathan/software/itasser/I-TASSER5.1/example -java_home /usr -light true -hours 6 -outdir /home/nathan/software/itasser/I-TASSER5.1/example\n",
      "\n",
      "\n",
      "--------------\n",
      "\n",
      "*****STDERR*****\n",
      "\n"
     ]
    }
   ],
   "source": [
    "check_path_run(itasser_exec)"
   ]
  }
 ],
 "metadata": {
  "kernelspec": {
   "display_name": "Python [default]",
   "language": "python",
   "name": "python3"
  },
  "language_info": {
   "codemirror_mode": {
    "name": "ipython",
    "version": 3
   },
   "file_extension": ".py",
   "mimetype": "text/x-python",
   "name": "python",
   "nbconvert_exporter": "python",
   "pygments_lexer": "ipython3",
   "version": "3.6.3"
  }
 },
 "nbformat": 4,
 "nbformat_minor": 2
}
