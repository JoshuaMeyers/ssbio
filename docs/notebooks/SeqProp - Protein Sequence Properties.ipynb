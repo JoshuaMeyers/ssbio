{
 "cells": [
  {
   "cell_type": "markdown",
   "metadata": {},
   "source": [
    "# SeqProp - Protein Sequence Properties\n",
    "\n",
    "This notebook gives an overview the available **calculations for properties of a single protein sequence**.\n",
    "\n",
    "<div class=\"alert alert-info\">\n",
    "\n",
    "**Input:** Amino acid sequence\n",
    "\n",
    "</div>\n",
    "\n",
    "<div class=\"alert alert-info\">\n",
    "\n",
    "**Output:** Amino acid sequence properties\n",
    "\n",
    "</div>"
   ]
  },
  {
   "cell_type": "raw",
   "metadata": {
    "raw_mimetype": "text/restructuredtext"
   },
   "source": [
    "See :class:`ssbio.protein.sequence.seqprop.SeqProp` for a description of all the available attributes and functions."
   ]
  },
  {
   "cell_type": "markdown",
   "metadata": {},
   "source": [
    "## Imports"
   ]
  },
  {
   "cell_type": "code",
   "execution_count": 1,
   "metadata": {
    "collapsed": true
   },
   "outputs": [],
   "source": [
    "import sys\n",
    "import logging\n",
    "import os.path as op"
   ]
  },
  {
   "cell_type": "code",
   "execution_count": 2,
   "metadata": {
    "collapsed": true
   },
   "outputs": [],
   "source": [
    "# Import the SeqProp class\n",
    "from ssbio.protein.sequence.seqprop import SeqProp"
   ]
  },
  {
   "cell_type": "code",
   "execution_count": 3,
   "metadata": {
    "collapsed": true
   },
   "outputs": [],
   "source": [
    "# Printing multiple outputs per cell\n",
    "from IPython.core.interactiveshell import InteractiveShell\n",
    "InteractiveShell.ast_node_interactivity = \"all\""
   ]
  },
  {
   "cell_type": "markdown",
   "metadata": {},
   "source": [
    "### Logging\n",
    "\n",
    "Set the logging level in `logger.setLevel(logging.<LEVEL_HERE>)` to specify how verbose you want the pipeline to be. Debug is most verbose.\n",
    "\n",
    "- `CRITICAL`\n",
    "     - Only really important messages shown\n",
    "- `ERROR`\n",
    "     - Major errors\n",
    "- `WARNING`\n",
    "     - Warnings that don't affect running of the pipeline\n",
    "- `INFO` (default)\n",
    "     - Info such as the number of structures mapped per gene\n",
    "- `DEBUG`\n",
    "     - Really detailed information that will print out a lot of stuff\n",
    "     \n",
    "<p><div class=\"alert alert-warning\">**Warning:** `DEBUG` mode prints out a large amount of information, especially if you have a lot of genes. This may stall your notebook!</div></p>"
   ]
  },
  {
   "cell_type": "code",
   "execution_count": 4,
   "metadata": {
    "collapsed": true
   },
   "outputs": [],
   "source": [
    "# Create logger\n",
    "logger = logging.getLogger()\n",
    "logger.setLevel(logging.INFO)  # SET YOUR LOGGING LEVEL HERE #"
   ]
  },
  {
   "cell_type": "code",
   "execution_count": 5,
   "metadata": {
    "collapsed": true
   },
   "outputs": [],
   "source": [
    "# Other logger stuff for Jupyter notebooks\n",
    "handler = logging.StreamHandler(sys.stderr)\n",
    "formatter = logging.Formatter('[%(asctime)s] [%(name)s] %(levelname)s: %(message)s', datefmt=\"%Y-%m-%d %H:%M\")\n",
    "handler.setFormatter(formatter)\n",
    "logger.handlers = [handler]"
   ]
  },
  {
   "cell_type": "markdown",
   "metadata": {},
   "source": [
    "## Initialization of the project\n",
    "\n",
    "Set these two things:\n",
    "\n",
    "- `PROTEIN_ID`\n",
    "    - Your protein ID\n",
    "- `PROTEIN_SEQ`\n",
    "    - Your protein sequence\n",
    "    "
   ]
  },
  {
   "cell_type": "code",
   "execution_count": 6,
   "metadata": {
    "collapsed": true
   },
   "outputs": [],
   "source": [
    "# SET IDS HERE\n",
    "PROTEIN_ID = 'YIAJ_ECOLI'\n",
    "PROTEIN_SEQ = 'MGKEVMGKKENEMAQEKERPAGSQSLFRGLMLIEILSNYPNGCPLAHLSELAGLNKSTVHRLLQGLQSCGYVTTAPAAGSYRLTTKFIAVGQKALSSLNIIHIAAPHLEALNIATGETINFSSREDDHAILIYKLEPTTGMLRTRAYIGQHMPLYCSAMGKIYMAFGHPDYVKSYWESHQHEIQPLTRNTITELPAMFDELAHIRESGAAMDREENELGVSCIAVPVFDIHGRVPYAVSISLSTSRLKQVGEKNLLKPLRETAQAISNELGFTVRDDLGAIT'"
   ]
  },
  {
   "cell_type": "code",
   "execution_count": 7,
   "metadata": {
    "collapsed": true
   },
   "outputs": [],
   "source": [
    "# Create the SeqProp object\n",
    "my_seq = SeqProp(id=PROTEIN_ID, seq=PROTEIN_SEQ)"
   ]
  },
  {
   "cell_type": "raw",
   "metadata": {
    "raw_mimetype": "text/restructuredtext"
   },
   "source": [
    ".. automethod:: ssbio.protein.sequence.seqprop.SeqProp.write_fasta_file\n",
    "    :noindex:"
   ]
  },
  {
   "cell_type": "code",
   "execution_count": 8,
   "metadata": {},
   "outputs": [
    {
     "data": {
      "text/plain": [
       "'/tmp/tmp.fasta'"
      ]
     },
     "execution_count": 8,
     "metadata": {},
     "output_type": "execute_result"
    }
   ],
   "source": [
    "# Write temporary FASTA file for property calculations that require FASTA file as input\n",
    "import tempfile\n",
    "ROOT_DIR = tempfile.gettempdir()\n",
    "\n",
    "my_seq.write_fasta_file(outfile=op.join(ROOT_DIR, 'tmp.fasta'), force_rerun=True)\n",
    "my_seq.sequence_path"
   ]
  },
  {
   "cell_type": "markdown",
   "metadata": {},
   "source": [
    "## Computing and storing protein properties\n",
    "\n",
    "A `SeqProp` object is simply an extension of the Biopython `SeqRecord` object. Global properties which describe or summarize the entire protein sequence are stored in the `annotations` attribute, while local residue-specific properties are stored in the `letter_annotations` attribute. "
   ]
  },
  {
   "cell_type": "markdown",
   "metadata": {},
   "source": [
    "### Basic global properties"
   ]
  },
  {
   "cell_type": "raw",
   "metadata": {
    "raw_mimetype": "text/restructuredtext"
   },
   "source": [
    ".. automethod:: ssbio.protein.sequence.seqprop.SeqProp.get_biopython_pepstats\n",
    "    :noindex:"
   ]
  },
  {
   "cell_type": "code",
   "execution_count": 9,
   "metadata": {},
   "outputs": [
    {
     "data": {
      "text/plain": [
       "{'amino_acids_percent-biop': {'A': 0.09219858156028368,\n",
       "  'C': 0.014184397163120567,\n",
       "  'D': 0.028368794326241134,\n",
       "  'E': 0.07801418439716312,\n",
       "  'F': 0.024822695035460994,\n",
       "  'G': 0.07446808510638298,\n",
       "  'H': 0.03900709219858156,\n",
       "  'I': 0.07092198581560284,\n",
       "  'K': 0.04609929078014184,\n",
       "  'L': 0.1099290780141844,\n",
       "  'M': 0.03546099290780142,\n",
       "  'N': 0.03900709219858156,\n",
       "  'P': 0.04609929078014184,\n",
       "  'Q': 0.03546099290780142,\n",
       "  'R': 0.04964539007092199,\n",
       "  'S': 0.07446808510638298,\n",
       "  'T': 0.06028368794326241,\n",
       "  'V': 0.0425531914893617,\n",
       "  'W': 0.0035460992907801418,\n",
       "  'Y': 0.03546099290780142},\n",
       " 'aromaticity-biop': 0.06382978723404256,\n",
       " 'instability_index-biop': 46.34609929078015,\n",
       " 'isoelectric_point-biop': 6.41558837890625,\n",
       " 'molecular_weight-biop': 31066.304700000015,\n",
       " 'monoisotopic-biop': False,\n",
       " 'percent_helix_naive-biop': 0.2872340425531915,\n",
       " 'percent_strand_naive-biop': 0.31560283687943264,\n",
       " 'percent_turn_naive-biop': 0.23404255319148937}"
      ]
     },
     "execution_count": 9,
     "metadata": {},
     "output_type": "execute_result"
    }
   ],
   "source": [
    "# Global properties using the Biopython ProteinAnalysis module\n",
    "my_seq.get_biopython_pepstats()\n",
    "{k:v for k,v in my_seq.annotations.items() if k.endswith('-biop')}"
   ]
  },
  {
   "cell_type": "raw",
   "metadata": {
    "raw_mimetype": "text/restructuredtext"
   },
   "source": [
    ".. automethod:: ssbio.protein.sequence.seqprop.SeqProp.get_emboss_pepstats\n",
    "    :noindex:"
   ]
  },
  {
   "cell_type": "code",
   "execution_count": 10,
   "metadata": {},
   "outputs": [
    {
     "data": {
      "text/plain": [
       "{'percent_acidic-pepstats': 0.10638,\n",
       " 'percent_aliphatic-pepstats': 0.3156,\n",
       " 'percent_aromatic-pepstats': 0.10284,\n",
       " 'percent_basic-pepstats': 0.13475,\n",
       " 'percent_charged-pepstats': 0.24112999999999998,\n",
       " 'percent_non-polar-pepstats': 0.5496500000000001,\n",
       " 'percent_polar-pepstats': 0.45035,\n",
       " 'percent_small-pepstats': 0.47163,\n",
       " 'percent_tiny-pepstats': 0.3156}"
      ]
     },
     "execution_count": 10,
     "metadata": {},
     "output_type": "execute_result"
    }
   ],
   "source": [
    "# Global properties from the EMBOSS pepstats program\n",
    "my_seq.get_emboss_pepstats()\n",
    "{k:v for k,v in my_seq.annotations.items() if k.endswith('-pepstats')}"
   ]
  },
  {
   "cell_type": "raw",
   "metadata": {
    "raw_mimetype": "text/restructuredtext"
   },
   "source": [
    ".. automethod:: ssbio.protein.sequence.seqprop.SeqProp.get_aggregation_propensity\n",
    "    :noindex:"
   ]
  },
  {
   "cell_type": "code",
   "execution_count": 11,
   "metadata": {},
   "outputs": [
    {
     "data": {
      "text/plain": [
       "{'aggprop-amylpred': 7}"
      ]
     },
     "execution_count": 11,
     "metadata": {},
     "output_type": "execute_result"
    }
   ],
   "source": [
    "# Aggregation propensity - the predicted number of aggregation-prone segments on an unfolded protein sequence\n",
    "my_seq.get_aggregation_propensity(outdir=ROOT_DIR, email='nmih@ucsd.edu', password='ssbiotest', cutoff_v=5, cutoff_n=5, run_amylmuts=False)\n",
    "{k:v for k,v in my_seq.annotations.items() if k.endswith('-amylpred')}"
   ]
  },
  {
   "cell_type": "raw",
   "metadata": {
    "raw_mimetype": "text/restructuredtext"
   },
   "source": [
    ".. automethod:: ssbio.protein.sequence.seqprop.SeqProp.get_kinetic_folding_rate\n",
    "    :noindex:"
   ]
  },
  {
   "cell_type": "code",
   "execution_count": 12,
   "metadata": {},
   "outputs": [
    {
     "data": {
      "text/plain": [
       "{'kinetic_folding_rate_37.0_C-foldrate': '3.1'}"
      ]
     },
     "execution_count": 12,
     "metadata": {},
     "output_type": "execute_result"
    }
   ],
   "source": [
    "# Kinetic folding rate - the predicted rate of folding for this protein sequence\n",
    "secstruct_class = 'mixed'\n",
    "my_seq.get_kinetic_folding_rate(secstruct=secstruct_class)\n",
    "{k:v for k,v in my_seq.annotations.items() if k.endswith('-foldrate')}"
   ]
  },
  {
   "cell_type": "raw",
   "metadata": {
    "raw_mimetype": "text/restructuredtext"
   },
   "source": [
    ".. automethod:: ssbio.protein.sequence.seqprop.SeqProp.get_thermostability\n",
    "    :noindex:"
   ]
  },
  {
   "cell_type": "code",
   "execution_count": 13,
   "metadata": {},
   "outputs": [
    {
     "data": {
      "text/plain": [
       "{'thermostability_32.0_C-oobatake': (-485.4540664728014, 2.22678150661948),\n",
       " 'thermostability_37.0_C-oobatake': (-2126.8775952298206, 31.527746910631482),\n",
       " 'thermostability_42.0_C-oobatake': (-4205.694728563369, 825.0926295027567)}"
      ]
     },
     "execution_count": 13,
     "metadata": {},
     "output_type": "execute_result"
    }
   ],
   "source": [
    "# Thermostability - prediction of free energy of unfolding dG from protein sequence\n",
    "# Stores (dG, Keq)\n",
    "my_seq.get_thermostability(at_temp=32.0)\n",
    "my_seq.get_thermostability(at_temp=37.0)\n",
    "my_seq.get_thermostability(at_temp=42.0)\n",
    "{k:v for k,v in my_seq.annotations.items() if k.startswith('thermostability_')}"
   ]
  }
 ],
 "metadata": {
  "celltoolbar": "Raw Cell Format",
  "kernelspec": {
   "display_name": "Python [default]",
   "language": "python",
   "name": "python3"
  },
  "language_info": {
   "codemirror_mode": {
    "name": "ipython",
    "version": 3
   },
   "file_extension": ".py",
   "mimetype": "text/x-python",
   "name": "python",
   "nbconvert_exporter": "python",
   "pygments_lexer": "ipython3",
   "version": "3.6.3"
  }
 },
 "nbformat": 4,
 "nbformat_minor": 2
}
