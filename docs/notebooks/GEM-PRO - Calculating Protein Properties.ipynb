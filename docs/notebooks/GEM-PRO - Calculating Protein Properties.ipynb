{
 "cells": [
  {
   "cell_type": "markdown",
   "metadata": {},
   "source": [
    "# GEM-PRO - Calculating Protein Properties\n",
    "This notebook gives an example of how to **calculate protein properties** for a list of proteins, by first pulling information from UniProt and then using the 3D structure files to calculate the desired properties\n",
    "\n",
    "<div class=\"alert alert-info\">\n",
    "\n",
    "**Input:** List of gene IDs\n",
    "\n",
    "</div>\n",
    "\n",
    "<div class=\"alert alert-info\">\n",
    "\n",
    "**Output:** Representative protein structures and properties associated with them\n",
    "\n",
    "</div>"
   ]
  },
  {
   "cell_type": "markdown",
   "metadata": {},
   "source": [
    "## Imports"
   ]
  },
  {
   "cell_type": "code",
   "execution_count": 1,
   "metadata": {
    "collapsed": true
   },
   "outputs": [],
   "source": [
    "import sys\n",
    "import logging"
   ]
  },
  {
   "cell_type": "code",
   "execution_count": 2,
   "metadata": {
    "collapsed": true
   },
   "outputs": [],
   "source": [
    "# Import the GEM-PRO class\n",
    "from ssbio.pipeline.gempro import GEMPRO"
   ]
  },
  {
   "cell_type": "code",
   "execution_count": 3,
   "metadata": {
    "collapsed": true
   },
   "outputs": [],
   "source": [
    "# Printing multiple outputs per cell\n",
    "from IPython.core.interactiveshell import InteractiveShell\n",
    "InteractiveShell.ast_node_interactivity = \"all\""
   ]
  },
  {
   "cell_type": "markdown",
   "metadata": {},
   "source": [
    "### Logging\n",
    "\n",
    "Set the logging level in `logger.setLevel(logging.<LEVEL_HERE>)` to specify how verbose you want the pipeline to be. Debug is most verbose.\n",
    "\n",
    "- `CRITICAL`\n",
    "     - Only really important messages shown\n",
    "- `ERROR`\n",
    "     - Major errors\n",
    "- `WARNING`\n",
    "     - Warnings that don't affect running of the pipeline\n",
    "- `INFO` (default)\n",
    "     - Info such as the number of structures mapped per gene\n",
    "- `DEBUG`\n",
    "     - Really detailed information that will print out a lot of stuff\n",
    "     \n",
    "<div class=\"alert alert-warning\">\n",
    "\n",
    "**Warning:** \n",
    "`DEBUG` mode prints out a large amount of information, especially if you have a lot of genes. This may stall your notebook!\n",
    "</div>"
   ]
  },
  {
   "cell_type": "code",
   "execution_count": 4,
   "metadata": {
    "collapsed": true
   },
   "outputs": [],
   "source": [
    "# Create logger\n",
    "logger = logging.getLogger()\n",
    "logger.setLevel(logging.INFO)  # SET YOUR LOGGING LEVEL HERE #"
   ]
  },
  {
   "cell_type": "code",
   "execution_count": 5,
   "metadata": {
    "collapsed": true
   },
   "outputs": [],
   "source": [
    "# Other logger stuff for Jupyter notebooks\n",
    "handler = logging.StreamHandler(sys.stderr)\n",
    "formatter = logging.Formatter('[%(asctime)s] [%(name)s] %(levelname)s: %(message)s', datefmt=\"%Y-%m-%d %H:%M\")\n",
    "handler.setFormatter(formatter)\n",
    "logger.handlers = [handler]"
   ]
  },
  {
   "cell_type": "markdown",
   "metadata": {},
   "source": [
    "## Initialization of the project\n",
    "\n",
    "Set these three things:\n",
    "\n",
    "- `ROOT_DIR`\n",
    "    - The directory where a folder named after your `PROJECT` will be created\n",
    "- `PROJECT`\n",
    "    - Your project name\n",
    "- `LIST_OF_GENES`\n",
    "    - Your list of gene IDs\n",
    "    \n",
    "A directory will be created in `ROOT_DIR` with your `PROJECT` name. The folders are organized like so:\n",
    "```\n",
    "    ROOT_DIR\n",
    "    └── PROJECT\n",
    "        ├── data  # General storage for pipeline outputs\n",
    "        ├── model  # SBML and GEM-PRO models are stored here\n",
    "        ├── genes  # Per gene information\n",
    "        │   ├── <gene_id1>  # Specific gene directory\n",
    "        │   │   └── protein\n",
    "        │   │       ├── sequences  # Protein sequence files, alignments, etc.\n",
    "        │   │       └── structures  # Protein structure files, calculations, etc.\n",
    "        │   └── <gene_id2>\n",
    "        │       └── protein\n",
    "        │           ├── sequences\n",
    "        │           └── structures\n",
    "        ├── reactions  # Per reaction information\n",
    "        │   └── <reaction_id1>  # Specific reaction directory\n",
    "        │       └── complex\n",
    "        │           └── structures  # Protein complex files\n",
    "        └── metabolites  # Per metabolite information\n",
    "            └── <metabolite_id1>  # Specific metabolite directory\n",
    "                └── chemical\n",
    "                    └── structures  # Metabolite 2D and 3D structure files\n",
    "                \n",
    "```\n",
    "\n",
    "<div class=\"alert alert-info\">**Note:** Methods for protein complexes and metabolites are still in development.</div>"
   ]
  },
  {
   "cell_type": "code",
   "execution_count": 6,
   "metadata": {
    "collapsed": true
   },
   "outputs": [],
   "source": [
    "# SET FOLDERS AND DATA HERE\n",
    "import tempfile\n",
    "ROOT_DIR = tempfile.gettempdir()\n",
    "\n",
    "PROJECT = 'ssbio_protein_properties'\n",
    "LIST_OF_GENES = ['b1276', 'b0118']"
   ]
  },
  {
   "cell_type": "code",
   "execution_count": 7,
   "metadata": {},
   "outputs": [
    {
     "name": "stderr",
     "output_type": "stream",
     "text": [
      "[2017-08-30 19:00] [ssbio.pipeline.gempro] INFO: /tmp/ssbio_protein_properties: GEM-PRO project location\n",
      "[2017-08-30 19:00] [ssbio.pipeline.gempro] INFO: 2: number of genes\n"
     ]
    }
   ],
   "source": [
    "# Create the GEM-PRO project\n",
    "my_gempro = GEMPRO(gem_name=PROJECT, root_dir=ROOT_DIR, genes_list=LIST_OF_GENES, pdb_file_type='pdb')"
   ]
  },
  {
   "cell_type": "markdown",
   "metadata": {},
   "source": [
    "## Mapping gene ID --> sequence\n",
    "\n",
    "First, we need to map these IDs to their protein sequences. There are 2 ID mapping services provided to do this - through **KEGG** or **UniProt**. The end goal is to map a UniProt ID to each ID, since there is a comprehensive mapping (and some useful APIs) between UniProt and the PDB.\n",
    "\n",
    "<p><div class=\"alert alert-info\">**Note:** You only need to map gene IDs using one service. However you can run both if some genes don't map in one service and do map in another!</div></p>"
   ]
  },
  {
   "cell_type": "markdown",
   "metadata": {},
   "source": [
    "### Methods"
   ]
  },
  {
   "cell_type": "raw",
   "metadata": {
    "raw_mimetype": "text/restructuredtext"
   },
   "source": [
    ".. automethod:: ssbio.pipeline.gempro.GEMPRO.uniprot_mapping_and_metadata\n",
    "    :noindex:"
   ]
  },
  {
   "cell_type": "code",
   "execution_count": 8,
   "metadata": {},
   "outputs": [
    {
     "name": "stderr",
     "output_type": "stream",
     "text": [
      "[2017-08-30 19:00] [root] INFO: getUserAgent: Begin\n",
      "[2017-08-30 19:00] [root] INFO: getUserAgent: user_agent: EBI-Sample-Client/ (services.py; Python 3.5.3; Linux) Python-requests/2.14.2\n",
      "[2017-08-30 19:00] [root] INFO: getUserAgent: End\n"
     ]
    },
    {
     "data": {
      "application/vnd.jupyter.widget-view+json": {
       "model_id": "dafae37ddf4744f2b8ae1860b7458a10"
      }
     },
     "metadata": {},
     "output_type": "display_data"
    },
    {
     "name": "stderr",
     "output_type": "stream",
     "text": [
      "[2017-08-30 19:00] [ssbio.pipeline.gempro] INFO: 2/2: number of genes mapped to UniProt\n",
      "[2017-08-30 19:00] [ssbio.pipeline.gempro] INFO: Completed ID mapping --> UniProt. See the \"df_uniprot_metadata\" attribute for a summary dataframe.\n"
     ]
    },
    {
     "name": "stdout",
     "output_type": "stream",
     "text": [
      "\n",
      "Missing UniProt mapping:  []\n"
     ]
    },
    {
     "data": {
      "text/html": [
       "<div>\n",
       "<style>\n",
       "    .dataframe thead tr:only-child th {\n",
       "        text-align: right;\n",
       "    }\n",
       "\n",
       "    .dataframe thead th {\n",
       "        text-align: left;\n",
       "    }\n",
       "\n",
       "    .dataframe tbody tr th {\n",
       "        vertical-align: top;\n",
       "    }\n",
       "</style>\n",
       "<table border=\"1\" class=\"dataframe\">\n",
       "  <thead>\n",
       "    <tr style=\"text-align: right;\">\n",
       "      <th></th>\n",
       "      <th>uniprot</th>\n",
       "      <th>reviewed</th>\n",
       "      <th>gene_name</th>\n",
       "      <th>kegg</th>\n",
       "      <th>refseq</th>\n",
       "      <th>num_pdbs</th>\n",
       "      <th>pdbs</th>\n",
       "      <th>pfam</th>\n",
       "      <th>seq_len</th>\n",
       "      <th>description</th>\n",
       "      <th>entry_date</th>\n",
       "      <th>entry_version</th>\n",
       "      <th>seq_date</th>\n",
       "      <th>seq_version</th>\n",
       "      <th>sequence_file</th>\n",
       "      <th>metadata_file</th>\n",
       "    </tr>\n",
       "    <tr>\n",
       "      <th>gene</th>\n",
       "      <th></th>\n",
       "      <th></th>\n",
       "      <th></th>\n",
       "      <th></th>\n",
       "      <th></th>\n",
       "      <th></th>\n",
       "      <th></th>\n",
       "      <th></th>\n",
       "      <th></th>\n",
       "      <th></th>\n",
       "      <th></th>\n",
       "      <th></th>\n",
       "      <th></th>\n",
       "      <th></th>\n",
       "      <th></th>\n",
       "      <th></th>\n",
       "    </tr>\n",
       "  </thead>\n",
       "  <tbody>\n",
       "    <tr>\n",
       "      <th>b0118</th>\n",
       "      <td>P36683</td>\n",
       "      <td>False</td>\n",
       "      <td>acnB</td>\n",
       "      <td>ecj:JW0114;eco:b0118</td>\n",
       "      <td>NP_414660.1;WP_001307570.1</td>\n",
       "      <td>1</td>\n",
       "      <td>1L5J</td>\n",
       "      <td>PF00330;PF06434;PF11791</td>\n",
       "      <td>865</td>\n",
       "      <td>Aconitate hydratase B</td>\n",
       "      <td>2017-07-05</td>\n",
       "      <td>161</td>\n",
       "      <td>1997-11-01</td>\n",
       "      <td>3</td>\n",
       "      <td>P36683.fasta</td>\n",
       "      <td>P36683.xml</td>\n",
       "    </tr>\n",
       "    <tr>\n",
       "      <th>b1276</th>\n",
       "      <td>P25516</td>\n",
       "      <td>False</td>\n",
       "      <td>acnA</td>\n",
       "      <td>ecj:JW1268;eco:b1276</td>\n",
       "      <td>NP_415792.1;WP_000099535.1</td>\n",
       "      <td>0</td>\n",
       "      <td>NaN</td>\n",
       "      <td>PF00330;PF00694</td>\n",
       "      <td>891</td>\n",
       "      <td>Aconitate hydratase A</td>\n",
       "      <td>2017-07-05</td>\n",
       "      <td>149</td>\n",
       "      <td>2008-01-15</td>\n",
       "      <td>3</td>\n",
       "      <td>P25516.fasta</td>\n",
       "      <td>P25516.xml</td>\n",
       "    </tr>\n",
       "  </tbody>\n",
       "</table>\n",
       "</div>"
      ],
      "text/plain": [
       "      uniprot  reviewed gene_name                  kegg  \\\n",
       "gene                                                      \n",
       "b0118  P36683     False      acnB  ecj:JW0114;eco:b0118   \n",
       "b1276  P25516     False      acnA  ecj:JW1268;eco:b1276   \n",
       "\n",
       "                           refseq  num_pdbs  pdbs                     pfam  \\\n",
       "gene                                                                         \n",
       "b0118  NP_414660.1;WP_001307570.1         1  1L5J  PF00330;PF06434;PF11791   \n",
       "b1276  NP_415792.1;WP_000099535.1         0   NaN          PF00330;PF00694   \n",
       "\n",
       "       seq_len            description  entry_date  entry_version    seq_date  \\\n",
       "gene                                                                           \n",
       "b0118      865  Aconitate hydratase B  2017-07-05            161  1997-11-01   \n",
       "b1276      891  Aconitate hydratase A  2017-07-05            149  2008-01-15   \n",
       "\n",
       "       seq_version sequence_file metadata_file  \n",
       "gene                                            \n",
       "b0118            3  P36683.fasta    P36683.xml  \n",
       "b1276            3  P25516.fasta    P25516.xml  "
      ]
     },
     "execution_count": 8,
     "metadata": {},
     "output_type": "execute_result"
    }
   ],
   "source": [
    "# UniProt mapping\n",
    "my_gempro.uniprot_mapping_and_metadata(model_gene_source='ENSEMBLGENOME_ID')\n",
    "print('Missing UniProt mapping: ', my_gempro.missing_uniprot_mapping)\n",
    "my_gempro.df_uniprot_metadata.head()"
   ]
  },
  {
   "cell_type": "raw",
   "metadata": {
    "raw_mimetype": "text/restructuredtext"
   },
   "source": [
    ".. automethod:: ssbio.pipeline.gempro.GEMPRO.set_representative_sequence\n",
    "    :noindex:"
   ]
  },
  {
   "cell_type": "code",
   "execution_count": 14,
   "metadata": {},
   "outputs": [
    {
     "data": {
      "application/vnd.jupyter.widget-view+json": {
       "model_id": "d0151de0232d4022bf4e106938c71bc6"
      }
     },
     "metadata": {},
     "output_type": "display_data"
    },
    {
     "name": "stderr",
     "output_type": "stream",
     "text": [
      "[2017-08-30 19:01] [ssbio.pipeline.gempro] INFO: 2/2: number of genes with a representative sequence\n",
      "[2017-08-30 19:01] [ssbio.pipeline.gempro] INFO: See the \"df_representative_sequences\" attribute for a summary dataframe.\n"
     ]
    },
    {
     "name": "stdout",
     "output_type": "stream",
     "text": [
      "\n",
      "Missing a representative sequence:  []\n"
     ]
    },
    {
     "data": {
      "text/html": [
       "<div>\n",
       "<style>\n",
       "    .dataframe thead tr:only-child th {\n",
       "        text-align: right;\n",
       "    }\n",
       "\n",
       "    .dataframe thead th {\n",
       "        text-align: left;\n",
       "    }\n",
       "\n",
       "    .dataframe tbody tr th {\n",
       "        vertical-align: top;\n",
       "    }\n",
       "</style>\n",
       "<table border=\"1\" class=\"dataframe\">\n",
       "  <thead>\n",
       "    <tr style=\"text-align: right;\">\n",
       "      <th></th>\n",
       "      <th>uniprot</th>\n",
       "      <th>kegg</th>\n",
       "      <th>num_pdbs</th>\n",
       "      <th>pdbs</th>\n",
       "      <th>seq_len</th>\n",
       "      <th>sequence_file</th>\n",
       "      <th>metadata_file</th>\n",
       "    </tr>\n",
       "    <tr>\n",
       "      <th>gene</th>\n",
       "      <th></th>\n",
       "      <th></th>\n",
       "      <th></th>\n",
       "      <th></th>\n",
       "      <th></th>\n",
       "      <th></th>\n",
       "      <th></th>\n",
       "    </tr>\n",
       "  </thead>\n",
       "  <tbody>\n",
       "    <tr>\n",
       "      <th>b0118</th>\n",
       "      <td>P36683</td>\n",
       "      <td>ecj:JW0114;eco:b0118</td>\n",
       "      <td>1</td>\n",
       "      <td>1L5J</td>\n",
       "      <td>865</td>\n",
       "      <td>P36683.fasta</td>\n",
       "      <td>P36683.xml</td>\n",
       "    </tr>\n",
       "    <tr>\n",
       "      <th>b1276</th>\n",
       "      <td>P25516</td>\n",
       "      <td>ecj:JW1268;eco:b1276</td>\n",
       "      <td>0</td>\n",
       "      <td>NaN</td>\n",
       "      <td>891</td>\n",
       "      <td>P25516.fasta</td>\n",
       "      <td>P25516.xml</td>\n",
       "    </tr>\n",
       "  </tbody>\n",
       "</table>\n",
       "</div>"
      ],
      "text/plain": [
       "      uniprot                  kegg  num_pdbs  pdbs  seq_len sequence_file  \\\n",
       "gene                                                                         \n",
       "b0118  P36683  ecj:JW0114;eco:b0118         1  1L5J      865  P36683.fasta   \n",
       "b1276  P25516  ecj:JW1268;eco:b1276         0   NaN      891  P25516.fasta   \n",
       "\n",
       "      metadata_file  \n",
       "gene                 \n",
       "b0118    P36683.xml  \n",
       "b1276    P25516.xml  "
      ]
     },
     "execution_count": 14,
     "metadata": {},
     "output_type": "execute_result"
    }
   ],
   "source": [
    "# Set representative sequences\n",
    "my_gempro.set_representative_sequence()\n",
    "print('Missing a representative sequence: ', my_gempro.missing_representative_sequence)\n",
    "my_gempro.df_representative_sequences.head()"
   ]
  },
  {
   "cell_type": "markdown",
   "metadata": {},
   "source": [
    "## Mapping representative sequence --> structure\n",
    "\n",
    "These are the ways to map sequence to structure:\n",
    "\n",
    "1. Use the UniProt ID and their automatic mappings to the PDB\n",
    "2. BLAST the sequence to the PDB\n",
    "3. Make homology models or \n",
    "4. Map to existing homology models\n",
    "\n",
    "You can only utilize option #1 to map to PDBs if there is a mapped UniProt ID set in the representative sequence. If not, you'll have to BLAST your sequence to the PDB or make a homology model. You can also run both for maximum coverage."
   ]
  },
  {
   "cell_type": "markdown",
   "metadata": {},
   "source": [
    "### Methods"
   ]
  },
  {
   "cell_type": "raw",
   "metadata": {
    "raw_mimetype": "text/restructuredtext"
   },
   "source": [
    ".. automethod:: ssbio.pipeline.gempro.GEMPRO.map_uniprot_to_pdb\n",
    "    :noindex:"
   ]
  },
  {
   "cell_type": "code",
   "execution_count": 15,
   "metadata": {},
   "outputs": [
    {
     "name": "stderr",
     "output_type": "stream",
     "text": [
      "[2017-08-30 19:01] [ssbio.pipeline.gempro] INFO: Mapping UniProt IDs --> PDB IDs...\n",
      "[2017-08-30 19:01] [root] INFO: getUserAgent: Begin\n",
      "[2017-08-30 19:01] [root] INFO: getUserAgent: user_agent: EBI-Sample-Client/ (services.py; Python 3.5.3; Linux) Python-requests/2.14.2\n",
      "[2017-08-30 19:01] [root] INFO: getUserAgent: End\n"
     ]
    },
    {
     "data": {
      "application/vnd.jupyter.widget-view+json": {
       "model_id": "df48e98ad0d3485a8ccb274a30cf61bb"
      }
     },
     "metadata": {},
     "output_type": "display_data"
    },
    {
     "name": "stderr",
     "output_type": "stream",
     "text": [
      "[2017-08-30 19:01] [ssbio.pipeline.gempro] INFO: 1/2: number of genes with at least one experimental structure\n",
      "[2017-08-30 19:01] [ssbio.pipeline.gempro] INFO: Completed UniProt --> best PDB mapping. See the \"df_pdb_ranking\" attribute for a summary dataframe.\n"
     ]
    },
    {
     "name": "stdout",
     "output_type": "stream",
     "text": [
      "\n"
     ]
    },
    {
     "data": {
      "text/html": [
       "<div>\n",
       "<style>\n",
       "    .dataframe thead tr:only-child th {\n",
       "        text-align: right;\n",
       "    }\n",
       "\n",
       "    .dataframe thead th {\n",
       "        text-align: left;\n",
       "    }\n",
       "\n",
       "    .dataframe tbody tr th {\n",
       "        vertical-align: top;\n",
       "    }\n",
       "</style>\n",
       "<table border=\"1\" class=\"dataframe\">\n",
       "  <thead>\n",
       "    <tr style=\"text-align: right;\">\n",
       "      <th></th>\n",
       "      <th>pdb_id</th>\n",
       "      <th>pdb_chain_id</th>\n",
       "      <th>uniprot</th>\n",
       "      <th>experimental_method</th>\n",
       "      <th>resolution</th>\n",
       "      <th>coverage</th>\n",
       "      <th>start</th>\n",
       "      <th>end</th>\n",
       "      <th>unp_start</th>\n",
       "      <th>unp_end</th>\n",
       "      <th>rank</th>\n",
       "    </tr>\n",
       "    <tr>\n",
       "      <th>gene</th>\n",
       "      <th></th>\n",
       "      <th></th>\n",
       "      <th></th>\n",
       "      <th></th>\n",
       "      <th></th>\n",
       "      <th></th>\n",
       "      <th></th>\n",
       "      <th></th>\n",
       "      <th></th>\n",
       "      <th></th>\n",
       "      <th></th>\n",
       "    </tr>\n",
       "  </thead>\n",
       "  <tbody>\n",
       "    <tr>\n",
       "      <th>b0118</th>\n",
       "      <td>1l5j</td>\n",
       "      <td>A</td>\n",
       "      <td>P36683</td>\n",
       "      <td>X-ray diffraction</td>\n",
       "      <td>2.4</td>\n",
       "      <td>1</td>\n",
       "      <td>1</td>\n",
       "      <td>865</td>\n",
       "      <td>1</td>\n",
       "      <td>865</td>\n",
       "      <td>1</td>\n",
       "    </tr>\n",
       "    <tr>\n",
       "      <th>b0118</th>\n",
       "      <td>1l5j</td>\n",
       "      <td>B</td>\n",
       "      <td>P36683</td>\n",
       "      <td>X-ray diffraction</td>\n",
       "      <td>2.4</td>\n",
       "      <td>1</td>\n",
       "      <td>1</td>\n",
       "      <td>865</td>\n",
       "      <td>1</td>\n",
       "      <td>865</td>\n",
       "      <td>2</td>\n",
       "    </tr>\n",
       "  </tbody>\n",
       "</table>\n",
       "</div>"
      ],
      "text/plain": [
       "      pdb_id pdb_chain_id uniprot experimental_method  resolution  coverage  \\\n",
       "gene                                                                          \n",
       "b0118   1l5j            A  P36683   X-ray diffraction         2.4         1   \n",
       "b0118   1l5j            B  P36683   X-ray diffraction         2.4         1   \n",
       "\n",
       "       start  end  unp_start  unp_end  rank  \n",
       "gene                                         \n",
       "b0118      1  865          1      865     1  \n",
       "b0118      1  865          1      865     2  "
      ]
     },
     "execution_count": 15,
     "metadata": {},
     "output_type": "execute_result"
    }
   ],
   "source": [
    "# Mapping using the PDBe best_structures service\n",
    "my_gempro.map_uniprot_to_pdb(seq_ident_cutoff=.3)\n",
    "my_gempro.df_pdb_ranking.head()"
   ]
  },
  {
   "cell_type": "raw",
   "metadata": {
    "raw_mimetype": "text/restructuredtext"
   },
   "source": [
    ".. automethod:: ssbio.pipeline.gempro.GEMPRO.blast_seqs_to_pdb\n",
    "    :noindex:"
   ]
  },
  {
   "cell_type": "code",
   "execution_count": 16,
   "metadata": {},
   "outputs": [
    {
     "data": {
      "application/vnd.jupyter.widget-view+json": {
       "model_id": "ed0d85b5ccad499198e9fabbe827f1d1"
      }
     },
     "metadata": {},
     "output_type": "display_data"
    },
    {
     "name": "stderr",
     "output_type": "stream",
     "text": [
      "[2017-08-30 19:01] [ssbio.pipeline.gempro] INFO: Completed sequence --> PDB BLAST. See the \"df_pdb_blast\" attribute for a summary dataframe.\n",
      "[2017-08-30 19:01] [ssbio.pipeline.gempro] INFO: 0: number of genes with additional structures added from BLAST\n",
      "[2017-08-30 19:01] [ssbio.pipeline.gempro] WARNING: Empty dataframe\n"
     ]
    },
    {
     "name": "stdout",
     "output_type": "stream",
     "text": [
      "\n"
     ]
    },
    {
     "data": {
      "text/html": [
       "<div>\n",
       "<style>\n",
       "    .dataframe thead tr:only-child th {\n",
       "        text-align: right;\n",
       "    }\n",
       "\n",
       "    .dataframe thead th {\n",
       "        text-align: left;\n",
       "    }\n",
       "\n",
       "    .dataframe tbody tr th {\n",
       "        vertical-align: top;\n",
       "    }\n",
       "</style>\n",
       "<table border=\"1\" class=\"dataframe\">\n",
       "  <thead>\n",
       "    <tr style=\"text-align: right;\">\n",
       "      <th></th>\n",
       "    </tr>\n",
       "  </thead>\n",
       "  <tbody>\n",
       "  </tbody>\n",
       "</table>\n",
       "</div>"
      ],
      "text/plain": [
       "Empty DataFrame\n",
       "Columns: []\n",
       "Index: []"
      ]
     },
     "execution_count": 16,
     "metadata": {},
     "output_type": "execute_result"
    }
   ],
   "source": [
    "# Mapping using BLAST\n",
    "my_gempro.blast_seqs_to_pdb(all_genes=True, seq_ident_cutoff=.9, evalue=0.00001)\n",
    "my_gempro.df_pdb_blast.head(2)"
   ]
  },
  {
   "cell_type": "raw",
   "metadata": {
    "raw_mimetype": "text/restructuredtext"
   },
   "source": [
    ".. automethod:: ssbio.pipeline.gempro.GEMPRO.get_manual_homology_models\n",
    "    :noindex:"
   ]
  },
  {
   "cell_type": "code",
   "execution_count": 17,
   "metadata": {
    "collapsed": true
   },
   "outputs": [],
   "source": [
    "import pandas as pd\n",
    "import os.path as op"
   ]
  },
  {
   "cell_type": "code",
   "execution_count": 18,
   "metadata": {},
   "outputs": [
    {
     "data": {
      "application/vnd.jupyter.widget-view+json": {
       "model_id": "899218b1442848eeb8ddd321f576cc58"
      }
     },
     "metadata": {},
     "output_type": "display_data"
    },
    {
     "name": "stderr",
     "output_type": "stream",
     "text": [
      "[2017-08-30 19:01] [ssbio.pipeline.gempro] INFO: Updated homology model information for 2 genes.\n"
     ]
    },
    {
     "name": "stdout",
     "output_type": "stream",
     "text": [
      "\n"
     ]
    }
   ],
   "source": [
    "# Creating manual mapping dictionary for ECOLI I-TASSER models\n",
    "homology_models = '/home/nathan/projects_archive/homology_models/ECOLI/zhang/'\n",
    "homology_models_df = pd.read_csv('/home/nathan/projects_archive/homology_models/ECOLI/zhang_data/160804-ZHANG_INFO.csv')\n",
    "tmp = homology_models_df[['zhang_id','model_file','m_gene']].drop_duplicates()\n",
    "tmp = tmp[pd.notnull(tmp.m_gene)]\n",
    "\n",
    "homology_model_dict = {}\n",
    "\n",
    "for i,r in tmp.iterrows():\n",
    "    homology_model_dict[r['m_gene']] = {r['zhang_id']: {'model_file':op.join(homology_models, r['model_file']),\n",
    "                                                        'file_type':'pdb'}}\n",
    "    \n",
    "my_gempro.get_manual_homology_models(homology_model_dict)"
   ]
  },
  {
   "cell_type": "code",
   "execution_count": 19,
   "metadata": {},
   "outputs": [
    {
     "data": {
      "application/vnd.jupyter.widget-view+json": {
       "model_id": "85fe536b2c7c4263bcee6cdd1db4bbe7"
      }
     },
     "metadata": {},
     "output_type": "display_data"
    },
    {
     "name": "stderr",
     "output_type": "stream",
     "text": [
      "[2017-08-30 19:01] [ssbio.pipeline.gempro] INFO: Updated homology model information for 2 genes.\n"
     ]
    },
    {
     "name": "stdout",
     "output_type": "stream",
     "text": [
      "\n"
     ]
    }
   ],
   "source": [
    "# Creating manual mapping dictionary for ECOLI SUNPRO models\n",
    "homology_models = '/home/nathan/projects_archive/homology_models/ECOLI/sunpro/'\n",
    "homology_models_df = pd.read_csv('/home/nathan/projects_archive/homology_models/ECOLI/sunpro_data/160609-SUNPRO_INFO.csv')\n",
    "tmp = homology_models_df[['sunpro_id','model_file','m_gene']].drop_duplicates()\n",
    "tmp = tmp[pd.notnull(tmp.m_gene)]\n",
    "\n",
    "homology_model_dict = {}\n",
    "\n",
    "for i,r in tmp.iterrows():\n",
    "    homology_model_dict[r['m_gene']] = {r['sunpro_id']: {'model_file':op.join(homology_models, r['model_file']),\n",
    "                                                         'file_type':'pdb'}}\n",
    "    \n",
    "my_gempro.get_manual_homology_models(homology_model_dict)"
   ]
  },
  {
   "cell_type": "markdown",
   "metadata": {},
   "source": [
    "## Downloading and ranking structures"
   ]
  },
  {
   "cell_type": "markdown",
   "metadata": {},
   "source": [
    "### Methods"
   ]
  },
  {
   "cell_type": "raw",
   "metadata": {
    "raw_mimetype": "text/restructuredtext"
   },
   "source": [
    ".. automethod:: ssbio.pipeline.gempro.GEMPRO.pdb_downloader_and_metadata\n",
    "    :noindex:"
   ]
  },
  {
   "cell_type": "markdown",
   "metadata": {},
   "source": [
    "<div class=\"alert alert-warning\">\n",
    "\n",
    "**Warning:** \n",
    "Downloading all PDBs takes a while, since they are also parsed for metadata. You can skip this step and just set representative structures below if you want to minimize the number of PDBs downloaded.\n",
    "\n",
    "</div>"
   ]
  },
  {
   "cell_type": "code",
   "execution_count": 20,
   "metadata": {},
   "outputs": [
    {
     "data": {
      "application/vnd.jupyter.widget-view+json": {
       "model_id": "af6ae183309c4f2286f0bdf9407b935c"
      }
     },
     "metadata": {},
     "output_type": "display_data"
    },
    {
     "name": "stderr",
     "output_type": "stream",
     "text": [
      "[2017-08-30 19:01] [ssbio.pipeline.gempro] INFO: Updated PDB metadata dataframe. See the \"df_pdb_metadata\" attribute for a summary dataframe.\n",
      "[2017-08-30 19:01] [ssbio.pipeline.gempro] INFO: Saved 1 structures total\n"
     ]
    },
    {
     "name": "stdout",
     "output_type": "stream",
     "text": [
      "\n"
     ]
    },
    {
     "data": {
      "text/html": [
       "<div>\n",
       "<style>\n",
       "    .dataframe thead tr:only-child th {\n",
       "        text-align: right;\n",
       "    }\n",
       "\n",
       "    .dataframe thead th {\n",
       "        text-align: left;\n",
       "    }\n",
       "\n",
       "    .dataframe tbody tr th {\n",
       "        vertical-align: top;\n",
       "    }\n",
       "</style>\n",
       "<table border=\"1\" class=\"dataframe\">\n",
       "  <thead>\n",
       "    <tr style=\"text-align: right;\">\n",
       "      <th></th>\n",
       "      <th>pdb_id</th>\n",
       "      <th>pdb_title</th>\n",
       "      <th>description</th>\n",
       "      <th>experimental_method</th>\n",
       "      <th>mapped_chains</th>\n",
       "      <th>resolution</th>\n",
       "      <th>chemicals</th>\n",
       "      <th>taxonomy_name</th>\n",
       "      <th>structure_file</th>\n",
       "    </tr>\n",
       "    <tr>\n",
       "      <th>gene</th>\n",
       "      <th></th>\n",
       "      <th></th>\n",
       "      <th></th>\n",
       "      <th></th>\n",
       "      <th></th>\n",
       "      <th></th>\n",
       "      <th></th>\n",
       "      <th></th>\n",
       "      <th></th>\n",
       "    </tr>\n",
       "  </thead>\n",
       "  <tbody>\n",
       "    <tr>\n",
       "      <th>b0118</th>\n",
       "      <td>1l5j</td>\n",
       "      <td>CRYSTAL STRUCTURE OF E. COLI ACONITASE B.</td>\n",
       "      <td>Aconitate hydratase 2 (E.C.4.2.1.3)</td>\n",
       "      <td>X-ray diffraction</td>\n",
       "      <td>A;B</td>\n",
       "      <td>2.4</td>\n",
       "      <td>F3S;TRA</td>\n",
       "      <td>Escherichia coli</td>\n",
       "      <td>1l5j.pdb</td>\n",
       "    </tr>\n",
       "  </tbody>\n",
       "</table>\n",
       "</div>"
      ],
      "text/plain": [
       "      pdb_id                                  pdb_title  \\\n",
       "gene                                                      \n",
       "b0118   1l5j  CRYSTAL STRUCTURE OF E. COLI ACONITASE B.   \n",
       "\n",
       "                               description experimental_method mapped_chains  \\\n",
       "gene                                                                           \n",
       "b0118  Aconitate hydratase 2 (E.C.4.2.1.3)   X-ray diffraction           A;B   \n",
       "\n",
       "       resolution chemicals     taxonomy_name structure_file  \n",
       "gene                                                          \n",
       "b0118         2.4   F3S;TRA  Escherichia coli       1l5j.pdb  "
      ]
     },
     "execution_count": 20,
     "metadata": {},
     "output_type": "execute_result"
    }
   ],
   "source": [
    "# Download all mapped PDBs and gather the metadata\n",
    "my_gempro.pdb_downloader_and_metadata()\n",
    "my_gempro.df_pdb_metadata.head(2)"
   ]
  },
  {
   "cell_type": "raw",
   "metadata": {
    "raw_mimetype": "text/restructuredtext"
   },
   "source": [
    ".. automethod:: ssbio.pipeline.gempro.GEMPRO.set_representative_structure\n",
    "    :noindex:"
   ]
  },
  {
   "cell_type": "code",
   "execution_count": 21,
   "metadata": {},
   "outputs": [
    {
     "data": {
      "application/vnd.jupyter.widget-view+json": {
       "model_id": "f08a395d6cfb4ce7a0a38b15bb2ac954"
      }
     },
     "metadata": {},
     "output_type": "display_data"
    },
    {
     "name": "stderr",
     "output_type": "stream",
     "text": [
      "[2017-08-30 19:01] [ssbio.pipeline.gempro] INFO: 2/2: number of genes with a representative structure\n",
      "[2017-08-30 19:01] [ssbio.pipeline.gempro] INFO: See the \"df_representative_structures\" attribute for a summary dataframe.\n"
     ]
    },
    {
     "name": "stdout",
     "output_type": "stream",
     "text": [
      "\n"
     ]
    },
    {
     "data": {
      "text/html": [
       "<div>\n",
       "<style>\n",
       "    .dataframe thead tr:only-child th {\n",
       "        text-align: right;\n",
       "    }\n",
       "\n",
       "    .dataframe thead th {\n",
       "        text-align: left;\n",
       "    }\n",
       "\n",
       "    .dataframe tbody tr th {\n",
       "        vertical-align: top;\n",
       "    }\n",
       "</style>\n",
       "<table border=\"1\" class=\"dataframe\">\n",
       "  <thead>\n",
       "    <tr style=\"text-align: right;\">\n",
       "      <th></th>\n",
       "      <th>id</th>\n",
       "      <th>is_experimental</th>\n",
       "      <th>file_type</th>\n",
       "      <th>structure_file</th>\n",
       "    </tr>\n",
       "    <tr>\n",
       "      <th>gene</th>\n",
       "      <th></th>\n",
       "      <th></th>\n",
       "      <th></th>\n",
       "      <th></th>\n",
       "    </tr>\n",
       "  </thead>\n",
       "  <tbody>\n",
       "    <tr>\n",
       "      <th>b0118</th>\n",
       "      <td>1l5j-A</td>\n",
       "      <td>True</td>\n",
       "      <td>pdb</td>\n",
       "      <td>1l5j-A_clean.pdb</td>\n",
       "    </tr>\n",
       "    <tr>\n",
       "      <th>b1276</th>\n",
       "      <td>ACON1_ECOLI-X</td>\n",
       "      <td>False</td>\n",
       "      <td>pdb</td>\n",
       "      <td>ACON1_ECOLI_model1_clean-X_clean.pdb</td>\n",
       "    </tr>\n",
       "  </tbody>\n",
       "</table>\n",
       "</div>"
      ],
      "text/plain": [
       "                  id  is_experimental file_type  \\\n",
       "gene                                              \n",
       "b0118         1l5j-A             True       pdb   \n",
       "b1276  ACON1_ECOLI-X            False       pdb   \n",
       "\n",
       "                             structure_file  \n",
       "gene                                         \n",
       "b0118                      1l5j-A_clean.pdb  \n",
       "b1276  ACON1_ECOLI_model1_clean-X_clean.pdb  "
      ]
     },
     "execution_count": 21,
     "metadata": {},
     "output_type": "execute_result"
    }
   ],
   "source": [
    "# Set representative structures\n",
    "my_gempro.set_representative_structure()\n",
    "my_gempro.df_representative_structures.head()"
   ]
  },
  {
   "cell_type": "markdown",
   "metadata": {},
   "source": [
    "### Computing sequence and structure properties"
   ]
  },
  {
   "cell_type": "raw",
   "metadata": {
    "raw_mimetype": "text/restructuredtext"
   },
   "source": [
    ".. automethod:: ssbio.pipeline.gempro.GEMPRO.get_sequence_properties\n",
    "    :noindex:"
   ]
  },
  {
   "cell_type": "code",
   "execution_count": 22,
   "metadata": {},
   "outputs": [
    {
     "data": {
      "application/vnd.jupyter.widget-view+json": {
       "model_id": "cec6497dadf247b9afcd3c1233b9dc05"
      }
     },
     "metadata": {},
     "output_type": "display_data"
    },
    {
     "name": "stdout",
     "output_type": "stream",
     "text": [
      "\n"
     ]
    }
   ],
   "source": [
    "# Requires EMBOSS \"pepstats\" program\n",
    "# See the ssbio wiki for more information: https://github.com/SBRG/ssbio/wiki/Software-Installations\n",
    "# Install using:\n",
    "# sudo apt-get install emboss\n",
    "my_gempro.get_sequence_properties()"
   ]
  },
  {
   "cell_type": "raw",
   "metadata": {
    "raw_mimetype": "text/restructuredtext"
   },
   "source": [
    ".. automethod:: ssbio.pipeline.gempro.GEMPRO.get_scratch_predictions\n",
    "    :noindex:"
   ]
  },
  {
   "cell_type": "code",
   "execution_count": 18,
   "metadata": {},
   "outputs": [
    {
     "name": "stderr",
     "output_type": "stream",
     "text": [
      "[2017-08-29 17:00] [ssbio.pipeline.gempro] INFO: /tmp/ssbio_protein_properties/data/ssbio_protein_properties_cds.faa: wrote all representative sequences to file\n"
     ]
    },
    {
     "data": {
      "application/vnd.jupyter.widget-view+json": {
       "model_id": "408b652d6b454e03bc2e0590f325ce76"
      }
     },
     "metadata": {},
     "output_type": "display_data"
    },
    {
     "name": "stderr",
     "output_type": "stream",
     "text": [
      "[2017-08-29 17:00] [ssbio.pipeline.gempro] INFO: 2/2: number of genes with SCRATCH predictions loaded\n"
     ]
    },
    {
     "name": "stdout",
     "output_type": "stream",
     "text": [
      "\n"
     ]
    }
   ],
   "source": [
    "# Requires SCRATCH installation, replace path_to_scratch with own path to script\n",
    "# See the ssbio wiki for more information: https://github.com/SBRG/ssbio/wiki/Software-Installations\n",
    "my_gempro.get_scratch_predictions(path_to_scratch='/home/nathan/software/SCRATCH-1D_1.1/bin/run_SCRATCH-1D_predictors.sh', results_dir=my_gempro.data_dir)"
   ]
  },
  {
   "cell_type": "raw",
   "metadata": {
    "raw_mimetype": "text/restructuredtext"
   },
   "source": [
    ".. automethod:: ssbio.pipeline.gempro.GEMPRO.get_disulfide_bridges\n",
    "    :noindex:"
   ]
  },
  {
   "cell_type": "code",
   "execution_count": 19,
   "metadata": {},
   "outputs": [
    {
     "data": {
      "application/vnd.jupyter.widget-view+json": {
       "model_id": "95f1370b44444dcba47db00057c13042"
      }
     },
     "metadata": {},
     "output_type": "display_data"
    },
    {
     "name": "stdout",
     "output_type": "stream",
     "text": [
      "\n"
     ]
    }
   ],
   "source": [
    "my_gempro.get_disulfide_bridges()"
   ]
  },
  {
   "cell_type": "raw",
   "metadata": {
    "raw_mimetype": "text/restructuredtext"
   },
   "source": [
    ".. automethod:: ssbio.pipeline.gempro.GEMPRO.get_dssp_annotations\n",
    "    :noindex:"
   ]
  },
  {
   "cell_type": "code",
   "execution_count": 20,
   "metadata": {},
   "outputs": [
    {
     "data": {
      "application/vnd.jupyter.widget-view+json": {
       "model_id": "0671f486574e45499349de3819358a11"
      }
     },
     "metadata": {},
     "output_type": "display_data"
    },
    {
     "name": "stdout",
     "output_type": "stream",
     "text": [
      "\n"
     ]
    }
   ],
   "source": [
    "# Requires DSSP installation\n",
    "# See the ssbio wiki for more information: https://github.com/SBRG/ssbio/wiki/Software-Installations\n",
    "my_gempro.get_dssp_annotations()"
   ]
  },
  {
   "cell_type": "raw",
   "metadata": {
    "raw_mimetype": "text/restructuredtext"
   },
   "source": [
    ".. automethod:: ssbio.pipeline.gempro.GEMPRO.get_msms_annotations\n",
    "    :noindex:"
   ]
  },
  {
   "cell_type": "code",
   "execution_count": 21,
   "metadata": {},
   "outputs": [
    {
     "data": {
      "application/vnd.jupyter.widget-view+json": {
       "model_id": "e1cc8b31b0bd418aae5bf70ee7b762c7"
      }
     },
     "metadata": {},
     "output_type": "display_data"
    },
    {
     "name": "stdout",
     "output_type": "stream",
     "text": [
      "\n"
     ]
    }
   ],
   "source": [
    "# Requires MSMS installation\n",
    "# See the ssbio wiki for more information: https://github.com/SBRG/ssbio/wiki/Software-Installations\n",
    "my_gempro.get_msms_annotations()"
   ]
  },
  {
   "cell_type": "markdown",
   "metadata": {},
   "source": [
    "### Extracting residue-level properties for a list of residue numbers"
   ]
  },
  {
   "cell_type": "code",
   "execution_count": 22,
   "metadata": {
    "collapsed": true
   },
   "outputs": [],
   "source": [
    "from Bio.SeqFeature import SeqFeature, FeatureLocation"
   ]
  },
  {
   "cell_type": "markdown",
   "metadata": {},
   "source": [
    "##### Looking at one protein"
   ]
  },
  {
   "cell_type": "code",
   "execution_count": 23,
   "metadata": {
    "collapsed": true
   },
   "outputs": [],
   "source": [
    "my_protein = my_gempro.genes.b0118.protein"
   ]
  },
  {
   "cell_type": "code",
   "execution_count": 24,
   "metadata": {},
   "outputs": [
    {
     "data": {
      "text/plain": [
       "[SeqFeature(FeatureLocation(ExactPosition(0), ExactPosition(865)), type='chain', id='PRO_0000076675'),\n",
       " SeqFeature(FeatureLocation(ExactPosition(243), ExactPosition(246)), type='region of interest'),\n",
       " SeqFeature(FeatureLocation(ExactPosition(413), ExactPosition(416)), type='region of interest'),\n",
       " SeqFeature(FeatureLocation(ExactPosition(709), ExactPosition(710)), type='metal ion-binding site'),\n",
       " SeqFeature(FeatureLocation(ExactPosition(768), ExactPosition(769)), type='metal ion-binding site'),\n",
       " SeqFeature(FeatureLocation(ExactPosition(771), ExactPosition(772)), type='metal ion-binding site'),\n",
       " SeqFeature(FeatureLocation(ExactPosition(190), ExactPosition(191)), type='binding site'),\n",
       " SeqFeature(FeatureLocation(ExactPosition(497), ExactPosition(498)), type='binding site'),\n",
       " SeqFeature(FeatureLocation(ExactPosition(790), ExactPosition(791)), type='binding site'),\n",
       " SeqFeature(FeatureLocation(ExactPosition(795), ExactPosition(796)), type='binding site'),\n",
       " SeqFeature(FeatureLocation(ExactPosition(768), ExactPosition(769)), type='mutagenesis site'),\n",
       " SeqFeature(FeatureLocation(ExactPosition(1), ExactPosition(14)), type='helix'),\n",
       " SeqFeature(FeatureLocation(ExactPosition(23), ExactPosition(35)), type='helix'),\n",
       " SeqFeature(FeatureLocation(ExactPosition(41), ExactPosition(51)), type='helix'),\n",
       " SeqFeature(FeatureLocation(ExactPosition(58), ExactPosition(72)), type='helix'),\n",
       " SeqFeature(FeatureLocation(ExactPosition(82), ExactPosition(90)), type='helix'),\n",
       " SeqFeature(FeatureLocation(ExactPosition(98), ExactPosition(104)), type='helix'),\n",
       " SeqFeature(FeatureLocation(ExactPosition(104), ExactPosition(107)), type='helix'),\n",
       " SeqFeature(FeatureLocation(ExactPosition(108), ExactPosition(111)), type='turn'),\n",
       " SeqFeature(FeatureLocation(ExactPosition(111), ExactPosition(120)), type='helix'),\n",
       " SeqFeature(FeatureLocation(ExactPosition(127), ExactPosition(137)), type='helix'),\n",
       " SeqFeature(FeatureLocation(ExactPosition(140), ExactPosition(151)), type='helix'),\n",
       " SeqFeature(FeatureLocation(ExactPosition(153), ExactPosition(157)), type='helix'),\n",
       " SeqFeature(FeatureLocation(ExactPosition(165), ExactPosition(178)), type='strand'),\n",
       " SeqFeature(FeatureLocation(ExactPosition(178), ExactPosition(182)), type='helix'),\n",
       " SeqFeature(FeatureLocation(ExactPosition(184), ExactPosition(190)), type='helix'),\n",
       " SeqFeature(FeatureLocation(ExactPosition(193), ExactPosition(197)), type='helix'),\n",
       " SeqFeature(FeatureLocation(ExactPosition(197), ExactPosition(200)), type='helix'),\n",
       " SeqFeature(FeatureLocation(ExactPosition(213), ExactPosition(216)), type='turn'),\n",
       " SeqFeature(FeatureLocation(ExactPosition(219), ExactPosition(227)), type='helix'),\n",
       " SeqFeature(FeatureLocation(ExactPosition(232), ExactPosition(243)), type='strand'),\n",
       " SeqFeature(FeatureLocation(ExactPosition(247), ExactPosition(257)), type='helix'),\n",
       " SeqFeature(FeatureLocation(ExactPosition(257), ExactPosition(261)), type='strand'),\n",
       " SeqFeature(FeatureLocation(ExactPosition(263), ExactPosition(269)), type='strand'),\n",
       " SeqFeature(FeatureLocation(ExactPosition(271), ExactPosition(278)), type='strand'),\n",
       " SeqFeature(FeatureLocation(ExactPosition(279), ExactPosition(288)), type='helix'),\n",
       " SeqFeature(FeatureLocation(ExactPosition(291), ExactPosition(295)), type='strand'),\n",
       " SeqFeature(FeatureLocation(ExactPosition(305), ExactPosition(310)), type='strand'),\n",
       " SeqFeature(FeatureLocation(ExactPosition(310), ExactPosition(314)), type='turn'),\n",
       " SeqFeature(FeatureLocation(ExactPosition(314), ExactPosition(318)), type='strand'),\n",
       " SeqFeature(FeatureLocation(ExactPosition(318), ExactPosition(321)), type='turn'),\n",
       " SeqFeature(FeatureLocation(ExactPosition(323), ExactPosition(327)), type='strand'),\n",
       " SeqFeature(FeatureLocation(ExactPosition(333), ExactPosition(341)), type='helix'),\n",
       " SeqFeature(FeatureLocation(ExactPosition(343), ExactPosition(360)), type='helix'),\n",
       " SeqFeature(FeatureLocation(ExactPosition(383), ExactPosition(391)), type='helix'),\n",
       " SeqFeature(FeatureLocation(ExactPosition(391), ExactPosition(394)), type='turn'),\n",
       " SeqFeature(FeatureLocation(ExactPosition(408), ExactPosition(413)), type='strand'),\n",
       " SeqFeature(FeatureLocation(ExactPosition(414), ExactPosition(417)), type='turn'),\n",
       " SeqFeature(FeatureLocation(ExactPosition(417), ExactPosition(427)), type='helix'),\n",
       " SeqFeature(FeatureLocation(ExactPosition(437), ExactPosition(440)), type='strand'),\n",
       " SeqFeature(FeatureLocation(ExactPosition(443), ExactPosition(448)), type='strand'),\n",
       " SeqFeature(FeatureLocation(ExactPosition(450), ExactPosition(465)), type='helix'),\n",
       " SeqFeature(FeatureLocation(ExactPosition(465), ExactPosition(468)), type='turn'),\n",
       " SeqFeature(FeatureLocation(ExactPosition(478), ExactPosition(483)), type='helix'),\n",
       " SeqFeature(FeatureLocation(ExactPosition(483), ExactPosition(486)), type='helix'),\n",
       " SeqFeature(FeatureLocation(ExactPosition(491), ExactPosition(497)), type='strand'),\n",
       " SeqFeature(FeatureLocation(ExactPosition(502), ExactPosition(507)), type='strand'),\n",
       " SeqFeature(FeatureLocation(ExactPosition(511), ExactPosition(521)), type='helix'),\n",
       " SeqFeature(FeatureLocation(ExactPosition(530), ExactPosition(538)), type='strand'),\n",
       " SeqFeature(FeatureLocation(ExactPosition(545), ExactPosition(559)), type='helix'),\n",
       " SeqFeature(FeatureLocation(ExactPosition(572), ExactPosition(576)), type='turn'),\n",
       " SeqFeature(FeatureLocation(ExactPosition(576), ExactPosition(583)), type='strand'),\n",
       " SeqFeature(FeatureLocation(ExactPosition(588), ExactPosition(597)), type='helix'),\n",
       " SeqFeature(FeatureLocation(ExactPosition(597), ExactPosition(600)), type='helix'),\n",
       " SeqFeature(FeatureLocation(ExactPosition(600), ExactPosition(603)), type='turn'),\n",
       " SeqFeature(FeatureLocation(ExactPosition(604), ExactPosition(609)), type='strand'),\n",
       " SeqFeature(FeatureLocation(ExactPosition(612), ExactPosition(632)), type='helix'),\n",
       " SeqFeature(FeatureLocation(ExactPosition(637), ExactPosition(653)), type='helix'),\n",
       " SeqFeature(FeatureLocation(ExactPosition(666), ExactPosition(673)), type='strand'),\n",
       " SeqFeature(FeatureLocation(ExactPosition(673), ExactPosition(676)), type='helix'),\n",
       " SeqFeature(FeatureLocation(ExactPosition(680), ExactPosition(683)), type='strand'),\n",
       " SeqFeature(FeatureLocation(ExactPosition(690), ExactPosition(693)), type='strand'),\n",
       " SeqFeature(FeatureLocation(ExactPosition(693), ExactPosition(696)), type='helix'),\n",
       " SeqFeature(FeatureLocation(ExactPosition(696), ExactPosition(699)), type='turn'),\n",
       " SeqFeature(FeatureLocation(ExactPosition(703), ExactPosition(707)), type='strand'),\n",
       " SeqFeature(FeatureLocation(ExactPosition(713), ExactPosition(726)), type='helix'),\n",
       " SeqFeature(FeatureLocation(ExactPosition(731), ExactPosition(737)), type='strand'),\n",
       " SeqFeature(FeatureLocation(ExactPosition(741), ExactPosition(750)), type='helix'),\n",
       " SeqFeature(FeatureLocation(ExactPosition(752), ExactPosition(760)), type='helix'),\n",
       " SeqFeature(FeatureLocation(ExactPosition(769), ExactPosition(772)), type='helix'),\n",
       " SeqFeature(FeatureLocation(ExactPosition(774), ExactPosition(777)), type='strand'),\n",
       " SeqFeature(FeatureLocation(ExactPosition(783), ExactPosition(790)), type='strand'),\n",
       " SeqFeature(FeatureLocation(ExactPosition(795), ExactPosition(798)), type='strand'),\n",
       " SeqFeature(FeatureLocation(ExactPosition(801), ExactPosition(805)), type='strand'),\n",
       " SeqFeature(FeatureLocation(ExactPosition(807), ExactPosition(817)), type='helix'),\n",
       " SeqFeature(FeatureLocation(ExactPosition(822), ExactPosition(834)), type='helix'),\n",
       " SeqFeature(FeatureLocation(ExactPosition(836), ExactPosition(840)), type='helix'),\n",
       " SeqFeature(FeatureLocation(ExactPosition(845), ExactPosition(848)), type='helix'),\n",
       " SeqFeature(FeatureLocation(ExactPosition(849), ExactPosition(857)), type='helix')]"
      ]
     },
     "execution_count": 24,
     "metadata": {},
     "output_type": "execute_result"
    }
   ],
   "source": [
    "# Here are the features stored for the sequence, parsed from UniProt\n",
    "my_protein.representative_sequence.seq_record.features"
   ]
  },
  {
   "cell_type": "code",
   "execution_count": 25,
   "metadata": {},
   "outputs": [
    {
     "data": {
      "text/plain": [
       "dict_keys(['P36683_1l5j-B_chain_index', 'P36683_1l5j-A_chain_index', 'SS-sspro', 'RSA-accpro20', 'RSA-accpro', 'SS-sspro8'])"
      ]
     },
     "execution_count": 25,
     "metadata": {},
     "output_type": "execute_result"
    }
   ],
   "source": [
    "my_protein.representative_sequence.letter_annotations.keys()"
   ]
  },
  {
   "cell_type": "code",
   "execution_count": 26,
   "metadata": {},
   "outputs": [
    {
     "name": "stdout",
     "output_type": "stream",
     "text": [
      "{}\n",
      "{}\n",
      "seq_resnum: 1 <class 'int'>\n",
      "seq_residue M M <class 'Bio.Seq.Seq'>\n"
     ]
    },
    {
     "ename": "KeyError",
     "evalue": "'P36683_1l5j-A-A_chain_index: structure mapping P36683_1l5j-A-A not available in sequence letter annotations. Was alignment parsed? Run ``align_seqprop_to_structprop`` with ``parse=True``.'",
     "output_type": "error",
     "traceback": [
      "\u001b[0;31m---------------------------------------------------------------------------\u001b[0m",
      "\u001b[0;31mKeyError\u001b[0m                                  Traceback (most recent call last)",
      "\u001b[0;32m<ipython-input-26-937cd5d9be7f>\u001b[0m in \u001b[0;36m<module>\u001b[0;34m()\u001b[0m\n\u001b[0;32m----> 1\u001b[0;31m \u001b[0mmy_protein\u001b[0m\u001b[0;34m.\u001b[0m\u001b[0mget_residue_annotations\u001b[0m\u001b[0;34m(\u001b[0m\u001b[0;36m1\u001b[0m\u001b[0;34m,\u001b[0m \u001b[0muse_representatives\u001b[0m\u001b[0;34m=\u001b[0m\u001b[0;32mTrue\u001b[0m\u001b[0;34m)\u001b[0m\u001b[0;34m\u001b[0m\u001b[0m\n\u001b[0m",
      "\u001b[0;32m/mnt/projects/ssbio/ssbio/core/protein.py\u001b[0m in \u001b[0;36mget_residue_annotations\u001b[0;34m(self, seq_resnum, seq_id, struct_id, struct_chain_id, use_representatives)\u001b[0m\n\u001b[1;32m   1776\u001b[0m                                                                                      \u001b[0mseqprop\u001b[0m\u001b[0;34m=\u001b[0m\u001b[0mseq\u001b[0m\u001b[0;34m,\u001b[0m\u001b[0;34m\u001b[0m\u001b[0m\n\u001b[1;32m   1777\u001b[0m                                                                                      \u001b[0mstructprop\u001b[0m\u001b[0;34m=\u001b[0m\u001b[0mstruct\u001b[0m\u001b[0;34m,\u001b[0m\u001b[0;34m\u001b[0m\u001b[0m\n\u001b[0;32m-> 1778\u001b[0;31m                                                                                      chain_id=chain_id)\n\u001b[0m\u001b[1;32m   1779\u001b[0m \u001b[0;34m\u001b[0m\u001b[0m\n\u001b[1;32m   1780\u001b[0m         \u001b[0;31m# Try finding the residue in the structure\u001b[0m\u001b[0;34m\u001b[0m\u001b[0;34m\u001b[0m\u001b[0m\n",
      "\u001b[0;32m/mnt/projects/ssbio/ssbio/core/protein.py\u001b[0m in \u001b[0;36mmap_seqprop_resnums_to_structprop_resnums\u001b[0;34m(self, resnums, seqprop, structprop, chain_id, use_representatives)\u001b[0m\n\u001b[1;32m   1268\u001b[0m                                                                                        \u001b[0mstructprop\u001b[0m\u001b[0;34m=\u001b[0m\u001b[0mstructprop\u001b[0m\u001b[0;34m,\u001b[0m\u001b[0;34m\u001b[0m\u001b[0m\n\u001b[1;32m   1269\u001b[0m                                                                                        \u001b[0mchain_id\u001b[0m\u001b[0;34m=\u001b[0m\u001b[0mchain_id\u001b[0m\u001b[0;34m,\u001b[0m\u001b[0;34m\u001b[0m\u001b[0m\n\u001b[0;32m-> 1270\u001b[0;31m                                                                                        use_representatives=use_representatives)\n\u001b[0m\u001b[1;32m   1271\u001b[0m \u001b[0;34m\u001b[0m\u001b[0m\n\u001b[1;32m   1272\u001b[0m         \u001b[0mchain\u001b[0m \u001b[0;34m=\u001b[0m \u001b[0mstructprop\u001b[0m\u001b[0;34m.\u001b[0m\u001b[0mchains\u001b[0m\u001b[0;34m.\u001b[0m\u001b[0mget_by_id\u001b[0m\u001b[0;34m(\u001b[0m\u001b[0mchain_id\u001b[0m\u001b[0;34m)\u001b[0m\u001b[0;34m\u001b[0m\u001b[0m\n",
      "\u001b[0;32m/mnt/projects/ssbio/ssbio/core/protein.py\u001b[0m in \u001b[0;36mmap_seqprop_resnums_to_structprop_chain_index\u001b[0;34m(self, resnums, seqprop, structprop, chain_id, use_representatives)\u001b[0m\n\u001b[1;32m   1222\u001b[0m         \u001b[0;32mif\u001b[0m \u001b[0maccess_key\u001b[0m \u001b[0;32mnot\u001b[0m \u001b[0;32min\u001b[0m \u001b[0mseqprop\u001b[0m\u001b[0;34m.\u001b[0m\u001b[0mletter_annotations\u001b[0m\u001b[0;34m:\u001b[0m\u001b[0;34m\u001b[0m\u001b[0m\n\u001b[1;32m   1223\u001b[0m             raise KeyError('{}: structure mapping {} not available in sequence letter annotations. Was alignment parsed? '\n\u001b[0;32m-> 1224\u001b[0;31m                            'Run ``align_seqprop_to_structprop`` with ``parse=True``.'.format(access_key, aln_id))\n\u001b[0m\u001b[1;32m   1225\u001b[0m         \u001b[0mchain_index_mapping\u001b[0m \u001b[0;34m=\u001b[0m \u001b[0mseqprop\u001b[0m\u001b[0;34m.\u001b[0m\u001b[0mletter_annotations\u001b[0m\u001b[0;34m[\u001b[0m\u001b[0maccess_key\u001b[0m\u001b[0;34m]\u001b[0m\u001b[0;34m\u001b[0m\u001b[0m\n\u001b[1;32m   1226\u001b[0m \u001b[0;34m\u001b[0m\u001b[0m\n",
      "\u001b[0;31mKeyError\u001b[0m: 'P36683_1l5j-A-A_chain_index: structure mapping P36683_1l5j-A-A not available in sequence letter annotations. Was alignment parsed? Run ``align_seqprop_to_structprop`` with ``parse=True``.'"
     ]
    }
   ],
   "source": [
    "my_protein.get_residue_annotations(1, use_representatives=True)"
   ]
  },
  {
   "cell_type": "code",
   "execution_count": 26,
   "metadata": {},
   "outputs": [
    {
     "data": {
      "text/plain": [
       "[<ChainProp A at 0x7f3969fb9128>]"
      ]
     },
     "execution_count": 26,
     "metadata": {},
     "output_type": "execute_result"
    }
   ],
   "source": [
    "my_protein.representative_structure.chains"
   ]
  },
  {
   "cell_type": "code",
   "execution_count": 37,
   "metadata": {},
   "outputs": [
    {
     "data": {
      "text/plain": [
       "{'accessions': ['P36683', 'P36648', 'P75652', 'Q59382'],\n",
       " 'alternativeName_ecNumber': ['4.2.1.99'],\n",
       " 'alternativeName_fullName': ['(2R,3S)-2-methylisocitrate dehydratase',\n",
       "  '(2S,3R)-3-hydroxybutane-1,2,3-tricarboxylate dehydratase',\n",
       "  '2-methyl-cis-aconitate hydratase',\n",
       "  'Iron-responsive protein-like',\n",
       "  'RNA-binding protein'],\n",
       " 'alternativeName_shortName': ['IRP-like'],\n",
       " 'comment_biophysicochemicalproperties': ['Optimum pH is 7.4.'],\n",
       " 'comment_catalyticactivity': ['Citrate = isocitrate.',\n",
       "  '(2S,3R)-3-hydroxybutane-1,2,3-tricarboxylate = (Z)-but-2-ene-1,2,3-tricarboxylate + H(2)O.'],\n",
       " 'comment_cofactor': ['Binds 1 [4Fe-4S] cluster per subunit.'],\n",
       " 'comment_disruptionphenotype': ['Cells lacking this gene are more sensitive to peroxide stress. The acnAB double mutant does not grow on unsupplemented glucose minimal medium and does not respond under aerobic conditions to glutamate. The acnAB double mutant retains a low but significant aconitase activity.'],\n",
       " 'comment_function': [\"Involved in the catabolism of short chain fatty acids (SCFA) via the tricarboxylic acid (TCA)(acetyl degradation route) and the 2-methylcitrate cycle I (propionate degradation route). Catalyzes the reversible isomerization of citrate to isocitrate via cis-aconitate. Also catalyzes the hydration of 2-methyl-cis-aconitate to yield (2R,3S)-2-methylisocitrate. The apo form of AcnB functions as a RNA-binding regulatory protein. During oxidative stress inactive AcnB apo-enzyme without iron sulfur clusters binds the acnB mRNA 3' UTRs (untranslated regions), stabilizes acnB mRNA and increases AcnB synthesis, thus mediating a post-transcriptional positive autoregulatory switch. AcnB also decreases the stability of the sodA transcript.\"],\n",
       " 'comment_miscellaneous': ['AcnB is sensitive to oxidation in vivo.'],\n",
       " 'comment_pathway': ['Organic acid metabolism; propanoate degradation.',\n",
       "  'Carbohydrate metabolism; tricarboxylic acid cycle; isocitrate from oxaloacetate: step 2/2.'],\n",
       " 'comment_similarity': ['Belongs to the aconitase/IPM isomerase family.'],\n",
       " 'comment_subunit': ['Monomer. AcnB can also form a homodimer. The monomer-homodimer transition is dependent on iron availability and the carboxymethylation of C-273 inhibits the dimer formation.'],\n",
       " 'created': '1994-06-01',\n",
       " 'dataset': 'Swiss-Prot',\n",
       " 'gene_name_ordered locus': ['b0118', 'JW0114'],\n",
       " 'gene_name_primary': 'acnB',\n",
       " 'gene_name_synonym': ['yacI', 'yacJ'],\n",
       " 'key': ['1',\n",
       "  '2',\n",
       "  '3',\n",
       "  '4',\n",
       "  '5',\n",
       "  '6',\n",
       "  '7',\n",
       "  '8',\n",
       "  '9',\n",
       "  '10',\n",
       "  '11',\n",
       "  '12',\n",
       "  '13',\n",
       "  '14',\n",
       "  '15',\n",
       "  '16'],\n",
       " 'keywords': ['3D-structure',\n",
       "  '4Fe-4S',\n",
       "  'Complete proteome',\n",
       "  'Direct protein sequencing',\n",
       "  'Iron',\n",
       "  'Iron-sulfur',\n",
       "  'Lyase',\n",
       "  'Metal-binding',\n",
       "  'Reference proteome',\n",
       "  'RNA-binding',\n",
       "  'Tricarboxylic acid cycle'],\n",
       " 'modified': '2017-03-15',\n",
       " 'organism': 'Escherichia coli (strain K12)',\n",
       " 'proteinExistence': ['evidence at protein level'],\n",
       " 'recommendedName_ecNumber': ['4.2.1.3'],\n",
       " 'recommendedName_fullName': ['Aconitate hydratase B'],\n",
       " 'recommendedName_shortName': ['ACN', 'Aconitase'],\n",
       " 'references': [Reference(title='Systematic sequencing of the Escherichia coli genome: analysis of the 2.4-4.1 min (110,917-193,643 bp) region.', ...),\n",
       "  Reference(title='The complete genome sequence of Escherichia coli K-12.', ...),\n",
       "  Reference(title='Highly accurate genome sequences of Escherichia coli K-12 strains MG1655 and W3110.', ...),\n",
       "  Reference(title='The second aconitase (AcnB) of Escherichia coli.', ...),\n",
       "  Reference(title='Comparing the predicted and observed properties of proteins encoded in the genome of Escherichia coli K-12.', ...),\n",
       "  Reference(title='Oxidation of propionate to pyruvate in Escherichia coli. Involvement of methylcitrate dehydratase and aconitase.', ...),\n",
       "  Reference(title='Biochemical and spectroscopic characterization of Escherichia coli aconitases (AcnA and AcnB).', ...),\n",
       "  Reference(title='Two genetically-distinct and differentially-regulated aconitases (AcnA and AcnB) in Escherichia coli.', ...),\n",
       "  Reference(title='Construction and properties of aconitase mutants of Escherichia coli.', ...),\n",
       "  Reference(title='Direct evidence for mRNA binding and post-transcriptional regulation by Escherichia coli aconitases.', ...),\n",
       "  Reference(title='Escherichia coli aconitases and oxidative stress: post-transcriptional regulation of sodA expression.', ...),\n",
       "  Reference(title='Switching aconitase B between catalytic and regulatory modes involves iron-dependent dimer formation.', ...),\n",
       "  Reference(title='E. coli aconitase B structure reveals a HEAT-like domain with implications for protein-protein recognition.', ...)],\n",
       " 'sequence_checksum': 'FEC8AA5D2A9DD2BD',\n",
       " 'sequence_length': 865,\n",
       " 'sequence_mass': 93498,\n",
       " 'sequence_modified': '1997-11-01',\n",
       " 'sequence_version': 3,\n",
       " 'taxonomy': ['Bacteria',\n",
       "  'Proteobacteria',\n",
       "  'Gammaproteobacteria',\n",
       "  'Enterobacterales',\n",
       "  'Enterobacteriaceae',\n",
       "  'Escherichia'],\n",
       " 'type': ['ECO:0000244', 'ECO:0000269', 'ECO:0000303', 'ECO:0000305'],\n",
       " 'version': 159}"
      ]
     },
     "execution_count": 37,
     "metadata": {},
     "output_type": "execute_result"
    }
   ],
   "source": [
    "my_protein.representative_sequence.seq_record.annotations"
   ]
  },
  {
   "cell_type": "code",
   "execution_count": 34,
   "metadata": {},
   "outputs": [
    {
     "name": "stdout",
     "output_type": "stream",
     "text": [
      "********GENE: b0118********\n",
      "type: metal ion-binding site\n",
      "location: [709:710]\n",
      "qualifiers:\n",
      "    Key: description, Value: Iron-sulfur (4Fe-4S)\n",
      "    Key: evidence, Value: 5\n",
      "    Key: type, Value: metal ion-binding site\n",
      "\n",
      "metal ion-binding site\n",
      "**Residue-level properties calculated or predicted from sequence:\n",
      "C\n",
      "{}\n"
     ]
    },
    {
     "ename": "NameError",
     "evalue": "name 'gene_info' is not defined",
     "output_type": "error",
     "traceback": [
      "\u001b[0;31m---------------------------------------------------------------------------\u001b[0m",
      "\u001b[0;31mNameError\u001b[0m                                 Traceback (most recent call last)",
      "\u001b[0;32m<ipython-input-34-b8e22af14079>\u001b[0m in \u001b[0;36m<module>\u001b[0;34m()\u001b[0m\n\u001b[1;32m     14\u001b[0m \u001b[0;31m#         gene_info['seq_resnum'] = f.location.end.position\u001b[0m\u001b[0;34m\u001b[0m\u001b[0;34m\u001b[0m\u001b[0m\n\u001b[1;32m     15\u001b[0m \u001b[0;31m#         gene_info['seq_residue'] = sr.seq\u001b[0m\u001b[0;34m\u001b[0m\u001b[0;34m\u001b[0m\u001b[0m\n\u001b[0;32m---> 16\u001b[0;31m         \u001b[0mgene_info\u001b[0m\u001b[0;34m.\u001b[0m\u001b[0mupdate\u001b[0m\u001b[0;34m(\u001b[0m\u001b[0msr\u001b[0m\u001b[0;34m.\u001b[0m\u001b[0mletter_annotations\u001b[0m\u001b[0;34m)\u001b[0m\u001b[0;34m\u001b[0m\u001b[0m\n\u001b[0m\u001b[1;32m     17\u001b[0m \u001b[0;34m\u001b[0m\u001b[0m\n\u001b[1;32m     18\u001b[0m         \u001b[0;31m# Get structure properties\u001b[0m\u001b[0;34m\u001b[0m\u001b[0;34m\u001b[0m\u001b[0m\n",
      "\u001b[0;31mNameError\u001b[0m: name 'gene_info' is not defined"
     ]
    }
   ],
   "source": [
    "print('********GENE: {}********'.format(my_gempro.genes.b0118.id))\n",
    "\n",
    "for f in my_protein.representative_sequence.seq_record.features:\n",
    "    if 'metal' in f.type.lower():\n",
    "        print(f)\n",
    "        print(f.type)\n",
    "\n",
    "        # Get sequence properties\n",
    "        sr = f.extract(my_protein.representative_sequence.seq_record)\n",
    "        print('**Residue-level properties calculated or predicted from sequence:')\n",
    "        print(sr.seq)\n",
    "        print(sr.letter_annotations)\n",
    "\n",
    "#         gene_info['seq_resnum'] = f.location.end.position\n",
    "#         gene_info['seq_residue'] = sr.seq\n",
    "        gene_info.update(sr.letter_annotations)\n",
    "\n",
    "        # Get structure properties\n",
    "        mapping_to_structure_index = my_protein.map_seqprop_resnums_to_structprop_chain_index(resnums=f.location.end.position,\n",
    "                                                                                     use_representatives=True)\n",
    "        new_f = SeqFeature(FeatureLocation(mapping_to_structure_index[f.location.end.position]-1, \n",
    "                                           mapping_to_structure_index[f.location.end.position]))\n",
    "        sr_st = new_f.extract(my_protein.representative_structure.representative_chain.seq_record)\n",
    "        print('**Residue-level properties calculated from structure:')\n",
    "        print(sr_st.seq)\n",
    "        print(sr_st.letter_annotations)\n",
    "        print('--------------------------------')\n",
    "\n",
    "        # Get structure residue numbers\n",
    "        mapping_to_structure_resnum = my_protein.map_seqprop_resnums_to_structprop_resnums(resnums=f.location.end.position,\n",
    "                                                                                  use_representatives=True)            \n",
    "#         gene_info['struct_resnum'] = mapping_to_structure_resnum[f.location.end.position]\n",
    "#         gene_info['struct_residue'] = sr_st.seq\n",
    "        gene_info.update(sr_st.letter_annotations)\n",
    "\n",
    "print('********************************')\n",
    "print()"
   ]
  },
  {
   "cell_type": "code",
   "execution_count": null,
   "metadata": {
    "collapsed": true
   },
   "outputs": [],
   "source": []
  },
  {
   "cell_type": "code",
   "execution_count": 34,
   "metadata": {},
   "outputs": [
    {
     "name": "stdout",
     "output_type": "stream",
     "text": [
      "********GENE: b1276********\n",
      "type: metal ion-binding site\n",
      "location: [434:435]\n",
      "qualifiers:\n",
      "    Key: description, Value: Iron-sulfur (4Fe-4S)\n",
      "    Key: evidence, Value: 1\n",
      "    Key: type, Value: metal ion-binding site\n",
      "\n",
      "**Residue-level properties calculated or predicted from sequence:\n",
      "C\n",
      "{}\n",
      "**Residue-level properties calculated from structure:\n",
      "S\n",
      "{'structure_resnums': [434], 'CA_DEPTH-msms': [1.999802354873969], 'PHI-dssp': [93.2], 'SS-dssp': ['-'], 'PSI-dssp': [133.0], 'RES_DEPTH-msms': [2.4908282495041347], 'ASA-dssp': [7.0], 'RSA-dssp': [0.05384615384615385]}\n",
      "--------------------------------\n",
      "type: metal ion-binding site\n",
      "location: [500:501]\n",
      "qualifiers:\n",
      "    Key: description, Value: Iron-sulfur (4Fe-4S)\n",
      "    Key: evidence, Value: 1\n",
      "    Key: type, Value: metal ion-binding site\n",
      "\n",
      "**Residue-level properties calculated or predicted from sequence:\n",
      "C\n",
      "{}\n",
      "**Residue-level properties calculated from structure:\n",
      "G\n",
      "{'structure_resnums': [500], 'CA_DEPTH-msms': [4.872765262426097], 'PHI-dssp': [-171.3], 'SS-dssp': ['S'], 'PSI-dssp': [-178.9], 'RES_DEPTH-msms': [4.508099124970176], 'ASA-dssp': [3.0], 'RSA-dssp': [0.03571428571428571]}\n",
      "--------------------------------\n",
      "type: metal ion-binding site\n",
      "location: [503:504]\n",
      "qualifiers:\n",
      "    Key: description, Value: Iron-sulfur (4Fe-4S)\n",
      "    Key: evidence, Value: 1\n",
      "    Key: type, Value: metal ion-binding site\n",
      "\n",
      "**Residue-level properties calculated or predicted from sequence:\n",
      "C\n",
      "{}\n",
      "**Residue-level properties calculated from structure:\n",
      "T\n",
      "{'structure_resnums': [503], 'CA_DEPTH-msms': [3.1546567153990472], 'PHI-dssp': [-64.7], 'SS-dssp': ['G'], 'PSI-dssp': [-34.6], 'RES_DEPTH-msms': [3.017741837993942], 'ASA-dssp': [3.0], 'RSA-dssp': [0.02112676056338028]}\n",
      "--------------------------------\n",
      "********************************\n",
      "\n",
      "********GENE: b0118********\n",
      "type: metal ion-binding site\n",
      "location: [709:710]\n",
      "qualifiers:\n",
      "    Key: description, Value: Iron-sulfur (4Fe-4S)\n",
      "    Key: evidence, Value: 5\n",
      "    Key: type, Value: metal ion-binding site\n",
      "\n",
      "**Residue-level properties calculated or predicted from sequence:\n",
      "C\n",
      "{}\n",
      "**Residue-level properties calculated from structure:\n",
      "S\n",
      "{'structure_resnums': [709], 'CA_DEPTH-msms': [10.02414716892187], 'PHI-dssp': [-109.6], 'SS-dssp': ['S'], 'PSI-dssp': [-172.4], 'RES_DEPTH-msms': [9.792794250431943], 'ASA-dssp': [2.0], 'RSA-dssp': [0.015384615384615384]}\n",
      "--------------------------------\n",
      "type: metal ion-binding site\n",
      "location: [768:769]\n",
      "qualifiers:\n",
      "    Key: description, Value: Iron-sulfur (4Fe-4S)\n",
      "    Key: evidence, Value: 5\n",
      "    Key: type, Value: metal ion-binding site\n",
      "\n",
      "**Residue-level properties calculated or predicted from sequence:\n",
      "C\n",
      "{}\n",
      "**Residue-level properties calculated from structure:\n",
      "G\n",
      "{'structure_resnums': [768], 'CA_DEPTH-msms': [6.680980525988339], 'PHI-dssp': [158.5], 'SS-dssp': ['S'], 'PSI-dssp': [-175.6], 'RES_DEPTH-msms': [6.497142417086094], 'ASA-dssp': [4.0], 'RSA-dssp': [0.047619047619047616]}\n",
      "--------------------------------\n",
      "type: metal ion-binding site\n",
      "location: [771:772]\n",
      "qualifiers:\n",
      "    Key: description, Value: Iron-sulfur (4Fe-4S)\n",
      "    Key: evidence, Value: 5\n",
      "    Key: type, Value: metal ion-binding site\n",
      "\n",
      "**Residue-level properties calculated or predicted from sequence:\n",
      "C\n",
      "{}\n",
      "**Residue-level properties calculated from structure:\n",
      "L\n",
      "{'structure_resnums': [771], 'CA_DEPTH-msms': [6.8059331457785985], 'PHI-dssp': [-52.6], 'SS-dssp': ['G'], 'PSI-dssp': [-24.8], 'RES_DEPTH-msms': [6.339283606143073], 'ASA-dssp': [1.0], 'RSA-dssp': [0.006097560975609756]}\n",
      "--------------------------------\n",
      "********************************\n",
      "\n"
     ]
    }
   ],
   "source": [
    "# Gathering properties for the metal binding sites\n",
    "\n",
    "metal_info = []\n",
    "\n",
    "for g in my_gempro.genes:\n",
    "    \n",
    "    \n",
    "    p = g.protein\n",
    "    print('********GENE: {}********'.format(g.id))\n",
    "    \n",
    "    \n",
    "    # Saving the structure residue numbering for visualization\n",
    "    metal_binding_structure_residues = []\n",
    "\n",
    "    for f in p.representative_sequence.seq_record.features:\n",
    "        if 'metal' in f.type.lower():\n",
    "            print(f)\n",
    "            gene_info = {}\n",
    "            gene_info['gene'] = g.id\n",
    "            gene_info['structure_id'] = g.protein.representative_structure.id\n",
    "            gene_info['feature'] = f.type\n",
    "\n",
    "            # Get sequence properties\n",
    "            sr = f.extract(p.representative_sequence.seq_record)\n",
    "            print('**Residue-level properties calculated or predicted from sequence:')\n",
    "            print(sr.seq)\n",
    "            print(sr.letter_annotations)\n",
    "            \n",
    "            gene_info['seq_resnum'] = f.location.end.position\n",
    "            gene_info['seq_residue'] = sr.seq\n",
    "            gene_info.update(sr.letter_annotations)\n",
    "\n",
    "            # Get structure properties\n",
    "            mapping_to_structure_index = p.map_seqprop_resnums_to_structprop_chain_index(resnums=f.location.end.position,\n",
    "                                                                                         use_representatives=True)\n",
    "            new_f = SeqFeature(FeatureLocation(mapping_to_structure_index[f.location.end.position]-1, \n",
    "                                               mapping_to_structure_index[f.location.end.position]))\n",
    "            sr_st = new_f.extract(p.representative_structure.representative_chain.seq_record)\n",
    "            print('**Residue-level properties calculated from structure:')\n",
    "            print(sr_st.seq)\n",
    "            print(sr_st.letter_annotations)\n",
    "            print('--------------------------------')\n",
    "\n",
    "            # Get structure residue numbers\n",
    "            mapping_to_structure_resnum = p.map_seqprop_resnums_to_structprop_resnums(resnums=f.location.end.position,\n",
    "                                                                                      use_representatives=True)            \n",
    "            gene_info['struct_resnum'] = mapping_to_structure_resnum[f.location.end.position]\n",
    "            gene_info['struct_residue'] = sr_st.seq\n",
    "            gene_info.update(sr_st.letter_annotations)\n",
    "            \n",
    "            metal_info.append(gene_info)\n",
    "    print('********************************')\n",
    "    print()"
   ]
  },
  {
   "cell_type": "code",
   "execution_count": 27,
   "metadata": {
    "collapsed": true
   },
   "outputs": [],
   "source": [
    "cols = ['gene', 'structure_id', 'feature', 'seq_residue', 'seq_resnum',\n",
    "        'struct_residue','struct_resnum', 'SS-sspro','SS-sspro8','RSA-accpro','RSA-accpro20','SS-dssp','RSA-dssp', 'ASA-dssp', \n",
    "        'PHI-dssp', 'PSI-dssp', 'CA_DEPTH-msms', 'RES_DEPTH-msms', 'structure_resnums']"
   ]
  },
  {
   "cell_type": "code",
   "execution_count": 28,
   "metadata": {},
   "outputs": [
    {
     "data": {
      "text/html": [
       "<div>\n",
       "<table border=\"1\" class=\"dataframe\">\n",
       "  <thead>\n",
       "    <tr style=\"text-align: right;\">\n",
       "      <th></th>\n",
       "      <th>gene</th>\n",
       "      <th>structure_id</th>\n",
       "      <th>feature</th>\n",
       "      <th>seq_residue</th>\n",
       "      <th>seq_resnum</th>\n",
       "      <th>struct_residue</th>\n",
       "      <th>struct_resnum</th>\n",
       "      <th>SS-sspro</th>\n",
       "      <th>SS-sspro8</th>\n",
       "      <th>RSA-accpro</th>\n",
       "      <th>RSA-accpro20</th>\n",
       "      <th>SS-dssp</th>\n",
       "      <th>RSA-dssp</th>\n",
       "      <th>ASA-dssp</th>\n",
       "      <th>PHI-dssp</th>\n",
       "      <th>PSI-dssp</th>\n",
       "      <th>CA_DEPTH-msms</th>\n",
       "      <th>RES_DEPTH-msms</th>\n",
       "      <th>structure_resnums</th>\n",
       "    </tr>\n",
       "  </thead>\n",
       "  <tbody>\n",
       "    <tr>\n",
       "      <th>0</th>\n",
       "      <td>b1276</td>\n",
       "      <td>ACON1_ECOLI-X</td>\n",
       "      <td>metal ion-binding site</td>\n",
       "      <td>(C)</td>\n",
       "      <td>435</td>\n",
       "      <td>(S)</td>\n",
       "      <td>( , 435,  )</td>\n",
       "      <td>H</td>\n",
       "      <td>H</td>\n",
       "      <td>-</td>\n",
       "      <td>[10]</td>\n",
       "      <td>[-]</td>\n",
       "      <td>[0.0538461538462]</td>\n",
       "      <td>[7.0]</td>\n",
       "      <td>[93.2]</td>\n",
       "      <td>[133.0]</td>\n",
       "      <td>[1.99980235487]</td>\n",
       "      <td>[2.4908282495]</td>\n",
       "      <td>[( , 434,  )]</td>\n",
       "    </tr>\n",
       "    <tr>\n",
       "      <th>1</th>\n",
       "      <td>b1276</td>\n",
       "      <td>ACON1_ECOLI-X</td>\n",
       "      <td>metal ion-binding site</td>\n",
       "      <td>(C)</td>\n",
       "      <td>501</td>\n",
       "      <td>(G)</td>\n",
       "      <td>( , 501,  )</td>\n",
       "      <td>C</td>\n",
       "      <td>C</td>\n",
       "      <td>-</td>\n",
       "      <td>[0]</td>\n",
       "      <td>[S]</td>\n",
       "      <td>[0.0357142857143]</td>\n",
       "      <td>[3.0]</td>\n",
       "      <td>[-171.3]</td>\n",
       "      <td>[-178.9]</td>\n",
       "      <td>[4.87276526243]</td>\n",
       "      <td>[4.50809912497]</td>\n",
       "      <td>[( , 500,  )]</td>\n",
       "    </tr>\n",
       "    <tr>\n",
       "      <th>2</th>\n",
       "      <td>b1276</td>\n",
       "      <td>ACON1_ECOLI-X</td>\n",
       "      <td>metal ion-binding site</td>\n",
       "      <td>(C)</td>\n",
       "      <td>504</td>\n",
       "      <td>(T)</td>\n",
       "      <td>( , 504,  )</td>\n",
       "      <td>H</td>\n",
       "      <td>G</td>\n",
       "      <td>-</td>\n",
       "      <td>[0]</td>\n",
       "      <td>[G]</td>\n",
       "      <td>[0.0211267605634]</td>\n",
       "      <td>[3.0]</td>\n",
       "      <td>[-64.7]</td>\n",
       "      <td>[-34.6]</td>\n",
       "      <td>[3.1546567154]</td>\n",
       "      <td>[3.01774183799]</td>\n",
       "      <td>[( , 503,  )]</td>\n",
       "    </tr>\n",
       "    <tr>\n",
       "      <th>3</th>\n",
       "      <td>b0118</td>\n",
       "      <td>1l5j-A</td>\n",
       "      <td>metal ion-binding site</td>\n",
       "      <td>(C)</td>\n",
       "      <td>710</td>\n",
       "      <td>(S)</td>\n",
       "      <td>( , 710,  )</td>\n",
       "      <td>C</td>\n",
       "      <td>T</td>\n",
       "      <td>-</td>\n",
       "      <td>[10]</td>\n",
       "      <td>[S]</td>\n",
       "      <td>[0.0153846153846]</td>\n",
       "      <td>[2.0]</td>\n",
       "      <td>[-109.6]</td>\n",
       "      <td>[-172.4]</td>\n",
       "      <td>[10.0241471689]</td>\n",
       "      <td>[9.79279425043]</td>\n",
       "      <td>[( , 709,  )]</td>\n",
       "    </tr>\n",
       "    <tr>\n",
       "      <th>4</th>\n",
       "      <td>b0118</td>\n",
       "      <td>1l5j-A</td>\n",
       "      <td>metal ion-binding site</td>\n",
       "      <td>(C)</td>\n",
       "      <td>769</td>\n",
       "      <td>(G)</td>\n",
       "      <td>( , 769,  )</td>\n",
       "      <td>C</td>\n",
       "      <td>C</td>\n",
       "      <td>-</td>\n",
       "      <td>[5]</td>\n",
       "      <td>[S]</td>\n",
       "      <td>[0.047619047619]</td>\n",
       "      <td>[4.0]</td>\n",
       "      <td>[158.5]</td>\n",
       "      <td>[-175.6]</td>\n",
       "      <td>[6.68098052599]</td>\n",
       "      <td>[6.49714241709]</td>\n",
       "      <td>[( , 768,  )]</td>\n",
       "    </tr>\n",
       "    <tr>\n",
       "      <th>5</th>\n",
       "      <td>b0118</td>\n",
       "      <td>1l5j-A</td>\n",
       "      <td>metal ion-binding site</td>\n",
       "      <td>(C)</td>\n",
       "      <td>772</td>\n",
       "      <td>(L)</td>\n",
       "      <td>( , 772,  )</td>\n",
       "      <td>H</td>\n",
       "      <td>G</td>\n",
       "      <td>-</td>\n",
       "      <td>[5]</td>\n",
       "      <td>[G]</td>\n",
       "      <td>[0.00609756097561]</td>\n",
       "      <td>[1.0]</td>\n",
       "      <td>[-52.6]</td>\n",
       "      <td>[-24.8]</td>\n",
       "      <td>[6.80593314578]</td>\n",
       "      <td>[6.33928360614]</td>\n",
       "      <td>[( , 771,  )]</td>\n",
       "    </tr>\n",
       "  </tbody>\n",
       "</table>\n",
       "</div>"
      ],
      "text/plain": [
       "    gene   structure_id                 feature seq_residue  seq_resnum  \\\n",
       "0  b1276  ACON1_ECOLI-X  metal ion-binding site         (C)         435   \n",
       "1  b1276  ACON1_ECOLI-X  metal ion-binding site         (C)         501   \n",
       "2  b1276  ACON1_ECOLI-X  metal ion-binding site         (C)         504   \n",
       "3  b0118         1l5j-A  metal ion-binding site         (C)         710   \n",
       "4  b0118         1l5j-A  metal ion-binding site         (C)         769   \n",
       "5  b0118         1l5j-A  metal ion-binding site         (C)         772   \n",
       "\n",
       "  struct_residue struct_resnum SS-sspro SS-sspro8 RSA-accpro RSA-accpro20  \\\n",
       "0            (S)   ( , 435,  )        H         H          -         [10]   \n",
       "1            (G)   ( , 501,  )        C         C          -          [0]   \n",
       "2            (T)   ( , 504,  )        H         G          -          [0]   \n",
       "3            (S)   ( , 710,  )        C         T          -         [10]   \n",
       "4            (G)   ( , 769,  )        C         C          -          [5]   \n",
       "5            (L)   ( , 772,  )        H         G          -          [5]   \n",
       "\n",
       "  SS-dssp            RSA-dssp ASA-dssp  PHI-dssp  PSI-dssp    CA_DEPTH-msms  \\\n",
       "0     [-]   [0.0538461538462]    [7.0]    [93.2]   [133.0]  [1.99980235487]   \n",
       "1     [S]   [0.0357142857143]    [3.0]  [-171.3]  [-178.9]  [4.87276526243]   \n",
       "2     [G]   [0.0211267605634]    [3.0]   [-64.7]   [-34.6]   [3.1546567154]   \n",
       "3     [S]   [0.0153846153846]    [2.0]  [-109.6]  [-172.4]  [10.0241471689]   \n",
       "4     [S]    [0.047619047619]    [4.0]   [158.5]  [-175.6]  [6.68098052599]   \n",
       "5     [G]  [0.00609756097561]    [1.0]   [-52.6]   [-24.8]  [6.80593314578]   \n",
       "\n",
       "    RES_DEPTH-msms structure_resnums  \n",
       "0   [2.4908282495]     [( , 434,  )]  \n",
       "1  [4.50809912497]     [( , 500,  )]  \n",
       "2  [3.01774183799]     [( , 503,  )]  \n",
       "3  [9.79279425043]     [( , 709,  )]  \n",
       "4  [6.49714241709]     [( , 768,  )]  \n",
       "5  [6.33928360614]     [( , 771,  )]  "
      ]
     },
     "execution_count": 28,
     "metadata": {},
     "output_type": "execute_result"
    }
   ],
   "source": [
    "pd.DataFrame.from_records(metal_info, columns=cols)"
   ]
  },
  {
   "cell_type": "markdown",
   "metadata": {},
   "source": [
    "### Visualizing residues"
   ]
  },
  {
   "cell_type": "code",
   "execution_count": 31,
   "metadata": {
    "collapsed": true
   },
   "outputs": [],
   "source": [
    "metal_binding_structure_residues = [710, 769, 772]"
   ]
  },
  {
   "cell_type": "code",
   "execution_count": 29,
   "metadata": {},
   "outputs": [
    {
     "name": "stderr",
     "output_type": "stream",
     "text": [
      "[2017-06-01 09:38] [ssbio.protein.structure.structprop] INFO: Selection: ( :A ) and not hydrogen and ( )\n"
     ]
    }
   ],
   "source": [
    "my_protein.representative_structure.view_structure_and_highlight_residues(structure_resnums=metal_binding_structure_residues)"
   ]
  },
  {
   "cell_type": "markdown",
   "metadata": {},
   "source": [
    "### Looking at residue depths in the same protein "
   ]
  },
  {
   "cell_type": "code",
   "execution_count": 34,
   "metadata": {},
   "outputs": [
    {
     "name": "stdout",
     "output_type": "stream",
     "text": [
      "P36683_1l5j-A\n",
      "P36683_1l5j-B\n",
      "P36683_ACON2_ECOLI-X\n",
      "P36683_E00113-X\n"
     ]
    }
   ],
   "source": [
    "for xx in g.protein.representative_sequence.structure_alignments:\n",
    "    print(xx.id)"
   ]
  },
  {
   "cell_type": "code",
   "execution_count": 35,
   "metadata": {},
   "outputs": [
    {
     "name": "stdout",
     "output_type": "stream",
     "text": [
      "b1276\n",
      "ACON1_ECOLI\n"
     ]
    },
    {
     "data": {
      "text/plain": [
       "{'X': {1: (' ', 1, ' '), 2: (' ', 2, ' '), 3: (' ', 3, ' ')}}"
      ]
     },
     "execution_count": 35,
     "metadata": {},
     "output_type": "execute_result"
    },
    {
     "name": "stdout",
     "output_type": "stream",
     "text": [
      "E01201\n"
     ]
    },
    {
     "data": {
      "text/plain": [
       "{'X': {1: (' ', 1, ' '), 2: (' ', 2, ' '), 3: (' ', 3, ' ')}}"
      ]
     },
     "execution_count": 35,
     "metadata": {},
     "output_type": "execute_result"
    },
    {
     "name": "stdout",
     "output_type": "stream",
     "text": [
      "b1276_ITASSER\n"
     ]
    },
    {
     "data": {
      "text/plain": [
       "{'A': {1: (' ', 1, ' '), 2: (' ', 2, ' '), 3: (' ', 3, ' ')}}"
      ]
     },
     "execution_count": 35,
     "metadata": {},
     "output_type": "execute_result"
    },
    {
     "name": "stdout",
     "output_type": "stream",
     "text": [
      "b0118\n",
      "1l5j\n"
     ]
    },
    {
     "data": {
      "text/plain": [
       "{'A': {1: (' ', 1, ' '), 2: (' ', 2, ' '), 3: (' ', 3, ' ')},\n",
       " 'B': {1: (' ', 1, ' '), 2: (' ', 2, ' '), 3: (' ', 3, ' ')}}"
      ]
     },
     "execution_count": 35,
     "metadata": {},
     "output_type": "execute_result"
    },
    {
     "name": "stdout",
     "output_type": "stream",
     "text": [
      "ACON2_ECOLI\n"
     ]
    },
    {
     "data": {
      "text/plain": [
       "{'X': {1: (' ', 1, ' '), 2: (' ', 2, ' '), 3: (' ', 3, ' ')}}"
      ]
     },
     "execution_count": 35,
     "metadata": {},
     "output_type": "execute_result"
    },
    {
     "name": "stdout",
     "output_type": "stream",
     "text": [
      "E00113\n"
     ]
    },
    {
     "data": {
      "text/plain": [
       "{'X': {1: (' ', 1, ' '), 2: (' ', 2, ' '), 3: (' ', 3, ' ')}}"
      ]
     },
     "execution_count": 35,
     "metadata": {},
     "output_type": "execute_result"
    }
   ],
   "source": [
    "# Run MSMS for all structures\n",
    "for g in my_gempro.genes:\n",
    "    print(g)\n",
    "    for x in g.protein.structures:\n",
    "        print(x)\n",
    "        x.get_residue_depths(outdir=g.protein.structure_dir)\n",
    "        x.align_seqprop_to_mapped_chains(g.protein.representative_sequence)\n",
    "        x.map_seqprop_resnums_to_mapped_chains(g.protein.representative_sequence, [1,2,3])"
   ]
  },
  {
   "cell_type": "code",
   "execution_count": 40,
   "metadata": {
    "collapsed": true
   },
   "outputs": [],
   "source": [
    "from Bio.SeqFeature import SeqFeature, FeatureLocation"
   ]
  },
  {
   "cell_type": "code",
   "execution_count": 50,
   "metadata": {},
   "outputs": [
    {
     "name": "stdout",
     "output_type": "stream",
     "text": [
      "b1276\n",
      "type: metal ion-binding site\n",
      "location: [434:435]\n",
      "qualifiers:\n",
      "    Key: description, Value: Iron-sulfur (4Fe-4S)\n",
      "    Key: evidence, Value: 1\n",
      "    Key: type, Value: metal ion-binding site\n",
      "\n",
      "ACON1_ECOLI\n",
      "[2.8135356659097708]\n",
      "E01201\n",
      "[2.8135356659097708]\n",
      "b1276_ITASSER\n",
      "[2.8135356659097708]\n",
      "type: metal ion-binding site\n",
      "location: [500:501]\n",
      "qualifiers:\n",
      "    Key: description, Value: Iron-sulfur (4Fe-4S)\n",
      "    Key: evidence, Value: 1\n",
      "    Key: type, Value: metal ion-binding site\n",
      "\n",
      "ACON1_ECOLI\n",
      "[2.4091192574526867]\n",
      "E01201\n",
      "[2.4091192574526867]\n",
      "b1276_ITASSER\n",
      "[2.4091192574526867]\n",
      "type: metal ion-binding site\n",
      "location: [503:504]\n",
      "qualifiers:\n",
      "    Key: description, Value: Iron-sulfur (4Fe-4S)\n",
      "    Key: evidence, Value: 1\n",
      "    Key: type, Value: metal ion-binding site\n",
      "\n",
      "ACON1_ECOLI\n",
      "[1.961483950461508]\n",
      "E01201\n",
      "[1.961483950461508]\n",
      "b1276_ITASSER\n",
      "[1.961483950461508]\n",
      "\n",
      "b0118\n",
      "type: metal ion-binding site\n",
      "location: [709:710]\n",
      "qualifiers:\n",
      "    Key: description, Value: Iron-sulfur (4Fe-4S)\n",
      "    Key: evidence, Value: 5\n",
      "    Key: type, Value: metal ion-binding site\n",
      "\n",
      "1l5j\n",
      "[10.009108769044623]\n",
      "ACON2_ECOLI\n",
      "[10.009108769044623]\n",
      "E00113\n",
      "[10.009108769044623]\n",
      "type: metal ion-binding site\n",
      "location: [768:769]\n",
      "qualifiers:\n",
      "    Key: description, Value: Iron-sulfur (4Fe-4S)\n",
      "    Key: evidence, Value: 5\n",
      "    Key: type, Value: metal ion-binding site\n",
      "\n",
      "1l5j\n",
      "[8.0498321032343032]\n",
      "ACON2_ECOLI\n",
      "[8.0498321032343032]\n",
      "E00113\n",
      "[8.0498321032343032]\n",
      "type: metal ion-binding site\n",
      "location: [771:772]\n",
      "qualifiers:\n",
      "    Key: description, Value: Iron-sulfur (4Fe-4S)\n",
      "    Key: evidence, Value: 5\n",
      "    Key: type, Value: metal ion-binding site\n",
      "\n",
      "1l5j\n",
      "[8.2393688432309204]\n",
      "ACON2_ECOLI\n",
      "[8.2393688432309204]\n",
      "E00113\n",
      "[8.2393688432309204]\n",
      "\n"
     ]
    }
   ],
   "source": [
    "# Gathering properties for the metal binding sites\n",
    "\n",
    "metal_info = []\n",
    "\n",
    "for g in my_gempro.genes:\n",
    "    print(g)\n",
    "    p = g.protein    \n",
    "    for f in p.representative_sequence.seq_record.features:\n",
    "        if 'metal' in f.type.lower():\n",
    "            print(f)\n",
    "            # Get sequence properties\n",
    "            sr = f.extract(p.representative_sequence.seq_record)\n",
    "            \n",
    "            for s in p.structures:\n",
    "                print(s)\n",
    "                # Get structure properties\n",
    "                new_f = SeqFeature(FeatureLocation(int(sr.letter_annotations['repchain_resnums'][0]-1), int(sr.letter_annotations['repchain_resnums'][-1])))\n",
    "                sr_st = new_f.extract(p.representative_structure.representative_chain.seq_record)\n",
    "\n",
    "                print(sr_st.letter_annotations['RES_DEPTH-msms'])\n",
    "    print()"
   ]
  },
  {
   "cell_type": "code",
   "execution_count": null,
   "metadata": {
    "collapsed": true
   },
   "outputs": [],
   "source": []
  }
 ],
 "metadata": {
  "_draft": {
   "nbviewer_url": "https://gist.github.com/342e44766d1dda637e975a4ef61dae19"
  },
  "anaconda-cloud": {},
  "celltoolbar": "Raw Cell Format",
  "gist": {
   "data": {
    "description": "GEM-PRO pipeline example for a list of gene IDs",
    "public": false
   },
   "id": "342e44766d1dda637e975a4ef61dae19"
  },
  "kernelspec": {
   "display_name": "Python [default]",
   "language": "python",
   "name": "python3"
  },
  "language_info": {
   "codemirror_mode": {
    "name": "ipython",
    "version": 3
   },
   "file_extension": ".py",
   "mimetype": "text/x-python",
   "name": "python",
   "nbconvert_exporter": "python",
   "pygments_lexer": "ipython3",
   "version": "3.5.3"
  },
  "widgets": {
   "state": {
    "07f2e453c2d1497b9cee80d259934c88": {
     "views": [
      {
       "cell_index": 14
      }
     ]
    },
    "232bfc79ee1a463ea1f22cddd984946c": {
     "views": [
      {
       "cell_index": 43
      }
     ]
    },
    "4e5dcc7ae9c74c6995e111ebc019ded0": {
     "views": [
      {
       "cell_index": 32
      }
     ]
    },
    "76d1cc588e4b45edbb1c4720bf38e5d0": {
     "views": [
      {
       "cell_index": 22
      }
     ]
    },
    "8838944ce0dd46ac82e7090093e37d1e": {
     "views": [
      {
       "cell_index": 27
      }
     ]
    },
    "ab2561514bac4346973555bfcfab21f1": {
     "views": [
      {
       "cell_index": 45
      }
     ]
    },
    "b288dca263224c2e8cf1d4288618fed7": {
     "views": [
      {
       "cell_index": 41
      }
     ]
    },
    "c396d04070754acf8f2104fbed57d62a": {
     "views": [
      {
       "cell_index": 25
      }
     ]
    },
    "d2be80a7bb9747cfb6cd3392d07c33eb": {
     "views": [
      {
       "cell_index": 26
      }
     ]
    },
    "da5b2982710e439d892f50b7fa10bca0": {
     "views": [
      {
       "cell_index": 16
      }
     ]
    },
    "dedd63bf7cb04fccb9e9d9ff4a394d83": {
     "views": [
      {
       "cell_index": 20
      }
     ]
    },
    "df25883a5dda4f14a8f69d2e87b03ed2": {
     "views": [
      {
       "cell_index": 39
      }
     ]
    },
    "ed031de1ce2544b290b01da2e2472c09": {
     "views": [
      {
       "cell_index": 34
      }
     ]
    },
    "f250016127fb4220b3ab97b0c621bee4": {
     "views": [
      {
       "cell_index": 56
      }
     ]
    },
    "ff615c1433274006af2ff64a4850b92b": {
     "views": [
      {
       "cell_index": 37
      }
     ]
    }
   },
   "version": "1.2.0"
  }
 },
 "nbformat": 4,
 "nbformat_minor": 1
}
