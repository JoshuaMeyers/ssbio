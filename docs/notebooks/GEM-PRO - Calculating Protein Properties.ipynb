{
 "cells": [
  {
   "cell_type": "markdown",
   "metadata": {},
   "source": [
    "# GEM-PRO - Calculating Protein Properties\n",
    "This notebook gives an example of how to **calculate protein properties** for a list of proteins. The main features demonstrated are:\n",
    "\n",
    "1. Information retrieval from UniProt and linking residue numbering sites to structure\n",
    "1. Calculating or predicting global protein sequence and structure properties\n",
    "1. Calculating or predicting local protein sequence and structure properties\n",
    "\n",
    "<div class=\"alert alert-info\">\n",
    "\n",
    "**Input:** List of gene IDs\n",
    "\n",
    "</div>\n",
    "\n",
    "<div class=\"alert alert-info\">\n",
    "\n",
    "**Output:** Representative protein structures and properties associated with them\n",
    "\n",
    "</div>"
   ]
  },
  {
   "cell_type": "markdown",
   "metadata": {},
   "source": [
    "## Imports"
   ]
  },
  {
   "cell_type": "code",
   "execution_count": 1,
   "metadata": {
    "collapsed": true
   },
   "outputs": [],
   "source": [
    "import sys\n",
    "import logging"
   ]
  },
  {
   "cell_type": "code",
   "execution_count": 2,
   "metadata": {
    "collapsed": true
   },
   "outputs": [],
   "source": [
    "# Import the GEM-PRO class\n",
    "from ssbio.pipeline.gempro import GEMPRO"
   ]
  },
  {
   "cell_type": "code",
   "execution_count": 3,
   "metadata": {
    "collapsed": true
   },
   "outputs": [],
   "source": [
    "# Printing multiple outputs per cell\n",
    "from IPython.core.interactiveshell import InteractiveShell\n",
    "InteractiveShell.ast_node_interactivity = \"all\""
   ]
  },
  {
   "cell_type": "markdown",
   "metadata": {},
   "source": [
    "### Logging\n",
    "\n",
    "Set the logging level in `logger.setLevel(logging.<LEVEL_HERE>)` to specify how verbose you want the pipeline to be. Debug is most verbose.\n",
    "\n",
    "- `CRITICAL`\n",
    "     - Only really important messages shown\n",
    "- `ERROR`\n",
    "     - Major errors\n",
    "- `WARNING`\n",
    "     - Warnings that don't affect running of the pipeline\n",
    "- `INFO` (default)\n",
    "     - Info such as the number of structures mapped per gene\n",
    "- `DEBUG`\n",
    "     - Really detailed information that will print out a lot of stuff\n",
    "     \n",
    "<div class=\"alert alert-warning\">\n",
    "\n",
    "**Warning:** \n",
    "`DEBUG` mode prints out a large amount of information, especially if you have a lot of genes. This may stall your notebook!\n",
    "</div>"
   ]
  },
  {
   "cell_type": "code",
   "execution_count": 4,
   "metadata": {
    "collapsed": true
   },
   "outputs": [],
   "source": [
    "# Create logger\n",
    "logger = logging.getLogger()\n",
    "logger.setLevel(logging.INFO)  # SET YOUR LOGGING LEVEL HERE #"
   ]
  },
  {
   "cell_type": "code",
   "execution_count": 5,
   "metadata": {
    "collapsed": true
   },
   "outputs": [],
   "source": [
    "# Other logger stuff for Jupyter notebooks\n",
    "handler = logging.StreamHandler(sys.stderr)\n",
    "formatter = logging.Formatter('[%(asctime)s] [%(name)s] %(levelname)s: %(message)s', datefmt=\"%Y-%m-%d %H:%M\")\n",
    "handler.setFormatter(formatter)\n",
    "logger.handlers = [handler]"
   ]
  },
  {
   "cell_type": "markdown",
   "metadata": {},
   "source": [
    "-----------------------"
   ]
  },
  {
   "cell_type": "markdown",
   "metadata": {},
   "source": [
    "## Initialization\n",
    "\n",
    "Set these three things:\n",
    "\n",
    "- `ROOT_DIR`\n",
    "    - The directory where a folder named after your `PROJECT` will be created\n",
    "- `PROJECT`\n",
    "    - Your project name\n",
    "- `LIST_OF_GENES`\n",
    "    - Your list of gene IDs\n",
    "    \n",
    "A directory will be created in `ROOT_DIR` with your `PROJECT` name. The folders are organized like so:\n",
    "```\n",
    "    ROOT_DIR\n",
    "    └── PROJECT\n",
    "        ├── data  # General storage for pipeline outputs\n",
    "        ├── model  # SBML and GEM-PRO models are stored here\n",
    "        ├── genes  # Per gene information\n",
    "        │   ├── <gene_id1>  # Specific gene directory\n",
    "        │   │   └── protein\n",
    "        │   │       ├── sequences  # Protein sequence files, alignments, etc.\n",
    "        │   │       └── structures  # Protein structure files, calculations, etc.\n",
    "        │   └── <gene_id2>\n",
    "        │       └── protein\n",
    "        │           ├── sequences\n",
    "        │           └── structures\n",
    "        ├── reactions  # Per reaction information\n",
    "        │   └── <reaction_id1>  # Specific reaction directory\n",
    "        │       └── complex\n",
    "        │           └── structures  # Protein complex files\n",
    "        └── metabolites  # Per metabolite information\n",
    "            └── <metabolite_id1>  # Specific metabolite directory\n",
    "                └── chemical\n",
    "                    └── structures  # Metabolite 2D and 3D structure files\n",
    "                \n",
    "```\n",
    "\n",
    "<div class=\"alert alert-info\">**Note:** Methods for protein complexes and metabolites are still in development.</div>"
   ]
  },
  {
   "cell_type": "code",
   "execution_count": 6,
   "metadata": {
    "collapsed": true
   },
   "outputs": [],
   "source": [
    "# SET FOLDERS AND DATA HERE\n",
    "import tempfile\n",
    "ROOT_DIR = tempfile.gettempdir()\n",
    "\n",
    "PROJECT = 'ssbio_protein_properties'\n",
    "LIST_OF_GENES = ['b1276', 'b0118']"
   ]
  },
  {
   "cell_type": "code",
   "execution_count": 7,
   "metadata": {},
   "outputs": [
    {
     "name": "stderr",
     "output_type": "stream",
     "text": [
      "[2018-02-05 16:52] [ssbio.pipeline.gempro] INFO: Creating GEM-PRO project directory in folder /tmp\n",
      "[2018-02-05 16:52] [ssbio.pipeline.gempro] INFO: /tmp/ssbio_protein_properties: GEM-PRO project location\n",
      "[2018-02-05 16:52] [ssbio.pipeline.gempro] INFO: 2: number of genes\n"
     ]
    }
   ],
   "source": [
    "# Create the GEM-PRO project\n",
    "my_gempro = GEMPRO(gem_name=PROJECT, root_dir=ROOT_DIR, genes_list=LIST_OF_GENES, pdb_file_type='pdb')"
   ]
  },
  {
   "cell_type": "markdown",
   "metadata": {},
   "source": [
    "## Mapping gene ID --> sequence\n",
    "\n",
    "First, we need to map these IDs to their protein sequences. There are 2 ID mapping services provided to do this - through **KEGG** or **UniProt**. The end goal is to map a UniProt ID to each ID, since there is a comprehensive mapping (and some useful APIs) between UniProt and the PDB.\n",
    "\n",
    "<p><div class=\"alert alert-info\">**Note:** You only need to map gene IDs using one service. However you can run both if some genes don't map in one service and do map in another!</div></p>"
   ]
  },
  {
   "cell_type": "raw",
   "metadata": {},
   "source": [
    ".. automethod:: ssbio.pipeline.gempro.GEMPRO.uniprot_mapping_and_metadata\n",
    "    :noindex:"
   ]
  },
  {
   "cell_type": "code",
   "execution_count": 8,
   "metadata": {},
   "outputs": [
    {
     "name": "stderr",
     "output_type": "stream",
     "text": [
      "[2018-02-05 16:52] [root] INFO: getUserAgent: Begin\n",
      "[2018-02-05 16:52] [root] INFO: getUserAgent: user_agent: EBI-Sample-Client/ (services.py; Python 3.6.3; Linux) Python-requests/2.18.4\n",
      "[2018-02-05 16:52] [root] INFO: getUserAgent: End\n"
     ]
    },
    {
     "data": {
      "application/vnd.jupyter.widget-view+json": {
       "model_id": "cd290df9c2b948e4ba3c265d87093add",
       "version_major": 2,
       "version_minor": 0
      },
      "text/plain": [
       "A Jupyter Widget"
      ]
     },
     "metadata": {},
     "output_type": "display_data"
    },
    {
     "name": "stdout",
     "output_type": "stream",
     "text": [
      "\n"
     ]
    },
    {
     "name": "stderr",
     "output_type": "stream",
     "text": [
      "[2018-02-05 16:52] [ssbio.pipeline.gempro] INFO: 2/2: number of genes mapped to UniProt\n",
      "[2018-02-05 16:52] [ssbio.pipeline.gempro] INFO: Completed ID mapping --> UniProt. See the \"df_uniprot_metadata\" attribute for a summary dataframe.\n"
     ]
    },
    {
     "name": "stdout",
     "output_type": "stream",
     "text": [
      "Missing UniProt mapping:  []\n"
     ]
    },
    {
     "data": {
      "text/html": [
       "<div>\n",
       "<style scoped>\n",
       "    .dataframe tbody tr th:only-of-type {\n",
       "        vertical-align: middle;\n",
       "    }\n",
       "\n",
       "    .dataframe tbody tr th {\n",
       "        vertical-align: top;\n",
       "    }\n",
       "\n",
       "    .dataframe thead th {\n",
       "        text-align: right;\n",
       "    }\n",
       "</style>\n",
       "<table border=\"1\" class=\"dataframe\">\n",
       "  <thead>\n",
       "    <tr style=\"text-align: right;\">\n",
       "      <th></th>\n",
       "      <th>uniprot</th>\n",
       "      <th>reviewed</th>\n",
       "      <th>gene_name</th>\n",
       "      <th>kegg</th>\n",
       "      <th>refseq</th>\n",
       "      <th>pdbs</th>\n",
       "      <th>pfam</th>\n",
       "      <th>description</th>\n",
       "      <th>entry_date</th>\n",
       "      <th>entry_version</th>\n",
       "      <th>seq_date</th>\n",
       "      <th>seq_version</th>\n",
       "      <th>sequence_file</th>\n",
       "      <th>metadata_file</th>\n",
       "    </tr>\n",
       "    <tr>\n",
       "      <th>gene</th>\n",
       "      <th></th>\n",
       "      <th></th>\n",
       "      <th></th>\n",
       "      <th></th>\n",
       "      <th></th>\n",
       "      <th></th>\n",
       "      <th></th>\n",
       "      <th></th>\n",
       "      <th></th>\n",
       "      <th></th>\n",
       "      <th></th>\n",
       "      <th></th>\n",
       "      <th></th>\n",
       "      <th></th>\n",
       "    </tr>\n",
       "  </thead>\n",
       "  <tbody>\n",
       "    <tr>\n",
       "      <th>b0118</th>\n",
       "      <td>P36683</td>\n",
       "      <td>False</td>\n",
       "      <td>acnB</td>\n",
       "      <td>ecj:JW0114;eco:b0118</td>\n",
       "      <td>NP_414660.1;WP_001307570.1</td>\n",
       "      <td>1L5J</td>\n",
       "      <td>PF00330;PF06434;PF11791</td>\n",
       "      <td>Aconitate hydratase B</td>\n",
       "      <td>2018-01-31</td>\n",
       "      <td>165</td>\n",
       "      <td>1997-11-01</td>\n",
       "      <td>3</td>\n",
       "      <td>P36683.fasta</td>\n",
       "      <td>P36683.xml</td>\n",
       "    </tr>\n",
       "    <tr>\n",
       "      <th>b1276</th>\n",
       "      <td>P25516</td>\n",
       "      <td>False</td>\n",
       "      <td>acnA</td>\n",
       "      <td>ecj:JW1268;eco:b1276</td>\n",
       "      <td>NP_415792.1;WP_000099535.1</td>\n",
       "      <td>NaN</td>\n",
       "      <td>PF00330;PF00694</td>\n",
       "      <td>Aconitate hydratase A</td>\n",
       "      <td>2018-01-31</td>\n",
       "      <td>153</td>\n",
       "      <td>2008-01-15</td>\n",
       "      <td>3</td>\n",
       "      <td>P25516.fasta</td>\n",
       "      <td>P25516.xml</td>\n",
       "    </tr>\n",
       "  </tbody>\n",
       "</table>\n",
       "</div>"
      ],
      "text/plain": [
       "      uniprot  reviewed gene_name                  kegg  \\\n",
       "gene                                                      \n",
       "b0118  P36683     False      acnB  ecj:JW0114;eco:b0118   \n",
       "b1276  P25516     False      acnA  ecj:JW1268;eco:b1276   \n",
       "\n",
       "                           refseq  pdbs                     pfam  \\\n",
       "gene                                                               \n",
       "b0118  NP_414660.1;WP_001307570.1  1L5J  PF00330;PF06434;PF11791   \n",
       "b1276  NP_415792.1;WP_000099535.1   NaN          PF00330;PF00694   \n",
       "\n",
       "                 description  entry_date  entry_version    seq_date  \\\n",
       "gene                                                                  \n",
       "b0118  Aconitate hydratase B  2018-01-31            165  1997-11-01   \n",
       "b1276  Aconitate hydratase A  2018-01-31            153  2008-01-15   \n",
       "\n",
       "       seq_version sequence_file metadata_file  \n",
       "gene                                            \n",
       "b0118            3  P36683.fasta    P36683.xml  \n",
       "b1276            3  P25516.fasta    P25516.xml  "
      ]
     },
     "execution_count": 8,
     "metadata": {},
     "output_type": "execute_result"
    }
   ],
   "source": [
    "# UniProt mapping\n",
    "my_gempro.uniprot_mapping_and_metadata(model_gene_source='ENSEMBLGENOME_ID')\n",
    "print('Missing UniProt mapping: ', my_gempro.missing_uniprot_mapping)\n",
    "my_gempro.df_uniprot_metadata.head()"
   ]
  },
  {
   "cell_type": "raw",
   "metadata": {},
   "source": [
    ".. automethod:: ssbio.pipeline.gempro.GEMPRO.set_representative_sequence\n",
    "    :noindex:"
   ]
  },
  {
   "cell_type": "code",
   "execution_count": 9,
   "metadata": {},
   "outputs": [
    {
     "data": {
      "application/vnd.jupyter.widget-view+json": {
       "model_id": "ecada8c5154d41ad87f98f762989b1e7",
       "version_major": 2,
       "version_minor": 0
      },
      "text/plain": [
       "A Jupyter Widget"
      ]
     },
     "metadata": {},
     "output_type": "display_data"
    },
    {
     "name": "stdout",
     "output_type": "stream",
     "text": [
      "\n"
     ]
    },
    {
     "name": "stderr",
     "output_type": "stream",
     "text": [
      "[2018-02-05 16:52] [ssbio.pipeline.gempro] INFO: 2/2: number of genes with a representative sequence\n",
      "[2018-02-05 16:52] [ssbio.pipeline.gempro] INFO: See the \"df_representative_sequences\" attribute for a summary dataframe.\n"
     ]
    },
    {
     "name": "stdout",
     "output_type": "stream",
     "text": [
      "Missing a representative sequence:  []\n"
     ]
    },
    {
     "data": {
      "text/html": [
       "<div>\n",
       "<style scoped>\n",
       "    .dataframe tbody tr th:only-of-type {\n",
       "        vertical-align: middle;\n",
       "    }\n",
       "\n",
       "    .dataframe tbody tr th {\n",
       "        vertical-align: top;\n",
       "    }\n",
       "\n",
       "    .dataframe thead th {\n",
       "        text-align: right;\n",
       "    }\n",
       "</style>\n",
       "<table border=\"1\" class=\"dataframe\">\n",
       "  <thead>\n",
       "    <tr style=\"text-align: right;\">\n",
       "      <th></th>\n",
       "      <th>uniprot</th>\n",
       "      <th>kegg</th>\n",
       "      <th>pdbs</th>\n",
       "      <th>sequence_file</th>\n",
       "      <th>metadata_file</th>\n",
       "    </tr>\n",
       "    <tr>\n",
       "      <th>gene</th>\n",
       "      <th></th>\n",
       "      <th></th>\n",
       "      <th></th>\n",
       "      <th></th>\n",
       "      <th></th>\n",
       "    </tr>\n",
       "  </thead>\n",
       "  <tbody>\n",
       "    <tr>\n",
       "      <th>b0118</th>\n",
       "      <td>P36683</td>\n",
       "      <td>ecj:JW0114;eco:b0118</td>\n",
       "      <td>1L5J</td>\n",
       "      <td>P36683.fasta</td>\n",
       "      <td>P36683.xml</td>\n",
       "    </tr>\n",
       "    <tr>\n",
       "      <th>b1276</th>\n",
       "      <td>P25516</td>\n",
       "      <td>ecj:JW1268;eco:b1276</td>\n",
       "      <td>NaN</td>\n",
       "      <td>P25516.fasta</td>\n",
       "      <td>P25516.xml</td>\n",
       "    </tr>\n",
       "  </tbody>\n",
       "</table>\n",
       "</div>"
      ],
      "text/plain": [
       "      uniprot                  kegg  pdbs sequence_file metadata_file\n",
       "gene                                                                 \n",
       "b0118  P36683  ecj:JW0114;eco:b0118  1L5J  P36683.fasta    P36683.xml\n",
       "b1276  P25516  ecj:JW1268;eco:b1276   NaN  P25516.fasta    P25516.xml"
      ]
     },
     "execution_count": 9,
     "metadata": {},
     "output_type": "execute_result"
    }
   ],
   "source": [
    "# Set representative sequences\n",
    "my_gempro.set_representative_sequence()\n",
    "print('Missing a representative sequence: ', my_gempro.missing_representative_sequence)\n",
    "my_gempro.df_representative_sequences.head()"
   ]
  },
  {
   "cell_type": "markdown",
   "metadata": {},
   "source": [
    "## Mapping representative sequence --> structure\n",
    "\n",
    "These are the ways to map sequence to structure:\n",
    "\n",
    "1. Use the UniProt ID and their automatic mappings to the PDB\n",
    "2. BLAST the sequence to the PDB\n",
    "3. Make homology models or \n",
    "4. Map to existing homology models\n",
    "\n",
    "You can only utilize option #1 to map to PDBs if there is a mapped UniProt ID set in the representative sequence. If not, you'll have to BLAST your sequence to the PDB or make a homology model. You can also run both for maximum coverage."
   ]
  },
  {
   "cell_type": "raw",
   "metadata": {},
   "source": [
    ".. automethod:: ssbio.pipeline.gempro.GEMPRO.map_uniprot_to_pdb\n",
    "    :noindex:"
   ]
  },
  {
   "cell_type": "code",
   "execution_count": 10,
   "metadata": {},
   "outputs": [
    {
     "name": "stderr",
     "output_type": "stream",
     "text": [
      "[2018-02-05 16:52] [ssbio.pipeline.gempro] INFO: Mapping UniProt IDs --> PDB IDs...\n",
      "[2018-02-05 16:52] [root] INFO: getUserAgent: Begin\n",
      "[2018-02-05 16:52] [root] INFO: getUserAgent: user_agent: EBI-Sample-Client/ (services.py; Python 3.6.3; Linux) Python-requests/2.18.4\n",
      "[2018-02-05 16:52] [root] INFO: getUserAgent: End\n"
     ]
    },
    {
     "data": {
      "application/vnd.jupyter.widget-view+json": {
       "model_id": "0911b58cf4554ba9a27cf471421d5927",
       "version_major": 2,
       "version_minor": 0
      },
      "text/plain": [
       "A Jupyter Widget"
      ]
     },
     "metadata": {},
     "output_type": "display_data"
    },
    {
     "name": "stdout",
     "output_type": "stream",
     "text": [
      "\n"
     ]
    },
    {
     "name": "stderr",
     "output_type": "stream",
     "text": [
      "[2018-02-05 16:52] [ssbio.pipeline.gempro] INFO: 1/2: number of genes with at least one experimental structure\n",
      "[2018-02-05 16:52] [ssbio.pipeline.gempro] INFO: Completed UniProt --> best PDB mapping. See the \"df_pdb_ranking\" attribute for a summary dataframe.\n"
     ]
    },
    {
     "data": {
      "text/html": [
       "<div>\n",
       "<style scoped>\n",
       "    .dataframe tbody tr th:only-of-type {\n",
       "        vertical-align: middle;\n",
       "    }\n",
       "\n",
       "    .dataframe tbody tr th {\n",
       "        vertical-align: top;\n",
       "    }\n",
       "\n",
       "    .dataframe thead th {\n",
       "        text-align: right;\n",
       "    }\n",
       "</style>\n",
       "<table border=\"1\" class=\"dataframe\">\n",
       "  <thead>\n",
       "    <tr style=\"text-align: right;\">\n",
       "      <th></th>\n",
       "      <th>pdb_id</th>\n",
       "      <th>pdb_chain_id</th>\n",
       "      <th>uniprot</th>\n",
       "      <th>experimental_method</th>\n",
       "      <th>resolution</th>\n",
       "      <th>coverage</th>\n",
       "      <th>start</th>\n",
       "      <th>end</th>\n",
       "      <th>unp_start</th>\n",
       "      <th>unp_end</th>\n",
       "      <th>rank</th>\n",
       "    </tr>\n",
       "    <tr>\n",
       "      <th>gene</th>\n",
       "      <th></th>\n",
       "      <th></th>\n",
       "      <th></th>\n",
       "      <th></th>\n",
       "      <th></th>\n",
       "      <th></th>\n",
       "      <th></th>\n",
       "      <th></th>\n",
       "      <th></th>\n",
       "      <th></th>\n",
       "      <th></th>\n",
       "    </tr>\n",
       "  </thead>\n",
       "  <tbody>\n",
       "    <tr>\n",
       "      <th>b0118</th>\n",
       "      <td>1l5j</td>\n",
       "      <td>A</td>\n",
       "      <td>P36683</td>\n",
       "      <td>X-ray diffraction</td>\n",
       "      <td>2.4</td>\n",
       "      <td>1</td>\n",
       "      <td>1</td>\n",
       "      <td>865</td>\n",
       "      <td>1</td>\n",
       "      <td>865</td>\n",
       "      <td>1</td>\n",
       "    </tr>\n",
       "    <tr>\n",
       "      <th>b0118</th>\n",
       "      <td>1l5j</td>\n",
       "      <td>B</td>\n",
       "      <td>P36683</td>\n",
       "      <td>X-ray diffraction</td>\n",
       "      <td>2.4</td>\n",
       "      <td>1</td>\n",
       "      <td>1</td>\n",
       "      <td>865</td>\n",
       "      <td>1</td>\n",
       "      <td>865</td>\n",
       "      <td>2</td>\n",
       "    </tr>\n",
       "  </tbody>\n",
       "</table>\n",
       "</div>"
      ],
      "text/plain": [
       "      pdb_id pdb_chain_id uniprot experimental_method  resolution  coverage  \\\n",
       "gene                                                                          \n",
       "b0118   1l5j            A  P36683   X-ray diffraction         2.4         1   \n",
       "b0118   1l5j            B  P36683   X-ray diffraction         2.4         1   \n",
       "\n",
       "       start  end  unp_start  unp_end  rank  \n",
       "gene                                         \n",
       "b0118      1  865          1      865     1  \n",
       "b0118      1  865          1      865     2  "
      ]
     },
     "execution_count": 10,
     "metadata": {},
     "output_type": "execute_result"
    }
   ],
   "source": [
    "# Mapping using the PDBe best_structures service\n",
    "my_gempro.map_uniprot_to_pdb(seq_ident_cutoff=.3)\n",
    "my_gempro.df_pdb_ranking.head()"
   ]
  },
  {
   "cell_type": "raw",
   "metadata": {},
   "source": [
    ".. automethod:: ssbio.pipeline.gempro.GEMPRO.blast_seqs_to_pdb\n",
    "    :noindex:"
   ]
  },
  {
   "cell_type": "code",
   "execution_count": 11,
   "metadata": {},
   "outputs": [
    {
     "data": {
      "application/vnd.jupyter.widget-view+json": {
       "model_id": "2b7643c65ddf46b5a60933aaecb60f3f",
       "version_major": 2,
       "version_minor": 0
      },
      "text/plain": [
       "A Jupyter Widget"
      ]
     },
     "metadata": {},
     "output_type": "display_data"
    },
    {
     "name": "stdout",
     "output_type": "stream",
     "text": [
      "\n"
     ]
    },
    {
     "name": "stderr",
     "output_type": "stream",
     "text": [
      "[2018-02-05 16:53] [ssbio.pipeline.gempro] INFO: Completed sequence --> PDB BLAST. See the \"df_pdb_blast\" attribute for a summary dataframe.\n",
      "[2018-02-05 16:53] [ssbio.pipeline.gempro] INFO: 0: number of genes with additional structures added from BLAST\n",
      "[2018-02-05 16:53] [ssbio.pipeline.gempro] WARNING: Empty dataframe\n"
     ]
    },
    {
     "data": {
      "text/html": [
       "<div>\n",
       "<style scoped>\n",
       "    .dataframe tbody tr th:only-of-type {\n",
       "        vertical-align: middle;\n",
       "    }\n",
       "\n",
       "    .dataframe tbody tr th {\n",
       "        vertical-align: top;\n",
       "    }\n",
       "\n",
       "    .dataframe thead th {\n",
       "        text-align: right;\n",
       "    }\n",
       "</style>\n",
       "<table border=\"1\" class=\"dataframe\">\n",
       "  <thead>\n",
       "    <tr style=\"text-align: right;\">\n",
       "      <th></th>\n",
       "    </tr>\n",
       "  </thead>\n",
       "  <tbody>\n",
       "  </tbody>\n",
       "</table>\n",
       "</div>"
      ],
      "text/plain": [
       "Empty DataFrame\n",
       "Columns: []\n",
       "Index: []"
      ]
     },
     "execution_count": 11,
     "metadata": {},
     "output_type": "execute_result"
    }
   ],
   "source": [
    "# Mapping using BLAST\n",
    "my_gempro.blast_seqs_to_pdb(all_genes=True, seq_ident_cutoff=.7, evalue=0.00001)\n",
    "my_gempro.df_pdb_blast.head(2)"
   ]
  },
  {
   "cell_type": "markdown",
   "metadata": {},
   "source": [
    "#### Homology models\n",
    "\n",
    "Below, we are mapping to previously generated homology models for E. coli. If you are running this as a tutorial, they won't exist on your computer, so you can skip these steps."
   ]
  },
  {
   "cell_type": "raw",
   "metadata": {},
   "source": [
    ".. automethod:: ssbio.pipeline.gempro.GEMPRO.get_manual_homology_models\n",
    "    :noindex:"
   ]
  },
  {
   "cell_type": "code",
   "execution_count": 15,
   "metadata": {
    "collapsed": true
   },
   "outputs": [],
   "source": [
    "import pandas as pd\n",
    "import os.path as op"
   ]
  },
  {
   "cell_type": "code",
   "execution_count": 16,
   "metadata": {},
   "outputs": [
    {
     "data": {
      "application/vnd.jupyter.widget-view+json": {
       "model_id": "4e44297acf4148ddbe20abd758ceac1a",
       "version_major": 2,
       "version_minor": 0
      },
      "text/plain": [
       "A Jupyter Widget"
      ]
     },
     "metadata": {},
     "output_type": "display_data"
    },
    {
     "name": "stdout",
     "output_type": "stream",
     "text": [
      "\n"
     ]
    },
    {
     "name": "stderr",
     "output_type": "stream",
     "text": [
      "[2018-02-05 16:56] [ssbio.pipeline.gempro] INFO: Updated homology model information for 2 genes.\n"
     ]
    }
   ],
   "source": [
    "# Creating manual mapping dictionary for ECOLI I-TASSER models\n",
    "homology_models = '/home/nathan/projects_archive/homology_models/ECOLI/zhang/'\n",
    "homology_models_df = pd.read_csv('/home/nathan/projects_archive/homology_models/ECOLI/zhang_data/160804-ZHANG_INFO.csv')\n",
    "tmp = homology_models_df[['zhang_id','model_file','m_gene']].drop_duplicates()\n",
    "tmp = tmp[pd.notnull(tmp.m_gene)]\n",
    "\n",
    "homology_model_dict = {}\n",
    "\n",
    "for i,r in tmp.iterrows():\n",
    "    homology_model_dict[r['m_gene']] = {r['zhang_id']: {'model_file':op.join(homology_models, r['model_file']),\n",
    "                                                        'file_type':'pdb'}}\n",
    "    \n",
    "my_gempro.get_manual_homology_models(homology_model_dict)"
   ]
  },
  {
   "cell_type": "code",
   "execution_count": 17,
   "metadata": {},
   "outputs": [
    {
     "data": {
      "application/vnd.jupyter.widget-view+json": {
       "model_id": "670e8cf592014d3db13cbd571fe0bfc5",
       "version_major": 2,
       "version_minor": 0
      },
      "text/plain": [
       "A Jupyter Widget"
      ]
     },
     "metadata": {},
     "output_type": "display_data"
    },
    {
     "name": "stdout",
     "output_type": "stream",
     "text": [
      "\n"
     ]
    },
    {
     "name": "stderr",
     "output_type": "stream",
     "text": [
      "[2018-02-05 16:56] [ssbio.pipeline.gempro] INFO: Updated homology model information for 2 genes.\n"
     ]
    }
   ],
   "source": [
    "# Creating manual mapping dictionary for ECOLI SUNPRO models\n",
    "homology_models = '/home/nathan/projects_archive/homology_models/ECOLI/sunpro/'\n",
    "homology_models_df = pd.read_csv('/home/nathan/projects_archive/homology_models/ECOLI/sunpro_data/160609-SUNPRO_INFO.csv')\n",
    "tmp = homology_models_df[['sunpro_id','model_file','m_gene']].drop_duplicates()\n",
    "tmp = tmp[pd.notnull(tmp.m_gene)]\n",
    "\n",
    "homology_model_dict = {}\n",
    "\n",
    "for i,r in tmp.iterrows():\n",
    "    homology_model_dict[r['m_gene']] = {r['sunpro_id']: {'model_file':op.join(homology_models, r['model_file']),\n",
    "                                                         'file_type':'pdb'}}\n",
    "    \n",
    "my_gempro.get_manual_homology_models(homology_model_dict)"
   ]
  },
  {
   "cell_type": "markdown",
   "metadata": {},
   "source": [
    "## Downloading and ranking structures"
   ]
  },
  {
   "cell_type": "raw",
   "metadata": {},
   "source": [
    ".. automethod:: ssbio.pipeline.gempro.GEMPRO.pdb_downloader_and_metadata\n",
    "    :noindex:"
   ]
  },
  {
   "cell_type": "markdown",
   "metadata": {},
   "source": [
    "<div class=\"alert alert-warning\">\n",
    "\n",
    "**Warning:** \n",
    "Downloading all PDBs takes a while, since they are also parsed for metadata. You can skip this step and just set representative structures below if you want to minimize the number of PDBs downloaded.\n",
    "\n",
    "</div>"
   ]
  },
  {
   "cell_type": "code",
   "execution_count": 18,
   "metadata": {},
   "outputs": [
    {
     "data": {
      "application/vnd.jupyter.widget-view+json": {
       "model_id": "fb76446a39a947ecb84dbf81e16365e5",
       "version_major": 2,
       "version_minor": 0
      },
      "text/plain": [
       "A Jupyter Widget"
      ]
     },
     "metadata": {},
     "output_type": "display_data"
    },
    {
     "name": "stdout",
     "output_type": "stream",
     "text": [
      "\n"
     ]
    },
    {
     "name": "stderr",
     "output_type": "stream",
     "text": [
      "[2018-02-05 16:56] [ssbio.pipeline.gempro] INFO: Updated PDB metadata dataframe. See the \"df_pdb_metadata\" attribute for a summary dataframe.\n",
      "[2018-02-05 16:56] [ssbio.pipeline.gempro] INFO: Saved 1 structures total\n"
     ]
    },
    {
     "data": {
      "text/html": [
       "<div>\n",
       "<style scoped>\n",
       "    .dataframe tbody tr th:only-of-type {\n",
       "        vertical-align: middle;\n",
       "    }\n",
       "\n",
       "    .dataframe tbody tr th {\n",
       "        vertical-align: top;\n",
       "    }\n",
       "\n",
       "    .dataframe thead th {\n",
       "        text-align: right;\n",
       "    }\n",
       "</style>\n",
       "<table border=\"1\" class=\"dataframe\">\n",
       "  <thead>\n",
       "    <tr style=\"text-align: right;\">\n",
       "      <th></th>\n",
       "      <th>pdb_id</th>\n",
       "      <th>pdb_title</th>\n",
       "      <th>description</th>\n",
       "      <th>experimental_method</th>\n",
       "      <th>mapped_chains</th>\n",
       "      <th>resolution</th>\n",
       "      <th>chemicals</th>\n",
       "      <th>taxonomy_name</th>\n",
       "      <th>structure_file</th>\n",
       "    </tr>\n",
       "    <tr>\n",
       "      <th>gene</th>\n",
       "      <th></th>\n",
       "      <th></th>\n",
       "      <th></th>\n",
       "      <th></th>\n",
       "      <th></th>\n",
       "      <th></th>\n",
       "      <th></th>\n",
       "      <th></th>\n",
       "      <th></th>\n",
       "    </tr>\n",
       "  </thead>\n",
       "  <tbody>\n",
       "    <tr>\n",
       "      <th>b0118</th>\n",
       "      <td>1l5j</td>\n",
       "      <td>CRYSTAL STRUCTURE OF E. COLI ACONITASE B.</td>\n",
       "      <td>Aconitate hydratase 2 (E.C.4.2.1.3)</td>\n",
       "      <td>X-ray diffraction</td>\n",
       "      <td>A;B</td>\n",
       "      <td>2.4</td>\n",
       "      <td>F3S;TRA</td>\n",
       "      <td>Escherichia coli</td>\n",
       "      <td>1l5j.pdb</td>\n",
       "    </tr>\n",
       "  </tbody>\n",
       "</table>\n",
       "</div>"
      ],
      "text/plain": [
       "      pdb_id                                  pdb_title  \\\n",
       "gene                                                      \n",
       "b0118   1l5j  CRYSTAL STRUCTURE OF E. COLI ACONITASE B.   \n",
       "\n",
       "                               description experimental_method mapped_chains  \\\n",
       "gene                                                                           \n",
       "b0118  Aconitate hydratase 2 (E.C.4.2.1.3)   X-ray diffraction           A;B   \n",
       "\n",
       "       resolution chemicals     taxonomy_name structure_file  \n",
       "gene                                                          \n",
       "b0118         2.4   F3S;TRA  Escherichia coli       1l5j.pdb  "
      ]
     },
     "execution_count": 18,
     "metadata": {},
     "output_type": "execute_result"
    }
   ],
   "source": [
    "# Download all mapped PDBs and gather the metadata\n",
    "my_gempro.pdb_downloader_and_metadata()\n",
    "my_gempro.df_pdb_metadata.head(2)"
   ]
  },
  {
   "cell_type": "raw",
   "metadata": {},
   "source": [
    ".. automethod:: ssbio.pipeline.gempro.GEMPRO.set_representative_structure\n",
    "    :noindex:"
   ]
  },
  {
   "cell_type": "code",
   "execution_count": 19,
   "metadata": {},
   "outputs": [
    {
     "data": {
      "application/vnd.jupyter.widget-view+json": {
       "model_id": "a9edf806089549eebe0d2b6c9ab972b5",
       "version_major": 2,
       "version_minor": 0
      },
      "text/plain": [
       "A Jupyter Widget"
      ]
     },
     "metadata": {},
     "output_type": "display_data"
    },
    {
     "name": "stdout",
     "output_type": "stream",
     "text": [
      "\n"
     ]
    },
    {
     "name": "stderr",
     "output_type": "stream",
     "text": [
      "[2018-02-05 16:56] [ssbio.pipeline.gempro] INFO: 2/2: number of genes with a representative structure\n",
      "[2018-02-05 16:56] [ssbio.pipeline.gempro] INFO: See the \"df_representative_structures\" attribute for a summary dataframe.\n"
     ]
    },
    {
     "data": {
      "text/html": [
       "<div>\n",
       "<style scoped>\n",
       "    .dataframe tbody tr th:only-of-type {\n",
       "        vertical-align: middle;\n",
       "    }\n",
       "\n",
       "    .dataframe tbody tr th {\n",
       "        vertical-align: top;\n",
       "    }\n",
       "\n",
       "    .dataframe thead th {\n",
       "        text-align: right;\n",
       "    }\n",
       "</style>\n",
       "<table border=\"1\" class=\"dataframe\">\n",
       "  <thead>\n",
       "    <tr style=\"text-align: right;\">\n",
       "      <th></th>\n",
       "      <th>id</th>\n",
       "      <th>is_experimental</th>\n",
       "      <th>file_type</th>\n",
       "      <th>structure_file</th>\n",
       "    </tr>\n",
       "    <tr>\n",
       "      <th>gene</th>\n",
       "      <th></th>\n",
       "      <th></th>\n",
       "      <th></th>\n",
       "      <th></th>\n",
       "    </tr>\n",
       "  </thead>\n",
       "  <tbody>\n",
       "    <tr>\n",
       "      <th>b0118</th>\n",
       "      <td>REP-1l5j</td>\n",
       "      <td>True</td>\n",
       "      <td>pdb</td>\n",
       "      <td>1l5j-A_clean.pdb</td>\n",
       "    </tr>\n",
       "    <tr>\n",
       "      <th>b1276</th>\n",
       "      <td>REP-ACON1_ECOLI</td>\n",
       "      <td>False</td>\n",
       "      <td>pdb</td>\n",
       "      <td>ACON1_ECOLI_model1_clean-X_clean.pdb</td>\n",
       "    </tr>\n",
       "  </tbody>\n",
       "</table>\n",
       "</div>"
      ],
      "text/plain": [
       "                    id  is_experimental file_type  \\\n",
       "gene                                                \n",
       "b0118         REP-1l5j             True       pdb   \n",
       "b1276  REP-ACON1_ECOLI            False       pdb   \n",
       "\n",
       "                             structure_file  \n",
       "gene                                         \n",
       "b0118                      1l5j-A_clean.pdb  \n",
       "b1276  ACON1_ECOLI_model1_clean-X_clean.pdb  "
      ]
     },
     "execution_count": 19,
     "metadata": {},
     "output_type": "execute_result"
    }
   ],
   "source": [
    "# Set representative structures\n",
    "my_gempro.set_representative_structure()\n",
    "my_gempro.df_representative_structures.head()"
   ]
  },
  {
   "cell_type": "markdown",
   "metadata": {},
   "source": [
    "-------------------------"
   ]
  },
  {
   "cell_type": "markdown",
   "metadata": {},
   "source": [
    "## Computing and storing protein properties"
   ]
  },
  {
   "cell_type": "raw",
   "metadata": {},
   "source": [
    ".. automethod:: ssbio.pipeline.gempro.GEMPRO.get_sequence_properties\n",
    "    :noindex:"
   ]
  },
  {
   "cell_type": "code",
   "execution_count": 20,
   "metadata": {},
   "outputs": [
    {
     "data": {
      "application/vnd.jupyter.widget-view+json": {
       "model_id": "44b6593e7e384082aebe802d88b1869d",
       "version_major": 2,
       "version_minor": 0
      },
      "text/plain": [
       "A Jupyter Widget"
      ]
     },
     "metadata": {},
     "output_type": "display_data"
    },
    {
     "name": "stdout",
     "output_type": "stream",
     "text": [
      "\n"
     ]
    }
   ],
   "source": [
    "# Requires EMBOSS \"pepstats\" program\n",
    "# See the ssbio wiki for more information: https://github.com/SBRG/ssbio/wiki/Software-Installations\n",
    "# Install using:\n",
    "# sudo apt-get install emboss\n",
    "my_gempro.get_sequence_properties()"
   ]
  },
  {
   "cell_type": "raw",
   "metadata": {},
   "source": [
    ".. automethod:: ssbio.pipeline.gempro.GEMPRO.get_scratch_predictions\n",
    "    :noindex:"
   ]
  },
  {
   "cell_type": "code",
   "execution_count": null,
   "metadata": {
    "collapsed": true
   },
   "outputs": [],
   "source": [
    "# Requires SCRATCH installation, replace path_to_scratch with own path to script\n",
    "# See the ssbio wiki for more information: https://github.com/SBRG/ssbio/wiki/Software-Installations\n",
    "my_gempro.get_scratch_predictions(path_to_scratch='scratch', \n",
    "                                  results_dir=my_gempro.data_dir,\n",
    "                                  num_cores=4)"
   ]
  },
  {
   "cell_type": "raw",
   "metadata": {},
   "source": [
    ".. automethod:: ssbio.pipeline.gempro.GEMPRO.find_disulfide_bridges\n",
    "    :noindex:"
   ]
  },
  {
   "cell_type": "code",
   "execution_count": 22,
   "metadata": {},
   "outputs": [
    {
     "data": {
      "application/vnd.jupyter.widget-view+json": {
       "model_id": "e8fa90f5fbf2487f874c4fffaaab4b9d",
       "version_major": 2,
       "version_minor": 0
      },
      "text/plain": [
       "A Jupyter Widget"
      ]
     },
     "metadata": {},
     "output_type": "display_data"
    },
    {
     "name": "stdout",
     "output_type": "stream",
     "text": [
      "\n"
     ]
    }
   ],
   "source": [
    "my_gempro.find_disulfide_bridges(representatives_only=False)"
   ]
  },
  {
   "cell_type": "raw",
   "metadata": {},
   "source": [
    ".. automethod:: ssbio.pipeline.gempro.GEMPRO.get_dssp_annotations\n",
    "    :noindex:"
   ]
  },
  {
   "cell_type": "code",
   "execution_count": 23,
   "metadata": {},
   "outputs": [
    {
     "data": {
      "application/vnd.jupyter.widget-view+json": {
       "model_id": "d440258226404d9bb8601a14f4a15868",
       "version_major": 2,
       "version_minor": 0
      },
      "text/plain": [
       "A Jupyter Widget"
      ]
     },
     "metadata": {},
     "output_type": "display_data"
    },
    {
     "name": "stdout",
     "output_type": "stream",
     "text": [
      "\n"
     ]
    }
   ],
   "source": [
    "# Requires DSSP installation\n",
    "# See the ssbio wiki for more information: https://github.com/SBRG/ssbio/wiki/Software-Installations\n",
    "my_gempro.get_dssp_annotations()"
   ]
  },
  {
   "cell_type": "raw",
   "metadata": {},
   "source": [
    ".. automethod:: ssbio.pipeline.gempro.GEMPRO.get_msms_annotations\n",
    "    :noindex:"
   ]
  },
  {
   "cell_type": "code",
   "execution_count": 24,
   "metadata": {},
   "outputs": [
    {
     "data": {
      "application/vnd.jupyter.widget-view+json": {
       "model_id": "6d26390f38184a9c81c89cf19e54964a",
       "version_major": 2,
       "version_minor": 0
      },
      "text/plain": [
       "A Jupyter Widget"
      ]
     },
     "metadata": {},
     "output_type": "display_data"
    },
    {
     "name": "stdout",
     "output_type": "stream",
     "text": [
      "\n"
     ]
    }
   ],
   "source": [
    "# Requires MSMS installation\n",
    "# See the ssbio wiki for more information: https://github.com/SBRG/ssbio/wiki/Software-Installations\n",
    "my_gempro.get_msms_annotations()"
   ]
  },
  {
   "cell_type": "markdown",
   "metadata": {},
   "source": [
    "---------------"
   ]
  },
  {
   "cell_type": "markdown",
   "metadata": {},
   "source": [
    "## Additional annotations"
   ]
  },
  {
   "cell_type": "markdown",
   "metadata": {},
   "source": [
    "### Loading feature files to the representative sequence\n",
    "\n",
    "\"Features\" are currently loaded directly from UniProt, but if another feature file is available for each protein, it can be loaded manually."
   ]
  },
  {
   "cell_type": "code",
   "execution_count": 25,
   "metadata": {
    "collapsed": true
   },
   "outputs": [],
   "source": [
    "# for g in my_gempro.genes_with_a_representative_sequence:\n",
    "#     g.protein.representative_sequence.feature_path = '/path/to/new/feature/file.gff'"
   ]
  },
  {
   "cell_type": "markdown",
   "metadata": {},
   "source": [
    "### Adding more properties\n",
    "\n",
    "Additional global or local properties can be loaded after loading the saved GEM-PRO.\n",
    "\n",
    "**Make sure to add `'seq_hydrophobicity-kd'` to the list of columns to be returned later on!**"
   ]
  },
  {
   "cell_type": "markdown",
   "metadata": {},
   "source": [
    "#### Example with hydrophobicity"
   ]
  },
  {
   "cell_type": "code",
   "execution_count": 26,
   "metadata": {
    "collapsed": true
   },
   "outputs": [],
   "source": [
    "# Kyte-Doolittle scale for hydrophobicity\n",
    "kd = { 'A': 1.8,'R':-4.5,'N':-3.5,'D':-3.5,'C': 2.5,\n",
    "       'Q':-3.5,'E':-3.5,'G':-0.4,'H':-3.2,'I': 4.5,\n",
    "       'L': 3.8,'K':-3.9,'M': 1.9,'F': 2.8,'P':-1.6,\n",
    "       'S':-0.8,'T':-0.7,'W':-0.9,'Y':-1.3,'V': 4.2 }"
   ]
  },
  {
   "cell_type": "code",
   "execution_count": 27,
   "metadata": {
    "collapsed": true
   },
   "outputs": [],
   "source": [
    "# Use Biopython to calculated hydrophobicity using a set sliding window length\n",
    "from Bio.SeqUtils.ProtParam import ProteinAnalysis\n",
    "\n",
    "window = 7\n",
    "\n",
    "for g in my_gempro.genes_with_a_representative_sequence:\n",
    "    # Create a ProteinAnalysis object -- see http://biopython.org/wiki/ProtParam\n",
    "    my_seq = g.protein.representative_sequence.seq_str\n",
    "    analysed_seq = ProteinAnalysis(my_seq)\n",
    "    \n",
    "    # Calculate scale\n",
    "    hydrophobicity = analysed_seq.protein_scale(param_dict=kd, window=window)\n",
    "    \n",
    "    # Correct list length by prepending and appending \"inf\" (result needs to be same length as sequence)\n",
    "    for i in range(window//2):\n",
    "        hydrophobicity.insert(0, float(\"Inf\"))\n",
    "        hydrophobicity.append(float(\"Inf\"))\n",
    "        \n",
    "    # Add new annotation to the representative sequence's \"letter_annotations\" dictionary\n",
    "    g.protein.representative_sequence.letter_annotations['hydrophobicity-kd'] = hydrophobicity"
   ]
  },
  {
   "cell_type": "markdown",
   "metadata": {},
   "source": [
    "---------------"
   ]
  },
  {
   "cell_type": "markdown",
   "metadata": {},
   "source": [
    "## Global protein properties"
   ]
  },
  {
   "cell_type": "markdown",
   "metadata": {},
   "source": [
    "Properties of the entire protein sequence/structure are stored in:\n",
    "1. The `representative_sequence` `annotations` field\n",
    "1. The `representative_structure`'s representative chain SeqRecord\n",
    "\n",
    "These properties describe aspects of the entire protein, such as its molecular weight, the percentage of amino acids in a particular secondary structure, etc."
   ]
  },
  {
   "cell_type": "code",
   "execution_count": 28,
   "metadata": {
    "scrolled": false
   },
   "outputs": [
    {
     "name": "stdout",
     "output_type": "stream",
     "text": [
      "Gene: b1276\n",
      "Number of structures: 3\n",
      "Representative sequence: P25516\n",
      "Representative structure: REP-ACON1_ECOLI\n",
      "----------------------------------------------------------------\n",
      "Global properties of the representative sequence:\n",
      "{'amino_acids_percent-biop': {'A': 0.08641975308641975,\n",
      "                              'C': 0.007856341189674524,\n",
      "                              'D': 0.06397306397306397,\n",
      "                              'E': 0.06172839506172839,\n",
      "                              'F': 0.025813692480359147,\n",
      "                              'G': 0.08754208754208755,\n",
      "                              'H': 0.020202020202020204,\n",
      "                              'I': 0.04826038159371493,\n",
      "                              'K': 0.04826038159371493,\n",
      "                              'L': 0.09427609427609428,\n",
      "                              'M': 0.028058361391694726,\n",
      "                              'N': 0.037037037037037035,\n",
      "                              'P': 0.05611672278338945,\n",
      "                              'Q': 0.030303030303030304,\n",
      "                              'R': 0.05723905723905724,\n",
      "                              'S': 0.05723905723905724,\n",
      "                              'T': 0.06060606060606061,\n",
      "                              'V': 0.0819304152637486,\n",
      "                              'W': 0.014590347923681257,\n",
      "                              'Y': 0.03254769921436588},\n",
      " 'aromaticity-biop': 0.07295173961840629,\n",
      " 'instability_index-biop': 36.28239057239071,\n",
      " 'isoelectric_point-biop': 5.59344482421875,\n",
      " 'molecular_weight-biop': 97676.06830000057,\n",
      " 'monoisotopic-biop': False,\n",
      " 'percent_acidic-pepstats': 0.1257,\n",
      " 'percent_aliphatic-pepstats': 0.31089,\n",
      " 'percent_aromatic-pepstats': 0.09315,\n",
      " 'percent_basic-pepstats': 0.1257,\n",
      " 'percent_charged-pepstats': 0.2514,\n",
      " 'percent_helix_naive-biop': 0.29741863075196406,\n",
      " 'percent_non-polar-pepstats': 0.56341,\n",
      " 'percent_polar-pepstats': 0.43659,\n",
      " 'percent_small-pepstats': 0.53872,\n",
      " 'percent_strand_naive-biop': 0.27048260381593714,\n",
      " 'percent_tiny-pepstats': 0.29966000000000004,\n",
      " 'percent_turn_naive-biop': 0.2379349046015713}\n",
      "----------------------------------------------------------------\n",
      "Global properties of the representative structure:\n",
      "{'percent_B-dssp': 0.010101010101010102,\n",
      " 'percent_C-dssp': 0.2222222222222222,\n",
      " 'percent_E-dssp': 0.1739618406285073,\n",
      " 'percent_G-dssp': 0.03928170594837262,\n",
      " 'percent_H-dssp': 0.345679012345679,\n",
      " 'percent_I-dssp': 0.005611672278338945,\n",
      " 'percent_S-dssp': 0.09427609427609428,\n",
      " 'percent_T-dssp': 0.10886644219977554}\n",
      "****************************************************************\n",
      "****************************************************************\n",
      "****************************************************************\n",
      "Gene: b0118\n",
      "Number of structures: 4\n",
      "Representative sequence: P36683\n",
      "Representative structure: REP-1l5j\n",
      "----------------------------------------------------------------\n",
      "Global properties of the representative sequence:\n",
      "{'amino_acids_percent-biop': {'A': 0.11213872832369942,\n",
      "                              'C': 0.011560693641618497,\n",
      "                              'D': 0.06358381502890173,\n",
      "                              'E': 0.06589595375722543,\n",
      "                              'F': 0.03352601156069364,\n",
      "                              'G': 0.08786127167630058,\n",
      "                              'H': 0.017341040462427744,\n",
      "                              'I': 0.05433526011560694,\n",
      "                              'K': 0.056647398843930635,\n",
      "                              'L': 0.10173410404624278,\n",
      "                              'M': 0.026589595375722544,\n",
      "                              'N': 0.035838150289017344,\n",
      "                              'P': 0.06242774566473988,\n",
      "                              'Q': 0.028901734104046242,\n",
      "                              'R': 0.04508670520231214,\n",
      "                              'S': 0.04161849710982659,\n",
      "                              'T': 0.05433526011560694,\n",
      "                              'V': 0.06705202312138728,\n",
      "                              'W': 0.009248554913294798,\n",
      "                              'Y': 0.024277456647398842},\n",
      " 'aromaticity-biop': 0.06705202312138728,\n",
      " 'instability_index-biop': 32.79631213872841,\n",
      " 'isoelectric_point-biop': 5.23931884765625,\n",
      " 'molecular_weight-biop': 93497.01500000065,\n",
      " 'monoisotopic-biop': False,\n",
      " 'percent_acidic-pepstats': 0.12948,\n",
      " 'percent_aliphatic-pepstats': 0.33526000000000006,\n",
      " 'percent_aromatic-pepstats': 0.08439,\n",
      " 'percent_basic-pepstats': 0.11907999999999999,\n",
      " 'percent_charged-pepstats': 0.24855,\n",
      " 'percent_helix_naive-biop': 0.29017341040462424,\n",
      " 'percent_non-polar-pepstats': 0.59075,\n",
      " 'percent_polar-pepstats': 0.40924999999999995,\n",
      " 'percent_small-pepstats': 0.53642,\n",
      " 'percent_strand_naive-biop': 0.3063583815028902,\n",
      " 'percent_tiny-pepstats': 0.30751,\n",
      " 'percent_turn_naive-biop': 0.22774566473988442}\n",
      "----------------------------------------------------------------\n",
      "Global properties of the representative structure:\n",
      "{'percent_B-dssp': 0.016241299303944315,\n",
      " 'percent_C-dssp': 0.20765661252900233,\n",
      " 'percent_E-dssp': 0.14037122969837587,\n",
      " 'percent_G-dssp': 0.03480278422273782,\n",
      " 'percent_H-dssp': 0.3805104408352668,\n",
      " 'percent_I-dssp': 0.0,\n",
      " 'percent_S-dssp': 0.08236658932714618,\n",
      " 'percent_T-dssp': 0.13805104408352667}\n",
      "****************************************************************\n",
      "****************************************************************\n",
      "****************************************************************\n"
     ]
    }
   ],
   "source": [
    "# Printing all global protein properties\n",
    "\n",
    "from pprint import pprint\n",
    "\n",
    "# Only looking at 2 genes for now, remove [:2] to gather properties for all\n",
    "for g in my_gempro.genes_with_a_representative_sequence[:2]:\n",
    "    repseq = g.protein.representative_sequence\n",
    "    repstruct = g.protein.representative_structure\n",
    "    repchain = g.protein.representative_chain\n",
    "    \n",
    "    print('Gene: {}'.format(g.id))\n",
    "    print('Number of structures: {}'.format(g.protein.num_structures))\n",
    "    print('Representative sequence: {}'.format(repseq.id))\n",
    "    print('Representative structure: {}'.format(repstruct.id))\n",
    "    \n",
    "    print('----------------------------------------------------------------')\n",
    "    print('Global properties of the representative sequence:')\n",
    "    pprint(repseq.annotations)\n",
    "    \n",
    "    print('----------------------------------------------------------------')\n",
    "    print('Global properties of the representative structure:')\n",
    "    pprint(repstruct.chains.get_by_id(repchain).seq_record.annotations)\n",
    "    \n",
    "    print('****************************************************************')\n",
    "    print('****************************************************************')\n",
    "    print('****************************************************************')\n"
   ]
  },
  {
   "cell_type": "markdown",
   "metadata": {},
   "source": [
    "------------------------------"
   ]
  },
  {
   "cell_type": "markdown",
   "metadata": {},
   "source": [
    "## Local protein properties"
   ]
  },
  {
   "cell_type": "markdown",
   "metadata": {},
   "source": [
    "Properties of specific residues are stored in:\n",
    "1. The `representative_sequence`'s `letter_annotations` attribute\n",
    "1. The `representative_structure`'s representative chain SeqRecord\n",
    "\n",
    "Specific sites, like metal or metabolite binding sites, can be found in the `representative_sequence`'s `features` attribute. This information is retrieved from UniProt. The below examples extract features for the metal binding sites.\n",
    "\n",
    "The properties related to those sites can be retrieved using the function `get_residue_annotations`.\n",
    "\n",
    "**UniProt contains more information than just \"sites\"**"
   ]
  },
  {
   "cell_type": "code",
   "execution_count": 29,
   "metadata": {},
   "outputs": [
    {
     "data": {
      "text/plain": [
       "'b1276'"
      ]
     },
     "execution_count": 29,
     "metadata": {},
     "output_type": "execute_result"
    },
    {
     "data": {
      "text/plain": [
       "[SeqFeature(FeatureLocation(ExactPosition(0), ExactPosition(1)), type='initiator methionine'),\n",
       " SeqFeature(FeatureLocation(ExactPosition(1), ExactPosition(891)), type='chain', id='PRO_0000076661'),\n",
       " SeqFeature(FeatureLocation(ExactPosition(434), ExactPosition(435)), type='metal ion-binding site'),\n",
       " SeqFeature(FeatureLocation(ExactPosition(500), ExactPosition(501)), type='metal ion-binding site'),\n",
       " SeqFeature(FeatureLocation(ExactPosition(503), ExactPosition(504)), type='metal ion-binding site'),\n",
       " SeqFeature(FeatureLocation(ExactPosition(521), ExactPosition(522)), type='sequence conflict')]"
      ]
     },
     "execution_count": 29,
     "metadata": {},
     "output_type": "execute_result"
    },
    {
     "data": {
      "text/plain": [
       "'b0118'"
      ]
     },
     "execution_count": 29,
     "metadata": {},
     "output_type": "execute_result"
    },
    {
     "data": {
      "text/plain": [
       "[SeqFeature(FeatureLocation(ExactPosition(0), ExactPosition(865)), type='chain', id='PRO_0000076675'),\n",
       " SeqFeature(FeatureLocation(ExactPosition(243), ExactPosition(246)), type='region of interest'),\n",
       " SeqFeature(FeatureLocation(ExactPosition(413), ExactPosition(416)), type='region of interest'),\n",
       " SeqFeature(FeatureLocation(ExactPosition(709), ExactPosition(710)), type='metal ion-binding site'),\n",
       " SeqFeature(FeatureLocation(ExactPosition(768), ExactPosition(769)), type='metal ion-binding site'),\n",
       " SeqFeature(FeatureLocation(ExactPosition(771), ExactPosition(772)), type='metal ion-binding site'),\n",
       " SeqFeature(FeatureLocation(ExactPosition(190), ExactPosition(191)), type='binding site'),\n",
       " SeqFeature(FeatureLocation(ExactPosition(497), ExactPosition(498)), type='binding site'),\n",
       " SeqFeature(FeatureLocation(ExactPosition(790), ExactPosition(791)), type='binding site'),\n",
       " SeqFeature(FeatureLocation(ExactPosition(795), ExactPosition(796)), type='binding site'),\n",
       " SeqFeature(FeatureLocation(ExactPosition(768), ExactPosition(769)), type='mutagenesis site'),\n",
       " SeqFeature(FeatureLocation(ExactPosition(1), ExactPosition(14)), type='helix'),\n",
       " SeqFeature(FeatureLocation(ExactPosition(23), ExactPosition(35)), type='helix'),\n",
       " SeqFeature(FeatureLocation(ExactPosition(41), ExactPosition(51)), type='helix'),\n",
       " SeqFeature(FeatureLocation(ExactPosition(58), ExactPosition(72)), type='helix'),\n",
       " SeqFeature(FeatureLocation(ExactPosition(82), ExactPosition(90)), type='helix'),\n",
       " SeqFeature(FeatureLocation(ExactPosition(98), ExactPosition(104)), type='helix'),\n",
       " SeqFeature(FeatureLocation(ExactPosition(104), ExactPosition(107)), type='helix'),\n",
       " SeqFeature(FeatureLocation(ExactPosition(108), ExactPosition(111)), type='turn'),\n",
       " SeqFeature(FeatureLocation(ExactPosition(111), ExactPosition(120)), type='helix'),\n",
       " SeqFeature(FeatureLocation(ExactPosition(127), ExactPosition(137)), type='helix'),\n",
       " SeqFeature(FeatureLocation(ExactPosition(140), ExactPosition(151)), type='helix'),\n",
       " SeqFeature(FeatureLocation(ExactPosition(153), ExactPosition(157)), type='helix'),\n",
       " SeqFeature(FeatureLocation(ExactPosition(165), ExactPosition(178)), type='strand'),\n",
       " SeqFeature(FeatureLocation(ExactPosition(178), ExactPosition(182)), type='helix'),\n",
       " SeqFeature(FeatureLocation(ExactPosition(184), ExactPosition(190)), type='helix'),\n",
       " SeqFeature(FeatureLocation(ExactPosition(193), ExactPosition(197)), type='helix'),\n",
       " SeqFeature(FeatureLocation(ExactPosition(197), ExactPosition(200)), type='helix'),\n",
       " SeqFeature(FeatureLocation(ExactPosition(213), ExactPosition(216)), type='turn'),\n",
       " SeqFeature(FeatureLocation(ExactPosition(219), ExactPosition(227)), type='helix'),\n",
       " SeqFeature(FeatureLocation(ExactPosition(232), ExactPosition(243)), type='strand'),\n",
       " SeqFeature(FeatureLocation(ExactPosition(247), ExactPosition(257)), type='helix'),\n",
       " SeqFeature(FeatureLocation(ExactPosition(257), ExactPosition(261)), type='strand'),\n",
       " SeqFeature(FeatureLocation(ExactPosition(263), ExactPosition(269)), type='strand'),\n",
       " SeqFeature(FeatureLocation(ExactPosition(271), ExactPosition(278)), type='strand'),\n",
       " SeqFeature(FeatureLocation(ExactPosition(279), ExactPosition(288)), type='helix'),\n",
       " SeqFeature(FeatureLocation(ExactPosition(291), ExactPosition(295)), type='strand'),\n",
       " SeqFeature(FeatureLocation(ExactPosition(305), ExactPosition(310)), type='strand'),\n",
       " SeqFeature(FeatureLocation(ExactPosition(310), ExactPosition(314)), type='turn'),\n",
       " SeqFeature(FeatureLocation(ExactPosition(314), ExactPosition(318)), type='strand'),\n",
       " SeqFeature(FeatureLocation(ExactPosition(318), ExactPosition(321)), type='turn'),\n",
       " SeqFeature(FeatureLocation(ExactPosition(323), ExactPosition(327)), type='strand'),\n",
       " SeqFeature(FeatureLocation(ExactPosition(333), ExactPosition(341)), type='helix'),\n",
       " SeqFeature(FeatureLocation(ExactPosition(343), ExactPosition(360)), type='helix'),\n",
       " SeqFeature(FeatureLocation(ExactPosition(383), ExactPosition(391)), type='helix'),\n",
       " SeqFeature(FeatureLocation(ExactPosition(391), ExactPosition(394)), type='turn'),\n",
       " SeqFeature(FeatureLocation(ExactPosition(408), ExactPosition(413)), type='strand'),\n",
       " SeqFeature(FeatureLocation(ExactPosition(414), ExactPosition(417)), type='turn'),\n",
       " SeqFeature(FeatureLocation(ExactPosition(417), ExactPosition(427)), type='helix'),\n",
       " SeqFeature(FeatureLocation(ExactPosition(437), ExactPosition(440)), type='strand'),\n",
       " SeqFeature(FeatureLocation(ExactPosition(443), ExactPosition(448)), type='strand'),\n",
       " SeqFeature(FeatureLocation(ExactPosition(450), ExactPosition(465)), type='helix'),\n",
       " SeqFeature(FeatureLocation(ExactPosition(465), ExactPosition(468)), type='turn'),\n",
       " SeqFeature(FeatureLocation(ExactPosition(478), ExactPosition(483)), type='helix'),\n",
       " SeqFeature(FeatureLocation(ExactPosition(483), ExactPosition(486)), type='helix'),\n",
       " SeqFeature(FeatureLocation(ExactPosition(491), ExactPosition(497)), type='strand'),\n",
       " SeqFeature(FeatureLocation(ExactPosition(502), ExactPosition(507)), type='strand'),\n",
       " SeqFeature(FeatureLocation(ExactPosition(511), ExactPosition(521)), type='helix'),\n",
       " SeqFeature(FeatureLocation(ExactPosition(530), ExactPosition(538)), type='strand'),\n",
       " SeqFeature(FeatureLocation(ExactPosition(545), ExactPosition(559)), type='helix'),\n",
       " SeqFeature(FeatureLocation(ExactPosition(572), ExactPosition(576)), type='turn'),\n",
       " SeqFeature(FeatureLocation(ExactPosition(576), ExactPosition(583)), type='strand'),\n",
       " SeqFeature(FeatureLocation(ExactPosition(588), ExactPosition(597)), type='helix'),\n",
       " SeqFeature(FeatureLocation(ExactPosition(597), ExactPosition(600)), type='helix'),\n",
       " SeqFeature(FeatureLocation(ExactPosition(600), ExactPosition(603)), type='turn'),\n",
       " SeqFeature(FeatureLocation(ExactPosition(604), ExactPosition(609)), type='strand'),\n",
       " SeqFeature(FeatureLocation(ExactPosition(612), ExactPosition(632)), type='helix'),\n",
       " SeqFeature(FeatureLocation(ExactPosition(637), ExactPosition(653)), type='helix'),\n",
       " SeqFeature(FeatureLocation(ExactPosition(666), ExactPosition(673)), type='strand'),\n",
       " SeqFeature(FeatureLocation(ExactPosition(673), ExactPosition(676)), type='helix'),\n",
       " SeqFeature(FeatureLocation(ExactPosition(680), ExactPosition(683)), type='strand'),\n",
       " SeqFeature(FeatureLocation(ExactPosition(690), ExactPosition(693)), type='strand'),\n",
       " SeqFeature(FeatureLocation(ExactPosition(693), ExactPosition(696)), type='helix'),\n",
       " SeqFeature(FeatureLocation(ExactPosition(696), ExactPosition(699)), type='turn'),\n",
       " SeqFeature(FeatureLocation(ExactPosition(703), ExactPosition(707)), type='strand'),\n",
       " SeqFeature(FeatureLocation(ExactPosition(713), ExactPosition(726)), type='helix'),\n",
       " SeqFeature(FeatureLocation(ExactPosition(731), ExactPosition(737)), type='strand'),\n",
       " SeqFeature(FeatureLocation(ExactPosition(741), ExactPosition(750)), type='helix'),\n",
       " SeqFeature(FeatureLocation(ExactPosition(752), ExactPosition(760)), type='helix'),\n",
       " SeqFeature(FeatureLocation(ExactPosition(769), ExactPosition(772)), type='helix'),\n",
       " SeqFeature(FeatureLocation(ExactPosition(774), ExactPosition(777)), type='strand'),\n",
       " SeqFeature(FeatureLocation(ExactPosition(783), ExactPosition(790)), type='strand'),\n",
       " SeqFeature(FeatureLocation(ExactPosition(795), ExactPosition(798)), type='strand'),\n",
       " SeqFeature(FeatureLocation(ExactPosition(801), ExactPosition(805)), type='strand'),\n",
       " SeqFeature(FeatureLocation(ExactPosition(807), ExactPosition(817)), type='helix'),\n",
       " SeqFeature(FeatureLocation(ExactPosition(822), ExactPosition(834)), type='helix'),\n",
       " SeqFeature(FeatureLocation(ExactPosition(836), ExactPosition(840)), type='helix'),\n",
       " SeqFeature(FeatureLocation(ExactPosition(845), ExactPosition(848)), type='helix'),\n",
       " SeqFeature(FeatureLocation(ExactPosition(849), ExactPosition(857)), type='helix')]"
      ]
     },
     "execution_count": 29,
     "metadata": {},
     "output_type": "execute_result"
    }
   ],
   "source": [
    "# Looking at all features\n",
    "for g in my_gempro.genes_with_a_representative_sequence[:2]:\n",
    "    g.id\n",
    "    \n",
    "    # UniProt features\n",
    "    [x for x in g.protein.representative_sequence.features]\n",
    "    \n",
    "    # Catalytic site atlas features\n",
    "    for s in g.protein.structures:\n",
    "        if s.structure_file:\n",
    "            for c in s.mapped_chains:\n",
    "                if s.chains.get_by_id(c).seq_record:\n",
    "                    if s.chains.get_by_id(c).seq_record.features:\n",
    "                        [x for x in s.chains.get_by_id(c).seq_record.features]"
   ]
  },
  {
   "cell_type": "raw",
   "metadata": {},
   "source": [
    ".. automethod:: ssbio.core.protein.Protein.get_residue_annotations\n",
    "    :noindex:"
   ]
  },
  {
   "cell_type": "code",
   "execution_count": 30,
   "metadata": {},
   "outputs": [
    {
     "data": {
      "text/html": [
       "<div>\n",
       "<style scoped>\n",
       "    .dataframe tbody tr th:only-of-type {\n",
       "        vertical-align: middle;\n",
       "    }\n",
       "\n",
       "    .dataframe tbody tr th {\n",
       "        vertical-align: top;\n",
       "    }\n",
       "\n",
       "    .dataframe thead th {\n",
       "        text-align: right;\n",
       "    }\n",
       "</style>\n",
       "<table border=\"1\" class=\"dataframe\">\n",
       "  <thead>\n",
       "    <tr style=\"text-align: right;\">\n",
       "      <th></th>\n",
       "      <th></th>\n",
       "      <th></th>\n",
       "      <th></th>\n",
       "      <th></th>\n",
       "      <th>seq_residue</th>\n",
       "      <th>struct_residue</th>\n",
       "      <th>struct_resnum</th>\n",
       "      <th>seq_SS-sspro</th>\n",
       "      <th>seq_SS-sspro8</th>\n",
       "      <th>seq_RSA-accpro</th>\n",
       "      <th>seq_RSA-accpro20</th>\n",
       "      <th>struct_SS-dssp</th>\n",
       "      <th>struct_RSA-dssp</th>\n",
       "      <th>struct_ASA-dssp</th>\n",
       "      <th>struct_PHI-dssp</th>\n",
       "      <th>struct_PSI-dssp</th>\n",
       "      <th>struct_CA_DEPTH-msms</th>\n",
       "      <th>struct_RES_DEPTH-msms</th>\n",
       "    </tr>\n",
       "    <tr>\n",
       "      <th>gene_id</th>\n",
       "      <th>seq_id</th>\n",
       "      <th>struct_id</th>\n",
       "      <th>chain_id</th>\n",
       "      <th>seq_resnum</th>\n",
       "      <th></th>\n",
       "      <th></th>\n",
       "      <th></th>\n",
       "      <th></th>\n",
       "      <th></th>\n",
       "      <th></th>\n",
       "      <th></th>\n",
       "      <th></th>\n",
       "      <th></th>\n",
       "      <th></th>\n",
       "      <th></th>\n",
       "      <th></th>\n",
       "      <th></th>\n",
       "      <th></th>\n",
       "    </tr>\n",
       "  </thead>\n",
       "  <tbody>\n",
       "    <tr>\n",
       "      <th rowspan=\"3\" valign=\"top\">b1276</th>\n",
       "      <th rowspan=\"3\" valign=\"top\">P25516</th>\n",
       "      <th rowspan=\"3\" valign=\"top\">REP-ACON1_ECOLI</th>\n",
       "      <th rowspan=\"3\" valign=\"top\">X</th>\n",
       "      <th>435</th>\n",
       "      <td>C</td>\n",
       "      <td>C</td>\n",
       "      <td>435</td>\n",
       "      <td>NaN</td>\n",
       "      <td>NaN</td>\n",
       "      <td>NaN</td>\n",
       "      <td>NaN</td>\n",
       "      <td>H</td>\n",
       "      <td>0.059259</td>\n",
       "      <td>8.0</td>\n",
       "      <td>-61.1</td>\n",
       "      <td>-26.6</td>\n",
       "      <td>2.656722</td>\n",
       "      <td>2.813536</td>\n",
       "    </tr>\n",
       "    <tr>\n",
       "      <th>501</th>\n",
       "      <td>C</td>\n",
       "      <td>C</td>\n",
       "      <td>501</td>\n",
       "      <td>NaN</td>\n",
       "      <td>NaN</td>\n",
       "      <td>NaN</td>\n",
       "      <td>NaN</td>\n",
       "      <td>S</td>\n",
       "      <td>0.088889</td>\n",
       "      <td>12.0</td>\n",
       "      <td>-61.0</td>\n",
       "      <td>-50.0</td>\n",
       "      <td>1.999713</td>\n",
       "      <td>2.409119</td>\n",
       "    </tr>\n",
       "    <tr>\n",
       "      <th>504</th>\n",
       "      <td>C</td>\n",
       "      <td>C</td>\n",
       "      <td>504</td>\n",
       "      <td>NaN</td>\n",
       "      <td>NaN</td>\n",
       "      <td>NaN</td>\n",
       "      <td>NaN</td>\n",
       "      <td>G</td>\n",
       "      <td>0.259259</td>\n",
       "      <td>35.0</td>\n",
       "      <td>-56.0</td>\n",
       "      <td>-45.6</td>\n",
       "      <td>1.999634</td>\n",
       "      <td>1.961484</td>\n",
       "    </tr>\n",
       "    <tr>\n",
       "      <th rowspan=\"3\" valign=\"top\">b0118</th>\n",
       "      <th rowspan=\"3\" valign=\"top\">P36683</th>\n",
       "      <th rowspan=\"3\" valign=\"top\">REP-1l5j</th>\n",
       "      <th rowspan=\"3\" valign=\"top\">A</th>\n",
       "      <th>710</th>\n",
       "      <td>C</td>\n",
       "      <td>C</td>\n",
       "      <td>710</td>\n",
       "      <td>NaN</td>\n",
       "      <td>NaN</td>\n",
       "      <td>NaN</td>\n",
       "      <td>NaN</td>\n",
       "      <td>T</td>\n",
       "      <td>0.118519</td>\n",
       "      <td>16.0</td>\n",
       "      <td>-67.1</td>\n",
       "      <td>-7.2</td>\n",
       "      <td>10.148960</td>\n",
       "      <td>10.009109</td>\n",
       "    </tr>\n",
       "    <tr>\n",
       "      <th>769</th>\n",
       "      <td>C</td>\n",
       "      <td>C</td>\n",
       "      <td>769</td>\n",
       "      <td>NaN</td>\n",
       "      <td>NaN</td>\n",
       "      <td>NaN</td>\n",
       "      <td>NaN</td>\n",
       "      <td>-</td>\n",
       "      <td>0.088889</td>\n",
       "      <td>12.0</td>\n",
       "      <td>-67.8</td>\n",
       "      <td>-28.3</td>\n",
       "      <td>8.296585</td>\n",
       "      <td>8.049832</td>\n",
       "    </tr>\n",
       "    <tr>\n",
       "      <th>772</th>\n",
       "      <td>C</td>\n",
       "      <td>C</td>\n",
       "      <td>772</td>\n",
       "      <td>NaN</td>\n",
       "      <td>NaN</td>\n",
       "      <td>NaN</td>\n",
       "      <td>NaN</td>\n",
       "      <td>G</td>\n",
       "      <td>0.081481</td>\n",
       "      <td>11.0</td>\n",
       "      <td>-50.2</td>\n",
       "      <td>-38.0</td>\n",
       "      <td>8.282292</td>\n",
       "      <td>8.239369</td>\n",
       "    </tr>\n",
       "  </tbody>\n",
       "</table>\n",
       "</div>"
      ],
      "text/plain": [
       "                                                   seq_residue struct_residue  \\\n",
       "gene_id seq_id struct_id       chain_id seq_resnum                              \n",
       "b1276   P25516 REP-ACON1_ECOLI X        435                  C              C   \n",
       "                                        501                  C              C   \n",
       "                                        504                  C              C   \n",
       "b0118   P36683 REP-1l5j        A        710                  C              C   \n",
       "                                        769                  C              C   \n",
       "                                        772                  C              C   \n",
       "\n",
       "                                                    struct_resnum  \\\n",
       "gene_id seq_id struct_id       chain_id seq_resnum                  \n",
       "b1276   P25516 REP-ACON1_ECOLI X        435                   435   \n",
       "                                        501                   501   \n",
       "                                        504                   504   \n",
       "b0118   P36683 REP-1l5j        A        710                   710   \n",
       "                                        769                   769   \n",
       "                                        772                   772   \n",
       "\n",
       "                                                    seq_SS-sspro  \\\n",
       "gene_id seq_id struct_id       chain_id seq_resnum                 \n",
       "b1276   P25516 REP-ACON1_ECOLI X        435                  NaN   \n",
       "                                        501                  NaN   \n",
       "                                        504                  NaN   \n",
       "b0118   P36683 REP-1l5j        A        710                  NaN   \n",
       "                                        769                  NaN   \n",
       "                                        772                  NaN   \n",
       "\n",
       "                                                    seq_SS-sspro8  \\\n",
       "gene_id seq_id struct_id       chain_id seq_resnum                  \n",
       "b1276   P25516 REP-ACON1_ECOLI X        435                   NaN   \n",
       "                                        501                   NaN   \n",
       "                                        504                   NaN   \n",
       "b0118   P36683 REP-1l5j        A        710                   NaN   \n",
       "                                        769                   NaN   \n",
       "                                        772                   NaN   \n",
       "\n",
       "                                                    seq_RSA-accpro  \\\n",
       "gene_id seq_id struct_id       chain_id seq_resnum                   \n",
       "b1276   P25516 REP-ACON1_ECOLI X        435                    NaN   \n",
       "                                        501                    NaN   \n",
       "                                        504                    NaN   \n",
       "b0118   P36683 REP-1l5j        A        710                    NaN   \n",
       "                                        769                    NaN   \n",
       "                                        772                    NaN   \n",
       "\n",
       "                                                    seq_RSA-accpro20  \\\n",
       "gene_id seq_id struct_id       chain_id seq_resnum                     \n",
       "b1276   P25516 REP-ACON1_ECOLI X        435                      NaN   \n",
       "                                        501                      NaN   \n",
       "                                        504                      NaN   \n",
       "b0118   P36683 REP-1l5j        A        710                      NaN   \n",
       "                                        769                      NaN   \n",
       "                                        772                      NaN   \n",
       "\n",
       "                                                   struct_SS-dssp  \\\n",
       "gene_id seq_id struct_id       chain_id seq_resnum                  \n",
       "b1276   P25516 REP-ACON1_ECOLI X        435                     H   \n",
       "                                        501                     S   \n",
       "                                        504                     G   \n",
       "b0118   P36683 REP-1l5j        A        710                     T   \n",
       "                                        769                     -   \n",
       "                                        772                     G   \n",
       "\n",
       "                                                    struct_RSA-dssp  \\\n",
       "gene_id seq_id struct_id       chain_id seq_resnum                    \n",
       "b1276   P25516 REP-ACON1_ECOLI X        435                0.059259   \n",
       "                                        501                0.088889   \n",
       "                                        504                0.259259   \n",
       "b0118   P36683 REP-1l5j        A        710                0.118519   \n",
       "                                        769                0.088889   \n",
       "                                        772                0.081481   \n",
       "\n",
       "                                                    struct_ASA-dssp  \\\n",
       "gene_id seq_id struct_id       chain_id seq_resnum                    \n",
       "b1276   P25516 REP-ACON1_ECOLI X        435                     8.0   \n",
       "                                        501                    12.0   \n",
       "                                        504                    35.0   \n",
       "b0118   P36683 REP-1l5j        A        710                    16.0   \n",
       "                                        769                    12.0   \n",
       "                                        772                    11.0   \n",
       "\n",
       "                                                    struct_PHI-dssp  \\\n",
       "gene_id seq_id struct_id       chain_id seq_resnum                    \n",
       "b1276   P25516 REP-ACON1_ECOLI X        435                   -61.1   \n",
       "                                        501                   -61.0   \n",
       "                                        504                   -56.0   \n",
       "b0118   P36683 REP-1l5j        A        710                   -67.1   \n",
       "                                        769                   -67.8   \n",
       "                                        772                   -50.2   \n",
       "\n",
       "                                                    struct_PSI-dssp  \\\n",
       "gene_id seq_id struct_id       chain_id seq_resnum                    \n",
       "b1276   P25516 REP-ACON1_ECOLI X        435                   -26.6   \n",
       "                                        501                   -50.0   \n",
       "                                        504                   -45.6   \n",
       "b0118   P36683 REP-1l5j        A        710                    -7.2   \n",
       "                                        769                   -28.3   \n",
       "                                        772                   -38.0   \n",
       "\n",
       "                                                    struct_CA_DEPTH-msms  \\\n",
       "gene_id seq_id struct_id       chain_id seq_resnum                         \n",
       "b1276   P25516 REP-ACON1_ECOLI X        435                     2.656722   \n",
       "                                        501                     1.999713   \n",
       "                                        504                     1.999634   \n",
       "b0118   P36683 REP-1l5j        A        710                    10.148960   \n",
       "                                        769                     8.296585   \n",
       "                                        772                     8.282292   \n",
       "\n",
       "                                                    struct_RES_DEPTH-msms  \n",
       "gene_id seq_id struct_id       chain_id seq_resnum                         \n",
       "b1276   P25516 REP-ACON1_ECOLI X        435                      2.813536  \n",
       "                                        501                      2.409119  \n",
       "                                        504                      1.961484  \n",
       "b0118   P36683 REP-1l5j        A        710                     10.009109  \n",
       "                                        769                      8.049832  \n",
       "                                        772                      8.239369  "
      ]
     },
     "execution_count": 30,
     "metadata": {},
     "output_type": "execute_result"
    }
   ],
   "source": [
    "metal_info = []\n",
    "\n",
    "for g in my_gempro.genes:\n",
    "    for f in g.protein.representative_sequence.features:\n",
    "        if 'metal' in f.type.lower():\n",
    "            res_info = g.protein.get_residue_annotations(f.location.end, use_representatives=True)\n",
    "            res_info['gene_id'] = g.id\n",
    "            res_info['seq_id'] = g.protein.representative_sequence.id\n",
    "            res_info['struct_id'] = g.protein.representative_structure.id\n",
    "            res_info['chain_id'] = g.protein.representative_chain\n",
    "            metal_info.append(res_info)\n",
    "        \n",
    "cols = ['gene_id', 'seq_id', 'struct_id', 'chain_id',\n",
    "        'seq_residue', 'seq_resnum', 'struct_residue','struct_resnum',\n",
    "        'seq_SS-sspro','seq_SS-sspro8','seq_RSA-accpro','seq_RSA-accpro20',\n",
    "        'struct_SS-dssp','struct_RSA-dssp', 'struct_ASA-dssp', \n",
    "        'struct_PHI-dssp', 'struct_PSI-dssp', 'struct_CA_DEPTH-msms', 'struct_RES_DEPTH-msms']\n",
    "\n",
    "pd.DataFrame.from_records(metal_info, columns=cols).set_index(['gene_id', 'seq_id', 'struct_id', 'chain_id', 'seq_resnum'])"
   ]
  },
  {
   "cell_type": "markdown",
   "metadata": {},
   "source": [
    "### Column definitions\n",
    "\n",
    "##### General\n",
    "- `gene_id`: Gene ID used in GEM-PRO project\n",
    "- `seq_id`: Representative protein sequence ID\n",
    "- `struct_id`: Representative protein structure ID, with `REP-` prepended to it. 4 letter structure IDs are experimental structures from the PDB, others are homology models\n",
    "- `chain_id`: Representative chain ID in the representative structure\n",
    "\n",
    "##### General -- residue specific\n",
    "- `seq_resnum`: Residue number of the amino acid in the **representative sequence**\n",
    "- `site_name`: Name of the feature as defined in UniProt\n",
    "- `seq_residue`: Amino acid in the representative sequence at the residue number\n",
    "- `struct_residue`: Amino acid in the representative structure at the residue number\n",
    "- `struct_resnum`: Residue number of the amino acid in the **representative structure**\n",
    "\n",
    "##### Residue-level properties calculated or predicted from sequence:\n",
    "- `seq_SS-sspro`: Predicted secondary structure, 3 definitions (from the SCRATCH program)\n",
    "- `seq_SS-sspro8`: Predicted secondary structure, 8 definitions (SCRATCH)\n",
    "- `seq_RSA-accpro`: Predicted exposed (e) or buried (-) residue (SCRATCH)\n",
    "- `seq_RSA-accpro20`: Predicted exposed/buried, 0 to 100 scale (SCRATCH)\n",
    "\n",
    "\n",
    "##### Residue-level properties calculated from structure:\n",
    "- `struct_SS-dssp`: Secondary structure (DSSP program)\n",
    "- `struct_RSA-dssp`: Relative solvent accessibility (DSSP) \n",
    "- `struct_ASA-dssp`: Solvent accessibility, absolute value (DSSP)\n",
    "- `struct_PHI-dssp`: Phi angle measure (DSSP)\n",
    "- `struct_PSI-dssp`: Psi angle measure (DSSP)\n",
    "- `struct_RES_DEPTH-msms`: Calculated residue depth averaged for all atoms in the residue (MSMS program)\n",
    "- `struct_CA_DEPTH-msms`: Calculated residue depth for the carbon alpha atom (MSMS)"
   ]
  },
  {
   "cell_type": "markdown",
   "metadata": {},
   "source": [
    "### Visualizing residues"
   ]
  },
  {
   "cell_type": "raw",
   "metadata": {},
   "source": [
    ".. automethod:: ssbio.protein.structure.structprop.StructProp.view_structure\n",
    "    :noindex:"
   ]
  },
  {
   "cell_type": "raw",
   "metadata": {},
   "source": [
    ".. automethod:: ssbio.protein.structure.structprop.StructProp.add_residues_highlight_to_nglview\n",
    "    :noindex:"
   ]
  },
  {
   "cell_type": "code",
   "execution_count": 31,
   "metadata": {},
   "outputs": [
    {
     "name": "stdout",
     "output_type": "stream",
     "text": [
      "[435, 501, 504]\n"
     ]
    },
    {
     "name": "stderr",
     "output_type": "stream",
     "text": [
      "[2018-02-05 17:00] [ssbio.protein.structure.structprop] INFO: Selection: ( :X ) and not hydrogen and ( 504 or 435 or 501 )\n"
     ]
    },
    {
     "data": {
      "application/vnd.jupyter.widget-view+json": {
       "model_id": "630075e69f0d455babec4d014bc5a205",
       "version_major": 2,
       "version_minor": 0
      },
      "text/plain": [
       "A Jupyter Widget"
      ]
     },
     "metadata": {},
     "output_type": "display_data"
    },
    {
     "name": "stdout",
     "output_type": "stream",
     "text": [
      "[710, 769, 772]\n"
     ]
    },
    {
     "name": "stderr",
     "output_type": "stream",
     "text": [
      "[2018-02-05 17:00] [ssbio.protein.structure.structprop] INFO: Selection: ( :A ) and not hydrogen and ( 769 or 772 or 710 )\n"
     ]
    },
    {
     "data": {
      "application/vnd.jupyter.widget-view+json": {
       "model_id": "4f744bca3fb8462393d0e70a5df68794",
       "version_major": 2,
       "version_minor": 0
      },
      "text/plain": [
       "A Jupyter Widget"
      ]
     },
     "metadata": {},
     "output_type": "display_data"
    }
   ],
   "source": [
    "for g in my_gempro.genes:\n",
    "    \n",
    "    # Gather residue numbers\n",
    "    metal_binding_structure_residues = []\n",
    "    for f in g.protein.representative_sequence.features:\n",
    "        if 'metal' in f.type.lower():\n",
    "            res_info = g.protein.get_residue_annotations(f.location.end, use_representatives=True)\n",
    "            metal_binding_structure_residues.append(res_info['struct_resnum'])\n",
    "    print(metal_binding_structure_residues)\n",
    "    \n",
    "    # Display structure\n",
    "    view = g.protein.representative_structure.view_structure()\n",
    "    g.protein.representative_structure.add_residues_highlight_to_nglview(view=view, structure_resnums=metal_binding_structure_residues)\n",
    "    \n",
    "    view"
   ]
  },
  {
   "cell_type": "markdown",
   "metadata": {},
   "source": [
    "### Comparing features in different structures of the same protein"
   ]
  },
  {
   "cell_type": "code",
   "execution_count": 32,
   "metadata": {
    "collapsed": true
   },
   "outputs": [],
   "source": [
    "# Run all sequence to structure alignments\n",
    "for g in my_gempro.genes:\n",
    "    for s in g.protein.structures:\n",
    "        g.protein.align_seqprop_to_structprop(seqprop=g.protein.representative_sequence, structprop=s)"
   ]
  },
  {
   "cell_type": "code",
   "execution_count": 33,
   "metadata": {},
   "outputs": [
    {
     "data": {
      "text/html": [
       "<div>\n",
       "<style scoped>\n",
       "    .dataframe tbody tr th:only-of-type {\n",
       "        vertical-align: middle;\n",
       "    }\n",
       "\n",
       "    .dataframe tbody tr th {\n",
       "        vertical-align: top;\n",
       "    }\n",
       "\n",
       "    .dataframe thead th {\n",
       "        text-align: right;\n",
       "    }\n",
       "</style>\n",
       "<table border=\"1\" class=\"dataframe\">\n",
       "  <thead>\n",
       "    <tr style=\"text-align: right;\">\n",
       "      <th></th>\n",
       "      <th></th>\n",
       "      <th></th>\n",
       "      <th></th>\n",
       "      <th></th>\n",
       "      <th>chain_id</th>\n",
       "      <th>struct_residue</th>\n",
       "      <th>struct_resnum</th>\n",
       "      <th>seq_SS-sspro</th>\n",
       "      <th>seq_SS-sspro8</th>\n",
       "      <th>seq_RSA-accpro</th>\n",
       "      <th>seq_RSA-accpro20</th>\n",
       "      <th>struct_SS-dssp</th>\n",
       "      <th>struct_RSA-dssp</th>\n",
       "      <th>struct_ASA-dssp</th>\n",
       "      <th>struct_PHI-dssp</th>\n",
       "      <th>struct_PSI-dssp</th>\n",
       "      <th>struct_CA_DEPTH-msms</th>\n",
       "      <th>struct_RES_DEPTH-msms</th>\n",
       "    </tr>\n",
       "    <tr>\n",
       "      <th>gene_id</th>\n",
       "      <th>seq_id</th>\n",
       "      <th>seq_resnum</th>\n",
       "      <th>seq_residue</th>\n",
       "      <th>struct_id</th>\n",
       "      <th></th>\n",
       "      <th></th>\n",
       "      <th></th>\n",
       "      <th></th>\n",
       "      <th></th>\n",
       "      <th></th>\n",
       "      <th></th>\n",
       "      <th></th>\n",
       "      <th></th>\n",
       "      <th></th>\n",
       "      <th></th>\n",
       "      <th></th>\n",
       "      <th></th>\n",
       "      <th></th>\n",
       "    </tr>\n",
       "  </thead>\n",
       "  <tbody>\n",
       "    <tr>\n",
       "      <th rowspan=\"9\" valign=\"top\">b1276</th>\n",
       "      <th rowspan=\"9\" valign=\"top\">P25516</th>\n",
       "      <th rowspan=\"3\" valign=\"top\">435</th>\n",
       "      <th rowspan=\"3\" valign=\"top\">C</th>\n",
       "      <th>ACON1_ECOLI</th>\n",
       "      <td>X</td>\n",
       "      <td>C</td>\n",
       "      <td>435</td>\n",
       "      <td>NaN</td>\n",
       "      <td>NaN</td>\n",
       "      <td>NaN</td>\n",
       "      <td>NaN</td>\n",
       "      <td>NaN</td>\n",
       "      <td>NaN</td>\n",
       "      <td>NaN</td>\n",
       "      <td>NaN</td>\n",
       "      <td>NaN</td>\n",
       "      <td>NaN</td>\n",
       "      <td>NaN</td>\n",
       "    </tr>\n",
       "    <tr>\n",
       "      <th>E01201</th>\n",
       "      <td>X</td>\n",
       "      <td>C</td>\n",
       "      <td>435</td>\n",
       "      <td>NaN</td>\n",
       "      <td>NaN</td>\n",
       "      <td>NaN</td>\n",
       "      <td>NaN</td>\n",
       "      <td>NaN</td>\n",
       "      <td>NaN</td>\n",
       "      <td>NaN</td>\n",
       "      <td>NaN</td>\n",
       "      <td>NaN</td>\n",
       "      <td>NaN</td>\n",
       "      <td>NaN</td>\n",
       "    </tr>\n",
       "    <tr>\n",
       "      <th>REP-ACON1_ECOLI</th>\n",
       "      <td>X</td>\n",
       "      <td>C</td>\n",
       "      <td>435</td>\n",
       "      <td>NaN</td>\n",
       "      <td>NaN</td>\n",
       "      <td>NaN</td>\n",
       "      <td>NaN</td>\n",
       "      <td>H</td>\n",
       "      <td>0.059259</td>\n",
       "      <td>8.0</td>\n",
       "      <td>-61.1</td>\n",
       "      <td>-26.6</td>\n",
       "      <td>2.656722</td>\n",
       "      <td>2.813536</td>\n",
       "    </tr>\n",
       "    <tr>\n",
       "      <th rowspan=\"3\" valign=\"top\">501</th>\n",
       "      <th rowspan=\"3\" valign=\"top\">C</th>\n",
       "      <th>ACON1_ECOLI</th>\n",
       "      <td>X</td>\n",
       "      <td>C</td>\n",
       "      <td>501</td>\n",
       "      <td>NaN</td>\n",
       "      <td>NaN</td>\n",
       "      <td>NaN</td>\n",
       "      <td>NaN</td>\n",
       "      <td>NaN</td>\n",
       "      <td>NaN</td>\n",
       "      <td>NaN</td>\n",
       "      <td>NaN</td>\n",
       "      <td>NaN</td>\n",
       "      <td>NaN</td>\n",
       "      <td>NaN</td>\n",
       "    </tr>\n",
       "    <tr>\n",
       "      <th>E01201</th>\n",
       "      <td>X</td>\n",
       "      <td>C</td>\n",
       "      <td>501</td>\n",
       "      <td>NaN</td>\n",
       "      <td>NaN</td>\n",
       "      <td>NaN</td>\n",
       "      <td>NaN</td>\n",
       "      <td>NaN</td>\n",
       "      <td>NaN</td>\n",
       "      <td>NaN</td>\n",
       "      <td>NaN</td>\n",
       "      <td>NaN</td>\n",
       "      <td>NaN</td>\n",
       "      <td>NaN</td>\n",
       "    </tr>\n",
       "    <tr>\n",
       "      <th>REP-ACON1_ECOLI</th>\n",
       "      <td>X</td>\n",
       "      <td>C</td>\n",
       "      <td>501</td>\n",
       "      <td>NaN</td>\n",
       "      <td>NaN</td>\n",
       "      <td>NaN</td>\n",
       "      <td>NaN</td>\n",
       "      <td>S</td>\n",
       "      <td>0.088889</td>\n",
       "      <td>12.0</td>\n",
       "      <td>-61.0</td>\n",
       "      <td>-50.0</td>\n",
       "      <td>1.999713</td>\n",
       "      <td>2.409119</td>\n",
       "    </tr>\n",
       "    <tr>\n",
       "      <th rowspan=\"3\" valign=\"top\">504</th>\n",
       "      <th rowspan=\"3\" valign=\"top\">C</th>\n",
       "      <th>ACON1_ECOLI</th>\n",
       "      <td>X</td>\n",
       "      <td>C</td>\n",
       "      <td>504</td>\n",
       "      <td>NaN</td>\n",
       "      <td>NaN</td>\n",
       "      <td>NaN</td>\n",
       "      <td>NaN</td>\n",
       "      <td>NaN</td>\n",
       "      <td>NaN</td>\n",
       "      <td>NaN</td>\n",
       "      <td>NaN</td>\n",
       "      <td>NaN</td>\n",
       "      <td>NaN</td>\n",
       "      <td>NaN</td>\n",
       "    </tr>\n",
       "    <tr>\n",
       "      <th>E01201</th>\n",
       "      <td>X</td>\n",
       "      <td>C</td>\n",
       "      <td>504</td>\n",
       "      <td>NaN</td>\n",
       "      <td>NaN</td>\n",
       "      <td>NaN</td>\n",
       "      <td>NaN</td>\n",
       "      <td>NaN</td>\n",
       "      <td>NaN</td>\n",
       "      <td>NaN</td>\n",
       "      <td>NaN</td>\n",
       "      <td>NaN</td>\n",
       "      <td>NaN</td>\n",
       "      <td>NaN</td>\n",
       "    </tr>\n",
       "    <tr>\n",
       "      <th>REP-ACON1_ECOLI</th>\n",
       "      <td>X</td>\n",
       "      <td>C</td>\n",
       "      <td>504</td>\n",
       "      <td>NaN</td>\n",
       "      <td>NaN</td>\n",
       "      <td>NaN</td>\n",
       "      <td>NaN</td>\n",
       "      <td>G</td>\n",
       "      <td>0.259259</td>\n",
       "      <td>35.0</td>\n",
       "      <td>-56.0</td>\n",
       "      <td>-45.6</td>\n",
       "      <td>1.999634</td>\n",
       "      <td>1.961484</td>\n",
       "    </tr>\n",
       "    <tr>\n",
       "      <th rowspan=\"15\" valign=\"top\">b0118</th>\n",
       "      <th rowspan=\"15\" valign=\"top\">P36683</th>\n",
       "      <th rowspan=\"5\" valign=\"top\">710</th>\n",
       "      <th rowspan=\"5\" valign=\"top\">C</th>\n",
       "      <th>1l5j</th>\n",
       "      <td>A</td>\n",
       "      <td>C</td>\n",
       "      <td>710</td>\n",
       "      <td>NaN</td>\n",
       "      <td>NaN</td>\n",
       "      <td>NaN</td>\n",
       "      <td>NaN</td>\n",
       "      <td>NaN</td>\n",
       "      <td>NaN</td>\n",
       "      <td>NaN</td>\n",
       "      <td>NaN</td>\n",
       "      <td>NaN</td>\n",
       "      <td>NaN</td>\n",
       "      <td>NaN</td>\n",
       "    </tr>\n",
       "    <tr>\n",
       "      <th>1l5j</th>\n",
       "      <td>B</td>\n",
       "      <td>C</td>\n",
       "      <td>710</td>\n",
       "      <td>NaN</td>\n",
       "      <td>NaN</td>\n",
       "      <td>NaN</td>\n",
       "      <td>NaN</td>\n",
       "      <td>NaN</td>\n",
       "      <td>NaN</td>\n",
       "      <td>NaN</td>\n",
       "      <td>NaN</td>\n",
       "      <td>NaN</td>\n",
       "      <td>NaN</td>\n",
       "      <td>NaN</td>\n",
       "    </tr>\n",
       "    <tr>\n",
       "      <th>ACON2_ECOLI</th>\n",
       "      <td>X</td>\n",
       "      <td>C</td>\n",
       "      <td>710</td>\n",
       "      <td>NaN</td>\n",
       "      <td>NaN</td>\n",
       "      <td>NaN</td>\n",
       "      <td>NaN</td>\n",
       "      <td>NaN</td>\n",
       "      <td>NaN</td>\n",
       "      <td>NaN</td>\n",
       "      <td>NaN</td>\n",
       "      <td>NaN</td>\n",
       "      <td>NaN</td>\n",
       "      <td>NaN</td>\n",
       "    </tr>\n",
       "    <tr>\n",
       "      <th>E00113</th>\n",
       "      <td>X</td>\n",
       "      <td>C</td>\n",
       "      <td>710</td>\n",
       "      <td>NaN</td>\n",
       "      <td>NaN</td>\n",
       "      <td>NaN</td>\n",
       "      <td>NaN</td>\n",
       "      <td>NaN</td>\n",
       "      <td>NaN</td>\n",
       "      <td>NaN</td>\n",
       "      <td>NaN</td>\n",
       "      <td>NaN</td>\n",
       "      <td>NaN</td>\n",
       "      <td>NaN</td>\n",
       "    </tr>\n",
       "    <tr>\n",
       "      <th>REP-1l5j</th>\n",
       "      <td>A</td>\n",
       "      <td>C</td>\n",
       "      <td>710</td>\n",
       "      <td>NaN</td>\n",
       "      <td>NaN</td>\n",
       "      <td>NaN</td>\n",
       "      <td>NaN</td>\n",
       "      <td>T</td>\n",
       "      <td>0.118519</td>\n",
       "      <td>16.0</td>\n",
       "      <td>-67.1</td>\n",
       "      <td>-7.2</td>\n",
       "      <td>10.148960</td>\n",
       "      <td>10.009109</td>\n",
       "    </tr>\n",
       "    <tr>\n",
       "      <th rowspan=\"5\" valign=\"top\">769</th>\n",
       "      <th rowspan=\"5\" valign=\"top\">C</th>\n",
       "      <th>1l5j</th>\n",
       "      <td>A</td>\n",
       "      <td>C</td>\n",
       "      <td>769</td>\n",
       "      <td>NaN</td>\n",
       "      <td>NaN</td>\n",
       "      <td>NaN</td>\n",
       "      <td>NaN</td>\n",
       "      <td>NaN</td>\n",
       "      <td>NaN</td>\n",
       "      <td>NaN</td>\n",
       "      <td>NaN</td>\n",
       "      <td>NaN</td>\n",
       "      <td>NaN</td>\n",
       "      <td>NaN</td>\n",
       "    </tr>\n",
       "    <tr>\n",
       "      <th>1l5j</th>\n",
       "      <td>B</td>\n",
       "      <td>C</td>\n",
       "      <td>769</td>\n",
       "      <td>NaN</td>\n",
       "      <td>NaN</td>\n",
       "      <td>NaN</td>\n",
       "      <td>NaN</td>\n",
       "      <td>NaN</td>\n",
       "      <td>NaN</td>\n",
       "      <td>NaN</td>\n",
       "      <td>NaN</td>\n",
       "      <td>NaN</td>\n",
       "      <td>NaN</td>\n",
       "      <td>NaN</td>\n",
       "    </tr>\n",
       "    <tr>\n",
       "      <th>ACON2_ECOLI</th>\n",
       "      <td>X</td>\n",
       "      <td>C</td>\n",
       "      <td>769</td>\n",
       "      <td>NaN</td>\n",
       "      <td>NaN</td>\n",
       "      <td>NaN</td>\n",
       "      <td>NaN</td>\n",
       "      <td>NaN</td>\n",
       "      <td>NaN</td>\n",
       "      <td>NaN</td>\n",
       "      <td>NaN</td>\n",
       "      <td>NaN</td>\n",
       "      <td>NaN</td>\n",
       "      <td>NaN</td>\n",
       "    </tr>\n",
       "    <tr>\n",
       "      <th>E00113</th>\n",
       "      <td>X</td>\n",
       "      <td>C</td>\n",
       "      <td>769</td>\n",
       "      <td>NaN</td>\n",
       "      <td>NaN</td>\n",
       "      <td>NaN</td>\n",
       "      <td>NaN</td>\n",
       "      <td>NaN</td>\n",
       "      <td>NaN</td>\n",
       "      <td>NaN</td>\n",
       "      <td>NaN</td>\n",
       "      <td>NaN</td>\n",
       "      <td>NaN</td>\n",
       "      <td>NaN</td>\n",
       "    </tr>\n",
       "    <tr>\n",
       "      <th>REP-1l5j</th>\n",
       "      <td>A</td>\n",
       "      <td>C</td>\n",
       "      <td>769</td>\n",
       "      <td>NaN</td>\n",
       "      <td>NaN</td>\n",
       "      <td>NaN</td>\n",
       "      <td>NaN</td>\n",
       "      <td>-</td>\n",
       "      <td>0.088889</td>\n",
       "      <td>12.0</td>\n",
       "      <td>-67.8</td>\n",
       "      <td>-28.3</td>\n",
       "      <td>8.296585</td>\n",
       "      <td>8.049832</td>\n",
       "    </tr>\n",
       "    <tr>\n",
       "      <th rowspan=\"5\" valign=\"top\">772</th>\n",
       "      <th rowspan=\"5\" valign=\"top\">C</th>\n",
       "      <th>1l5j</th>\n",
       "      <td>A</td>\n",
       "      <td>C</td>\n",
       "      <td>772</td>\n",
       "      <td>NaN</td>\n",
       "      <td>NaN</td>\n",
       "      <td>NaN</td>\n",
       "      <td>NaN</td>\n",
       "      <td>NaN</td>\n",
       "      <td>NaN</td>\n",
       "      <td>NaN</td>\n",
       "      <td>NaN</td>\n",
       "      <td>NaN</td>\n",
       "      <td>NaN</td>\n",
       "      <td>NaN</td>\n",
       "    </tr>\n",
       "    <tr>\n",
       "      <th>1l5j</th>\n",
       "      <td>B</td>\n",
       "      <td>C</td>\n",
       "      <td>772</td>\n",
       "      <td>NaN</td>\n",
       "      <td>NaN</td>\n",
       "      <td>NaN</td>\n",
       "      <td>NaN</td>\n",
       "      <td>NaN</td>\n",
       "      <td>NaN</td>\n",
       "      <td>NaN</td>\n",
       "      <td>NaN</td>\n",
       "      <td>NaN</td>\n",
       "      <td>NaN</td>\n",
       "      <td>NaN</td>\n",
       "    </tr>\n",
       "    <tr>\n",
       "      <th>ACON2_ECOLI</th>\n",
       "      <td>X</td>\n",
       "      <td>C</td>\n",
       "      <td>772</td>\n",
       "      <td>NaN</td>\n",
       "      <td>NaN</td>\n",
       "      <td>NaN</td>\n",
       "      <td>NaN</td>\n",
       "      <td>NaN</td>\n",
       "      <td>NaN</td>\n",
       "      <td>NaN</td>\n",
       "      <td>NaN</td>\n",
       "      <td>NaN</td>\n",
       "      <td>NaN</td>\n",
       "      <td>NaN</td>\n",
       "    </tr>\n",
       "    <tr>\n",
       "      <th>E00113</th>\n",
       "      <td>X</td>\n",
       "      <td>C</td>\n",
       "      <td>772</td>\n",
       "      <td>NaN</td>\n",
       "      <td>NaN</td>\n",
       "      <td>NaN</td>\n",
       "      <td>NaN</td>\n",
       "      <td>NaN</td>\n",
       "      <td>NaN</td>\n",
       "      <td>NaN</td>\n",
       "      <td>NaN</td>\n",
       "      <td>NaN</td>\n",
       "      <td>NaN</td>\n",
       "      <td>NaN</td>\n",
       "    </tr>\n",
       "    <tr>\n",
       "      <th>REP-1l5j</th>\n",
       "      <td>A</td>\n",
       "      <td>C</td>\n",
       "      <td>772</td>\n",
       "      <td>NaN</td>\n",
       "      <td>NaN</td>\n",
       "      <td>NaN</td>\n",
       "      <td>NaN</td>\n",
       "      <td>G</td>\n",
       "      <td>0.081481</td>\n",
       "      <td>11.0</td>\n",
       "      <td>-50.2</td>\n",
       "      <td>-38.0</td>\n",
       "      <td>8.282292</td>\n",
       "      <td>8.239369</td>\n",
       "    </tr>\n",
       "  </tbody>\n",
       "</table>\n",
       "</div>"
      ],
      "text/plain": [
       "                                                      chain_id struct_residue  \\\n",
       "gene_id seq_id seq_resnum seq_residue struct_id                                 \n",
       "b1276   P25516 435        C           ACON1_ECOLI            X              C   \n",
       "                                      E01201                 X              C   \n",
       "                                      REP-ACON1_ECOLI        X              C   \n",
       "               501        C           ACON1_ECOLI            X              C   \n",
       "                                      E01201                 X              C   \n",
       "                                      REP-ACON1_ECOLI        X              C   \n",
       "               504        C           ACON1_ECOLI            X              C   \n",
       "                                      E01201                 X              C   \n",
       "                                      REP-ACON1_ECOLI        X              C   \n",
       "b0118   P36683 710        C           1l5j                   A              C   \n",
       "                                      1l5j                   B              C   \n",
       "                                      ACON2_ECOLI            X              C   \n",
       "                                      E00113                 X              C   \n",
       "                                      REP-1l5j               A              C   \n",
       "               769        C           1l5j                   A              C   \n",
       "                                      1l5j                   B              C   \n",
       "                                      ACON2_ECOLI            X              C   \n",
       "                                      E00113                 X              C   \n",
       "                                      REP-1l5j               A              C   \n",
       "               772        C           1l5j                   A              C   \n",
       "                                      1l5j                   B              C   \n",
       "                                      ACON2_ECOLI            X              C   \n",
       "                                      E00113                 X              C   \n",
       "                                      REP-1l5j               A              C   \n",
       "\n",
       "                                                       struct_resnum  \\\n",
       "gene_id seq_id seq_resnum seq_residue struct_id                        \n",
       "b1276   P25516 435        C           ACON1_ECOLI                435   \n",
       "                                      E01201                     435   \n",
       "                                      REP-ACON1_ECOLI            435   \n",
       "               501        C           ACON1_ECOLI                501   \n",
       "                                      E01201                     501   \n",
       "                                      REP-ACON1_ECOLI            501   \n",
       "               504        C           ACON1_ECOLI                504   \n",
       "                                      E01201                     504   \n",
       "                                      REP-ACON1_ECOLI            504   \n",
       "b0118   P36683 710        C           1l5j                       710   \n",
       "                                      1l5j                       710   \n",
       "                                      ACON2_ECOLI                710   \n",
       "                                      E00113                     710   \n",
       "                                      REP-1l5j                   710   \n",
       "               769        C           1l5j                       769   \n",
       "                                      1l5j                       769   \n",
       "                                      ACON2_ECOLI                769   \n",
       "                                      E00113                     769   \n",
       "                                      REP-1l5j                   769   \n",
       "               772        C           1l5j                       772   \n",
       "                                      1l5j                       772   \n",
       "                                      ACON2_ECOLI                772   \n",
       "                                      E00113                     772   \n",
       "                                      REP-1l5j                   772   \n",
       "\n",
       "                                                       seq_SS-sspro  \\\n",
       "gene_id seq_id seq_resnum seq_residue struct_id                       \n",
       "b1276   P25516 435        C           ACON1_ECOLI               NaN   \n",
       "                                      E01201                    NaN   \n",
       "                                      REP-ACON1_ECOLI           NaN   \n",
       "               501        C           ACON1_ECOLI               NaN   \n",
       "                                      E01201                    NaN   \n",
       "                                      REP-ACON1_ECOLI           NaN   \n",
       "               504        C           ACON1_ECOLI               NaN   \n",
       "                                      E01201                    NaN   \n",
       "                                      REP-ACON1_ECOLI           NaN   \n",
       "b0118   P36683 710        C           1l5j                      NaN   \n",
       "                                      1l5j                      NaN   \n",
       "                                      ACON2_ECOLI               NaN   \n",
       "                                      E00113                    NaN   \n",
       "                                      REP-1l5j                  NaN   \n",
       "               769        C           1l5j                      NaN   \n",
       "                                      1l5j                      NaN   \n",
       "                                      ACON2_ECOLI               NaN   \n",
       "                                      E00113                    NaN   \n",
       "                                      REP-1l5j                  NaN   \n",
       "               772        C           1l5j                      NaN   \n",
       "                                      1l5j                      NaN   \n",
       "                                      ACON2_ECOLI               NaN   \n",
       "                                      E00113                    NaN   \n",
       "                                      REP-1l5j                  NaN   \n",
       "\n",
       "                                                       seq_SS-sspro8  \\\n",
       "gene_id seq_id seq_resnum seq_residue struct_id                        \n",
       "b1276   P25516 435        C           ACON1_ECOLI                NaN   \n",
       "                                      E01201                     NaN   \n",
       "                                      REP-ACON1_ECOLI            NaN   \n",
       "               501        C           ACON1_ECOLI                NaN   \n",
       "                                      E01201                     NaN   \n",
       "                                      REP-ACON1_ECOLI            NaN   \n",
       "               504        C           ACON1_ECOLI                NaN   \n",
       "                                      E01201                     NaN   \n",
       "                                      REP-ACON1_ECOLI            NaN   \n",
       "b0118   P36683 710        C           1l5j                       NaN   \n",
       "                                      1l5j                       NaN   \n",
       "                                      ACON2_ECOLI                NaN   \n",
       "                                      E00113                     NaN   \n",
       "                                      REP-1l5j                   NaN   \n",
       "               769        C           1l5j                       NaN   \n",
       "                                      1l5j                       NaN   \n",
       "                                      ACON2_ECOLI                NaN   \n",
       "                                      E00113                     NaN   \n",
       "                                      REP-1l5j                   NaN   \n",
       "               772        C           1l5j                       NaN   \n",
       "                                      1l5j                       NaN   \n",
       "                                      ACON2_ECOLI                NaN   \n",
       "                                      E00113                     NaN   \n",
       "                                      REP-1l5j                   NaN   \n",
       "\n",
       "                                                       seq_RSA-accpro  \\\n",
       "gene_id seq_id seq_resnum seq_residue struct_id                         \n",
       "b1276   P25516 435        C           ACON1_ECOLI                 NaN   \n",
       "                                      E01201                      NaN   \n",
       "                                      REP-ACON1_ECOLI             NaN   \n",
       "               501        C           ACON1_ECOLI                 NaN   \n",
       "                                      E01201                      NaN   \n",
       "                                      REP-ACON1_ECOLI             NaN   \n",
       "               504        C           ACON1_ECOLI                 NaN   \n",
       "                                      E01201                      NaN   \n",
       "                                      REP-ACON1_ECOLI             NaN   \n",
       "b0118   P36683 710        C           1l5j                        NaN   \n",
       "                                      1l5j                        NaN   \n",
       "                                      ACON2_ECOLI                 NaN   \n",
       "                                      E00113                      NaN   \n",
       "                                      REP-1l5j                    NaN   \n",
       "               769        C           1l5j                        NaN   \n",
       "                                      1l5j                        NaN   \n",
       "                                      ACON2_ECOLI                 NaN   \n",
       "                                      E00113                      NaN   \n",
       "                                      REP-1l5j                    NaN   \n",
       "               772        C           1l5j                        NaN   \n",
       "                                      1l5j                        NaN   \n",
       "                                      ACON2_ECOLI                 NaN   \n",
       "                                      E00113                      NaN   \n",
       "                                      REP-1l5j                    NaN   \n",
       "\n",
       "                                                       seq_RSA-accpro20  \\\n",
       "gene_id seq_id seq_resnum seq_residue struct_id                           \n",
       "b1276   P25516 435        C           ACON1_ECOLI                   NaN   \n",
       "                                      E01201                        NaN   \n",
       "                                      REP-ACON1_ECOLI               NaN   \n",
       "               501        C           ACON1_ECOLI                   NaN   \n",
       "                                      E01201                        NaN   \n",
       "                                      REP-ACON1_ECOLI               NaN   \n",
       "               504        C           ACON1_ECOLI                   NaN   \n",
       "                                      E01201                        NaN   \n",
       "                                      REP-ACON1_ECOLI               NaN   \n",
       "b0118   P36683 710        C           1l5j                          NaN   \n",
       "                                      1l5j                          NaN   \n",
       "                                      ACON2_ECOLI                   NaN   \n",
       "                                      E00113                        NaN   \n",
       "                                      REP-1l5j                      NaN   \n",
       "               769        C           1l5j                          NaN   \n",
       "                                      1l5j                          NaN   \n",
       "                                      ACON2_ECOLI                   NaN   \n",
       "                                      E00113                        NaN   \n",
       "                                      REP-1l5j                      NaN   \n",
       "               772        C           1l5j                          NaN   \n",
       "                                      1l5j                          NaN   \n",
       "                                      ACON2_ECOLI                   NaN   \n",
       "                                      E00113                        NaN   \n",
       "                                      REP-1l5j                      NaN   \n",
       "\n",
       "                                                      struct_SS-dssp  \\\n",
       "gene_id seq_id seq_resnum seq_residue struct_id                        \n",
       "b1276   P25516 435        C           ACON1_ECOLI                NaN   \n",
       "                                      E01201                     NaN   \n",
       "                                      REP-ACON1_ECOLI              H   \n",
       "               501        C           ACON1_ECOLI                NaN   \n",
       "                                      E01201                     NaN   \n",
       "                                      REP-ACON1_ECOLI              S   \n",
       "               504        C           ACON1_ECOLI                NaN   \n",
       "                                      E01201                     NaN   \n",
       "                                      REP-ACON1_ECOLI              G   \n",
       "b0118   P36683 710        C           1l5j                       NaN   \n",
       "                                      1l5j                       NaN   \n",
       "                                      ACON2_ECOLI                NaN   \n",
       "                                      E00113                     NaN   \n",
       "                                      REP-1l5j                     T   \n",
       "               769        C           1l5j                       NaN   \n",
       "                                      1l5j                       NaN   \n",
       "                                      ACON2_ECOLI                NaN   \n",
       "                                      E00113                     NaN   \n",
       "                                      REP-1l5j                     -   \n",
       "               772        C           1l5j                       NaN   \n",
       "                                      1l5j                       NaN   \n",
       "                                      ACON2_ECOLI                NaN   \n",
       "                                      E00113                     NaN   \n",
       "                                      REP-1l5j                     G   \n",
       "\n",
       "                                                       struct_RSA-dssp  \\\n",
       "gene_id seq_id seq_resnum seq_residue struct_id                          \n",
       "b1276   P25516 435        C           ACON1_ECOLI                  NaN   \n",
       "                                      E01201                       NaN   \n",
       "                                      REP-ACON1_ECOLI         0.059259   \n",
       "               501        C           ACON1_ECOLI                  NaN   \n",
       "                                      E01201                       NaN   \n",
       "                                      REP-ACON1_ECOLI         0.088889   \n",
       "               504        C           ACON1_ECOLI                  NaN   \n",
       "                                      E01201                       NaN   \n",
       "                                      REP-ACON1_ECOLI         0.259259   \n",
       "b0118   P36683 710        C           1l5j                         NaN   \n",
       "                                      1l5j                         NaN   \n",
       "                                      ACON2_ECOLI                  NaN   \n",
       "                                      E00113                       NaN   \n",
       "                                      REP-1l5j                0.118519   \n",
       "               769        C           1l5j                         NaN   \n",
       "                                      1l5j                         NaN   \n",
       "                                      ACON2_ECOLI                  NaN   \n",
       "                                      E00113                       NaN   \n",
       "                                      REP-1l5j                0.088889   \n",
       "               772        C           1l5j                         NaN   \n",
       "                                      1l5j                         NaN   \n",
       "                                      ACON2_ECOLI                  NaN   \n",
       "                                      E00113                       NaN   \n",
       "                                      REP-1l5j                0.081481   \n",
       "\n",
       "                                                       struct_ASA-dssp  \\\n",
       "gene_id seq_id seq_resnum seq_residue struct_id                          \n",
       "b1276   P25516 435        C           ACON1_ECOLI                  NaN   \n",
       "                                      E01201                       NaN   \n",
       "                                      REP-ACON1_ECOLI              8.0   \n",
       "               501        C           ACON1_ECOLI                  NaN   \n",
       "                                      E01201                       NaN   \n",
       "                                      REP-ACON1_ECOLI             12.0   \n",
       "               504        C           ACON1_ECOLI                  NaN   \n",
       "                                      E01201                       NaN   \n",
       "                                      REP-ACON1_ECOLI             35.0   \n",
       "b0118   P36683 710        C           1l5j                         NaN   \n",
       "                                      1l5j                         NaN   \n",
       "                                      ACON2_ECOLI                  NaN   \n",
       "                                      E00113                       NaN   \n",
       "                                      REP-1l5j                    16.0   \n",
       "               769        C           1l5j                         NaN   \n",
       "                                      1l5j                         NaN   \n",
       "                                      ACON2_ECOLI                  NaN   \n",
       "                                      E00113                       NaN   \n",
       "                                      REP-1l5j                    12.0   \n",
       "               772        C           1l5j                         NaN   \n",
       "                                      1l5j                         NaN   \n",
       "                                      ACON2_ECOLI                  NaN   \n",
       "                                      E00113                       NaN   \n",
       "                                      REP-1l5j                    11.0   \n",
       "\n",
       "                                                       struct_PHI-dssp  \\\n",
       "gene_id seq_id seq_resnum seq_residue struct_id                          \n",
       "b1276   P25516 435        C           ACON1_ECOLI                  NaN   \n",
       "                                      E01201                       NaN   \n",
       "                                      REP-ACON1_ECOLI            -61.1   \n",
       "               501        C           ACON1_ECOLI                  NaN   \n",
       "                                      E01201                       NaN   \n",
       "                                      REP-ACON1_ECOLI            -61.0   \n",
       "               504        C           ACON1_ECOLI                  NaN   \n",
       "                                      E01201                       NaN   \n",
       "                                      REP-ACON1_ECOLI            -56.0   \n",
       "b0118   P36683 710        C           1l5j                         NaN   \n",
       "                                      1l5j                         NaN   \n",
       "                                      ACON2_ECOLI                  NaN   \n",
       "                                      E00113                       NaN   \n",
       "                                      REP-1l5j                   -67.1   \n",
       "               769        C           1l5j                         NaN   \n",
       "                                      1l5j                         NaN   \n",
       "                                      ACON2_ECOLI                  NaN   \n",
       "                                      E00113                       NaN   \n",
       "                                      REP-1l5j                   -67.8   \n",
       "               772        C           1l5j                         NaN   \n",
       "                                      1l5j                         NaN   \n",
       "                                      ACON2_ECOLI                  NaN   \n",
       "                                      E00113                       NaN   \n",
       "                                      REP-1l5j                   -50.2   \n",
       "\n",
       "                                                       struct_PSI-dssp  \\\n",
       "gene_id seq_id seq_resnum seq_residue struct_id                          \n",
       "b1276   P25516 435        C           ACON1_ECOLI                  NaN   \n",
       "                                      E01201                       NaN   \n",
       "                                      REP-ACON1_ECOLI            -26.6   \n",
       "               501        C           ACON1_ECOLI                  NaN   \n",
       "                                      E01201                       NaN   \n",
       "                                      REP-ACON1_ECOLI            -50.0   \n",
       "               504        C           ACON1_ECOLI                  NaN   \n",
       "                                      E01201                       NaN   \n",
       "                                      REP-ACON1_ECOLI            -45.6   \n",
       "b0118   P36683 710        C           1l5j                         NaN   \n",
       "                                      1l5j                         NaN   \n",
       "                                      ACON2_ECOLI                  NaN   \n",
       "                                      E00113                       NaN   \n",
       "                                      REP-1l5j                    -7.2   \n",
       "               769        C           1l5j                         NaN   \n",
       "                                      1l5j                         NaN   \n",
       "                                      ACON2_ECOLI                  NaN   \n",
       "                                      E00113                       NaN   \n",
       "                                      REP-1l5j                   -28.3   \n",
       "               772        C           1l5j                         NaN   \n",
       "                                      1l5j                         NaN   \n",
       "                                      ACON2_ECOLI                  NaN   \n",
       "                                      E00113                       NaN   \n",
       "                                      REP-1l5j                   -38.0   \n",
       "\n",
       "                                                       struct_CA_DEPTH-msms  \\\n",
       "gene_id seq_id seq_resnum seq_residue struct_id                               \n",
       "b1276   P25516 435        C           ACON1_ECOLI                       NaN   \n",
       "                                      E01201                            NaN   \n",
       "                                      REP-ACON1_ECOLI              2.656722   \n",
       "               501        C           ACON1_ECOLI                       NaN   \n",
       "                                      E01201                            NaN   \n",
       "                                      REP-ACON1_ECOLI              1.999713   \n",
       "               504        C           ACON1_ECOLI                       NaN   \n",
       "                                      E01201                            NaN   \n",
       "                                      REP-ACON1_ECOLI              1.999634   \n",
       "b0118   P36683 710        C           1l5j                              NaN   \n",
       "                                      1l5j                              NaN   \n",
       "                                      ACON2_ECOLI                       NaN   \n",
       "                                      E00113                            NaN   \n",
       "                                      REP-1l5j                    10.148960   \n",
       "               769        C           1l5j                              NaN   \n",
       "                                      1l5j                              NaN   \n",
       "                                      ACON2_ECOLI                       NaN   \n",
       "                                      E00113                            NaN   \n",
       "                                      REP-1l5j                     8.296585   \n",
       "               772        C           1l5j                              NaN   \n",
       "                                      1l5j                              NaN   \n",
       "                                      ACON2_ECOLI                       NaN   \n",
       "                                      E00113                            NaN   \n",
       "                                      REP-1l5j                     8.282292   \n",
       "\n",
       "                                                       struct_RES_DEPTH-msms  \n",
       "gene_id seq_id seq_resnum seq_residue struct_id                               \n",
       "b1276   P25516 435        C           ACON1_ECOLI                        NaN  \n",
       "                                      E01201                             NaN  \n",
       "                                      REP-ACON1_ECOLI               2.813536  \n",
       "               501        C           ACON1_ECOLI                        NaN  \n",
       "                                      E01201                             NaN  \n",
       "                                      REP-ACON1_ECOLI               2.409119  \n",
       "               504        C           ACON1_ECOLI                        NaN  \n",
       "                                      E01201                             NaN  \n",
       "                                      REP-ACON1_ECOLI               1.961484  \n",
       "b0118   P36683 710        C           1l5j                               NaN  \n",
       "                                      1l5j                               NaN  \n",
       "                                      ACON2_ECOLI                        NaN  \n",
       "                                      E00113                             NaN  \n",
       "                                      REP-1l5j                     10.009109  \n",
       "               769        C           1l5j                               NaN  \n",
       "                                      1l5j                               NaN  \n",
       "                                      ACON2_ECOLI                        NaN  \n",
       "                                      E00113                             NaN  \n",
       "                                      REP-1l5j                      8.049832  \n",
       "               772        C           1l5j                               NaN  \n",
       "                                      1l5j                               NaN  \n",
       "                                      ACON2_ECOLI                        NaN  \n",
       "                                      E00113                             NaN  \n",
       "                                      REP-1l5j                      8.239369  "
      ]
     },
     "execution_count": 33,
     "metadata": {},
     "output_type": "execute_result"
    }
   ],
   "source": [
    "metal_info_compared = []\n",
    "\n",
    "for g in my_gempro.genes:\n",
    "    for f in g.protein.representative_sequence.features:\n",
    "        if 'metal' in f.type.lower():\n",
    "            for s in g.protein.structures:\n",
    "                for c in s.mapped_chains:\n",
    "                    res_info = g.protein.get_residue_annotations(seq_resnum=f.location.end, \n",
    "                                                                 seqprop=g.protein.representative_sequence,\n",
    "                                                                 structprop=s, chain_id=c,\n",
    "                                                                 use_representatives=False)\n",
    "                    res_info['gene_id'] = g.id\n",
    "                    res_info['seq_id'] = g.protein.representative_sequence.id\n",
    "                    res_info['struct_id'] = s.id\n",
    "                    res_info['chain_id'] = c\n",
    "                    metal_info_compared.append(res_info)\n",
    "    \n",
    "cols = ['gene_id', 'seq_id', 'struct_id', 'chain_id',\n",
    "        'seq_residue', 'seq_resnum', 'struct_residue','struct_resnum',\n",
    "        'seq_SS-sspro','seq_SS-sspro8','seq_RSA-accpro','seq_RSA-accpro20',\n",
    "        'struct_SS-dssp','struct_RSA-dssp', 'struct_ASA-dssp', \n",
    "        'struct_PHI-dssp', 'struct_PSI-dssp', 'struct_CA_DEPTH-msms', 'struct_RES_DEPTH-msms']\n",
    "\n",
    "pd.DataFrame.from_records(metal_info_compared, columns=cols).sort_values(by=['seq_resnum','struct_id','chain_id']).set_index(['gene_id','seq_id','seq_resnum','seq_residue','struct_id'])"
   ]
  }
 ],
 "metadata": {
  "_draft": {
   "nbviewer_url": "https://gist.github.com/342e44766d1dda637e975a4ef61dae19"
  },
  "anaconda-cloud": {},
  "celltoolbar": "Raw Cell Format",
  "gist": {
   "data": {
    "description": "GEM-PRO pipeline example for a list of gene IDs",
    "public": false
   },
   "id": "342e44766d1dda637e975a4ef61dae19"
  },
  "kernelspec": {
   "display_name": "Python 3",
   "language": "python",
   "name": "python3"
  },
  "language_info": {
   "codemirror_mode": {
    "name": "ipython",
    "version": 3
   },
   "file_extension": ".py",
   "mimetype": "text/x-python",
   "name": "python",
   "nbconvert_exporter": "python",
   "pygments_lexer": "ipython3",
   "version": "3.6.3"
  },
  "widgets": {
   "state": {
    "07f2e453c2d1497b9cee80d259934c88": {
     "views": [
      {
       "cell_index": 14
      }
     ]
    },
    "232bfc79ee1a463ea1f22cddd984946c": {
     "views": [
      {
       "cell_index": 43
      }
     ]
    },
    "4e5dcc7ae9c74c6995e111ebc019ded0": {
     "views": [
      {
       "cell_index": 32
      }
     ]
    },
    "76d1cc588e4b45edbb1c4720bf38e5d0": {
     "views": [
      {
       "cell_index": 22
      }
     ]
    },
    "8838944ce0dd46ac82e7090093e37d1e": {
     "views": [
      {
       "cell_index": 27
      }
     ]
    },
    "ab2561514bac4346973555bfcfab21f1": {
     "views": [
      {
       "cell_index": 45
      }
     ]
    },
    "b288dca263224c2e8cf1d4288618fed7": {
     "views": [
      {
       "cell_index": 41
      }
     ]
    },
    "c396d04070754acf8f2104fbed57d62a": {
     "views": [
      {
       "cell_index": 25
      }
     ]
    },
    "d2be80a7bb9747cfb6cd3392d07c33eb": {
     "views": [
      {
       "cell_index": 26
      }
     ]
    },
    "da5b2982710e439d892f50b7fa10bca0": {
     "views": [
      {
       "cell_index": 16
      }
     ]
    },
    "dedd63bf7cb04fccb9e9d9ff4a394d83": {
     "views": [
      {
       "cell_index": 20
      }
     ]
    },
    "df25883a5dda4f14a8f69d2e87b03ed2": {
     "views": [
      {
       "cell_index": 39
      }
     ]
    },
    "ed031de1ce2544b290b01da2e2472c09": {
     "views": [
      {
       "cell_index": 34
      }
     ]
    },
    "f250016127fb4220b3ab97b0c621bee4": {
     "views": [
      {
       "cell_index": 56
      }
     ]
    },
    "ff615c1433274006af2ff64a4850b92b": {
     "views": [
      {
       "cell_index": 37
      }
     ]
    }
   },
   "version": "1.2.0"
  }
 },
 "nbformat": 4,
 "nbformat_minor": 1
}
