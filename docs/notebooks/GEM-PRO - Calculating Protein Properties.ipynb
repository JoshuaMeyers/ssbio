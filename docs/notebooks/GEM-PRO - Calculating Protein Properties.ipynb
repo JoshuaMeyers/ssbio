{
 "cells": [
  {
   "cell_type": "markdown",
   "metadata": {},
   "source": [
    "# GEM-PRO - Calculating Protein Properties\n",
    "This notebook gives an example of how to **calculate protein properties** for a list of proteins, by first pulling information from UniProt and then using the 3D structure files to calculate the desired properties\n",
    "\n",
    "<div class=\"alert alert-info\">\n",
    "\n",
    "**Input:** List of gene IDs\n",
    "\n",
    "</div>\n",
    "\n",
    "<div class=\"alert alert-info\">\n",
    "\n",
    "**Output:** Representative protein structures and properties associated with them\n",
    "\n",
    "</div>"
   ]
  },
  {
   "cell_type": "markdown",
   "metadata": {},
   "source": [
    "## Imports"
   ]
  },
  {
   "cell_type": "code",
   "execution_count": 1,
   "metadata": {
    "collapsed": true
   },
   "outputs": [],
   "source": [
    "import sys\n",
    "import logging"
   ]
  },
  {
   "cell_type": "code",
   "execution_count": 2,
   "metadata": {
    "collapsed": true
   },
   "outputs": [],
   "source": [
    "# Import the GEM-PRO class\n",
    "from ssbio.pipeline.gempro import GEMPRO"
   ]
  },
  {
   "cell_type": "code",
   "execution_count": 3,
   "metadata": {
    "collapsed": true
   },
   "outputs": [],
   "source": [
    "# Printing multiple outputs per cell\n",
    "from IPython.core.interactiveshell import InteractiveShell\n",
    "InteractiveShell.ast_node_interactivity = \"all\""
   ]
  },
  {
   "cell_type": "markdown",
   "metadata": {},
   "source": [
    "### Logging\n",
    "\n",
    "Set the logging level in `logger.setLevel(logging.<LEVEL_HERE>)` to specify how verbose you want the pipeline to be. Debug is most verbose.\n",
    "\n",
    "- `CRITICAL`\n",
    "     - Only really important messages shown\n",
    "- `ERROR`\n",
    "     - Major errors\n",
    "- `WARNING`\n",
    "     - Warnings that don't affect running of the pipeline\n",
    "- `INFO` (default)\n",
    "     - Info such as the number of structures mapped per gene\n",
    "- `DEBUG`\n",
    "     - Really detailed information that will print out a lot of stuff\n",
    "     \n",
    "<div class=\"alert alert-warning\">\n",
    "\n",
    "**Warning:** \n",
    "`DEBUG` mode prints out a large amount of information, especially if you have a lot of genes. This may stall your notebook!\n",
    "</div>"
   ]
  },
  {
   "cell_type": "code",
   "execution_count": 4,
   "metadata": {
    "collapsed": true
   },
   "outputs": [],
   "source": [
    "# Create logger\n",
    "logger = logging.getLogger()\n",
    "logger.setLevel(logging.INFO)  # SET YOUR LOGGING LEVEL HERE #"
   ]
  },
  {
   "cell_type": "code",
   "execution_count": 5,
   "metadata": {
    "collapsed": true
   },
   "outputs": [],
   "source": [
    "# Other logger stuff for Jupyter notebooks\n",
    "handler = logging.StreamHandler(sys.stderr)\n",
    "formatter = logging.Formatter('[%(asctime)s] [%(name)s] %(levelname)s: %(message)s', datefmt=\"%Y-%m-%d %H:%M\")\n",
    "handler.setFormatter(formatter)\n",
    "logger.handlers = [handler]"
   ]
  },
  {
   "cell_type": "markdown",
   "metadata": {},
   "source": [
    "## Initialization of the project\n",
    "\n",
    "Set these three things:\n",
    "\n",
    "- `ROOT_DIR`\n",
    "    - The directory where a folder named after your `PROJECT` will be created\n",
    "- `PROJECT`\n",
    "    - Your project name\n",
    "- `LIST_OF_GENES`\n",
    "    - Your list of gene IDs\n",
    "    \n",
    "A directory will be created in `ROOT_DIR` with your `PROJECT` name. The folders are organized like so:\n",
    "```\n",
    "    ROOT_DIR\n",
    "    └── PROJECT\n",
    "        ├── data  # General storage for pipeline outputs\n",
    "        ├── model  # SBML and GEM-PRO models are stored here\n",
    "        ├── genes  # Per gene information\n",
    "        │   ├── <gene_id1>  # Specific gene directory\n",
    "        │   │   └── protein\n",
    "        │   │       ├── sequences  # Protein sequence files, alignments, etc.\n",
    "        │   │       └── structures  # Protein structure files, calculations, etc.\n",
    "        │   └── <gene_id2>\n",
    "        │       └── protein\n",
    "        │           ├── sequences\n",
    "        │           └── structures\n",
    "        ├── reactions  # Per reaction information\n",
    "        │   └── <reaction_id1>  # Specific reaction directory\n",
    "        │       └── complex\n",
    "        │           └── structures  # Protein complex files\n",
    "        └── metabolites  # Per metabolite information\n",
    "            └── <metabolite_id1>  # Specific metabolite directory\n",
    "                └── chemical\n",
    "                    └── structures  # Metabolite 2D and 3D structure files\n",
    "                \n",
    "```\n",
    "\n",
    "<div class=\"alert alert-info\">**Note:** Methods for protein complexes and metabolites are still in development.</div>"
   ]
  },
  {
   "cell_type": "code",
   "execution_count": 6,
   "metadata": {
    "collapsed": true
   },
   "outputs": [],
   "source": [
    "# SET FOLDERS AND DATA HERE\n",
    "import tempfile\n",
    "ROOT_DIR = tempfile.gettempdir()\n",
    "\n",
    "PROJECT = 'ssbio_protein_properties'\n",
    "LIST_OF_GENES = ['b1276', 'b0118']"
   ]
  },
  {
   "cell_type": "code",
   "execution_count": 7,
   "metadata": {},
   "outputs": [
    {
     "name": "stderr",
     "output_type": "stream",
     "text": [
      "[2017-09-24 05:22] [ssbio.pipeline.gempro] INFO: Creating GEM-PRO project directory in folder /tmp\n",
      "[2017-09-24 05:22] [ssbio.pipeline.gempro] INFO: /tmp/ssbio_protein_properties: GEM-PRO project location\n",
      "[2017-09-24 05:22] [ssbio.pipeline.gempro] INFO: 2: number of genes\n"
     ]
    }
   ],
   "source": [
    "# Create the GEM-PRO project\n",
    "my_gempro = GEMPRO(gem_name=PROJECT, root_dir=ROOT_DIR, genes_list=LIST_OF_GENES, pdb_file_type='pdb')"
   ]
  },
  {
   "cell_type": "markdown",
   "metadata": {},
   "source": [
    "## Mapping gene ID --> sequence\n",
    "\n",
    "First, we need to map these IDs to their protein sequences. There are 2 ID mapping services provided to do this - through **KEGG** or **UniProt**. The end goal is to map a UniProt ID to each ID, since there is a comprehensive mapping (and some useful APIs) between UniProt and the PDB.\n",
    "\n",
    "<p><div class=\"alert alert-info\">**Note:** You only need to map gene IDs using one service. However you can run both if some genes don't map in one service and do map in another!</div></p>"
   ]
  },
  {
   "cell_type": "markdown",
   "metadata": {},
   "source": [
    "### Methods"
   ]
  },
  {
   "cell_type": "raw",
   "metadata": {
    "raw_mimetype": "text/restructuredtext"
   },
   "source": [
    ".. automethod:: ssbio.pipeline.gempro.GEMPRO.uniprot_mapping_and_metadata\n",
    "    :noindex:"
   ]
  },
  {
   "cell_type": "code",
   "execution_count": 8,
   "metadata": {},
   "outputs": [
    {
     "name": "stderr",
     "output_type": "stream",
     "text": [
      "[2017-09-24 05:22] [root] INFO: getUserAgent: Begin\n",
      "[2017-09-24 05:22] [root] INFO: getUserAgent: user_agent: EBI-Sample-Client/ (services.py; Python 3.5.3; Linux) Python-requests/2.14.2\n",
      "[2017-09-24 05:22] [root] INFO: getUserAgent: End\n"
     ]
    },
    {
     "data": {
      "application/vnd.jupyter.widget-view+json": {
       "model_id": "bd0533aefeb14bc4af584573fa63674b"
      }
     },
     "metadata": {},
     "output_type": "display_data"
    },
    {
     "name": "stderr",
     "output_type": "stream",
     "text": [
      "[2017-09-24 05:22] [ssbio.pipeline.gempro] INFO: 2/2: number of genes mapped to UniProt\n",
      "[2017-09-24 05:22] [ssbio.pipeline.gempro] INFO: Completed ID mapping --> UniProt. See the \"df_uniprot_metadata\" attribute for a summary dataframe.\n"
     ]
    },
    {
     "name": "stdout",
     "output_type": "stream",
     "text": [
      "\n",
      "Missing UniProt mapping:  []\n"
     ]
    },
    {
     "data": {
      "text/html": [
       "<div>\n",
       "<style>\n",
       "    .dataframe thead tr:only-child th {\n",
       "        text-align: right;\n",
       "    }\n",
       "\n",
       "    .dataframe thead th {\n",
       "        text-align: left;\n",
       "    }\n",
       "\n",
       "    .dataframe tbody tr th {\n",
       "        vertical-align: top;\n",
       "    }\n",
       "</style>\n",
       "<table border=\"1\" class=\"dataframe\">\n",
       "  <thead>\n",
       "    <tr style=\"text-align: right;\">\n",
       "      <th></th>\n",
       "      <th>uniprot</th>\n",
       "      <th>reviewed</th>\n",
       "      <th>gene_name</th>\n",
       "      <th>kegg</th>\n",
       "      <th>refseq</th>\n",
       "      <th>pdbs</th>\n",
       "      <th>pfam</th>\n",
       "      <th>description</th>\n",
       "      <th>entry_date</th>\n",
       "      <th>entry_version</th>\n",
       "      <th>seq_date</th>\n",
       "      <th>seq_version</th>\n",
       "      <th>sequence_file</th>\n",
       "      <th>metadata_file</th>\n",
       "    </tr>\n",
       "    <tr>\n",
       "      <th>gene</th>\n",
       "      <th></th>\n",
       "      <th></th>\n",
       "      <th></th>\n",
       "      <th></th>\n",
       "      <th></th>\n",
       "      <th></th>\n",
       "      <th></th>\n",
       "      <th></th>\n",
       "      <th></th>\n",
       "      <th></th>\n",
       "      <th></th>\n",
       "      <th></th>\n",
       "      <th></th>\n",
       "      <th></th>\n",
       "    </tr>\n",
       "  </thead>\n",
       "  <tbody>\n",
       "    <tr>\n",
       "      <th>b0118</th>\n",
       "      <td>P36683</td>\n",
       "      <td>False</td>\n",
       "      <td>acnB</td>\n",
       "      <td>ecj:JW0114;eco:b0118</td>\n",
       "      <td>NP_414660.1;WP_001307570.1</td>\n",
       "      <td>1L5J</td>\n",
       "      <td>PF00330;PF06434;PF11791</td>\n",
       "      <td>Aconitate hydratase B</td>\n",
       "      <td>2017-08-30</td>\n",
       "      <td>162</td>\n",
       "      <td>1997-11-01</td>\n",
       "      <td>3</td>\n",
       "      <td>P36683.fasta</td>\n",
       "      <td>P36683.xml</td>\n",
       "    </tr>\n",
       "    <tr>\n",
       "      <th>b1276</th>\n",
       "      <td>P25516</td>\n",
       "      <td>False</td>\n",
       "      <td>acnA</td>\n",
       "      <td>ecj:JW1268;eco:b1276</td>\n",
       "      <td>NP_415792.1;WP_000099535.1</td>\n",
       "      <td>NaN</td>\n",
       "      <td>PF00330;PF00694</td>\n",
       "      <td>Aconitate hydratase A</td>\n",
       "      <td>2017-08-30</td>\n",
       "      <td>150</td>\n",
       "      <td>2008-01-15</td>\n",
       "      <td>3</td>\n",
       "      <td>P25516.fasta</td>\n",
       "      <td>P25516.xml</td>\n",
       "    </tr>\n",
       "  </tbody>\n",
       "</table>\n",
       "</div>"
      ],
      "text/plain": [
       "      uniprot  reviewed gene_name                  kegg  \\\n",
       "gene                                                      \n",
       "b0118  P36683     False      acnB  ecj:JW0114;eco:b0118   \n",
       "b1276  P25516     False      acnA  ecj:JW1268;eco:b1276   \n",
       "\n",
       "                           refseq  pdbs                     pfam  \\\n",
       "gene                                                               \n",
       "b0118  NP_414660.1;WP_001307570.1  1L5J  PF00330;PF06434;PF11791   \n",
       "b1276  NP_415792.1;WP_000099535.1   NaN          PF00330;PF00694   \n",
       "\n",
       "                 description  entry_date  entry_version    seq_date  \\\n",
       "gene                                                                  \n",
       "b0118  Aconitate hydratase B  2017-08-30            162  1997-11-01   \n",
       "b1276  Aconitate hydratase A  2017-08-30            150  2008-01-15   \n",
       "\n",
       "       seq_version sequence_file metadata_file  \n",
       "gene                                            \n",
       "b0118            3  P36683.fasta    P36683.xml  \n",
       "b1276            3  P25516.fasta    P25516.xml  "
      ]
     },
     "execution_count": 8,
     "metadata": {},
     "output_type": "execute_result"
    }
   ],
   "source": [
    "# UniProt mapping\n",
    "my_gempro.uniprot_mapping_and_metadata(model_gene_source='ENSEMBLGENOME_ID')\n",
    "print('Missing UniProt mapping: ', my_gempro.missing_uniprot_mapping)\n",
    "my_gempro.df_uniprot_metadata.head()"
   ]
  },
  {
   "cell_type": "raw",
   "metadata": {
    "raw_mimetype": "text/restructuredtext"
   },
   "source": [
    ".. automethod:: ssbio.pipeline.gempro.GEMPRO.set_representative_sequence\n",
    "    :noindex:"
   ]
  },
  {
   "cell_type": "code",
   "execution_count": 9,
   "metadata": {},
   "outputs": [
    {
     "data": {
      "application/vnd.jupyter.widget-view+json": {
       "model_id": "dc4e0673cb56433ea44679f1ad7ebffe"
      }
     },
     "metadata": {},
     "output_type": "display_data"
    },
    {
     "name": "stderr",
     "output_type": "stream",
     "text": [
      "[2017-09-24 05:22] [ssbio.pipeline.gempro] INFO: 2/2: number of genes with a representative sequence\n",
      "[2017-09-24 05:22] [ssbio.pipeline.gempro] INFO: See the \"df_representative_sequences\" attribute for a summary dataframe.\n"
     ]
    },
    {
     "name": "stdout",
     "output_type": "stream",
     "text": [
      "\n",
      "Missing a representative sequence:  []\n"
     ]
    },
    {
     "data": {
      "text/html": [
       "<div>\n",
       "<style>\n",
       "    .dataframe thead tr:only-child th {\n",
       "        text-align: right;\n",
       "    }\n",
       "\n",
       "    .dataframe thead th {\n",
       "        text-align: left;\n",
       "    }\n",
       "\n",
       "    .dataframe tbody tr th {\n",
       "        vertical-align: top;\n",
       "    }\n",
       "</style>\n",
       "<table border=\"1\" class=\"dataframe\">\n",
       "  <thead>\n",
       "    <tr style=\"text-align: right;\">\n",
       "      <th></th>\n",
       "      <th>uniprot</th>\n",
       "      <th>kegg</th>\n",
       "      <th>pdbs</th>\n",
       "      <th>sequence_file</th>\n",
       "      <th>metadata_file</th>\n",
       "    </tr>\n",
       "    <tr>\n",
       "      <th>gene</th>\n",
       "      <th></th>\n",
       "      <th></th>\n",
       "      <th></th>\n",
       "      <th></th>\n",
       "      <th></th>\n",
       "    </tr>\n",
       "  </thead>\n",
       "  <tbody>\n",
       "    <tr>\n",
       "      <th>b0118</th>\n",
       "      <td>P36683</td>\n",
       "      <td>ecj:JW0114;eco:b0118</td>\n",
       "      <td>1L5J</td>\n",
       "      <td>P36683.fasta</td>\n",
       "      <td>P36683.xml</td>\n",
       "    </tr>\n",
       "    <tr>\n",
       "      <th>b1276</th>\n",
       "      <td>P25516</td>\n",
       "      <td>ecj:JW1268;eco:b1276</td>\n",
       "      <td>NaN</td>\n",
       "      <td>P25516.fasta</td>\n",
       "      <td>P25516.xml</td>\n",
       "    </tr>\n",
       "  </tbody>\n",
       "</table>\n",
       "</div>"
      ],
      "text/plain": [
       "      uniprot                  kegg  pdbs sequence_file metadata_file\n",
       "gene                                                                 \n",
       "b0118  P36683  ecj:JW0114;eco:b0118  1L5J  P36683.fasta    P36683.xml\n",
       "b1276  P25516  ecj:JW1268;eco:b1276   NaN  P25516.fasta    P25516.xml"
      ]
     },
     "execution_count": 9,
     "metadata": {},
     "output_type": "execute_result"
    }
   ],
   "source": [
    "# Set representative sequences\n",
    "my_gempro.set_representative_sequence()\n",
    "print('Missing a representative sequence: ', my_gempro.missing_representative_sequence)\n",
    "my_gempro.df_representative_sequences.head()"
   ]
  },
  {
   "cell_type": "markdown",
   "metadata": {},
   "source": [
    "## Mapping representative sequence --> structure\n",
    "\n",
    "These are the ways to map sequence to structure:\n",
    "\n",
    "1. Use the UniProt ID and their automatic mappings to the PDB\n",
    "2. BLAST the sequence to the PDB\n",
    "3. Make homology models or \n",
    "4. Map to existing homology models\n",
    "\n",
    "You can only utilize option #1 to map to PDBs if there is a mapped UniProt ID set in the representative sequence. If not, you'll have to BLAST your sequence to the PDB or make a homology model. You can also run both for maximum coverage."
   ]
  },
  {
   "cell_type": "markdown",
   "metadata": {},
   "source": [
    "### Methods"
   ]
  },
  {
   "cell_type": "raw",
   "metadata": {
    "raw_mimetype": "text/restructuredtext"
   },
   "source": [
    ".. automethod:: ssbio.pipeline.gempro.GEMPRO.map_uniprot_to_pdb\n",
    "    :noindex:"
   ]
  },
  {
   "cell_type": "code",
   "execution_count": 10,
   "metadata": {},
   "outputs": [
    {
     "name": "stderr",
     "output_type": "stream",
     "text": [
      "[2017-09-24 05:22] [ssbio.pipeline.gempro] INFO: Mapping UniProt IDs --> PDB IDs...\n",
      "[2017-09-24 05:22] [root] INFO: getUserAgent: Begin\n",
      "[2017-09-24 05:22] [root] INFO: getUserAgent: user_agent: EBI-Sample-Client/ (services.py; Python 3.5.3; Linux) Python-requests/2.14.2\n",
      "[2017-09-24 05:22] [root] INFO: getUserAgent: End\n"
     ]
    },
    {
     "data": {
      "application/vnd.jupyter.widget-view+json": {
       "model_id": "049cd814b6b347fabc99359a6a8f6ba4"
      }
     },
     "metadata": {},
     "output_type": "display_data"
    },
    {
     "name": "stderr",
     "output_type": "stream",
     "text": [
      "[2017-09-24 05:22] [ssbio.pipeline.gempro] INFO: 1/2: number of genes with at least one experimental structure\n",
      "[2017-09-24 05:22] [ssbio.pipeline.gempro] INFO: Completed UniProt --> best PDB mapping. See the \"df_pdb_ranking\" attribute for a summary dataframe.\n"
     ]
    },
    {
     "name": "stdout",
     "output_type": "stream",
     "text": [
      "\n"
     ]
    },
    {
     "data": {
      "text/html": [
       "<div>\n",
       "<style>\n",
       "    .dataframe thead tr:only-child th {\n",
       "        text-align: right;\n",
       "    }\n",
       "\n",
       "    .dataframe thead th {\n",
       "        text-align: left;\n",
       "    }\n",
       "\n",
       "    .dataframe tbody tr th {\n",
       "        vertical-align: top;\n",
       "    }\n",
       "</style>\n",
       "<table border=\"1\" class=\"dataframe\">\n",
       "  <thead>\n",
       "    <tr style=\"text-align: right;\">\n",
       "      <th></th>\n",
       "      <th>pdb_id</th>\n",
       "      <th>pdb_chain_id</th>\n",
       "      <th>uniprot</th>\n",
       "      <th>experimental_method</th>\n",
       "      <th>resolution</th>\n",
       "      <th>coverage</th>\n",
       "      <th>start</th>\n",
       "      <th>end</th>\n",
       "      <th>unp_start</th>\n",
       "      <th>unp_end</th>\n",
       "      <th>rank</th>\n",
       "    </tr>\n",
       "    <tr>\n",
       "      <th>gene</th>\n",
       "      <th></th>\n",
       "      <th></th>\n",
       "      <th></th>\n",
       "      <th></th>\n",
       "      <th></th>\n",
       "      <th></th>\n",
       "      <th></th>\n",
       "      <th></th>\n",
       "      <th></th>\n",
       "      <th></th>\n",
       "      <th></th>\n",
       "    </tr>\n",
       "  </thead>\n",
       "  <tbody>\n",
       "    <tr>\n",
       "      <th>b0118</th>\n",
       "      <td>1l5j</td>\n",
       "      <td>A</td>\n",
       "      <td>P36683</td>\n",
       "      <td>X-ray diffraction</td>\n",
       "      <td>2.4</td>\n",
       "      <td>1</td>\n",
       "      <td>1</td>\n",
       "      <td>865</td>\n",
       "      <td>1</td>\n",
       "      <td>865</td>\n",
       "      <td>1</td>\n",
       "    </tr>\n",
       "    <tr>\n",
       "      <th>b0118</th>\n",
       "      <td>1l5j</td>\n",
       "      <td>B</td>\n",
       "      <td>P36683</td>\n",
       "      <td>X-ray diffraction</td>\n",
       "      <td>2.4</td>\n",
       "      <td>1</td>\n",
       "      <td>1</td>\n",
       "      <td>865</td>\n",
       "      <td>1</td>\n",
       "      <td>865</td>\n",
       "      <td>2</td>\n",
       "    </tr>\n",
       "  </tbody>\n",
       "</table>\n",
       "</div>"
      ],
      "text/plain": [
       "      pdb_id pdb_chain_id uniprot experimental_method  resolution  coverage  \\\n",
       "gene                                                                          \n",
       "b0118   1l5j            A  P36683   X-ray diffraction         2.4         1   \n",
       "b0118   1l5j            B  P36683   X-ray diffraction         2.4         1   \n",
       "\n",
       "       start  end  unp_start  unp_end  rank  \n",
       "gene                                         \n",
       "b0118      1  865          1      865     1  \n",
       "b0118      1  865          1      865     2  "
      ]
     },
     "execution_count": 10,
     "metadata": {},
     "output_type": "execute_result"
    }
   ],
   "source": [
    "# Mapping using the PDBe best_structures service\n",
    "my_gempro.map_uniprot_to_pdb(seq_ident_cutoff=.3)\n",
    "my_gempro.df_pdb_ranking.head()"
   ]
  },
  {
   "cell_type": "raw",
   "metadata": {
    "raw_mimetype": "text/restructuredtext"
   },
   "source": [
    ".. automethod:: ssbio.pipeline.gempro.GEMPRO.blast_seqs_to_pdb\n",
    "    :noindex:"
   ]
  },
  {
   "cell_type": "code",
   "execution_count": 11,
   "metadata": {},
   "outputs": [
    {
     "data": {
      "application/vnd.jupyter.widget-view+json": {
       "model_id": "cd0659420d5846abb812f05c74ff1ccb"
      }
     },
     "metadata": {},
     "output_type": "display_data"
    },
    {
     "name": "stderr",
     "output_type": "stream",
     "text": [
      "[2017-09-24 05:22] [ssbio.pipeline.gempro] INFO: Completed sequence --> PDB BLAST. See the \"df_pdb_blast\" attribute for a summary dataframe.\n",
      "[2017-09-24 05:22] [ssbio.pipeline.gempro] INFO: 0: number of genes with additional structures added from BLAST\n",
      "[2017-09-24 05:22] [ssbio.pipeline.gempro] WARNING: Empty dataframe\n"
     ]
    },
    {
     "name": "stdout",
     "output_type": "stream",
     "text": [
      "\n"
     ]
    },
    {
     "data": {
      "text/html": [
       "<div>\n",
       "<style>\n",
       "    .dataframe thead tr:only-child th {\n",
       "        text-align: right;\n",
       "    }\n",
       "\n",
       "    .dataframe thead th {\n",
       "        text-align: left;\n",
       "    }\n",
       "\n",
       "    .dataframe tbody tr th {\n",
       "        vertical-align: top;\n",
       "    }\n",
       "</style>\n",
       "<table border=\"1\" class=\"dataframe\">\n",
       "  <thead>\n",
       "    <tr style=\"text-align: right;\">\n",
       "      <th></th>\n",
       "    </tr>\n",
       "  </thead>\n",
       "  <tbody>\n",
       "  </tbody>\n",
       "</table>\n",
       "</div>"
      ],
      "text/plain": [
       "Empty DataFrame\n",
       "Columns: []\n",
       "Index: []"
      ]
     },
     "execution_count": 11,
     "metadata": {},
     "output_type": "execute_result"
    }
   ],
   "source": [
    "# Mapping using BLAST\n",
    "my_gempro.blast_seqs_to_pdb(all_genes=True, seq_ident_cutoff=.7, evalue=0.00001)\n",
    "my_gempro.df_pdb_blast.head(2)"
   ]
  },
  {
   "cell_type": "raw",
   "metadata": {
    "raw_mimetype": "text/restructuredtext"
   },
   "source": [
    ".. automethod:: ssbio.pipeline.gempro.GEMPRO.get_manual_homology_models\n",
    "    :noindex:"
   ]
  },
  {
   "cell_type": "code",
   "execution_count": 12,
   "metadata": {
    "collapsed": true
   },
   "outputs": [],
   "source": [
    "import pandas as pd\n",
    "import os.path as op"
   ]
  },
  {
   "cell_type": "code",
   "execution_count": 13,
   "metadata": {},
   "outputs": [
    {
     "data": {
      "application/vnd.jupyter.widget-view+json": {
       "model_id": "c99bd3992635472885a96a3391b8f758"
      }
     },
     "metadata": {},
     "output_type": "display_data"
    },
    {
     "name": "stderr",
     "output_type": "stream",
     "text": [
      "[2017-09-24 05:22] [ssbio.pipeline.gempro] INFO: Updated homology model information for 2 genes.\n"
     ]
    },
    {
     "name": "stdout",
     "output_type": "stream",
     "text": [
      "\n"
     ]
    }
   ],
   "source": [
    "# Creating manual mapping dictionary for ECOLI I-TASSER models\n",
    "homology_models = '/home/nathan/projects_archive/homology_models/ECOLI/zhang/'\n",
    "homology_models_df = pd.read_csv('/home/nathan/projects_archive/homology_models/ECOLI/zhang_data/160804-ZHANG_INFO.csv')\n",
    "tmp = homology_models_df[['zhang_id','model_file','m_gene']].drop_duplicates()\n",
    "tmp = tmp[pd.notnull(tmp.m_gene)]\n",
    "\n",
    "homology_model_dict = {}\n",
    "\n",
    "for i,r in tmp.iterrows():\n",
    "    homology_model_dict[r['m_gene']] = {r['zhang_id']: {'model_file':op.join(homology_models, r['model_file']),\n",
    "                                                        'file_type':'pdb'}}\n",
    "    \n",
    "my_gempro.get_manual_homology_models(homology_model_dict)"
   ]
  },
  {
   "cell_type": "code",
   "execution_count": 14,
   "metadata": {},
   "outputs": [
    {
     "data": {
      "application/vnd.jupyter.widget-view+json": {
       "model_id": "6324ed4caeca43348eadc369df849082"
      }
     },
     "metadata": {},
     "output_type": "display_data"
    },
    {
     "name": "stderr",
     "output_type": "stream",
     "text": [
      "[2017-09-24 05:22] [ssbio.pipeline.gempro] INFO: Updated homology model information for 2 genes.\n"
     ]
    },
    {
     "name": "stdout",
     "output_type": "stream",
     "text": [
      "\n"
     ]
    }
   ],
   "source": [
    "# Creating manual mapping dictionary for ECOLI SUNPRO models\n",
    "homology_models = '/home/nathan/projects_archive/homology_models/ECOLI/sunpro/'\n",
    "homology_models_df = pd.read_csv('/home/nathan/projects_archive/homology_models/ECOLI/sunpro_data/160609-SUNPRO_INFO.csv')\n",
    "tmp = homology_models_df[['sunpro_id','model_file','m_gene']].drop_duplicates()\n",
    "tmp = tmp[pd.notnull(tmp.m_gene)]\n",
    "\n",
    "homology_model_dict = {}\n",
    "\n",
    "for i,r in tmp.iterrows():\n",
    "    homology_model_dict[r['m_gene']] = {r['sunpro_id']: {'model_file':op.join(homology_models, r['model_file']),\n",
    "                                                         'file_type':'pdb'}}\n",
    "    \n",
    "my_gempro.get_manual_homology_models(homology_model_dict)"
   ]
  },
  {
   "cell_type": "markdown",
   "metadata": {},
   "source": [
    "## Downloading and ranking structures"
   ]
  },
  {
   "cell_type": "markdown",
   "metadata": {},
   "source": [
    "### Methods"
   ]
  },
  {
   "cell_type": "raw",
   "metadata": {
    "raw_mimetype": "text/restructuredtext"
   },
   "source": [
    ".. automethod:: ssbio.pipeline.gempro.GEMPRO.pdb_downloader_and_metadata\n",
    "    :noindex:"
   ]
  },
  {
   "cell_type": "markdown",
   "metadata": {},
   "source": [
    "<div class=\"alert alert-warning\">\n",
    "\n",
    "**Warning:** \n",
    "Downloading all PDBs takes a while, since they are also parsed for metadata. You can skip this step and just set representative structures below if you want to minimize the number of PDBs downloaded.\n",
    "\n",
    "</div>"
   ]
  },
  {
   "cell_type": "code",
   "execution_count": 15,
   "metadata": {},
   "outputs": [
    {
     "data": {
      "application/vnd.jupyter.widget-view+json": {
       "model_id": "d590445460bd49c68dc09a6acba0d7bd"
      }
     },
     "metadata": {},
     "output_type": "display_data"
    },
    {
     "name": "stderr",
     "output_type": "stream",
     "text": [
      "[2017-09-24 05:22] [ssbio.pipeline.gempro] INFO: Updated PDB metadata dataframe. See the \"df_pdb_metadata\" attribute for a summary dataframe.\n",
      "[2017-09-24 05:22] [ssbio.pipeline.gempro] INFO: Saved 1 structures total\n"
     ]
    },
    {
     "name": "stdout",
     "output_type": "stream",
     "text": [
      "\n"
     ]
    },
    {
     "data": {
      "text/html": [
       "<div>\n",
       "<style>\n",
       "    .dataframe thead tr:only-child th {\n",
       "        text-align: right;\n",
       "    }\n",
       "\n",
       "    .dataframe thead th {\n",
       "        text-align: left;\n",
       "    }\n",
       "\n",
       "    .dataframe tbody tr th {\n",
       "        vertical-align: top;\n",
       "    }\n",
       "</style>\n",
       "<table border=\"1\" class=\"dataframe\">\n",
       "  <thead>\n",
       "    <tr style=\"text-align: right;\">\n",
       "      <th></th>\n",
       "      <th>pdb_id</th>\n",
       "      <th>pdb_title</th>\n",
       "      <th>description</th>\n",
       "      <th>experimental_method</th>\n",
       "      <th>mapped_chains</th>\n",
       "      <th>resolution</th>\n",
       "      <th>chemicals</th>\n",
       "      <th>taxonomy_name</th>\n",
       "      <th>structure_file</th>\n",
       "    </tr>\n",
       "    <tr>\n",
       "      <th>gene</th>\n",
       "      <th></th>\n",
       "      <th></th>\n",
       "      <th></th>\n",
       "      <th></th>\n",
       "      <th></th>\n",
       "      <th></th>\n",
       "      <th></th>\n",
       "      <th></th>\n",
       "      <th></th>\n",
       "    </tr>\n",
       "  </thead>\n",
       "  <tbody>\n",
       "    <tr>\n",
       "      <th>b0118</th>\n",
       "      <td>1l5j</td>\n",
       "      <td>CRYSTAL STRUCTURE OF E. COLI ACONITASE B.</td>\n",
       "      <td>Aconitate hydratase 2 (E.C.4.2.1.3)</td>\n",
       "      <td>X-ray diffraction</td>\n",
       "      <td>A;B</td>\n",
       "      <td>2.4</td>\n",
       "      <td>F3S;TRA</td>\n",
       "      <td>Escherichia coli</td>\n",
       "      <td>1l5j.pdb</td>\n",
       "    </tr>\n",
       "  </tbody>\n",
       "</table>\n",
       "</div>"
      ],
      "text/plain": [
       "      pdb_id                                  pdb_title  \\\n",
       "gene                                                      \n",
       "b0118   1l5j  CRYSTAL STRUCTURE OF E. COLI ACONITASE B.   \n",
       "\n",
       "                               description experimental_method mapped_chains  \\\n",
       "gene                                                                           \n",
       "b0118  Aconitate hydratase 2 (E.C.4.2.1.3)   X-ray diffraction           A;B   \n",
       "\n",
       "       resolution chemicals     taxonomy_name structure_file  \n",
       "gene                                                          \n",
       "b0118         2.4   F3S;TRA  Escherichia coli       1l5j.pdb  "
      ]
     },
     "execution_count": 15,
     "metadata": {},
     "output_type": "execute_result"
    }
   ],
   "source": [
    "# Download all mapped PDBs and gather the metadata\n",
    "my_gempro.pdb_downloader_and_metadata()\n",
    "my_gempro.df_pdb_metadata.head(2)"
   ]
  },
  {
   "cell_type": "raw",
   "metadata": {
    "raw_mimetype": "text/restructuredtext"
   },
   "source": [
    ".. automethod:: ssbio.pipeline.gempro.GEMPRO.set_representative_structure\n",
    "    :noindex:"
   ]
  },
  {
   "cell_type": "code",
   "execution_count": 16,
   "metadata": {},
   "outputs": [
    {
     "data": {
      "application/vnd.jupyter.widget-view+json": {
       "model_id": "6d597c0f80c2467d8f18b295c5eed27c"
      }
     },
     "metadata": {},
     "output_type": "display_data"
    },
    {
     "name": "stderr",
     "output_type": "stream",
     "text": [
      "[2017-09-24 05:23] [ssbio.pipeline.gempro] INFO: 2/2: number of genes with a representative structure\n",
      "[2017-09-24 05:23] [ssbio.pipeline.gempro] INFO: See the \"df_representative_structures\" attribute for a summary dataframe.\n"
     ]
    },
    {
     "name": "stdout",
     "output_type": "stream",
     "text": [
      "\n"
     ]
    },
    {
     "data": {
      "text/html": [
       "<div>\n",
       "<style>\n",
       "    .dataframe thead tr:only-child th {\n",
       "        text-align: right;\n",
       "    }\n",
       "\n",
       "    .dataframe thead th {\n",
       "        text-align: left;\n",
       "    }\n",
       "\n",
       "    .dataframe tbody tr th {\n",
       "        vertical-align: top;\n",
       "    }\n",
       "</style>\n",
       "<table border=\"1\" class=\"dataframe\">\n",
       "  <thead>\n",
       "    <tr style=\"text-align: right;\">\n",
       "      <th></th>\n",
       "      <th>id</th>\n",
       "      <th>is_experimental</th>\n",
       "      <th>file_type</th>\n",
       "      <th>structure_file</th>\n",
       "    </tr>\n",
       "    <tr>\n",
       "      <th>gene</th>\n",
       "      <th></th>\n",
       "      <th></th>\n",
       "      <th></th>\n",
       "      <th></th>\n",
       "    </tr>\n",
       "  </thead>\n",
       "  <tbody>\n",
       "    <tr>\n",
       "      <th>b0118</th>\n",
       "      <td>REP-1l5j</td>\n",
       "      <td>True</td>\n",
       "      <td>pdb</td>\n",
       "      <td>1l5j-A_clean.pdb</td>\n",
       "    </tr>\n",
       "    <tr>\n",
       "      <th>b1276</th>\n",
       "      <td>REP-ACON1_ECOLI</td>\n",
       "      <td>False</td>\n",
       "      <td>pdb</td>\n",
       "      <td>ACON1_ECOLI_model1_clean-X_clean.pdb</td>\n",
       "    </tr>\n",
       "  </tbody>\n",
       "</table>\n",
       "</div>"
      ],
      "text/plain": [
       "                    id  is_experimental file_type  \\\n",
       "gene                                                \n",
       "b0118         REP-1l5j             True       pdb   \n",
       "b1276  REP-ACON1_ECOLI            False       pdb   \n",
       "\n",
       "                             structure_file  \n",
       "gene                                         \n",
       "b0118                      1l5j-A_clean.pdb  \n",
       "b1276  ACON1_ECOLI_model1_clean-X_clean.pdb  "
      ]
     },
     "execution_count": 16,
     "metadata": {},
     "output_type": "execute_result"
    }
   ],
   "source": [
    "# Set representative structures\n",
    "my_gempro.set_representative_structure()\n",
    "my_gempro.df_representative_structures.head()"
   ]
  },
  {
   "cell_type": "markdown",
   "metadata": {},
   "source": [
    "### Computing sequence and structure properties"
   ]
  },
  {
   "cell_type": "raw",
   "metadata": {
    "raw_mimetype": "text/restructuredtext"
   },
   "source": [
    ".. automethod:: ssbio.pipeline.gempro.GEMPRO.get_sequence_properties\n",
    "    :noindex:"
   ]
  },
  {
   "cell_type": "code",
   "execution_count": 17,
   "metadata": {},
   "outputs": [
    {
     "data": {
      "application/vnd.jupyter.widget-view+json": {
       "model_id": "6dbebfa2b072483fafd2f4c0b21e80f4"
      }
     },
     "metadata": {},
     "output_type": "display_data"
    },
    {
     "name": "stdout",
     "output_type": "stream",
     "text": [
      "\n"
     ]
    }
   ],
   "source": [
    "# Requires EMBOSS \"pepstats\" program\n",
    "# See the ssbio wiki for more information: https://github.com/SBRG/ssbio/wiki/Software-Installations\n",
    "# Install using:\n",
    "# sudo apt-get install emboss\n",
    "my_gempro.get_sequence_properties()"
   ]
  },
  {
   "cell_type": "raw",
   "metadata": {
    "raw_mimetype": "text/restructuredtext"
   },
   "source": [
    ".. automethod:: ssbio.pipeline.gempro.GEMPRO.get_scratch_predictions\n",
    "    :noindex:"
   ]
  },
  {
   "cell_type": "code",
   "execution_count": 18,
   "metadata": {},
   "outputs": [
    {
     "name": "stderr",
     "output_type": "stream",
     "text": [
      "[2017-09-24 05:23] [ssbio.pipeline.gempro] INFO: /tmp/ssbio_protein_properties/data/ssbio_protein_properties_cds.faa: wrote all representative sequences to file\n"
     ]
    },
    {
     "data": {
      "application/vnd.jupyter.widget-view+json": {
       "model_id": "1a32585b2be4438db72c65223103dd2a"
      }
     },
     "metadata": {},
     "output_type": "display_data"
    },
    {
     "name": "stderr",
     "output_type": "stream",
     "text": [
      "[2017-09-24 05:23] [ssbio.pipeline.gempro] INFO: 2/2: number of genes with SCRATCH predictions loaded\n"
     ]
    },
    {
     "name": "stdout",
     "output_type": "stream",
     "text": [
      "\n"
     ]
    }
   ],
   "source": [
    "# Requires SCRATCH installation, replace path_to_scratch with own path to script\n",
    "# See the ssbio wiki for more information: https://github.com/SBRG/ssbio/wiki/Software-Installations\n",
    "my_gempro.get_scratch_predictions(path_to_scratch='/home/nathan/software/SCRATCH-1D_1.1/bin/run_SCRATCH-1D_predictors.sh', \n",
    "                                  results_dir=my_gempro.data_dir,\n",
    "                                  num_cores=2)"
   ]
  },
  {
   "cell_type": "raw",
   "metadata": {
    "raw_mimetype": "text/restructuredtext"
   },
   "source": [
    ".. automethod:: ssbio.pipeline.gempro.GEMPRO.get_disulfide_bridges\n",
    "    :noindex:"
   ]
  },
  {
   "cell_type": "code",
   "execution_count": 19,
   "metadata": {},
   "outputs": [
    {
     "data": {
      "application/vnd.jupyter.widget-view+json": {
       "model_id": "1e302254a05e43088f0f59094a11447d"
      }
     },
     "metadata": {},
     "output_type": "display_data"
    },
    {
     "name": "stdout",
     "output_type": "stream",
     "text": [
      "\n"
     ]
    }
   ],
   "source": [
    "my_gempro.get_disulfide_bridges(representatives_only=False)"
   ]
  },
  {
   "cell_type": "raw",
   "metadata": {
    "raw_mimetype": "text/restructuredtext"
   },
   "source": [
    ".. automethod:: ssbio.pipeline.gempro.GEMPRO.get_dssp_annotations\n",
    "    :noindex:"
   ]
  },
  {
   "cell_type": "code",
   "execution_count": 20,
   "metadata": {},
   "outputs": [
    {
     "data": {
      "application/vnd.jupyter.widget-view+json": {
       "model_id": "ebda37499aae49cbb9a24f20b891f6d0"
      }
     },
     "metadata": {},
     "output_type": "display_data"
    },
    {
     "name": "stdout",
     "output_type": "stream",
     "text": [
      "\n"
     ]
    }
   ],
   "source": [
    "# Requires DSSP installation\n",
    "# See the ssbio wiki for more information: https://github.com/SBRG/ssbio/wiki/Software-Installations\n",
    "my_gempro.get_dssp_annotations(representatives_only=False)"
   ]
  },
  {
   "cell_type": "raw",
   "metadata": {
    "raw_mimetype": "text/restructuredtext"
   },
   "source": [
    ".. automethod:: ssbio.pipeline.gempro.GEMPRO.get_msms_annotations\n",
    "    :noindex:"
   ]
  },
  {
   "cell_type": "code",
   "execution_count": 21,
   "metadata": {},
   "outputs": [
    {
     "data": {
      "application/vnd.jupyter.widget-view+json": {
       "model_id": "1a4ccfe5ad564b4da0939332b001f780"
      }
     },
     "metadata": {},
     "output_type": "display_data"
    },
    {
     "name": "stdout",
     "output_type": "stream",
     "text": [
      "\n"
     ]
    }
   ],
   "source": [
    "# Requires MSMS installation\n",
    "# See the ssbio wiki for more information: https://github.com/SBRG/ssbio/wiki/Software-Installations\n",
    "my_gempro.get_msms_annotations(representatives_only=False)"
   ]
  },
  {
   "cell_type": "markdown",
   "metadata": {},
   "source": [
    "---------------"
   ]
  },
  {
   "cell_type": "markdown",
   "metadata": {},
   "source": [
    "### Extracting residue-level properties for a specific protein feature"
   ]
  },
  {
   "cell_type": "markdown",
   "metadata": {},
   "source": [
    "##### Looking at metal binding sites"
   ]
  },
  {
   "cell_type": "raw",
   "metadata": {
    "raw_mimetype": "text/restructuredtext"
   },
   "source": [
    ".. automethod:: ssbio.core.protein.Protein.get_residue_annotations\n",
    "    :noindex:"
   ]
  },
  {
   "cell_type": "code",
   "execution_count": 24,
   "metadata": {},
   "outputs": [
    {
     "data": {
      "text/html": [
       "<div>\n",
       "<style>\n",
       "    .dataframe thead tr:only-child th {\n",
       "        text-align: right;\n",
       "    }\n",
       "\n",
       "    .dataframe thead th {\n",
       "        text-align: left;\n",
       "    }\n",
       "\n",
       "    .dataframe tbody tr th {\n",
       "        vertical-align: top;\n",
       "    }\n",
       "</style>\n",
       "<table border=\"1\" class=\"dataframe\">\n",
       "  <thead>\n",
       "    <tr style=\"text-align: right;\">\n",
       "      <th></th>\n",
       "      <th></th>\n",
       "      <th></th>\n",
       "      <th></th>\n",
       "      <th></th>\n",
       "      <th>seq_residue</th>\n",
       "      <th>struct_residue</th>\n",
       "      <th>struct_resnum</th>\n",
       "      <th>seq_SS-sspro</th>\n",
       "      <th>seq_SS-sspro8</th>\n",
       "      <th>seq_RSA-accpro</th>\n",
       "      <th>seq_RSA-accpro20</th>\n",
       "      <th>struct_SS-dssp</th>\n",
       "      <th>struct_RSA-dssp</th>\n",
       "      <th>struct_ASA-dssp</th>\n",
       "      <th>struct_PHI-dssp</th>\n",
       "      <th>struct_PSI-dssp</th>\n",
       "      <th>struct_CA_DEPTH-msms</th>\n",
       "      <th>struct_RES_DEPTH-msms</th>\n",
       "    </tr>\n",
       "    <tr>\n",
       "      <th>gene_id</th>\n",
       "      <th>seq_id</th>\n",
       "      <th>struct_id</th>\n",
       "      <th>chain_id</th>\n",
       "      <th>seq_resnum</th>\n",
       "      <th></th>\n",
       "      <th></th>\n",
       "      <th></th>\n",
       "      <th></th>\n",
       "      <th></th>\n",
       "      <th></th>\n",
       "      <th></th>\n",
       "      <th></th>\n",
       "      <th></th>\n",
       "      <th></th>\n",
       "      <th></th>\n",
       "      <th></th>\n",
       "      <th></th>\n",
       "      <th></th>\n",
       "    </tr>\n",
       "  </thead>\n",
       "  <tbody>\n",
       "    <tr>\n",
       "      <th rowspan=\"3\" valign=\"top\">b1276</th>\n",
       "      <th rowspan=\"3\" valign=\"top\">P25516</th>\n",
       "      <th rowspan=\"3\" valign=\"top\">REP-ACON1_ECOLI</th>\n",
       "      <th rowspan=\"3\" valign=\"top\">X</th>\n",
       "      <th>435</th>\n",
       "      <td>C</td>\n",
       "      <td>C</td>\n",
       "      <td>435</td>\n",
       "      <td>H</td>\n",
       "      <td>H</td>\n",
       "      <td>-</td>\n",
       "      <td>10</td>\n",
       "      <td>H</td>\n",
       "      <td>0.059259</td>\n",
       "      <td>8.0</td>\n",
       "      <td>-61.1</td>\n",
       "      <td>-26.6</td>\n",
       "      <td>2.656722</td>\n",
       "      <td>2.813536</td>\n",
       "    </tr>\n",
       "    <tr>\n",
       "      <th>501</th>\n",
       "      <td>C</td>\n",
       "      <td>C</td>\n",
       "      <td>501</td>\n",
       "      <td>C</td>\n",
       "      <td>C</td>\n",
       "      <td>-</td>\n",
       "      <td>0</td>\n",
       "      <td>S</td>\n",
       "      <td>0.088889</td>\n",
       "      <td>12.0</td>\n",
       "      <td>-61.0</td>\n",
       "      <td>-50.0</td>\n",
       "      <td>1.999713</td>\n",
       "      <td>2.409119</td>\n",
       "    </tr>\n",
       "    <tr>\n",
       "      <th>504</th>\n",
       "      <td>C</td>\n",
       "      <td>C</td>\n",
       "      <td>504</td>\n",
       "      <td>H</td>\n",
       "      <td>G</td>\n",
       "      <td>-</td>\n",
       "      <td>0</td>\n",
       "      <td>G</td>\n",
       "      <td>0.259259</td>\n",
       "      <td>35.0</td>\n",
       "      <td>-56.0</td>\n",
       "      <td>-45.6</td>\n",
       "      <td>1.999634</td>\n",
       "      <td>1.961484</td>\n",
       "    </tr>\n",
       "    <tr>\n",
       "      <th rowspan=\"3\" valign=\"top\">b0118</th>\n",
       "      <th rowspan=\"3\" valign=\"top\">P36683</th>\n",
       "      <th rowspan=\"3\" valign=\"top\">REP-1l5j</th>\n",
       "      <th rowspan=\"3\" valign=\"top\">A</th>\n",
       "      <th>710</th>\n",
       "      <td>C</td>\n",
       "      <td>C</td>\n",
       "      <td>710</td>\n",
       "      <td>C</td>\n",
       "      <td>T</td>\n",
       "      <td>-</td>\n",
       "      <td>10</td>\n",
       "      <td>T</td>\n",
       "      <td>0.118519</td>\n",
       "      <td>16.0</td>\n",
       "      <td>-67.1</td>\n",
       "      <td>-7.2</td>\n",
       "      <td>10.148960</td>\n",
       "      <td>10.009109</td>\n",
       "    </tr>\n",
       "    <tr>\n",
       "      <th>769</th>\n",
       "      <td>C</td>\n",
       "      <td>C</td>\n",
       "      <td>769</td>\n",
       "      <td>C</td>\n",
       "      <td>C</td>\n",
       "      <td>-</td>\n",
       "      <td>5</td>\n",
       "      <td>-</td>\n",
       "      <td>0.088889</td>\n",
       "      <td>12.0</td>\n",
       "      <td>-67.8</td>\n",
       "      <td>-28.3</td>\n",
       "      <td>8.296585</td>\n",
       "      <td>8.049832</td>\n",
       "    </tr>\n",
       "    <tr>\n",
       "      <th>772</th>\n",
       "      <td>C</td>\n",
       "      <td>C</td>\n",
       "      <td>772</td>\n",
       "      <td>H</td>\n",
       "      <td>G</td>\n",
       "      <td>-</td>\n",
       "      <td>5</td>\n",
       "      <td>G</td>\n",
       "      <td>0.081481</td>\n",
       "      <td>11.0</td>\n",
       "      <td>-50.2</td>\n",
       "      <td>-38.0</td>\n",
       "      <td>8.282292</td>\n",
       "      <td>8.239369</td>\n",
       "    </tr>\n",
       "  </tbody>\n",
       "</table>\n",
       "</div>"
      ],
      "text/plain": [
       "                                                   seq_residue struct_residue  \\\n",
       "gene_id seq_id struct_id       chain_id seq_resnum                              \n",
       "b1276   P25516 REP-ACON1_ECOLI X        435                  C              C   \n",
       "                                        501                  C              C   \n",
       "                                        504                  C              C   \n",
       "b0118   P36683 REP-1l5j        A        710                  C              C   \n",
       "                                        769                  C              C   \n",
       "                                        772                  C              C   \n",
       "\n",
       "                                                    struct_resnum  \\\n",
       "gene_id seq_id struct_id       chain_id seq_resnum                  \n",
       "b1276   P25516 REP-ACON1_ECOLI X        435                   435   \n",
       "                                        501                   501   \n",
       "                                        504                   504   \n",
       "b0118   P36683 REP-1l5j        A        710                   710   \n",
       "                                        769                   769   \n",
       "                                        772                   772   \n",
       "\n",
       "                                                   seq_SS-sspro seq_SS-sspro8  \\\n",
       "gene_id seq_id struct_id       chain_id seq_resnum                              \n",
       "b1276   P25516 REP-ACON1_ECOLI X        435                   H             H   \n",
       "                                        501                   C             C   \n",
       "                                        504                   H             G   \n",
       "b0118   P36683 REP-1l5j        A        710                   C             T   \n",
       "                                        769                   C             C   \n",
       "                                        772                   H             G   \n",
       "\n",
       "                                                   seq_RSA-accpro  \\\n",
       "gene_id seq_id struct_id       chain_id seq_resnum                  \n",
       "b1276   P25516 REP-ACON1_ECOLI X        435                     -   \n",
       "                                        501                     -   \n",
       "                                        504                     -   \n",
       "b0118   P36683 REP-1l5j        A        710                     -   \n",
       "                                        769                     -   \n",
       "                                        772                     -   \n",
       "\n",
       "                                                    seq_RSA-accpro20  \\\n",
       "gene_id seq_id struct_id       chain_id seq_resnum                     \n",
       "b1276   P25516 REP-ACON1_ECOLI X        435                       10   \n",
       "                                        501                        0   \n",
       "                                        504                        0   \n",
       "b0118   P36683 REP-1l5j        A        710                       10   \n",
       "                                        769                        5   \n",
       "                                        772                        5   \n",
       "\n",
       "                                                   struct_SS-dssp  \\\n",
       "gene_id seq_id struct_id       chain_id seq_resnum                  \n",
       "b1276   P25516 REP-ACON1_ECOLI X        435                     H   \n",
       "                                        501                     S   \n",
       "                                        504                     G   \n",
       "b0118   P36683 REP-1l5j        A        710                     T   \n",
       "                                        769                     -   \n",
       "                                        772                     G   \n",
       "\n",
       "                                                    struct_RSA-dssp  \\\n",
       "gene_id seq_id struct_id       chain_id seq_resnum                    \n",
       "b1276   P25516 REP-ACON1_ECOLI X        435                0.059259   \n",
       "                                        501                0.088889   \n",
       "                                        504                0.259259   \n",
       "b0118   P36683 REP-1l5j        A        710                0.118519   \n",
       "                                        769                0.088889   \n",
       "                                        772                0.081481   \n",
       "\n",
       "                                                    struct_ASA-dssp  \\\n",
       "gene_id seq_id struct_id       chain_id seq_resnum                    \n",
       "b1276   P25516 REP-ACON1_ECOLI X        435                     8.0   \n",
       "                                        501                    12.0   \n",
       "                                        504                    35.0   \n",
       "b0118   P36683 REP-1l5j        A        710                    16.0   \n",
       "                                        769                    12.0   \n",
       "                                        772                    11.0   \n",
       "\n",
       "                                                    struct_PHI-dssp  \\\n",
       "gene_id seq_id struct_id       chain_id seq_resnum                    \n",
       "b1276   P25516 REP-ACON1_ECOLI X        435                   -61.1   \n",
       "                                        501                   -61.0   \n",
       "                                        504                   -56.0   \n",
       "b0118   P36683 REP-1l5j        A        710                   -67.1   \n",
       "                                        769                   -67.8   \n",
       "                                        772                   -50.2   \n",
       "\n",
       "                                                    struct_PSI-dssp  \\\n",
       "gene_id seq_id struct_id       chain_id seq_resnum                    \n",
       "b1276   P25516 REP-ACON1_ECOLI X        435                   -26.6   \n",
       "                                        501                   -50.0   \n",
       "                                        504                   -45.6   \n",
       "b0118   P36683 REP-1l5j        A        710                    -7.2   \n",
       "                                        769                   -28.3   \n",
       "                                        772                   -38.0   \n",
       "\n",
       "                                                    struct_CA_DEPTH-msms  \\\n",
       "gene_id seq_id struct_id       chain_id seq_resnum                         \n",
       "b1276   P25516 REP-ACON1_ECOLI X        435                     2.656722   \n",
       "                                        501                     1.999713   \n",
       "                                        504                     1.999634   \n",
       "b0118   P36683 REP-1l5j        A        710                    10.148960   \n",
       "                                        769                     8.296585   \n",
       "                                        772                     8.282292   \n",
       "\n",
       "                                                    struct_RES_DEPTH-msms  \n",
       "gene_id seq_id struct_id       chain_id seq_resnum                         \n",
       "b1276   P25516 REP-ACON1_ECOLI X        435                      2.813536  \n",
       "                                        501                      2.409119  \n",
       "                                        504                      1.961484  \n",
       "b0118   P36683 REP-1l5j        A        710                     10.009109  \n",
       "                                        769                      8.049832  \n",
       "                                        772                      8.239369  "
      ]
     },
     "execution_count": 24,
     "metadata": {},
     "output_type": "execute_result"
    }
   ],
   "source": [
    "metal_info = []\n",
    "\n",
    "for g in my_gempro.genes:\n",
    "    for f in g.protein.representative_sequence.features:\n",
    "        if 'metal' in f.type.lower():\n",
    "            res_info = g.protein.get_residue_annotations(f.location.end, use_representatives=True)\n",
    "            res_info['gene_id'] = g.id\n",
    "            res_info['seq_id'] = g.protein.representative_sequence.id\n",
    "            res_info['struct_id'] = g.protein.representative_structure.id\n",
    "            res_info['chain_id'] = g.protein.representative_chain\n",
    "            metal_info.append(res_info)\n",
    "        \n",
    "cols = ['gene_id', 'seq_id', 'struct_id', 'chain_id',\n",
    "        'seq_residue', 'seq_resnum', 'struct_residue','struct_resnum',\n",
    "        'seq_SS-sspro','seq_SS-sspro8','seq_RSA-accpro','seq_RSA-accpro20',\n",
    "        'struct_SS-dssp','struct_RSA-dssp', 'struct_ASA-dssp', \n",
    "        'struct_PHI-dssp', 'struct_PSI-dssp', 'struct_CA_DEPTH-msms', 'struct_RES_DEPTH-msms']\n",
    "\n",
    "pd.DataFrame.from_records(metal_info, columns=cols).set_index(['gene_id', 'seq_id', 'struct_id', 'chain_id', 'seq_resnum'])"
   ]
  },
  {
   "cell_type": "markdown",
   "metadata": {},
   "source": [
    "### Visualizing residues"
   ]
  },
  {
   "cell_type": "raw",
   "metadata": {
    "raw_mimetype": "text/restructuredtext"
   },
   "source": [
    ".. automethod:: ssbio.protein.structure.structprop.StructProp.view_structure_and_highlight_residues\n",
    "    :noindex:"
   ]
  },
  {
   "cell_type": "code",
   "execution_count": 28,
   "metadata": {},
   "outputs": [
    {
     "name": "stderr",
     "output_type": "stream",
     "text": [
      "[2017-09-24 05:34] [ssbio.protein.structure.structprop] INFO: Selection: ( :X ) and not hydrogen and ( 504 or 435 or 501 )\n"
     ]
    },
    {
     "name": "stdout",
     "output_type": "stream",
     "text": [
      "[435, 501, 504]\n"
     ]
    },
    {
     "data": {
      "application/vnd.jupyter.widget-view+json": {
       "model_id": "cff3cc0378464544b17679ba518bf3c0"
      }
     },
     "metadata": {},
     "output_type": "display_data"
    },
    {
     "name": "stderr",
     "output_type": "stream",
     "text": [
      "[2017-09-24 05:34] [ssbio.protein.structure.structprop] INFO: Selection: ( :A ) and not hydrogen and ( 769 or 772 or 710 )\n"
     ]
    },
    {
     "name": "stdout",
     "output_type": "stream",
     "text": [
      "[710, 769, 772]\n"
     ]
    },
    {
     "data": {
      "application/vnd.jupyter.widget-view+json": {
       "model_id": "66159aad908041acb7929ae0c26c941a"
      }
     },
     "metadata": {},
     "output_type": "display_data"
    }
   ],
   "source": [
    "for g in my_gempro.genes:\n",
    "    \n",
    "    # Gather residue numbers\n",
    "    metal_binding_structure_residues = []\n",
    "    for f in g.protein.representative_sequence.features:\n",
    "        if 'metal' in f.type.lower():\n",
    "            res_info = g.protein.get_residue_annotations(f.location.end, use_representatives=True)\n",
    "            metal_binding_structure_residues.append(res_info['struct_resnum'])\n",
    "    print(metal_binding_structure_residues)\n",
    "    \n",
    "    # Display structure\n",
    "    g.protein.representative_structure.view_structure_and_highlight_residues(structure_resnums=metal_binding_structure_residues)"
   ]
  },
  {
   "cell_type": "markdown",
   "metadata": {},
   "source": [
    "### Comparing features in different structures of the same protein"
   ]
  },
  {
   "cell_type": "code",
   "execution_count": 31,
   "metadata": {},
   "outputs": [],
   "source": [
    "# Run all sequence to structure alignments\n",
    "for g in my_gempro.genes:\n",
    "    for s in g.protein.structures:\n",
    "        g.protein.align_seqprop_to_structprop(seqprop=g.protein.representative_sequence, structprop=s)"
   ]
  },
  {
   "cell_type": "code",
   "execution_count": 35,
   "metadata": {},
   "outputs": [
    {
     "data": {
      "text/html": [
       "<div>\n",
       "<style>\n",
       "    .dataframe thead tr:only-child th {\n",
       "        text-align: right;\n",
       "    }\n",
       "\n",
       "    .dataframe thead th {\n",
       "        text-align: left;\n",
       "    }\n",
       "\n",
       "    .dataframe tbody tr th {\n",
       "        vertical-align: top;\n",
       "    }\n",
       "</style>\n",
       "<table border=\"1\" class=\"dataframe\">\n",
       "  <thead>\n",
       "    <tr style=\"text-align: right;\">\n",
       "      <th></th>\n",
       "      <th></th>\n",
       "      <th></th>\n",
       "      <th></th>\n",
       "      <th></th>\n",
       "      <th>chain_id</th>\n",
       "      <th>struct_residue</th>\n",
       "      <th>struct_resnum</th>\n",
       "      <th>seq_SS-sspro</th>\n",
       "      <th>seq_SS-sspro8</th>\n",
       "      <th>seq_RSA-accpro</th>\n",
       "      <th>seq_RSA-accpro20</th>\n",
       "      <th>struct_SS-dssp</th>\n",
       "      <th>struct_RSA-dssp</th>\n",
       "      <th>struct_ASA-dssp</th>\n",
       "      <th>struct_PHI-dssp</th>\n",
       "      <th>struct_PSI-dssp</th>\n",
       "      <th>struct_CA_DEPTH-msms</th>\n",
       "      <th>struct_RES_DEPTH-msms</th>\n",
       "    </tr>\n",
       "    <tr>\n",
       "      <th>gene_id</th>\n",
       "      <th>seq_id</th>\n",
       "      <th>seq_resnum</th>\n",
       "      <th>seq_residue</th>\n",
       "      <th>struct_id</th>\n",
       "      <th></th>\n",
       "      <th></th>\n",
       "      <th></th>\n",
       "      <th></th>\n",
       "      <th></th>\n",
       "      <th></th>\n",
       "      <th></th>\n",
       "      <th></th>\n",
       "      <th></th>\n",
       "      <th></th>\n",
       "      <th></th>\n",
       "      <th></th>\n",
       "      <th></th>\n",
       "      <th></th>\n",
       "    </tr>\n",
       "  </thead>\n",
       "  <tbody>\n",
       "    <tr>\n",
       "      <th rowspan=\"9\" valign=\"top\">b1276</th>\n",
       "      <th rowspan=\"9\" valign=\"top\">P25516</th>\n",
       "      <th rowspan=\"3\" valign=\"top\">435</th>\n",
       "      <th rowspan=\"3\" valign=\"top\">C</th>\n",
       "      <th>ACON1_ECOLI</th>\n",
       "      <td>X</td>\n",
       "      <td>C</td>\n",
       "      <td>435</td>\n",
       "      <td>H</td>\n",
       "      <td>H</td>\n",
       "      <td>-</td>\n",
       "      <td>10</td>\n",
       "      <td>H</td>\n",
       "      <td>0.059259</td>\n",
       "      <td>8.0</td>\n",
       "      <td>-61.1</td>\n",
       "      <td>-26.6</td>\n",
       "      <td>2.656722</td>\n",
       "      <td>2.813536</td>\n",
       "    </tr>\n",
       "    <tr>\n",
       "      <th>E01201</th>\n",
       "      <td>X</td>\n",
       "      <td>C</td>\n",
       "      <td>435</td>\n",
       "      <td>H</td>\n",
       "      <td>H</td>\n",
       "      <td>-</td>\n",
       "      <td>10</td>\n",
       "      <td>H</td>\n",
       "      <td>0.037037</td>\n",
       "      <td>5.0</td>\n",
       "      <td>-66.5</td>\n",
       "      <td>-22.1</td>\n",
       "      <td>6.134798</td>\n",
       "      <td>5.799807</td>\n",
       "    </tr>\n",
       "    <tr>\n",
       "      <th>REP-ACON1_ECOLI</th>\n",
       "      <td>X</td>\n",
       "      <td>C</td>\n",
       "      <td>435</td>\n",
       "      <td>H</td>\n",
       "      <td>H</td>\n",
       "      <td>-</td>\n",
       "      <td>10</td>\n",
       "      <td>H</td>\n",
       "      <td>0.059259</td>\n",
       "      <td>8.0</td>\n",
       "      <td>-61.1</td>\n",
       "      <td>-26.6</td>\n",
       "      <td>2.656722</td>\n",
       "      <td>2.813536</td>\n",
       "    </tr>\n",
       "    <tr>\n",
       "      <th rowspan=\"3\" valign=\"top\">501</th>\n",
       "      <th rowspan=\"3\" valign=\"top\">C</th>\n",
       "      <th>ACON1_ECOLI</th>\n",
       "      <td>X</td>\n",
       "      <td>C</td>\n",
       "      <td>501</td>\n",
       "      <td>C</td>\n",
       "      <td>C</td>\n",
       "      <td>-</td>\n",
       "      <td>0</td>\n",
       "      <td>S</td>\n",
       "      <td>0.088889</td>\n",
       "      <td>12.0</td>\n",
       "      <td>-61.0</td>\n",
       "      <td>-50.0</td>\n",
       "      <td>1.999713</td>\n",
       "      <td>2.409119</td>\n",
       "    </tr>\n",
       "    <tr>\n",
       "      <th>E01201</th>\n",
       "      <td>X</td>\n",
       "      <td>C</td>\n",
       "      <td>501</td>\n",
       "      <td>C</td>\n",
       "      <td>C</td>\n",
       "      <td>-</td>\n",
       "      <td>0</td>\n",
       "      <td>S</td>\n",
       "      <td>0.066667</td>\n",
       "      <td>9.0</td>\n",
       "      <td>-62.1</td>\n",
       "      <td>-46.0</td>\n",
       "      <td>7.626854</td>\n",
       "      <td>7.290100</td>\n",
       "    </tr>\n",
       "    <tr>\n",
       "      <th>REP-ACON1_ECOLI</th>\n",
       "      <td>X</td>\n",
       "      <td>C</td>\n",
       "      <td>501</td>\n",
       "      <td>C</td>\n",
       "      <td>C</td>\n",
       "      <td>-</td>\n",
       "      <td>0</td>\n",
       "      <td>S</td>\n",
       "      <td>0.088889</td>\n",
       "      <td>12.0</td>\n",
       "      <td>-61.0</td>\n",
       "      <td>-50.0</td>\n",
       "      <td>1.999713</td>\n",
       "      <td>2.409119</td>\n",
       "    </tr>\n",
       "    <tr>\n",
       "      <th rowspan=\"3\" valign=\"top\">504</th>\n",
       "      <th rowspan=\"3\" valign=\"top\">C</th>\n",
       "      <th>ACON1_ECOLI</th>\n",
       "      <td>X</td>\n",
       "      <td>C</td>\n",
       "      <td>504</td>\n",
       "      <td>H</td>\n",
       "      <td>G</td>\n",
       "      <td>-</td>\n",
       "      <td>0</td>\n",
       "      <td>G</td>\n",
       "      <td>0.259259</td>\n",
       "      <td>35.0</td>\n",
       "      <td>-56.0</td>\n",
       "      <td>-45.6</td>\n",
       "      <td>1.999634</td>\n",
       "      <td>1.961484</td>\n",
       "    </tr>\n",
       "    <tr>\n",
       "      <th>E01201</th>\n",
       "      <td>X</td>\n",
       "      <td>C</td>\n",
       "      <td>504</td>\n",
       "      <td>H</td>\n",
       "      <td>G</td>\n",
       "      <td>-</td>\n",
       "      <td>0</td>\n",
       "      <td>G</td>\n",
       "      <td>0.170370</td>\n",
       "      <td>23.0</td>\n",
       "      <td>-59.6</td>\n",
       "      <td>-43.5</td>\n",
       "      <td>6.496959</td>\n",
       "      <td>6.204133</td>\n",
       "    </tr>\n",
       "    <tr>\n",
       "      <th>REP-ACON1_ECOLI</th>\n",
       "      <td>X</td>\n",
       "      <td>C</td>\n",
       "      <td>504</td>\n",
       "      <td>H</td>\n",
       "      <td>G</td>\n",
       "      <td>-</td>\n",
       "      <td>0</td>\n",
       "      <td>G</td>\n",
       "      <td>0.259259</td>\n",
       "      <td>35.0</td>\n",
       "      <td>-56.0</td>\n",
       "      <td>-45.6</td>\n",
       "      <td>1.999634</td>\n",
       "      <td>1.961484</td>\n",
       "    </tr>\n",
       "    <tr>\n",
       "      <th rowspan=\"15\" valign=\"top\">b0118</th>\n",
       "      <th rowspan=\"15\" valign=\"top\">P36683</th>\n",
       "      <th rowspan=\"5\" valign=\"top\">710</th>\n",
       "      <th rowspan=\"5\" valign=\"top\">C</th>\n",
       "      <th>1l5j</th>\n",
       "      <td>A</td>\n",
       "      <td>C</td>\n",
       "      <td>710</td>\n",
       "      <td>C</td>\n",
       "      <td>T</td>\n",
       "      <td>-</td>\n",
       "      <td>10</td>\n",
       "      <td>T</td>\n",
       "      <td>0.118519</td>\n",
       "      <td>16.0</td>\n",
       "      <td>-67.1</td>\n",
       "      <td>-7.2</td>\n",
       "      <td>10.148960</td>\n",
       "      <td>10.009109</td>\n",
       "    </tr>\n",
       "    <tr>\n",
       "      <th>1l5j</th>\n",
       "      <td>B</td>\n",
       "      <td>C</td>\n",
       "      <td>710</td>\n",
       "      <td>C</td>\n",
       "      <td>T</td>\n",
       "      <td>-</td>\n",
       "      <td>10</td>\n",
       "      <td>T</td>\n",
       "      <td>0.111111</td>\n",
       "      <td>15.0</td>\n",
       "      <td>-71.4</td>\n",
       "      <td>-6.4</td>\n",
       "      <td>10.092509</td>\n",
       "      <td>10.101065</td>\n",
       "    </tr>\n",
       "    <tr>\n",
       "      <th>ACON2_ECOLI</th>\n",
       "      <td>X</td>\n",
       "      <td>C</td>\n",
       "      <td>710</td>\n",
       "      <td>C</td>\n",
       "      <td>T</td>\n",
       "      <td>-</td>\n",
       "      <td>10</td>\n",
       "      <td>T</td>\n",
       "      <td>0.096296</td>\n",
       "      <td>13.0</td>\n",
       "      <td>-66.2</td>\n",
       "      <td>-18.3</td>\n",
       "      <td>10.070736</td>\n",
       "      <td>9.835741</td>\n",
       "    </tr>\n",
       "    <tr>\n",
       "      <th>E00113</th>\n",
       "      <td>X</td>\n",
       "      <td>C</td>\n",
       "      <td>710</td>\n",
       "      <td>C</td>\n",
       "      <td>T</td>\n",
       "      <td>-</td>\n",
       "      <td>10</td>\n",
       "      <td>T</td>\n",
       "      <td>0.088889</td>\n",
       "      <td>12.0</td>\n",
       "      <td>-66.3</td>\n",
       "      <td>-17.5</td>\n",
       "      <td>8.575258</td>\n",
       "      <td>8.500659</td>\n",
       "    </tr>\n",
       "    <tr>\n",
       "      <th>REP-1l5j</th>\n",
       "      <td>A</td>\n",
       "      <td>C</td>\n",
       "      <td>710</td>\n",
       "      <td>C</td>\n",
       "      <td>T</td>\n",
       "      <td>-</td>\n",
       "      <td>10</td>\n",
       "      <td>T</td>\n",
       "      <td>0.118519</td>\n",
       "      <td>16.0</td>\n",
       "      <td>-67.1</td>\n",
       "      <td>-7.2</td>\n",
       "      <td>10.148960</td>\n",
       "      <td>10.009109</td>\n",
       "    </tr>\n",
       "    <tr>\n",
       "      <th rowspan=\"5\" valign=\"top\">769</th>\n",
       "      <th rowspan=\"5\" valign=\"top\">C</th>\n",
       "      <th>1l5j</th>\n",
       "      <td>A</td>\n",
       "      <td>C</td>\n",
       "      <td>769</td>\n",
       "      <td>C</td>\n",
       "      <td>C</td>\n",
       "      <td>-</td>\n",
       "      <td>5</td>\n",
       "      <td>-</td>\n",
       "      <td>0.088889</td>\n",
       "      <td>12.0</td>\n",
       "      <td>-67.8</td>\n",
       "      <td>-28.3</td>\n",
       "      <td>8.296585</td>\n",
       "      <td>8.049832</td>\n",
       "    </tr>\n",
       "    <tr>\n",
       "      <th>1l5j</th>\n",
       "      <td>B</td>\n",
       "      <td>C</td>\n",
       "      <td>769</td>\n",
       "      <td>C</td>\n",
       "      <td>C</td>\n",
       "      <td>-</td>\n",
       "      <td>5</td>\n",
       "      <td>-</td>\n",
       "      <td>0.081481</td>\n",
       "      <td>11.0</td>\n",
       "      <td>-66.2</td>\n",
       "      <td>-30.6</td>\n",
       "      <td>8.115016</td>\n",
       "      <td>7.899485</td>\n",
       "    </tr>\n",
       "    <tr>\n",
       "      <th>ACON2_ECOLI</th>\n",
       "      <td>X</td>\n",
       "      <td>C</td>\n",
       "      <td>769</td>\n",
       "      <td>C</td>\n",
       "      <td>C</td>\n",
       "      <td>-</td>\n",
       "      <td>5</td>\n",
       "      <td>-</td>\n",
       "      <td>0.088889</td>\n",
       "      <td>12.0</td>\n",
       "      <td>-66.3</td>\n",
       "      <td>-37.7</td>\n",
       "      <td>8.408116</td>\n",
       "      <td>7.940881</td>\n",
       "    </tr>\n",
       "    <tr>\n",
       "      <th>E00113</th>\n",
       "      <td>X</td>\n",
       "      <td>C</td>\n",
       "      <td>769</td>\n",
       "      <td>C</td>\n",
       "      <td>C</td>\n",
       "      <td>-</td>\n",
       "      <td>5</td>\n",
       "      <td>-</td>\n",
       "      <td>0.081481</td>\n",
       "      <td>11.0</td>\n",
       "      <td>-65.8</td>\n",
       "      <td>-38.5</td>\n",
       "      <td>8.001520</td>\n",
       "      <td>7.563204</td>\n",
       "    </tr>\n",
       "    <tr>\n",
       "      <th>REP-1l5j</th>\n",
       "      <td>A</td>\n",
       "      <td>C</td>\n",
       "      <td>769</td>\n",
       "      <td>C</td>\n",
       "      <td>C</td>\n",
       "      <td>-</td>\n",
       "      <td>5</td>\n",
       "      <td>-</td>\n",
       "      <td>0.088889</td>\n",
       "      <td>12.0</td>\n",
       "      <td>-67.8</td>\n",
       "      <td>-28.3</td>\n",
       "      <td>8.296585</td>\n",
       "      <td>8.049832</td>\n",
       "    </tr>\n",
       "    <tr>\n",
       "      <th rowspan=\"5\" valign=\"top\">772</th>\n",
       "      <th rowspan=\"5\" valign=\"top\">C</th>\n",
       "      <th>1l5j</th>\n",
       "      <td>A</td>\n",
       "      <td>C</td>\n",
       "      <td>772</td>\n",
       "      <td>H</td>\n",
       "      <td>G</td>\n",
       "      <td>-</td>\n",
       "      <td>5</td>\n",
       "      <td>G</td>\n",
       "      <td>0.081481</td>\n",
       "      <td>11.0</td>\n",
       "      <td>-50.2</td>\n",
       "      <td>-38.0</td>\n",
       "      <td>8.282292</td>\n",
       "      <td>8.239369</td>\n",
       "    </tr>\n",
       "    <tr>\n",
       "      <th>1l5j</th>\n",
       "      <td>B</td>\n",
       "      <td>C</td>\n",
       "      <td>772</td>\n",
       "      <td>H</td>\n",
       "      <td>G</td>\n",
       "      <td>-</td>\n",
       "      <td>5</td>\n",
       "      <td>G</td>\n",
       "      <td>0.096296</td>\n",
       "      <td>13.0</td>\n",
       "      <td>-49.8</td>\n",
       "      <td>-38.4</td>\n",
       "      <td>8.682088</td>\n",
       "      <td>8.664199</td>\n",
       "    </tr>\n",
       "    <tr>\n",
       "      <th>ACON2_ECOLI</th>\n",
       "      <td>X</td>\n",
       "      <td>C</td>\n",
       "      <td>772</td>\n",
       "      <td>H</td>\n",
       "      <td>G</td>\n",
       "      <td>-</td>\n",
       "      <td>5</td>\n",
       "      <td>G</td>\n",
       "      <td>0.088889</td>\n",
       "      <td>12.0</td>\n",
       "      <td>-53.4</td>\n",
       "      <td>-47.8</td>\n",
       "      <td>7.693116</td>\n",
       "      <td>7.516380</td>\n",
       "    </tr>\n",
       "    <tr>\n",
       "      <th>E00113</th>\n",
       "      <td>X</td>\n",
       "      <td>C</td>\n",
       "      <td>772</td>\n",
       "      <td>H</td>\n",
       "      <td>G</td>\n",
       "      <td>-</td>\n",
       "      <td>5</td>\n",
       "      <td>G</td>\n",
       "      <td>0.044444</td>\n",
       "      <td>6.0</td>\n",
       "      <td>-52.4</td>\n",
       "      <td>-48.7</td>\n",
       "      <td>7.068841</td>\n",
       "      <td>6.660821</td>\n",
       "    </tr>\n",
       "    <tr>\n",
       "      <th>REP-1l5j</th>\n",
       "      <td>A</td>\n",
       "      <td>C</td>\n",
       "      <td>772</td>\n",
       "      <td>H</td>\n",
       "      <td>G</td>\n",
       "      <td>-</td>\n",
       "      <td>5</td>\n",
       "      <td>G</td>\n",
       "      <td>0.081481</td>\n",
       "      <td>11.0</td>\n",
       "      <td>-50.2</td>\n",
       "      <td>-38.0</td>\n",
       "      <td>8.282292</td>\n",
       "      <td>8.239369</td>\n",
       "    </tr>\n",
       "  </tbody>\n",
       "</table>\n",
       "</div>"
      ],
      "text/plain": [
       "                                                      chain_id struct_residue  \\\n",
       "gene_id seq_id seq_resnum seq_residue struct_id                                 \n",
       "b1276   P25516 435        C           ACON1_ECOLI            X              C   \n",
       "                                      E01201                 X              C   \n",
       "                                      REP-ACON1_ECOLI        X              C   \n",
       "               501        C           ACON1_ECOLI            X              C   \n",
       "                                      E01201                 X              C   \n",
       "                                      REP-ACON1_ECOLI        X              C   \n",
       "               504        C           ACON1_ECOLI            X              C   \n",
       "                                      E01201                 X              C   \n",
       "                                      REP-ACON1_ECOLI        X              C   \n",
       "b0118   P36683 710        C           1l5j                   A              C   \n",
       "                                      1l5j                   B              C   \n",
       "                                      ACON2_ECOLI            X              C   \n",
       "                                      E00113                 X              C   \n",
       "                                      REP-1l5j               A              C   \n",
       "               769        C           1l5j                   A              C   \n",
       "                                      1l5j                   B              C   \n",
       "                                      ACON2_ECOLI            X              C   \n",
       "                                      E00113                 X              C   \n",
       "                                      REP-1l5j               A              C   \n",
       "               772        C           1l5j                   A              C   \n",
       "                                      1l5j                   B              C   \n",
       "                                      ACON2_ECOLI            X              C   \n",
       "                                      E00113                 X              C   \n",
       "                                      REP-1l5j               A              C   \n",
       "\n",
       "                                                       struct_resnum  \\\n",
       "gene_id seq_id seq_resnum seq_residue struct_id                        \n",
       "b1276   P25516 435        C           ACON1_ECOLI                435   \n",
       "                                      E01201                     435   \n",
       "                                      REP-ACON1_ECOLI            435   \n",
       "               501        C           ACON1_ECOLI                501   \n",
       "                                      E01201                     501   \n",
       "                                      REP-ACON1_ECOLI            501   \n",
       "               504        C           ACON1_ECOLI                504   \n",
       "                                      E01201                     504   \n",
       "                                      REP-ACON1_ECOLI            504   \n",
       "b0118   P36683 710        C           1l5j                       710   \n",
       "                                      1l5j                       710   \n",
       "                                      ACON2_ECOLI                710   \n",
       "                                      E00113                     710   \n",
       "                                      REP-1l5j                   710   \n",
       "               769        C           1l5j                       769   \n",
       "                                      1l5j                       769   \n",
       "                                      ACON2_ECOLI                769   \n",
       "                                      E00113                     769   \n",
       "                                      REP-1l5j                   769   \n",
       "               772        C           1l5j                       772   \n",
       "                                      1l5j                       772   \n",
       "                                      ACON2_ECOLI                772   \n",
       "                                      E00113                     772   \n",
       "                                      REP-1l5j                   772   \n",
       "\n",
       "                                                      seq_SS-sspro  \\\n",
       "gene_id seq_id seq_resnum seq_residue struct_id                      \n",
       "b1276   P25516 435        C           ACON1_ECOLI                H   \n",
       "                                      E01201                     H   \n",
       "                                      REP-ACON1_ECOLI            H   \n",
       "               501        C           ACON1_ECOLI                C   \n",
       "                                      E01201                     C   \n",
       "                                      REP-ACON1_ECOLI            C   \n",
       "               504        C           ACON1_ECOLI                H   \n",
       "                                      E01201                     H   \n",
       "                                      REP-ACON1_ECOLI            H   \n",
       "b0118   P36683 710        C           1l5j                       C   \n",
       "                                      1l5j                       C   \n",
       "                                      ACON2_ECOLI                C   \n",
       "                                      E00113                     C   \n",
       "                                      REP-1l5j                   C   \n",
       "               769        C           1l5j                       C   \n",
       "                                      1l5j                       C   \n",
       "                                      ACON2_ECOLI                C   \n",
       "                                      E00113                     C   \n",
       "                                      REP-1l5j                   C   \n",
       "               772        C           1l5j                       H   \n",
       "                                      1l5j                       H   \n",
       "                                      ACON2_ECOLI                H   \n",
       "                                      E00113                     H   \n",
       "                                      REP-1l5j                   H   \n",
       "\n",
       "                                                      seq_SS-sspro8  \\\n",
       "gene_id seq_id seq_resnum seq_residue struct_id                       \n",
       "b1276   P25516 435        C           ACON1_ECOLI                 H   \n",
       "                                      E01201                      H   \n",
       "                                      REP-ACON1_ECOLI             H   \n",
       "               501        C           ACON1_ECOLI                 C   \n",
       "                                      E01201                      C   \n",
       "                                      REP-ACON1_ECOLI             C   \n",
       "               504        C           ACON1_ECOLI                 G   \n",
       "                                      E01201                      G   \n",
       "                                      REP-ACON1_ECOLI             G   \n",
       "b0118   P36683 710        C           1l5j                        T   \n",
       "                                      1l5j                        T   \n",
       "                                      ACON2_ECOLI                 T   \n",
       "                                      E00113                      T   \n",
       "                                      REP-1l5j                    T   \n",
       "               769        C           1l5j                        C   \n",
       "                                      1l5j                        C   \n",
       "                                      ACON2_ECOLI                 C   \n",
       "                                      E00113                      C   \n",
       "                                      REP-1l5j                    C   \n",
       "               772        C           1l5j                        G   \n",
       "                                      1l5j                        G   \n",
       "                                      ACON2_ECOLI                 G   \n",
       "                                      E00113                      G   \n",
       "                                      REP-1l5j                    G   \n",
       "\n",
       "                                                      seq_RSA-accpro  \\\n",
       "gene_id seq_id seq_resnum seq_residue struct_id                        \n",
       "b1276   P25516 435        C           ACON1_ECOLI                  -   \n",
       "                                      E01201                       -   \n",
       "                                      REP-ACON1_ECOLI              -   \n",
       "               501        C           ACON1_ECOLI                  -   \n",
       "                                      E01201                       -   \n",
       "                                      REP-ACON1_ECOLI              -   \n",
       "               504        C           ACON1_ECOLI                  -   \n",
       "                                      E01201                       -   \n",
       "                                      REP-ACON1_ECOLI              -   \n",
       "b0118   P36683 710        C           1l5j                         -   \n",
       "                                      1l5j                         -   \n",
       "                                      ACON2_ECOLI                  -   \n",
       "                                      E00113                       -   \n",
       "                                      REP-1l5j                     -   \n",
       "               769        C           1l5j                         -   \n",
       "                                      1l5j                         -   \n",
       "                                      ACON2_ECOLI                  -   \n",
       "                                      E00113                       -   \n",
       "                                      REP-1l5j                     -   \n",
       "               772        C           1l5j                         -   \n",
       "                                      1l5j                         -   \n",
       "                                      ACON2_ECOLI                  -   \n",
       "                                      E00113                       -   \n",
       "                                      REP-1l5j                     -   \n",
       "\n",
       "                                                       seq_RSA-accpro20  \\\n",
       "gene_id seq_id seq_resnum seq_residue struct_id                           \n",
       "b1276   P25516 435        C           ACON1_ECOLI                    10   \n",
       "                                      E01201                         10   \n",
       "                                      REP-ACON1_ECOLI                10   \n",
       "               501        C           ACON1_ECOLI                     0   \n",
       "                                      E01201                          0   \n",
       "                                      REP-ACON1_ECOLI                 0   \n",
       "               504        C           ACON1_ECOLI                     0   \n",
       "                                      E01201                          0   \n",
       "                                      REP-ACON1_ECOLI                 0   \n",
       "b0118   P36683 710        C           1l5j                           10   \n",
       "                                      1l5j                           10   \n",
       "                                      ACON2_ECOLI                    10   \n",
       "                                      E00113                         10   \n",
       "                                      REP-1l5j                       10   \n",
       "               769        C           1l5j                            5   \n",
       "                                      1l5j                            5   \n",
       "                                      ACON2_ECOLI                     5   \n",
       "                                      E00113                          5   \n",
       "                                      REP-1l5j                        5   \n",
       "               772        C           1l5j                            5   \n",
       "                                      1l5j                            5   \n",
       "                                      ACON2_ECOLI                     5   \n",
       "                                      E00113                          5   \n",
       "                                      REP-1l5j                        5   \n",
       "\n",
       "                                                      struct_SS-dssp  \\\n",
       "gene_id seq_id seq_resnum seq_residue struct_id                        \n",
       "b1276   P25516 435        C           ACON1_ECOLI                  H   \n",
       "                                      E01201                       H   \n",
       "                                      REP-ACON1_ECOLI              H   \n",
       "               501        C           ACON1_ECOLI                  S   \n",
       "                                      E01201                       S   \n",
       "                                      REP-ACON1_ECOLI              S   \n",
       "               504        C           ACON1_ECOLI                  G   \n",
       "                                      E01201                       G   \n",
       "                                      REP-ACON1_ECOLI              G   \n",
       "b0118   P36683 710        C           1l5j                         T   \n",
       "                                      1l5j                         T   \n",
       "                                      ACON2_ECOLI                  T   \n",
       "                                      E00113                       T   \n",
       "                                      REP-1l5j                     T   \n",
       "               769        C           1l5j                         -   \n",
       "                                      1l5j                         -   \n",
       "                                      ACON2_ECOLI                  -   \n",
       "                                      E00113                       -   \n",
       "                                      REP-1l5j                     -   \n",
       "               772        C           1l5j                         G   \n",
       "                                      1l5j                         G   \n",
       "                                      ACON2_ECOLI                  G   \n",
       "                                      E00113                       G   \n",
       "                                      REP-1l5j                     G   \n",
       "\n",
       "                                                       struct_RSA-dssp  \\\n",
       "gene_id seq_id seq_resnum seq_residue struct_id                          \n",
       "b1276   P25516 435        C           ACON1_ECOLI             0.059259   \n",
       "                                      E01201                  0.037037   \n",
       "                                      REP-ACON1_ECOLI         0.059259   \n",
       "               501        C           ACON1_ECOLI             0.088889   \n",
       "                                      E01201                  0.066667   \n",
       "                                      REP-ACON1_ECOLI         0.088889   \n",
       "               504        C           ACON1_ECOLI             0.259259   \n",
       "                                      E01201                  0.170370   \n",
       "                                      REP-ACON1_ECOLI         0.259259   \n",
       "b0118   P36683 710        C           1l5j                    0.118519   \n",
       "                                      1l5j                    0.111111   \n",
       "                                      ACON2_ECOLI             0.096296   \n",
       "                                      E00113                  0.088889   \n",
       "                                      REP-1l5j                0.118519   \n",
       "               769        C           1l5j                    0.088889   \n",
       "                                      1l5j                    0.081481   \n",
       "                                      ACON2_ECOLI             0.088889   \n",
       "                                      E00113                  0.081481   \n",
       "                                      REP-1l5j                0.088889   \n",
       "               772        C           1l5j                    0.081481   \n",
       "                                      1l5j                    0.096296   \n",
       "                                      ACON2_ECOLI             0.088889   \n",
       "                                      E00113                  0.044444   \n",
       "                                      REP-1l5j                0.081481   \n",
       "\n",
       "                                                       struct_ASA-dssp  \\\n",
       "gene_id seq_id seq_resnum seq_residue struct_id                          \n",
       "b1276   P25516 435        C           ACON1_ECOLI                  8.0   \n",
       "                                      E01201                       5.0   \n",
       "                                      REP-ACON1_ECOLI              8.0   \n",
       "               501        C           ACON1_ECOLI                 12.0   \n",
       "                                      E01201                       9.0   \n",
       "                                      REP-ACON1_ECOLI             12.0   \n",
       "               504        C           ACON1_ECOLI                 35.0   \n",
       "                                      E01201                      23.0   \n",
       "                                      REP-ACON1_ECOLI             35.0   \n",
       "b0118   P36683 710        C           1l5j                        16.0   \n",
       "                                      1l5j                        15.0   \n",
       "                                      ACON2_ECOLI                 13.0   \n",
       "                                      E00113                      12.0   \n",
       "                                      REP-1l5j                    16.0   \n",
       "               769        C           1l5j                        12.0   \n",
       "                                      1l5j                        11.0   \n",
       "                                      ACON2_ECOLI                 12.0   \n",
       "                                      E00113                      11.0   \n",
       "                                      REP-1l5j                    12.0   \n",
       "               772        C           1l5j                        11.0   \n",
       "                                      1l5j                        13.0   \n",
       "                                      ACON2_ECOLI                 12.0   \n",
       "                                      E00113                       6.0   \n",
       "                                      REP-1l5j                    11.0   \n",
       "\n",
       "                                                       struct_PHI-dssp  \\\n",
       "gene_id seq_id seq_resnum seq_residue struct_id                          \n",
       "b1276   P25516 435        C           ACON1_ECOLI                -61.1   \n",
       "                                      E01201                     -66.5   \n",
       "                                      REP-ACON1_ECOLI            -61.1   \n",
       "               501        C           ACON1_ECOLI                -61.0   \n",
       "                                      E01201                     -62.1   \n",
       "                                      REP-ACON1_ECOLI            -61.0   \n",
       "               504        C           ACON1_ECOLI                -56.0   \n",
       "                                      E01201                     -59.6   \n",
       "                                      REP-ACON1_ECOLI            -56.0   \n",
       "b0118   P36683 710        C           1l5j                       -67.1   \n",
       "                                      1l5j                       -71.4   \n",
       "                                      ACON2_ECOLI                -66.2   \n",
       "                                      E00113                     -66.3   \n",
       "                                      REP-1l5j                   -67.1   \n",
       "               769        C           1l5j                       -67.8   \n",
       "                                      1l5j                       -66.2   \n",
       "                                      ACON2_ECOLI                -66.3   \n",
       "                                      E00113                     -65.8   \n",
       "                                      REP-1l5j                   -67.8   \n",
       "               772        C           1l5j                       -50.2   \n",
       "                                      1l5j                       -49.8   \n",
       "                                      ACON2_ECOLI                -53.4   \n",
       "                                      E00113                     -52.4   \n",
       "                                      REP-1l5j                   -50.2   \n",
       "\n",
       "                                                       struct_PSI-dssp  \\\n",
       "gene_id seq_id seq_resnum seq_residue struct_id                          \n",
       "b1276   P25516 435        C           ACON1_ECOLI                -26.6   \n",
       "                                      E01201                     -22.1   \n",
       "                                      REP-ACON1_ECOLI            -26.6   \n",
       "               501        C           ACON1_ECOLI                -50.0   \n",
       "                                      E01201                     -46.0   \n",
       "                                      REP-ACON1_ECOLI            -50.0   \n",
       "               504        C           ACON1_ECOLI                -45.6   \n",
       "                                      E01201                     -43.5   \n",
       "                                      REP-ACON1_ECOLI            -45.6   \n",
       "b0118   P36683 710        C           1l5j                        -7.2   \n",
       "                                      1l5j                        -6.4   \n",
       "                                      ACON2_ECOLI                -18.3   \n",
       "                                      E00113                     -17.5   \n",
       "                                      REP-1l5j                    -7.2   \n",
       "               769        C           1l5j                       -28.3   \n",
       "                                      1l5j                       -30.6   \n",
       "                                      ACON2_ECOLI                -37.7   \n",
       "                                      E00113                     -38.5   \n",
       "                                      REP-1l5j                   -28.3   \n",
       "               772        C           1l5j                       -38.0   \n",
       "                                      1l5j                       -38.4   \n",
       "                                      ACON2_ECOLI                -47.8   \n",
       "                                      E00113                     -48.7   \n",
       "                                      REP-1l5j                   -38.0   \n",
       "\n",
       "                                                       struct_CA_DEPTH-msms  \\\n",
       "gene_id seq_id seq_resnum seq_residue struct_id                               \n",
       "b1276   P25516 435        C           ACON1_ECOLI                  2.656722   \n",
       "                                      E01201                       6.134798   \n",
       "                                      REP-ACON1_ECOLI              2.656722   \n",
       "               501        C           ACON1_ECOLI                  1.999713   \n",
       "                                      E01201                       7.626854   \n",
       "                                      REP-ACON1_ECOLI              1.999713   \n",
       "               504        C           ACON1_ECOLI                  1.999634   \n",
       "                                      E01201                       6.496959   \n",
       "                                      REP-ACON1_ECOLI              1.999634   \n",
       "b0118   P36683 710        C           1l5j                        10.148960   \n",
       "                                      1l5j                        10.092509   \n",
       "                                      ACON2_ECOLI                 10.070736   \n",
       "                                      E00113                       8.575258   \n",
       "                                      REP-1l5j                    10.148960   \n",
       "               769        C           1l5j                         8.296585   \n",
       "                                      1l5j                         8.115016   \n",
       "                                      ACON2_ECOLI                  8.408116   \n",
       "                                      E00113                       8.001520   \n",
       "                                      REP-1l5j                     8.296585   \n",
       "               772        C           1l5j                         8.282292   \n",
       "                                      1l5j                         8.682088   \n",
       "                                      ACON2_ECOLI                  7.693116   \n",
       "                                      E00113                       7.068841   \n",
       "                                      REP-1l5j                     8.282292   \n",
       "\n",
       "                                                       struct_RES_DEPTH-msms  \n",
       "gene_id seq_id seq_resnum seq_residue struct_id                               \n",
       "b1276   P25516 435        C           ACON1_ECOLI                   2.813536  \n",
       "                                      E01201                        5.799807  \n",
       "                                      REP-ACON1_ECOLI               2.813536  \n",
       "               501        C           ACON1_ECOLI                   2.409119  \n",
       "                                      E01201                        7.290100  \n",
       "                                      REP-ACON1_ECOLI               2.409119  \n",
       "               504        C           ACON1_ECOLI                   1.961484  \n",
       "                                      E01201                        6.204133  \n",
       "                                      REP-ACON1_ECOLI               1.961484  \n",
       "b0118   P36683 710        C           1l5j                         10.009109  \n",
       "                                      1l5j                         10.101065  \n",
       "                                      ACON2_ECOLI                   9.835741  \n",
       "                                      E00113                        8.500659  \n",
       "                                      REP-1l5j                     10.009109  \n",
       "               769        C           1l5j                          8.049832  \n",
       "                                      1l5j                          7.899485  \n",
       "                                      ACON2_ECOLI                   7.940881  \n",
       "                                      E00113                        7.563204  \n",
       "                                      REP-1l5j                      8.049832  \n",
       "               772        C           1l5j                          8.239369  \n",
       "                                      1l5j                          8.664199  \n",
       "                                      ACON2_ECOLI                   7.516380  \n",
       "                                      E00113                        6.660821  \n",
       "                                      REP-1l5j                      8.239369  "
      ]
     },
     "execution_count": 35,
     "metadata": {},
     "output_type": "execute_result"
    }
   ],
   "source": [
    "metal_info_compared = []\n",
    "\n",
    "for g in my_gempro.genes:\n",
    "    for f in g.protein.representative_sequence.features:\n",
    "        if 'metal' in f.type.lower():\n",
    "            for s in g.protein.structures:\n",
    "                for c in s.mapped_chains:\n",
    "                    res_info = g.protein.get_residue_annotations(seq_resnum=f.location.end, \n",
    "                                                                 seqprop=g.protein.representative_sequence,\n",
    "                                                                 structprop=s, chain_id=c,\n",
    "                                                                 use_representatives=False)\n",
    "                    res_info['gene_id'] = g.id\n",
    "                    res_info['seq_id'] = g.protein.representative_sequence.id\n",
    "                    res_info['struct_id'] = s.id\n",
    "                    res_info['chain_id'] = c\n",
    "                    metal_info_compared.append(res_info)\n",
    "    \n",
    "cols = ['gene_id', 'seq_id', 'struct_id', 'chain_id',\n",
    "        'seq_residue', 'seq_resnum', 'struct_residue','struct_resnum',\n",
    "        'seq_SS-sspro','seq_SS-sspro8','seq_RSA-accpro','seq_RSA-accpro20',\n",
    "        'struct_SS-dssp','struct_RSA-dssp', 'struct_ASA-dssp', \n",
    "        'struct_PHI-dssp', 'struct_PSI-dssp', 'struct_CA_DEPTH-msms', 'struct_RES_DEPTH-msms']\n",
    "\n",
    "pd.DataFrame.from_records(metal_info_compared, columns=cols).sort_values(by=['seq_resnum','struct_id','chain_id']).set_index(['gene_id','seq_id','seq_resnum','seq_residue','struct_id'])"
   ]
  }
 ],
 "metadata": {
  "_draft": {
   "nbviewer_url": "https://gist.github.com/342e44766d1dda637e975a4ef61dae19"
  },
  "anaconda-cloud": {},
  "celltoolbar": "Raw Cell Format",
  "gist": {
   "data": {
    "description": "GEM-PRO pipeline example for a list of gene IDs",
    "public": false
   },
   "id": "342e44766d1dda637e975a4ef61dae19"
  },
  "kernelspec": {
   "display_name": "Python [default]",
   "language": "python",
   "name": "python3"
  },
  "language_info": {
   "codemirror_mode": {
    "name": "ipython",
    "version": 3
   },
   "file_extension": ".py",
   "mimetype": "text/x-python",
   "name": "python",
   "nbconvert_exporter": "python",
   "pygments_lexer": "ipython3",
   "version": "3.5.3"
  },
  "widgets": {
   "state": {
    "07f2e453c2d1497b9cee80d259934c88": {
     "views": [
      {
       "cell_index": 14
      }
     ]
    },
    "232bfc79ee1a463ea1f22cddd984946c": {
     "views": [
      {
       "cell_index": 43
      }
     ]
    },
    "4e5dcc7ae9c74c6995e111ebc019ded0": {
     "views": [
      {
       "cell_index": 32
      }
     ]
    },
    "76d1cc588e4b45edbb1c4720bf38e5d0": {
     "views": [
      {
       "cell_index": 22
      }
     ]
    },
    "8838944ce0dd46ac82e7090093e37d1e": {
     "views": [
      {
       "cell_index": 27
      }
     ]
    },
    "ab2561514bac4346973555bfcfab21f1": {
     "views": [
      {
       "cell_index": 45
      }
     ]
    },
    "b288dca263224c2e8cf1d4288618fed7": {
     "views": [
      {
       "cell_index": 41
      }
     ]
    },
    "c396d04070754acf8f2104fbed57d62a": {
     "views": [
      {
       "cell_index": 25
      }
     ]
    },
    "d2be80a7bb9747cfb6cd3392d07c33eb": {
     "views": [
      {
       "cell_index": 26
      }
     ]
    },
    "da5b2982710e439d892f50b7fa10bca0": {
     "views": [
      {
       "cell_index": 16
      }
     ]
    },
    "dedd63bf7cb04fccb9e9d9ff4a394d83": {
     "views": [
      {
       "cell_index": 20
      }
     ]
    },
    "df25883a5dda4f14a8f69d2e87b03ed2": {
     "views": [
      {
       "cell_index": 39
      }
     ]
    },
    "ed031de1ce2544b290b01da2e2472c09": {
     "views": [
      {
       "cell_index": 34
      }
     ]
    },
    "f250016127fb4220b3ab97b0c621bee4": {
     "views": [
      {
       "cell_index": 56
      }
     ]
    },
    "ff615c1433274006af2ff64a4850b92b": {
     "views": [
      {
       "cell_index": 37
      }
     ]
    }
   },
   "version": "1.2.0"
  }
 },
 "nbformat": 4,
 "nbformat_minor": 1
}
