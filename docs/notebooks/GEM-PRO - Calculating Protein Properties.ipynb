{
 "cells": [
  {
   "cell_type": "markdown",
   "metadata": {},
   "source": [
    "# GEM-PRO - Calculating Protein Properties\n",
    "This notebook gives an example of how to **calculate protein properties** for a list of proteins. The main features demonstrated are:\n",
    "\n",
    "1. Information retrieval from UniProt and linking residue numbering sites to structure\n",
    "1. Calculating or predicting global protein sequence and structure properties\n",
    "1. Calculating or predicting local protein sequence and structure properties\n",
    "\n",
    "<div class=\"alert alert-info\">\n",
    "\n",
    "**Input:** List of gene IDs\n",
    "\n",
    "</div>\n",
    "\n",
    "<div class=\"alert alert-info\">\n",
    "\n",
    "**Output:** Representative protein structures and properties associated with them\n",
    "\n",
    "</div>"
   ]
  },
  {
   "cell_type": "markdown",
   "metadata": {},
   "source": [
    "## Imports"
   ]
  },
  {
   "cell_type": "code",
   "execution_count": null,
   "metadata": {
    "collapsed": true
   },
   "outputs": [],
   "source": [
    "import sys\n",
    "import logging"
   ]
  },
  {
   "cell_type": "code",
   "execution_count": null,
   "metadata": {
    "collapsed": true
   },
   "outputs": [],
   "source": [
    "# Import the GEM-PRO class\n",
    "from ssbio.pipeline.gempro import GEMPRO"
   ]
  },
  {
   "cell_type": "code",
   "execution_count": null,
   "metadata": {
    "collapsed": true
   },
   "outputs": [],
   "source": [
    "# Printing multiple outputs per cell\n",
    "from IPython.core.interactiveshell import InteractiveShell\n",
    "InteractiveShell.ast_node_interactivity = \"all\""
   ]
  },
  {
   "cell_type": "markdown",
   "metadata": {},
   "source": [
    "### Logging\n",
    "\n",
    "Set the logging level in `logger.setLevel(logging.<LEVEL_HERE>)` to specify how verbose you want the pipeline to be. Debug is most verbose.\n",
    "\n",
    "- `CRITICAL`\n",
    "     - Only really important messages shown\n",
    "- `ERROR`\n",
    "     - Major errors\n",
    "- `WARNING`\n",
    "     - Warnings that don't affect running of the pipeline\n",
    "- `INFO` (default)\n",
    "     - Info such as the number of structures mapped per gene\n",
    "- `DEBUG`\n",
    "     - Really detailed information that will print out a lot of stuff\n",
    "     \n",
    "<div class=\"alert alert-warning\">\n",
    "\n",
    "**Warning:** \n",
    "`DEBUG` mode prints out a large amount of information, especially if you have a lot of genes. This may stall your notebook!\n",
    "</div>"
   ]
  },
  {
   "cell_type": "code",
   "execution_count": null,
   "metadata": {
    "collapsed": true
   },
   "outputs": [],
   "source": [
    "# Create logger\n",
    "logger = logging.getLogger()\n",
    "logger.setLevel(logging.INFO)  # SET YOUR LOGGING LEVEL HERE #"
   ]
  },
  {
   "cell_type": "code",
   "execution_count": null,
   "metadata": {
    "collapsed": true
   },
   "outputs": [],
   "source": [
    "# Other logger stuff for Jupyter notebooks\n",
    "handler = logging.StreamHandler(sys.stderr)\n",
    "formatter = logging.Formatter('[%(asctime)s] [%(name)s] %(levelname)s: %(message)s', datefmt=\"%Y-%m-%d %H:%M\")\n",
    "handler.setFormatter(formatter)\n",
    "logger.handlers = [handler]"
   ]
  },
  {
   "cell_type": "markdown",
   "metadata": {},
   "source": [
    "-----------------------"
   ]
  },
  {
   "cell_type": "markdown",
   "metadata": {},
   "source": [
    "## Initialization\n",
    "\n",
    "Set these three things:\n",
    "\n",
    "- `ROOT_DIR`\n",
    "    - The directory where a folder named after your `PROJECT` will be created\n",
    "- `PROJECT`\n",
    "    - Your project name\n",
    "- `LIST_OF_GENES`\n",
    "    - Your list of gene IDs\n",
    "    \n",
    "A directory will be created in `ROOT_DIR` with your `PROJECT` name. The folders are organized like so:\n",
    "```\n",
    "    ROOT_DIR\n",
    "    └── PROJECT\n",
    "        ├── data  # General storage for pipeline outputs\n",
    "        ├── model  # SBML and GEM-PRO models are stored here\n",
    "        ├── genes  # Per gene information\n",
    "        │   ├── <gene_id1>  # Specific gene directory\n",
    "        │   │   └── protein\n",
    "        │   │       ├── sequences  # Protein sequence files, alignments, etc.\n",
    "        │   │       └── structures  # Protein structure files, calculations, etc.\n",
    "        │   └── <gene_id2>\n",
    "        │       └── protein\n",
    "        │           ├── sequences\n",
    "        │           └── structures\n",
    "        ├── reactions  # Per reaction information\n",
    "        │   └── <reaction_id1>  # Specific reaction directory\n",
    "        │       └── complex\n",
    "        │           └── structures  # Protein complex files\n",
    "        └── metabolites  # Per metabolite information\n",
    "            └── <metabolite_id1>  # Specific metabolite directory\n",
    "                └── chemical\n",
    "                    └── structures  # Metabolite 2D and 3D structure files\n",
    "                \n",
    "```\n",
    "\n",
    "<div class=\"alert alert-info\">**Note:** Methods for protein complexes and metabolites are still in development.</div>"
   ]
  },
  {
   "cell_type": "code",
   "execution_count": null,
   "metadata": {
    "collapsed": true
   },
   "outputs": [],
   "source": [
    "# SET FOLDERS AND DATA HERE\n",
    "import tempfile\n",
    "ROOT_DIR = tempfile.gettempdir()\n",
    "\n",
    "PROJECT = 'ssbio_protein_properties'\n",
    "LIST_OF_GENES = ['b1276', 'b0118']"
   ]
  },
  {
   "cell_type": "code",
   "execution_count": null,
   "metadata": {},
   "outputs": [],
   "source": [
    "# Create the GEM-PRO project\n",
    "my_gempro = GEMPRO(gem_name=PROJECT, root_dir=ROOT_DIR, genes_list=LIST_OF_GENES, pdb_file_type='pdb')"
   ]
  },
  {
   "cell_type": "markdown",
   "metadata": {},
   "source": [
    "## Mapping gene ID --> sequence\n",
    "\n",
    "First, we need to map these IDs to their protein sequences. There are 2 ID mapping services provided to do this - through **KEGG** or **UniProt**. The end goal is to map a UniProt ID to each ID, since there is a comprehensive mapping (and some useful APIs) between UniProt and the PDB.\n",
    "\n",
    "<p><div class=\"alert alert-info\">**Note:** You only need to map gene IDs using one service. However you can run both if some genes don't map in one service and do map in another!</div></p>"
   ]
  },
  {
   "cell_type": "raw",
   "metadata": {},
   "source": [
    ".. automethod:: ssbio.pipeline.gempro.GEMPRO.uniprot_mapping_and_metadata\n",
    "    :noindex:"
   ]
  },
  {
   "cell_type": "code",
   "execution_count": null,
   "metadata": {},
   "outputs": [],
   "source": [
    "# UniProt mapping\n",
    "my_gempro.uniprot_mapping_and_metadata(model_gene_source='ENSEMBLGENOME_ID')\n",
    "print('Missing UniProt mapping: ', my_gempro.missing_uniprot_mapping)\n",
    "my_gempro.df_uniprot_metadata.head()"
   ]
  },
  {
   "cell_type": "raw",
   "metadata": {},
   "source": [
    ".. automethod:: ssbio.pipeline.gempro.GEMPRO.set_representative_sequence\n",
    "    :noindex:"
   ]
  },
  {
   "cell_type": "code",
   "execution_count": null,
   "metadata": {},
   "outputs": [],
   "source": [
    "# Set representative sequences\n",
    "my_gempro.set_representative_sequence()\n",
    "print('Missing a representative sequence: ', my_gempro.missing_representative_sequence)\n",
    "my_gempro.df_representative_sequences.head()"
   ]
  },
  {
   "cell_type": "markdown",
   "metadata": {},
   "source": [
    "## Mapping representative sequence --> structure\n",
    "\n",
    "These are the ways to map sequence to structure:\n",
    "\n",
    "1. Use the UniProt ID and their automatic mappings to the PDB\n",
    "2. BLAST the sequence to the PDB\n",
    "3. Make homology models or \n",
    "4. Map to existing homology models\n",
    "\n",
    "You can only utilize option #1 to map to PDBs if there is a mapped UniProt ID set in the representative sequence. If not, you'll have to BLAST your sequence to the PDB or make a homology model. You can also run both for maximum coverage."
   ]
  },
  {
   "cell_type": "raw",
   "metadata": {},
   "source": [
    ".. automethod:: ssbio.pipeline.gempro.GEMPRO.map_uniprot_to_pdb\n",
    "    :noindex:"
   ]
  },
  {
   "cell_type": "code",
   "execution_count": null,
   "metadata": {},
   "outputs": [],
   "source": [
    "# Mapping using the PDBe best_structures service\n",
    "my_gempro.map_uniprot_to_pdb(seq_ident_cutoff=.3)\n",
    "my_gempro.df_pdb_ranking.head()"
   ]
  },
  {
   "cell_type": "raw",
   "metadata": {},
   "source": [
    ".. automethod:: ssbio.pipeline.gempro.GEMPRO.blast_seqs_to_pdb\n",
    "    :noindex:"
   ]
  },
  {
   "cell_type": "code",
   "execution_count": null,
   "metadata": {},
   "outputs": [],
   "source": [
    "# Mapping using BLAST\n",
    "my_gempro.blast_seqs_to_pdb(all_genes=True, seq_ident_cutoff=.7, evalue=0.00001)\n",
    "my_gempro.df_pdb_blast.head(2)"
   ]
  },
  {
   "cell_type": "raw",
   "metadata": {},
   "source": [
    ".. automethod:: ssbio.pipeline.gempro.GEMPRO.get_manual_homology_models\n",
    "    :noindex:"
   ]
  },
  {
   "cell_type": "code",
   "execution_count": null,
   "metadata": {
    "collapsed": true
   },
   "outputs": [],
   "source": [
    "import pandas as pd\n",
    "import os.path as op"
   ]
  },
  {
   "cell_type": "code",
   "execution_count": null,
   "metadata": {},
   "outputs": [],
   "source": [
    "# Creating manual mapping dictionary for ECOLI I-TASSER models\n",
    "homology_models = '/home/nathan/projects_archive/homology_models/ECOLI/zhang/'\n",
    "homology_models_df = pd.read_csv('/home/nathan/projects_archive/homology_models/ECOLI/zhang_data/160804-ZHANG_INFO.csv')\n",
    "tmp = homology_models_df[['zhang_id','model_file','m_gene']].drop_duplicates()\n",
    "tmp = tmp[pd.notnull(tmp.m_gene)]\n",
    "\n",
    "homology_model_dict = {}\n",
    "\n",
    "for i,r in tmp.iterrows():\n",
    "    homology_model_dict[r['m_gene']] = {r['zhang_id']: {'model_file':op.join(homology_models, r['model_file']),\n",
    "                                                        'file_type':'pdb'}}\n",
    "    \n",
    "my_gempro.get_manual_homology_models(homology_model_dict)"
   ]
  },
  {
   "cell_type": "code",
   "execution_count": null,
   "metadata": {},
   "outputs": [],
   "source": [
    "# Creating manual mapping dictionary for ECOLI SUNPRO models\n",
    "homology_models = '/home/nathan/projects_archive/homology_models/ECOLI/sunpro/'\n",
    "homology_models_df = pd.read_csv('/home/nathan/projects_archive/homology_models/ECOLI/sunpro_data/160609-SUNPRO_INFO.csv')\n",
    "tmp = homology_models_df[['sunpro_id','model_file','m_gene']].drop_duplicates()\n",
    "tmp = tmp[pd.notnull(tmp.m_gene)]\n",
    "\n",
    "homology_model_dict = {}\n",
    "\n",
    "for i,r in tmp.iterrows():\n",
    "    homology_model_dict[r['m_gene']] = {r['sunpro_id']: {'model_file':op.join(homology_models, r['model_file']),\n",
    "                                                         'file_type':'pdb'}}\n",
    "    \n",
    "my_gempro.get_manual_homology_models(homology_model_dict)"
   ]
  },
  {
   "cell_type": "markdown",
   "metadata": {},
   "source": [
    "## Downloading and ranking structures"
   ]
  },
  {
   "cell_type": "raw",
   "metadata": {},
   "source": [
    ".. automethod:: ssbio.pipeline.gempro.GEMPRO.pdb_downloader_and_metadata\n",
    "    :noindex:"
   ]
  },
  {
   "cell_type": "markdown",
   "metadata": {},
   "source": [
    "<div class=\"alert alert-warning\">\n",
    "\n",
    "**Warning:** \n",
    "Downloading all PDBs takes a while, since they are also parsed for metadata. You can skip this step and just set representative structures below if you want to minimize the number of PDBs downloaded.\n",
    "\n",
    "</div>"
   ]
  },
  {
   "cell_type": "code",
   "execution_count": null,
   "metadata": {},
   "outputs": [],
   "source": [
    "# Download all mapped PDBs and gather the metadata\n",
    "my_gempro.pdb_downloader_and_metadata()\n",
    "my_gempro.df_pdb_metadata.head(2)"
   ]
  },
  {
   "cell_type": "raw",
   "metadata": {},
   "source": [
    ".. automethod:: ssbio.pipeline.gempro.GEMPRO.set_representative_structure\n",
    "    :noindex:"
   ]
  },
  {
   "cell_type": "code",
   "execution_count": null,
   "metadata": {},
   "outputs": [],
   "source": [
    "# Set representative structures\n",
    "my_gempro.set_representative_structure()\n",
    "my_gempro.df_representative_structures.head()"
   ]
  },
  {
   "cell_type": "markdown",
   "metadata": {},
   "source": [
    "-------------------------"
   ]
  },
  {
   "cell_type": "markdown",
   "metadata": {},
   "source": [
    "## Computing and storing protein properties"
   ]
  },
  {
   "cell_type": "raw",
   "metadata": {},
   "source": [
    ".. automethod:: ssbio.pipeline.gempro.GEMPRO.get_sequence_properties\n",
    "    :noindex:"
   ]
  },
  {
   "cell_type": "code",
   "execution_count": null,
   "metadata": {},
   "outputs": [],
   "source": [
    "# Requires EMBOSS \"pepstats\" program\n",
    "# See the ssbio wiki for more information: https://github.com/SBRG/ssbio/wiki/Software-Installations\n",
    "# Install using:\n",
    "# sudo apt-get install emboss\n",
    "my_gempro.get_sequence_properties()"
   ]
  },
  {
   "cell_type": "raw",
   "metadata": {},
   "source": [
    ".. automethod:: ssbio.pipeline.gempro.GEMPRO.get_scratch_predictions\n",
    "    :noindex:"
   ]
  },
  {
   "cell_type": "code",
   "execution_count": null,
   "metadata": {},
   "outputs": [],
   "source": [
    "# Requires SCRATCH installation, replace path_to_scratch with own path to script\n",
    "# See the ssbio wiki for more information: https://github.com/SBRG/ssbio/wiki/Software-Installations\n",
    "my_gempro.get_scratch_predictions(path_to_scratch='scratch', \n",
    "                                  results_dir=my_gempro.data_dir,\n",
    "                                  num_cores=4)"
   ]
  },
  {
   "cell_type": "raw",
   "metadata": {},
   "source": [
    ".. automethod:: ssbio.pipeline.gempro.GEMPRO.find_disulfide_bridges\n",
    "    :noindex:"
   ]
  },
  {
   "cell_type": "code",
   "execution_count": null,
   "metadata": {},
   "outputs": [],
   "source": [
    "my_gempro.find_disulfide_bridges(representatives_only=False)"
   ]
  },
  {
   "cell_type": "raw",
   "metadata": {},
   "source": [
    ".. automethod:: ssbio.pipeline.gempro.GEMPRO.get_dssp_annotations\n",
    "    :noindex:"
   ]
  },
  {
   "cell_type": "code",
   "execution_count": null,
   "metadata": {},
   "outputs": [],
   "source": [
    "# Requires DSSP installation\n",
    "# See the ssbio wiki for more information: https://github.com/SBRG/ssbio/wiki/Software-Installations\n",
    "my_gempro.get_dssp_annotations()"
   ]
  },
  {
   "cell_type": "raw",
   "metadata": {},
   "source": [
    ".. automethod:: ssbio.pipeline.gempro.GEMPRO.get_msms_annotations\n",
    "    :noindex:"
   ]
  },
  {
   "cell_type": "code",
   "execution_count": null,
   "metadata": {},
   "outputs": [],
   "source": [
    "# Requires MSMS installation\n",
    "# See the ssbio wiki for more information: https://github.com/SBRG/ssbio/wiki/Software-Installations\n",
    "my_gempro.get_msms_annotations()"
   ]
  },
  {
   "cell_type": "markdown",
   "metadata": {},
   "source": [
    "---------------"
   ]
  },
  {
   "cell_type": "markdown",
   "metadata": {},
   "source": [
    "## Global protein properties"
   ]
  },
  {
   "cell_type": "markdown",
   "metadata": {},
   "source": [
    "Properties of the entire protein sequence/structure are stored in the `representative_sequence` and `representative_structure` attributes. These properties describe aspects of the entire protein, such as its molecular weight, the percentage of amino acids in a particular secondary structure, the percentage of charged or "
   ]
  },
  {
   "cell_type": "code",
   "execution_count": null,
   "metadata": {
    "collapsed": true
   },
   "outputs": [],
   "source": [
    "from pprint import pprint"
   ]
  },
  {
   "cell_type": "code",
   "execution_count": null,
   "metadata": {
    "scrolled": false
   },
   "outputs": [],
   "source": [
    "for g in my_gempro.genes_with_a_representative_structure:\n",
    "    repseq = g.protein.representative_sequence\n",
    "    repstruct = g.protein.representative_structure\n",
    "    repchain = g.protein.representative_chain\n",
    "    \n",
    "    print('Gene: {}'.format(g.id))\n",
    "    print('Number of structures: {}'.format(g.protein.num_structures))\n",
    "    print('Representative sequence: {}'.format(repseq.id))\n",
    "    print('Representative structure: {}'.format(repstruct.id))\n",
    "    \n",
    "    print('Global properties of the representative sequence:')\n",
    "    pprint(repseq.annotations)\n",
    "    \n",
    "    print('Global properties of the representative structure:')\n",
    "    pprint(repstruct.chains.get_by_id(repchain).seq_record.annotations)\n",
    "    \n",
    "    print('--------------------------------------------------')"
   ]
  },
  {
   "cell_type": "markdown",
   "metadata": {},
   "source": [
    "------------------------------"
   ]
  },
  {
   "cell_type": "markdown",
   "metadata": {},
   "source": [
    "## Local protein properties"
   ]
  },
  {
   "cell_type": "markdown",
   "metadata": {},
   "source": [
    "##### Looking at specific sites"
   ]
  },
  {
   "cell_type": "code",
   "execution_count": null,
   "metadata": {},
   "outputs": [],
   "source": [
    "[x for x in g.protein.representative_sequence.features if 'site' in x.type]"
   ]
  },
  {
   "cell_type": "code",
   "execution_count": null,
   "metadata": {},
   "outputs": [],
   "source": [
    "for g in my_gempro.genes:\n",
    "    for f in g.protein.representative_sequence.features:\n",
    "        if 'site' in f.type.lower():\n",
    "            print(f)"
   ]
  },
  {
   "cell_type": "raw",
   "metadata": {},
   "source": [
    ".. automethod:: ssbio.core.protein.Protein.get_residue_annotations\n",
    "    :noindex:"
   ]
  },
  {
   "cell_type": "code",
   "execution_count": null,
   "metadata": {},
   "outputs": [],
   "source": [
    "metal_info = []\n",
    "\n",
    "for g in my_gempro.genes:\n",
    "    for f in g.protein.representative_sequence.features:\n",
    "        if 'metal' in f.type.lower():\n",
    "            res_info = g.protein.get_residue_annotations(f.location.end, use_representatives=True)\n",
    "            res_info['gene_id'] = g.id\n",
    "            res_info['seq_id'] = g.protein.representative_sequence.id\n",
    "            res_info['struct_id'] = g.protein.representative_structure.id\n",
    "            res_info['chain_id'] = g.protein.representative_chain\n",
    "            metal_info.append(res_info)\n",
    "        \n",
    "cols = ['gene_id', 'seq_id', 'struct_id', 'chain_id',\n",
    "        'seq_residue', 'seq_resnum', 'struct_residue','struct_resnum',\n",
    "        'seq_SS-sspro','seq_SS-sspro8','seq_RSA-accpro','seq_RSA-accpro20',\n",
    "        'struct_SS-dssp','struct_RSA-dssp', 'struct_ASA-dssp', \n",
    "        'struct_PHI-dssp', 'struct_PSI-dssp', 'struct_CA_DEPTH-msms', 'struct_RES_DEPTH-msms']\n",
    "\n",
    "pd.DataFrame.from_records(metal_info, columns=cols).set_index(['gene_id', 'seq_id', 'struct_id', 'chain_id', 'seq_resnum'])"
   ]
  },
  {
   "cell_type": "markdown",
   "metadata": {},
   "source": [
    "### Visualizing residues"
   ]
  },
  {
   "cell_type": "raw",
   "metadata": {},
   "source": [
    ".. automethod:: ssbio.protein.structure.structprop.StructProp.view_structure\n",
    "    :noindex:"
   ]
  },
  {
   "cell_type": "raw",
   "metadata": {},
   "source": [
    ".. automethod:: ssbio.protein.structure.structprop.StructProp.add_residues_highlight_to_nglview\n",
    "    :noindex:"
   ]
  },
  {
   "cell_type": "code",
   "execution_count": null,
   "metadata": {},
   "outputs": [],
   "source": [
    "for g in my_gempro.genes:\n",
    "    \n",
    "    # Gather residue numbers\n",
    "    metal_binding_structure_residues = []\n",
    "    for f in g.protein.representative_sequence.features:\n",
    "        if 'metal' in f.type.lower():\n",
    "            res_info = g.protein.get_residue_annotations(f.location.end, use_representatives=True)\n",
    "            metal_binding_structure_residues.append(res_info['struct_resnum'])\n",
    "    print(metal_binding_structure_residues)\n",
    "    \n",
    "    # Display structure\n",
    "    view = g.protein.representative_structure.view_structure()\n",
    "    g.protein.representative_structure.add_residues_highlight_to_nglview(view=view, structure_resnums=metal_binding_structure_residues)\n",
    "    \n",
    "    view"
   ]
  },
  {
   "cell_type": "markdown",
   "metadata": {},
   "source": [
    "### Comparing features in different structures of the same protein"
   ]
  },
  {
   "cell_type": "code",
   "execution_count": null,
   "metadata": {
    "collapsed": true
   },
   "outputs": [],
   "source": [
    "# Run all sequence to structure alignments\n",
    "for g in my_gempro.genes:\n",
    "    for s in g.protein.structures:\n",
    "        g.protein.align_seqprop_to_structprop(seqprop=g.protein.representative_sequence, structprop=s)"
   ]
  },
  {
   "cell_type": "code",
   "execution_count": null,
   "metadata": {},
   "outputs": [],
   "source": [
    "metal_info_compared = []\n",
    "\n",
    "for g in my_gempro.genes:\n",
    "    for f in g.protein.representative_sequence.features:\n",
    "        if 'metal' in f.type.lower():\n",
    "            for s in g.protein.structures:\n",
    "                for c in s.mapped_chains:\n",
    "                    res_info = g.protein.get_residue_annotations(seq_resnum=f.location.end, \n",
    "                                                                 seqprop=g.protein.representative_sequence,\n",
    "                                                                 structprop=s, chain_id=c,\n",
    "                                                                 use_representatives=False)\n",
    "                    res_info['gene_id'] = g.id\n",
    "                    res_info['seq_id'] = g.protein.representative_sequence.id\n",
    "                    res_info['struct_id'] = s.id\n",
    "                    res_info['chain_id'] = c\n",
    "                    metal_info_compared.append(res_info)\n",
    "    \n",
    "cols = ['gene_id', 'seq_id', 'struct_id', 'chain_id',\n",
    "        'seq_residue', 'seq_resnum', 'struct_residue','struct_resnum',\n",
    "        'seq_SS-sspro','seq_SS-sspro8','seq_RSA-accpro','seq_RSA-accpro20',\n",
    "        'struct_SS-dssp','struct_RSA-dssp', 'struct_ASA-dssp', \n",
    "        'struct_PHI-dssp', 'struct_PSI-dssp', 'struct_CA_DEPTH-msms', 'struct_RES_DEPTH-msms']\n",
    "\n",
    "pd.DataFrame.from_records(metal_info_compared, columns=cols).sort_values(by=['seq_resnum','struct_id','chain_id']).set_index(['gene_id','seq_id','seq_resnum','seq_residue','struct_id'])"
   ]
  },
  {
   "cell_type": "code",
   "execution_count": null,
   "metadata": {
    "collapsed": true
   },
   "outputs": [],
   "source": []
  }
 ],
 "metadata": {
  "_draft": {
   "nbviewer_url": "https://gist.github.com/342e44766d1dda637e975a4ef61dae19"
  },
  "anaconda-cloud": {},
  "celltoolbar": "Raw Cell Format",
  "gist": {
   "data": {
    "description": "GEM-PRO pipeline example for a list of gene IDs",
    "public": false
   },
   "id": "342e44766d1dda637e975a4ef61dae19"
  },
  "kernelspec": {
   "display_name": "Python [default]",
   "language": "python",
   "name": "python3"
  },
  "language_info": {
   "codemirror_mode": {
    "name": "ipython",
    "version": 3
   },
   "file_extension": ".py",
   "mimetype": "text/x-python",
   "name": "python",
   "nbconvert_exporter": "python",
   "pygments_lexer": "ipython3",
   "version": "3.6.3"
  },
  "widgets": {
   "state": {
    "07f2e453c2d1497b9cee80d259934c88": {
     "views": [
      {
       "cell_index": 14.0
      }
     ]
    },
    "232bfc79ee1a463ea1f22cddd984946c": {
     "views": [
      {
       "cell_index": 43.0
      }
     ]
    },
    "4e5dcc7ae9c74c6995e111ebc019ded0": {
     "views": [
      {
       "cell_index": 32.0
      }
     ]
    },
    "76d1cc588e4b45edbb1c4720bf38e5d0": {
     "views": [
      {
       "cell_index": 22.0
      }
     ]
    },
    "8838944ce0dd46ac82e7090093e37d1e": {
     "views": [
      {
       "cell_index": 27.0
      }
     ]
    },
    "ab2561514bac4346973555bfcfab21f1": {
     "views": [
      {
       "cell_index": 45.0
      }
     ]
    },
    "b288dca263224c2e8cf1d4288618fed7": {
     "views": [
      {
       "cell_index": 41.0
      }
     ]
    },
    "c396d04070754acf8f2104fbed57d62a": {
     "views": [
      {
       "cell_index": 25.0
      }
     ]
    },
    "d2be80a7bb9747cfb6cd3392d07c33eb": {
     "views": [
      {
       "cell_index": 26.0
      }
     ]
    },
    "da5b2982710e439d892f50b7fa10bca0": {
     "views": [
      {
       "cell_index": 16.0
      }
     ]
    },
    "dedd63bf7cb04fccb9e9d9ff4a394d83": {
     "views": [
      {
       "cell_index": 20.0
      }
     ]
    },
    "df25883a5dda4f14a8f69d2e87b03ed2": {
     "views": [
      {
       "cell_index": 39.0
      }
     ]
    },
    "ed031de1ce2544b290b01da2e2472c09": {
     "views": [
      {
       "cell_index": 34.0
      }
     ]
    },
    "f250016127fb4220b3ab97b0c621bee4": {
     "views": [
      {
       "cell_index": 56.0
      }
     ]
    },
    "ff615c1433274006af2ff64a4850b92b": {
     "views": [
      {
       "cell_index": 37.0
      }
     ]
    }
   },
   "version": "1.2.0"
  }
 },
 "nbformat": 4,
 "nbformat_minor": 1
}
