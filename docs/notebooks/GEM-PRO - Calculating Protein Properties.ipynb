{
 "cells": [
  {
   "cell_type": "markdown",
   "metadata": {},
   "source": [
    "# GEM-PRO - Calculating Protein Properties\n",
    "This notebook gives an example of how to **calculate protein properties** for a list of proteins, by first pulling information from UniProt and then using the 3D structure files to calculate the desired properties\n",
    "\n",
    "<div class=\"alert alert-info\">\n",
    "\n",
    "**Input:** List of gene IDs\n",
    "\n",
    "</div>\n",
    "\n",
    "<div class=\"alert alert-info\">\n",
    "\n",
    "**Output:** Representative protein structures and properties associated with them\n",
    "\n",
    "</div>"
   ]
  },
  {
   "cell_type": "markdown",
   "metadata": {},
   "source": [
    "## Imports"
   ]
  },
  {
   "cell_type": "code",
   "execution_count": 1,
   "metadata": {
    "collapsed": true
   },
   "outputs": [],
   "source": [
    "import sys\n",
    "import logging"
   ]
  },
  {
   "cell_type": "code",
   "execution_count": 2,
   "metadata": {
    "collapsed": false
   },
   "outputs": [],
   "source": [
    "# Import the GEM-PRO class\n",
    "from ssbio.pipeline.gempro import GEMPRO"
   ]
  },
  {
   "cell_type": "code",
   "execution_count": 3,
   "metadata": {
    "collapsed": false
   },
   "outputs": [],
   "source": [
    "# Printing multiple outputs per cell\n",
    "from IPython.core.interactiveshell import InteractiveShell\n",
    "InteractiveShell.ast_node_interactivity = \"all\""
   ]
  },
  {
   "cell_type": "markdown",
   "metadata": {},
   "source": [
    "### Logging\n",
    "\n",
    "Set the logging level in `logger.setLevel(logging.<LEVEL_HERE>)` to specify how verbose you want the pipeline to be. Debug is most verbose.\n",
    "\n",
    "- `CRITICAL`\n",
    "     - Only really important messages shown\n",
    "- `ERROR`\n",
    "     - Major errors\n",
    "- `WARNING`\n",
    "     - Warnings that don't affect running of the pipeline\n",
    "- `INFO` (default)\n",
    "     - Info such as the number of structures mapped per gene\n",
    "- `DEBUG`\n",
    "     - Really detailed information that will print out a lot of stuff\n",
    "     \n",
    "<div class=\"alert alert-warning\">\n",
    "\n",
    "**Warning:** \n",
    "`DEBUG` mode prints out a large amount of information, especially if you have a lot of genes. This may stall your notebook!\n",
    "</div>"
   ]
  },
  {
   "cell_type": "code",
   "execution_count": 4,
   "metadata": {
    "collapsed": false
   },
   "outputs": [],
   "source": [
    "# Create logger\n",
    "logger = logging.getLogger()\n",
    "logger.setLevel(logging.INFO)  # SET YOUR LOGGING LEVEL HERE #"
   ]
  },
  {
   "cell_type": "code",
   "execution_count": 5,
   "metadata": {
    "collapsed": false
   },
   "outputs": [],
   "source": [
    "# Other logger stuff for Jupyter notebooks\n",
    "handler = logging.StreamHandler(sys.stderr)\n",
    "formatter = logging.Formatter('[%(asctime)s] [%(name)s] %(levelname)s: %(message)s', datefmt=\"%Y-%m-%d %H:%M\")\n",
    "handler.setFormatter(formatter)\n",
    "logger.handlers = [handler]"
   ]
  },
  {
   "cell_type": "markdown",
   "metadata": {},
   "source": [
    "## Initialization of the project\n",
    "\n",
    "Set these three things:\n",
    "\n",
    "- `ROOT_DIR`\n",
    "    - The directory where a folder named after your `PROJECT` will be created\n",
    "- `PROJECT`\n",
    "    - Your project name\n",
    "- `LIST_OF_GENES`\n",
    "    - Your list of gene IDs\n",
    "    \n",
    "A directory will be created in `ROOT_DIR` with your `PROJECT` name. The folders are organized like so:\n",
    "```\n",
    "    ROOT_DIR\n",
    "    └── PROJECT\n",
    "        ├── data  # General storage for pipeline outputs\n",
    "        ├── model  # SBML and GEM-PRO models are stored here\n",
    "        ├── genes  # Per gene information\n",
    "        │   ├── <gene_id1>  # Specific gene directory\n",
    "        │   │   └── protein\n",
    "        │   │       ├── sequences  # Protein sequence files, alignments, etc.\n",
    "        │   │       └── structures  # Protein structure files, calculations, etc.\n",
    "        │   └── <gene_id2>\n",
    "        │       └── protein\n",
    "        │           ├── sequences\n",
    "        │           └── structures\n",
    "        ├── reactions  # Per reaction information\n",
    "        │   └── <reaction_id1>  # Specific reaction directory\n",
    "        │       └── complex\n",
    "        │           └── structures  # Protein complex files\n",
    "        └── metabolites  # Per metabolite information\n",
    "            └── <metabolite_id1>  # Specific metabolite directory\n",
    "                └── chemical\n",
    "                    └── structures  # Metabolite 2D and 3D structure files\n",
    "                \n",
    "```\n",
    "\n",
    "<div class=\"alert alert-info\">**Note:** Methods for protein complexes and metabolites are still in development.</div>"
   ]
  },
  {
   "cell_type": "code",
   "execution_count": 6,
   "metadata": {
    "collapsed": true
   },
   "outputs": [],
   "source": [
    "# SET FOLDERS AND DATA HERE\n",
    "import tempfile\n",
    "ROOT_DIR = tempfile.gettempdir()\n",
    "\n",
    "PROJECT = 'genes_GP'\n",
    "LIST_OF_GENES = ['b1276', 'b0118']"
   ]
  },
  {
   "cell_type": "code",
   "execution_count": 7,
   "metadata": {
    "collapsed": false
   },
   "outputs": [
    {
     "name": "stderr",
     "output_type": "stream",
     "text": [
      "[2017-04-29 10:48] [ssbio.pipeline.gempro] INFO: /tmp/genes_GP: GEM-PRO project location\n",
      "[2017-04-29 10:48] [ssbio.pipeline.gempro] INFO: 2: number of genes\n"
     ]
    }
   ],
   "source": [
    "# Create the GEM-PRO project\n",
    "my_gempro = GEMPRO(gem_name=PROJECT, root_dir=ROOT_DIR, genes_list=LIST_OF_GENES, pdb_file_type='pdb')"
   ]
  },
  {
   "cell_type": "markdown",
   "metadata": {},
   "source": [
    "## Mapping gene ID --> sequence\n",
    "\n",
    "First, we need to map these IDs to their protein sequences. There are 2 ID mapping services provided to do this - through **KEGG** or **UniProt**. The end goal is to map a UniProt ID to each ID, since there is a comprehensive mapping (and some useful APIs) between UniProt and the PDB.\n",
    "\n",
    "<p><div class=\"alert alert-info\">**Note:** You only need to map gene IDs using one service. However you can run both if some genes don't map in one service and do map in another!</div></p>"
   ]
  },
  {
   "cell_type": "markdown",
   "metadata": {},
   "source": [
    "### Methods"
   ]
  },
  {
   "cell_type": "raw",
   "metadata": {
    "raw_mimetype": "text/restructuredtext"
   },
   "source": [
    ".. automethod:: ssbio.pipeline.gempro.GEMPRO.uniprot_mapping_and_metadata\n",
    "    :noindex:"
   ]
  },
  {
   "cell_type": "code",
   "execution_count": 8,
   "metadata": {
    "collapsed": false
   },
   "outputs": [
    {
     "name": "stderr",
     "output_type": "stream",
     "text": [
      "[2017-04-29 10:48] [root] INFO: getUserAgent: Begin\n",
      "[2017-04-29 10:48] [root] INFO: getUserAgent: user_agent: EBI-Sample-Client/ (services.py; Python 3.5.2; Linux) Python-requests/2.12.4\n",
      "[2017-04-29 10:48] [root] INFO: getUserAgent: End\n",
      "[2017-04-29 10:48] [ssbio.pipeline.gempro] INFO: 2/2: number of genes mapped to UniProt\n",
      "[2017-04-29 10:48] [ssbio.pipeline.gempro] INFO: Completed ID mapping --> UniProt. See the \"df_uniprot_metadata\" attribute for a summary dataframe.\n"
     ]
    },
    {
     "name": "stdout",
     "output_type": "stream",
     "text": [
      "\n",
      "Missing UniProt mapping:  []\n"
     ]
    },
    {
     "data": {
      "text/html": [
       "<div>\n",
       "<table border=\"1\" class=\"dataframe\">\n",
       "  <thead>\n",
       "    <tr style=\"text-align: right;\">\n",
       "      <th></th>\n",
       "      <th>uniprot</th>\n",
       "      <th>reviewed</th>\n",
       "      <th>num_pdbs</th>\n",
       "      <th>seq_len</th>\n",
       "      <th>description</th>\n",
       "      <th>sequence_file</th>\n",
       "      <th>metadata_file</th>\n",
       "    </tr>\n",
       "    <tr>\n",
       "      <th>gene</th>\n",
       "      <th></th>\n",
       "      <th></th>\n",
       "      <th></th>\n",
       "      <th></th>\n",
       "      <th></th>\n",
       "      <th></th>\n",
       "      <th></th>\n",
       "    </tr>\n",
       "  </thead>\n",
       "  <tbody>\n",
       "    <tr>\n",
       "      <th>b0118</th>\n",
       "      <td>P36683</td>\n",
       "      <td>False</td>\n",
       "      <td>0</td>\n",
       "      <td>865</td>\n",
       "      <td>Aconitate hydratase B</td>\n",
       "      <td>P36683.fasta</td>\n",
       "      <td>P36683.xml</td>\n",
       "    </tr>\n",
       "    <tr>\n",
       "      <th>b1276</th>\n",
       "      <td>P25516</td>\n",
       "      <td>False</td>\n",
       "      <td>0</td>\n",
       "      <td>891</td>\n",
       "      <td>Aconitate hydratase A</td>\n",
       "      <td>P25516.fasta</td>\n",
       "      <td>P25516.xml</td>\n",
       "    </tr>\n",
       "  </tbody>\n",
       "</table>\n",
       "</div>"
      ],
      "text/plain": [
       "      uniprot reviewed  num_pdbs  seq_len            description  \\\n",
       "gene                                                               \n",
       "b0118  P36683    False         0      865  Aconitate hydratase B   \n",
       "b1276  P25516    False         0      891  Aconitate hydratase A   \n",
       "\n",
       "      sequence_file metadata_file  \n",
       "gene                               \n",
       "b0118  P36683.fasta    P36683.xml  \n",
       "b1276  P25516.fasta    P25516.xml  "
      ]
     },
     "execution_count": 8,
     "metadata": {},
     "output_type": "execute_result"
    }
   ],
   "source": [
    "# UniProt mapping\n",
    "my_gempro.uniprot_mapping_and_metadata(model_gene_source='ENSEMBLGENOME_ID')\n",
    "print('Missing UniProt mapping: ', my_gempro.missing_uniprot_mapping)\n",
    "my_gempro.df_uniprot_metadata.head()"
   ]
  },
  {
   "cell_type": "raw",
   "metadata": {
    "raw_mimetype": "text/restructuredtext"
   },
   "source": [
    ".. automethod:: ssbio.pipeline.gempro.GEMPRO.set_representative_sequence\n",
    "    :noindex:"
   ]
  },
  {
   "cell_type": "code",
   "execution_count": 9,
   "metadata": {
    "collapsed": false
   },
   "outputs": [
    {
     "name": "stderr",
     "output_type": "stream",
     "text": [
      "[2017-04-29 10:48] [ssbio.pipeline.gempro] INFO: 2/2: number of genes with a representative sequence\n",
      "[2017-04-29 10:48] [ssbio.pipeline.gempro] INFO: See the \"df_representative_sequences\" attribute for a summary dataframe.\n"
     ]
    },
    {
     "name": "stdout",
     "output_type": "stream",
     "text": [
      "\n",
      "Missing a representative sequence:  []\n"
     ]
    },
    {
     "data": {
      "text/html": [
       "<div>\n",
       "<table border=\"1\" class=\"dataframe\">\n",
       "  <thead>\n",
       "    <tr style=\"text-align: right;\">\n",
       "      <th></th>\n",
       "      <th>uniprot</th>\n",
       "      <th>num_pdbs</th>\n",
       "      <th>seq_len</th>\n",
       "      <th>sequence_file</th>\n",
       "      <th>metadata_file</th>\n",
       "    </tr>\n",
       "    <tr>\n",
       "      <th>gene</th>\n",
       "      <th></th>\n",
       "      <th></th>\n",
       "      <th></th>\n",
       "      <th></th>\n",
       "      <th></th>\n",
       "    </tr>\n",
       "  </thead>\n",
       "  <tbody>\n",
       "    <tr>\n",
       "      <th>b0118</th>\n",
       "      <td>P36683</td>\n",
       "      <td>0</td>\n",
       "      <td>865</td>\n",
       "      <td>P36683.fasta</td>\n",
       "      <td>P36683.xml</td>\n",
       "    </tr>\n",
       "    <tr>\n",
       "      <th>b1276</th>\n",
       "      <td>P25516</td>\n",
       "      <td>0</td>\n",
       "      <td>891</td>\n",
       "      <td>P25516.fasta</td>\n",
       "      <td>P25516.xml</td>\n",
       "    </tr>\n",
       "  </tbody>\n",
       "</table>\n",
       "</div>"
      ],
      "text/plain": [
       "      uniprot  num_pdbs  seq_len sequence_file metadata_file\n",
       "gene                                                        \n",
       "b0118  P36683         0      865  P36683.fasta    P36683.xml\n",
       "b1276  P25516         0      891  P25516.fasta    P25516.xml"
      ]
     },
     "execution_count": 9,
     "metadata": {},
     "output_type": "execute_result"
    }
   ],
   "source": [
    "# Set representative sequences\n",
    "my_gempro.set_representative_sequence()\n",
    "print('Missing a representative sequence: ', my_gempro.missing_representative_sequence)\n",
    "my_gempro.df_representative_sequences.head()"
   ]
  },
  {
   "cell_type": "markdown",
   "metadata": {},
   "source": [
    "## Mapping representative sequence --> structure\n",
    "\n",
    "These are the ways to map sequence to structure:\n",
    "\n",
    "1. Use the UniProt ID and their automatic mappings to the PDB\n",
    "2. BLAST the sequence to the PDB\n",
    "3. Make homology models or \n",
    "4. Map to existing homology models\n",
    "\n",
    "You can only utilize option #1 to map to PDBs if there is a mapped UniProt ID set in the representative sequence. If not, you'll have to BLAST your sequence to the PDB or make a homology model. You can also run both for maximum coverage."
   ]
  },
  {
   "cell_type": "markdown",
   "metadata": {},
   "source": [
    "### Methods"
   ]
  },
  {
   "cell_type": "raw",
   "metadata": {
    "raw_mimetype": "text/restructuredtext"
   },
   "source": [
    ".. automethod:: ssbio.pipeline.gempro.GEMPRO.map_uniprot_to_pdb\n",
    "    :noindex:"
   ]
  },
  {
   "cell_type": "code",
   "execution_count": 10,
   "metadata": {
    "collapsed": false
   },
   "outputs": [
    {
     "name": "stderr",
     "output_type": "stream",
     "text": [
      "[2017-04-29 10:48] [ssbio.pipeline.gempro] INFO: Mapping UniProt IDs --> PDB IDs...\n",
      "[2017-04-29 10:48] [root] INFO: getUserAgent: Begin\n",
      "[2017-04-29 10:48] [root] INFO: getUserAgent: user_agent: EBI-Sample-Client/ (services.py; Python 3.5.2; Linux) Python-requests/2.12.4\n",
      "[2017-04-29 10:48] [root] INFO: getUserAgent: End\n",
      "[2017-04-29 10:48] [ssbio.pipeline.gempro] INFO: 1/2: number of genes with at least one experimental structure\n",
      "[2017-04-29 10:48] [ssbio.pipeline.gempro] INFO: Completed UniProt --> best PDB mapping. See the \"df_pdb_ranking\" attribute for a summary dataframe.\n"
     ]
    },
    {
     "name": "stdout",
     "output_type": "stream",
     "text": [
      "\n"
     ]
    },
    {
     "data": {
      "text/html": [
       "<div>\n",
       "<table border=\"1\" class=\"dataframe\">\n",
       "  <thead>\n",
       "    <tr style=\"text-align: right;\">\n",
       "      <th></th>\n",
       "      <th>pdb_id</th>\n",
       "      <th>pdb_chain_id</th>\n",
       "      <th>uniprot</th>\n",
       "      <th>experimental_method</th>\n",
       "      <th>resolution</th>\n",
       "      <th>coverage</th>\n",
       "      <th>start</th>\n",
       "      <th>end</th>\n",
       "      <th>unp_start</th>\n",
       "      <th>unp_end</th>\n",
       "      <th>rank</th>\n",
       "    </tr>\n",
       "    <tr>\n",
       "      <th>gene</th>\n",
       "      <th></th>\n",
       "      <th></th>\n",
       "      <th></th>\n",
       "      <th></th>\n",
       "      <th></th>\n",
       "      <th></th>\n",
       "      <th></th>\n",
       "      <th></th>\n",
       "      <th></th>\n",
       "      <th></th>\n",
       "      <th></th>\n",
       "    </tr>\n",
       "  </thead>\n",
       "  <tbody>\n",
       "    <tr>\n",
       "      <th>b0118</th>\n",
       "      <td>1l5j</td>\n",
       "      <td>A</td>\n",
       "      <td>P36683</td>\n",
       "      <td>X-ray diffraction</td>\n",
       "      <td>2.4</td>\n",
       "      <td>1</td>\n",
       "      <td>1</td>\n",
       "      <td>865</td>\n",
       "      <td>1</td>\n",
       "      <td>865</td>\n",
       "      <td>1</td>\n",
       "    </tr>\n",
       "    <tr>\n",
       "      <th>b0118</th>\n",
       "      <td>1l5j</td>\n",
       "      <td>B</td>\n",
       "      <td>P36683</td>\n",
       "      <td>X-ray diffraction</td>\n",
       "      <td>2.4</td>\n",
       "      <td>1</td>\n",
       "      <td>1</td>\n",
       "      <td>865</td>\n",
       "      <td>1</td>\n",
       "      <td>865</td>\n",
       "      <td>2</td>\n",
       "    </tr>\n",
       "  </tbody>\n",
       "</table>\n",
       "</div>"
      ],
      "text/plain": [
       "      pdb_id pdb_chain_id uniprot experimental_method  resolution  coverage  \\\n",
       "gene                                                                          \n",
       "b0118   1l5j            A  P36683   X-ray diffraction         2.4         1   \n",
       "b0118   1l5j            B  P36683   X-ray diffraction         2.4         1   \n",
       "\n",
       "       start  end  unp_start  unp_end  rank  \n",
       "gene                                         \n",
       "b0118      1  865          1      865     1  \n",
       "b0118      1  865          1      865     2  "
      ]
     },
     "execution_count": 10,
     "metadata": {},
     "output_type": "execute_result"
    }
   ],
   "source": [
    "# Mapping using the PDBe best_structures service\n",
    "my_gempro.map_uniprot_to_pdb(seq_ident_cutoff=.3)\n",
    "my_gempro.df_pdb_ranking.head()"
   ]
  },
  {
   "cell_type": "raw",
   "metadata": {
    "raw_mimetype": "text/restructuredtext"
   },
   "source": [
    ".. automethod:: ssbio.pipeline.gempro.GEMPRO.blast_seqs_to_pdb\n",
    "    :noindex:"
   ]
  },
  {
   "cell_type": "code",
   "execution_count": 11,
   "metadata": {
    "collapsed": false
   },
   "outputs": [
    {
     "name": "stderr",
     "output_type": "stream",
     "text": [
      "[2017-04-29 10:48] [ssbio.pipeline.gempro] INFO: Completed sequence --> PDB BLAST. See the \"df_pdb_blast\" attribute for a summary dataframe.\n",
      "[2017-04-29 10:48] [ssbio.pipeline.gempro] INFO: 0: number of genes with additional structures added from BLAST\n",
      "[2017-04-29 10:48] [ssbio.pipeline.gempro] WARNING: Empty dataframe\n"
     ]
    },
    {
     "name": "stdout",
     "output_type": "stream",
     "text": [
      "\n"
     ]
    },
    {
     "data": {
      "text/html": [
       "<div>\n",
       "<table border=\"1\" class=\"dataframe\">\n",
       "  <thead>\n",
       "    <tr style=\"text-align: right;\">\n",
       "      <th></th>\n",
       "    </tr>\n",
       "  </thead>\n",
       "  <tbody>\n",
       "  </tbody>\n",
       "</table>\n",
       "</div>"
      ],
      "text/plain": [
       "Empty DataFrame\n",
       "Columns: []\n",
       "Index: []"
      ]
     },
     "execution_count": 11,
     "metadata": {},
     "output_type": "execute_result"
    }
   ],
   "source": [
    "# Mapping using BLAST\n",
    "my_gempro.blast_seqs_to_pdb(all_genes=True, seq_ident_cutoff=.9, evalue=0.00001)\n",
    "my_gempro.df_pdb_blast.head(2)"
   ]
  },
  {
   "cell_type": "raw",
   "metadata": {
    "raw_mimetype": "text/restructuredtext"
   },
   "source": [
    ".. automethod:: ssbio.pipeline.gempro.GEMPRO.get_manual_homology_models\n",
    "    :noindex:"
   ]
  },
  {
   "cell_type": "code",
   "execution_count": 12,
   "metadata": {
    "collapsed": true
   },
   "outputs": [],
   "source": [
    "import pandas as pd\n",
    "import os.path as op"
   ]
  },
  {
   "cell_type": "code",
   "execution_count": 13,
   "metadata": {
    "collapsed": false
   },
   "outputs": [
    {
     "name": "stderr",
     "output_type": "stream",
     "text": [
      "[2017-04-29 10:48] [ssbio.pipeline.gempro] INFO: Updated homology model information for 2 genes.\n"
     ]
    },
    {
     "name": "stdout",
     "output_type": "stream",
     "text": [
      "\n"
     ]
    }
   ],
   "source": [
    "# Creating manual mapping dictionary for ECOLI I-TASSER models\n",
    "homology_models = '/home/nathan/projects_archive/homology_models/ECOLI/zhang/'\n",
    "homology_models_df = pd.read_csv('/home/nathan/projects_archive/homology_models/ECOLI/zhang_data/160804-ZHANG_INFO.csv')\n",
    "tmp = homology_models_df[['zhang_id','model_file','m_gene']].drop_duplicates()\n",
    "tmp = tmp[pd.notnull(tmp.m_gene)]\n",
    "\n",
    "homology_model_dict = {}\n",
    "\n",
    "for i,r in tmp.iterrows():\n",
    "    homology_model_dict[r['m_gene']] = {r['zhang_id']: {'model_file':op.join(homology_models, r['model_file']),\n",
    "                                                        'file_type':'pdb'}}\n",
    "    \n",
    "my_gempro.get_manual_homology_models(homology_model_dict)"
   ]
  },
  {
   "cell_type": "code",
   "execution_count": 14,
   "metadata": {
    "collapsed": false
   },
   "outputs": [
    {
     "name": "stderr",
     "output_type": "stream",
     "text": [
      "[2017-04-29 10:48] [ssbio.pipeline.gempro] INFO: Updated homology model information for 2 genes.\n"
     ]
    },
    {
     "name": "stdout",
     "output_type": "stream",
     "text": [
      "\n"
     ]
    }
   ],
   "source": [
    "# Creating manual mapping dictionary for ECOLI SUNPRO models\n",
    "homology_models = '/home/nathan/projects_archive/homology_models/ECOLI/sunpro/'\n",
    "homology_models_df = pd.read_csv('/home/nathan/projects_archive/homology_models/ECOLI/sunpro_data/160609-SUNPRO_INFO.csv')\n",
    "tmp = homology_models_df[['sunpro_id','model_file','m_gene']].drop_duplicates()\n",
    "tmp = tmp[pd.notnull(tmp.m_gene)]\n",
    "\n",
    "homology_model_dict = {}\n",
    "\n",
    "for i,r in tmp.iterrows():\n",
    "    homology_model_dict[r['m_gene']] = {r['sunpro_id']: {'model_file':op.join(homology_models, r['model_file']),\n",
    "                                                         'file_type':'pdb'}}\n",
    "    \n",
    "my_gempro.get_manual_homology_models(homology_model_dict)"
   ]
  },
  {
   "cell_type": "markdown",
   "metadata": {},
   "source": [
    "## Downloading and ranking structures"
   ]
  },
  {
   "cell_type": "markdown",
   "metadata": {},
   "source": [
    "### Methods"
   ]
  },
  {
   "cell_type": "raw",
   "metadata": {
    "raw_mimetype": "text/restructuredtext"
   },
   "source": [
    ".. automethod:: ssbio.pipeline.gempro.GEMPRO.pdb_downloader_and_metadata\n",
    "    :noindex:"
   ]
  },
  {
   "cell_type": "markdown",
   "metadata": {},
   "source": [
    "<div class=\"alert alert-warning\">\n",
    "\n",
    "**Warning:** \n",
    "Downloading all PDBs takes a while, since they are also parsed for metadata. You can skip this step and just set representative structures below if you want to minimize the number of PDBs downloaded.\n",
    "\n",
    "</div>"
   ]
  },
  {
   "cell_type": "code",
   "execution_count": 15,
   "metadata": {
    "collapsed": false
   },
   "outputs": [
    {
     "name": "stderr",
     "output_type": "stream",
     "text": [
      "[2017-04-29 10:49] [ssbio.pipeline.gempro] INFO: Updated PDB metadata dataframe. See the \"df_pdb_metadata\" attribute for a summary dataframe.\n",
      "[2017-04-29 10:49] [ssbio.pipeline.gempro] INFO: Saved 1 structures total\n"
     ]
    },
    {
     "name": "stdout",
     "output_type": "stream",
     "text": [
      "\n"
     ]
    },
    {
     "data": {
      "text/html": [
       "<div>\n",
       "<table border=\"1\" class=\"dataframe\">\n",
       "  <thead>\n",
       "    <tr style=\"text-align: right;\">\n",
       "      <th></th>\n",
       "      <th>pdb_id</th>\n",
       "      <th>pdb_title</th>\n",
       "      <th>description</th>\n",
       "      <th>experimental_method</th>\n",
       "      <th>mapped_chains</th>\n",
       "      <th>resolution</th>\n",
       "      <th>chemicals</th>\n",
       "      <th>date</th>\n",
       "      <th>taxonomy_name</th>\n",
       "      <th>structure_file</th>\n",
       "    </tr>\n",
       "    <tr>\n",
       "      <th>gene</th>\n",
       "      <th></th>\n",
       "      <th></th>\n",
       "      <th></th>\n",
       "      <th></th>\n",
       "      <th></th>\n",
       "      <th></th>\n",
       "      <th></th>\n",
       "      <th></th>\n",
       "      <th></th>\n",
       "      <th></th>\n",
       "    </tr>\n",
       "  </thead>\n",
       "  <tbody>\n",
       "    <tr>\n",
       "      <th>b0118</th>\n",
       "      <td>1l5j</td>\n",
       "      <td>CRYSTAL STRUCTURE OF E. COLI ACONITASE B.</td>\n",
       "      <td>Aconitate hydratase 2 (E.C.4.2.1.3)</td>\n",
       "      <td>X-ray diffraction</td>\n",
       "      <td>A;B</td>\n",
       "      <td>2.4</td>\n",
       "      <td>TRA;F3S</td>\n",
       "      <td>2002-06-12;2003-04-01;2009-02-24</td>\n",
       "      <td>Escherichia coli</td>\n",
       "      <td>1l5j.pdb</td>\n",
       "    </tr>\n",
       "  </tbody>\n",
       "</table>\n",
       "</div>"
      ],
      "text/plain": [
       "      pdb_id                                  pdb_title  \\\n",
       "gene                                                      \n",
       "b0118   1l5j  CRYSTAL STRUCTURE OF E. COLI ACONITASE B.   \n",
       "\n",
       "                               description experimental_method mapped_chains  \\\n",
       "gene                                                                           \n",
       "b0118  Aconitate hydratase 2 (E.C.4.2.1.3)   X-ray diffraction           A;B   \n",
       "\n",
       "       resolution chemicals                              date  \\\n",
       "gene                                                            \n",
       "b0118         2.4   TRA;F3S  2002-06-12;2003-04-01;2009-02-24   \n",
       "\n",
       "          taxonomy_name structure_file  \n",
       "gene                                    \n",
       "b0118  Escherichia coli       1l5j.pdb  "
      ]
     },
     "execution_count": 15,
     "metadata": {},
     "output_type": "execute_result"
    }
   ],
   "source": [
    "# Download all mapped PDBs and gather the metadata\n",
    "my_gempro.pdb_downloader_and_metadata()\n",
    "my_gempro.df_pdb_metadata.head(2)"
   ]
  },
  {
   "cell_type": "raw",
   "metadata": {
    "raw_mimetype": "text/restructuredtext"
   },
   "source": [
    ".. automethod:: ssbio.pipeline.gempro.GEMPRO.set_representative_structure\n",
    "    :noindex:"
   ]
  },
  {
   "cell_type": "code",
   "execution_count": 16,
   "metadata": {
    "collapsed": false
   },
   "outputs": [
    {
     "name": "stderr",
     "output_type": "stream",
     "text": [
      "[2017-04-29 10:49] [ssbio.pipeline.gempro] INFO: 2/2: number of genes with a representative structure\n",
      "[2017-04-29 10:49] [ssbio.pipeline.gempro] INFO: See the \"df_representative_structures\" attribute for a summary dataframe.\n"
     ]
    },
    {
     "name": "stdout",
     "output_type": "stream",
     "text": [
      "\n"
     ]
    },
    {
     "data": {
      "text/html": [
       "<div>\n",
       "<table border=\"1\" class=\"dataframe\">\n",
       "  <thead>\n",
       "    <tr style=\"text-align: right;\">\n",
       "      <th></th>\n",
       "      <th>id</th>\n",
       "      <th>is_experimental</th>\n",
       "      <th>reference_seq_top_coverage</th>\n",
       "      <th>structure_file</th>\n",
       "    </tr>\n",
       "    <tr>\n",
       "      <th>gene</th>\n",
       "      <th></th>\n",
       "      <th></th>\n",
       "      <th></th>\n",
       "      <th></th>\n",
       "    </tr>\n",
       "  </thead>\n",
       "  <tbody>\n",
       "    <tr>\n",
       "      <th>b0118</th>\n",
       "      <td>1l5j-A</td>\n",
       "      <td>True</td>\n",
       "      <td>99.7</td>\n",
       "      <td>1l5j-A_clean.pdb</td>\n",
       "    </tr>\n",
       "    <tr>\n",
       "      <th>b1276</th>\n",
       "      <td>ACON1_ECOLI-X</td>\n",
       "      <td>False</td>\n",
       "      <td>100.0</td>\n",
       "      <td>ACON1_ECOLI_model1_clean-X_clean.pdb</td>\n",
       "    </tr>\n",
       "  </tbody>\n",
       "</table>\n",
       "</div>"
      ],
      "text/plain": [
       "                  id is_experimental  reference_seq_top_coverage  \\\n",
       "gene                                                               \n",
       "b0118         1l5j-A            True                        99.7   \n",
       "b1276  ACON1_ECOLI-X           False                       100.0   \n",
       "\n",
       "                             structure_file  \n",
       "gene                                         \n",
       "b0118                      1l5j-A_clean.pdb  \n",
       "b1276  ACON1_ECOLI_model1_clean-X_clean.pdb  "
      ]
     },
     "execution_count": 16,
     "metadata": {},
     "output_type": "execute_result"
    }
   ],
   "source": [
    "# Set representative structures\n",
    "my_gempro.set_representative_structure()\n",
    "my_gempro.df_representative_structures.head()"
   ]
  },
  {
   "cell_type": "markdown",
   "metadata": {},
   "source": [
    "### Compiuting sequence and structure properties"
   ]
  },
  {
   "cell_type": "raw",
   "metadata": {
    "raw_mimetype": "text/restructuredtext"
   },
   "source": [
    ".. automethod:: ssbio.pipeline.gempro.GEMPRO.get_sequence_properties\n",
    "    :noindex:"
   ]
  },
  {
   "cell_type": "code",
   "execution_count": 17,
   "metadata": {
    "collapsed": false
   },
   "outputs": [
    {
     "name": "stdout",
     "output_type": "stream",
     "text": [
      "\n"
     ]
    }
   ],
   "source": [
    "# Requires EMBOSS \"pepstats\" program\n",
    "# See the ssbio wiki for more information: https://github.com/SBRG/ssbio/wiki/Software-Installations\n",
    "# Install using:\n",
    "# sudo apt-get install emboss\n",
    "my_gempro.get_sequence_properties()"
   ]
  },
  {
   "cell_type": "raw",
   "metadata": {
    "raw_mimetype": "text/restructuredtext"
   },
   "source": [
    ".. automethod:: ssbio.pipeline.gempro.GEMPRO.get_scratch_predictions\n",
    "    :noindex:"
   ]
  },
  {
   "cell_type": "code",
   "execution_count": 18,
   "metadata": {
    "collapsed": false
   },
   "outputs": [
    {
     "name": "stderr",
     "output_type": "stream",
     "text": [
      "[2017-04-29 10:49] [ssbio.pipeline.gempro] INFO: /tmp/genes_GP/data/genes_GP_cds.faa: wrote all representative sequences to file\n",
      "[2017-04-29 10:49] [ssbio.pipeline.gempro] INFO: 2/2: number of genes with SCRATCH predictions loaded\n"
     ]
    },
    {
     "name": "stdout",
     "output_type": "stream",
     "text": [
      "\n"
     ]
    }
   ],
   "source": [
    "# Requires SCRATCH installation, replace path_to_scratch with own path to script\n",
    "# See the ssbio wiki for more information: https://github.com/SBRG/ssbio/wiki/Software-Installations\n",
    "my_gempro.get_scratch_predictions(path_to_scratch='/home/nathan/software/SCRATCH-1D_1.1/bin/run_SCRATCH-1D_predictors.sh', results_dir=my_gempro.data_dir)"
   ]
  },
  {
   "cell_type": "raw",
   "metadata": {
    "raw_mimetype": "text/restructuredtext"
   },
   "source": [
    ".. automethod:: ssbio.pipeline.gempro.GEMPRO.get_disulfide_bridges\n",
    "    :noindex:"
   ]
  },
  {
   "cell_type": "code",
   "execution_count": 19,
   "metadata": {
    "collapsed": false
   },
   "outputs": [
    {
     "name": "stdout",
     "output_type": "stream",
     "text": [
      "\n"
     ]
    }
   ],
   "source": [
    "my_gempro.get_disulfide_bridges()"
   ]
  },
  {
   "cell_type": "raw",
   "metadata": {
    "raw_mimetype": "text/restructuredtext"
   },
   "source": [
    ".. automethod:: ssbio.pipeline.gempro.GEMPRO.get_dssp_annotations\n",
    "    :noindex:"
   ]
  },
  {
   "cell_type": "code",
   "execution_count": 20,
   "metadata": {
    "collapsed": false
   },
   "outputs": [
    {
     "name": "stdout",
     "output_type": "stream",
     "text": [
      "\n"
     ]
    }
   ],
   "source": [
    "# Requires DSSP installation\n",
    "# See the ssbio wiki for more information: https://github.com/SBRG/ssbio/wiki/Software-Installations\n",
    "my_gempro.get_dssp_annotations()"
   ]
  },
  {
   "cell_type": "raw",
   "metadata": {
    "raw_mimetype": "text/restructuredtext"
   },
   "source": [
    ".. automethod:: ssbio.pipeline.gempro.GEMPRO.get_msms_annotations\n",
    "    :noindex:"
   ]
  },
  {
   "cell_type": "code",
   "execution_count": 21,
   "metadata": {
    "collapsed": false
   },
   "outputs": [
    {
     "name": "stdout",
     "output_type": "stream",
     "text": [
      "\n"
     ]
    }
   ],
   "source": [
    "# Requires MSMS installation\n",
    "# See the ssbio wiki for more information: https://github.com/SBRG/ssbio/wiki/Software-Installations\n",
    "my_gempro.get_msms_annotations()"
   ]
  },
  {
   "cell_type": "markdown",
   "metadata": {},
   "source": [
    "### Extracting residue-level properties for a list of residue numbers"
   ]
  },
  {
   "cell_type": "code",
   "execution_count": 22,
   "metadata": {
    "collapsed": true
   },
   "outputs": [],
   "source": [
    "from Bio.SeqFeature import SeqFeature, FeatureLocation"
   ]
  },
  {
   "cell_type": "markdown",
   "metadata": {},
   "source": [
    "##### Looking at one protein"
   ]
  },
  {
   "cell_type": "code",
   "execution_count": 23,
   "metadata": {
    "collapsed": true
   },
   "outputs": [],
   "source": [
    "my_protein = my_gempro.genes.b0118.protein"
   ]
  },
  {
   "cell_type": "code",
   "execution_count": 24,
   "metadata": {
    "collapsed": false
   },
   "outputs": [
    {
     "data": {
      "text/plain": [
       "[SeqFeature(FeatureLocation(ExactPosition(0), ExactPosition(865)), type='chain', id='PRO_0000076675'),\n",
       " SeqFeature(FeatureLocation(ExactPosition(243), ExactPosition(246)), type='region of interest'),\n",
       " SeqFeature(FeatureLocation(ExactPosition(413), ExactPosition(416)), type='region of interest'),\n",
       " SeqFeature(FeatureLocation(ExactPosition(709), ExactPosition(710)), type='metal ion-binding site'),\n",
       " SeqFeature(FeatureLocation(ExactPosition(768), ExactPosition(769)), type='metal ion-binding site'),\n",
       " SeqFeature(FeatureLocation(ExactPosition(771), ExactPosition(772)), type='metal ion-binding site'),\n",
       " SeqFeature(FeatureLocation(ExactPosition(190), ExactPosition(191)), type='binding site'),\n",
       " SeqFeature(FeatureLocation(ExactPosition(497), ExactPosition(498)), type='binding site'),\n",
       " SeqFeature(FeatureLocation(ExactPosition(790), ExactPosition(791)), type='binding site'),\n",
       " SeqFeature(FeatureLocation(ExactPosition(795), ExactPosition(796)), type='binding site'),\n",
       " SeqFeature(FeatureLocation(ExactPosition(768), ExactPosition(769)), type='mutagenesis site'),\n",
       " SeqFeature(FeatureLocation(ExactPosition(1), ExactPosition(14)), type='helix'),\n",
       " SeqFeature(FeatureLocation(ExactPosition(23), ExactPosition(35)), type='helix'),\n",
       " SeqFeature(FeatureLocation(ExactPosition(41), ExactPosition(51)), type='helix'),\n",
       " SeqFeature(FeatureLocation(ExactPosition(58), ExactPosition(72)), type='helix'),\n",
       " SeqFeature(FeatureLocation(ExactPosition(82), ExactPosition(90)), type='helix'),\n",
       " SeqFeature(FeatureLocation(ExactPosition(98), ExactPosition(104)), type='helix'),\n",
       " SeqFeature(FeatureLocation(ExactPosition(104), ExactPosition(107)), type='helix'),\n",
       " SeqFeature(FeatureLocation(ExactPosition(108), ExactPosition(111)), type='turn'),\n",
       " SeqFeature(FeatureLocation(ExactPosition(111), ExactPosition(120)), type='helix'),\n",
       " SeqFeature(FeatureLocation(ExactPosition(127), ExactPosition(137)), type='helix'),\n",
       " SeqFeature(FeatureLocation(ExactPosition(140), ExactPosition(151)), type='helix'),\n",
       " SeqFeature(FeatureLocation(ExactPosition(153), ExactPosition(157)), type='helix'),\n",
       " SeqFeature(FeatureLocation(ExactPosition(165), ExactPosition(178)), type='strand'),\n",
       " SeqFeature(FeatureLocation(ExactPosition(178), ExactPosition(182)), type='helix'),\n",
       " SeqFeature(FeatureLocation(ExactPosition(184), ExactPosition(190)), type='helix'),\n",
       " SeqFeature(FeatureLocation(ExactPosition(193), ExactPosition(197)), type='helix'),\n",
       " SeqFeature(FeatureLocation(ExactPosition(197), ExactPosition(200)), type='helix'),\n",
       " SeqFeature(FeatureLocation(ExactPosition(213), ExactPosition(216)), type='turn'),\n",
       " SeqFeature(FeatureLocation(ExactPosition(219), ExactPosition(227)), type='helix'),\n",
       " SeqFeature(FeatureLocation(ExactPosition(232), ExactPosition(243)), type='strand'),\n",
       " SeqFeature(FeatureLocation(ExactPosition(247), ExactPosition(257)), type='helix'),\n",
       " SeqFeature(FeatureLocation(ExactPosition(257), ExactPosition(261)), type='strand'),\n",
       " SeqFeature(FeatureLocation(ExactPosition(263), ExactPosition(269)), type='strand'),\n",
       " SeqFeature(FeatureLocation(ExactPosition(271), ExactPosition(278)), type='strand'),\n",
       " SeqFeature(FeatureLocation(ExactPosition(279), ExactPosition(288)), type='helix'),\n",
       " SeqFeature(FeatureLocation(ExactPosition(291), ExactPosition(295)), type='strand'),\n",
       " SeqFeature(FeatureLocation(ExactPosition(305), ExactPosition(310)), type='strand'),\n",
       " SeqFeature(FeatureLocation(ExactPosition(310), ExactPosition(314)), type='turn'),\n",
       " SeqFeature(FeatureLocation(ExactPosition(314), ExactPosition(318)), type='strand'),\n",
       " SeqFeature(FeatureLocation(ExactPosition(318), ExactPosition(321)), type='turn'),\n",
       " SeqFeature(FeatureLocation(ExactPosition(323), ExactPosition(327)), type='strand'),\n",
       " SeqFeature(FeatureLocation(ExactPosition(333), ExactPosition(341)), type='helix'),\n",
       " SeqFeature(FeatureLocation(ExactPosition(343), ExactPosition(360)), type='helix'),\n",
       " SeqFeature(FeatureLocation(ExactPosition(383), ExactPosition(391)), type='helix'),\n",
       " SeqFeature(FeatureLocation(ExactPosition(391), ExactPosition(394)), type='turn'),\n",
       " SeqFeature(FeatureLocation(ExactPosition(408), ExactPosition(413)), type='strand'),\n",
       " SeqFeature(FeatureLocation(ExactPosition(414), ExactPosition(417)), type='turn'),\n",
       " SeqFeature(FeatureLocation(ExactPosition(417), ExactPosition(427)), type='helix'),\n",
       " SeqFeature(FeatureLocation(ExactPosition(437), ExactPosition(440)), type='strand'),\n",
       " SeqFeature(FeatureLocation(ExactPosition(443), ExactPosition(448)), type='strand'),\n",
       " SeqFeature(FeatureLocation(ExactPosition(450), ExactPosition(465)), type='helix'),\n",
       " SeqFeature(FeatureLocation(ExactPosition(465), ExactPosition(468)), type='turn'),\n",
       " SeqFeature(FeatureLocation(ExactPosition(478), ExactPosition(483)), type='helix'),\n",
       " SeqFeature(FeatureLocation(ExactPosition(483), ExactPosition(486)), type='helix'),\n",
       " SeqFeature(FeatureLocation(ExactPosition(491), ExactPosition(497)), type='strand'),\n",
       " SeqFeature(FeatureLocation(ExactPosition(502), ExactPosition(507)), type='strand'),\n",
       " SeqFeature(FeatureLocation(ExactPosition(511), ExactPosition(521)), type='helix'),\n",
       " SeqFeature(FeatureLocation(ExactPosition(530), ExactPosition(538)), type='strand'),\n",
       " SeqFeature(FeatureLocation(ExactPosition(545), ExactPosition(559)), type='helix'),\n",
       " SeqFeature(FeatureLocation(ExactPosition(572), ExactPosition(576)), type='turn'),\n",
       " SeqFeature(FeatureLocation(ExactPosition(576), ExactPosition(583)), type='strand'),\n",
       " SeqFeature(FeatureLocation(ExactPosition(588), ExactPosition(597)), type='helix'),\n",
       " SeqFeature(FeatureLocation(ExactPosition(597), ExactPosition(600)), type='helix'),\n",
       " SeqFeature(FeatureLocation(ExactPosition(600), ExactPosition(603)), type='turn'),\n",
       " SeqFeature(FeatureLocation(ExactPosition(604), ExactPosition(609)), type='strand'),\n",
       " SeqFeature(FeatureLocation(ExactPosition(612), ExactPosition(632)), type='helix'),\n",
       " SeqFeature(FeatureLocation(ExactPosition(637), ExactPosition(653)), type='helix'),\n",
       " SeqFeature(FeatureLocation(ExactPosition(666), ExactPosition(673)), type='strand'),\n",
       " SeqFeature(FeatureLocation(ExactPosition(673), ExactPosition(676)), type='helix'),\n",
       " SeqFeature(FeatureLocation(ExactPosition(680), ExactPosition(683)), type='strand'),\n",
       " SeqFeature(FeatureLocation(ExactPosition(690), ExactPosition(693)), type='strand'),\n",
       " SeqFeature(FeatureLocation(ExactPosition(693), ExactPosition(696)), type='helix'),\n",
       " SeqFeature(FeatureLocation(ExactPosition(696), ExactPosition(699)), type='turn'),\n",
       " SeqFeature(FeatureLocation(ExactPosition(703), ExactPosition(707)), type='strand'),\n",
       " SeqFeature(FeatureLocation(ExactPosition(713), ExactPosition(726)), type='helix'),\n",
       " SeqFeature(FeatureLocation(ExactPosition(731), ExactPosition(737)), type='strand'),\n",
       " SeqFeature(FeatureLocation(ExactPosition(741), ExactPosition(750)), type='helix'),\n",
       " SeqFeature(FeatureLocation(ExactPosition(752), ExactPosition(760)), type='helix'),\n",
       " SeqFeature(FeatureLocation(ExactPosition(769), ExactPosition(772)), type='helix'),\n",
       " SeqFeature(FeatureLocation(ExactPosition(774), ExactPosition(777)), type='strand'),\n",
       " SeqFeature(FeatureLocation(ExactPosition(783), ExactPosition(790)), type='strand'),\n",
       " SeqFeature(FeatureLocation(ExactPosition(795), ExactPosition(798)), type='strand'),\n",
       " SeqFeature(FeatureLocation(ExactPosition(801), ExactPosition(805)), type='strand'),\n",
       " SeqFeature(FeatureLocation(ExactPosition(807), ExactPosition(817)), type='helix'),\n",
       " SeqFeature(FeatureLocation(ExactPosition(822), ExactPosition(834)), type='helix'),\n",
       " SeqFeature(FeatureLocation(ExactPosition(836), ExactPosition(840)), type='helix'),\n",
       " SeqFeature(FeatureLocation(ExactPosition(845), ExactPosition(848)), type='helix'),\n",
       " SeqFeature(FeatureLocation(ExactPosition(849), ExactPosition(857)), type='helix')]"
      ]
     },
     "execution_count": 24,
     "metadata": {},
     "output_type": "execute_result"
    }
   ],
   "source": [
    "# Here are the features stored for the sequence, parsed from UniProt\n",
    "my_protein.representative_sequence.seq_record.features"
   ]
  },
  {
   "cell_type": "code",
   "execution_count": 28,
   "metadata": {
    "collapsed": false
   },
   "outputs": [
    {
     "name": "stdout",
     "output_type": "stream",
     "text": [
      "type: metal ion-binding site\n",
      "location: [709:710]\n",
      "qualifiers:\n",
      "    Key: description, Value: Iron-sulfur (4Fe-4S)\n",
      "    Key: evidence, Value: 5\n",
      "    Key: type, Value: metal ion-binding site\n",
      "\n",
      "**Residue-level properties calculated or predicted from sequence:\n",
      "{'SS-sspro': 'C', 'SS-sspro8': 'T', 'repchain_resnums': [710.0], 'RSA-accpro': '-', 'RSA-accpro20': [10]}\n",
      "**Residue-level properties calculated from structure:\n",
      "{'RES_DEPTH-msms': [10.009108769044623], 'RSA-dssp': [0.11851851851851852], 'PHI-dssp': [-67.099999999999994], 'PSI-dssp': [-7.2000000000000002], 'SS-dssp': ['T'], 'structure_resnums': [(' ', 710, ' ')], 'CA_DEPTH-msms': [10.148959936792412], 'ASA-dssp': [16.0]}\n",
      "--------------------------------\n",
      "type: metal ion-binding site\n",
      "location: [768:769]\n",
      "qualifiers:\n",
      "    Key: description, Value: Iron-sulfur (4Fe-4S)\n",
      "    Key: evidence, Value: 5\n",
      "    Key: type, Value: metal ion-binding site\n",
      "\n",
      "**Residue-level properties calculated or predicted from sequence:\n",
      "{'SS-sspro': 'C', 'SS-sspro8': 'C', 'repchain_resnums': [769.0], 'RSA-accpro': '-', 'RSA-accpro20': [5]}\n",
      "**Residue-level properties calculated from structure:\n",
      "{'RES_DEPTH-msms': [8.0498321032343032], 'RSA-dssp': [0.088888888888888892], 'PHI-dssp': [-67.799999999999997], 'PSI-dssp': [-28.300000000000001], 'SS-dssp': ['-'], 'structure_resnums': [(' ', 769, ' ')], 'CA_DEPTH-msms': [8.2965851149538352], 'ASA-dssp': [12.0]}\n",
      "--------------------------------\n",
      "type: metal ion-binding site\n",
      "location: [771:772]\n",
      "qualifiers:\n",
      "    Key: description, Value: Iron-sulfur (4Fe-4S)\n",
      "    Key: evidence, Value: 5\n",
      "    Key: type, Value: metal ion-binding site\n",
      "\n",
      "**Residue-level properties calculated or predicted from sequence:\n",
      "{'SS-sspro': 'H', 'SS-sspro8': 'G', 'repchain_resnums': [772.0], 'RSA-accpro': '-', 'RSA-accpro20': [5]}\n",
      "**Residue-level properties calculated from structure:\n",
      "{'RES_DEPTH-msms': [8.2393688432309204], 'RSA-dssp': [0.081481481481481488], 'PHI-dssp': [-50.200000000000003], 'PSI-dssp': [-38.0], 'SS-dssp': ['G'], 'structure_resnums': [(' ', 772, ' ')], 'CA_DEPTH-msms': [8.2822919963773938], 'ASA-dssp': [11.0]}\n",
      "--------------------------------\n"
     ]
    }
   ],
   "source": [
    "# Gathering properties for the metal binding sites\n",
    "\n",
    "# Saving the structure residue numbering for visualization\n",
    "metal_binding_structure_residues = []\n",
    "\n",
    "for f in my_protein.representative_sequence.seq_record.features:\n",
    "    if 'metal' in f.type.lower():\n",
    "        print(f)\n",
    "        \n",
    "        # Get sequence properties\n",
    "        sr = f.extract(my_protein.representative_sequence.seq_record)\n",
    "        print('**Residue-level properties calculated or predicted from sequence:')\n",
    "        print(sr.letter_annotations)\n",
    "        \n",
    "        # Get structure properties\n",
    "        new_f = SeqFeature(FeatureLocation(int(sr.letter_annotations['repchain_resnums'][0]-1), int(sr.letter_annotations['repchain_resnums'][-1])))\n",
    "        sr_st = new_f.extract(my_protein.representative_structure.representative_chain.seq_record)\n",
    "        print('**Residue-level properties calculated from structure:')\n",
    "        print(sr_st.letter_annotations)\n",
    "        print('--------------------------------')\n",
    "        \n",
    "        # Get structure residue numbers\n",
    "        res = my_protein.representative_structure.map_repseq_resnums_to_structure_resnums(my_protein.representative_sequence,\n",
    "                                                                                          resnums=list(range(f.location.start+1, f.location.end+1)))\n",
    "        metal_binding_structure_residues.append(res[f.location.start+1][1])"
   ]
  },
  {
   "cell_type": "markdown",
   "metadata": {},
   "source": [
    "### Visualizing residues"
   ]
  },
  {
   "cell_type": "code",
   "execution_count": 29,
   "metadata": {
    "collapsed": false
   },
   "outputs": [
    {
     "data": {
      "text/plain": [
       "[710, 769, 772]"
      ]
     },
     "execution_count": 29,
     "metadata": {},
     "output_type": "execute_result"
    }
   ],
   "source": [
    "metal_binding_structure_residues"
   ]
  },
  {
   "cell_type": "code",
   "execution_count": 30,
   "metadata": {
    "collapsed": false
   },
   "outputs": [
    {
     "name": "stderr",
     "output_type": "stream",
     "text": [
      "[2017-04-29 10:50] [ssbio.protein.structure.structprop] INFO: Selection: ( :A ) and not hydrogen and ( 769 or 772 or 710 )\n"
     ]
    }
   ],
   "source": [
    "my_protein.representative_structure.view_structure_and_highlight_residues(metal_binding_structure_residues)"
   ]
  }
 ],
 "metadata": {
  "_draft": {
   "nbviewer_url": "https://gist.github.com/342e44766d1dda637e975a4ef61dae19"
  },
  "anaconda-cloud": {},
  "celltoolbar": "Raw Cell Format",
  "gist": {
   "data": {
    "description": "GEM-PRO pipeline example for a list of gene IDs",
    "public": false
   },
   "id": "342e44766d1dda637e975a4ef61dae19"
  },
  "kernelspec": {
   "display_name": "Python [default]",
   "language": "python",
   "name": "python3"
  },
  "language_info": {
   "codemirror_mode": {
    "name": "ipython",
    "version": 3
   },
   "file_extension": ".py",
   "mimetype": "text/x-python",
   "name": "python",
   "nbconvert_exporter": "python",
   "pygments_lexer": "ipython3",
   "version": "3.5.2"
  },
  "widgets": {
   "state": {
    "0cba6139a3fc4352a4cdc8285b83a1ad": {
     "views": [
      {
       "cell_index": 38
      }
     ]
    },
    "53c1a3c76396402ab589d9b8bebe4207": {
     "views": [
      {
       "cell_index": 53
      }
     ]
    },
    "603e329b45d1401b91d45218e235518f": {
     "views": [
      {
       "cell_index": 38
      }
     ]
    },
    "635949d2e2264f68ab64eb15d8b0d84c": {
     "views": [
      {
       "cell_index": 22
      }
     ]
    },
    "67672eb816134459b088e472f492233c": {
     "views": [
      {
       "cell_index": 25
      }
     ]
    },
    "a32cc280dde841fbbfd55d94129cab06": {
     "views": [
      {
       "cell_index": 40
      }
     ]
    },
    "a98c846e17a04025bea78bde86828806": {
     "views": [
      {
       "cell_index": 33
      }
     ]
    },
    "ad723b4a3928465bab4feba8c137db2b": {
     "views": [
      {
       "cell_index": 31
      }
     ]
    },
    "b09ea0d63b6d4d5da2ee4117931c0f49": {
     "views": [
      {
       "cell_index": 16
      }
     ]
    },
    "c8c8da932b24442db0dfd3228b81c6d6": {
     "views": [
      {
       "cell_index": 20
      }
     ]
    },
    "cc42a8e79e1b49eda9ce27bd9a097ddf": {
     "views": [
      {
       "cell_index": 26
      }
     ]
    },
    "cdbf0c59b063409b8251defcac80063c": {
     "views": [
      {
       "cell_index": 36
      }
     ]
    },
    "d3275e5ad3324b3580a18560ed50de56": {
     "views": [
      {
       "cell_index": 44
      }
     ]
    },
    "d81d98d3f7c544649920b61f86fb79d7": {
     "views": [
      {
       "cell_index": 14
      }
     ]
    },
    "def6d9c7f9ec42fc98431d9add71b3ab": {
     "views": [
      {
       "cell_index": 42
      }
     ]
    }
   },
   "version": "1.2.0"
  }
 },
 "nbformat": 4,
 "nbformat_minor": 1
}
