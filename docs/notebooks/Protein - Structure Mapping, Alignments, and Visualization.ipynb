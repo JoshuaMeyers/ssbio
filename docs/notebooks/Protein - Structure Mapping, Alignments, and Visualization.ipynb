{
 "cells": [
  {
   "cell_type": "markdown",
   "metadata": {
    "nbpresent": {
     "id": "e1808ff9-a178-4fb2-b616-c27a20f62b20"
    }
   },
   "source": [
    "# Protein - Structure Mapping, Alignments, and Visualization\n",
    "This notebook gives an example of how to **map a single protein sequence to its structure**, along with conducting sequence alignments and visualizing the mutations.\n",
    "\n",
    "<div class=\"alert alert-info\">\n",
    "\n",
    "**Input:** Protein ID + amino acid sequence + mutated sequence(s)\n",
    "\n",
    "</div>\n",
    "\n",
    "<div class=\"alert alert-info\">\n",
    "\n",
    "**Output:** Representative protein structure, sequence alignments, and visualization of mutations\n",
    "\n",
    "</div>"
   ]
  },
  {
   "cell_type": "markdown",
   "metadata": {
    "nbpresent": {
     "id": "a2024d0e-b7a0-4695-9221-2f4bdca8fde4"
    }
   },
   "source": [
    "## Imports"
   ]
  },
  {
   "cell_type": "code",
   "execution_count": 1,
   "metadata": {
    "collapsed": true
   },
   "outputs": [],
   "source": [
    "import sys\n",
    "import logging"
   ]
  },
  {
   "cell_type": "code",
   "execution_count": 2,
   "metadata": {
    "collapsed": true,
    "nbpresent": {
     "id": "c7b2d452-50bd-48b5-a1ac-f38865a2173d"
    }
   },
   "outputs": [],
   "source": [
    "# Import the Protein class\n",
    "from ssbio.core.protein import Protein"
   ]
  },
  {
   "cell_type": "code",
   "execution_count": 3,
   "metadata": {
    "collapsed": true,
    "nbpresent": {
     "id": "f99973a2-f1b7-4dac-8ec7-fabd88ab0db9"
    }
   },
   "outputs": [],
   "source": [
    "# Printing multiple outputs per cell\n",
    "from IPython.core.interactiveshell import InteractiveShell\n",
    "InteractiveShell.ast_node_interactivity = \"all\""
   ]
  },
  {
   "cell_type": "markdown",
   "metadata": {
    "nbpresent": {
     "id": "badf2c2d-127c-4407-adaf-20cae0c1cb9e"
    }
   },
   "source": [
    "### Logging\n",
    "\n",
    "Set the logging level in `logger.setLevel(logging.<LEVEL_HERE>)` to specify how verbose you want the pipeline to be. Debug is most verbose.\n",
    "\n",
    "- `CRITICAL`\n",
    "     - Only really important messages shown\n",
    "- `ERROR`\n",
    "     - Major errors\n",
    "- `WARNING`\n",
    "     - Warnings that don't affect running of the pipeline\n",
    "- `INFO` (default)\n",
    "     - Info such as the number of structures mapped per gene\n",
    "- `DEBUG`\n",
    "     - Really detailed information that will print out a lot of stuff\n",
    "     \n",
    "<p><div class=\"alert alert-warning\">**Warning:** `DEBUG` mode prints out a large amount of information, especially if you have a lot of genes. This may stall your notebook!</div></p>"
   ]
  },
  {
   "cell_type": "code",
   "execution_count": 4,
   "metadata": {
    "collapsed": true
   },
   "outputs": [],
   "source": [
    "# Create logger\n",
    "logger = logging.getLogger()\n",
    "logger.setLevel(logging.INFO)  # SET YOUR LOGGING LEVEL HERE #"
   ]
  },
  {
   "cell_type": "code",
   "execution_count": 5,
   "metadata": {
    "collapsed": true,
    "nbpresent": {
     "id": "123feaab-3a42-44fe-93d1-5a6d499d95a0"
    }
   },
   "outputs": [],
   "source": [
    "# Other logger stuff for Jupyter notebooks\n",
    "handler = logging.StreamHandler(sys.stderr)\n",
    "formatter = logging.Formatter('[%(asctime)s] [%(name)s] %(levelname)s: %(message)s', datefmt=\"%Y-%m-%d %H:%M\")\n",
    "handler.setFormatter(formatter)\n",
    "logger.handlers = [handler]"
   ]
  },
  {
   "cell_type": "markdown",
   "metadata": {
    "nbpresent": {
     "id": "cec7affb-87de-453c-b49c-27d9873ca05c"
    }
   },
   "source": [
    "## Initialization of the project\n",
    "\n",
    "Set these three things:\n",
    "\n",
    "- `ROOT_DIR`\n",
    "    - The directory where a folder named after your `PROTEIN_ID` will be created\n",
    "- `PROTEIN_ID`\n",
    "    - Your protein ID\n",
    "- `PROTEIN_SEQ`\n",
    "    - Your protein sequence\n",
    "    \n",
    "A directory will be created in `ROOT_DIR` with your `PROTEIN_ID` name. The folders are organized like so:\n",
    "```\n",
    "    ROOT_DIR\n",
    "    └── PROTEIN_ID\n",
    "        ├── sequences  # Protein sequence files, alignments, etc.\n",
    "        └── structures  # Protein structure files, calculations, etc.\n",
    "\n",
    "```"
   ]
  },
  {
   "cell_type": "code",
   "execution_count": 6,
   "metadata": {
    "collapsed": true,
    "nbpresent": {
     "id": "606dd61f-6350-4a26-b8f6-5d9cabaf4d53"
    }
   },
   "outputs": [],
   "source": [
    "# SET FOLDERS AND DATA HERE\n",
    "import tempfile\n",
    "ROOT_DIR = tempfile.gettempdir()\n",
    "\n",
    "PROTEIN_ID = 'SRR1753782_00918'\n",
    "PROTEIN_SEQ = 'MSKQQIGVVGMAVMGRNLALNIESRGYTVSVFNRSREKTEEVIAENPGKKLVPYYTVKEFVESLETPRRILLMVKAGAGTDAAIDSLKPYLEKGDIIIDGGNTFFQDTIRRNRELSAEGFNFIGTGVSGGEEGALKGPSIMPGGQKDAYELVAPILTKIAAVAEDGEPCVTYIGADGAGHYVKMVHNGIEYGDMQLIAEAYSLLKGGLNLSNEELANTFTEWNNGELSSYLIDITKDIFTKKDEDGNYLVDVILDEAANKGTGKWTSQSALDLGEPLSLITESVFARYISSLKAQRVAASKVLSGPKAQPAGDKAEFIEKVRRALYLGKIVSYAQGFSQLRAASDEYHWDLNYGEIAKIFRAGCIIRAQFLQKITDAYAENADIANLLLAPYFKKIADEYQQALRDVVAYAVQNGIPVPTFSAAVAYYDSYRAAVLPANLIQAQRDYFGAHTYKRTDKEGIFHTEWLE'"
   ]
  },
  {
   "cell_type": "code",
   "execution_count": 7,
   "metadata": {
    "collapsed": true,
    "nbpresent": {
     "id": "3211664f-c38d-4cf5-8310-b57b5e57562f"
    }
   },
   "outputs": [],
   "source": [
    "# Create the Protein object\n",
    "my_protein = Protein(ident=PROTEIN_ID, root_dir=ROOT_DIR, pdb_file_type='mmtf')"
   ]
  },
  {
   "cell_type": "code",
   "execution_count": 8,
   "metadata": {
    "nbpresent": {
     "id": "40405d5c-c9e7-4068-9148-551143aa290e"
    }
   },
   "outputs": [
    {
     "data": {
      "text/plain": [
       "<SeqProp WT at 0x7ff5fa89fac8>"
      ]
     },
     "execution_count": 8,
     "metadata": {},
     "output_type": "execute_result"
    }
   ],
   "source": [
    "# Load the protein sequence\n",
    "# This sets the loaded sequence as the representative one\n",
    "my_protein.load_manual_sequence(seq=PROTEIN_SEQ, ident='WT', write_fasta_file=True, set_as_representative=True)"
   ]
  },
  {
   "cell_type": "markdown",
   "metadata": {
    "nbpresent": {
     "id": "6366ff85-88bb-40b2-a548-909dc25f20e5"
    }
   },
   "source": [
    "## Mapping sequence --> structure\n",
    "\n",
    "Since the sequence has been provided, we just need to BLAST it to the PDB.\n",
    "\n",
    "<p><div class=\"alert alert-info\">**Note:** These methods do not download any 3D structure files.</div></p>"
   ]
  },
  {
   "cell_type": "markdown",
   "metadata": {
    "nbpresent": {
     "id": "e563de4f-c3b1-4863-b983-cffccf44dbe4"
    }
   },
   "source": [
    "### Methods"
   ]
  },
  {
   "cell_type": "raw",
   "metadata": {
    "raw_mimetype": "text/restructuredtext"
   },
   "source": [
    ".. automethod:: ssbio.core.protein.Protein.blast_representative_sequence_to_pdb\n",
    "    :noindex:"
   ]
  },
  {
   "cell_type": "code",
   "execution_count": 9,
   "metadata": {
    "nbpresent": {
     "id": "432b3a60-e5a6-4243-852d-fb18bf5ff61a"
    }
   },
   "outputs": [
    {
     "data": {
      "text/plain": [
       "['2zyd', '2zya', '3fwn', '2zyg']"
      ]
     },
     "execution_count": 9,
     "metadata": {},
     "output_type": "execute_result"
    },
    {
     "data": {
      "text/html": [
       "<div>\n",
       "<style>\n",
       "    .dataframe thead tr:only-child th {\n",
       "        text-align: right;\n",
       "    }\n",
       "\n",
       "    .dataframe thead th {\n",
       "        text-align: left;\n",
       "    }\n",
       "\n",
       "    .dataframe tbody tr th {\n",
       "        vertical-align: top;\n",
       "    }\n",
       "</style>\n",
       "<table border=\"1\" class=\"dataframe\">\n",
       "  <thead>\n",
       "    <tr style=\"text-align: right;\">\n",
       "      <th></th>\n",
       "      <th>pdb_chain_id</th>\n",
       "      <th>hit_score</th>\n",
       "      <th>hit_evalue</th>\n",
       "      <th>hit_percent_similar</th>\n",
       "      <th>hit_percent_ident</th>\n",
       "      <th>hit_num_ident</th>\n",
       "      <th>hit_num_similar</th>\n",
       "    </tr>\n",
       "    <tr>\n",
       "      <th>pdb_id</th>\n",
       "      <th></th>\n",
       "      <th></th>\n",
       "      <th></th>\n",
       "      <th></th>\n",
       "      <th></th>\n",
       "      <th></th>\n",
       "      <th></th>\n",
       "    </tr>\n",
       "  </thead>\n",
       "  <tbody>\n",
       "    <tr>\n",
       "      <th>2zya</th>\n",
       "      <td>A</td>\n",
       "      <td>2319.0</td>\n",
       "      <td>0.0</td>\n",
       "      <td>0.987179</td>\n",
       "      <td>0.963675</td>\n",
       "      <td>451</td>\n",
       "      <td>462</td>\n",
       "    </tr>\n",
       "    <tr>\n",
       "      <th>2zya</th>\n",
       "      <td>B</td>\n",
       "      <td>2319.0</td>\n",
       "      <td>0.0</td>\n",
       "      <td>0.987179</td>\n",
       "      <td>0.963675</td>\n",
       "      <td>451</td>\n",
       "      <td>462</td>\n",
       "    </tr>\n",
       "    <tr>\n",
       "      <th>2zyd</th>\n",
       "      <td>A</td>\n",
       "      <td>2319.0</td>\n",
       "      <td>0.0</td>\n",
       "      <td>0.987179</td>\n",
       "      <td>0.963675</td>\n",
       "      <td>451</td>\n",
       "      <td>462</td>\n",
       "    </tr>\n",
       "    <tr>\n",
       "      <th>2zyd</th>\n",
       "      <td>B</td>\n",
       "      <td>2319.0</td>\n",
       "      <td>0.0</td>\n",
       "      <td>0.987179</td>\n",
       "      <td>0.963675</td>\n",
       "      <td>451</td>\n",
       "      <td>462</td>\n",
       "    </tr>\n",
       "    <tr>\n",
       "      <th>2zyg</th>\n",
       "      <td>A</td>\n",
       "      <td>2284.0</td>\n",
       "      <td>0.0</td>\n",
       "      <td>0.982906</td>\n",
       "      <td>0.950855</td>\n",
       "      <td>445</td>\n",
       "      <td>460</td>\n",
       "    </tr>\n",
       "  </tbody>\n",
       "</table>\n",
       "</div>"
      ],
      "text/plain": [
       "       pdb_chain_id  hit_score  hit_evalue  hit_percent_similar  \\\n",
       "pdb_id                                                            \n",
       "2zya              A     2319.0         0.0             0.987179   \n",
       "2zya              B     2319.0         0.0             0.987179   \n",
       "2zyd              A     2319.0         0.0             0.987179   \n",
       "2zyd              B     2319.0         0.0             0.987179   \n",
       "2zyg              A     2284.0         0.0             0.982906   \n",
       "\n",
       "        hit_percent_ident  hit_num_ident  hit_num_similar  \n",
       "pdb_id                                                     \n",
       "2zya             0.963675            451              462  \n",
       "2zya             0.963675            451              462  \n",
       "2zyd             0.963675            451              462  \n",
       "2zyd             0.963675            451              462  \n",
       "2zyg             0.950855            445              460  "
      ]
     },
     "execution_count": 9,
     "metadata": {},
     "output_type": "execute_result"
    }
   ],
   "source": [
    "# Mapping using BLAST\n",
    "my_protein.blast_representative_sequence_to_pdb(seq_ident_cutoff=0.9, evalue=0.00001)\n",
    "my_protein.df_pdb_blast.head()"
   ]
  },
  {
   "cell_type": "markdown",
   "metadata": {
    "nbpresent": {
     "id": "56c859a8-bb18-4901-85e4-143bcdb8cb07"
    }
   },
   "source": [
    "## Downloading and ranking structures"
   ]
  },
  {
   "cell_type": "markdown",
   "metadata": {
    "nbpresent": {
     "id": "769939a3-d792-46d0-b152-15be045c908e"
    }
   },
   "source": [
    "### Methods"
   ]
  },
  {
   "cell_type": "raw",
   "metadata": {
    "raw_mimetype": "text/restructuredtext"
   },
   "source": [
    ".. automethod:: ssbio.core.protein.Protein.pdb_downloader_and_metadata\n",
    "    :noindex:"
   ]
  },
  {
   "cell_type": "markdown",
   "metadata": {},
   "source": [
    "<div class=\"alert alert-warning\">\n",
    "\n",
    "**Warning:** \n",
    "Downloading all PDBs takes a while, since they are also parsed for metadata. You can skip this step and just set representative structures below if you want to minimize the number of PDBs downloaded.\n",
    "\n",
    "</div>"
   ]
  },
  {
   "cell_type": "code",
   "execution_count": 10,
   "metadata": {
    "nbpresent": {
     "id": "908d11d2-e3a9-4803-b327-9db024698b9e"
    }
   },
   "outputs": [
    {
     "data": {
      "text/plain": [
       "['2zyd', '2zya', '3fwn', '2zyg']"
      ]
     },
     "execution_count": 10,
     "metadata": {},
     "output_type": "execute_result"
    },
    {
     "data": {
      "text/html": [
       "<div>\n",
       "<style>\n",
       "    .dataframe thead tr:only-child th {\n",
       "        text-align: right;\n",
       "    }\n",
       "\n",
       "    .dataframe thead th {\n",
       "        text-align: left;\n",
       "    }\n",
       "\n",
       "    .dataframe tbody tr th {\n",
       "        vertical-align: top;\n",
       "    }\n",
       "</style>\n",
       "<table border=\"1\" class=\"dataframe\">\n",
       "  <thead>\n",
       "    <tr style=\"text-align: right;\">\n",
       "      <th></th>\n",
       "      <th>pdb_title</th>\n",
       "      <th>description</th>\n",
       "      <th>experimental_method</th>\n",
       "      <th>mapped_chains</th>\n",
       "      <th>resolution</th>\n",
       "      <th>chemicals</th>\n",
       "      <th>taxonomy_name</th>\n",
       "      <th>structure_file</th>\n",
       "    </tr>\n",
       "    <tr>\n",
       "      <th>pdb_id</th>\n",
       "      <th></th>\n",
       "      <th></th>\n",
       "      <th></th>\n",
       "      <th></th>\n",
       "      <th></th>\n",
       "      <th></th>\n",
       "      <th></th>\n",
       "      <th></th>\n",
       "    </tr>\n",
       "  </thead>\n",
       "  <tbody>\n",
       "    <tr>\n",
       "      <th>2zya</th>\n",
       "      <td>Dimeric 6-phosphogluconate dehydrogenase compl...</td>\n",
       "      <td>6-phosphogluconate dehydrogenase, decarboxylat...</td>\n",
       "      <td>X-RAY DIFFRACTION</td>\n",
       "      <td>A;B</td>\n",
       "      <td>1.6</td>\n",
       "      <td>6PG</td>\n",
       "      <td>Escherichia coli</td>\n",
       "      <td>2zya.mmtf</td>\n",
       "    </tr>\n",
       "    <tr>\n",
       "      <th>2zyd</th>\n",
       "      <td>Dimeric 6-phosphogluconate dehydrogenase compl...</td>\n",
       "      <td>6-phosphogluconate dehydrogenase, decarboxylat...</td>\n",
       "      <td>X-RAY DIFFRACTION</td>\n",
       "      <td>A;B</td>\n",
       "      <td>1.5</td>\n",
       "      <td>GLO</td>\n",
       "      <td>Escherichia coli</td>\n",
       "      <td>2zyd.mmtf</td>\n",
       "    </tr>\n",
       "  </tbody>\n",
       "</table>\n",
       "</div>"
      ],
      "text/plain": [
       "                                                pdb_title  \\\n",
       "pdb_id                                                      \n",
       "2zya    Dimeric 6-phosphogluconate dehydrogenase compl...   \n",
       "2zyd    Dimeric 6-phosphogluconate dehydrogenase compl...   \n",
       "\n",
       "                                              description experimental_method  \\\n",
       "pdb_id                                                                          \n",
       "2zya    6-phosphogluconate dehydrogenase, decarboxylat...   X-RAY DIFFRACTION   \n",
       "2zyd    6-phosphogluconate dehydrogenase, decarboxylat...   X-RAY DIFFRACTION   \n",
       "\n",
       "       mapped_chains  resolution chemicals     taxonomy_name structure_file  \n",
       "pdb_id                                                                       \n",
       "2zya             A;B         1.6       6PG  Escherichia coli      2zya.mmtf  \n",
       "2zyd             A;B         1.5       GLO  Escherichia coli      2zyd.mmtf  "
      ]
     },
     "execution_count": 10,
     "metadata": {},
     "output_type": "execute_result"
    }
   ],
   "source": [
    "# Download all mapped PDBs and gather the metadata\n",
    "my_protein.pdb_downloader_and_metadata()\n",
    "my_protein.df_pdb_metadata.head(2)"
   ]
  },
  {
   "cell_type": "raw",
   "metadata": {
    "raw_mimetype": "text/restructuredtext"
   },
   "source": [
    ".. automethod:: ssbio.core.protein.Protein.set_representative_structure\n",
    "    :noindex:"
   ]
  },
  {
   "cell_type": "code",
   "execution_count": 11,
   "metadata": {
    "nbpresent": {
     "id": "b3f297a2-230f-4d61-8dc4-46460b00987b"
    }
   },
   "outputs": [
    {
     "data": {
      "text/plain": [
       "<StructProp REP-2zyd at 0x7ff5f9ac6828>"
      ]
     },
     "execution_count": 11,
     "metadata": {},
     "output_type": "execute_result"
    }
   ],
   "source": [
    "# Set representative structures\n",
    "my_protein.set_representative_structure()"
   ]
  },
  {
   "cell_type": "markdown",
   "metadata": {
    "nbpresent": {
     "id": "89f851fe-4bc9-446e-9c29-fa98fa816411"
    }
   },
   "source": [
    "## Loading and aligning new sequences\n",
    "\n",
    "You can load additional sequences into this protein object and align them to the representative sequence."
   ]
  },
  {
   "cell_type": "markdown",
   "metadata": {
    "nbpresent": {
     "id": "cbe75c19-52d1-49b4-98b7-158b7e740626"
    }
   },
   "source": [
    "### Methods"
   ]
  },
  {
   "cell_type": "raw",
   "metadata": {
    "raw_mimetype": "text/restructuredtext"
   },
   "source": [
    ".. automethod:: ssbio.core.protein.Protein.load_manual_sequence\n",
    "    :noindex:"
   ]
  },
  {
   "cell_type": "code",
   "execution_count": 12,
   "metadata": {
    "nbpresent": {
     "id": "22e5c125-711c-4f76-bac1-32d4817a317a"
    }
   },
   "outputs": [
    {
     "data": {
      "text/plain": [
       "<SeqProp N17P_SNP at 0x7ff5f90be2e8>"
      ]
     },
     "execution_count": 12,
     "metadata": {},
     "output_type": "execute_result"
    }
   ],
   "source": [
    "# Input your mutated sequence and load it\n",
    "mutated_protein1_id = 'N17P_SNP'\n",
    "mutated_protein1_seq = 'MSKQQIGVVGMAVMGRPLALNIESRGYTVSVFNRSREKTEEVIAENPGKKLVPYYTVKEFVESLETPRRILLMVKAGAGTDAAIDSLKPYLEKGDIIIDGGNTFFQDTIRRNRELSAEGFNFIGTGVSGGEEGALKGPSIMPGGQKDAYELVAPILTKIAAVAEDGEPCVTYIGADGAGHYVKMVHNGIEYGDMQLIAEAYSLLKGGLNLSNEELANTFTEWNNGELSSYLIDITKDIFTKKDEDGNYLVDVILDEAANKGTGKWTSQSALDLGEPLSLITESVFARYISSLKAQRVAASKVLSGPKAQPAGDKAEFIEKVRRALYLGKIVSYAQGFSQLRAASDEYHWDLNYGEIAKIFRAGCIIRAQFLQKITDAYAENADIANLLLAPYFKKIADEYQQALRDVVAYAVQNGIPVPTFSAAVAYYDSYRAAVLPANLIQAQRDYFGAHTYKRTDKEGIFHTEWLE'\n",
    "\n",
    "my_protein.load_manual_sequence(ident=mutated_protein1_id, seq=mutated_protein1_seq)"
   ]
  },
  {
   "cell_type": "code",
   "execution_count": 13,
   "metadata": {
    "nbpresent": {
     "id": "5520a794-a911-4064-8634-87bd63395838"
    }
   },
   "outputs": [
    {
     "data": {
      "text/plain": [
       "<SeqProp Q4S_N17P_SNP at 0x7ff5f8c9fb38>"
      ]
     },
     "execution_count": 13,
     "metadata": {},
     "output_type": "execute_result"
    }
   ],
   "source": [
    "# Input another mutated sequence and load it\n",
    "mutated_protein2_id = 'Q4S_N17P_SNP'\n",
    "mutated_protein2_seq = 'MSKSQIGVVGMAVMGRPLALNIESRGYTVSVFNRSREKTEEVIAENPGKKLVPYYTVKEFVESLETPRRILLMVKAGAGTDAAIDSLKPYLEKGDIIIDGGNTFFQDTIRRNRELSAEGFNFIGTGVSGGEEGALKGPSIMPGGQKDAYELVAPILTKIAAVAEDGEPCVTYIGADGAGHYVKMVHNGIEYGDMQLIAEAYSLLKGGLNLSNEELANTFTEWNNGELSSYLIDITKDIFTKKDEDGNYLVDVILDEAANKGTGKWTSQSALDLGEPLSLITESVFARYISSLKAQRVAASKVLSGPKAQPAGDKAEFIEKVRRALYLGKIVSYAQGFSQLRAASDEYHWDLNYGEIAKIFRAGCIIRAQFLQKITDAYAENADIANLLLAPYFKKIADEYQQALRDVVAYAVQNGIPVPTFSAAVAYYDSYRAAVLPANLIQAQRDYFGAHTYKRTDKEGIFHTEWLE'\n",
    "\n",
    "my_protein.load_manual_sequence(ident=mutated_protein2_id, seq=mutated_protein2_seq)"
   ]
  },
  {
   "cell_type": "raw",
   "metadata": {
    "raw_mimetype": "text/restructuredtext"
   },
   "source": [
    ".. automethod:: ssbio.core.protein.Protein.pairwise_align_sequences_to_representative\n",
    "    :noindex:"
   ]
  },
  {
   "cell_type": "code",
   "execution_count": 14,
   "metadata": {
    "collapsed": true,
    "nbpresent": {
     "id": "8397a47d-c06e-4e9b-902a-f0af0a30ba49"
    }
   },
   "outputs": [],
   "source": [
    "# Conduct pairwise sequence alignments\n",
    "my_protein.pairwise_align_sequences_to_representative()"
   ]
  },
  {
   "cell_type": "code",
   "execution_count": 15,
   "metadata": {
    "nbpresent": {
     "id": "8ed1fc21-6ef5-4a76-bcb2-3e25210632e0"
    }
   },
   "outputs": [
    {
     "data": {
      "text/plain": [
       "['WT_2zyd-A',\n",
       " 'WT_2zyd-B',\n",
       " 'SRR1753782_00918_N17P_SNP',\n",
       " 'SRR1753782_00918_Q4S_N17P_SNP']"
      ]
     },
     "execution_count": 15,
     "metadata": {},
     "output_type": "execute_result"
    },
    {
     "data": {
      "text/plain": [
       "{'a_seq': 'WT',\n",
       " 'b_seq': 'N17P_SNP',\n",
       " 'deletions': [],\n",
       " 'gaps': 0,\n",
       " 'identity': 467,\n",
       " 'insertions': [],\n",
       " 'mutations': [('N', 17, 'P')],\n",
       " 'percent_gaps': 0.0,\n",
       " 'percent_identity': 99.8,\n",
       " 'percent_similarity': 99.8,\n",
       " 'score': 2381.0,\n",
       " 'similarity': 467,\n",
       " 'ssbio_type': 'seqalign'}"
      ]
     },
     "execution_count": 15,
     "metadata": {},
     "output_type": "execute_result"
    },
    {
     "data": {
      "text/plain": [
       "'MSKQQIGVVGMAVMGRNLALNIESRGYTVSVFNRSREKTEEVIAENPGKKLVPYYTVKEFVESLETPRRILLMVKAGAGTDAAIDSLKPYLEKGDIIIDGGNTFFQDTIRRNRELSAEGFNFIGTGVSGGEEGALKGPSIMPGGQKDAYELVAPILTKIAAVAEDGEPCVTYIGADGAGHYVKMVHNGIEYGDMQLIAEAYSLLKGGLNLSNEELANTFTEWNNGELSSYLIDITKDIFTKKDEDGNYLVDVILDEAANKGTGKWTSQSALDLGEPLSLITESVFARYISSLKAQRVAASKVLSGPKAQPAGDKAEFIEKVRRALYLGKIVSYAQGFSQLRAASDEYHWDLNYGEIAKIFRAGCIIRAQFLQKITDAYAENADIANLLLAPYFKKIADEYQQALRDVVAYAVQNGIPVPTFSAAVAYYDSYRAAVLPANLIQAQRDYFGAHTYKRTDKEGIFHTEWLE'"
      ]
     },
     "execution_count": 15,
     "metadata": {},
     "output_type": "execute_result"
    },
    {
     "data": {
      "text/plain": [
       "'MSKQQIGVVGMAVMGRPLALNIESRGYTVSVFNRSREKTEEVIAENPGKKLVPYYTVKEFVESLETPRRILLMVKAGAGTDAAIDSLKPYLEKGDIIIDGGNTFFQDTIRRNRELSAEGFNFIGTGVSGGEEGALKGPSIMPGGQKDAYELVAPILTKIAAVAEDGEPCVTYIGADGAGHYVKMVHNGIEYGDMQLIAEAYSLLKGGLNLSNEELANTFTEWNNGELSSYLIDITKDIFTKKDEDGNYLVDVILDEAANKGTGKWTSQSALDLGEPLSLITESVFARYISSLKAQRVAASKVLSGPKAQPAGDKAEFIEKVRRALYLGKIVSYAQGFSQLRAASDEYHWDLNYGEIAKIFRAGCIIRAQFLQKITDAYAENADIANLLLAPYFKKIADEYQQALRDVVAYAVQNGIPVPTFSAAVAYYDSYRAAVLPANLIQAQRDYFGAHTYKRTDKEGIFHTEWLE'"
      ]
     },
     "execution_count": 15,
     "metadata": {},
     "output_type": "execute_result"
    }
   ],
   "source": [
    "# View IDs of all sequence alignments\n",
    "[x.id for x in my_protein.sequence_alignments]\n",
    "\n",
    "# View the stored information for one of the alignments\n",
    "my_alignment = my_protein.sequence_alignments.get_by_id('SRR1753782_00918_N17P_SNP')\n",
    "my_alignment.annotations\n",
    "str(my_alignment[0].seq)\n",
    "str(my_alignment[1].seq)"
   ]
  },
  {
   "cell_type": "raw",
   "metadata": {
    "raw_mimetype": "text/restructuredtext"
   },
   "source": [
    ".. automethod:: ssbio.core.protein.Protein.sequence_mutation_summary\n",
    "    :noindex:"
   ]
  },
  {
   "cell_type": "code",
   "execution_count": 16,
   "metadata": {
    "nbpresent": {
     "id": "8c9b8854-96af-40bd-8084-e6163fbb7c3d"
    }
   },
   "outputs": [
    {
     "name": "stdout",
     "output_type": "stream",
     "text": [
      "Single mutations:\n"
     ]
    },
    {
     "data": {
      "text/plain": [
       "{('N', 17, 'P'): ['N17P_SNP', 'Q4S_N17P_SNP'], ('Q', 4, 'S'): ['Q4S_N17P_SNP']}"
      ]
     },
     "execution_count": 16,
     "metadata": {},
     "output_type": "execute_result"
    },
    {
     "name": "stdout",
     "output_type": "stream",
     "text": [
      "---------------------\n",
      "Mutation fingerprints\n"
     ]
    },
    {
     "data": {
      "text/plain": [
       "{(('N', 17, 'P'),): ['N17P_SNP'],\n",
       " (('Q', 4, 'S'), ('N', 17, 'P')): ['Q4S_N17P_SNP']}"
      ]
     },
     "execution_count": 16,
     "metadata": {},
     "output_type": "execute_result"
    }
   ],
   "source": [
    "# Summarize all the mutations in all sequence alignments\n",
    "s,f = my_protein.sequence_mutation_summary(alignment_type='seqalign')\n",
    "print('Single mutations:')\n",
    "s\n",
    "print('---------------------')\n",
    "print('Mutation fingerprints')\n",
    "f"
   ]
  },
  {
   "cell_type": "markdown",
   "metadata": {},
   "source": [
    "## Some additional methods"
   ]
  },
  {
   "cell_type": "markdown",
   "metadata": {},
   "source": [
    "### Getting binding site/other information from UniProt"
   ]
  },
  {
   "cell_type": "code",
   "execution_count": 17,
   "metadata": {
    "collapsed": true
   },
   "outputs": [],
   "source": [
    "import ssbio.databases.uniprot"
   ]
  },
  {
   "cell_type": "code",
   "execution_count": 18,
   "metadata": {},
   "outputs": [
    {
     "data": {
      "text/plain": [
       "[SeqFeature(FeatureLocation(ExactPosition(9), ExactPosition(15)), type='Nucleotide binding'),\n",
       " SeqFeature(FeatureLocation(ExactPosition(32), ExactPosition(35)), type='Nucleotide binding'),\n",
       " SeqFeature(FeatureLocation(ExactPosition(73), ExactPosition(76)), type='Nucleotide binding'),\n",
       " SeqFeature(FeatureLocation(ExactPosition(127), ExactPosition(130)), type='Region'),\n",
       " SeqFeature(FeatureLocation(ExactPosition(185), ExactPosition(187)), type='Region'),\n",
       " SeqFeature(FeatureLocation(ExactPosition(182), ExactPosition(183)), type='Active site'),\n",
       " SeqFeature(FeatureLocation(ExactPosition(189), ExactPosition(190)), type='Active site'),\n",
       " SeqFeature(FeatureLocation(ExactPosition(101), ExactPosition(102)), type='Binding site'),\n",
       " SeqFeature(FeatureLocation(ExactPosition(101), ExactPosition(102)), type='Binding site'),\n",
       " SeqFeature(FeatureLocation(ExactPosition(190), ExactPosition(191)), type='Binding site'),\n",
       " SeqFeature(FeatureLocation(ExactPosition(259), ExactPosition(260)), type='Binding site'),\n",
       " SeqFeature(FeatureLocation(ExactPosition(286), ExactPosition(287)), type='Binding site'),\n",
       " SeqFeature(FeatureLocation(ExactPosition(444), ExactPosition(445)), type='Binding site'),\n",
       " SeqFeature(FeatureLocation(ExactPosition(450), ExactPosition(451)), type='Binding site'),\n",
       " SeqFeature(FeatureLocation(ExactPosition(0), ExactPosition(468)), type='Chain', id='PRO_0000090047')]"
      ]
     },
     "execution_count": 18,
     "metadata": {},
     "output_type": "execute_result"
    }
   ],
   "source": [
    "this_examples_uniprot = 'P14062'\n",
    "sites = ssbio.databases.uniprot.uniprot_sites(this_examples_uniprot)\n",
    "my_protein.representative_sequence.features = sites\n",
    "my_protein.representative_sequence.features"
   ]
  },
  {
   "cell_type": "markdown",
   "metadata": {
    "nbpresent": {
     "id": "21c519ff-e117-45ed-9658-6bbd409c4c67"
    }
   },
   "source": [
    "## Mapping sequence residue numbers to structure residue numbers"
   ]
  },
  {
   "cell_type": "markdown",
   "metadata": {
    "nbpresent": {
     "id": "62396985-b8cc-43c0-9c1d-0a0f4ff9435a"
    }
   },
   "source": [
    "### Methods"
   ]
  },
  {
   "cell_type": "raw",
   "metadata": {
    "raw_mimetype": "text/restructuredtext"
   },
   "source": [
    ".. automethod:: ssbio.core.protein.Protein.map_seqprop_resnums_to_structprop_resnums\n",
    "    :noindex:"
   ]
  },
  {
   "cell_type": "code",
   "execution_count": 19,
   "metadata": {
    "nbpresent": {
     "id": "5b6c97d8-fdc6-40f4-a81e-012d0f70675f"
    }
   },
   "outputs": [
    {
     "name": "stderr",
     "output_type": "stream",
     "text": [
      "[2017-11-21 19:21] [ssbio.core.protein] WARNING: REP-2zyd-A, 1: structure file does not contain coordinates for this residue\n"
     ]
    },
    {
     "data": {
      "text/plain": [
       "{3: 3, 45: 45}"
      ]
     },
     "execution_count": 19,
     "metadata": {},
     "output_type": "execute_result"
    }
   ],
   "source": [
    "# Returns a dictionary mapping sequence residue numbers to structure residue identifiers\n",
    "# Will warn you if residues are not present in the structure\n",
    "structure_sites = my_protein.map_seqprop_resnums_to_structprop_resnums(resnums=[1,3,45], \n",
    "                                                                       use_representatives=True)\n",
    "structure_sites"
   ]
  },
  {
   "cell_type": "markdown",
   "metadata": {
    "nbpresent": {
     "id": "fbae26a5-e369-4f56-8e54-97750f9003f9"
    }
   },
   "source": [
    "## Viewing structures\n",
    "\n",
    "The awesome package [nglview](https://github.com/arose/nglview) is utilized as a backend for viewing structures within a Jupyter notebook. `ssbio` view functions will either return a `NGLWidget` object, which is the same as using `nglview` like the below example, or act upon the widget object itself.\n",
    "\n",
    "```python\n",
    "# This is how NGLview usually works - it will load a structure file and return a NGLWidget \"view\" object.\n",
    "import nglview\n",
    "view = nglview.show_structure_file(my_protein.representative_structure.structure_path)\n",
    "view\n",
    "```"
   ]
  },
  {
   "cell_type": "markdown",
   "metadata": {
    "nbpresent": {
     "id": "a9b35359-51a9-4fe2-8ee4-11ba5d81dd0e"
    }
   },
   "source": [
    "### Methods"
   ]
  },
  {
   "cell_type": "raw",
   "metadata": {
    "raw_mimetype": "text/restructuredtext"
   },
   "source": [
    ".. automethod:: ssbio.protein.structure.structprop.StructProp.view_structure\n",
    "    :noindex:"
   ]
  },
  {
   "cell_type": "code",
   "execution_count": 20,
   "metadata": {
    "nbpresent": {
     "id": "80ef68cc-2690-4602-b11f-8f38e8e1773d"
    }
   },
   "outputs": [
    {
     "data": {
      "application/vnd.jupyter.widget-view+json": {
       "model_id": "25150c4c68f746b18bec2958d23e7fdf",
       "version_major": 2,
       "version_minor": 0
      },
      "text/html": [
       "<p>Failed to display Jupyter Widget of type <code>NGLWidget</code>.</p>\n",
       "<p>\n",
       "  If you're reading this message in Jupyter Notebook or JupyterLab, it may mean\n",
       "  that the widgets JavaScript is still loading. If this message persists, it\n",
       "  likely means that the widgets JavaScript library is either not installed or\n",
       "  not enabled. See the <a href=\"https://ipywidgets.readthedocs.io/en/stable/user_install.html\">Jupyter\n",
       "  Widgets Documentation</a> for setup instructions.\n",
       "</p>\n",
       "<p>\n",
       "  If you're reading this message in another notebook frontend (for example, a static\n",
       "  rendering on GitHub or <a href=\"https://nbviewer.jupyter.org/\">NBViewer</a>),\n",
       "  it may mean that your frontend doesn't currently support widgets.\n",
       "</p>\n"
      ],
      "text/plain": [
       "NGLWidget()"
      ]
     },
     "metadata": {},
     "output_type": "display_data"
    }
   ],
   "source": [
    "# View just the structure\n",
    "view = my_protein.representative_structure.view_structure()\n",
    "view"
   ]
  },
  {
   "cell_type": "raw",
   "metadata": {
    "raw_mimetype": "text/restructuredtext"
   },
   "source": [
    ".. automethod:: ssbio.core.protein.Protein.add_mutations_to_nglview\n",
    "    :noindex:"
   ]
  },
  {
   "cell_type": "code",
   "execution_count": 21,
   "metadata": {
    "nbpresent": {
     "id": "dc4b0dd9-bb65-49b7-9146-b0779f2ec306"
    }
   },
   "outputs": [
    {
     "name": "stderr",
     "output_type": "stream",
     "text": [
      "[2017-11-21 19:21] [ssbio.protein.structure.structprop] INFO: Selection: ( :A ) and not hydrogen and 17\n",
      "[2017-11-21 19:21] [ssbio.protein.structure.structprop] INFO: Selection: ( :A ) and not hydrogen and 4\n"
     ]
    }
   ],
   "source": [
    "# Map the mutations on the visualization (scale increased) - will show up on the above view\n",
    "my_protein.add_mutations_to_nglview(view=view, alignment_type='seqalign', scale_range=(4,7), \n",
    "                                    use_representatives=True)"
   ]
  },
  {
   "cell_type": "raw",
   "metadata": {
    "raw_mimetype": "text/restructuredtext"
   },
   "source": [
    ".. automethod:: ssbio.core.protein.Protein.add_features_to_nglview\n",
    "    :noindex:"
   ]
  },
  {
   "cell_type": "code",
   "execution_count": 22,
   "metadata": {
    "nbpresent": {
     "id": "1af74fb5-06a9-469b-8bac-0f2bb6836837"
    }
   },
   "outputs": [
    {
     "name": "stderr",
     "output_type": "stream",
     "text": [
      "[2017-11-21 19:21] [ssbio.core.protein] INFO: Active site at sequence residue 183, structure residue 183\n",
      "[2017-11-21 19:21] [ssbio.core.protein] INFO: Active site at sequence residue 190, structure residue 190\n",
      "[2017-11-21 19:21] [ssbio.core.protein] INFO: Binding site at sequence residue 102, structure residue 102\n",
      "[2017-11-21 19:21] [ssbio.core.protein] INFO: Binding site at sequence residue 102, structure residue 102\n",
      "[2017-11-21 19:21] [ssbio.core.protein] INFO: Binding site at sequence residue 191, structure residue 191\n",
      "[2017-11-21 19:21] [ssbio.core.protein] INFO: Binding site at sequence residue 260, structure residue 260\n",
      "[2017-11-21 19:21] [ssbio.core.protein] INFO: Binding site at sequence residue 287, structure residue 287\n",
      "[2017-11-21 19:21] [ssbio.core.protein] INFO: Binding site at sequence residue 445, structure residue 445\n",
      "[2017-11-21 19:21] [ssbio.core.protein] INFO: Binding site at sequence residue 451, structure residue 451\n"
     ]
    }
   ],
   "source": [
    "# Add sites as shown above in the table to the view\n",
    "my_protein.add_features_to_nglview(view=view, use_representatives=True)"
   ]
  },
  {
   "cell_type": "markdown",
   "metadata": {},
   "source": [
    "## Saving"
   ]
  },
  {
   "cell_type": "raw",
   "metadata": {
    "raw_mimetype": "text/restructuredtext"
   },
   "source": [
    ".. automethod:: ssbio.core.protein.Protein.save_json\n",
    "    :noindex:"
   ]
  },
  {
   "cell_type": "code",
   "execution_count": 23,
   "metadata": {},
   "outputs": [
    {
     "name": "stderr",
     "output_type": "stream",
     "text": [
      "[2017-11-21 19:21] [root] WARNING: json-tricks: numpy scalar serialization is experimental and may work differently in future versions\n",
      "[2017-11-21 19:21] [ssbio.core.io] INFO: Saved <class 'ssbio.core.protein.Protein'> (id: SRR1753782_00918) to /tmp/SRR1753782_00918/SRR1753782_00918.json\n"
     ]
    }
   ],
   "source": [
    "import os.path as op\n",
    "my_protein.save_json(op.join(my_protein.protein_dir, '{}.json'.format(my_protein.id)))"
   ]
  }
 ],
 "metadata": {
  "anaconda-cloud": {},
  "celltoolbar": "Raw Cell Format",
  "kernelspec": {
   "display_name": "Python [default]",
   "language": "python",
   "name": "python3"
  },
  "language_info": {
   "codemirror_mode": {
    "name": "ipython",
    "version": 3
   },
   "file_extension": ".py",
   "mimetype": "text/x-python",
   "name": "python",
   "nbconvert_exporter": "python",
   "pygments_lexer": "ipython3",
   "version": "3.6.3"
  },
  "nbpresent": {
   "slides": {
    "157a04b8-becd-45f4-ae6a-d45331b9286d": {
     "id": "157a04b8-becd-45f4-ae6a-d45331b9286d",
     "prev": "5c9e693c-1f0c-4575-bcfc-56402d677e8b",
     "regions": {
      "ba9d0881-51d7-4379-874e-d6393329b3fc": {
       "attrs": {
        "height": 0.8,
        "width": 0.8,
        "x": 0.1,
        "y": 0.1
       },
       "content": {
        "cell": "a2024d0e-b7a0-4695-9221-2f4bdca8fde4",
        "part": "whole"
       },
       "id": "ba9d0881-51d7-4379-874e-d6393329b3fc"
      }
     }
    },
    "16a7e399-dd0b-4395-b6d3-610f81f66eeb": {
     "id": "16a7e399-dd0b-4395-b6d3-610f81f66eeb",
     "prev": "763127e6-e29a-4b91-b24f-e9fb06a4a10d",
     "regions": {
      "47b84c51-8f60-4ace-96d2-6b2e0ddc117c": {
       "attrs": {
        "height": 0.8,
        "width": 0.8,
        "x": 0.1,
        "y": 0.1
       },
       "content": {
        "cell": "cbe75c19-52d1-49b4-98b7-158b7e740626",
        "part": "whole"
       },
       "id": "47b84c51-8f60-4ace-96d2-6b2e0ddc117c"
      }
     }
    },
    "18bb9831-7a11-42e0-80f0-9cca2cfa6f3b": {
     "id": "18bb9831-7a11-42e0-80f0-9cca2cfa6f3b",
     "prev": "df3cb41a-0ea2-4b69-a0be-f0123592edf3",
     "regions": {
      "52452efb-3a0b-4046-9ae4-ed9ad94531b5": {
       "attrs": {
        "height": 0.8,
        "width": 0.8,
        "x": 0.1,
        "y": 0.1
       },
       "content": {
        "cell": "8397a47d-c06e-4e9b-902a-f0af0a30ba49",
        "part": "whole"
       },
       "id": "52452efb-3a0b-4046-9ae4-ed9ad94531b5"
      }
     }
    },
    "224a1535-c07a-4e46-8ea5-77f1cc08f5bd": {
     "id": "224a1535-c07a-4e46-8ea5-77f1cc08f5bd",
     "prev": "663f092f-985e-4932-8a41-b9ccdaeecef6",
     "regions": {
      "b9b48e3e-1100-45d7-9ec6-7a46ff521058": {
       "attrs": {
        "height": 0.8,
        "width": 0.8,
        "x": 0.1,
        "y": 0.1
       },
       "content": {
        "cell": "b3f297a2-230f-4d61-8dc4-46460b00987b",
        "part": "whole"
       },
       "id": "b9b48e3e-1100-45d7-9ec6-7a46ff521058"
      }
     }
    },
    "232966f7-1f13-4e68-86e6-deba85a5316f": {
     "id": "232966f7-1f13-4e68-86e6-deba85a5316f",
     "prev": "684f642b-ceca-44d6-92af-47d019889a20",
     "regions": {
      "e80b53b9-3901-4429-82af-b3a0c69a857d": {
       "attrs": {
        "height": 0.8,
        "width": 0.8,
        "x": 0.1,
        "y": 0.1
       },
       "content": {
        "cell": "6366ff85-88bb-40b2-a548-909dc25f20e5",
        "part": "whole"
       },
       "id": "e80b53b9-3901-4429-82af-b3a0c69a857d"
      }
     }
    },
    "27f1e32c-943f-45cc-ab17-c0b355623238": {
     "id": "27f1e32c-943f-45cc-ab17-c0b355623238",
     "prev": "18bb9831-7a11-42e0-80f0-9cca2cfa6f3b",
     "regions": {
      "edcaec32-ac2e-4281-a6b1-2b3fdc1835c9": {
       "attrs": {
        "height": 0.8,
        "width": 0.8,
        "x": 0.1,
        "y": 0.1
       },
       "content": {
        "cell": "8ed1fc21-6ef5-4a76-bcb2-3e25210632e0",
        "part": "whole"
       },
       "id": "edcaec32-ac2e-4281-a6b1-2b3fdc1835c9"
      }
     }
    },
    "28819a21-efe0-4cc9-a1a9-4b896b0884a6": {
     "id": "28819a21-efe0-4cc9-a1a9-4b896b0884a6",
     "prev": "d10ba35f-ceb9-4265-97ac-4a2c6bf2ac86",
     "regions": {
      "efed7775-a413-4e09-9d64-971a97af1172": {
       "attrs": {
        "height": 0.8,
        "width": 0.8,
        "x": 0.1,
        "y": 0.1
       },
       "content": {
        "cell": "fbae26a5-e369-4f56-8e54-97750f9003f9",
        "part": "whole"
       },
       "id": "efed7775-a413-4e09-9d64-971a97af1172"
      }
     }
    },
    "2a0a4198-c98f-493c-8235-faf97ee5cb74": {
     "id": "2a0a4198-c98f-493c-8235-faf97ee5cb74",
     "prev": "d751ef97-9379-4c87-8f08-a3335b6ef8c7",
     "regions": {
      "56964d6b-f159-4dcc-bac8-021107bcd10b": {
       "attrs": {
        "height": 0.8,
        "width": 0.8,
        "x": 0.1,
        "y": 0.1
       },
       "content": {
        "cell": "1af74fb5-06a9-469b-8bac-0f2bb6836837",
        "part": "whole"
       },
       "id": "56964d6b-f159-4dcc-bac8-021107bcd10b"
      }
     }
    },
    "350fdc11-888a-4200-ad84-08a273ba94a1": {
     "id": "350fdc11-888a-4200-ad84-08a273ba94a1",
     "prev": "59d43bdd-463e-4d81-84d2-42757ee47833",
     "regions": {
      "c2604f4b-068e-4aa7-9400-98c77a1cb1f2": {
       "attrs": {
        "height": 0.8,
        "width": 0.8,
        "x": 0.1,
        "y": 0.1
       },
       "content": {
        "cell": "ccab9877-0d6c-4224-983c-be7b3ce0cf9b",
        "part": "whole"
       },
       "id": "c2604f4b-068e-4aa7-9400-98c77a1cb1f2"
      }
     }
    },
    "3b4a2e49-f9bc-491a-8b87-a208a6cb2d83": {
     "id": "3b4a2e49-f9bc-491a-8b87-a208a6cb2d83",
     "prev": "cb9331a2-31f7-45e4-ad1a-556be0662da2",
     "regions": {
      "0453d5c2-7293-42d0-bd5b-c2631d1cc2cf": {
       "attrs": {
        "height": 0.8,
        "width": 0.8,
        "x": 0.1,
        "y": 0.1
       },
       "content": {
        "cell": "18254fcc-caf7-4af9-8c52-51ad78b9b41d",
        "part": "whole"
       },
       "id": "0453d5c2-7293-42d0-bd5b-c2631d1cc2cf"
      }
     }
    },
    "48b00f0e-9432-461d-95bf-50d69b5a2abb": {
     "id": "48b00f0e-9432-461d-95bf-50d69b5a2abb",
     "prev": "70c85326-d481-4473-ae39-994640afb4dc",
     "regions": {
      "be7f84c4-59a2-4ea2-a644-92a56c9bd267": {
       "attrs": {
        "height": 0.8,
        "width": 0.8,
        "x": 0.1,
        "y": 0.1
       },
       "content": {
        "cell": "22e5c125-711c-4f76-bac1-32d4817a317a",
        "part": "whole"
       },
       "id": "be7f84c4-59a2-4ea2-a644-92a56c9bd267"
      }
     }
    },
    "5572bb9e-f50b-453f-ab6b-3801943c08b4": {
     "id": "5572bb9e-f50b-453f-ab6b-3801943c08b4",
     "prev": "93a7de3d-d912-4daf-8c1f-18365f14ee52",
     "regions": {
      "370adc73-2475-4871-9b26-ca67d32c63c8": {
       "attrs": {
        "height": 0.8,
        "width": 0.8,
        "x": 0.1,
        "y": 0.1
       },
       "content": {
        "cell": "80ef68cc-2690-4602-b11f-8f38e8e1773d",
        "part": "whole"
       },
       "id": "370adc73-2475-4871-9b26-ca67d32c63c8"
      }
     }
    },
    "58bc09f4-ddac-4105-93a9-46e3b52e658b": {
     "id": "58bc09f4-ddac-4105-93a9-46e3b52e658b",
     "prev": "fc8ce3da-0e4c-4e21-b229-354c5e42c944",
     "regions": {
      "da309218-2aef-4308-980f-8d438a070121": {
       "attrs": {
        "height": 0.8,
        "width": 0.8,
        "x": 0.1,
        "y": 0.1
       },
       "content": {
        "cell": "cec7affb-87de-453c-b49c-27d9873ca05c",
        "part": "whole"
       },
       "id": "da309218-2aef-4308-980f-8d438a070121"
      }
     }
    },
    "59d43bdd-463e-4d81-84d2-42757ee47833": {
     "id": "59d43bdd-463e-4d81-84d2-42757ee47833",
     "prev": "ccb44894-4ff9-4061-9680-0b29a24fe71d",
     "regions": {
      "8b10023e-d096-444b-92b7-9d9f1a5230cb": {
       "attrs": {
        "height": 0.8,
        "width": 0.8,
        "x": 0.1,
        "y": 0.1
       },
       "content": {
        "cell": "62396985-b8cc-43c0-9c1d-0a0f4ff9435a",
        "part": "whole"
       },
       "id": "8b10023e-d096-444b-92b7-9d9f1a5230cb"
      }
     }
    },
    "5c9e693c-1f0c-4575-bcfc-56402d677e8b": {
     "id": "5c9e693c-1f0c-4575-bcfc-56402d677e8b",
     "prev": null,
     "regions": {
      "adc09205-beb7-4cbd-bdf1-3e571359f39c": {
       "attrs": {
        "height": 0.8,
        "width": 0.8,
        "x": 0.1,
        "y": 0.1
       },
       "id": "adc09205-beb7-4cbd-bdf1-3e571359f39c"
      }
     },
     "theme": null
    },
    "663f092f-985e-4932-8a41-b9ccdaeecef6": {
     "id": "663f092f-985e-4932-8a41-b9ccdaeecef6",
     "prev": "a3c91bd5-22dd-46eb-8bfb-b9c798f8ed3a",
     "regions": {
      "d548f4fc-6175-4cce-a453-4e88f2fe8161": {
       "attrs": {
        "height": 0.8,
        "width": 0.8,
        "x": 0.1,
        "y": 0.1
       },
       "content": {
        "cell": "c49caf9d-dc39-46b6-ae08-287740bef163",
        "part": "whole"
       },
       "id": "d548f4fc-6175-4cce-a453-4e88f2fe8161"
      }
     }
    },
    "684f642b-ceca-44d6-92af-47d019889a20": {
     "id": "684f642b-ceca-44d6-92af-47d019889a20",
     "prev": "ba8f8326-e3cc-4c5b-9c45-c7980ddaf7b8",
     "regions": {
      "e42315ee-eb77-4452-ba1b-130a23abe7aa": {
       "attrs": {
        "height": 0.8,
        "width": 0.8,
        "x": 0.1,
        "y": 0.1
       },
       "content": {
        "cell": "40405d5c-c9e7-4068-9148-551143aa290e",
        "part": "whole"
       },
       "id": "e42315ee-eb77-4452-ba1b-130a23abe7aa"
      }
     }
    },
    "685ba19d-ea3a-4957-806c-58fb08b813ea": {
     "id": "685ba19d-ea3a-4957-806c-58fb08b813ea",
     "prev": "a45bc057-2dce-435e-986e-e3dc0afcfc5a",
     "regions": {
      "4cfe3247-dbb2-4e0f-b44e-fa4e398462d2": {
       "attrs": {
        "height": 0.8,
        "width": 0.8,
        "x": 0.1,
        "y": 0.1
       },
       "content": {
        "cell": "3e4188f5-afed-4f48-9f24-7a4284a7ac04",
        "part": "whole"
       },
       "id": "4cfe3247-dbb2-4e0f-b44e-fa4e398462d2"
      }
     }
    },
    "695da414-9d23-430c-aa41-2261a39a4487": {
     "id": "695da414-9d23-430c-aa41-2261a39a4487",
     "prev": "3b4a2e49-f9bc-491a-8b87-a208a6cb2d83",
     "regions": {
      "61933a72-30f3-47e6-8677-0ed7ba82c288": {
       "attrs": {
        "height": 0.8,
        "width": 0.8,
        "x": 0.1,
        "y": 0.1
       },
       "content": {
        "cell": "432b3a60-e5a6-4243-852d-fb18bf5ff61a",
        "part": "whole"
       },
       "id": "61933a72-30f3-47e6-8677-0ed7ba82c288"
      }
     }
    },
    "69b9f2c1-9f7d-4455-a092-d462f37e38c3": {
     "id": "69b9f2c1-9f7d-4455-a092-d462f37e38c3",
     "prev": "28819a21-efe0-4cc9-a1a9-4b896b0884a6",
     "regions": {
      "166c899c-f561-4087-b24e-434f23fbffcc": {
       "attrs": {
        "height": 0.8,
        "width": 0.8,
        "x": 0.1,
        "y": 0.1
       },
       "content": {
        "cell": "a9b35359-51a9-4fe2-8ee4-11ba5d81dd0e",
        "part": "whole"
       },
       "id": "166c899c-f561-4087-b24e-434f23fbffcc"
      }
     }
    },
    "70c85326-d481-4473-ae39-994640afb4dc": {
     "id": "70c85326-d481-4473-ae39-994640afb4dc",
     "prev": "16a7e399-dd0b-4395-b6d3-610f81f66eeb",
     "regions": {
      "92685a8e-4ef3-4520-b8a0-88d3be23abd0": {
       "attrs": {
        "height": 0.8,
        "width": 0.8,
        "x": 0.1,
        "y": 0.1
       },
       "content": {
        "cell": "d924bffc-2232-4e13-8b6d-38a8fced1f58",
        "part": "whole"
       },
       "id": "92685a8e-4ef3-4520-b8a0-88d3be23abd0"
      }
     }
    },
    "763127e6-e29a-4b91-b24f-e9fb06a4a10d": {
     "id": "763127e6-e29a-4b91-b24f-e9fb06a4a10d",
     "prev": "224a1535-c07a-4e46-8ea5-77f1cc08f5bd",
     "regions": {
      "db3cf4bd-06ce-41ad-8548-fd88142f65c7": {
       "attrs": {
        "height": 0.8,
        "width": 0.8,
        "x": 0.1,
        "y": 0.1
       },
       "content": {
        "cell": "89f851fe-4bc9-446e-9c29-fa98fa816411",
        "part": "whole"
       },
       "id": "db3cf4bd-06ce-41ad-8548-fd88142f65c7"
      }
     }
    },
    "7af1b790-96b3-4325-b4b1-fb74c9405595": {
     "id": "7af1b790-96b3-4325-b4b1-fb74c9405595",
     "prev": "350fdc11-888a-4200-ad84-08a273ba94a1",
     "regions": {
      "6d1cbcf6-a57b-4263-b5d4-8c2f8d58b94a": {
       "attrs": {
        "height": 0.8,
        "width": 0.8,
        "x": 0.1,
        "y": 0.1
       },
       "content": {
        "cell": "5b6c97d8-fdc6-40f4-a81e-012d0f70675f",
        "part": "whole"
       },
       "id": "6d1cbcf6-a57b-4263-b5d4-8c2f8d58b94a"
      }
     }
    },
    "7eacc7b5-bb2c-4136-adee-898d99f1b1c0": {
     "id": "7eacc7b5-bb2c-4136-adee-898d99f1b1c0",
     "prev": "695da414-9d23-430c-aa41-2261a39a4487",
     "regions": {
      "1f1f3c8f-8ada-4928-a64d-1ac8a2e9a6b2": {
       "attrs": {
        "height": 0.8,
        "width": 0.8,
        "x": 0.1,
        "y": 0.1
       },
       "content": {
        "cell": "56c859a8-bb18-4901-85e4-143bcdb8cb07",
        "part": "whole"
       },
       "id": "1f1f3c8f-8ada-4928-a64d-1ac8a2e9a6b2"
      }
     }
    },
    "93a7de3d-d912-4daf-8c1f-18365f14ee52": {
     "id": "93a7de3d-d912-4daf-8c1f-18365f14ee52",
     "prev": "69b9f2c1-9f7d-4455-a092-d462f37e38c3",
     "regions": {
      "54883a17-907c-4138-9814-9a04582e3af0": {
       "attrs": {
        "height": 0.8,
        "width": 0.8,
        "x": 0.1,
        "y": 0.1
       },
       "content": {
        "cell": "99c88e5a-d339-4113-bdf2-c30dc19a2d8f",
        "part": "whole"
       },
       "id": "54883a17-907c-4138-9814-9a04582e3af0"
      }
     }
    },
    "a3c91bd5-22dd-46eb-8bfb-b9c798f8ed3a": {
     "id": "a3c91bd5-22dd-46eb-8bfb-b9c798f8ed3a",
     "prev": "685ba19d-ea3a-4957-806c-58fb08b813ea",
     "regions": {
      "80e137ea-d00f-4c26-ab33-5bc35363039e": {
       "attrs": {
        "height": 0.8,
        "width": 0.8,
        "x": 0.1,
        "y": 0.1
       },
       "content": {
        "cell": "908d11d2-e3a9-4803-b327-9db024698b9e",
        "part": "whole"
       },
       "id": "80e137ea-d00f-4c26-ab33-5bc35363039e"
      }
     }
    },
    "a45bc057-2dce-435e-986e-e3dc0afcfc5a": {
     "id": "a45bc057-2dce-435e-986e-e3dc0afcfc5a",
     "prev": "7eacc7b5-bb2c-4136-adee-898d99f1b1c0",
     "regions": {
      "2a547cb1-0f2f-4ef4-b498-0f15e3214b94": {
       "attrs": {
        "height": 0.8,
        "width": 0.8,
        "x": 0.1,
        "y": 0.1
       },
       "content": {
        "cell": "769939a3-d792-46d0-b152-15be045c908e",
        "part": "whole"
       },
       "id": "2a547cb1-0f2f-4ef4-b498-0f15e3214b94"
      }
     }
    },
    "a7b3c13e-cf5a-46cd-9345-5aa6546b7d13": {
     "id": "a7b3c13e-cf5a-46cd-9345-5aa6546b7d13",
     "prev": "48b00f0e-9432-461d-95bf-50d69b5a2abb",
     "regions": {
      "6d88dfd2-d4b5-4fb5-a368-2b9f7a83bb70": {
       "attrs": {
        "height": 0.8,
        "width": 0.8,
        "x": 0.1,
        "y": 0.1
       },
       "content": {
        "cell": "5520a794-a911-4064-8634-87bd63395838",
        "part": "whole"
       },
       "id": "6d88dfd2-d4b5-4fb5-a368-2b9f7a83bb70"
      }
     }
    },
    "a881c8cd-9cb6-4414-a2e4-a741ad6b5788": {
     "id": "a881c8cd-9cb6-4414-a2e4-a741ad6b5788",
     "prev": "5572bb9e-f50b-453f-ab6b-3801943c08b4",
     "regions": {
      "25d7afe8-7e49-4c32-88b8-aaa9adc34caf": {
       "attrs": {
        "height": 0.8,
        "width": 0.8,
        "x": 0.1,
        "y": 0.1
       },
       "content": {
        "cell": "5758470a-71e4-4e48-a797-dffde6711571",
        "part": "whole"
       },
       "id": "25d7afe8-7e49-4c32-88b8-aaa9adc34caf"
      }
     }
    },
    "b5ffb0b9-32d8-409a-a17f-c3b34d4ecd4e": {
     "id": "b5ffb0b9-32d8-409a-a17f-c3b34d4ecd4e",
     "prev": "f1a62424-903e-4733-ad5d-1ec7603394b4",
     "regions": {
      "e6aa0004-b081-4dca-820a-d655a1184af4": {
       "attrs": {
        "height": 0.8,
        "width": 0.8,
        "x": 0.1,
        "y": 0.1
       },
       "content": {
        "cell": "f99973a2-f1b7-4dac-8ec7-fabd88ab0db9",
        "part": "whole"
       },
       "id": "e6aa0004-b081-4dca-820a-d655a1184af4"
      }
     }
    },
    "ba8f8326-e3cc-4c5b-9c45-c7980ddaf7b8": {
     "id": "ba8f8326-e3cc-4c5b-9c45-c7980ddaf7b8",
     "prev": "faf996c1-ab90-4e21-9210-02ab341ff7ee",
     "regions": {
      "1bd6f438-a1cb-4b11-895c-fa04c1c32fa1": {
       "attrs": {
        "height": 0.8,
        "width": 0.8,
        "x": 0.1,
        "y": 0.1
       },
       "content": {
        "cell": "3211664f-c38d-4cf5-8310-b57b5e57562f",
        "part": "whole"
       },
       "id": "1bd6f438-a1cb-4b11-895c-fa04c1c32fa1"
      }
     }
    },
    "cafc0d85-e53a-4cea-9ace-de54833a78a0": {
     "id": "cafc0d85-e53a-4cea-9ace-de54833a78a0",
     "prev": "27f1e32c-943f-45cc-ab17-c0b355623238",
     "regions": {
      "6398e15d-dc32-4709-8fb6-0ce870f378aa": {
       "attrs": {
        "height": 0.8,
        "width": 0.8,
        "x": 0.1,
        "y": 0.1
       },
       "content": {
        "cell": "0a5e21d3-a387-41e1-8f74-2f74028413a6",
        "part": "whole"
       },
       "id": "6398e15d-dc32-4709-8fb6-0ce870f378aa"
      }
     }
    },
    "cb9331a2-31f7-45e4-ad1a-556be0662da2": {
     "id": "cb9331a2-31f7-45e4-ad1a-556be0662da2",
     "prev": "232966f7-1f13-4e68-86e6-deba85a5316f",
     "regions": {
      "bc6a08c2-b6f9-4089-8bc1-2244b31c3047": {
       "attrs": {
        "height": 0.8,
        "width": 0.8,
        "x": 0.1,
        "y": 0.1
       },
       "content": {
        "cell": "e563de4f-c3b1-4863-b983-cffccf44dbe4",
        "part": "whole"
       },
       "id": "bc6a08c2-b6f9-4089-8bc1-2244b31c3047"
      }
     }
    },
    "ccb44894-4ff9-4061-9680-0b29a24fe71d": {
     "id": "ccb44894-4ff9-4061-9680-0b29a24fe71d",
     "prev": "2a0a4198-c98f-493c-8235-faf97ee5cb74",
     "regions": {
      "94325aab-50e6-4ac0-a94e-af9e2ddd35d0": {
       "attrs": {
        "height": 0.8,
        "width": 0.8,
        "x": 0.1,
        "y": 0.1
       },
       "content": {
        "cell": "21c519ff-e117-45ed-9658-6bbd409c4c67",
        "part": "whole"
       },
       "id": "94325aab-50e6-4ac0-a94e-af9e2ddd35d0"
      }
     }
    },
    "d10ba35f-ceb9-4265-97ac-4a2c6bf2ac86": {
     "id": "d10ba35f-ceb9-4265-97ac-4a2c6bf2ac86",
     "prev": "cafc0d85-e53a-4cea-9ace-de54833a78a0",
     "regions": {
      "9f80f4e2-1900-4b9b-8f4e-414eba159966": {
       "attrs": {
        "height": 0.8,
        "width": 0.8,
        "x": 0.1,
        "y": 0.1
       },
       "content": {
        "cell": "8c9b8854-96af-40bd-8084-e6163fbb7c3d",
        "part": "whole"
       },
       "id": "9f80f4e2-1900-4b9b-8f4e-414eba159966"
      }
     }
    },
    "d751ef97-9379-4c87-8f08-a3335b6ef8c7": {
     "id": "d751ef97-9379-4c87-8f08-a3335b6ef8c7",
     "prev": "f0065a19-f8a5-4b66-be56-1d7d373b7f5e",
     "regions": {
      "70d0bdb8-9a36-47e4-906d-ec11d4f01a18": {
       "attrs": {
        "height": 0.8,
        "width": 0.8,
        "x": 0.1,
        "y": 0.1
       },
       "content": {
        "cell": "cb4be353-1615-4767-afdd-1fc637f37c41",
        "part": "whole"
       },
       "id": "70d0bdb8-9a36-47e4-906d-ec11d4f01a18"
      }
     }
    },
    "df3cb41a-0ea2-4b69-a0be-f0123592edf3": {
     "id": "df3cb41a-0ea2-4b69-a0be-f0123592edf3",
     "prev": "a7b3c13e-cf5a-46cd-9345-5aa6546b7d13",
     "regions": {
      "f97e4a35-5c15-4383-b69d-9744f5ae6fc4": {
       "attrs": {
        "height": 0.8,
        "width": 0.8,
        "x": 0.1,
        "y": 0.1
       },
       "content": {
        "cell": "882b8625-5e2b-41b2-bdad-233e155b5545",
        "part": "whole"
       },
       "id": "f97e4a35-5c15-4383-b69d-9744f5ae6fc4"
      }
     }
    },
    "ef853f2f-35c8-41e5-96dd-23d3420b64b8": {
     "id": "ef853f2f-35c8-41e5-96dd-23d3420b64b8",
     "prev": "b5ffb0b9-32d8-409a-a17f-c3b34d4ecd4e",
     "regions": {
      "2de28ef3-58d1-4002-992d-a593270b900f": {
       "attrs": {
        "height": 0.8,
        "width": 0.8,
        "x": 0.1,
        "y": 0.1
       },
       "content": {
        "cell": "badf2c2d-127c-4407-adaf-20cae0c1cb9e",
        "part": "whole"
       },
       "id": "2de28ef3-58d1-4002-992d-a593270b900f"
      }
     }
    },
    "f0065a19-f8a5-4b66-be56-1d7d373b7f5e": {
     "id": "f0065a19-f8a5-4b66-be56-1d7d373b7f5e",
     "prev": "a881c8cd-9cb6-4414-a2e4-a741ad6b5788",
     "regions": {
      "073007c4-e42a-4c27-b3df-afbb1b356413": {
       "attrs": {
        "height": 0.8,
        "width": 0.8,
        "x": 0.1,
        "y": 0.1
       },
       "content": {
        "cell": "dc4b0dd9-bb65-49b7-9146-b0779f2ec306",
        "part": "whole"
       },
       "id": "073007c4-e42a-4c27-b3df-afbb1b356413"
      }
     }
    },
    "f1a62424-903e-4733-ad5d-1ec7603394b4": {
     "id": "f1a62424-903e-4733-ad5d-1ec7603394b4",
     "prev": "157a04b8-becd-45f4-ae6a-d45331b9286d",
     "regions": {
      "9634aa1e-770c-443e-8cd0-530a5ecf056f": {
       "attrs": {
        "height": 0.8,
        "width": 0.8,
        "x": 0.1,
        "y": 0.1
       },
       "content": {
        "cell": "c7b2d452-50bd-48b5-a1ac-f38865a2173d",
        "part": "whole"
       },
       "id": "9634aa1e-770c-443e-8cd0-530a5ecf056f"
      }
     }
    },
    "faf996c1-ab90-4e21-9210-02ab341ff7ee": {
     "id": "faf996c1-ab90-4e21-9210-02ab341ff7ee",
     "prev": "58bc09f4-ddac-4105-93a9-46e3b52e658b",
     "regions": {
      "b80a2ad9-4592-48e8-a374-20d35dc13a04": {
       "attrs": {
        "height": 0.8,
        "width": 0.8,
        "x": 0.1,
        "y": 0.1
       },
       "content": {
        "cell": "606dd61f-6350-4a26-b8f6-5d9cabaf4d53",
        "part": "whole"
       },
       "id": "b80a2ad9-4592-48e8-a374-20d35dc13a04"
      }
     }
    },
    "fc8ce3da-0e4c-4e21-b229-354c5e42c944": {
     "id": "fc8ce3da-0e4c-4e21-b229-354c5e42c944",
     "prev": "ef853f2f-35c8-41e5-96dd-23d3420b64b8",
     "regions": {
      "ba1e3a65-a4fc-4996-9bcd-e85c1cf699e2": {
       "attrs": {
        "height": 0.8,
        "width": 0.8,
        "x": 0.1,
        "y": 0.1
       },
       "content": {
        "cell": "123feaab-3a42-44fe-93d1-5a6d499d95a0",
        "part": "whole"
       },
       "id": "ba1e3a65-a4fc-4996-9bcd-e85c1cf699e2"
      }
     }
    }
   },
   "themes": {}
  }
 },
 "nbformat": 4,
 "nbformat_minor": 1
}
