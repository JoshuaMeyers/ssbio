{
 "cells": [
  {
   "cell_type": "markdown",
   "metadata": {
    "nbpresent": {
     "id": "e1808ff9-a178-4fb2-b616-c27a20f62b20"
    }
   },
   "source": [
    "# Protein - Structure Mapping, Alignments, and Visualization\n",
    "This notebook gives an example of how to **map a single protein sequence to its structure**, along with conducting sequence alignments and visualizing the mutations.\n",
    "\n",
    "<div class=\"alert alert-info\">\n",
    "\n",
    "**Input:** Protein ID + amino acid sequence + mutated sequence(s)\n",
    "\n",
    "</div>\n",
    "\n",
    "<div class=\"alert alert-info\">\n",
    "\n",
    "**Output:** Representative protein structure, sequence alignments, and visualization of mutations\n",
    "\n",
    "</div>"
   ]
  },
  {
   "cell_type": "markdown",
   "metadata": {
    "nbpresent": {
     "id": "a2024d0e-b7a0-4695-9221-2f4bdca8fde4"
    }
   },
   "source": [
    "## Imports"
   ]
  },
  {
   "cell_type": "code",
   "execution_count": 1,
   "metadata": {
    "collapsed": true
   },
   "outputs": [],
   "source": [
    "import sys\n",
    "import logging"
   ]
  },
  {
   "cell_type": "code",
   "execution_count": 2,
   "metadata": {
    "collapsed": false,
    "nbpresent": {
     "id": "c7b2d452-50bd-48b5-a1ac-f38865a2173d"
    }
   },
   "outputs": [],
   "source": [
    "# Import the Protein class\n",
    "from ssbio.core.protein import Protein"
   ]
  },
  {
   "cell_type": "code",
   "execution_count": 3,
   "metadata": {
    "collapsed": true,
    "nbpresent": {
     "id": "f99973a2-f1b7-4dac-8ec7-fabd88ab0db9"
    }
   },
   "outputs": [],
   "source": [
    "# Printing multiple outputs per cell\n",
    "from IPython.core.interactiveshell import InteractiveShell\n",
    "InteractiveShell.ast_node_interactivity = \"all\""
   ]
  },
  {
   "cell_type": "markdown",
   "metadata": {
    "nbpresent": {
     "id": "badf2c2d-127c-4407-adaf-20cae0c1cb9e"
    }
   },
   "source": [
    "### Logging\n",
    "\n",
    "Set the logging level in `logger.setLevel(logging.<LEVEL_HERE>)` to specify how verbose you want the pipeline to be. Debug is most verbose.\n",
    "\n",
    "- `CRITICAL`\n",
    "     - Only really important messages shown\n",
    "- `ERROR`\n",
    "     - Major errors\n",
    "- `WARNING`\n",
    "     - Warnings that don't affect running of the pipeline\n",
    "- `INFO` (default)\n",
    "     - Info such as the number of structures mapped per gene\n",
    "- `DEBUG`\n",
    "     - Really detailed information that will print out a lot of stuff\n",
    "     \n",
    "<p><div class=\"alert alert-warning\">**Warning:** `DEBUG` mode prints out a large amount of information, especially if you have a lot of genes. This may stall your notebook!</div></p>"
   ]
  },
  {
   "cell_type": "code",
   "execution_count": 4,
   "metadata": {
    "collapsed": true
   },
   "outputs": [],
   "source": [
    "# Create logger\n",
    "logger = logging.getLogger()\n",
    "logger.setLevel(logging.INFO)  # SET YOUR LOGGING LEVEL HERE #"
   ]
  },
  {
   "cell_type": "code",
   "execution_count": 5,
   "metadata": {
    "collapsed": false,
    "nbpresent": {
     "id": "123feaab-3a42-44fe-93d1-5a6d499d95a0"
    }
   },
   "outputs": [],
   "source": [
    "# Other logger stuff for Jupyter notebooks\n",
    "handler = logging.StreamHandler(sys.stderr)\n",
    "formatter = logging.Formatter('[%(asctime)s] [%(name)s] %(levelname)s: %(message)s', datefmt=\"%Y-%m-%d %H:%M\")\n",
    "handler.setFormatter(formatter)\n",
    "logger.handlers = [handler]"
   ]
  },
  {
   "cell_type": "markdown",
   "metadata": {
    "nbpresent": {
     "id": "cec7affb-87de-453c-b49c-27d9873ca05c"
    }
   },
   "source": [
    "## Initialization of the project\n",
    "\n",
    "Set these three things:\n",
    "\n",
    "- `ROOT_DIR`\n",
    "    - The directory where a folder named after your `PROTEIN_ID` will be created\n",
    "- `PROTEIN_ID`\n",
    "    - Your protein ID\n",
    "- `PROTEIN_SEQ`\n",
    "    - Your protein sequence\n",
    "    \n",
    "A directory will be created in `ROOT_DIR` with your `PROTEIN_ID` name. The folders are organized like so:\n",
    "```\n",
    "    ROOT_DIR\n",
    "    └── PROTEIN_ID\n",
    "        ├── sequences  # Protein sequence files, alignments, etc.\n",
    "        └── structures  # Protein structure files, calculations, etc.\n",
    "\n",
    "```"
   ]
  },
  {
   "cell_type": "code",
   "execution_count": 6,
   "metadata": {
    "collapsed": false,
    "nbpresent": {
     "id": "606dd61f-6350-4a26-b8f6-5d9cabaf4d53"
    }
   },
   "outputs": [],
   "source": [
    "# SET FOLDERS AND DATA HERE\n",
    "import tempfile\n",
    "ROOT_DIR = tempfile.gettempdir()\n",
    "\n",
    "PROTEIN_ID = 'SRR1753782_00918'\n",
    "PROTEIN_SEQ = 'MSKQQIGVVGMAVMGRNLALNIESRGYTVSVFNRSREKTEEVIAENPGKKLVPYYTVKEFVESLETPRRILLMVKAGAGTDAAIDSLKPYLEKGDIIIDGGNTFFQDTIRRNRELSAEGFNFIGTGVSGGEEGALKGPSIMPGGQKDAYELVAPILTKIAAVAEDGEPCVTYIGADGAGHYVKMVHNGIEYGDMQLIAEAYSLLKGGLNLSNEELANTFTEWNNGELSSYLIDITKDIFTKKDEDGNYLVDVILDEAANKGTGKWTSQSALDLGEPLSLITESVFARYISSLKAQRVAASKVLSGPKAQPAGDKAEFIEKVRRALYLGKIVSYAQGFSQLRAASDEYHWDLNYGEIAKIFRAGCIIRAQFLQKITDAYAENADIANLLLAPYFKKIADEYQQALRDVVAYAVQNGIPVPTFSAAVAYYDSYRAAVLPANLIQAQRDYFGAHTYKRTDKEGIFHTEWLE'"
   ]
  },
  {
   "cell_type": "code",
   "execution_count": 7,
   "metadata": {
    "collapsed": false,
    "nbpresent": {
     "id": "3211664f-c38d-4cf5-8310-b57b5e57562f"
    }
   },
   "outputs": [],
   "source": [
    "# Create the Protein object\n",
    "my_protein = Protein(ident=PROTEIN_ID, root_dir=ROOT_DIR)"
   ]
  },
  {
   "cell_type": "code",
   "execution_count": 8,
   "metadata": {
    "collapsed": false,
    "nbpresent": {
     "id": "40405d5c-c9e7-4068-9148-551143aa290e"
    }
   },
   "outputs": [
    {
     "data": {
      "text/plain": [
       "<SeqProp WT at 0x7f8e310b02b0>"
      ]
     },
     "execution_count": 8,
     "metadata": {},
     "output_type": "execute_result"
    }
   ],
   "source": [
    "# Load the protein sequence\n",
    "# This sets the loaded sequence as the representative one\n",
    "my_protein.load_manual_sequence(seq=PROTEIN_SEQ, ident='WT', write_fasta_file=True, set_as_representative=True)"
   ]
  },
  {
   "cell_type": "markdown",
   "metadata": {
    "nbpresent": {
     "id": "6366ff85-88bb-40b2-a548-909dc25f20e5"
    }
   },
   "source": [
    "## Mapping sequence --> structure\n",
    "\n",
    "Since the sequence has been provided, we just need to BLAST it to the PDB.\n",
    "\n",
    "<p><div class=\"alert alert-info\">**Note:** These methods do not download any 3D structure files.</div></p>"
   ]
  },
  {
   "cell_type": "markdown",
   "metadata": {
    "nbpresent": {
     "id": "e563de4f-c3b1-4863-b983-cffccf44dbe4"
    }
   },
   "source": [
    "### Methods"
   ]
  },
  {
   "cell_type": "raw",
   "metadata": {
    "raw_mimetype": "text/restructuredtext"
   },
   "source": [
    ".. automethod:: ssbio.core.protein.Protein.blast_representative_sequence_to_pdb\n",
    "    :noindex:"
   ]
  },
  {
   "cell_type": "code",
   "execution_count": 9,
   "metadata": {
    "collapsed": false,
    "nbpresent": {
     "id": "432b3a60-e5a6-4243-852d-fb18bf5ff61a"
    }
   },
   "outputs": [
    {
     "data": {
      "text/plain": [
       "['2zyd', '2zya', '3fwn', '2zyg']"
      ]
     },
     "execution_count": 9,
     "metadata": {},
     "output_type": "execute_result"
    },
    {
     "data": {
      "text/html": [
       "<div>\n",
       "<table border=\"1\" class=\"dataframe\">\n",
       "  <thead>\n",
       "    <tr style=\"text-align: right;\">\n",
       "      <th></th>\n",
       "      <th>pdb_chain_id</th>\n",
       "      <th>hit_score</th>\n",
       "      <th>hit_evalue</th>\n",
       "      <th>hit_percent_similar</th>\n",
       "      <th>hit_percent_ident</th>\n",
       "      <th>hit_num_ident</th>\n",
       "      <th>hit_num_similar</th>\n",
       "    </tr>\n",
       "    <tr>\n",
       "      <th>pdb_id</th>\n",
       "      <th></th>\n",
       "      <th></th>\n",
       "      <th></th>\n",
       "      <th></th>\n",
       "      <th></th>\n",
       "      <th></th>\n",
       "      <th></th>\n",
       "    </tr>\n",
       "  </thead>\n",
       "  <tbody>\n",
       "    <tr>\n",
       "      <th>2zyd</th>\n",
       "      <td>A</td>\n",
       "      <td>2319.0</td>\n",
       "      <td>0.0</td>\n",
       "      <td>0.987179</td>\n",
       "      <td>0.963675</td>\n",
       "      <td>451</td>\n",
       "      <td>462</td>\n",
       "    </tr>\n",
       "    <tr>\n",
       "      <th>2zyd</th>\n",
       "      <td>B</td>\n",
       "      <td>2319.0</td>\n",
       "      <td>0.0</td>\n",
       "      <td>0.987179</td>\n",
       "      <td>0.963675</td>\n",
       "      <td>451</td>\n",
       "      <td>462</td>\n",
       "    </tr>\n",
       "    <tr>\n",
       "      <th>2zya</th>\n",
       "      <td>A</td>\n",
       "      <td>2319.0</td>\n",
       "      <td>0.0</td>\n",
       "      <td>0.987179</td>\n",
       "      <td>0.963675</td>\n",
       "      <td>451</td>\n",
       "      <td>462</td>\n",
       "    </tr>\n",
       "    <tr>\n",
       "      <th>2zya</th>\n",
       "      <td>B</td>\n",
       "      <td>2319.0</td>\n",
       "      <td>0.0</td>\n",
       "      <td>0.987179</td>\n",
       "      <td>0.963675</td>\n",
       "      <td>451</td>\n",
       "      <td>462</td>\n",
       "    </tr>\n",
       "    <tr>\n",
       "      <th>3fwn</th>\n",
       "      <td>A</td>\n",
       "      <td>2312.0</td>\n",
       "      <td>0.0</td>\n",
       "      <td>0.987179</td>\n",
       "      <td>0.963675</td>\n",
       "      <td>451</td>\n",
       "      <td>462</td>\n",
       "    </tr>\n",
       "  </tbody>\n",
       "</table>\n",
       "</div>"
      ],
      "text/plain": [
       "       pdb_chain_id  hit_score  hit_evalue  hit_percent_similar  \\\n",
       "pdb_id                                                            \n",
       "2zyd              A     2319.0         0.0             0.987179   \n",
       "2zyd              B     2319.0         0.0             0.987179   \n",
       "2zya              A     2319.0         0.0             0.987179   \n",
       "2zya              B     2319.0         0.0             0.987179   \n",
       "3fwn              A     2312.0         0.0             0.987179   \n",
       "\n",
       "        hit_percent_ident  hit_num_ident  hit_num_similar  \n",
       "pdb_id                                                     \n",
       "2zyd             0.963675            451              462  \n",
       "2zyd             0.963675            451              462  \n",
       "2zya             0.963675            451              462  \n",
       "2zya             0.963675            451              462  \n",
       "3fwn             0.963675            451              462  "
      ]
     },
     "execution_count": 9,
     "metadata": {},
     "output_type": "execute_result"
    }
   ],
   "source": [
    "# Mapping using BLAST\n",
    "my_protein.blast_representative_sequence_to_pdb(seq_ident_cutoff=0.9, evalue=0.00001)\n",
    "my_protein.df_pdb_blast.head()"
   ]
  },
  {
   "cell_type": "markdown",
   "metadata": {
    "nbpresent": {
     "id": "56c859a8-bb18-4901-85e4-143bcdb8cb07"
    }
   },
   "source": [
    "## Downloading and ranking structures"
   ]
  },
  {
   "cell_type": "markdown",
   "metadata": {
    "nbpresent": {
     "id": "769939a3-d792-46d0-b152-15be045c908e"
    }
   },
   "source": [
    "### Methods"
   ]
  },
  {
   "cell_type": "raw",
   "metadata": {
    "raw_mimetype": "text/restructuredtext"
   },
   "source": [
    ".. automethod:: ssbio.core.protein.Protein.pdb_downloader_and_metadata\n",
    "    :noindex:"
   ]
  },
  {
   "cell_type": "markdown",
   "metadata": {},
   "source": [
    "<div class=\"alert alert-warning\">\n",
    "\n",
    "**Warning:** \n",
    "Downloading all PDBs takes a while, since they are also parsed for metadata. You can skip this step and just set representative structures below if you want to minimize the number of PDBs downloaded.\n",
    "\n",
    "</div>"
   ]
  },
  {
   "cell_type": "code",
   "execution_count": 10,
   "metadata": {
    "collapsed": false,
    "nbpresent": {
     "id": "908d11d2-e3a9-4803-b327-9db024698b9e"
    }
   },
   "outputs": [
    {
     "data": {
      "text/plain": [
       "['2zyd', '2zya', '3fwn', '2zyg']"
      ]
     },
     "execution_count": 10,
     "metadata": {},
     "output_type": "execute_result"
    },
    {
     "data": {
      "text/html": [
       "<div>\n",
       "<table border=\"1\" class=\"dataframe\">\n",
       "  <thead>\n",
       "    <tr style=\"text-align: right;\">\n",
       "      <th></th>\n",
       "      <th>pdb_title</th>\n",
       "      <th>description</th>\n",
       "      <th>experimental_method</th>\n",
       "      <th>mapped_chains</th>\n",
       "      <th>resolution</th>\n",
       "      <th>chemicals</th>\n",
       "      <th>date</th>\n",
       "      <th>taxonomy_name</th>\n",
       "      <th>structure_file</th>\n",
       "    </tr>\n",
       "    <tr>\n",
       "      <th>pdb_id</th>\n",
       "      <th></th>\n",
       "      <th></th>\n",
       "      <th></th>\n",
       "      <th></th>\n",
       "      <th></th>\n",
       "      <th></th>\n",
       "      <th></th>\n",
       "      <th></th>\n",
       "      <th></th>\n",
       "    </tr>\n",
       "  </thead>\n",
       "  <tbody>\n",
       "    <tr>\n",
       "      <th>2zyd</th>\n",
       "      <td>Dimeric 6-phosphogluconate dehydrogenase compl...</td>\n",
       "      <td>6-phosphogluconate dehydrogenase, decarboxylat...</td>\n",
       "      <td>X-RAY DIFFRACTION</td>\n",
       "      <td>A;B</td>\n",
       "      <td>1.5</td>\n",
       "      <td>GLO</td>\n",
       "      <td>2009-09-01;2011-07-13;2014-01-22</td>\n",
       "      <td>Escherichia coli</td>\n",
       "      <td>2zyd.cif</td>\n",
       "    </tr>\n",
       "    <tr>\n",
       "      <th>2zya</th>\n",
       "      <td>Dimeric 6-phosphogluconate dehydrogenase compl...</td>\n",
       "      <td>6-phosphogluconate dehydrogenase, decarboxylat...</td>\n",
       "      <td>X-RAY DIFFRACTION</td>\n",
       "      <td>A;B</td>\n",
       "      <td>1.6</td>\n",
       "      <td>6PG</td>\n",
       "      <td>2009-09-01;2011-07-13;2014-01-22</td>\n",
       "      <td>Escherichia coli</td>\n",
       "      <td>2zya.cif</td>\n",
       "    </tr>\n",
       "  </tbody>\n",
       "</table>\n",
       "</div>"
      ],
      "text/plain": [
       "                                                pdb_title  \\\n",
       "pdb_id                                                      \n",
       "2zyd    Dimeric 6-phosphogluconate dehydrogenase compl...   \n",
       "2zya    Dimeric 6-phosphogluconate dehydrogenase compl...   \n",
       "\n",
       "                                              description experimental_method  \\\n",
       "pdb_id                                                                          \n",
       "2zyd    6-phosphogluconate dehydrogenase, decarboxylat...   X-RAY DIFFRACTION   \n",
       "2zya    6-phosphogluconate dehydrogenase, decarboxylat...   X-RAY DIFFRACTION   \n",
       "\n",
       "       mapped_chains  resolution chemicals                              date  \\\n",
       "pdb_id                                                                         \n",
       "2zyd             A;B         1.5       GLO  2009-09-01;2011-07-13;2014-01-22   \n",
       "2zya             A;B         1.6       6PG  2009-09-01;2011-07-13;2014-01-22   \n",
       "\n",
       "           taxonomy_name structure_file  \n",
       "pdb_id                                   \n",
       "2zyd    Escherichia coli       2zyd.cif  \n",
       "2zya    Escherichia coli       2zya.cif  "
      ]
     },
     "execution_count": 10,
     "metadata": {},
     "output_type": "execute_result"
    }
   ],
   "source": [
    "# Download all mapped PDBs and gather the metadata\n",
    "my_protein.pdb_downloader_and_metadata()\n",
    "my_protein.df_pdb_metadata.head(2)"
   ]
  },
  {
   "cell_type": "raw",
   "metadata": {
    "raw_mimetype": "text/restructuredtext"
   },
   "source": [
    ".. automethod:: ssbio.core.protein.Protein.set_representative_structure\n",
    "    :noindex:"
   ]
  },
  {
   "cell_type": "code",
   "execution_count": 11,
   "metadata": {
    "collapsed": false,
    "nbpresent": {
     "id": "b3f297a2-230f-4d61-8dc4-46460b00987b"
    }
   },
   "outputs": [
    {
     "data": {
      "text/plain": [
       "<StructProp 2zyd-A at 0x7f8e304efc50>"
      ]
     },
     "execution_count": 11,
     "metadata": {},
     "output_type": "execute_result"
    }
   ],
   "source": [
    "# Set representative structures\n",
    "my_protein.set_representative_structure()"
   ]
  },
  {
   "cell_type": "markdown",
   "metadata": {
    "nbpresent": {
     "id": "89f851fe-4bc9-446e-9c29-fa98fa816411"
    }
   },
   "source": [
    "## Loading and aligning new sequences\n",
    "\n",
    "You can load additional sequences into this protein object and align them to the representative sequence."
   ]
  },
  {
   "cell_type": "markdown",
   "metadata": {
    "nbpresent": {
     "id": "cbe75c19-52d1-49b4-98b7-158b7e740626"
    }
   },
   "source": [
    "### Methods"
   ]
  },
  {
   "cell_type": "raw",
   "metadata": {
    "raw_mimetype": "text/restructuredtext"
   },
   "source": [
    ".. automethod:: ssbio.core.protein.Protein.load_manual_sequence\n",
    "    :noindex:"
   ]
  },
  {
   "cell_type": "code",
   "execution_count": 12,
   "metadata": {
    "collapsed": false,
    "nbpresent": {
     "id": "22e5c125-711c-4f76-bac1-32d4817a317a"
    }
   },
   "outputs": [
    {
     "data": {
      "text/plain": [
       "<SeqProp N17P_SNP at 0x7f8e304effd0>"
      ]
     },
     "execution_count": 12,
     "metadata": {},
     "output_type": "execute_result"
    }
   ],
   "source": [
    "# Input your mutated sequence and load it\n",
    "mutated_protein1_id = 'N17P_SNP'\n",
    "mutated_protein1_seq = 'MSKQQIGVVGMAVMGRPLALNIESRGYTVSVFNRSREKTEEVIAENPGKKLVPYYTVKEFVESLETPRRILLMVKAGAGTDAAIDSLKPYLEKGDIIIDGGNTFFQDTIRRNRELSAEGFNFIGTGVSGGEEGALKGPSIMPGGQKDAYELVAPILTKIAAVAEDGEPCVTYIGADGAGHYVKMVHNGIEYGDMQLIAEAYSLLKGGLNLSNEELANTFTEWNNGELSSYLIDITKDIFTKKDEDGNYLVDVILDEAANKGTGKWTSQSALDLGEPLSLITESVFARYISSLKAQRVAASKVLSGPKAQPAGDKAEFIEKVRRALYLGKIVSYAQGFSQLRAASDEYHWDLNYGEIAKIFRAGCIIRAQFLQKITDAYAENADIANLLLAPYFKKIADEYQQALRDVVAYAVQNGIPVPTFSAAVAYYDSYRAAVLPANLIQAQRDYFGAHTYKRTDKEGIFHTEWLE'\n",
    "\n",
    "my_protein.load_manual_sequence(ident=mutated_protein1_id, seq=mutated_protein1_seq)"
   ]
  },
  {
   "cell_type": "code",
   "execution_count": 13,
   "metadata": {
    "collapsed": false,
    "nbpresent": {
     "id": "5520a794-a911-4064-8634-87bd63395838"
    }
   },
   "outputs": [
    {
     "data": {
      "text/plain": [
       "<SeqProp Q4S_N17P_SNP at 0x7f8e3033d5c0>"
      ]
     },
     "execution_count": 13,
     "metadata": {},
     "output_type": "execute_result"
    }
   ],
   "source": [
    "# Input another mutated sequence and load it\n",
    "mutated_protein2_id = 'Q4S_N17P_SNP'\n",
    "mutated_protein2_seq = 'MSKSQIGVVGMAVMGRPLALNIESRGYTVSVFNRSREKTEEVIAENPGKKLVPYYTVKEFVESLETPRRILLMVKAGAGTDAAIDSLKPYLEKGDIIIDGGNTFFQDTIRRNRELSAEGFNFIGTGVSGGEEGALKGPSIMPGGQKDAYELVAPILTKIAAVAEDGEPCVTYIGADGAGHYVKMVHNGIEYGDMQLIAEAYSLLKGGLNLSNEELANTFTEWNNGELSSYLIDITKDIFTKKDEDGNYLVDVILDEAANKGTGKWTSQSALDLGEPLSLITESVFARYISSLKAQRVAASKVLSGPKAQPAGDKAEFIEKVRRALYLGKIVSYAQGFSQLRAASDEYHWDLNYGEIAKIFRAGCIIRAQFLQKITDAYAENADIANLLLAPYFKKIADEYQQALRDVVAYAVQNGIPVPTFSAAVAYYDSYRAAVLPANLIQAQRDYFGAHTYKRTDKEGIFHTEWLE'\n",
    "\n",
    "my_protein.load_manual_sequence(ident=mutated_protein2_id, seq=mutated_protein2_seq)"
   ]
  },
  {
   "cell_type": "raw",
   "metadata": {
    "raw_mimetype": "text/restructuredtext"
   },
   "source": [
    ".. automethod:: ssbio.core.protein.Protein.pairwise_align_sequences_to_representative\n",
    "    :noindex:"
   ]
  },
  {
   "cell_type": "code",
   "execution_count": 14,
   "metadata": {
    "collapsed": false,
    "nbpresent": {
     "id": "8397a47d-c06e-4e9b-902a-f0af0a30ba49"
    }
   },
   "outputs": [],
   "source": [
    "# Conduct pairwise sequence alignments\n",
    "my_protein.pairwise_align_sequences_to_representative()"
   ]
  },
  {
   "cell_type": "code",
   "execution_count": 15,
   "metadata": {
    "collapsed": false,
    "nbpresent": {
     "id": "8ed1fc21-6ef5-4a76-bcb2-3e25210632e0"
    }
   },
   "outputs": [
    {
     "data": {
      "text/plain": [
       "[<<class 'Bio.Align.MultipleSeqAlignment'> instance (2 records of length 468, SingleLetterAlphabet()) at 7f8e3033d518>,\n",
       " <<class 'Bio.Align.MultipleSeqAlignment'> instance (2 records of length 468, SingleLetterAlphabet()) at 7f8e3033d9b0>]"
      ]
     },
     "execution_count": 15,
     "metadata": {},
     "output_type": "execute_result"
    },
    {
     "data": {
      "text/plain": [
       "{'a_seq': 'WT',\n",
       " 'b_seq': 'N17P_SNP',\n",
       " 'deletions': [],\n",
       " 'insertions': [],\n",
       " 'mutations': [('N', 17, 'P')],\n",
       " 'percent_gaps': 0.0,\n",
       " 'percent_identity': 99.8,\n",
       " 'percent_similarity': 99.8,\n",
       " 'score': 2381.0}"
      ]
     },
     "execution_count": 15,
     "metadata": {},
     "output_type": "execute_result"
    },
    {
     "data": {
      "text/plain": [
       "'MSKQQIGVVGMAVMGRNLALNIESRGYTVSVFNRSREKTEEVIAENPGKKLVPYYTVKEFVESLETPRRILLMVKAGAGTDAAIDSLKPYLEKGDIIIDGGNTFFQDTIRRNRELSAEGFNFIGTGVSGGEEGALKGPSIMPGGQKDAYELVAPILTKIAAVAEDGEPCVTYIGADGAGHYVKMVHNGIEYGDMQLIAEAYSLLKGGLNLSNEELANTFTEWNNGELSSYLIDITKDIFTKKDEDGNYLVDVILDEAANKGTGKWTSQSALDLGEPLSLITESVFARYISSLKAQRVAASKVLSGPKAQPAGDKAEFIEKVRRALYLGKIVSYAQGFSQLRAASDEYHWDLNYGEIAKIFRAGCIIRAQFLQKITDAYAENADIANLLLAPYFKKIADEYQQALRDVVAYAVQNGIPVPTFSAAVAYYDSYRAAVLPANLIQAQRDYFGAHTYKRTDKEGIFHTEWLE'"
      ]
     },
     "execution_count": 15,
     "metadata": {},
     "output_type": "execute_result"
    },
    {
     "data": {
      "text/plain": [
       "'MSKQQIGVVGMAVMGRPLALNIESRGYTVSVFNRSREKTEEVIAENPGKKLVPYYTVKEFVESLETPRRILLMVKAGAGTDAAIDSLKPYLEKGDIIIDGGNTFFQDTIRRNRELSAEGFNFIGTGVSGGEEGALKGPSIMPGGQKDAYELVAPILTKIAAVAEDGEPCVTYIGADGAGHYVKMVHNGIEYGDMQLIAEAYSLLKGGLNLSNEELANTFTEWNNGELSSYLIDITKDIFTKKDEDGNYLVDVILDEAANKGTGKWTSQSALDLGEPLSLITESVFARYISSLKAQRVAASKVLSGPKAQPAGDKAEFIEKVRRALYLGKIVSYAQGFSQLRAASDEYHWDLNYGEIAKIFRAGCIIRAQFLQKITDAYAENADIANLLLAPYFKKIADEYQQALRDVVAYAVQNGIPVPTFSAAVAYYDSYRAAVLPANLIQAQRDYFGAHTYKRTDKEGIFHTEWLE'"
      ]
     },
     "execution_count": 15,
     "metadata": {},
     "output_type": "execute_result"
    }
   ],
   "source": [
    "# View the stored information for one of the alignments\n",
    "my_protein.representative_sequence.sequence_alignments\n",
    "my_protein.representative_sequence.sequence_alignments[0].annotations\n",
    "\n",
    "str(my_protein.representative_sequence.sequence_alignments[0][0].seq)\n",
    "str(my_protein.representative_sequence.sequence_alignments[0][1].seq)"
   ]
  },
  {
   "cell_type": "raw",
   "metadata": {
    "raw_mimetype": "text/restructuredtext"
   },
   "source": [
    ".. automethod:: ssbio.sequence.seqprop.SeqProp.sequence_mutation_summary\n",
    "    :noindex:"
   ]
  },
  {
   "cell_type": "code",
   "execution_count": 16,
   "metadata": {
    "collapsed": false,
    "nbpresent": {
     "id": "8c9b8854-96af-40bd-8084-e6163fbb7c3d"
    }
   },
   "outputs": [
    {
     "name": "stdout",
     "output_type": "stream",
     "text": [
      "Single mutations:\n"
     ]
    },
    {
     "data": {
      "text/plain": [
       "{('N', 17, 'P'): ['N17P_SNP', 'Q4S_N17P_SNP'], ('Q', 4, 'S'): ['Q4S_N17P_SNP']}"
      ]
     },
     "execution_count": 16,
     "metadata": {},
     "output_type": "execute_result"
    },
    {
     "name": "stdout",
     "output_type": "stream",
     "text": [
      "---------------------\n",
      "Mutation fingerprints\n"
     ]
    },
    {
     "data": {
      "text/plain": [
       "{(('N', 17, 'P'),): ['N17P_SNP'],\n",
       " (('Q', 4, 'S'), ('N', 17, 'P')): ['Q4S_N17P_SNP']}"
      ]
     },
     "execution_count": 16,
     "metadata": {},
     "output_type": "execute_result"
    }
   ],
   "source": [
    "# Summarize all the mutations in all alignments\n",
    "s,f = my_protein.representative_sequence.sequence_mutation_summary()\n",
    "print('Single mutations:')\n",
    "s\n",
    "print('---------------------')\n",
    "print('Mutation fingerprints')\n",
    "f"
   ]
  },
  {
   "cell_type": "markdown",
   "metadata": {},
   "source": [
    "## Some additional methods"
   ]
  },
  {
   "cell_type": "markdown",
   "metadata": {},
   "source": [
    "### Getting binding site/other information from UniProt"
   ]
  },
  {
   "cell_type": "code",
   "execution_count": 17,
   "metadata": {
    "collapsed": true
   },
   "outputs": [],
   "source": [
    "import ssbio.databases.uniprot"
   ]
  },
  {
   "cell_type": "code",
   "execution_count": 18,
   "metadata": {
    "collapsed": false
   },
   "outputs": [
    {
     "data": {
      "text/html": [
       "<div>\n",
       "<table border=\"1\" class=\"dataframe\">\n",
       "  <thead>\n",
       "    <tr style=\"text-align: right;\">\n",
       "      <th></th>\n",
       "      <th>type</th>\n",
       "      <th>seq_start</th>\n",
       "      <th>seq_end</th>\n",
       "      <th>notes</th>\n",
       "    </tr>\n",
       "  </thead>\n",
       "  <tbody>\n",
       "    <tr>\n",
       "      <th>0</th>\n",
       "      <td>Domain</td>\n",
       "      <td>179</td>\n",
       "      <td>467</td>\n",
       "      <td>Note=6PGD;Ontology_term=ECO:0000259;evidence=E...</td>\n",
       "    </tr>\n",
       "    <tr>\n",
       "      <th>1</th>\n",
       "      <td>Nucleotide binding</td>\n",
       "      <td>10</td>\n",
       "      <td>15</td>\n",
       "      <td>Note=NADP;Ontology_term=ECO:0000256;evidence=E...</td>\n",
       "    </tr>\n",
       "    <tr>\n",
       "      <th>2</th>\n",
       "      <td>Nucleotide binding</td>\n",
       "      <td>33</td>\n",
       "      <td>35</td>\n",
       "      <td>Note=NADP;Ontology_term=ECO:0000256;evidence=E...</td>\n",
       "    </tr>\n",
       "    <tr>\n",
       "      <th>3</th>\n",
       "      <td>Nucleotide binding</td>\n",
       "      <td>74</td>\n",
       "      <td>76</td>\n",
       "      <td>Note=NADP;Ontology_term=ECO:0000256;evidence=E...</td>\n",
       "    </tr>\n",
       "    <tr>\n",
       "      <th>4</th>\n",
       "      <td>Region</td>\n",
       "      <td>128</td>\n",
       "      <td>130</td>\n",
       "      <td>Note=Substrate binding;Ontology_term=ECO:00002...</td>\n",
       "    </tr>\n",
       "    <tr>\n",
       "      <th>5</th>\n",
       "      <td>Region</td>\n",
       "      <td>186</td>\n",
       "      <td>187</td>\n",
       "      <td>Note=Substrate binding;Ontology_term=ECO:00002...</td>\n",
       "    </tr>\n",
       "    <tr>\n",
       "      <th>6</th>\n",
       "      <td>Active site</td>\n",
       "      <td>183</td>\n",
       "      <td>183</td>\n",
       "      <td>Note=Proton acceptor;Ontology_term=ECO:0000256...</td>\n",
       "    </tr>\n",
       "    <tr>\n",
       "      <th>7</th>\n",
       "      <td>Active site</td>\n",
       "      <td>190</td>\n",
       "      <td>190</td>\n",
       "      <td>Note=Proton donor;Ontology_term=ECO:0000256;ev...</td>\n",
       "    </tr>\n",
       "    <tr>\n",
       "      <th>8</th>\n",
       "      <td>Binding site</td>\n",
       "      <td>102</td>\n",
       "      <td>102</td>\n",
       "      <td>Note=NADP;Ontology_term=ECO:0000256;evidence=E...</td>\n",
       "    </tr>\n",
       "    <tr>\n",
       "      <th>9</th>\n",
       "      <td>Binding site</td>\n",
       "      <td>102</td>\n",
       "      <td>102</td>\n",
       "      <td>Note=Substrate;Ontology_term=ECO:0000256;evide...</td>\n",
       "    </tr>\n",
       "    <tr>\n",
       "      <th>10</th>\n",
       "      <td>Binding site</td>\n",
       "      <td>191</td>\n",
       "      <td>191</td>\n",
       "      <td>Note=Substrate;Ontology_term=ECO:0000256;evide...</td>\n",
       "    </tr>\n",
       "    <tr>\n",
       "      <th>11</th>\n",
       "      <td>Binding site</td>\n",
       "      <td>260</td>\n",
       "      <td>260</td>\n",
       "      <td>Note=Substrate%3B via amide nitrogen;Ontology_...</td>\n",
       "    </tr>\n",
       "    <tr>\n",
       "      <th>12</th>\n",
       "      <td>Binding site</td>\n",
       "      <td>287</td>\n",
       "      <td>287</td>\n",
       "      <td>Note=Substrate;Ontology_term=ECO:0000256;evide...</td>\n",
       "    </tr>\n",
       "    <tr>\n",
       "      <th>13</th>\n",
       "      <td>Binding site</td>\n",
       "      <td>445</td>\n",
       "      <td>445</td>\n",
       "      <td>Note=Substrate%3B shared with dimeric partner;...</td>\n",
       "    </tr>\n",
       "    <tr>\n",
       "      <th>14</th>\n",
       "      <td>Binding site</td>\n",
       "      <td>451</td>\n",
       "      <td>451</td>\n",
       "      <td>Note=Substrate%3B shared with dimeric partner;...</td>\n",
       "    </tr>\n",
       "  </tbody>\n",
       "</table>\n",
       "</div>"
      ],
      "text/plain": [
       "                  type  seq_start  seq_end  \\\n",
       "0               Domain        179      467   \n",
       "1   Nucleotide binding         10       15   \n",
       "2   Nucleotide binding         33       35   \n",
       "3   Nucleotide binding         74       76   \n",
       "4               Region        128      130   \n",
       "5               Region        186      187   \n",
       "6          Active site        183      183   \n",
       "7          Active site        190      190   \n",
       "8         Binding site        102      102   \n",
       "9         Binding site        102      102   \n",
       "10        Binding site        191      191   \n",
       "11        Binding site        260      260   \n",
       "12        Binding site        287      287   \n",
       "13        Binding site        445      445   \n",
       "14        Binding site        451      451   \n",
       "\n",
       "                                                notes  \n",
       "0   Note=6PGD;Ontology_term=ECO:0000259;evidence=E...  \n",
       "1   Note=NADP;Ontology_term=ECO:0000256;evidence=E...  \n",
       "2   Note=NADP;Ontology_term=ECO:0000256;evidence=E...  \n",
       "3   Note=NADP;Ontology_term=ECO:0000256;evidence=E...  \n",
       "4   Note=Substrate binding;Ontology_term=ECO:00002...  \n",
       "5   Note=Substrate binding;Ontology_term=ECO:00002...  \n",
       "6   Note=Proton acceptor;Ontology_term=ECO:0000256...  \n",
       "7   Note=Proton donor;Ontology_term=ECO:0000256;ev...  \n",
       "8   Note=NADP;Ontology_term=ECO:0000256;evidence=E...  \n",
       "9   Note=Substrate;Ontology_term=ECO:0000256;evide...  \n",
       "10  Note=Substrate;Ontology_term=ECO:0000256;evide...  \n",
       "11  Note=Substrate%3B via amide nitrogen;Ontology_...  \n",
       "12  Note=Substrate;Ontology_term=ECO:0000256;evide...  \n",
       "13  Note=Substrate%3B shared with dimeric partner;...  \n",
       "14  Note=Substrate%3B shared with dimeric partner;...  "
      ]
     },
     "execution_count": 18,
     "metadata": {},
     "output_type": "execute_result"
    }
   ],
   "source": [
    "this_examples_uniprot = 'A0A0N2BFZ3'\n",
    "sites_df = ssbio.databases.uniprot.uniprot_sites(this_examples_uniprot)\n",
    "sites_df"
   ]
  },
  {
   "cell_type": "code",
   "execution_count": 19,
   "metadata": {
    "collapsed": false
   },
   "outputs": [
    {
     "data": {
      "text/plain": [
       "[10, 11, 12, 13, 14, 15, 33, 34, 35, 74, 75, 76]"
      ]
     },
     "execution_count": 19,
     "metadata": {},
     "output_type": "execute_result"
    }
   ],
   "source": [
    "# Saving a list of the nucleotide binding site residues\n",
    "nucleotide_binding_sites = []\n",
    "for i, r in sites_df[sites_df.type=='Nucleotide binding'][['seq_start', 'seq_end']].iterrows():\n",
    "    start = r.seq_start\n",
    "    end = r.seq_end\n",
    "    for x in range(start, end+1):\n",
    "        nucleotide_binding_sites.append(x)\n",
    "nucleotide_binding_sites"
   ]
  },
  {
   "cell_type": "markdown",
   "metadata": {
    "nbpresent": {
     "id": "21c519ff-e117-45ed-9658-6bbd409c4c67"
    }
   },
   "source": [
    "## Mapping sequence residue numbers to structure residue numbers"
   ]
  },
  {
   "cell_type": "markdown",
   "metadata": {
    "nbpresent": {
     "id": "62396985-b8cc-43c0-9c1d-0a0f4ff9435a"
    }
   },
   "source": [
    "### Methods"
   ]
  },
  {
   "cell_type": "raw",
   "metadata": {
    "raw_mimetype": "text/restructuredtext"
   },
   "source": [
    ".. automethod:: ssbio.structure.structprop.StructProp.map_repseq_resnums_to_structure_resnums\n",
    "    :noindex:"
   ]
  },
  {
   "cell_type": "code",
   "execution_count": 20,
   "metadata": {
    "collapsed": false,
    "nbpresent": {
     "id": "5b6c97d8-fdc6-40f4-a81e-012d0f70675f"
    }
   },
   "outputs": [
    {
     "data": {
      "text/plain": [
       "{10: (' ', 10, ' '),\n",
       " 11: (' ', 11, ' '),\n",
       " 12: (' ', 12, ' '),\n",
       " 13: (' ', 13, ' '),\n",
       " 14: (' ', 14, ' '),\n",
       " 15: (' ', 15, ' '),\n",
       " 33: (' ', 33, ' '),\n",
       " 34: (' ', 34, ' '),\n",
       " 35: (' ', 35, ' '),\n",
       " 74: (' ', 74, ' '),\n",
       " 75: (' ', 75, ' '),\n",
       " 76: (' ', 76, ' ')}"
      ]
     },
     "execution_count": 20,
     "metadata": {},
     "output_type": "execute_result"
    }
   ],
   "source": [
    "# Returns a dictionary mapping sequence residue numbers to structure residue identifiers\n",
    "structure_sites = my_protein.representative_structure.map_repseq_resnums_to_structure_resnums(nucleotide_binding_sites)\n",
    "structure_sites"
   ]
  },
  {
   "cell_type": "code",
   "execution_count": 21,
   "metadata": {
    "collapsed": false
   },
   "outputs": [
    {
     "data": {
      "text/plain": [
       "[33, 34, 35, 76, 74, 11, 12, 13, 14, 15, 75, 10]"
      ]
     },
     "execution_count": 21,
     "metadata": {},
     "output_type": "execute_result"
    }
   ],
   "source": [
    "# For viewing below, we can remap binding site residues to the structure (luckily they are the same here)\n",
    "nucleotide_binding_site_remapped_to_structure = [x[1] for x in structure_sites.values()]\n",
    "nucleotide_binding_site_remapped_to_structure"
   ]
  },
  {
   "cell_type": "code",
   "execution_count": 22,
   "metadata": {
    "collapsed": false
   },
   "outputs": [
    {
     "name": "stderr",
     "output_type": "stream",
     "text": [
      "[2017-03-09 15:29] [ssbio.structure.structprop] WARNING: 2zyd-A, 1: structure file does not contain coordinates for this residue\n",
      "[2017-03-09 15:29] [ssbio.structure.structprop] WARNING: 2zyd-A, 2: structure file does not contain coordinates for this residue\n"
     ]
    },
    {
     "data": {
      "text/plain": [
       "{3: (' ', 3, ' ')}"
      ]
     },
     "execution_count": 22,
     "metadata": {},
     "output_type": "execute_result"
    }
   ],
   "source": [
    "# Will warn you if residues are not present in the structure\n",
    "my_protein.representative_structure.map_repseq_resnums_to_structure_resnums([1,2,3])"
   ]
  },
  {
   "cell_type": "markdown",
   "metadata": {
    "nbpresent": {
     "id": "fbae26a5-e369-4f56-8e54-97750f9003f9"
    }
   },
   "source": [
    "## Viewing structures\n",
    "\n",
    "The awesome package [nglview](https://github.com/arose/nglview) is utilized as a backend for viewing structures within a Jupyter notebook. There are many more options which can be set if you run:\n",
    "\n",
    "```python\n",
    "import nglview\n",
    "view = nglview.show_structure_file(my_protein.representative_structure.structure_path)\n",
    "view\n",
    "```\n",
    "\n",
    "`ssbio` provides some wrapper functions to easily view structures and also map sequence residue numbers to structure residue numbers:"
   ]
  },
  {
   "cell_type": "markdown",
   "metadata": {
    "nbpresent": {
     "id": "a9b35359-51a9-4fe2-8ee4-11ba5d81dd0e"
    }
   },
   "source": [
    "### Methods"
   ]
  },
  {
   "cell_type": "raw",
   "metadata": {
    "raw_mimetype": "text/restructuredtext"
   },
   "source": [
    ".. automethod:: ssbio.structure.structprop.StructProp.view_structure\n",
    "    :noindex:"
   ]
  },
  {
   "cell_type": "code",
   "execution_count": 23,
   "metadata": {
    "collapsed": false,
    "nbpresent": {
     "id": "80ef68cc-2690-4602-b11f-8f38e8e1773d"
    }
   },
   "outputs": [],
   "source": [
    "# View just the structure\n",
    "my_protein.representative_structure.view_structure()"
   ]
  },
  {
   "cell_type": "raw",
   "metadata": {
    "raw_mimetype": "text/restructuredtext"
   },
   "source": [
    ".. automethod:: ssbio.core.protein.Protein.view_all_mutations\n",
    "    :noindex:"
   ]
  },
  {
   "cell_type": "code",
   "execution_count": 24,
   "metadata": {
    "collapsed": false,
    "nbpresent": {
     "id": "dc4b0dd9-bb65-49b7-9146-b0779f2ec306"
    }
   },
   "outputs": [
    {
     "name": "stderr",
     "output_type": "stream",
     "text": [
      "[2017-03-09 15:29] [ssbio.structure.structprop] INFO: Selection: ( :A ) and not hydrogen and 17\n",
      "[2017-03-09 15:29] [ssbio.structure.structprop] INFO: Selection: ( :A ) and not hydrogen and 4\n"
     ]
    }
   ],
   "source": [
    "# Map the mutations on the visualization (scale increased)\n",
    "my_protein.view_all_mutations(scale_range=(4,7))"
   ]
  },
  {
   "cell_type": "raw",
   "metadata": {
    "raw_mimetype": "text/restructuredtext"
   },
   "source": [
    ".. automethod:: ssbio.structure.structprop.StructProp.view_structure_and_highlight_residues\n",
    "    :noindex:"
   ]
  },
  {
   "cell_type": "code",
   "execution_count": 25,
   "metadata": {
    "collapsed": false,
    "nbpresent": {
     "id": "1af74fb5-06a9-469b-8bac-0f2bb6836837"
    }
   },
   "outputs": [
    {
     "name": "stderr",
     "output_type": "stream",
     "text": [
      "[2017-03-09 15:29] [ssbio.structure.structprop] INFO: Selection: ( :A ) and not hydrogen and ( 1 or 2 or 3 )\n"
     ]
    }
   ],
   "source": [
    "# View just the structure with selected residues\n",
    "my_protein.representative_structure.view_structure_and_highlight_residues(structure_resnums=[1,2,3])"
   ]
  },
  {
   "cell_type": "code",
   "execution_count": 26,
   "metadata": {
    "collapsed": false
   },
   "outputs": [
    {
     "name": "stderr",
     "output_type": "stream",
     "text": [
      "[2017-03-09 15:29] [ssbio.structure.structprop] INFO: Selection: ( :A ) and not hydrogen and ( 33 or 34 or 35 or 74 or 11 or 76 or 12 or 13 or 14 or 15 or 75 or 10 )\n"
     ]
    }
   ],
   "source": [
    "# View the previously saved binding site\n",
    "my_protein.representative_structure.view_structure_and_highlight_residues(structure_resnums=nucleotide_binding_site_remapped_to_structure)"
   ]
  },
  {
   "cell_type": "markdown",
   "metadata": {},
   "source": [
    "## Saving"
   ]
  },
  {
   "cell_type": "raw",
   "metadata": {
    "raw_mimetype": "text/restructuredtext"
   },
   "source": [
    ".. automethod:: ssbio.core.protein.Protein.save_json\n",
    "    :noindex:"
   ]
  },
  {
   "cell_type": "code",
   "execution_count": 27,
   "metadata": {
    "collapsed": false
   },
   "outputs": [
    {
     "name": "stderr",
     "output_type": "stream",
     "text": [
      "[2017-03-09 15:29] [ssbio.core.io] INFO: Saved <class 'ssbio.core.protein.Protein'> (id: SRR1753782_00918) to /tmp/SRR1753782_00918/SRR1753782_00918.json\n"
     ]
    }
   ],
   "source": [
    "import os.path as op\n",
    "my_protein.save_json(op.join(my_protein.protein_dir, '{}.json'.format(my_protein.id)), compression=False)"
   ]
  }
 ],
 "metadata": {
  "anaconda-cloud": {},
  "celltoolbar": "Raw Cell Format",
  "kernelspec": {
   "display_name": "Python [default]",
   "language": "python",
   "name": "python3"
  },
  "language_info": {
   "codemirror_mode": {
    "name": "ipython",
    "version": 3
   },
   "file_extension": ".py",
   "mimetype": "text/x-python",
   "name": "python",
   "nbconvert_exporter": "python",
   "pygments_lexer": "ipython3",
   "version": "3.5.2"
  },
  "nbpresent": {
   "slides": {
    "157a04b8-becd-45f4-ae6a-d45331b9286d": {
     "id": "157a04b8-becd-45f4-ae6a-d45331b9286d",
     "prev": "5c9e693c-1f0c-4575-bcfc-56402d677e8b",
     "regions": {
      "ba9d0881-51d7-4379-874e-d6393329b3fc": {
       "attrs": {
        "height": 0.8,
        "width": 0.8,
        "x": 0.1,
        "y": 0.1
       },
       "content": {
        "cell": "a2024d0e-b7a0-4695-9221-2f4bdca8fde4",
        "part": "whole"
       },
       "id": "ba9d0881-51d7-4379-874e-d6393329b3fc"
      }
     }
    },
    "16a7e399-dd0b-4395-b6d3-610f81f66eeb": {
     "id": "16a7e399-dd0b-4395-b6d3-610f81f66eeb",
     "prev": "763127e6-e29a-4b91-b24f-e9fb06a4a10d",
     "regions": {
      "47b84c51-8f60-4ace-96d2-6b2e0ddc117c": {
       "attrs": {
        "height": 0.8,
        "width": 0.8,
        "x": 0.1,
        "y": 0.1
       },
       "content": {
        "cell": "cbe75c19-52d1-49b4-98b7-158b7e740626",
        "part": "whole"
       },
       "id": "47b84c51-8f60-4ace-96d2-6b2e0ddc117c"
      }
     }
    },
    "18bb9831-7a11-42e0-80f0-9cca2cfa6f3b": {
     "id": "18bb9831-7a11-42e0-80f0-9cca2cfa6f3b",
     "prev": "df3cb41a-0ea2-4b69-a0be-f0123592edf3",
     "regions": {
      "52452efb-3a0b-4046-9ae4-ed9ad94531b5": {
       "attrs": {
        "height": 0.8,
        "width": 0.8,
        "x": 0.1,
        "y": 0.1
       },
       "content": {
        "cell": "8397a47d-c06e-4e9b-902a-f0af0a30ba49",
        "part": "whole"
       },
       "id": "52452efb-3a0b-4046-9ae4-ed9ad94531b5"
      }
     }
    },
    "224a1535-c07a-4e46-8ea5-77f1cc08f5bd": {
     "id": "224a1535-c07a-4e46-8ea5-77f1cc08f5bd",
     "prev": "663f092f-985e-4932-8a41-b9ccdaeecef6",
     "regions": {
      "b9b48e3e-1100-45d7-9ec6-7a46ff521058": {
       "attrs": {
        "height": 0.8,
        "width": 0.8,
        "x": 0.1,
        "y": 0.1
       },
       "content": {
        "cell": "b3f297a2-230f-4d61-8dc4-46460b00987b",
        "part": "whole"
       },
       "id": "b9b48e3e-1100-45d7-9ec6-7a46ff521058"
      }
     }
    },
    "232966f7-1f13-4e68-86e6-deba85a5316f": {
     "id": "232966f7-1f13-4e68-86e6-deba85a5316f",
     "prev": "684f642b-ceca-44d6-92af-47d019889a20",
     "regions": {
      "e80b53b9-3901-4429-82af-b3a0c69a857d": {
       "attrs": {
        "height": 0.8,
        "width": 0.8,
        "x": 0.1,
        "y": 0.1
       },
       "content": {
        "cell": "6366ff85-88bb-40b2-a548-909dc25f20e5",
        "part": "whole"
       },
       "id": "e80b53b9-3901-4429-82af-b3a0c69a857d"
      }
     }
    },
    "27f1e32c-943f-45cc-ab17-c0b355623238": {
     "id": "27f1e32c-943f-45cc-ab17-c0b355623238",
     "prev": "18bb9831-7a11-42e0-80f0-9cca2cfa6f3b",
     "regions": {
      "edcaec32-ac2e-4281-a6b1-2b3fdc1835c9": {
       "attrs": {
        "height": 0.8,
        "width": 0.8,
        "x": 0.1,
        "y": 0.1
       },
       "content": {
        "cell": "8ed1fc21-6ef5-4a76-bcb2-3e25210632e0",
        "part": "whole"
       },
       "id": "edcaec32-ac2e-4281-a6b1-2b3fdc1835c9"
      }
     }
    },
    "28819a21-efe0-4cc9-a1a9-4b896b0884a6": {
     "id": "28819a21-efe0-4cc9-a1a9-4b896b0884a6",
     "prev": "d10ba35f-ceb9-4265-97ac-4a2c6bf2ac86",
     "regions": {
      "efed7775-a413-4e09-9d64-971a97af1172": {
       "attrs": {
        "height": 0.8,
        "width": 0.8,
        "x": 0.1,
        "y": 0.1
       },
       "content": {
        "cell": "fbae26a5-e369-4f56-8e54-97750f9003f9",
        "part": "whole"
       },
       "id": "efed7775-a413-4e09-9d64-971a97af1172"
      }
     }
    },
    "2a0a4198-c98f-493c-8235-faf97ee5cb74": {
     "id": "2a0a4198-c98f-493c-8235-faf97ee5cb74",
     "prev": "d751ef97-9379-4c87-8f08-a3335b6ef8c7",
     "regions": {
      "56964d6b-f159-4dcc-bac8-021107bcd10b": {
       "attrs": {
        "height": 0.8,
        "width": 0.8,
        "x": 0.1,
        "y": 0.1
       },
       "content": {
        "cell": "1af74fb5-06a9-469b-8bac-0f2bb6836837",
        "part": "whole"
       },
       "id": "56964d6b-f159-4dcc-bac8-021107bcd10b"
      }
     }
    },
    "350fdc11-888a-4200-ad84-08a273ba94a1": {
     "id": "350fdc11-888a-4200-ad84-08a273ba94a1",
     "prev": "59d43bdd-463e-4d81-84d2-42757ee47833",
     "regions": {
      "c2604f4b-068e-4aa7-9400-98c77a1cb1f2": {
       "attrs": {
        "height": 0.8,
        "width": 0.8,
        "x": 0.1,
        "y": 0.1
       },
       "content": {
        "cell": "ccab9877-0d6c-4224-983c-be7b3ce0cf9b",
        "part": "whole"
       },
       "id": "c2604f4b-068e-4aa7-9400-98c77a1cb1f2"
      }
     }
    },
    "3b4a2e49-f9bc-491a-8b87-a208a6cb2d83": {
     "id": "3b4a2e49-f9bc-491a-8b87-a208a6cb2d83",
     "prev": "cb9331a2-31f7-45e4-ad1a-556be0662da2",
     "regions": {
      "0453d5c2-7293-42d0-bd5b-c2631d1cc2cf": {
       "attrs": {
        "height": 0.8,
        "width": 0.8,
        "x": 0.1,
        "y": 0.1
       },
       "content": {
        "cell": "18254fcc-caf7-4af9-8c52-51ad78b9b41d",
        "part": "whole"
       },
       "id": "0453d5c2-7293-42d0-bd5b-c2631d1cc2cf"
      }
     }
    },
    "48b00f0e-9432-461d-95bf-50d69b5a2abb": {
     "id": "48b00f0e-9432-461d-95bf-50d69b5a2abb",
     "prev": "70c85326-d481-4473-ae39-994640afb4dc",
     "regions": {
      "be7f84c4-59a2-4ea2-a644-92a56c9bd267": {
       "attrs": {
        "height": 0.8,
        "width": 0.8,
        "x": 0.1,
        "y": 0.1
       },
       "content": {
        "cell": "22e5c125-711c-4f76-bac1-32d4817a317a",
        "part": "whole"
       },
       "id": "be7f84c4-59a2-4ea2-a644-92a56c9bd267"
      }
     }
    },
    "5572bb9e-f50b-453f-ab6b-3801943c08b4": {
     "id": "5572bb9e-f50b-453f-ab6b-3801943c08b4",
     "prev": "93a7de3d-d912-4daf-8c1f-18365f14ee52",
     "regions": {
      "370adc73-2475-4871-9b26-ca67d32c63c8": {
       "attrs": {
        "height": 0.8,
        "width": 0.8,
        "x": 0.1,
        "y": 0.1
       },
       "content": {
        "cell": "80ef68cc-2690-4602-b11f-8f38e8e1773d",
        "part": "whole"
       },
       "id": "370adc73-2475-4871-9b26-ca67d32c63c8"
      }
     }
    },
    "58bc09f4-ddac-4105-93a9-46e3b52e658b": {
     "id": "58bc09f4-ddac-4105-93a9-46e3b52e658b",
     "prev": "fc8ce3da-0e4c-4e21-b229-354c5e42c944",
     "regions": {
      "da309218-2aef-4308-980f-8d438a070121": {
       "attrs": {
        "height": 0.8,
        "width": 0.8,
        "x": 0.1,
        "y": 0.1
       },
       "content": {
        "cell": "cec7affb-87de-453c-b49c-27d9873ca05c",
        "part": "whole"
       },
       "id": "da309218-2aef-4308-980f-8d438a070121"
      }
     }
    },
    "59d43bdd-463e-4d81-84d2-42757ee47833": {
     "id": "59d43bdd-463e-4d81-84d2-42757ee47833",
     "prev": "ccb44894-4ff9-4061-9680-0b29a24fe71d",
     "regions": {
      "8b10023e-d096-444b-92b7-9d9f1a5230cb": {
       "attrs": {
        "height": 0.8,
        "width": 0.8,
        "x": 0.1,
        "y": 0.1
       },
       "content": {
        "cell": "62396985-b8cc-43c0-9c1d-0a0f4ff9435a",
        "part": "whole"
       },
       "id": "8b10023e-d096-444b-92b7-9d9f1a5230cb"
      }
     }
    },
    "5c9e693c-1f0c-4575-bcfc-56402d677e8b": {
     "id": "5c9e693c-1f0c-4575-bcfc-56402d677e8b",
     "prev": null,
     "regions": {
      "adc09205-beb7-4cbd-bdf1-3e571359f39c": {
       "attrs": {
        "height": 0.8,
        "width": 0.8,
        "x": 0.1,
        "y": 0.1
       },
       "id": "adc09205-beb7-4cbd-bdf1-3e571359f39c"
      }
     },
     "theme": null
    },
    "663f092f-985e-4932-8a41-b9ccdaeecef6": {
     "id": "663f092f-985e-4932-8a41-b9ccdaeecef6",
     "prev": "a3c91bd5-22dd-46eb-8bfb-b9c798f8ed3a",
     "regions": {
      "d548f4fc-6175-4cce-a453-4e88f2fe8161": {
       "attrs": {
        "height": 0.8,
        "width": 0.8,
        "x": 0.1,
        "y": 0.1
       },
       "content": {
        "cell": "c49caf9d-dc39-46b6-ae08-287740bef163",
        "part": "whole"
       },
       "id": "d548f4fc-6175-4cce-a453-4e88f2fe8161"
      }
     }
    },
    "684f642b-ceca-44d6-92af-47d019889a20": {
     "id": "684f642b-ceca-44d6-92af-47d019889a20",
     "prev": "ba8f8326-e3cc-4c5b-9c45-c7980ddaf7b8",
     "regions": {
      "e42315ee-eb77-4452-ba1b-130a23abe7aa": {
       "attrs": {
        "height": 0.8,
        "width": 0.8,
        "x": 0.1,
        "y": 0.1
       },
       "content": {
        "cell": "40405d5c-c9e7-4068-9148-551143aa290e",
        "part": "whole"
       },
       "id": "e42315ee-eb77-4452-ba1b-130a23abe7aa"
      }
     }
    },
    "685ba19d-ea3a-4957-806c-58fb08b813ea": {
     "id": "685ba19d-ea3a-4957-806c-58fb08b813ea",
     "prev": "a45bc057-2dce-435e-986e-e3dc0afcfc5a",
     "regions": {
      "4cfe3247-dbb2-4e0f-b44e-fa4e398462d2": {
       "attrs": {
        "height": 0.8,
        "width": 0.8,
        "x": 0.1,
        "y": 0.1
       },
       "content": {
        "cell": "3e4188f5-afed-4f48-9f24-7a4284a7ac04",
        "part": "whole"
       },
       "id": "4cfe3247-dbb2-4e0f-b44e-fa4e398462d2"
      }
     }
    },
    "695da414-9d23-430c-aa41-2261a39a4487": {
     "id": "695da414-9d23-430c-aa41-2261a39a4487",
     "prev": "3b4a2e49-f9bc-491a-8b87-a208a6cb2d83",
     "regions": {
      "61933a72-30f3-47e6-8677-0ed7ba82c288": {
       "attrs": {
        "height": 0.8,
        "width": 0.8,
        "x": 0.1,
        "y": 0.1
       },
       "content": {
        "cell": "432b3a60-e5a6-4243-852d-fb18bf5ff61a",
        "part": "whole"
       },
       "id": "61933a72-30f3-47e6-8677-0ed7ba82c288"
      }
     }
    },
    "69b9f2c1-9f7d-4455-a092-d462f37e38c3": {
     "id": "69b9f2c1-9f7d-4455-a092-d462f37e38c3",
     "prev": "28819a21-efe0-4cc9-a1a9-4b896b0884a6",
     "regions": {
      "166c899c-f561-4087-b24e-434f23fbffcc": {
       "attrs": {
        "height": 0.8,
        "width": 0.8,
        "x": 0.1,
        "y": 0.1
       },
       "content": {
        "cell": "a9b35359-51a9-4fe2-8ee4-11ba5d81dd0e",
        "part": "whole"
       },
       "id": "166c899c-f561-4087-b24e-434f23fbffcc"
      }
     }
    },
    "70c85326-d481-4473-ae39-994640afb4dc": {
     "id": "70c85326-d481-4473-ae39-994640afb4dc",
     "prev": "16a7e399-dd0b-4395-b6d3-610f81f66eeb",
     "regions": {
      "92685a8e-4ef3-4520-b8a0-88d3be23abd0": {
       "attrs": {
        "height": 0.8,
        "width": 0.8,
        "x": 0.1,
        "y": 0.1
       },
       "content": {
        "cell": "d924bffc-2232-4e13-8b6d-38a8fced1f58",
        "part": "whole"
       },
       "id": "92685a8e-4ef3-4520-b8a0-88d3be23abd0"
      }
     }
    },
    "763127e6-e29a-4b91-b24f-e9fb06a4a10d": {
     "id": "763127e6-e29a-4b91-b24f-e9fb06a4a10d",
     "prev": "224a1535-c07a-4e46-8ea5-77f1cc08f5bd",
     "regions": {
      "db3cf4bd-06ce-41ad-8548-fd88142f65c7": {
       "attrs": {
        "height": 0.8,
        "width": 0.8,
        "x": 0.1,
        "y": 0.1
       },
       "content": {
        "cell": "89f851fe-4bc9-446e-9c29-fa98fa816411",
        "part": "whole"
       },
       "id": "db3cf4bd-06ce-41ad-8548-fd88142f65c7"
      }
     }
    },
    "7af1b790-96b3-4325-b4b1-fb74c9405595": {
     "id": "7af1b790-96b3-4325-b4b1-fb74c9405595",
     "prev": "350fdc11-888a-4200-ad84-08a273ba94a1",
     "regions": {
      "6d1cbcf6-a57b-4263-b5d4-8c2f8d58b94a": {
       "attrs": {
        "height": 0.8,
        "width": 0.8,
        "x": 0.1,
        "y": 0.1
       },
       "content": {
        "cell": "5b6c97d8-fdc6-40f4-a81e-012d0f70675f",
        "part": "whole"
       },
       "id": "6d1cbcf6-a57b-4263-b5d4-8c2f8d58b94a"
      }
     }
    },
    "7eacc7b5-bb2c-4136-adee-898d99f1b1c0": {
     "id": "7eacc7b5-bb2c-4136-adee-898d99f1b1c0",
     "prev": "695da414-9d23-430c-aa41-2261a39a4487",
     "regions": {
      "1f1f3c8f-8ada-4928-a64d-1ac8a2e9a6b2": {
       "attrs": {
        "height": 0.8,
        "width": 0.8,
        "x": 0.1,
        "y": 0.1
       },
       "content": {
        "cell": "56c859a8-bb18-4901-85e4-143bcdb8cb07",
        "part": "whole"
       },
       "id": "1f1f3c8f-8ada-4928-a64d-1ac8a2e9a6b2"
      }
     }
    },
    "93a7de3d-d912-4daf-8c1f-18365f14ee52": {
     "id": "93a7de3d-d912-4daf-8c1f-18365f14ee52",
     "prev": "69b9f2c1-9f7d-4455-a092-d462f37e38c3",
     "regions": {
      "54883a17-907c-4138-9814-9a04582e3af0": {
       "attrs": {
        "height": 0.8,
        "width": 0.8,
        "x": 0.1,
        "y": 0.1
       },
       "content": {
        "cell": "99c88e5a-d339-4113-bdf2-c30dc19a2d8f",
        "part": "whole"
       },
       "id": "54883a17-907c-4138-9814-9a04582e3af0"
      }
     }
    },
    "a3c91bd5-22dd-46eb-8bfb-b9c798f8ed3a": {
     "id": "a3c91bd5-22dd-46eb-8bfb-b9c798f8ed3a",
     "prev": "685ba19d-ea3a-4957-806c-58fb08b813ea",
     "regions": {
      "80e137ea-d00f-4c26-ab33-5bc35363039e": {
       "attrs": {
        "height": 0.8,
        "width": 0.8,
        "x": 0.1,
        "y": 0.1
       },
       "content": {
        "cell": "908d11d2-e3a9-4803-b327-9db024698b9e",
        "part": "whole"
       },
       "id": "80e137ea-d00f-4c26-ab33-5bc35363039e"
      }
     }
    },
    "a45bc057-2dce-435e-986e-e3dc0afcfc5a": {
     "id": "a45bc057-2dce-435e-986e-e3dc0afcfc5a",
     "prev": "7eacc7b5-bb2c-4136-adee-898d99f1b1c0",
     "regions": {
      "2a547cb1-0f2f-4ef4-b498-0f15e3214b94": {
       "attrs": {
        "height": 0.8,
        "width": 0.8,
        "x": 0.1,
        "y": 0.1
       },
       "content": {
        "cell": "769939a3-d792-46d0-b152-15be045c908e",
        "part": "whole"
       },
       "id": "2a547cb1-0f2f-4ef4-b498-0f15e3214b94"
      }
     }
    },
    "a7b3c13e-cf5a-46cd-9345-5aa6546b7d13": {
     "id": "a7b3c13e-cf5a-46cd-9345-5aa6546b7d13",
     "prev": "48b00f0e-9432-461d-95bf-50d69b5a2abb",
     "regions": {
      "6d88dfd2-d4b5-4fb5-a368-2b9f7a83bb70": {
       "attrs": {
        "height": 0.8,
        "width": 0.8,
        "x": 0.1,
        "y": 0.1
       },
       "content": {
        "cell": "5520a794-a911-4064-8634-87bd63395838",
        "part": "whole"
       },
       "id": "6d88dfd2-d4b5-4fb5-a368-2b9f7a83bb70"
      }
     }
    },
    "a881c8cd-9cb6-4414-a2e4-a741ad6b5788": {
     "id": "a881c8cd-9cb6-4414-a2e4-a741ad6b5788",
     "prev": "5572bb9e-f50b-453f-ab6b-3801943c08b4",
     "regions": {
      "25d7afe8-7e49-4c32-88b8-aaa9adc34caf": {
       "attrs": {
        "height": 0.8,
        "width": 0.8,
        "x": 0.1,
        "y": 0.1
       },
       "content": {
        "cell": "5758470a-71e4-4e48-a797-dffde6711571",
        "part": "whole"
       },
       "id": "25d7afe8-7e49-4c32-88b8-aaa9adc34caf"
      }
     }
    },
    "b5ffb0b9-32d8-409a-a17f-c3b34d4ecd4e": {
     "id": "b5ffb0b9-32d8-409a-a17f-c3b34d4ecd4e",
     "prev": "f1a62424-903e-4733-ad5d-1ec7603394b4",
     "regions": {
      "e6aa0004-b081-4dca-820a-d655a1184af4": {
       "attrs": {
        "height": 0.8,
        "width": 0.8,
        "x": 0.1,
        "y": 0.1
       },
       "content": {
        "cell": "f99973a2-f1b7-4dac-8ec7-fabd88ab0db9",
        "part": "whole"
       },
       "id": "e6aa0004-b081-4dca-820a-d655a1184af4"
      }
     }
    },
    "ba8f8326-e3cc-4c5b-9c45-c7980ddaf7b8": {
     "id": "ba8f8326-e3cc-4c5b-9c45-c7980ddaf7b8",
     "prev": "faf996c1-ab90-4e21-9210-02ab341ff7ee",
     "regions": {
      "1bd6f438-a1cb-4b11-895c-fa04c1c32fa1": {
       "attrs": {
        "height": 0.8,
        "width": 0.8,
        "x": 0.1,
        "y": 0.1
       },
       "content": {
        "cell": "3211664f-c38d-4cf5-8310-b57b5e57562f",
        "part": "whole"
       },
       "id": "1bd6f438-a1cb-4b11-895c-fa04c1c32fa1"
      }
     }
    },
    "cafc0d85-e53a-4cea-9ace-de54833a78a0": {
     "id": "cafc0d85-e53a-4cea-9ace-de54833a78a0",
     "prev": "27f1e32c-943f-45cc-ab17-c0b355623238",
     "regions": {
      "6398e15d-dc32-4709-8fb6-0ce870f378aa": {
       "attrs": {
        "height": 0.8,
        "width": 0.8,
        "x": 0.1,
        "y": 0.1
       },
       "content": {
        "cell": "0a5e21d3-a387-41e1-8f74-2f74028413a6",
        "part": "whole"
       },
       "id": "6398e15d-dc32-4709-8fb6-0ce870f378aa"
      }
     }
    },
    "cb9331a2-31f7-45e4-ad1a-556be0662da2": {
     "id": "cb9331a2-31f7-45e4-ad1a-556be0662da2",
     "prev": "232966f7-1f13-4e68-86e6-deba85a5316f",
     "regions": {
      "bc6a08c2-b6f9-4089-8bc1-2244b31c3047": {
       "attrs": {
        "height": 0.8,
        "width": 0.8,
        "x": 0.1,
        "y": 0.1
       },
       "content": {
        "cell": "e563de4f-c3b1-4863-b983-cffccf44dbe4",
        "part": "whole"
       },
       "id": "bc6a08c2-b6f9-4089-8bc1-2244b31c3047"
      }
     }
    },
    "ccb44894-4ff9-4061-9680-0b29a24fe71d": {
     "id": "ccb44894-4ff9-4061-9680-0b29a24fe71d",
     "prev": "2a0a4198-c98f-493c-8235-faf97ee5cb74",
     "regions": {
      "94325aab-50e6-4ac0-a94e-af9e2ddd35d0": {
       "attrs": {
        "height": 0.8,
        "width": 0.8,
        "x": 0.1,
        "y": 0.1
       },
       "content": {
        "cell": "21c519ff-e117-45ed-9658-6bbd409c4c67",
        "part": "whole"
       },
       "id": "94325aab-50e6-4ac0-a94e-af9e2ddd35d0"
      }
     }
    },
    "d10ba35f-ceb9-4265-97ac-4a2c6bf2ac86": {
     "id": "d10ba35f-ceb9-4265-97ac-4a2c6bf2ac86",
     "prev": "cafc0d85-e53a-4cea-9ace-de54833a78a0",
     "regions": {
      "9f80f4e2-1900-4b9b-8f4e-414eba159966": {
       "attrs": {
        "height": 0.8,
        "width": 0.8,
        "x": 0.1,
        "y": 0.1
       },
       "content": {
        "cell": "8c9b8854-96af-40bd-8084-e6163fbb7c3d",
        "part": "whole"
       },
       "id": "9f80f4e2-1900-4b9b-8f4e-414eba159966"
      }
     }
    },
    "d751ef97-9379-4c87-8f08-a3335b6ef8c7": {
     "id": "d751ef97-9379-4c87-8f08-a3335b6ef8c7",
     "prev": "f0065a19-f8a5-4b66-be56-1d7d373b7f5e",
     "regions": {
      "70d0bdb8-9a36-47e4-906d-ec11d4f01a18": {
       "attrs": {
        "height": 0.8,
        "width": 0.8,
        "x": 0.1,
        "y": 0.1
       },
       "content": {
        "cell": "cb4be353-1615-4767-afdd-1fc637f37c41",
        "part": "whole"
       },
       "id": "70d0bdb8-9a36-47e4-906d-ec11d4f01a18"
      }
     }
    },
    "df3cb41a-0ea2-4b69-a0be-f0123592edf3": {
     "id": "df3cb41a-0ea2-4b69-a0be-f0123592edf3",
     "prev": "a7b3c13e-cf5a-46cd-9345-5aa6546b7d13",
     "regions": {
      "f97e4a35-5c15-4383-b69d-9744f5ae6fc4": {
       "attrs": {
        "height": 0.8,
        "width": 0.8,
        "x": 0.1,
        "y": 0.1
       },
       "content": {
        "cell": "882b8625-5e2b-41b2-bdad-233e155b5545",
        "part": "whole"
       },
       "id": "f97e4a35-5c15-4383-b69d-9744f5ae6fc4"
      }
     }
    },
    "ef853f2f-35c8-41e5-96dd-23d3420b64b8": {
     "id": "ef853f2f-35c8-41e5-96dd-23d3420b64b8",
     "prev": "b5ffb0b9-32d8-409a-a17f-c3b34d4ecd4e",
     "regions": {
      "2de28ef3-58d1-4002-992d-a593270b900f": {
       "attrs": {
        "height": 0.8,
        "width": 0.8,
        "x": 0.1,
        "y": 0.1
       },
       "content": {
        "cell": "badf2c2d-127c-4407-adaf-20cae0c1cb9e",
        "part": "whole"
       },
       "id": "2de28ef3-58d1-4002-992d-a593270b900f"
      }
     }
    },
    "f0065a19-f8a5-4b66-be56-1d7d373b7f5e": {
     "id": "f0065a19-f8a5-4b66-be56-1d7d373b7f5e",
     "prev": "a881c8cd-9cb6-4414-a2e4-a741ad6b5788",
     "regions": {
      "073007c4-e42a-4c27-b3df-afbb1b356413": {
       "attrs": {
        "height": 0.8,
        "width": 0.8,
        "x": 0.1,
        "y": 0.1
       },
       "content": {
        "cell": "dc4b0dd9-bb65-49b7-9146-b0779f2ec306",
        "part": "whole"
       },
       "id": "073007c4-e42a-4c27-b3df-afbb1b356413"
      }
     }
    },
    "f1a62424-903e-4733-ad5d-1ec7603394b4": {
     "id": "f1a62424-903e-4733-ad5d-1ec7603394b4",
     "prev": "157a04b8-becd-45f4-ae6a-d45331b9286d",
     "regions": {
      "9634aa1e-770c-443e-8cd0-530a5ecf056f": {
       "attrs": {
        "height": 0.8,
        "width": 0.8,
        "x": 0.1,
        "y": 0.1
       },
       "content": {
        "cell": "c7b2d452-50bd-48b5-a1ac-f38865a2173d",
        "part": "whole"
       },
       "id": "9634aa1e-770c-443e-8cd0-530a5ecf056f"
      }
     }
    },
    "faf996c1-ab90-4e21-9210-02ab341ff7ee": {
     "id": "faf996c1-ab90-4e21-9210-02ab341ff7ee",
     "prev": "58bc09f4-ddac-4105-93a9-46e3b52e658b",
     "regions": {
      "b80a2ad9-4592-48e8-a374-20d35dc13a04": {
       "attrs": {
        "height": 0.8,
        "width": 0.8,
        "x": 0.1,
        "y": 0.1
       },
       "content": {
        "cell": "606dd61f-6350-4a26-b8f6-5d9cabaf4d53",
        "part": "whole"
       },
       "id": "b80a2ad9-4592-48e8-a374-20d35dc13a04"
      }
     }
    },
    "fc8ce3da-0e4c-4e21-b229-354c5e42c944": {
     "id": "fc8ce3da-0e4c-4e21-b229-354c5e42c944",
     "prev": "ef853f2f-35c8-41e5-96dd-23d3420b64b8",
     "regions": {
      "ba1e3a65-a4fc-4996-9bcd-e85c1cf699e2": {
       "attrs": {
        "height": 0.8,
        "width": 0.8,
        "x": 0.1,
        "y": 0.1
       },
       "content": {
        "cell": "123feaab-3a42-44fe-93d1-5a6d499d95a0",
        "part": "whole"
       },
       "id": "ba1e3a65-a4fc-4996-9bcd-e85c1cf699e2"
      }
     }
    }
   },
   "themes": {}
  },
  "widgets": {
   "state": {
    "360bc0e90ba54e6a991c29e6359229d2": {
     "views": [
      {
       "cell_index": 47
      }
     ]
    },
    "50ac1be4d0004997bcac68a96148fe4d": {
     "views": [
      {
       "cell_index": 47
      }
     ]
    },
    "58b63f6e91d847c2924ae28d54604c33": {
     "views": [
      {
       "cell_index": 49
      }
     ]
    },
    "6233314c557842b3888a1ab502e3ee4f": {
     "views": [
      {
       "cell_index": 49
      }
     ]
    },
    "9fb1707ba13842cc8d941ec2a8e04b66": {
     "views": [
      {
       "cell_index": 51
      }
     ]
    },
    "a61af0e30e784fd89a6b12a419c656b4": {
     "views": [
      {
       "cell_index": 52
      }
     ]
    },
    "a7e9c36900c74a01bc1878b986de58a5": {
     "views": [
      {
       "cell_index": 51
      }
     ]
    },
    "d3118549470c4d12ae3bdb7dd99ac1e1": {
     "views": [
      {
       "cell_index": 52
      }
     ]
    }
   },
   "version": "1.2.0"
  }
 },
 "nbformat": 4,
 "nbformat_minor": 1
}
