{
 "cells": [
  {
   "cell_type": "markdown",
   "metadata": {},
   "source": [
    "# PDBProp - Working With a Single PDB Structure\n",
    "\n",
    "This notebook gives a tutorial of the **PDBProp object**, specifically how chains are handled and how to map a sequence to it.\n",
    "\n",
    "<div class=\"alert alert-info\">\n",
    "\n",
    "**Input:** PDB ID\n",
    "\n",
    "</div>\n",
    "\n",
    "<div class=\"alert alert-info\">\n",
    "\n",
    "**Output:** PDBProp object\n",
    "\n",
    "</div>"
   ]
  },
  {
   "cell_type": "markdown",
   "metadata": {},
   "source": [
    "## Imports"
   ]
  },
  {
   "cell_type": "code",
   "execution_count": 1,
   "metadata": {
    "collapsed": true
   },
   "outputs": [],
   "source": [
    "from ssbio.databases.pdb import PDBProp\n",
    "from ssbio.databases.uniprot import UniProtProp"
   ]
  },
  {
   "cell_type": "code",
   "execution_count": 2,
   "metadata": {
    "collapsed": true
   },
   "outputs": [],
   "source": [
    "import sys\n",
    "import logging"
   ]
  },
  {
   "cell_type": "code",
   "execution_count": 3,
   "metadata": {
    "collapsed": true
   },
   "outputs": [],
   "source": [
    "# Create logger\n",
    "logger = logging.getLogger()\n",
    "logger.setLevel(logging.DEBUG)  # SET YOUR LOGGING LEVEL HERE #"
   ]
  },
  {
   "cell_type": "code",
   "execution_count": 4,
   "metadata": {
    "collapsed": true
   },
   "outputs": [],
   "source": [
    "# Other logger stuff for Jupyter notebooks\n",
    "handler = logging.StreamHandler(sys.stderr)\n",
    "formatter = logging.Formatter('[%(asctime)s] [%(name)s] %(levelname)s: %(message)s', datefmt=\"%Y-%m-%d %H:%M\")\n",
    "handler.setFormatter(formatter)\n",
    "logger.handlers = [handler]"
   ]
  },
  {
   "cell_type": "markdown",
   "metadata": {},
   "source": [
    "## Basic methods"
   ]
  },
  {
   "cell_type": "code",
   "execution_count": 5,
   "metadata": {
    "collapsed": true
   },
   "outputs": [],
   "source": [
    "my_structure = PDBProp(ident='5T4Q', description='E. coli ATP synthase')"
   ]
  },
  {
   "cell_type": "markdown",
   "metadata": {},
   "source": [
    "### Download the structure"
   ]
  },
  {
   "cell_type": "markdown",
   "metadata": {},
   "source": [
    "Downloading will:\n",
    "- Download the file type of choice to the specific output directory\n",
    "- Parse the PDB header file to fill out the metadata fields"
   ]
  },
  {
   "cell_type": "code",
   "execution_count": 6,
   "metadata": {},
   "outputs": [
    {
     "name": "stderr",
     "output_type": "stream",
     "text": [
      "[2017-11-21 19:21] [ssbio.utils] DEBUG: /tmp/5t4q.mmtf: file already unzipped\n",
      "[2017-11-21 19:21] [ssbio.databases.pdb] DEBUG: /tmp/5t4q.mmtf: saved structure file\n",
      "[2017-11-21 19:21] [ssbio.databases.pdb] DEBUG: 5T4Q: downloaded mmtf file\n"
     ]
    }
   ],
   "source": [
    "import tempfile\n",
    "my_structure.download_structure_file(outdir=tempfile.gettempdir(), file_type='mmtf')"
   ]
  },
  {
   "cell_type": "markdown",
   "metadata": {},
   "source": [
    "### View all attributes"
   ]
  },
  {
   "cell_type": "code",
   "execution_count": 7,
   "metadata": {},
   "outputs": [
    {
     "data": {
      "text/plain": [
       "{'_structure_dir': '/tmp',\n",
       " 'chains': [],\n",
       " 'date': None,\n",
       " 'description': 'E. coli ATP synthase',\n",
       " 'experimental_method': None,\n",
       " 'file_type': 'mmtf',\n",
       " 'id': '5T4Q',\n",
       " 'is_experimental': True,\n",
       " 'mapped_chains': [],\n",
       " 'notes': {},\n",
       " 'resolution': None,\n",
       " 'structure_file': '5t4q.mmtf',\n",
       " 'taxonomy_name': None}"
      ]
     },
     "execution_count": 7,
     "metadata": {},
     "output_type": "execute_result"
    }
   ],
   "source": [
    "my_structure.get_dict()"
   ]
  },
  {
   "cell_type": "markdown",
   "metadata": {},
   "source": [
    "### Set chains that we are interested in (if any)"
   ]
  },
  {
   "cell_type": "markdown",
   "metadata": {},
   "source": [
    "The `mapped_chains` attribute allows us to limit sequence analyses to specified chains (see the later section where we [align a sequence to this structure](#Aligning-a-sequence-to-the-structure)). For this example, the ATP synthase is a complex of a number of protein chains, and if we are interested in a specific gene transcript, we can set those."
   ]
  },
  {
   "cell_type": "code",
   "execution_count": 8,
   "metadata": {},
   "outputs": [
    {
     "name": "stderr",
     "output_type": "stream",
     "text": [
      "[2017-11-21 19:21] [ssbio.protein.structure.structprop] DEBUG: A: added to list of mapped chains\n",
      "[2017-11-21 19:21] [ssbio.protein.structure.structprop] DEBUG: B: added to list of mapped chains\n",
      "[2017-11-21 19:21] [ssbio.protein.structure.structprop] DEBUG: C: added to list of mapped chains\n"
     ]
    }
   ],
   "source": [
    "# Chains A, B, and C make up ATP synthase subunit alpha - from the gene b3734 (UniProt ID P0ABB0)\n",
    "my_structure.add_mapped_chain_ids(['A', 'B', 'C'])"
   ]
  },
  {
   "cell_type": "markdown",
   "metadata": {},
   "source": [
    "### Parse the structure to work with the Biopython Structure object"
   ]
  },
  {
   "cell_type": "markdown",
   "metadata": {},
   "source": [
    "Parsing the structure will parse the sequences of each chain, and store those in the `chains` attribute. It will also return a Biopython Structure object which opens up all methods available for structures in Biopython."
   ]
  },
  {
   "cell_type": "code",
   "execution_count": 9,
   "metadata": {},
   "outputs": [
    {
     "name": "stderr",
     "output_type": "stream",
     "text": [
      "[2017-11-21 19:21] [ssbio.protein.structure.utils.structureio] DEBUG: 5t4q.mmtf: parsed 3D coordinates of structure\n",
      "[2017-11-21 19:21] [ssbio.protein.structure.structprop] DEBUG: A: added to chains list\n",
      "[2017-11-21 19:21] [ssbio.protein.structure.structprop] DEBUG: B: added to chains list\n",
      "[2017-11-21 19:21] [ssbio.protein.structure.structprop] DEBUG: C: added to chains list\n",
      "[2017-11-21 19:21] [ssbio.protein.structure.structprop] DEBUG: D: added to chains list\n",
      "[2017-11-21 19:21] [ssbio.protein.structure.structprop] DEBUG: E: added to chains list\n",
      "[2017-11-21 19:21] [ssbio.protein.structure.structprop] DEBUG: F: added to chains list\n",
      "[2017-11-21 19:21] [ssbio.protein.structure.structprop] DEBUG: G: added to chains list\n",
      "[2017-11-21 19:21] [ssbio.protein.structure.structprop] DEBUG: H: added to chains list\n",
      "[2017-11-21 19:21] [ssbio.protein.structure.structprop] DEBUG: I: added to chains list\n",
      "[2017-11-21 19:21] [ssbio.protein.structure.structprop] DEBUG: J: added to chains list\n",
      "[2017-11-21 19:21] [ssbio.protein.structure.structprop] DEBUG: K: added to chains list\n",
      "[2017-11-21 19:21] [ssbio.protein.structure.structprop] DEBUG: L: added to chains list\n",
      "[2017-11-21 19:21] [ssbio.protein.structure.structprop] DEBUG: M: added to chains list\n",
      "[2017-11-21 19:21] [ssbio.protein.structure.structprop] DEBUG: N: added to chains list\n",
      "[2017-11-21 19:21] [ssbio.protein.structure.structprop] DEBUG: O: added to chains list\n",
      "[2017-11-21 19:21] [ssbio.protein.structure.structprop] DEBUG: P: added to chains list\n",
      "[2017-11-21 19:21] [ssbio.protein.structure.structprop] DEBUG: Q: added to chains list\n",
      "[2017-11-21 19:21] [ssbio.protein.structure.structprop] DEBUG: R: added to chains list\n",
      "[2017-11-21 19:21] [ssbio.protein.structure.structprop] DEBUG: S: added to chains list\n",
      "[2017-11-21 19:21] [ssbio.protein.structure.structprop] DEBUG: T: added to chains list\n",
      "[2017-11-21 19:21] [ssbio.protein.structure.structprop] DEBUG: U: added to chains list\n",
      "[2017-11-21 19:21] [ssbio.protein.structure.structprop] DEBUG: V: added to chains list\n",
      "[2017-11-21 19:21] [ssbio.protein.structure.structprop] DEBUG: 5T4Q: gathered chain sequences\n",
      "[2017-11-21 19:21] [ssbio.protein.structure.structprop] DEBUG: A: adding chain sequence to ChainProp\n",
      "[2017-11-21 19:21] [ssbio.protein.structure.structprop] DEBUG: B: adding chain sequence to ChainProp\n",
      "[2017-11-21 19:21] [ssbio.protein.structure.structprop] DEBUG: C: adding chain sequence to ChainProp\n",
      "[2017-11-21 19:21] [ssbio.protein.structure.structprop] DEBUG: D: adding chain sequence to ChainProp\n",
      "[2017-11-21 19:21] [ssbio.protein.structure.structprop] DEBUG: E: adding chain sequence to ChainProp\n",
      "[2017-11-21 19:21] [ssbio.protein.structure.structprop] DEBUG: F: adding chain sequence to ChainProp\n",
      "[2017-11-21 19:21] [ssbio.protein.structure.structprop] DEBUG: G: adding chain sequence to ChainProp\n",
      "[2017-11-21 19:21] [ssbio.protein.structure.structprop] DEBUG: H: adding chain sequence to ChainProp\n",
      "[2017-11-21 19:21] [ssbio.protein.structure.structprop] DEBUG: I: adding chain sequence to ChainProp\n",
      "[2017-11-21 19:21] [ssbio.protein.structure.structprop] DEBUG: J: adding chain sequence to ChainProp\n",
      "[2017-11-21 19:21] [ssbio.protein.structure.structprop] DEBUG: K: adding chain sequence to ChainProp\n",
      "[2017-11-21 19:21] [ssbio.protein.structure.structprop] DEBUG: L: adding chain sequence to ChainProp\n",
      "[2017-11-21 19:21] [ssbio.protein.structure.structprop] DEBUG: M: adding chain sequence to ChainProp\n",
      "[2017-11-21 19:21] [ssbio.protein.structure.structprop] DEBUG: N: adding chain sequence to ChainProp\n",
      "[2017-11-21 19:21] [ssbio.protein.structure.structprop] DEBUG: O: adding chain sequence to ChainProp\n",
      "[2017-11-21 19:21] [ssbio.protein.structure.structprop] DEBUG: P: adding chain sequence to ChainProp\n",
      "[2017-11-21 19:21] [ssbio.protein.structure.structprop] DEBUG: Q: adding chain sequence to ChainProp\n",
      "[2017-11-21 19:21] [ssbio.protein.structure.structprop] DEBUG: R: adding chain sequence to ChainProp\n",
      "[2017-11-21 19:21] [ssbio.protein.structure.structprop] DEBUG: S: adding chain sequence to ChainProp\n",
      "[2017-11-21 19:21] [ssbio.protein.structure.structprop] DEBUG: T: adding chain sequence to ChainProp\n",
      "[2017-11-21 19:21] [ssbio.protein.structure.structprop] DEBUG: U: adding chain sequence to ChainProp\n",
      "[2017-11-21 19:21] [ssbio.protein.structure.structprop] DEBUG: V: adding chain sequence to ChainProp\n"
     ]
    },
    {
     "name": "stdout",
     "output_type": "stream",
     "text": [
      "<class 'Bio.PDB.Structure.Structure'>\n",
      "<class 'Bio.PDB.Model.Model'>\n"
     ]
    }
   ],
   "source": [
    "parsed_structure = my_structure.parse_structure()\n",
    "print(type(parsed_structure.structure))\n",
    "print(type(parsed_structure.first_model))"
   ]
  },
  {
   "cell_type": "markdown",
   "metadata": {},
   "source": [
    "### Clean the structure and save the structure"
   ]
  },
  {
   "cell_type": "markdown",
   "metadata": {},
   "source": [
    "Cleaning a structure does the following:\n",
    "- Add missing chain identifiers to a PDB file\n",
    "- Select a single chain if noted\n",
    "- Remove alternate atom locations\n",
    "- Add atom occupancies\n",
    "- Add B (temperature) factors (default Biopython behavior)\n",
    "\n",
    "In the example below, we will clean the structure so it only includes our mapped chains."
   ]
  },
  {
   "cell_type": "code",
   "execution_count": 10,
   "metadata": {},
   "outputs": [
    {
     "name": "stderr",
     "output_type": "stream",
     "text": [
      "[2017-11-21 19:21] [ssbio.protein.structure.utils.structureio] DEBUG: 5t4q.mmtf: parsed 3D coordinates of structure\n"
     ]
    },
    {
     "data": {
      "text/plain": [
       "'/tmp/5t4q_clean.pdb'"
      ]
     },
     "execution_count": 10,
     "metadata": {},
     "output_type": "execute_result"
    }
   ],
   "source": [
    "cleaned_structure = my_structure.clean_structure(outdir='/tmp', keep_chains=my_structure.mapped_chains, force_rerun=True)\n",
    "cleaned_structure"
   ]
  },
  {
   "cell_type": "markdown",
   "metadata": {},
   "source": [
    "### Viewing the structure"
   ]
  },
  {
   "cell_type": "code",
   "execution_count": 13,
   "metadata": {},
   "outputs": [
    {
     "data": {
      "application/vnd.jupyter.widget-view+json": {
       "model_id": "5f8dedd375674cd4a02872cdad406d33",
       "version_major": 2,
       "version_minor": 0
      },
      "text/html": [
       "<p>Failed to display Jupyter Widget of type <code>NGLWidget</code>.</p>\n",
       "<p>\n",
       "  If you're reading this message in Jupyter Notebook or JupyterLab, it may mean\n",
       "  that the widgets JavaScript is still loading. If this message persists, it\n",
       "  likely means that the widgets JavaScript library is either not installed or\n",
       "  not enabled. See the <a href=\"https://ipywidgets.readthedocs.io/en/stable/user_install.html\">Jupyter\n",
       "  Widgets Documentation</a> for setup instructions.\n",
       "</p>\n",
       "<p>\n",
       "  If you're reading this message in another notebook frontend (for example, a static\n",
       "  rendering on GitHub or <a href=\"https://nbviewer.jupyter.org/\">NBViewer</a>),\n",
       "  it may mean that your frontend doesn't currently support widgets.\n",
       "</p>\n"
      ],
      "text/plain": [
       "NGLWidget()"
      ]
     },
     "metadata": {},
     "output_type": "display_data"
    }
   ],
   "source": [
    "# The original structure\n",
    "my_structure.view_structure(recolor=False)"
   ]
  },
  {
   "cell_type": "code",
   "execution_count": 14,
   "metadata": {},
   "outputs": [
    {
     "data": {
      "application/vnd.jupyter.widget-view+json": {
       "model_id": "27c9e5ad51cc417f91799ada8ac79fe5",
       "version_major": 2,
       "version_minor": 0
      },
      "text/html": [
       "<p>Failed to display Jupyter Widget of type <code>NGLWidget</code>.</p>\n",
       "<p>\n",
       "  If you're reading this message in Jupyter Notebook or JupyterLab, it may mean\n",
       "  that the widgets JavaScript is still loading. If this message persists, it\n",
       "  likely means that the widgets JavaScript library is either not installed or\n",
       "  not enabled. See the <a href=\"https://ipywidgets.readthedocs.io/en/stable/user_install.html\">Jupyter\n",
       "  Widgets Documentation</a> for setup instructions.\n",
       "</p>\n",
       "<p>\n",
       "  If you're reading this message in another notebook frontend (for example, a static\n",
       "  rendering on GitHub or <a href=\"https://nbviewer.jupyter.org/\">NBViewer</a>),\n",
       "  it may mean that your frontend doesn't currently support widgets.\n",
       "</p>\n"
      ],
      "text/plain": [
       "NGLWidget()"
      ]
     },
     "metadata": {},
     "output_type": "display_data"
    }
   ],
   "source": [
    "# The cleaned structure\n",
    "import nglview\n",
    "nglview.show_structure_file(cleaned_structure)"
   ]
  },
  {
   "cell_type": "code",
   "execution_count": null,
   "metadata": {
    "collapsed": true
   },
   "outputs": [],
   "source": []
  }
 ],
 "metadata": {
  "anaconda-cloud": {},
  "kernelspec": {
   "display_name": "Python [default]",
   "language": "python",
   "name": "python3"
  },
  "language_info": {
   "codemirror_mode": {
    "name": "ipython",
    "version": 3
   },
   "file_extension": ".py",
   "mimetype": "text/x-python",
   "name": "python",
   "nbconvert_exporter": "python",
   "pygments_lexer": "ipython3",
   "version": "3.6.3"
  }
 },
 "nbformat": 4,
 "nbformat_minor": 1
}
