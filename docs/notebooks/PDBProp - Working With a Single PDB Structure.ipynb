{
 "cells": [
  {
   "cell_type": "markdown",
   "metadata": {},
   "source": [
    "# PDBProp - Working With a Single PDB Structure\n",
    "\n",
    "This notebook gives a tutorial of the **PDBProp object**, specifically how chains are handled and how to map a sequence to it.\n",
    "\n",
    "<div class=\"alert alert-info\">\n",
    "\n",
    "**Input:** PDB ID\n",
    "\n",
    "</div>\n",
    "\n",
    "<div class=\"alert alert-info\">\n",
    "\n",
    "**Output:** PDBProp object\n",
    "\n",
    "</div>"
   ]
  },
  {
   "cell_type": "markdown",
   "metadata": {},
   "source": [
    "## Imports"
   ]
  },
  {
   "cell_type": "code",
   "execution_count": 1,
   "metadata": {
    "collapsed": true
   },
   "outputs": [],
   "source": [
    "from ssbio.databases.pdb import PDBProp\n",
    "from ssbio.databases.uniprot import UniProtProp"
   ]
  },
  {
   "cell_type": "code",
   "execution_count": 2,
   "metadata": {
    "collapsed": true
   },
   "outputs": [],
   "source": [
    "import sys\n",
    "import logging"
   ]
  },
  {
   "cell_type": "code",
   "execution_count": 3,
   "metadata": {
    "collapsed": false
   },
   "outputs": [],
   "source": [
    "# Create logger\n",
    "logger = logging.getLogger()\n",
    "logger.setLevel(logging.DEBUG)  # SET YOUR LOGGING LEVEL HERE #"
   ]
  },
  {
   "cell_type": "code",
   "execution_count": 4,
   "metadata": {
    "collapsed": true
   },
   "outputs": [],
   "source": [
    "# Other logger stuff for Jupyter notebooks\n",
    "handler = logging.StreamHandler(sys.stderr)\n",
    "formatter = logging.Formatter('[%(asctime)s] [%(name)s] %(levelname)s: %(message)s', datefmt=\"%Y-%m-%d %H:%M\")\n",
    "handler.setFormatter(formatter)\n",
    "logger.handlers = [handler]"
   ]
  },
  {
   "cell_type": "markdown",
   "metadata": {},
   "source": [
    "## Basic methods"
   ]
  },
  {
   "cell_type": "code",
   "execution_count": 5,
   "metadata": {
    "collapsed": false
   },
   "outputs": [],
   "source": [
    "my_structure = PDBProp(ident='5T4Q', description='E. coli ATP synthase')"
   ]
  },
  {
   "cell_type": "markdown",
   "metadata": {},
   "source": [
    "### Download the structure"
   ]
  },
  {
   "cell_type": "markdown",
   "metadata": {},
   "source": [
    "Downloading will:\n",
    "- Download the file type of choice to the specific output directory\n",
    "- Parse the PDB header file to fill out the metadata fields"
   ]
  },
  {
   "cell_type": "code",
   "execution_count": 6,
   "metadata": {
    "collapsed": false
   },
   "outputs": [
    {
     "name": "stderr",
     "output_type": "stream",
     "text": [
      "[2017-04-12 14:11] [ssbio.databases.pdb] DEBUG: /tmp/5t4q.cif: structure file already saved\n",
      "[2017-04-12 14:11] [ssbio.databases.pdb] DEBUG: 5T4Q: downloaded cif file\n",
      "[2017-04-12 14:11] [ssbio.databases.pdb] DEBUG: /tmp/5t4q.cif: no resolution field\n"
     ]
    }
   ],
   "source": [
    "import tempfile\n",
    "my_structure.download_structure_file(outdir=tempfile.gettempdir(), file_type='cif')"
   ]
  },
  {
   "cell_type": "markdown",
   "metadata": {},
   "source": [
    "### View all attributes"
   ]
  },
  {
   "cell_type": "code",
   "execution_count": 7,
   "metadata": {
    "collapsed": false
   },
   "outputs": [
    {
     "data": {
      "text/plain": [
       "{'_structure_dir': '/tmp',\n",
       " 'chains': [],\n",
       " 'chemicals': ['ADP', 'ATP'],\n",
       " 'date': '2017-01-04',\n",
       " 'description': 'E. coli ATP synthase',\n",
       " 'experimental_method': 'ELECTRON MICROSCOPY',\n",
       " 'file_type': 'cif',\n",
       " 'id': '5T4Q',\n",
       " 'is_experimental': True,\n",
       " 'mapped_chains': [],\n",
       " 'pdb_title': 'Autoinhibited E. coli ATP synthase state 3',\n",
       " 'reference_seq_top_coverage': None,\n",
       " 'representative_chain': None,\n",
       " 'resolution': None,\n",
       " 'structure_file': '5t4q.cif',\n",
       " 'taxonomy_name': ['Escherichia coli',\n",
       "  'Escherichia coli',\n",
       "  'Escherichia coli',\n",
       "  'Escherichia coli',\n",
       "  'Escherichia coli',\n",
       "  'Escherichia coli',\n",
       "  'Escherichia coli',\n",
       "  'Escherichia coli']}"
      ]
     },
     "execution_count": 7,
     "metadata": {},
     "output_type": "execute_result"
    }
   ],
   "source": [
    "my_structure.get_dict()"
   ]
  },
  {
   "cell_type": "markdown",
   "metadata": {},
   "source": [
    "### Set chains that we are interested in (if any)"
   ]
  },
  {
   "cell_type": "markdown",
   "metadata": {},
   "source": [
    "The `mapped_chains` attribute allows us to limit sequence analyses to specified chains (see the later section where we [align a sequence to this structure](#Aligning-a-sequence-to-the-structure)). For this example, the ATP synthase is a complex of a number of protein chains, and if we are interested in a specific gene transcript, we can set those."
   ]
  },
  {
   "cell_type": "code",
   "execution_count": 8,
   "metadata": {
    "collapsed": false
   },
   "outputs": [
    {
     "name": "stderr",
     "output_type": "stream",
     "text": [
      "[2017-04-12 14:11] [ssbio.protein.structure.structprop] DEBUG: A: added to list of mapped chains\n",
      "[2017-04-12 14:11] [ssbio.protein.structure.structprop] DEBUG: B: added to list of mapped chains\n",
      "[2017-04-12 14:11] [ssbio.protein.structure.structprop] DEBUG: C: added to list of mapped chains\n"
     ]
    }
   ],
   "source": [
    "# Chains A, B, and C make up ATP synthase subunit alpha - from the gene b3734 (UniProt ID P0ABB0)\n",
    "my_structure.add_mapped_chain_ids(['A', 'B', 'C'])"
   ]
  },
  {
   "cell_type": "markdown",
   "metadata": {},
   "source": [
    "### Parse the structure to work with the Biopython Structure object"
   ]
  },
  {
   "cell_type": "markdown",
   "metadata": {},
   "source": [
    "Parsing the structure will parse the sequences of each chain, and store those in the `chains` attribute. It will also return a Biopython Structure object which opens up all methods available for structures in Biopython."
   ]
  },
  {
   "cell_type": "code",
   "execution_count": 9,
   "metadata": {
    "collapsed": false
   },
   "outputs": [
    {
     "name": "stderr",
     "output_type": "stream",
     "text": [
      "[2017-04-04 17:55] [ssbio.protein.structure.utils.structureio] DEBUG: 5t4q.cif: parsed 3D coordinates of structure\n",
      "[2017-04-04 17:55] [ssbio.protein.structure.structprop] DEBUG: A: added to chains list\n",
      "[2017-04-04 17:55] [ssbio.protein.structure.structprop] DEBUG: B: added to chains list\n",
      "[2017-04-04 17:55] [ssbio.protein.structure.structprop] DEBUG: C: added to chains list\n",
      "[2017-04-04 17:55] [ssbio.protein.structure.structprop] DEBUG: D: added to chains list\n",
      "[2017-04-04 17:55] [ssbio.protein.structure.structprop] DEBUG: E: added to chains list\n",
      "[2017-04-04 17:55] [ssbio.protein.structure.structprop] DEBUG: F: added to chains list\n",
      "[2017-04-04 17:55] [ssbio.protein.structure.structprop] DEBUG: G: added to chains list\n",
      "[2017-04-04 17:55] [ssbio.protein.structure.structprop] DEBUG: H: added to chains list\n",
      "[2017-04-04 17:55] [ssbio.protein.structure.structprop] DEBUG: I: added to chains list\n",
      "[2017-04-04 17:55] [ssbio.protein.structure.structprop] DEBUG: J: added to chains list\n",
      "[2017-04-04 17:55] [ssbio.protein.structure.structprop] DEBUG: K: added to chains list\n",
      "[2017-04-04 17:55] [ssbio.protein.structure.structprop] DEBUG: L: added to chains list\n",
      "[2017-04-04 17:55] [ssbio.protein.structure.structprop] DEBUG: M: added to chains list\n",
      "[2017-04-04 17:55] [ssbio.protein.structure.structprop] DEBUG: N: added to chains list\n",
      "[2017-04-04 17:55] [ssbio.protein.structure.structprop] DEBUG: O: added to chains list\n",
      "[2017-04-04 17:55] [ssbio.protein.structure.structprop] DEBUG: P: added to chains list\n",
      "[2017-04-04 17:55] [ssbio.protein.structure.structprop] DEBUG: Q: added to chains list\n",
      "[2017-04-04 17:55] [ssbio.protein.structure.structprop] DEBUG: R: added to chains list\n",
      "[2017-04-04 17:55] [ssbio.protein.structure.structprop] DEBUG: S: added to chains list\n",
      "[2017-04-04 17:55] [ssbio.protein.structure.structprop] DEBUG: T: added to chains list\n",
      "[2017-04-04 17:55] [ssbio.protein.structure.structprop] DEBUG: U: added to chains list\n",
      "[2017-04-04 17:55] [ssbio.protein.structure.structprop] DEBUG: V: added to chains list\n",
      "[2017-04-04 17:55] [ssbio.protein.structure.structprop] DEBUG: 5T4Q: gathered chain sequences\n",
      "[2017-04-04 17:55] [ssbio.protein.structure.structprop] DEBUG: A: adding chain sequence to ChainProp\n",
      "[2017-04-04 17:55] [ssbio.protein.structure.structprop] DEBUG: B: adding chain sequence to ChainProp\n",
      "[2017-04-04 17:55] [ssbio.protein.structure.structprop] DEBUG: C: adding chain sequence to ChainProp\n",
      "[2017-04-04 17:55] [ssbio.protein.structure.structprop] DEBUG: D: adding chain sequence to ChainProp\n",
      "[2017-04-04 17:55] [ssbio.protein.structure.structprop] DEBUG: E: adding chain sequence to ChainProp\n",
      "[2017-04-04 17:55] [ssbio.protein.structure.structprop] DEBUG: F: adding chain sequence to ChainProp\n",
      "[2017-04-04 17:55] [ssbio.protein.structure.structprop] DEBUG: G: adding chain sequence to ChainProp\n",
      "[2017-04-04 17:55] [ssbio.protein.structure.structprop] DEBUG: H: adding chain sequence to ChainProp\n",
      "[2017-04-04 17:55] [ssbio.protein.structure.structprop] DEBUG: I: adding chain sequence to ChainProp\n",
      "[2017-04-04 17:55] [ssbio.protein.structure.structprop] DEBUG: J: adding chain sequence to ChainProp\n",
      "[2017-04-04 17:55] [ssbio.protein.structure.structprop] DEBUG: K: adding chain sequence to ChainProp\n",
      "[2017-04-04 17:55] [ssbio.protein.structure.structprop] DEBUG: L: adding chain sequence to ChainProp\n",
      "[2017-04-04 17:55] [ssbio.protein.structure.structprop] DEBUG: M: adding chain sequence to ChainProp\n",
      "[2017-04-04 17:55] [ssbio.protein.structure.structprop] DEBUG: N: adding chain sequence to ChainProp\n",
      "[2017-04-04 17:55] [ssbio.protein.structure.structprop] DEBUG: O: adding chain sequence to ChainProp\n",
      "[2017-04-04 17:55] [ssbio.protein.structure.structprop] DEBUG: P: adding chain sequence to ChainProp\n",
      "[2017-04-04 17:55] [ssbio.protein.structure.structprop] DEBUG: Q: adding chain sequence to ChainProp\n",
      "[2017-04-04 17:55] [ssbio.protein.structure.structprop] DEBUG: R: adding chain sequence to ChainProp\n",
      "[2017-04-04 17:55] [ssbio.protein.structure.structprop] DEBUG: S: adding chain sequence to ChainProp\n",
      "[2017-04-04 17:55] [ssbio.protein.structure.structprop] DEBUG: T: adding chain sequence to ChainProp\n",
      "[2017-04-04 17:55] [ssbio.protein.structure.structprop] DEBUG: U: adding chain sequence to ChainProp\n",
      "[2017-04-04 17:55] [ssbio.protein.structure.structprop] DEBUG: V: adding chain sequence to ChainProp\n"
     ]
    },
    {
     "name": "stdout",
     "output_type": "stream",
     "text": [
      "<class 'Bio.PDB.Structure.Structure'>\n",
      "<class 'Bio.PDB.Model.Model'>\n"
     ]
    }
   ],
   "source": [
    "parsed_structure = my_structure.parse_structure()\n",
    "print(type(parsed_structure.structure))\n",
    "print(type(parsed_structure.first_model))"
   ]
  },
  {
   "cell_type": "markdown",
   "metadata": {},
   "source": [
    "### Clean the structure and save the structure"
   ]
  },
  {
   "cell_type": "markdown",
   "metadata": {},
   "source": [
    "Cleaning a structure does the following:\n",
    "- Add missing chain identifiers to a PDB file\n",
    "- Select a single chain if noted\n",
    "- Remove alternate atom locations\n",
    "- Add atom occupancies\n",
    "- Add B (temperature) factors (default Biopython behavior)\n",
    "\n",
    "In the example below, we will clean the structure so it only includes our mapped chains."
   ]
  },
  {
   "cell_type": "code",
   "execution_count": 10,
   "metadata": {
    "collapsed": false
   },
   "outputs": [
    {
     "name": "stderr",
     "output_type": "stream",
     "text": [
      "[2017-04-04 17:55] [ssbio.protein.structure.utils.structureio] DEBUG: 5t4q.cif: parsed 3D coordinates of structure\n"
     ]
    },
    {
     "data": {
      "text/plain": [
       "'/tmp/5t4q_clean.pdb'"
      ]
     },
     "execution_count": 10,
     "metadata": {},
     "output_type": "execute_result"
    }
   ],
   "source": [
    "cleaned_structure = my_structure.clean_structure(outdir='/tmp', keep_chains=my_structure.mapped_chains, force_rerun=True)\n",
    "cleaned_structure"
   ]
  },
  {
   "cell_type": "markdown",
   "metadata": {},
   "source": [
    "### Viewing the structure"
   ]
  },
  {
   "cell_type": "code",
   "execution_count": 32,
   "metadata": {
    "collapsed": true
   },
   "outputs": [],
   "source": [
    "# The original structure\n",
    "my_structure.view_structure(recolor=False)"
   ]
  },
  {
   "cell_type": "code",
   "execution_count": 33,
   "metadata": {
    "collapsed": true
   },
   "outputs": [],
   "source": [
    "# The cleaned structure\n",
    "import nglview\n",
    "nglview.show_structure_file(cleaned_structure)"
   ]
  },
  {
   "cell_type": "markdown",
   "metadata": {},
   "source": [
    "### Aligning a sequence to the structure"
   ]
  },
  {
   "cell_type": "code",
   "execution_count": 13,
   "metadata": {
    "collapsed": true
   },
   "outputs": [],
   "source": [
    "# First load up the sequence we are interested in\n",
    "my_sequence = UniProtProp('P0ABB0')\n",
    "my_sequence.download_seq_file(outdir=tempfile.gettempdir())"
   ]
  },
  {
   "cell_type": "code",
   "execution_count": 14,
   "metadata": {
    "collapsed": false
   },
   "outputs": [
    {
     "name": "stderr",
     "output_type": "stream",
     "text": [
      "[2017-04-04 17:55] [ssbio.protein.structure.utils.structureio] DEBUG: 5t4q.cif: parsed 3D coordinates of structure\n",
      "[2017-04-04 17:55] [ssbio.protein.structure.structprop] DEBUG: A: chain already present\n",
      "[2017-04-04 17:55] [ssbio.protein.structure.structprop] DEBUG: B: chain already present\n",
      "[2017-04-04 17:55] [ssbio.protein.structure.structprop] DEBUG: C: chain already present\n",
      "[2017-04-04 17:55] [ssbio.protein.structure.structprop] DEBUG: D: chain already present\n",
      "[2017-04-04 17:55] [ssbio.protein.structure.structprop] DEBUG: E: chain already present\n",
      "[2017-04-04 17:55] [ssbio.protein.structure.structprop] DEBUG: F: chain already present\n",
      "[2017-04-04 17:55] [ssbio.protein.structure.structprop] DEBUG: G: chain already present\n",
      "[2017-04-04 17:55] [ssbio.protein.structure.structprop] DEBUG: H: chain already present\n",
      "[2017-04-04 17:55] [ssbio.protein.structure.structprop] DEBUG: I: chain already present\n",
      "[2017-04-04 17:55] [ssbio.protein.structure.structprop] DEBUG: J: chain already present\n",
      "[2017-04-04 17:55] [ssbio.protein.structure.structprop] DEBUG: K: chain already present\n",
      "[2017-04-04 17:55] [ssbio.protein.structure.structprop] DEBUG: L: chain already present\n",
      "[2017-04-04 17:55] [ssbio.protein.structure.structprop] DEBUG: M: chain already present\n",
      "[2017-04-04 17:55] [ssbio.protein.structure.structprop] DEBUG: N: chain already present\n",
      "[2017-04-04 17:55] [ssbio.protein.structure.structprop] DEBUG: O: chain already present\n",
      "[2017-04-04 17:55] [ssbio.protein.structure.structprop] DEBUG: P: chain already present\n",
      "[2017-04-04 17:55] [ssbio.protein.structure.structprop] DEBUG: Q: chain already present\n",
      "[2017-04-04 17:55] [ssbio.protein.structure.structprop] DEBUG: R: chain already present\n",
      "[2017-04-04 17:55] [ssbio.protein.structure.structprop] DEBUG: S: chain already present\n",
      "[2017-04-04 17:55] [ssbio.protein.structure.structprop] DEBUG: T: chain already present\n",
      "[2017-04-04 17:55] [ssbio.protein.structure.structprop] DEBUG: U: chain already present\n",
      "[2017-04-04 17:55] [ssbio.protein.structure.structprop] DEBUG: V: chain already present\n",
      "[2017-04-04 17:55] [ssbio.protein.structure.structprop] DEBUG: Not writing structure sequences, already stored\n",
      "[2017-04-04 17:55] [ssbio.protein.structure.structprop] DEBUG: 5T4Q-A: aligning to reference sequence P0ABB0\n",
      "[2017-04-04 17:55] [ssbio.protein.sequence.utils.alignment] DEBUG: Needle alignment at /tmp/P0ABB0_5T4Q-A.needle\n",
      "[2017-04-04 17:55] [ssbio.protein.sequence.utils.alignment] DEBUG: Deletion of length 2 at residues (512, 513)\n",
      "[2017-04-04 17:55] [ssbio.protein.structure.structprop] DEBUG: 5T4Q-B: aligning to reference sequence P0ABB0\n",
      "[2017-04-04 17:55] [ssbio.protein.sequence.utils.alignment] DEBUG: Needle alignment at /tmp/P0ABB0_5T4Q-B.needle\n",
      "[2017-04-04 17:55] [ssbio.protein.sequence.utils.alignment] DEBUG: Deletion of length 2 at residues (512, 513)\n",
      "[2017-04-04 17:55] [ssbio.protein.structure.structprop] DEBUG: 5T4Q-C: aligning to reference sequence P0ABB0\n",
      "[2017-04-04 17:55] [ssbio.protein.sequence.utils.alignment] DEBUG: Needle alignment at /tmp/P0ABB0_5T4Q-C.needle\n",
      "[2017-04-04 17:55] [ssbio.protein.sequence.utils.alignment] DEBUG: Deletion of length 2 at residues (512, 513)\n"
     ]
    }
   ],
   "source": [
    "# Then align the sequence to only the mapped_chains\n",
    "my_structure.align_seqprop_to_mapped_chains(my_sequence, engine='needle', outdir=tempfile.gettempdir())"
   ]
  },
  {
   "cell_type": "code",
   "execution_count": 15,
   "metadata": {
    "collapsed": false
   },
   "outputs": [
    {
     "name": "stdout",
     "output_type": "stream",
     "text": [
      "P0ABB0_5T4Q-A\n",
      "{'deletions': [((512, 513), 2)], 'structure_id': '5T4Q', 'percent_gaps': 0.4, 'a_seq': 'P0ABB0', 'b_seq': '5T4Q-A', 'percent_similarity': 98.6, 'chain_id': 'A', 'percent_identity': 98.6, 'mutations': [('C', 47, 'A'), ('C', 90, 'A'), ('C', 193, 'A'), ('C', 243, 'A'), ('K', 419, 'N')], 'insertions': [], 'score': 2510.0}\n",
      "P0ABB0_5T4Q-B\n",
      "{'deletions': [((512, 513), 2)], 'structure_id': '5T4Q', 'percent_gaps': 0.4, 'a_seq': 'P0ABB0', 'b_seq': '5T4Q-B', 'percent_similarity': 98.4, 'chain_id': 'B', 'percent_identity': 98.4, 'mutations': [('M', 1, 'X'), ('C', 47, 'A'), ('C', 90, 'A'), ('C', 193, 'A'), ('C', 243, 'A'), ('K', 419, 'N')], 'insertions': [], 'score': 2504.0}\n",
      "P0ABB0_5T4Q-C\n",
      "{'deletions': [((512, 513), 2)], 'structure_id': '5T4Q', 'percent_gaps': 0.4, 'a_seq': 'P0ABB0', 'b_seq': '5T4Q-C', 'percent_similarity': 98.1, 'chain_id': 'C', 'percent_identity': 98.1, 'mutations': [('M', 1, 'X'), ('Q', 2, 'X'), ('L', 3, 'X'), ('C', 47, 'A'), ('C', 90, 'A'), ('C', 193, 'A'), ('C', 243, 'A'), ('K', 419, 'N')], 'insertions': [], 'score': 2493.0}\n"
     ]
    }
   ],
   "source": [
    "# Here is the alignment information which is stored in my_sequence\n",
    "for alignment in my_sequence.structure_alignments:\n",
    "    print(alignment.id)\n",
    "    print(alignment.annotations)"
   ]
  },
  {
   "cell_type": "code",
   "execution_count": 16,
   "metadata": {
    "collapsed": false
   },
   "outputs": [
    {
     "name": "stderr",
     "output_type": "stream",
     "text": [
      "[2017-04-04 17:55] [ssbio.protein.structure.properties.quality] DEBUG: 0.98635477582846: percent identity\n",
      "[2017-04-04 17:55] [ssbio.protein.structure.properties.quality] DEBUG: Alignment meets percent identity cutoff\n",
      "[2017-04-04 17:55] [ssbio.protein.structure.properties.quality] DEBUG: No insertion regions\n",
      "[2017-04-04 17:55] [ssbio.protein.structure.structprop] DEBUG: 5T4Q: chain A set as representative\n"
     ]
    },
    {
     "data": {
      "text/plain": [
       "<ChainProp A at 0x7fdede842550>"
      ]
     },
     "execution_count": 16,
     "metadata": {},
     "output_type": "execute_result"
    }
   ],
   "source": [
    "# We can also see which chain represents the sequence best\n",
    "my_structure.sequence_quality_checker(my_sequence, allow_deletions=True)"
   ]
  },
  {
   "cell_type": "code",
   "execution_count": 17,
   "metadata": {
    "collapsed": false
   },
   "outputs": [
    {
     "name": "stderr",
     "output_type": "stream",
     "text": [
      "[2017-04-04 17:55] [ssbio.protein.structure.structprop] WARNING: 5T4Q-B, 1: structure file does not contain coordinates for this residue\n",
      "[2017-04-04 17:55] [ssbio.protein.structure.structprop] WARNING: 5T4Q-C, 1: structure file does not contain coordinates for this residue\n",
      "[2017-04-04 17:55] [ssbio.protein.structure.structprop] WARNING: 5T4Q-C, 2: structure file does not contain coordinates for this residue\n",
      "[2017-04-04 17:55] [ssbio.protein.structure.structprop] WARNING: 5T4Q-C, 3: structure file does not contain coordinates for this residue\n"
     ]
    },
    {
     "data": {
      "text/plain": [
       "{'A': {1: (' ', 1, ' '),\n",
       "  2: (' ', 2, ' '),\n",
       "  3: (' ', 3, ' '),\n",
       "  4: (' ', 4, ' '),\n",
       "  5: (' ', 5, ' '),\n",
       "  6: (' ', 6, ' ')},\n",
       " 'B': {2: (' ', 2, ' '),\n",
       "  3: (' ', 3, ' '),\n",
       "  4: (' ', 4, ' '),\n",
       "  5: (' ', 5, ' '),\n",
       "  6: (' ', 6, ' ')},\n",
       " 'C': {4: (' ', 4, ' '), 5: (' ', 5, ' '), 6: (' ', 6, ' ')}}"
      ]
     },
     "execution_count": 17,
     "metadata": {},
     "output_type": "execute_result"
    }
   ],
   "source": [
    "# This is how you map any residue number to structure's residue number\n",
    "my_structure.map_seqprop_resnums_to_mapped_chains(my_sequence, [1,2,3,4,5,6])"
   ]
  }
 ],
 "metadata": {
  "anaconda-cloud": {},
  "kernelspec": {
   "display_name": "Python [default]",
   "language": "python",
   "name": "python3"
  },
  "language_info": {
   "codemirror_mode": {
    "name": "ipython",
    "version": 3
   },
   "file_extension": ".py",
   "mimetype": "text/x-python",
   "name": "python",
   "nbconvert_exporter": "python",
   "pygments_lexer": "ipython3",
   "version": "3.5.2"
  }
 },
 "nbformat": 4,
 "nbformat_minor": 1
}
