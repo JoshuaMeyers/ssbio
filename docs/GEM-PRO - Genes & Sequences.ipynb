{
 "cells": [
  {
   "cell_type": "markdown",
   "metadata": {},
   "source": [
    "# GEM-PRO - Genes & Sequences\n",
    "\n",
    "This notebook gives an example of how to run the GEM-PRO pipeline with a **dictionary of gene IDs and their sequences**."
   ]
  },
  {
   "cell_type": "markdown",
   "metadata": {},
   "source": [
    "## Imports"
   ]
  },
  {
   "cell_type": "code",
   "execution_count": 1,
   "metadata": {
    "collapsed": false
   },
   "outputs": [],
   "source": [
    "# Import the GEM-PRO class\n",
    "from ssbio.pipeline.gempro import GEMPRO"
   ]
  },
  {
   "cell_type": "code",
   "execution_count": 2,
   "metadata": {
    "collapsed": false
   },
   "outputs": [],
   "source": [
    "# Printing multiple outputs per cell\n",
    "from IPython.core.interactiveshell import InteractiveShell\n",
    "InteractiveShell.ast_node_interactivity = \"all\""
   ]
  },
  {
   "cell_type": "markdown",
   "metadata": {},
   "source": [
    "### Logging\n",
    "\n",
    "Set the logging level in **`logger.setLevel(logging.<LEVEL_HERE>)`** to specify how verbose you want the pipeline to be. Debug is most verbose.\n",
    "\n",
    "- **`CRITICAL`**\n",
    "     - Only really important messages shown\n",
    "- **`ERROR`**\n",
    "     - Major errors\n",
    "- **`WARNING`**\n",
    "     - Warnings that don't affect running of the pipeline\n",
    "- **`INFO`** (default)\n",
    "     - Info such as the number of structures mapped per gene\n",
    "- **`DEBUG`**\n",
    "     - Really detailed information that will print out a lot of stuff\n",
    "     \n",
    "<div class=\"alert alert-warning\">**Warning:** **`DEBUG`** mode prints out a large amount of information, especially if you have a lot of genes. This may stall your notebook!</div>"
   ]
  },
  {
   "cell_type": "code",
   "execution_count": 3,
   "metadata": {
    "collapsed": true
   },
   "outputs": [],
   "source": [
    "# Create logger\n",
    "import logging\n",
    "logger = logging.getLogger()\n",
    "logger.setLevel(logging.INFO)  # SET YOUR LOGGING LEVEL HERE #"
   ]
  },
  {
   "cell_type": "markdown",
   "metadata": {},
   "source": [
    "## Initialization of the project\n",
    "\n",
    "Set these three things:\n",
    "\n",
    "- **`ROOT_DIR`**\n",
    "    - The directory where a folder named after your PROJECT will be created\n",
    "- **`PROJECT`**\n",
    "    - Your project name\n",
    "- **`GENES_AND_SEQUENCES`**\n",
    "    - Your dictionary of gene IDs and their sequence strings\n",
    "    \n",
    "A directory will be created in ROOT_DIR with your PROJECT name. The folders are organized like so:\n",
    "```\n",
    "    PROJECT\n",
    "    ├── data\n",
    "    ├── model\n",
    "    ├── genes\n",
    "    │   ├── <gene_id1>\n",
    "    │   │   └── protein\n",
    "    │   │       ├── sequence\n",
    "    │   │       └── structure\n",
    "    │   └── <gene_id2>\n",
    "    │       └── protein\n",
    "    │           ├── sequence\n",
    "    │           └── structure\n",
    "    ├── reactions\n",
    "    │   └── <reaction_id1>\n",
    "    │       └── complex\n",
    "    │           └── structure\n",
    "    └── metabolites\n",
    "        └── <metabolite_id1>\n",
    "            └── chemical\n",
    "                └── structure\n",
    "                \n",
    "```"
   ]
  },
  {
   "cell_type": "code",
   "execution_count": 4,
   "metadata": {
    "collapsed": true
   },
   "outputs": [],
   "source": [
    "# SET FOlDERS HERE\n",
    "ROOT_DIR = '/tmp/'\n",
    "PROJECT = 'genes_and_sequences_GP'\n",
    "\n",
    "GENES_AND_SEQUENCES = {'b0870': 'MIDLRSDTVTRPSRAMLEAMMAAPVGDDVYGDDPTVNALQDYAAELSGKEAAIFLPTGTQANLVALLSHCERGEEYIVGQAAHNYLFEAGGAAVLGSIQPQPIDAAADGTLPLDKVAMKIKPDDIHFARTKLLSLENTHNGKVLPREYLKEAWEFTRERNLALHVDGARIFNAVVAYGCELKEITQYCDSFTICLSKGLGTPVGSLLVGNRDYIKRAIRWRKMTGGGMRQSGILAAAGIYALKNNVARLQEDHDNAAWMAEQLREAGADVMRQDTNMLFVRVGEENAAALGEYMKARNVLINASPIVRLVTHLDVSREQLAEVAAHWRAFLAR',\n",
    "                       'b3041': 'MNQTLLSSFGTPFERVENALAALREGRGVMVLDDEDRENEGDMIFPAETMTVEQMALTIRHGSGIVCLCITEDRRKQLDLPMMVENNTSAYGTGFTVTIEAAEGVTTGVSAADRITTVRAAIADGAKPSDLNRPGHVFPLRAQAGGVLTRGGHTEATIDLMTLAGFKPAGVLCELTNDDGTMARAPECIEFANKHNMALVTIEDLVAYRQAHERKAS'}"
   ]
  },
  {
   "cell_type": "code",
   "execution_count": 5,
   "metadata": {
    "collapsed": false
   },
   "outputs": [
    {
     "name": "stderr",
     "output_type": "stream",
     "text": [
      "INFO:ssbio.pipeline.gempro:/tmp/genes_and_sequences_GP: GEM-PRO project location\n",
      "INFO:ssbio.pipeline.gempro:Loaded in 2 sequences\n",
      "INFO:ssbio.pipeline.gempro:2: number of genes\n"
     ]
    }
   ],
   "source": [
    "# Create the GEM-PRO project\n",
    "my_gempro = GEMPRO(gem_name=PROJECT, root_dir=ROOT_DIR, genes_and_sequences=GENES_AND_SEQUENCES)"
   ]
  },
  {
   "cell_type": "markdown",
   "metadata": {},
   "source": [
    "## Mapping sequence -> structure\n",
    "\n",
    "Since the sequence has been provided, we just need to BLAST it to the PDB.\n",
    "\n",
    "### Methods\n",
    "\n",
    "#### `blast_seqs_to_pdb`\n",
    "\n",
    "<div class=\"alert alert-info\">**Warning:** A PDB BLAST may return hits in other organisms.</div>\n",
    "\n",
    "This will BLAST the representative sequence against the entire PDB, and return significant hits. XML files of the BLAST results are saved in the respective sequence folders for a gene. **This does not download structures.**\n",
    "\n",
    "- `seq_ident_cutoff`\n",
    "    - Default: **`0`**\n",
    "    - From 0 to 1\n",
    "- `evalue`\n",
    "    - Default: **`0.0001`**\n",
    "    - Significance of BLAST results\n",
    "- `all_genes`\n",
    "    - Default: **`False`**\n",
    "    - Set to **`True`** if you want all genes and their sequences BLASTed\n",
    "    - Set to **`False`** if you only want to BLAST sequences that did not have any PDBs mapped to them already\n",
    "- `display_link`\n",
    "    - Default: **`False`**\n",
    "    - Set to **`True`** if you want a clickable HTML link to be printed\n",
    "- `force_rerun`\n",
    "    - Default: **`False`**\n",
    "    - Set to **`True`** if you want to ignore any existing XML results and run the BLAST again\n",
    "\n",
    "\n",
    "### Saved information:\n",
    "\n",
    "#### Protein structures\n",
    "```python\n",
    "my_gempro.genes.get_by_id('b0870').protein.structures\n",
    "```\n",
    "#### DataFrames\n",
    "```python\n",
    "my_gempro.df_pdb_blast\n",
    "```"
   ]
  },
  {
   "cell_type": "code",
   "execution_count": 6,
   "metadata": {
    "collapsed": false
   },
   "outputs": [
    {
     "name": "stderr",
     "output_type": "stream",
     "text": [
      "INFO:ssbio.pipeline.gempro:Completed sequence --> PDB BLAST. See the \"df_pdb_blast\" attribute.\n",
      "INFO:ssbio.pipeline.gempro:2: number of genes with additional structures added from BLAST\n"
     ]
    },
    {
     "name": "stdout",
     "output_type": "stream",
     "text": [
      "\n"
     ]
    }
   ],
   "source": [
    "# Mapping using BLAST\n",
    "my_gempro.blast_seqs_to_pdb(seq_ident_cutoff=.80, evalue=0.00001)"
   ]
  },
  {
   "cell_type": "code",
   "execution_count": 7,
   "metadata": {
    "collapsed": false
   },
   "outputs": [
    {
     "data": {
      "text/plain": [
       "[<PDBProp 3wlx at 0x7f8db73947b8>,\n",
       " <PDBProp 4rjy at 0x7f8db7394e10>,\n",
       " <PDBProp 4lnm at 0x7f8db7394f60>,\n",
       " <PDBProp 4lnl at 0x7f8db73aa0b8>,\n",
       " <PDBProp 4lnj at 0x7f8db73aa1d0>]"
      ]
     },
     "execution_count": 7,
     "metadata": {},
     "output_type": "execute_result"
    }
   ],
   "source": [
    "# Looking at the information saved within a gene\n",
    "my_gempro.genes.get_by_id('b0870').protein.structures"
   ]
  },
  {
   "cell_type": "code",
   "execution_count": 8,
   "metadata": {
    "collapsed": false
   },
   "outputs": [
    {
     "data": {
      "text/html": [
       "<div>\n",
       "<table border=\"1\" class=\"dataframe\">\n",
       "  <thead>\n",
       "    <tr style=\"text-align: right;\">\n",
       "      <th></th>\n",
       "      <th>gene</th>\n",
       "      <th>pdb_id</th>\n",
       "      <th>pdb_chain_id</th>\n",
       "      <th>hit_score</th>\n",
       "      <th>hit_evalue</th>\n",
       "      <th>hit_percent_similar</th>\n",
       "      <th>hit_percent_ident</th>\n",
       "      <th>hit_num_ident</th>\n",
       "      <th>hit_num_similar</th>\n",
       "    </tr>\n",
       "  </thead>\n",
       "  <tbody>\n",
       "    <tr>\n",
       "      <th>0</th>\n",
       "      <td>b3041</td>\n",
       "      <td>1iez</td>\n",
       "      <td>A</td>\n",
       "      <td>1060.0</td>\n",
       "      <td>1.442310e-115</td>\n",
       "      <td>1.000000</td>\n",
       "      <td>1.000000</td>\n",
       "      <td>217</td>\n",
       "      <td>217</td>\n",
       "    </tr>\n",
       "    <tr>\n",
       "      <th>1</th>\n",
       "      <td>b3041</td>\n",
       "      <td>1g58</td>\n",
       "      <td>A</td>\n",
       "      <td>1050.0</td>\n",
       "      <td>2.014330e-114</td>\n",
       "      <td>0.995392</td>\n",
       "      <td>0.995392</td>\n",
       "      <td>216</td>\n",
       "      <td>216</td>\n",
       "    </tr>\n",
       "    <tr>\n",
       "      <th>2</th>\n",
       "      <td>b3041</td>\n",
       "      <td>1g58</td>\n",
       "      <td>B</td>\n",
       "      <td>1050.0</td>\n",
       "      <td>2.014330e-114</td>\n",
       "      <td>0.995392</td>\n",
       "      <td>0.995392</td>\n",
       "      <td>216</td>\n",
       "      <td>216</td>\n",
       "    </tr>\n",
       "    <tr>\n",
       "      <th>3</th>\n",
       "      <td>b3041</td>\n",
       "      <td>1g57</td>\n",
       "      <td>A</td>\n",
       "      <td>1050.0</td>\n",
       "      <td>2.014330e-114</td>\n",
       "      <td>0.995392</td>\n",
       "      <td>0.995392</td>\n",
       "      <td>216</td>\n",
       "      <td>216</td>\n",
       "    </tr>\n",
       "    <tr>\n",
       "      <th>4</th>\n",
       "      <td>b3041</td>\n",
       "      <td>1g57</td>\n",
       "      <td>B</td>\n",
       "      <td>1050.0</td>\n",
       "      <td>2.014330e-114</td>\n",
       "      <td>0.995392</td>\n",
       "      <td>0.995392</td>\n",
       "      <td>216</td>\n",
       "      <td>216</td>\n",
       "    </tr>\n",
       "  </tbody>\n",
       "</table>\n",
       "</div>"
      ],
      "text/plain": [
       "    gene pdb_id pdb_chain_id  hit_score     hit_evalue  hit_percent_similar  \\\n",
       "0  b3041   1iez            A     1060.0  1.442310e-115             1.000000   \n",
       "1  b3041   1g58            A     1050.0  2.014330e-114             0.995392   \n",
       "2  b3041   1g58            B     1050.0  2.014330e-114             0.995392   \n",
       "3  b3041   1g57            A     1050.0  2.014330e-114             0.995392   \n",
       "4  b3041   1g57            B     1050.0  2.014330e-114             0.995392   \n",
       "\n",
       "   hit_percent_ident  hit_num_ident  hit_num_similar  \n",
       "0           1.000000            217              217  \n",
       "1           0.995392            216              216  \n",
       "2           0.995392            216              216  \n",
       "3           0.995392            216              216  \n",
       "4           0.995392            216              216  "
      ]
     },
     "execution_count": 8,
     "metadata": {},
     "output_type": "execute_result"
    }
   ],
   "source": [
    "# Looking at a dataframe of BLAST results\n",
    "my_gempro.df_pdb_blast.head()"
   ]
  },
  {
   "cell_type": "markdown",
   "metadata": {},
   "source": [
    "## Ranking and downloading structures\n",
    "\n",
    "### Methods\n",
    "\n",
    "#### `pdb_downloader_and_metadata`\n",
    "Download **all** structures per gene. This also adds metadata to each PDB object in the list of structures.\n",
    "\n",
    "- `outdir`\n",
    "    - Default: **`None`**\n",
    "    - Set this to a custom location if you want to save PDB files outside the GEM-PRO project folder\n",
    "- `pdb_file_type`\n",
    "    - Default: **`cif`** (set in GEMPRO project initialization, but can be changed here)\n",
    "    - pdb, pdb.gz, mmcif, cif, cif.gz, xml.gz, mmtf, mmtf.gz - File type for files downloaded from the PDB.\n",
    "- `force_rerun`\n",
    "    - Default: **`False`**\n",
    "    - Set to True if you want to re-download PDB files.\n",
    "\n",
    "#### `set_representative_structure`\n",
    "Rank available structures, run QC/QA, download and clean the final structure.\n",
    "\n",
    "<div class=\"alert alert-info\">**Note:** PDBs don't need to be downloaded before running this step. This is useful to limit the number of structures downloaded from the PDB.</div>\n",
    "\n",
    "- `pdb_file_type`\n",
    "    - Default: **`cif`** (set in GEMPRO project initialization, but can be changed here)\n",
    "    - pdb, pdb.gz, mmcif, cif, cif.gz, xml.gz, mmtf, mmtf.gz - File type for files downloaded from the PDB.\n",
    "- `engine`\n",
    "    - Default: **`needle`**\n",
    "    - Set to **`biopython`** if you want to utilize Biopython's built-in pairwise alignment algorithm.\n",
    "- `always_use_homology`\n",
    "    - Default: **`False`**\n",
    "    - Set to **`True`** if you always want to use homology models.\n",
    "- `seq_ident_cutoff`\n",
    "    - Default: **`0.5`**\n",
    "    - QC/QA: sets the minimum sequence identity a structure has to have to be selected as representative.\n",
    "- `allow_missing_on_termini`\n",
    "    - Default: **`0.2`**\n",
    "    - QC/QA: Percentage of the total length of the reference sequence which will be ignored when checking for modifications. Example: if 0.1, and reference sequence is 100 AA, then only residues 5 to 95 will be checked for modifications.\n",
    "- `allow_mutants`\n",
    "    - Default: **`True`**\n",
    "    - QC/QA: set to True if point mutations within the structure should be allowed.\n",
    "- `allow_deletions`\n",
    "    - Default: **`False`**\n",
    "    - QC/QA: set to True if deletions within the structure should be allowed.\n",
    "- `allow_insertions`\n",
    "    - Default: **`False`**\n",
    "    - QC/QA: set to True if insertions within the structure should be allowed.\n",
    "- `allow_unresolved`\n",
    "    - Default: **`True`**\n",
    "    - QC/QA: set to True if unresolved regions within the structure should be allowed.\n",
    "- `force_rerun`\n",
    "    - Default: **`False`**\n",
    "    - QC/QA: set to True if pairwise alignments and structure cleaning should be rerun even if files exist.\n",
    "    \n",
    "### Saved information\n",
    "\n",
    "#### Representative protein structures\n",
    "```python\n",
    "my_gempro.genes.get_by_id('b0870').protein.representative_structure\n",
    "```\n",
    "\n",
    "#### DataFrames\n",
    "```python\n",
    "my_gempro.df_pdb_metadata\n",
    "my_gempro.df_representative_structures\n",
    "```"
   ]
  },
  {
   "cell_type": "code",
   "execution_count": 9,
   "metadata": {
    "collapsed": false
   },
   "outputs": [
    {
     "name": "stderr",
     "output_type": "stream",
     "text": [
      "INFO:ssbio.pipeline.gempro:Created PDB metadata dataframe. See the \"df_pdb_metadata\" attribute.\n",
      "INFO:ssbio.pipeline.gempro:Saved 11 structures total\n"
     ]
    },
    {
     "name": "stdout",
     "output_type": "stream",
     "text": [
      "\n"
     ]
    }
   ],
   "source": [
    "# Download all mapped PDBs and gather the metadata\n",
    "my_gempro.pdb_downloader_and_metadata()"
   ]
  },
  {
   "cell_type": "code",
   "execution_count": 10,
   "metadata": {
    "collapsed": false
   },
   "outputs": [
    {
     "data": {
      "text/html": [
       "<div>\n",
       "<table border=\"1\" class=\"dataframe\">\n",
       "  <thead>\n",
       "    <tr style=\"text-align: right;\">\n",
       "      <th></th>\n",
       "      <th>gene</th>\n",
       "      <th>pdb_id</th>\n",
       "      <th>pdb_title</th>\n",
       "      <th>description</th>\n",
       "      <th>experimental_method</th>\n",
       "      <th>resolution</th>\n",
       "      <th>chemicals</th>\n",
       "      <th>date</th>\n",
       "      <th>taxonomy_name</th>\n",
       "      <th>structure_file</th>\n",
       "    </tr>\n",
       "  </thead>\n",
       "  <tbody>\n",
       "    <tr>\n",
       "      <th>0</th>\n",
       "      <td>b3041</td>\n",
       "      <td>1iez</td>\n",
       "      <td>Solution Structure of 3,4-Dihydroxy-2-Butanone...</td>\n",
       "      <td>3,4-Dihydroxy-2-Butanone 4-Phosphate Synthase ...</td>\n",
       "      <td>SOLUTION NMR</td>\n",
       "      <td>NaN</td>\n",
       "      <td>[]</td>\n",
       "      <td>2001-11-07;2003-04-01;2009-02-24;2011-07-13</td>\n",
       "      <td>Escherichia coli</td>\n",
       "      <td>1iez.cif</td>\n",
       "    </tr>\n",
       "    <tr>\n",
       "      <th>1</th>\n",
       "      <td>b3041</td>\n",
       "      <td>1g58</td>\n",
       "      <td>CRYSTAL STRUCTURE OF 3,4-DIHYDROXY-2-BUTANONE ...</td>\n",
       "      <td>3,4-DIHYDROXY-2-BUTANONE 4-PHOSPHATE SYNTHASE</td>\n",
       "      <td>X-RAY DIFFRACTION</td>\n",
       "      <td>1.55</td>\n",
       "      <td>AU</td>\n",
       "      <td>2001-04-30;2003-04-01;2009-02-24</td>\n",
       "      <td>Escherichia coli</td>\n",
       "      <td>1g58.cif</td>\n",
       "    </tr>\n",
       "  </tbody>\n",
       "</table>\n",
       "</div>"
      ],
      "text/plain": [
       "    gene pdb_id                                          pdb_title  \\\n",
       "0  b3041   1iez  Solution Structure of 3,4-Dihydroxy-2-Butanone...   \n",
       "1  b3041   1g58  CRYSTAL STRUCTURE OF 3,4-DIHYDROXY-2-BUTANONE ...   \n",
       "\n",
       "                                         description experimental_method  \\\n",
       "0  3,4-Dihydroxy-2-Butanone 4-Phosphate Synthase ...        SOLUTION NMR   \n",
       "1      3,4-DIHYDROXY-2-BUTANONE 4-PHOSPHATE SYNTHASE   X-RAY DIFFRACTION   \n",
       "\n",
       "   resolution chemicals                                         date  \\\n",
       "0         NaN        []  2001-11-07;2003-04-01;2009-02-24;2011-07-13   \n",
       "1        1.55        AU             2001-04-30;2003-04-01;2009-02-24   \n",
       "\n",
       "      taxonomy_name structure_file  \n",
       "0  Escherichia coli       1iez.cif  \n",
       "1  Escherichia coli       1g58.cif  "
      ]
     },
     "execution_count": 10,
     "metadata": {},
     "output_type": "execute_result"
    }
   ],
   "source": [
    "# Looking at a dataframe of PDB metadata\n",
    "my_gempro.df_pdb_metadata.head(2)"
   ]
  },
  {
   "cell_type": "code",
   "execution_count": 11,
   "metadata": {
    "collapsed": false
   },
   "outputs": [
    {
     "name": "stderr",
     "output_type": "stream",
     "text": [
      "INFO:ssbio.pipeline.gempro:Created representative structures dataframe. See the \"df_representative_structures\" attribute.\n",
      "INFO:ssbio.pipeline.gempro:2/2: genes with a representative structure\n"
     ]
    },
    {
     "name": "stdout",
     "output_type": "stream",
     "text": [
      "\n"
     ]
    }
   ],
   "source": [
    "# Set representative structures\n",
    "my_gempro.set_representative_structure()"
   ]
  },
  {
   "cell_type": "code",
   "execution_count": 12,
   "metadata": {
    "collapsed": false
   },
   "outputs": [
    {
     "data": {
      "text/plain": [
       "<StructProp 3wlx-A at 0x7f8db62c60b8>"
      ]
     },
     "execution_count": 12,
     "metadata": {},
     "output_type": "execute_result"
    },
    {
     "data": {
      "text/plain": [
       "{'_structure_dir': '/tmp/genes_and_sequences_GP/genes/b0870/protein/structure',\n",
       " 'chains': [<ChainProp A at 0x7f8db6258b00>],\n",
       " 'date': '2014-12-17',\n",
       " 'description': 'Low specificity L-threonine aldolase (E.C.4.1.2.48)',\n",
       " 'file_type': 'pdb',\n",
       " 'id': '3wlx-A',\n",
       " 'is_experimental': True,\n",
       " 'mapped_chains': ['A'],\n",
       " 'original_pdb_id': '3wlx',\n",
       " 'reference_seq': <SeqProp b0870 at 0x7f8db6258b38>,\n",
       " 'reference_seq_top_coverage': 99.4,\n",
       " 'representative_chain': <ChainProp A at 0x7f8db6258dd8>,\n",
       " 'resolution': 2.51,\n",
       " 'structure_file': '3wlx-A_clean.pdb',\n",
       " 'taxonomy_name': 'Escherichia coli'}"
      ]
     },
     "execution_count": 12,
     "metadata": {},
     "output_type": "execute_result"
    }
   ],
   "source": [
    "# Looking at the information saved within a gene\n",
    "my_gempro.genes.get_by_id('b0870').protein.representative_structure\n",
    "my_gempro.genes.get_by_id('b0870').protein.representative_structure.get_dict()"
   ]
  },
  {
   "cell_type": "code",
   "execution_count": 13,
   "metadata": {
    "collapsed": false
   },
   "outputs": [
    {
     "data": {
      "text/html": [
       "<div>\n",
       "<table border=\"1\" class=\"dataframe\">\n",
       "  <thead>\n",
       "    <tr style=\"text-align: right;\">\n",
       "      <th></th>\n",
       "      <th>gene</th>\n",
       "      <th>id</th>\n",
       "      <th>is_experimental</th>\n",
       "      <th>reference_seq</th>\n",
       "      <th>reference_seq_top_coverage</th>\n",
       "    </tr>\n",
       "  </thead>\n",
       "  <tbody>\n",
       "    <tr>\n",
       "      <th>0</th>\n",
       "      <td>b3041</td>\n",
       "      <td>1iez-A</td>\n",
       "      <td>True</td>\n",
       "      <td>b3041</td>\n",
       "      <td>100.0</td>\n",
       "    </tr>\n",
       "    <tr>\n",
       "      <th>1</th>\n",
       "      <td>b0870</td>\n",
       "      <td>3wlx-A</td>\n",
       "      <td>True</td>\n",
       "      <td>b0870</td>\n",
       "      <td>99.4</td>\n",
       "    </tr>\n",
       "  </tbody>\n",
       "</table>\n",
       "</div>"
      ],
      "text/plain": [
       "    gene      id is_experimental reference_seq  reference_seq_top_coverage\n",
       "0  b3041  1iez-A            True         b3041                       100.0\n",
       "1  b0870  3wlx-A            True         b0870                        99.4"
      ]
     },
     "execution_count": 13,
     "metadata": {},
     "output_type": "execute_result"
    }
   ],
   "source": [
    "# Looking at a dataframe of representative structures\n",
    "my_gempro.df_representative_structures.head()"
   ]
  }
 ],
 "metadata": {
  "_draft": {
   "nbviewer_url": "https://gist.github.com/342e44766d1dda637e975a4ef61dae19"
  },
  "anaconda-cloud": {},
  "gist": {
   "data": {
    "description": "GEM-PRO pipeline example for a list of gene IDs",
    "public": false
   },
   "id": "342e44766d1dda637e975a4ef61dae19"
  },
  "kernelspec": {
   "display_name": "Python [default]",
   "language": "python",
   "name": "python3"
  },
  "language_info": {
   "codemirror_mode": {
    "name": "ipython",
    "version": 3
   },
   "file_extension": ".py",
   "mimetype": "text/x-python",
   "name": "python",
   "nbconvert_exporter": "python",
   "pygments_lexer": "ipython3",
   "version": "3.5.2"
  },
  "widgets": {
   "state": {
    "3976bf228a6b4a68b529d730a048805d": {
     "views": [
      {
       "cell_index": 14
      }
     ]
    },
    "84ee3d6b08cb4bd484027577fd46758b": {
     "views": [
      {
       "cell_index": 10
      }
     ]
    },
    "f46ecdbadbd54005ae13f5b14d772344": {
     "views": [
      {
       "cell_index": 16
      }
     ]
    }
   },
   "version": "1.2.0"
  }
 },
 "nbformat": 4,
 "nbformat_minor": 1
}
