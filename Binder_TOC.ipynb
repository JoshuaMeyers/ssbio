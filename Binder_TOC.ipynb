{
 "cells": [
  {
   "cell_type": "markdown",
   "metadata": {},
   "source": [
    "# Table of Contents\n",
    "Welcome to the ssbio Binder! Here you can interactively launch notebook tutorials and even alter them to run on your own data.\n",
    "\n",
    "## Testing\n",
    "These notebooks make sure the Binder environment has been installed correctly.\n",
    "\n",
    "* [Software installation tester](docs/notebooks/Software Tester.ipynb) - test if all software has been correctly installed in this environment.\n",
    "* [Guide to installing I-TASSER and TMHMM](docs/notebooks/Software Tester.ipynb) - guide to installing I-TASSER and TMHMM in Binder, since these require you to register with your email.\n",
    "\n",
    "## The GEM-PRO Pipeline\n",
    "The GEM-PRO pipeline is focused on annotating genome-scale models with protein structure information, and subsequently making it easier to work with proteins at this scale.\n",
    "\n",
    "* [GEM-PRO - SBML Model (iNJ661)](docs/notebooks/GEM-PRO - SBML Model.ipynb) - This notebook gives an example of how to run the GEM-PRO pipeline with a **SBML model**, in this case *i*NJ661, the metabolic model of *M. tuberculosis*.\n",
    "* [GEM-PRO - Genes & Sequences](docs/notebooks/GEM-PRO - Genes & Sequences.ipynb) - This notebook gives an example of how to run the GEM-PRO pipeline with a **dictionary of gene IDs and their protein sequences**.\n",
    "* [GEM-PRO - List of Gene IDs](docs/notebooks/GEM-PRO - List of Gene IDs.ipynb) - This notebook gives an example of how to run the GEM-PRO pipeline with a **list of gene IDs**.\n",
    "* [GEM-PRO - Calculating Protein Properties](docs/notebooks/GEM-PRO - Calculating Protein Properties.ipynb) - This notebook gives an example of how to **calculate protein properties** for a list of proteins.\n",
    "\n",
    "## The Protein Class\n",
    "* [Protein - Structure Mapping, Alignments, and Visualization](docs/notebooks/Protein - Structure Mapping, Alignments, and Visualization.ipynb) - This notebook gives an example of how to **map a single protein sequence to its structure**, along with conducting sequence alignments and visualizing the mutations.\n",
    "\n",
    "## The StructProp Class\n",
    "* [PDBProp - Working With a Single PDB Structure](docs/notebooks/PDBProp - Working With a Single PDB Structure.ipynb) - This notebook gives a tutorial of the **PDBProp object**, specifically how chains are handled and how to map a sequence to it.\n",
    "\n",
    "## The SeqProp Class\n",
    "* [SeqProp - Protein Sequence Properties](docs/notebooks/SeqProp - Protein Sequence Properties.ipynb) - This notebook gives an overview the available **calculations for properties of a single protein sequence**.\n",
    "\n",
    "## Other tutorials\n",
    "* [SWISS-MODEL - Downloading homology models](docs/notebooks/SWISS-MODEL - Downloading homology models.ipynb) - This notebook gives a tutorial of the **SWISSMODEL object**, which is a simple class to parse and download models from the SWISS-MODEL homology model repository.\n",
    "* [FATCAT - Structure Similarity](docs/notebooks/FATCAT - Structure Similarity.ipynb) - This notebook shows how to run and parse FATCAT, a structural similarity calculator."
   ]
  }
 ],
 "metadata": {
  "kernelspec": {
   "display_name": "Python [default]",
   "language": "python",
   "name": "python3"
  },
  "language_info": {
   "codemirror_mode": {
    "name": "ipython",
    "version": 3
   },
   "file_extension": ".py",
   "mimetype": "text/x-python",
   "name": "python",
   "nbconvert_exporter": "python",
   "pygments_lexer": "ipython3",
   "version": "3.6.3"
  }
 },
 "nbformat": 4,
 "nbformat_minor": 2
}
