{
 "cells": [
  {
   "cell_type": "markdown",
   "metadata": {},
   "source": [
    "# Instructions\n",
    "\n",
    "Set your gene list as input, with one gene ID on every line. Run this entire notebook and the ID mapping file will be output to your working directory.\n",
    "\n",
    "## Important note\n",
    "* Only 3 external databases are allowed for mapping at once\n",
    "\n",
    "## Example\n",
    "\n",
    "```\n",
    "my_genes_file = \"160426-recon3_enst.txt\"\n",
    "my_selected_outputs = c('external_gene_name','ensembl_transcript_id','ensembl_peptide_id',\n",
    "                        'entrezgene','refseq_peptide','uniprot_swissprot')\n",
    "```\n",
    "\n",
    "## Other useful outputs\n",
    "\n",
    "See http://www.ensembl.org/biomart/martview for all possible attributes\n",
    "\n",
    "```\n",
    "'ensembl_gene_id', # ENSG IDs\n",
    "'hpa', # Human Protein Atlas\n",
    "'pdb', # PDB\n",
    "```\n",
    "\n",
    "## Caveats\n",
    "\n",
    "* Why don't all my genes map to all other IDs?\n",
    "    * See: http://pre.ensembl.org/Help/Faq?id=476\n",
    "    * Example: if you are mapping a transcript -> gene AND protein IDs, only transcript IDs that successfully map to protein IDs will be returned\n",
    "    * You will want to specify only gene related IDs or protein related IDs to make sure everything maps\n",
    "    * Check out the bottom of this notebook for things that don't successfully map"
   ]
  },
  {
   "cell_type": "markdown",
   "metadata": {},
   "source": [
    "# Input"
   ]
  },
  {
   "cell_type": "code",
   "execution_count": 24,
   "metadata": {
    "collapsed": false
   },
   "outputs": [],
   "source": [
    "my_genes_file = \"160426-recon3_enst.txt\"\n",
    "my_gene_id_type = 'ensembl_transcript_id'\n",
    "my_selected_outputs = c('external_gene_name','ensembl_transcript_id')#,'ensembl_peptide_id',\n",
    "#                         'entrezgene','refseq_peptide','uniprot_swissprot')"
   ]
  },
  {
   "cell_type": "markdown",
   "metadata": {},
   "source": [
    "# Code"
   ]
  },
  {
   "cell_type": "code",
   "execution_count": 25,
   "metadata": {
    "collapsed": false
   },
   "outputs": [
    {
     "name": "stderr",
     "output_type": "stream",
     "text": [
      "Bioconductor version 3.2 (BiocInstaller 1.20.1), ?biocLite for help\n",
      "BioC_mirror: http://bioconductor.org\n",
      "Using Bioconductor 3.2 (BiocInstaller 1.20.1), R 3.2.5 (2016-04-14).\n",
      "Installing package(s) ‘biomaRt’\n"
     ]
    },
    {
     "name": "stdout",
     "output_type": "stream",
     "text": [
      "\n",
      "The downloaded source packages are in\n",
      "\t‘/tmp/RtmpZkDO18/downloaded_packages’\n"
     ]
    }
   ],
   "source": [
    "# Loading biomaRt\n",
    "options(useHTTPS=FALSE)\n",
    "source(\"http://bioconductor.org/biocLite.R\")\n",
    "biocLite(\"biomaRt\")\n",
    "library(biomaRt)\n",
    "\n",
    "# date format is yymmdd (ie. 160428 = 2016-04-28)\n",
    "short_date = format(Sys.time(), \"%y%m%d\")"
   ]
  },
  {
   "cell_type": "code",
   "execution_count": 26,
   "metadata": {
    "collapsed": true
   },
   "outputs": [],
   "source": [
    "hs_genes = useEnsembl(biomart=\"ensembl\", dataset=\"hsapiens_gene_ensembl\")"
   ]
  },
  {
   "cell_type": "code",
   "execution_count": 27,
   "metadata": {
    "collapsed": true
   },
   "outputs": [],
   "source": [
    "my_genes_table = read.table(my_genes_file, header=FALSE)\n",
    "my_genes = my_genes_table[['V1']]"
   ]
  },
  {
   "cell_type": "code",
   "execution_count": 28,
   "metadata": {
    "collapsed": true
   },
   "outputs": [],
   "source": [
    "my_genes_mapped <- getBM(attributes = my_selected_outputs, \n",
    "                         filter = my_gene_id_type,\n",
    "                         values = my_genes, \n",
    "                         mart = hs_genes)"
   ]
  },
  {
   "cell_type": "code",
   "execution_count": 29,
   "metadata": {
    "collapsed": true
   },
   "outputs": [],
   "source": [
    "write.csv(my_genes_mapped, file=paste(short_date,'-',my_genes_file,sep=''))"
   ]
  },
  {
   "cell_type": "markdown",
   "metadata": {},
   "source": [
    "# Unsuccessful mappings\n",
    "\n",
    "Please note that these will not be in the output file!"
   ]
  },
  {
   "cell_type": "code",
   "execution_count": 30,
   "metadata": {
    "collapsed": false
   },
   "outputs": [
    {
     "data": {
      "text/html": [
       "<ol class=list-inline>\n",
       "\t<li>'LRG_733t1'</li>\n",
       "\t<li>'LRG_336t1'</li>\n",
       "\t<li>'LRG_148t1'</li>\n",
       "\t<li>'LRG_717t1'</li>\n",
       "\t<li>'LRG_643t1'</li>\n",
       "\t<li>'LRG_164t1'</li>\n",
       "\t<li>'LRG_1022t1'</li>\n",
       "\t<li>'LRG_377t1'</li>\n",
       "\t<li>'LRG_377t2'</li>\n",
       "\t<li>'LRG_722t1'</li>\n",
       "\t<li>'LRG_767t1'</li>\n",
       "\t<li>'LRG_727t1'</li>\n",
       "\t<li>'LRG_727t2'</li>\n",
       "\t<li>'LRG_721t1'</li>\n",
       "\t<li>'LRG_721t2'</li>\n",
       "\t<li>'LRG_724t1'</li>\n",
       "\t<li>'LRG_724t2'</li>\n",
       "\t<li>'LRG_724t4'</li>\n",
       "\t<li>'LRG_723t1'</li>\n",
       "\t<li>'LRG_663t1'</li>\n",
       "\t<li>'LRG_722t2'</li>\n",
       "\t<li>'LRG_413t1'</li>\n",
       "\t<li>'LRG_662t1'</li>\n",
       "\t<li>'LRG_304t1'</li>\n",
       "\t<li>'LRG_417t1'</li>\n",
       "\t<li>'LRG_786t1'</li>\n",
       "\t<li>'LRG_274t1'</li>\n",
       "\t<li>'LRG_726t1'</li>\n",
       "\t<li>'LRG_783t1'</li>\n",
       "\t<li>'LRG_311t1'</li>\n",
       "\t<li>'LRG_518t1'</li>\n",
       "\t<li>'LRG_518t2'</li>\n",
       "\t<li>'LRG_551t1'</li>\n",
       "\t<li>'LRG_457t1'</li>\n",
       "\t<li>'LRG_490t1'</li>\n",
       "\t<li>'LRG_134t1'</li>\n",
       "\t<li>'LRG_781t2'</li>\n",
       "\t<li>'LRG_500t1'</li>\n",
       "\t<li>'LRG_777t1'</li>\n",
       "\t<li>'LRG_16t1'</li>\n",
       "\t<li>'LRG_310t1'</li>\n",
       "\t<li>'LRG_261t1'</li>\n",
       "\t<li>'LRG_261t2'</li>\n",
       "\t<li>'LRG_261t3'</li>\n",
       "\t<li>'LRG_309t1'</li>\n",
       "\t<li>'LRG_589t1'</li>\n",
       "\t<li>'LRG_589t2'</li>\n",
       "\t<li>'LRG_549t1'</li>\n",
       "\t<li>'LRG_579t1'</li>\n",
       "\t<li>'LRG_579t3'</li>\n",
       "\t<li>'LRG_579t2'</li>\n",
       "\t<li>'LRG_579t4'</li>\n",
       "\t<li>'LRG_571t1'</li>\n",
       "\t<li>'LRG_786t2'</li>\n",
       "</ol>\n"
      ],
      "text/latex": [
       "\\begin{enumerate*}\n",
       "\\item 'LRG_733t1'\n",
       "\\item 'LRG_336t1'\n",
       "\\item 'LRG_148t1'\n",
       "\\item 'LRG_717t1'\n",
       "\\item 'LRG_643t1'\n",
       "\\item 'LRG_164t1'\n",
       "\\item 'LRG_1022t1'\n",
       "\\item 'LRG_377t1'\n",
       "\\item 'LRG_377t2'\n",
       "\\item 'LRG_722t1'\n",
       "\\item 'LRG_767t1'\n",
       "\\item 'LRG_727t1'\n",
       "\\item 'LRG_727t2'\n",
       "\\item 'LRG_721t1'\n",
       "\\item 'LRG_721t2'\n",
       "\\item 'LRG_724t1'\n",
       "\\item 'LRG_724t2'\n",
       "\\item 'LRG_724t4'\n",
       "\\item 'LRG_723t1'\n",
       "\\item 'LRG_663t1'\n",
       "\\item 'LRG_722t2'\n",
       "\\item 'LRG_413t1'\n",
       "\\item 'LRG_662t1'\n",
       "\\item 'LRG_304t1'\n",
       "\\item 'LRG_417t1'\n",
       "\\item 'LRG_786t1'\n",
       "\\item 'LRG_274t1'\n",
       "\\item 'LRG_726t1'\n",
       "\\item 'LRG_783t1'\n",
       "\\item 'LRG_311t1'\n",
       "\\item 'LRG_518t1'\n",
       "\\item 'LRG_518t2'\n",
       "\\item 'LRG_551t1'\n",
       "\\item 'LRG_457t1'\n",
       "\\item 'LRG_490t1'\n",
       "\\item 'LRG_134t1'\n",
       "\\item 'LRG_781t2'\n",
       "\\item 'LRG_500t1'\n",
       "\\item 'LRG_777t1'\n",
       "\\item 'LRG_16t1'\n",
       "\\item 'LRG_310t1'\n",
       "\\item 'LRG_261t1'\n",
       "\\item 'LRG_261t2'\n",
       "\\item 'LRG_261t3'\n",
       "\\item 'LRG_309t1'\n",
       "\\item 'LRG_589t1'\n",
       "\\item 'LRG_589t2'\n",
       "\\item 'LRG_549t1'\n",
       "\\item 'LRG_579t1'\n",
       "\\item 'LRG_579t3'\n",
       "\\item 'LRG_579t2'\n",
       "\\item 'LRG_579t4'\n",
       "\\item 'LRG_571t1'\n",
       "\\item 'LRG_786t2'\n",
       "\\end{enumerate*}\n"
      ],
      "text/markdown": [
       "1. 'LRG_733t1'\n",
       "2. 'LRG_336t1'\n",
       "3. 'LRG_148t1'\n",
       "4. 'LRG_717t1'\n",
       "5. 'LRG_643t1'\n",
       "6. 'LRG_164t1'\n",
       "7. 'LRG_1022t1'\n",
       "8. 'LRG_377t1'\n",
       "9. 'LRG_377t2'\n",
       "10. 'LRG_722t1'\n",
       "11. 'LRG_767t1'\n",
       "12. 'LRG_727t1'\n",
       "13. 'LRG_727t2'\n",
       "14. 'LRG_721t1'\n",
       "15. 'LRG_721t2'\n",
       "16. 'LRG_724t1'\n",
       "17. 'LRG_724t2'\n",
       "18. 'LRG_724t4'\n",
       "19. 'LRG_723t1'\n",
       "20. 'LRG_663t1'\n",
       "21. 'LRG_722t2'\n",
       "22. 'LRG_413t1'\n",
       "23. 'LRG_662t1'\n",
       "24. 'LRG_304t1'\n",
       "25. 'LRG_417t1'\n",
       "26. 'LRG_786t1'\n",
       "27. 'LRG_274t1'\n",
       "28. 'LRG_726t1'\n",
       "29. 'LRG_783t1'\n",
       "30. 'LRG_311t1'\n",
       "31. 'LRG_518t1'\n",
       "32. 'LRG_518t2'\n",
       "33. 'LRG_551t1'\n",
       "34. 'LRG_457t1'\n",
       "35. 'LRG_490t1'\n",
       "36. 'LRG_134t1'\n",
       "37. 'LRG_781t2'\n",
       "38. 'LRG_500t1'\n",
       "39. 'LRG_777t1'\n",
       "40. 'LRG_16t1'\n",
       "41. 'LRG_310t1'\n",
       "42. 'LRG_261t1'\n",
       "43. 'LRG_261t2'\n",
       "44. 'LRG_261t3'\n",
       "45. 'LRG_309t1'\n",
       "46. 'LRG_589t1'\n",
       "47. 'LRG_589t2'\n",
       "48. 'LRG_549t1'\n",
       "49. 'LRG_579t1'\n",
       "50. 'LRG_579t3'\n",
       "51. 'LRG_579t2'\n",
       "52. 'LRG_579t4'\n",
       "53. 'LRG_571t1'\n",
       "54. 'LRG_786t2'\n",
       "\n",
       "\n"
      ],
      "text/plain": [
       " [1] \"LRG_733t1\"  \"LRG_336t1\"  \"LRG_148t1\"  \"LRG_717t1\"  \"LRG_643t1\" \n",
       " [6] \"LRG_164t1\"  \"LRG_1022t1\" \"LRG_377t1\"  \"LRG_377t2\"  \"LRG_722t1\" \n",
       "[11] \"LRG_767t1\"  \"LRG_727t1\"  \"LRG_727t2\"  \"LRG_721t1\"  \"LRG_721t2\" \n",
       "[16] \"LRG_724t1\"  \"LRG_724t2\"  \"LRG_724t4\"  \"LRG_723t1\"  \"LRG_663t1\" \n",
       "[21] \"LRG_722t2\"  \"LRG_413t1\"  \"LRG_662t1\"  \"LRG_304t1\"  \"LRG_417t1\" \n",
       "[26] \"LRG_786t1\"  \"LRG_274t1\"  \"LRG_726t1\"  \"LRG_783t1\"  \"LRG_311t1\" \n",
       "[31] \"LRG_518t1\"  \"LRG_518t2\"  \"LRG_551t1\"  \"LRG_457t1\"  \"LRG_490t1\" \n",
       "[36] \"LRG_134t1\"  \"LRG_781t2\"  \"LRG_500t1\"  \"LRG_777t1\"  \"LRG_16t1\"  \n",
       "[41] \"LRG_310t1\"  \"LRG_261t1\"  \"LRG_261t2\"  \"LRG_261t3\"  \"LRG_309t1\" \n",
       "[46] \"LRG_589t1\"  \"LRG_589t2\"  \"LRG_549t1\"  \"LRG_579t1\"  \"LRG_579t3\" \n",
       "[51] \"LRG_579t2\"  \"LRG_579t4\"  \"LRG_571t1\"  \"LRG_786t2\" "
      ]
     },
     "execution_count": 30,
     "metadata": {},
     "output_type": "execute_result"
    }
   ],
   "source": [
    "setdiff(my_genes, my_genes_mapped$ensembl_transcript_id) "
   ]
  }
 ],
 "metadata": {
  "kernelspec": {
   "display_name": "R",
   "language": "R",
   "name": "ir"
  },
  "language_info": {
   "codemirror_mode": "r",
   "file_extension": ".r",
   "mimetype": "text/x-r-source",
   "name": "R",
   "pygments_lexer": "r",
   "version": "3.2.5"
  },
  "toc": {
   "toc_cell": false,
   "toc_number_sections": false,
   "toc_threshold": 6,
   "toc_window_display": true
  }
 },
 "nbformat": 4,
 "nbformat_minor": 0
}
