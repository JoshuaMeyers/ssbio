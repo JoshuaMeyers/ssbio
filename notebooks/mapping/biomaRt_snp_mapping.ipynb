{
 "cells": [
  {
   "cell_type": "markdown",
   "metadata": {},
   "source": [
    "# Instructions\n",
    "\n",
    "Set your SNP list as input, with one rsid on every line. Run this entire notebook and the ID mapping file will be output to your working directory.\n",
    "\n",
    "## Example\n",
    "\n",
    "```\n",
    "my_genes_file = \"160427-humsavar_r3_rsids_input.txt\"\n",
    "my_selected_outputs = c('refsnp_id',\n",
    "                        'refsnp_source',\n",
    "                        'allele',\n",
    "                        'minor_allele',\n",
    "                        'minor_allele_freq',\n",
    "                        'ensembl_gene_stable_id',\n",
    "                        'ensembl_transcript_stable_id',\n",
    "                        'polyphen_prediction',\n",
    "                        'polyphen_score',\n",
    "                        'sift_prediction',\n",
    "                        'sift_score',\n",
    "                        )\n",
    "```\n",
    "\n",
    "## Other useful outputs\n",
    "\n",
    "See http://www.ensembl.org/biomart/martview for all possible attributes\n",
    "\n",
    "```\n",
    "additional_attributes\n",
    "```\n",
    "\n",
    "## Caveats\n",
    "\n",
    "* None?"
   ]
  },
  {
   "cell_type": "markdown",
   "metadata": {},
   "source": [
    "# Input"
   ]
  },
  {
   "cell_type": "code",
   "execution_count": 1,
   "metadata": {
    "collapsed": false
   },
   "outputs": [],
   "source": [
    "my_snps_file = \"160427-humsavar_r3_rsids_input.txt\"\n",
    "my_selected_outputs = c('refsnp_id',\n",
    "                        'refsnp_source',\n",
    "                        'allele',\n",
    "                        'minor_allele',\n",
    "                        'minor_allele_freq',\n",
    "                        'ensembl_gene_stable_id',\n",
    "                        'ensembl_transcript_stable_id',\n",
    "                        'polyphen_prediction',\n",
    "                        'polyphen_score',\n",
    "                        'sift_prediction',\n",
    "                        'sift_score'\n",
    "                        )"
   ]
  },
  {
   "cell_type": "markdown",
   "metadata": {},
   "source": [
    "# Code"
   ]
  },
  {
   "cell_type": "code",
   "execution_count": 2,
   "metadata": {
    "collapsed": true
   },
   "outputs": [],
   "source": [
    "# Loading biomaRt\n",
    "options(useHTTPS=FALSE)\n",
    "library(\"biomaRt\")\n",
    "\n",
    "# date format is yymmdd (ie. 160428 = 2016-04-28)\n",
    "short_date = format(Sys.time(), \"%y%m%d\")"
   ]
  },
  {
   "cell_type": "code",
   "execution_count": 3,
   "metadata": {
    "collapsed": true
   },
   "outputs": [],
   "source": [
    "hs_snps = useMart(biomart=\"ENSEMBL_MART_SNP\", dataset=\"hsapiens_snp\", host=\"www.ensembl.org\")"
   ]
  },
  {
   "cell_type": "code",
   "execution_count": 4,
   "metadata": {
    "collapsed": true
   },
   "outputs": [],
   "source": [
    "my_snps_table = read.table(my_snps_file, header=FALSE)\n",
    "my_snps = my_snps_table[['V1']]"
   ]
  },
  {
   "cell_type": "code",
   "execution_count": null,
   "metadata": {
    "collapsed": true
   },
   "outputs": [],
   "source": [
    "my_snps_mapped <- getBM(attributes = my_selected_outputs,\n",
    "                        filters = 'snp_filter',\n",
    "                        values = my_snps, \n",
    "                        mart = hs_snps)"
   ]
  },
  {
   "cell_type": "code",
   "execution_count": null,
   "metadata": {
    "collapsed": true
   },
   "outputs": [],
   "source": [
    "write.csv(my_snps_mapped, file=paste(short_date,'-',my_snps_file,sep=''))"
   ]
  },
  {
   "cell_type": "markdown",
   "metadata": {},
   "source": [
    "# Unsuccessful mappings\n",
    "\n",
    "Please note that these will not be in the output file!"
   ]
  },
  {
   "cell_type": "code",
   "execution_count": null,
   "metadata": {
    "collapsed": true
   },
   "outputs": [],
   "source": [
    "setdiff(my_snps, my_snps_mapped$refsnp_id) "
   ]
  }
 ],
 "metadata": {
  "kernelspec": {
   "display_name": "R",
   "language": "R",
   "name": "ir"
  },
  "language_info": {
   "codemirror_mode": "r",
   "file_extension": ".r",
   "mimetype": "text/x-r-source",
   "name": "R",
   "pygments_lexer": "r",
   "version": "3.2.5"
  },
  "toc": {
   "toc_cell": false,
   "toc_number_sections": false,
   "toc_threshold": 6,
   "toc_window_display": true
  }
 },
 "nbformat": 4,
 "nbformat_minor": 0
}
