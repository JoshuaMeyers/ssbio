{
 "cells": [
  {
   "cell_type": "markdown",
   "metadata": {},
   "source": [
    "# README\n",
    "\n",
    "This notebook gives an example of how to run the GEM-PRO pipeline on a **list of gene IDs** (in Python 2, but there are no differences for Python 3).\n",
    "\n",
    "### Installation\n",
    "\n",
    "See: https://github.com/nmih/ssbio/blob/master/README.md\n",
    "- If something isn't working, make sure to update the repository before you do anything (git pull)"
   ]
  },
  {
   "cell_type": "code",
   "execution_count": 1,
   "metadata": {
    "collapsed": false
   },
   "outputs": [],
   "source": [
    "# Import the GEM-PRO class\n",
    "from ssbio.pipeline.gempro import GEMPRO"
   ]
  },
  {
   "cell_type": "code",
   "execution_count": 2,
   "metadata": {
    "collapsed": false
   },
   "outputs": [],
   "source": [
    "# Create logger\n",
    "import logging\n",
    "logger = logging.getLogger()\n",
    "\n",
    "############# SET YOUR LOGGING LEVEL HERE #############\n",
    "# - CRITICAL\n",
    "#     - Only really important messages shown\n",
    "# - ERROR\n",
    "#     - Major errors\n",
    "# - WARNING\n",
    "#     - Warnings that don't affect running of the pipeline\n",
    "# - INFO\n",
    "#     - Info such as the number of structures mapped per gene\n",
    "# - DEBUG\n",
    "#     - Really detailed information that will print out a lot of stuff\n",
    "logger.setLevel(logging.INFO)\n",
    "#######################################################"
   ]
  },
  {
   "cell_type": "markdown",
   "metadata": {},
   "source": [
    "## Initialization of the project\n",
    "\n",
    "Set these three things:\n",
    "\n",
    "- GEM_NAME\n",
    "    - Your project name\n",
    "- ROOT_DIR\n",
    "    - The directory where the GEM_NAME folder will be created\n",
    "- GENES\n",
    "    - Your list of gene IDs\n",
    "    \n",
    "A directory will be created in ROOT_DIR named after your GEM_NAME. The folders are:\n",
    "```\n",
    "    .\n",
    "    ├── data  # where dataframes are stored\n",
    "    ├── figures  # where figures are stored\n",
    "    ├── model  # where SBML and GEM-PRO models are stored\n",
    "    ├── notebooks  # location of any ipython notebooks for analyses\n",
    "    ├── sequences  # sequences are stored here, in gene specific folders\n",
    "    │   ├── <gene_id1>\n",
    "    │   │   └── sequence.fasta\n",
    "    │   ├── <gene_id2>\n",
    "    │   └── ...\n",
    "    └── structures\n",
    "        ├── by_gene  # structures are stored here, in gene specific folders\n",
    "        │   ├── <gene_id1>\n",
    "        │   │   └── 1abc.pdb\n",
    "        │   ├── <gene_id2>\n",
    "        │   └── ...\n",
    "        └── by_complex  # complexes for reactions are stored here (in progress)\n",
    "```"
   ]
  },
  {
   "cell_type": "code",
   "execution_count": 3,
   "metadata": {
    "collapsed": true
   },
   "outputs": [],
   "source": [
    "GEM_NAME = 'gempro_genes_and_sequences_py2_test'\n",
    "\n",
    "ROOT_DIR = '/home/nathan/projects_unsynced/'\n",
    "\n",
    "GENES_AND_SEQUENCES = {'b4485': 'MTTDQHQEILRTEGLSKFFPGVKALDNVDFSLRRGEIMALLGENGAGKSTLIKALTGVYHADRGTIWLEGQAISPKNTAHAQQLGIGTVYQEVNLLPNMSVADNLFIGREPKRFGLLRRKEMEKRATELMASYGFSLDVREPLNRFSVAMQQIVAICRAIDLSAKVLILDEPTASLDTQEVELLFDLMRQLRDRGVSLIFVTHFLDQVYQVSDRITVLRNGSFVGCRETCELPQIELVKMMLGRELDTHALQRAGRTLLSDKPVAAFKNYGKKGTIAPFDLEVRPGEIVGLAGLLGSGRTETAEVIFGIKPADSGTALIKGKPQNLRSPHQASVLGIGFCPEDRKTDGIIAAASVRENIILALQAQRGWLRPISRKEQQEIAERFIRQLGIRTPSTEQPIEFLSGGNQQKVLLSRWLLTRPQFLILDEPTRGIDVGAHAEIIRLIETLCADGLALLVISSELEELVGYADRVIIMRDRKQVAEIPLAELSVPAIMNAIAA',\n",
    "                       'b4390': 'MSSFDYLKTAIKQQGCTLQQVADASGMTKGYLSQLLNAKIKSPSAQKLEALHRFLGLEFPRQKKTIGVVFGKFYPLHTGHIYLIQRACSQVDELHIIMGFDDTRDRALFEDSAMSQQPTVPDRLRWLLQTFKYQKNIRIHAFNEEGMEPYPHGWDVWSNGIKKFMAEKGIQPDLIYTSEEADAPQYMEHLGIETVLVDPKRTFMSISGAQIRENPFRYWEYIPTEVKPFFVRTVAILGGESSGKSTLVNKLANIFNTTSAWEYGRDYVFSHLGGDEIALQYSDYDKIALGHAQYIDFAVKYANKVAFIDTDFVTTQAFCKKYEGREHPFVQALIDEYRFDLVILLENNTPWVADGLRSLGSSVDRKEFQNLLVEMLEENNIEFVRVEEEDYDSRFLRCVELVREMMGEQR'}"
   ]
  },
  {
   "cell_type": "code",
   "execution_count": 4,
   "metadata": {
    "collapsed": false
   },
   "outputs": [
    {
     "name": "stderr",
     "output_type": "stream",
     "text": [
      "INFO:ssbio.pipeline.gempro:Loaded in 2 sequences\n"
     ]
    }
   ],
   "source": [
    "# Create the GEM-PRO project\n",
    "my_gempro = GEMPRO(gem_name=GEM_NAME, root_dir=ROOT_DIR, genes_and_sequences=GENES_AND_SEQUENCES)"
   ]
  },
  {
   "cell_type": "code",
   "execution_count": 5,
   "metadata": {
    "collapsed": false
   },
   "outputs": [
    {
     "data": {
      "text/plain": [
       "{'sequence': {'kegg': {'kegg_id': None,\n",
       "   'metadata_file': None,\n",
       "   'pdbs': [],\n",
       "   'seq_file': None,\n",
       "   'seq_len': 0,\n",
       "   'uniprot_acc': None},\n",
       "  'representative': {'kegg_id': None,\n",
       "   'metadata_file': None,\n",
       "   'pdbs': [],\n",
       "   'properties': {},\n",
       "   'seq_file': 'b4485.faa',\n",
       "   'seq_len': 500,\n",
       "   'uniprot_acc': None},\n",
       "  'uniprot': {}},\n",
       " 'structure': {'homology': {},\n",
       "  'pdb': OrderedDict(),\n",
       "  'representative': {'clean_pdb_file': None,\n",
       "   'original_pdb_file': None,\n",
       "   'seq_coverage': 0,\n",
       "   'structure_id': None}}}"
      ]
     },
     "execution_count": 5,
     "metadata": {},
     "output_type": "execute_result"
    }
   ],
   "source": [
    "# Looking at the Gene object - empty for now\n",
    "example_gene = my_gempro.genes[0]\n",
    "example_gene.annotation"
   ]
  },
  {
   "cell_type": "markdown",
   "metadata": {},
   "source": [
    "## Mapping sequence -> structure\n",
    "\n",
    "There are two ways to map sequence to structure:\n",
    "1. Simply use the UniProt ID and their automatic mappings to the PDB\n",
    "2. BLAST the sequence to the PDB\n",
    "\n",
    "### map_uniprot_to_pdb\n",
    "This uses a service from the PDB to return a rank ordered list of PDBs that match a UniProt ID. \n",
    "- seq_ident_cutoff (from 0 to 1)\n",
    "    - Provide the seq_ident_cutoff as a percentage to filter for structures with only a percent identity above the cutoff.\n",
    "    - **Warning:** if you set the seq_ident_cutoff too high you risk filtering out PDBs that do match the sequence, but are just missing large portions of it.\n",
    "\n",
    "### blast_seqs_to_pdb\n",
    "This will BLAST the representative sequence against the entire PDB, and return significant hits. This will however return hits in other organisms, which may not be ideal.\n",
    "- all_genes\n",
    "    - Set to True if you want all genes and their sequences BLASTed\n",
    "    - Set to False if you only want to BLAST sequences that did not have any PDBs from the function map_uniprot_to_pdb\n",
    "- seq_ident_cutoff\n",
    "    - Same as above\n",
    "- evalue\n",
    "    - Significance of BLAST results\n",
    "\n",
    "-------------------\n",
    "\n",
    "## Saved information:\n",
    "\n",
    "### Gene annotations\n",
    "    - my_gempro.genes.get_by_id('b1187').annotation['structure']['pdb']\n",
    "\n",
    "### DataFrames\n",
    "    - my_gempro.df_pdb_ranking\n",
    "    - my_gempro.df_pdb_blast"
   ]
  },
  {
   "cell_type": "code",
   "execution_count": 6,
   "metadata": {
    "collapsed": false
   },
   "outputs": [
    {
     "name": "stderr",
     "output_type": "stream",
     "text": [
      "  0%|          | 0/2 [00:00<?, ?it/s]INFO:ssbio.pipeline.gempro:b4485: Adding 383 PDBs from BLAST results.\n",
      "INFO:ssbio.pipeline.gempro:b4390: Adding 1 PDBs from BLAST results.\n",
      "100%|██████████| 2/2 [00:00<00:00, 162.61it/s]\n",
      "INFO:ssbio.pipeline.gempro:Completed sequence --> PDB BLAST. See the \"df_pdb_blast\" attribute.\n"
     ]
    }
   ],
   "source": [
    "# Mapping using BLAST\n",
    "my_gempro.blast_seqs_to_pdb(all_genes=True, seq_ident_cutoff=.1, evalue=0.00001)"
   ]
  },
  {
   "cell_type": "code",
   "execution_count": 7,
   "metadata": {
    "collapsed": false
   },
   "outputs": [
    {
     "data": {
      "text/html": [
       "<div>\n",
       "<table border=\"1\" class=\"dataframe\">\n",
       "  <thead>\n",
       "    <tr style=\"text-align: right;\">\n",
       "      <th></th>\n",
       "      <th>gene</th>\n",
       "      <th>pdb_id</th>\n",
       "      <th>pdb_chain_id</th>\n",
       "      <th>blast_score</th>\n",
       "      <th>blast_evalue</th>\n",
       "      <th>seq_coverage</th>\n",
       "      <th>seq_similar</th>\n",
       "      <th>seq_num_coverage</th>\n",
       "      <th>seq_num_similar</th>\n",
       "    </tr>\n",
       "  </thead>\n",
       "  <tbody>\n",
       "    <tr>\n",
       "      <th>0</th>\n",
       "      <td>b4485</td>\n",
       "      <td>1z47</td>\n",
       "      <td>A</td>\n",
       "      <td>299.0</td>\n",
       "      <td>9.629420e-27</td>\n",
       "      <td>0.170</td>\n",
       "      <td>0.286</td>\n",
       "      <td>85</td>\n",
       "      <td>143</td>\n",
       "    </tr>\n",
       "    <tr>\n",
       "      <th>1</th>\n",
       "      <td>b4485</td>\n",
       "      <td>1z47</td>\n",
       "      <td>B</td>\n",
       "      <td>299.0</td>\n",
       "      <td>9.629420e-27</td>\n",
       "      <td>0.170</td>\n",
       "      <td>0.286</td>\n",
       "      <td>85</td>\n",
       "      <td>143</td>\n",
       "    </tr>\n",
       "    <tr>\n",
       "      <th>2</th>\n",
       "      <td>b4485</td>\n",
       "      <td>1g6h</td>\n",
       "      <td>A</td>\n",
       "      <td>289.0</td>\n",
       "      <td>1.367470e-25</td>\n",
       "      <td>0.142</td>\n",
       "      <td>0.232</td>\n",
       "      <td>71</td>\n",
       "      <td>116</td>\n",
       "    </tr>\n",
       "    <tr>\n",
       "      <th>3</th>\n",
       "      <td>b4485</td>\n",
       "      <td>4u02</td>\n",
       "      <td>A</td>\n",
       "      <td>287.0</td>\n",
       "      <td>2.128000e-25</td>\n",
       "      <td>0.132</td>\n",
       "      <td>0.238</td>\n",
       "      <td>66</td>\n",
       "      <td>119</td>\n",
       "    </tr>\n",
       "    <tr>\n",
       "      <th>4</th>\n",
       "      <td>b4485</td>\n",
       "      <td>4u02</td>\n",
       "      <td>B</td>\n",
       "      <td>287.0</td>\n",
       "      <td>2.128000e-25</td>\n",
       "      <td>0.132</td>\n",
       "      <td>0.238</td>\n",
       "      <td>66</td>\n",
       "      <td>119</td>\n",
       "    </tr>\n",
       "  </tbody>\n",
       "</table>\n",
       "</div>"
      ],
      "text/plain": [
       "    gene pdb_id pdb_chain_id  blast_score  blast_evalue  seq_coverage  \\\n",
       "0  b4485   1z47            A        299.0  9.629420e-27         0.170   \n",
       "1  b4485   1z47            B        299.0  9.629420e-27         0.170   \n",
       "2  b4485   1g6h            A        289.0  1.367470e-25         0.142   \n",
       "3  b4485   4u02            A        287.0  2.128000e-25         0.132   \n",
       "4  b4485   4u02            B        287.0  2.128000e-25         0.132   \n",
       "\n",
       "   seq_similar  seq_num_coverage  seq_num_similar  \n",
       "0        0.286                85              143  \n",
       "1        0.286                85              143  \n",
       "2        0.232                71              116  \n",
       "3        0.238                66              119  \n",
       "4        0.238                66              119  "
      ]
     },
     "execution_count": 7,
     "metadata": {},
     "output_type": "execute_result"
    }
   ],
   "source": [
    "# Looking at the BLAST results\n",
    "my_gempro.df_pdb_blast.head()"
   ]
  },
  {
   "cell_type": "markdown",
   "metadata": {},
   "source": [
    "## Ranking and downloading structures\n",
    "\n",
    "### set_representative_structure\n",
    "Rank available structures, run QC/QA, download and clean the final structure\n",
    "### pdb_downloader_and_metadata\n",
    "Download all structures per gene. This also adds some additional metadata to the annotation for each PDB.\n",
    "    \n",
    "-------------------\n",
    "\n",
    "## Saved information:\n",
    "\n",
    "### Gene annotations\n",
    "    - my_gempro.genes.get_by_id('b1187').annotation['structure']['representative']\n",
    "\n",
    "### DataFrames\n",
    "    - my_gempro.df_pdb_metadata"
   ]
  },
  {
   "cell_type": "code",
   "execution_count": 8,
   "metadata": {
    "collapsed": false
   },
   "outputs": [
    {
     "name": "stderr",
     "output_type": "stream",
     "text": [
      "100%|██████████| 2/2 [05:33<00:00, 233.40s/it]\n"
     ]
    }
   ],
   "source": [
    "my_gempro.set_representative_structure()"
   ]
  },
  {
   "cell_type": "code",
   "execution_count": 9,
   "metadata": {
    "collapsed": false
   },
   "outputs": [
    {
     "name": "stderr",
     "output_type": "stream",
     "text": [
      "  0%|          | 0/2 [00:00<?, ?it/s]\n"
     ]
    },
    {
     "ename": "KeyError",
     "evalue": "'taxonomy_name'",
     "output_type": "error",
     "traceback": [
      "\u001b[1;31m---------------------------------------------------------------------------\u001b[0m",
      "\u001b[1;31mKeyError\u001b[0m                                  Traceback (most recent call last)",
      "\u001b[1;32m<ipython-input-9-5d9aeaa8dfd2>\u001b[0m in \u001b[0;36m<module>\u001b[1;34m()\u001b[0m\n\u001b[0;32m      1\u001b[0m \u001b[1;31m# Download all mapped PDBs and gather the metadata\u001b[0m\u001b[1;33m\u001b[0m\u001b[1;33m\u001b[0m\u001b[0m\n\u001b[1;32m----> 2\u001b[1;33m \u001b[0mmy_gempro\u001b[0m\u001b[1;33m.\u001b[0m\u001b[0mpdb_downloader_and_metadata\u001b[0m\u001b[1;33m(\u001b[0m\u001b[1;33m)\u001b[0m\u001b[1;33m\u001b[0m\u001b[0m\n\u001b[0m",
      "\u001b[1;32m/home/nathan/projects_unsynced/ssbio/ssbio/pipeline/gempro.pyc\u001b[0m in \u001b[0;36mpdb_downloader_and_metadata\u001b[1;34m(self, force_rerun)\u001b[0m\n\u001b[0;32m   1192\u001b[0m                 \u001b[0madder\u001b[0m \u001b[1;33m=\u001b[0m \u001b[0mg\u001b[0m\u001b[1;33m.\u001b[0m\u001b[0mannotation\u001b[0m\u001b[1;33m[\u001b[0m\u001b[1;34m'structure'\u001b[0m\u001b[1;33m]\u001b[0m\u001b[1;33m[\u001b[0m\u001b[1;34m'pdb'\u001b[0m\u001b[1;33m]\u001b[0m\u001b[1;33m[\u001b[0m\u001b[0mk\u001b[0m\u001b[1;33m]\u001b[0m\u001b[1;33m.\u001b[0m\u001b[0mcopy\u001b[0m\u001b[1;33m(\u001b[0m\u001b[1;33m)\u001b[0m\u001b[1;33m\u001b[0m\u001b[0m\n\u001b[0;32m   1193\u001b[0m                 \u001b[0madder\u001b[0m\u001b[1;33m[\u001b[0m\u001b[1;34m'chemicals'\u001b[0m\u001b[1;33m]\u001b[0m \u001b[1;33m=\u001b[0m \u001b[1;34m';'\u001b[0m\u001b[1;33m.\u001b[0m\u001b[0mjoin\u001b[0m\u001b[1;33m(\u001b[0m\u001b[0madder\u001b[0m\u001b[1;33m[\u001b[0m\u001b[1;34m'chemicals'\u001b[0m\u001b[1;33m]\u001b[0m\u001b[1;33m)\u001b[0m\u001b[1;33m\u001b[0m\u001b[0m\n\u001b[1;32m-> 1194\u001b[1;33m                 \u001b[1;32mif\u001b[0m \u001b[0misinstance\u001b[0m\u001b[1;33m(\u001b[0m\u001b[0madder\u001b[0m\u001b[1;33m[\u001b[0m\u001b[1;34m'taxonomy_name'\u001b[0m\u001b[1;33m]\u001b[0m\u001b[1;33m,\u001b[0m \u001b[0mlist\u001b[0m\u001b[1;33m)\u001b[0m\u001b[1;33m:\u001b[0m\u001b[1;33m\u001b[0m\u001b[0m\n\u001b[0m\u001b[0;32m   1195\u001b[0m                     \u001b[0madder\u001b[0m\u001b[1;33m[\u001b[0m\u001b[1;34m'taxonomy_name'\u001b[0m\u001b[1;33m]\u001b[0m \u001b[1;33m=\u001b[0m \u001b[1;34m';'\u001b[0m\u001b[1;33m.\u001b[0m\u001b[0mjoin\u001b[0m\u001b[1;33m(\u001b[0m\u001b[0madder\u001b[0m\u001b[1;33m[\u001b[0m\u001b[1;34m'taxonomy_name'\u001b[0m\u001b[1;33m]\u001b[0m\u001b[1;33m)\u001b[0m\u001b[1;33m\u001b[0m\u001b[0m\n\u001b[0;32m   1196\u001b[0m                 \u001b[0madder\u001b[0m\u001b[1;33m[\u001b[0m\u001b[1;34m'gene'\u001b[0m\u001b[1;33m]\u001b[0m \u001b[1;33m=\u001b[0m \u001b[0mgene_id\u001b[0m\u001b[1;33m\u001b[0m\u001b[0m\n",
      "\u001b[1;31mKeyError\u001b[0m: 'taxonomy_name'"
     ]
    }
   ],
   "source": [
    "# Download all mapped PDBs and gather the metadata\n",
    "my_gempro.pdb_downloader_and_metadata()"
   ]
  },
  {
   "cell_type": "code",
   "execution_count": null,
   "metadata": {
    "collapsed": false
   },
   "outputs": [],
   "source": [
    "# Look at the summary of structures\n",
    "my_gempro.df_pdb_metadata.head()"
   ]
  },
  {
   "cell_type": "code",
   "execution_count": 11,
   "metadata": {
    "collapsed": false
   },
   "outputs": [
    {
     "name": "stdout",
     "output_type": "stream",
     "text": [
      "('b4485', {'homology': {}, 'pdb': OrderedDict([(('1z47', 'A'), {'seq_similar': 0.286, 'pdb_id': '1z47', 'seq_coverage': 0.17, 'pdb_file': '1z47.pdb', 'seq_num_similar': 143, 'taxonomy_name': 'Alicyclobacillus acidocaldarius', 'blast_evalue': 9.62942e-27, 'blast_score': 299.0, 'pdb_chain_id': 'A', 'seq_num_coverage': 85, 'chemicals': ['CL'], 'mmcif_header': '1z47.header.cif', 'resolution': 1.9, 'experimental_method': 'X-RAY DIFFRACTION'}), (('1z47', 'B'), {'seq_similar': 0.286, 'pdb_id': '1z47', 'seq_coverage': 0.17, 'pdb_file': '1z47.pdb', 'seq_num_similar': 143, 'taxonomy_name': 'Alicyclobacillus acidocaldarius', 'blast_evalue': 9.62942e-27, 'blast_score': 299.0, 'pdb_chain_id': 'B', 'seq_num_coverage': 85, 'chemicals': ['CL'], 'mmcif_header': '1z47.header.cif', 'resolution': 1.9, 'experimental_method': 'X-RAY DIFFRACTION'}), (('1g6h', 'A'), {'seq_similar': 0.232, 'pdb_id': '1g6h', 'seq_coverage': 0.142, 'pdb_file': '1g6h.pdb', 'seq_num_similar': 116, 'blast_evalue': 1.36747e-25, 'blast_score': 289.0, 'pdb_chain_id': 'A', 'seq_num_coverage': 71, 'chemicals': ['MG', 'MMC', 'ADP'], 'mmcif_header': '1g6h.header.cif', 'resolution': 1.6, 'experimental_method': 'X-RAY DIFFRACTION'}), (('4u02', 'A'), {'seq_similar': 0.238, 'pdb_id': '4u02', 'seq_coverage': 0.132, 'seq_num_similar': 119, 'blast_evalue': 2.128e-25, 'blast_score': 287.0, 'pdb_chain_id': 'A', 'seq_num_coverage': 66}), (('4u02', 'B'), {'seq_similar': 0.238, 'pdb_id': '4u02', 'seq_coverage': 0.132, 'seq_num_similar': 119, 'blast_evalue': 2.128e-25, 'blast_score': 287.0, 'pdb_chain_id': 'B', 'seq_num_coverage': 66}), (('4u02', 'C'), {'seq_similar': 0.238, 'pdb_id': '4u02', 'seq_coverage': 0.132, 'seq_num_similar': 119, 'blast_evalue': 2.128e-25, 'blast_score': 287.0, 'pdb_chain_id': 'C', 'seq_num_coverage': 66}), (('4u02', 'D'), {'seq_similar': 0.238, 'pdb_id': '4u02', 'seq_coverage': 0.132, 'seq_num_similar': 119, 'blast_evalue': 2.128e-25, 'blast_score': 287.0, 'pdb_chain_id': 'D', 'seq_num_coverage': 66}), (('4u00', 'A'), {'seq_similar': 0.238, 'pdb_id': '4u00', 'seq_coverage': 0.132, 'seq_num_similar': 119, 'blast_evalue': 2.128e-25, 'blast_score': 287.0, 'pdb_chain_id': 'A', 'seq_num_coverage': 66}), (('1g9x', 'A'), {'seq_similar': 0.232, 'pdb_id': '1g9x', 'seq_coverage': 0.142, 'seq_num_similar': 116, 'blast_evalue': 3.1762e-25, 'blast_score': 285.0, 'pdb_chain_id': 'A', 'seq_num_coverage': 71}), (('1g9x', 'B'), {'seq_similar': 0.232, 'pdb_id': '1g9x', 'seq_coverage': 0.142, 'seq_num_similar': 116, 'blast_evalue': 3.1762e-25, 'blast_score': 285.0, 'pdb_chain_id': 'B', 'seq_num_coverage': 71}), (('1g9x', 'C'), {'seq_similar': 0.232, 'pdb_id': '1g9x', 'seq_coverage': 0.142, 'seq_num_similar': 116, 'blast_evalue': 3.1762e-25, 'blast_score': 285.0, 'pdb_chain_id': 'C', 'seq_num_coverage': 71}), (('1gaj', 'A'), {'seq_similar': 0.232, 'pdb_id': '1gaj', 'seq_coverage': 0.14, 'seq_num_similar': 116, 'blast_evalue': 4.14824e-25, 'blast_score': 284.0, 'pdb_chain_id': 'A', 'seq_num_coverage': 70}), (('3c41', 'J'), {'seq_similar': 0.256, 'pdb_id': '3c41', 'seq_coverage': 0.136, 'seq_num_similar': 128, 'blast_evalue': 3.28494e-24, 'blast_score': 277.0, 'pdb_chain_id': 'J', 'seq_num_coverage': 68}), (('3c41', 'K'), {'seq_similar': 0.256, 'pdb_id': '3c41', 'seq_coverage': 0.136, 'seq_num_similar': 128, 'blast_evalue': 3.28494e-24, 'blast_score': 277.0, 'pdb_chain_id': 'K', 'seq_num_coverage': 68}), (('3c4j', 'A'), {'seq_similar': 0.256, 'pdb_id': '3c4j', 'seq_coverage': 0.136, 'seq_num_similar': 128, 'blast_evalue': 3.34022e-24, 'blast_score': 277.0, 'pdb_chain_id': 'A', 'seq_num_coverage': 68}), (('3c4j', 'B'), {'seq_similar': 0.256, 'pdb_id': '3c4j', 'seq_coverage': 0.136, 'seq_num_similar': 128, 'blast_evalue': 3.34022e-24, 'blast_score': 277.0, 'pdb_chain_id': 'B', 'seq_num_coverage': 68}), (('2q0h', 'A'), {'seq_similar': 0.256, 'pdb_id': '2q0h', 'seq_coverage': 0.136, 'seq_num_similar': 128, 'blast_evalue': 3.34022e-24, 'blast_score': 277.0, 'pdb_chain_id': 'A', 'seq_num_coverage': 68}), (('2q0h', 'B'), {'seq_similar': 0.256, 'pdb_id': '2q0h', 'seq_coverage': 0.136, 'seq_num_similar': 128, 'blast_evalue': 3.34022e-24, 'blast_score': 277.0, 'pdb_chain_id': 'B', 'seq_num_coverage': 68}), (('2ouk', 'A'), {'seq_similar': 0.256, 'pdb_id': '2ouk', 'seq_coverage': 0.136, 'seq_num_similar': 128, 'blast_evalue': 3.34022e-24, 'blast_score': 277.0, 'pdb_chain_id': 'A', 'seq_num_coverage': 68}), (('2ouk', 'B'), {'seq_similar': 0.256, 'pdb_id': '2ouk', 'seq_coverage': 0.136, 'seq_num_similar': 128, 'blast_evalue': 3.34022e-24, 'blast_score': 277.0, 'pdb_chain_id': 'B', 'seq_num_coverage': 68}), (('2ouk', 'C'), {'seq_similar': 0.256, 'pdb_id': '2ouk', 'seq_coverage': 0.136, 'seq_num_similar': 128, 'blast_evalue': 3.34022e-24, 'blast_score': 277.0, 'pdb_chain_id': 'C', 'seq_num_coverage': 68}), (('2ouk', 'D'), {'seq_similar': 0.256, 'pdb_id': '2ouk', 'seq_coverage': 0.136, 'seq_num_similar': 128, 'blast_evalue': 3.34022e-24, 'blast_score': 277.0, 'pdb_chain_id': 'D', 'seq_num_coverage': 68}), (('2olk', 'A'), {'seq_similar': 0.256, 'pdb_id': '2olk', 'seq_coverage': 0.136, 'seq_num_similar': 128, 'blast_evalue': 3.34022e-24, 'blast_score': 277.0, 'pdb_chain_id': 'A', 'seq_num_coverage': 68}), (('2olk', 'B'), {'seq_similar': 0.256, 'pdb_id': '2olk', 'seq_coverage': 0.136, 'seq_num_similar': 128, 'blast_evalue': 3.34022e-24, 'blast_score': 277.0, 'pdb_chain_id': 'B', 'seq_num_coverage': 68}), (('2olk', 'C'), {'seq_similar': 0.256, 'pdb_id': '2olk', 'seq_coverage': 0.136, 'seq_num_similar': 128, 'blast_evalue': 3.34022e-24, 'blast_score': 277.0, 'pdb_chain_id': 'C', 'seq_num_coverage': 68}), (('2olk', 'D'), {'seq_similar': 0.256, 'pdb_id': '2olk', 'seq_coverage': 0.136, 'seq_num_similar': 128, 'blast_evalue': 3.34022e-24, 'blast_score': 277.0, 'pdb_chain_id': 'D', 'seq_num_coverage': 68}), (('2olj', 'A'), {'seq_similar': 0.256, 'pdb_id': '2olj', 'seq_coverage': 0.136, 'seq_num_similar': 128, 'blast_evalue': 3.34022e-24, 'blast_score': 277.0, 'pdb_chain_id': 'A', 'seq_num_coverage': 68}), (('2olj', 'B'), {'seq_similar': 0.256, 'pdb_id': '2olj', 'seq_coverage': 0.136, 'seq_num_similar': 128, 'blast_evalue': 3.34022e-24, 'blast_score': 277.0, 'pdb_chain_id': 'B', 'seq_num_coverage': 68}), (('4ymw', 'A'), {'seq_similar': 0.252, 'pdb_id': '4ymw', 'seq_coverage': 0.122, 'seq_num_similar': 126, 'blast_evalue': 1.92637e-23, 'blast_score': 270.0, 'pdb_chain_id': 'A', 'seq_num_coverage': 61}), (('4ymw', 'J'), {'seq_similar': 0.252, 'pdb_id': '4ymw', 'seq_coverage': 0.122, 'seq_num_similar': 126, 'blast_evalue': 1.92637e-23, 'blast_score': 270.0, 'pdb_chain_id': 'J', 'seq_num_coverage': 61}), (('4ymv', 'A'), {'seq_similar': 0.252, 'pdb_id': '4ymv', 'seq_coverage': 0.122, 'seq_num_similar': 126, 'blast_evalue': 1.92637e-23, 'blast_score': 270.0, 'pdb_chain_id': 'A', 'seq_num_coverage': 61}), (('4ymv', 'J'), {'seq_similar': 0.252, 'pdb_id': '4ymv', 'seq_coverage': 0.122, 'seq_num_similar': 126, 'blast_evalue': 1.92637e-23, 'blast_score': 270.0, 'pdb_chain_id': 'J', 'seq_num_coverage': 61}), (('4ymu', 'A'), {'seq_similar': 0.252, 'pdb_id': '4ymu', 'seq_coverage': 0.122, 'seq_num_similar': 126, 'blast_evalue': 1.92637e-23, 'blast_score': 270.0, 'pdb_chain_id': 'A', 'seq_num_coverage': 61}), (('4ymu', 'J'), {'seq_similar': 0.252, 'pdb_id': '4ymu', 'seq_coverage': 0.122, 'seq_num_similar': 126, 'blast_evalue': 1.92637e-23, 'blast_score': 270.0, 'pdb_chain_id': 'J', 'seq_num_coverage': 61}), (('4ymt', 'A'), {'seq_similar': 0.252, 'pdb_id': '4ymt', 'seq_coverage': 0.122, 'seq_num_similar': 126, 'blast_evalue': 1.92637e-23, 'blast_score': 270.0, 'pdb_chain_id': 'A', 'seq_num_coverage': 61}), (('4ymt', 'J'), {'seq_similar': 0.252, 'pdb_id': '4ymt', 'seq_coverage': 0.122, 'seq_num_similar': 126, 'blast_evalue': 1.92637e-23, 'blast_score': 270.0, 'pdb_chain_id': 'J', 'seq_num_coverage': 61}), (('4yms', 'A'), {'seq_similar': 0.252, 'pdb_id': '4yms', 'seq_coverage': 0.122, 'seq_num_similar': 126, 'blast_evalue': 1.92637e-23, 'blast_score': 270.0, 'pdb_chain_id': 'A', 'seq_num_coverage': 61}), (('4yms', 'J'), {'seq_similar': 0.252, 'pdb_id': '4yms', 'seq_coverage': 0.122, 'seq_num_similar': 126, 'blast_evalue': 1.92637e-23, 'blast_score': 270.0, 'pdb_chain_id': 'J', 'seq_num_coverage': 61}), (('2it1', 'A'), {'seq_similar': 0.248, 'pdb_id': '2it1', 'seq_coverage': 0.142, 'seq_num_similar': 124, 'blast_evalue': 3.81838e-23, 'blast_score': 267.0, 'pdb_chain_id': 'A', 'seq_num_coverage': 71}), (('2it1', 'B'), {'seq_similar': 0.248, 'pdb_id': '2it1', 'seq_coverage': 0.142, 'seq_num_similar': 124, 'blast_evalue': 3.81838e-23, 'blast_score': 267.0, 'pdb_chain_id': 'B', 'seq_num_coverage': 71}), (('4yer', 'A'), {'seq_similar': 0.258, 'pdb_id': '4yer', 'seq_coverage': 0.134, 'seq_num_similar': 129, 'blast_evalue': 4.98841e-22, 'blast_score': 258.0, 'pdb_chain_id': 'A', 'seq_num_coverage': 67}), (('4yer', 'B'), {'seq_similar': 0.258, 'pdb_id': '4yer', 'seq_coverage': 0.134, 'seq_num_similar': 129, 'blast_evalue': 4.98841e-22, 'blast_score': 258.0, 'pdb_chain_id': 'B', 'seq_num_coverage': 67}), (('2yyz', 'A'), {'seq_similar': 0.226, 'pdb_id': '2yyz', 'seq_coverage': 0.138, 'seq_num_similar': 113, 'blast_evalue': 2.75936e-21, 'blast_score': 251.0, 'pdb_chain_id': 'A', 'seq_num_coverage': 69}), (('3tuz', 'C'), {'seq_similar': 0.246, 'pdb_id': '3tuz', 'seq_coverage': 0.122, 'seq_num_similar': 123, 'blast_evalue': 3.60489e-20, 'blast_score': 242.0, 'pdb_chain_id': 'C', 'seq_num_coverage': 61}), (('3tuz', 'D'), {'seq_similar': 0.246, 'pdb_id': '3tuz', 'seq_coverage': 0.122, 'seq_num_similar': 123, 'blast_evalue': 3.60489e-20, 'blast_score': 242.0, 'pdb_chain_id': 'D', 'seq_num_coverage': 61}), (('3tuz', 'G'), {'seq_similar': 0.246, 'pdb_id': '3tuz', 'seq_coverage': 0.122, 'seq_num_similar': 123, 'blast_evalue': 3.60489e-20, 'blast_score': 242.0, 'pdb_chain_id': 'G', 'seq_num_coverage': 61}), (('3tuz', 'H'), {'seq_similar': 0.246, 'pdb_id': '3tuz', 'seq_coverage': 0.122, 'seq_num_similar': 123, 'blast_evalue': 3.60489e-20, 'blast_score': 242.0, 'pdb_chain_id': 'H', 'seq_num_coverage': 61}), (('3tuj', 'C'), {'seq_similar': 0.246, 'pdb_id': '3tuj', 'seq_coverage': 0.122, 'seq_num_similar': 123, 'blast_evalue': 3.60489e-20, 'blast_score': 242.0, 'pdb_chain_id': 'C', 'seq_num_coverage': 61}), (('3tuj', 'D'), {'seq_similar': 0.246, 'pdb_id': '3tuj', 'seq_coverage': 0.122, 'seq_num_similar': 123, 'blast_evalue': 3.60489e-20, 'blast_score': 242.0, 'pdb_chain_id': 'D', 'seq_num_coverage': 61}), (('3tui', 'C'), {'seq_similar': 0.246, 'pdb_id': '3tui', 'seq_coverage': 0.122, 'seq_num_similar': 123, 'blast_evalue': 3.60489e-20, 'blast_score': 242.0, 'pdb_chain_id': 'C', 'seq_num_coverage': 61}), (('3tui', 'D'), {'seq_similar': 0.246, 'pdb_id': '3tui', 'seq_coverage': 0.122, 'seq_num_similar': 123, 'blast_evalue': 3.60489e-20, 'blast_score': 242.0, 'pdb_chain_id': 'D', 'seq_num_coverage': 61}), (('3tui', 'G'), {'seq_similar': 0.246, 'pdb_id': '3tui', 'seq_coverage': 0.122, 'seq_num_similar': 123, 'blast_evalue': 3.60489e-20, 'blast_score': 242.0, 'pdb_chain_id': 'G', 'seq_num_coverage': 61}), (('3tui', 'H'), {'seq_similar': 0.246, 'pdb_id': '3tui', 'seq_coverage': 0.122, 'seq_num_similar': 123, 'blast_evalue': 3.60489e-20, 'blast_score': 242.0, 'pdb_chain_id': 'H', 'seq_num_coverage': 61}), (('3dhw', 'C'), {'seq_similar': 0.228, 'pdb_id': '3dhw', 'seq_coverage': 0.118, 'seq_num_similar': 114, 'blast_evalue': 4.33123e-20, 'blast_score': 241.0, 'pdb_chain_id': 'C', 'seq_num_coverage': 59}), (('3dhw', 'D'), {'seq_similar': 0.228, 'pdb_id': '3dhw', 'seq_coverage': 0.118, 'seq_num_similar': 114, 'blast_evalue': 4.33123e-20, 'blast_score': 241.0, 'pdb_chain_id': 'D', 'seq_num_coverage': 59}), (('3dhw', 'G'), {'seq_similar': 0.228, 'pdb_id': '3dhw', 'seq_coverage': 0.118, 'seq_num_similar': 114, 'blast_evalue': 4.33123e-20, 'blast_score': 241.0, 'pdb_chain_id': 'G', 'seq_num_coverage': 59}), (('3dhw', 'H'), {'seq_similar': 0.228, 'pdb_id': '3dhw', 'seq_coverage': 0.118, 'seq_num_similar': 114, 'blast_evalue': 4.33123e-20, 'blast_score': 241.0, 'pdb_chain_id': 'H', 'seq_num_coverage': 59}), (('2d62', 'A'), {'seq_similar': 0.22, 'pdb_id': '2d62', 'seq_coverage': 0.122, 'seq_num_similar': 110, 'blast_evalue': 3.82281e-19, 'blast_score': 233.0, 'pdb_chain_id': 'A', 'seq_num_coverage': 61}), (('2pcl', 'A'), {'seq_similar': 0.228, 'pdb_id': '2pcl', 'seq_coverage': 0.124, 'seq_num_similar': 114, 'blast_evalue': 1.70222e-18, 'blast_score': 227.0, 'pdb_chain_id': 'A', 'seq_num_coverage': 62}), (('2pcj', 'A'), {'seq_similar': 0.228, 'pdb_id': '2pcj', 'seq_coverage': 0.124, 'seq_num_similar': 114, 'blast_evalue': 1.70222e-18, 'blast_score': 227.0, 'pdb_chain_id': 'A', 'seq_num_coverage': 62}), (('2pcj', 'B'), {'seq_similar': 0.228, 'pdb_id': '2pcj', 'seq_coverage': 0.124, 'seq_num_similar': 114, 'blast_evalue': 1.70222e-18, 'blast_score': 227.0, 'pdb_chain_id': 'B', 'seq_num_coverage': 62}), (('1oxx', 'K'), {'seq_similar': 0.226, 'pdb_id': '1oxx', 'seq_coverage': 0.128, 'seq_num_similar': 113, 'blast_evalue': 2.0452e-18, 'blast_score': 227.0, 'pdb_chain_id': 'K', 'seq_num_coverage': 64}), (('1ji0', 'A'), {'seq_similar': 0.234, 'pdb_id': '1ji0', 'seq_coverage': 0.128, 'seq_num_similar': 117, 'blast_evalue': 2.22317e-18, 'blast_score': 226.0, 'pdb_chain_id': 'A', 'seq_num_coverage': 64}), (('1g29', '1'), {'seq_similar': 0.29, 'pdb_id': '1g29', 'seq_coverage': 0.174, 'seq_num_similar': 145, 'blast_evalue': 2.56197e-18, 'blast_score': 226.0, 'pdb_chain_id': '1', 'seq_num_coverage': 87}), (('1g29', '2'), {'seq_similar': 0.29, 'pdb_id': '1g29', 'seq_coverage': 0.174, 'seq_num_similar': 145, 'blast_evalue': 2.56197e-18, 'blast_score': 226.0, 'pdb_chain_id': '2', 'seq_num_coverage': 87}), (('4rfs', 'B'), {'seq_similar': 0.23, 'pdb_id': '4rfs', 'seq_coverage': 0.132, 'seq_num_similar': 115, 'blast_evalue': 3.34604e-18, 'blast_score': 225.0, 'pdb_chain_id': 'B', 'seq_num_coverage': 66}), (('4hzu', 'A'), {'seq_similar': 0.23, 'pdb_id': '4hzu', 'seq_coverage': 0.132, 'seq_num_similar': 115, 'blast_evalue': 3.34604e-18, 'blast_score': 225.0, 'pdb_chain_id': 'A', 'seq_num_coverage': 66}), (('4huq', 'B'), {'seq_similar': 0.23, 'pdb_id': '4huq', 'seq_coverage': 0.132, 'seq_num_similar': 115, 'blast_evalue': 3.34604e-18, 'blast_score': 225.0, 'pdb_chain_id': 'B', 'seq_num_coverage': 66}), (('1oxv', 'A'), {'seq_similar': 0.224, 'pdb_id': '1oxv', 'seq_coverage': 0.126, 'seq_num_similar': 112, 'blast_evalue': 5.95062e-18, 'blast_score': 223.0, 'pdb_chain_id': 'A', 'seq_num_coverage': 63}), (('1oxv', 'B'), {'seq_similar': 0.224, 'pdb_id': '1oxv', 'seq_coverage': 0.126, 'seq_num_similar': 112, 'blast_evalue': 5.95062e-18, 'blast_score': 223.0, 'pdb_chain_id': 'B', 'seq_num_coverage': 63}), (('1oxv', 'D'), {'seq_similar': 0.224, 'pdb_id': '1oxv', 'seq_coverage': 0.126, 'seq_num_similar': 112, 'blast_evalue': 5.95062e-18, 'blast_score': 223.0, 'pdb_chain_id': 'D', 'seq_num_coverage': 63}), (('1oxu', 'A'), {'seq_similar': 0.224, 'pdb_id': '1oxu', 'seq_coverage': 0.126, 'seq_num_similar': 112, 'blast_evalue': 5.95062e-18, 'blast_score': 223.0, 'pdb_chain_id': 'A', 'seq_num_coverage': 63}), (('1oxu', 'B'), {'seq_similar': 0.224, 'pdb_id': '1oxu', 'seq_coverage': 0.126, 'seq_num_similar': 112, 'blast_evalue': 5.95062e-18, 'blast_score': 223.0, 'pdb_chain_id': 'B', 'seq_num_coverage': 63}), (('1oxu', 'C'), {'seq_similar': 0.224, 'pdb_id': '1oxu', 'seq_coverage': 0.126, 'seq_num_similar': 112, 'blast_evalue': 5.95062e-18, 'blast_score': 223.0, 'pdb_chain_id': 'C', 'seq_num_coverage': 63}), (('1oxt', 'A'), {'seq_similar': 0.224, 'pdb_id': '1oxt', 'seq_coverage': 0.126, 'seq_num_similar': 112, 'blast_evalue': 5.95062e-18, 'blast_score': 223.0, 'pdb_chain_id': 'A', 'seq_num_coverage': 63}), (('1oxt', 'B'), {'seq_similar': 0.224, 'pdb_id': '1oxt', 'seq_coverage': 0.126, 'seq_num_similar': 112, 'blast_evalue': 5.95062e-18, 'blast_score': 223.0, 'pdb_chain_id': 'B', 'seq_num_coverage': 63}), (('1oxt', 'D'), {'seq_similar': 0.224, 'pdb_id': '1oxt', 'seq_coverage': 0.126, 'seq_num_similar': 112, 'blast_evalue': 5.95062e-18, 'blast_score': 223.0, 'pdb_chain_id': 'D', 'seq_num_coverage': 63}), (('1oxs', 'C'), {'seq_similar': 0.224, 'pdb_id': '1oxs', 'seq_coverage': 0.126, 'seq_num_similar': 112, 'blast_evalue': 5.95062e-18, 'blast_score': 223.0, 'pdb_chain_id': 'C', 'seq_num_coverage': 63}), (('3gfo', 'A'), {'seq_similar': 0.224, 'pdb_id': '3gfo', 'seq_coverage': 0.136, 'seq_num_similar': 112, 'blast_evalue': 6.68795e-18, 'blast_score': 222.0, 'pdb_chain_id': 'A', 'seq_num_coverage': 68}), (('4f4c', 'A'), {'seq_similar': 0.224, 'pdb_id': '4f4c', 'seq_coverage': 0.126, 'seq_num_similar': 112, 'blast_evalue': 2.54142e-17, 'blast_score': 217.0, 'pdb_chain_id': 'A', 'seq_num_coverage': 63}), (('4wbs', 'A'), {'seq_similar': 0.198, 'pdb_id': '4wbs', 'seq_coverage': 0.12, 'seq_num_similar': 99, 'blast_evalue': 3.00296e-17, 'blast_score': 217.0, 'pdb_chain_id': 'A', 'seq_num_coverage': 60}), (('4wbs', 'B'), {'seq_similar': 0.198, 'pdb_id': '4wbs', 'seq_coverage': 0.12, 'seq_num_similar': 99, 'blast_evalue': 3.00296e-17, 'blast_score': 217.0, 'pdb_chain_id': 'B', 'seq_num_coverage': 60}), (('1vci', 'A'), {'seq_similar': 0.236, 'pdb_id': '1vci', 'seq_coverage': 0.128, 'seq_num_similar': 118, 'blast_evalue': 9.10948e-17, 'blast_score': 212.0, 'pdb_chain_id': 'A', 'seq_num_coverage': 64}), (('1v43', 'A'), {'seq_similar': 0.236, 'pdb_id': '1v43', 'seq_coverage': 0.128, 'seq_num_similar': 118, 'blast_evalue': 9.10948e-17, 'blast_score': 212.0, 'pdb_chain_id': 'A', 'seq_num_coverage': 64}), (('4mki', 'A'), {'seq_similar': 0.218, 'pdb_id': '4mki', 'seq_coverage': 0.12, 'seq_num_similar': 109, 'blast_evalue': 1.33715e-16, 'blast_score': 211.0, 'pdb_chain_id': 'A', 'seq_num_coverage': 60}), (('4mki', 'B'), {'seq_similar': 0.218, 'pdb_id': '4mki', 'seq_coverage': 0.12, 'seq_num_similar': 109, 'blast_evalue': 1.33715e-16, 'blast_score': 211.0, 'pdb_chain_id': 'B', 'seq_num_coverage': 60}), (('4qc2', 'A'), {'seq_similar': 0.232, 'pdb_id': '4qc2', 'seq_coverage': 0.134, 'seq_num_similar': 116, 'blast_evalue': 1.39412e-16, 'blast_score': 211.0, 'pdb_chain_id': 'A', 'seq_num_coverage': 67}), (('4qc2', 'B'), {'seq_similar': 0.232, 'pdb_id': '4qc2', 'seq_coverage': 0.134, 'seq_num_similar': 116, 'blast_evalue': 1.39412e-16, 'blast_score': 211.0, 'pdb_chain_id': 'B', 'seq_num_coverage': 67}), (('4p32', 'A'), {'seq_similar': 0.232, 'pdb_id': '4p32', 'seq_coverage': 0.134, 'seq_num_similar': 116, 'blast_evalue': 1.68905e-16, 'blast_score': 210.0, 'pdb_chain_id': 'A', 'seq_num_coverage': 67}), (('4p32', 'B'), {'seq_similar': 0.232, 'pdb_id': '4p32', 'seq_coverage': 0.134, 'seq_num_similar': 116, 'blast_evalue': 1.68905e-16, 'blast_score': 210.0, 'pdb_chain_id': 'B', 'seq_num_coverage': 67}), (('4p31', 'A'), {'seq_similar': 0.232, 'pdb_id': '4p31', 'seq_coverage': 0.134, 'seq_num_similar': 116, 'blast_evalue': 1.68905e-16, 'blast_score': 210.0, 'pdb_chain_id': 'A', 'seq_num_coverage': 67}), (('4p31', 'B'), {'seq_similar': 0.232, 'pdb_id': '4p31', 'seq_coverage': 0.134, 'seq_num_similar': 116, 'blast_evalue': 1.68905e-16, 'blast_score': 210.0, 'pdb_chain_id': 'B', 'seq_num_coverage': 67}), (('3fvq', 'A'), {'seq_similar': 0.232, 'pdb_id': '3fvq', 'seq_coverage': 0.144, 'seq_num_similar': 116, 'blast_evalue': 2.11584e-16, 'blast_score': 209.0, 'pdb_chain_id': 'A', 'seq_num_coverage': 72}), (('3fvq', 'B'), {'seq_similar': 0.232, 'pdb_id': '3fvq', 'seq_coverage': 0.144, 'seq_num_similar': 116, 'blast_evalue': 2.11584e-16, 'blast_score': 209.0, 'pdb_chain_id': 'B', 'seq_num_coverage': 72}), (('1f3o', 'A'), {'seq_similar': 0.228, 'pdb_id': '1f3o', 'seq_coverage': 0.116, 'seq_num_similar': 114, 'blast_evalue': 3.63931e-16, 'blast_score': 207.0, 'pdb_chain_id': 'A', 'seq_num_coverage': 58}), (('5c78', 'A'), {'seq_similar': 0.236, 'pdb_id': '5c78', 'seq_coverage': 0.126, 'seq_num_similar': 118, 'blast_evalue': 4.22907e-16, 'blast_score': 207.0, 'pdb_chain_id': 'A', 'seq_num_coverage': 63}), (('5c78', 'B'), {'seq_similar': 0.236, 'pdb_id': '5c78', 'seq_coverage': 0.126, 'seq_num_similar': 118, 'blast_evalue': 4.22907e-16, 'blast_score': 207.0, 'pdb_chain_id': 'B', 'seq_num_coverage': 63}), (('5c78', 'C'), {'seq_similar': 0.236, 'pdb_id': '5c78', 'seq_coverage': 0.126, 'seq_num_similar': 118, 'blast_evalue': 4.22907e-16, 'blast_score': 207.0, 'pdb_chain_id': 'C', 'seq_num_coverage': 63}), (('5c78', 'D'), {'seq_similar': 0.236, 'pdb_id': '5c78', 'seq_coverage': 0.126, 'seq_num_similar': 118, 'blast_evalue': 4.22907e-16, 'blast_score': 207.0, 'pdb_chain_id': 'D', 'seq_num_coverage': 63}), (('5c76', 'A'), {'seq_similar': 0.236, 'pdb_id': '5c76', 'seq_coverage': 0.126, 'seq_num_similar': 118, 'blast_evalue': 4.22907e-16, 'blast_score': 207.0, 'pdb_chain_id': 'A', 'seq_num_coverage': 63}), (('5c76', 'B'), {'seq_similar': 0.236, 'pdb_id': '5c76', 'seq_coverage': 0.126, 'seq_num_similar': 118, 'blast_evalue': 4.22907e-16, 'blast_score': 207.0, 'pdb_chain_id': 'B', 'seq_num_coverage': 63}), (('5c76', 'C'), {'seq_similar': 0.236, 'pdb_id': '5c76', 'seq_coverage': 0.126, 'seq_num_similar': 118, 'blast_evalue': 4.22907e-16, 'blast_score': 207.0, 'pdb_chain_id': 'C', 'seq_num_coverage': 63}), (('5c76', 'D'), {'seq_similar': 0.236, 'pdb_id': '5c76', 'seq_coverage': 0.126, 'seq_num_similar': 118, 'blast_evalue': 4.22907e-16, 'blast_score': 207.0, 'pdb_chain_id': 'D', 'seq_num_coverage': 63}), (('5c73', 'A'), {'seq_similar': 0.236, 'pdb_id': '5c73', 'seq_coverage': 0.126, 'seq_num_similar': 118, 'blast_evalue': 4.22907e-16, 'blast_score': 207.0, 'pdb_chain_id': 'A', 'seq_num_coverage': 63}), (('5c73', 'B'), {'seq_similar': 0.236, 'pdb_id': '5c73', 'seq_coverage': 0.126, 'seq_num_similar': 118, 'blast_evalue': 4.22907e-16, 'blast_score': 207.0, 'pdb_chain_id': 'B', 'seq_num_coverage': 63}), (('5c73', 'C'), {'seq_similar': 0.236, 'pdb_id': '5c73', 'seq_coverage': 0.126, 'seq_num_similar': 118, 'blast_evalue': 4.22907e-16, 'blast_score': 207.0, 'pdb_chain_id': 'C', 'seq_num_coverage': 63}), (('5c73', 'F'), {'seq_similar': 0.236, 'pdb_id': '5c73', 'seq_coverage': 0.126, 'seq_num_similar': 118, 'blast_evalue': 4.22907e-16, 'blast_score': 207.0, 'pdb_chain_id': 'F', 'seq_num_coverage': 63}), (('5c73', 'G'), {'seq_similar': 0.236, 'pdb_id': '5c73', 'seq_coverage': 0.126, 'seq_num_similar': 118, 'blast_evalue': 4.22907e-16, 'blast_score': 207.0, 'pdb_chain_id': 'G', 'seq_num_coverage': 63}), (('5c73', 'K'), {'seq_similar': 0.236, 'pdb_id': '5c73', 'seq_coverage': 0.126, 'seq_num_similar': 118, 'blast_evalue': 4.22907e-16, 'blast_score': 207.0, 'pdb_chain_id': 'K', 'seq_num_coverage': 63}), (('4p33', 'A'), {'seq_similar': 0.232, 'pdb_id': '4p33', 'seq_coverage': 0.132, 'seq_num_similar': 116, 'blast_evalue': 4.22907e-16, 'blast_score': 207.0, 'pdb_chain_id': 'A', 'seq_num_coverage': 66}), (('4p33', 'B'), {'seq_similar': 0.232, 'pdb_id': '4p33', 'seq_coverage': 0.132, 'seq_num_similar': 116, 'blast_evalue': 4.22907e-16, 'blast_score': 207.0, 'pdb_chain_id': 'B', 'seq_num_coverage': 66}), (('4rvc', 'A'), {'seq_similar': 0.2, 'pdb_id': '4rvc', 'seq_coverage': 0.122, 'seq_num_similar': 100, 'blast_evalue': 4.99709e-16, 'blast_score': 206.0, 'pdb_chain_id': 'A', 'seq_num_coverage': 61}), (('1l2t', 'A'), {'seq_similar': 0.228, 'pdb_id': '1l2t', 'seq_coverage': 0.114, 'seq_num_similar': 114, 'blast_evalue': 8.24396e-16, 'blast_score': 204.0, 'pdb_chain_id': 'A', 'seq_num_coverage': 57}), (('1l2t', 'B'), {'seq_similar': 0.228, 'pdb_id': '1l2t', 'seq_coverage': 0.114, 'seq_num_similar': 114, 'blast_evalue': 8.24396e-16, 'blast_score': 204.0, 'pdb_chain_id': 'B', 'seq_num_coverage': 57}), (('3d31', 'A'), {'seq_similar': 0.228, 'pdb_id': '3d31', 'seq_coverage': 0.126, 'seq_num_similar': 114, 'blast_evalue': 1.34875e-15, 'blast_score': 202.0, 'pdb_chain_id': 'A', 'seq_num_coverage': 63}), (('3d31', 'B'), {'seq_similar': 0.228, 'pdb_id': '3d31', 'seq_coverage': 0.126, 'seq_num_similar': 114, 'blast_evalue': 1.34875e-15, 'blast_score': 202.0, 'pdb_chain_id': 'B', 'seq_num_coverage': 63}), (('3tif', 'A'), {'seq_similar': 0.228, 'pdb_id': '3tif', 'seq_coverage': 0.114, 'seq_num_similar': 114, 'blast_evalue': 1.37144e-15, 'blast_score': 202.0, 'pdb_chain_id': 'A', 'seq_num_coverage': 57}), (('3tif', 'B'), {'seq_similar': 0.228, 'pdb_id': '3tif', 'seq_coverage': 0.114, 'seq_num_similar': 114, 'blast_evalue': 1.37144e-15, 'blast_score': 202.0, 'pdb_chain_id': 'B', 'seq_num_coverage': 57}), (('2pmk', 'A'), {'seq_similar': 0.226, 'pdb_id': '2pmk', 'seq_coverage': 0.126, 'seq_num_similar': 113, 'blast_evalue': 1.44185e-15, 'blast_score': 202.0, 'pdb_chain_id': 'A', 'seq_num_coverage': 63}), (('2ff7', 'A'), {'seq_similar': 0.226, 'pdb_id': '2ff7', 'seq_coverage': 0.126, 'seq_num_similar': 113, 'blast_evalue': 2.30062e-15, 'blast_score': 200.0, 'pdb_chain_id': 'A', 'seq_num_coverage': 63}), (('1mt0', 'A'), {'seq_similar': 0.226, 'pdb_id': '1mt0', 'seq_coverage': 0.126, 'seq_num_similar': 113, 'blast_evalue': 2.30062e-15, 'blast_score': 200.0, 'pdb_chain_id': 'A', 'seq_num_coverage': 63}), (('5jsz', 'A'), {'seq_similar': 0.24, 'pdb_id': '5jsz', 'seq_coverage': 0.126, 'seq_num_similar': 120, 'blast_evalue': 2.52176e-15, 'blast_score': 200.0, 'pdb_chain_id': 'A', 'seq_num_coverage': 63}), (('5jsz', 'E'), {'seq_similar': 0.24, 'pdb_id': '5jsz', 'seq_coverage': 0.126, 'seq_num_similar': 120, 'blast_evalue': 2.52176e-15, 'blast_score': 200.0, 'pdb_chain_id': 'E', 'seq_num_coverage': 63}), (('5d3m', 'A'), {'seq_similar': 0.24, 'pdb_id': '5d3m', 'seq_coverage': 0.126, 'seq_num_similar': 120, 'blast_evalue': 2.52176e-15, 'blast_score': 200.0, 'pdb_chain_id': 'A', 'seq_num_coverage': 63}), (('5d3m', 'E'), {'seq_similar': 0.24, 'pdb_id': '5d3m', 'seq_coverage': 0.126, 'seq_num_similar': 120, 'blast_evalue': 2.52176e-15, 'blast_score': 200.0, 'pdb_chain_id': 'E', 'seq_num_coverage': 63}), (('3b5j', 'A'), {'seq_similar': 0.224, 'pdb_id': '3b5j', 'seq_coverage': 0.126, 'seq_num_similar': 112, 'blast_evalue': 2.81068e-15, 'blast_score': 200.0, 'pdb_chain_id': 'A', 'seq_num_coverage': 63}), (('2fgk', 'A'), {'seq_similar': 0.226, 'pdb_id': '2fgk', 'seq_coverage': 0.124, 'seq_num_similar': 113, 'blast_evalue': 5.29918e-15, 'blast_score': 197.0, 'pdb_chain_id': 'A', 'seq_num_coverage': 62}), (('2fgk', 'B'), {'seq_similar': 0.226, 'pdb_id': '2fgk', 'seq_coverage': 0.124, 'seq_num_similar': 113, 'blast_evalue': 5.29918e-15, 'blast_score': 197.0, 'pdb_chain_id': 'B', 'seq_num_coverage': 62}), (('2fgk', 'C'), {'seq_similar': 0.226, 'pdb_id': '2fgk', 'seq_coverage': 0.124, 'seq_num_similar': 113, 'blast_evalue': 5.29918e-15, 'blast_score': 197.0, 'pdb_chain_id': 'C', 'seq_num_coverage': 62}), (('2fgk', 'D'), {'seq_similar': 0.226, 'pdb_id': '2fgk', 'seq_coverage': 0.124, 'seq_num_similar': 113, 'blast_evalue': 5.29918e-15, 'blast_score': 197.0, 'pdb_chain_id': 'D', 'seq_num_coverage': 62}), (('2ffb', 'A'), {'seq_similar': 0.226, 'pdb_id': '2ffb', 'seq_coverage': 0.124, 'seq_num_similar': 113, 'blast_evalue': 5.29918e-15, 'blast_score': 197.0, 'pdb_chain_id': 'A', 'seq_num_coverage': 62}), (('2onk', 'A'), {'seq_similar': 0.218, 'pdb_id': '2onk', 'seq_coverage': 0.128, 'seq_num_similar': 109, 'blast_evalue': 1.8371e-14, 'blast_score': 193.0, 'pdb_chain_id': 'A', 'seq_num_coverage': 64}), (('2onk', 'B'), {'seq_similar': 0.218, 'pdb_id': '2onk', 'seq_coverage': 0.128, 'seq_num_similar': 109, 'blast_evalue': 1.8371e-14, 'blast_score': 193.0, 'pdb_chain_id': 'B', 'seq_num_coverage': 64}), (('2onk', 'F'), {'seq_similar': 0.218, 'pdb_id': '2onk', 'seq_coverage': 0.128, 'seq_num_similar': 109, 'blast_evalue': 1.8371e-14, 'blast_score': 193.0, 'pdb_chain_id': 'F', 'seq_num_coverage': 64}), (('2onk', 'G'), {'seq_similar': 0.218, 'pdb_id': '2onk', 'seq_coverage': 0.128, 'seq_num_similar': 109, 'blast_evalue': 1.8371e-14, 'blast_score': 193.0, 'pdb_chain_id': 'G', 'seq_num_coverage': 64}), (('4rfs', 'A'), {'seq_similar': 0.218, 'pdb_id': '4rfs', 'seq_coverage': 0.126, 'seq_num_similar': 109, 'blast_evalue': 2.09947e-14, 'blast_score': 192.0, 'pdb_chain_id': 'A', 'seq_num_coverage': 63}), (('4hzu', 'B'), {'seq_similar': 0.218, 'pdb_id': '4hzu', 'seq_coverage': 0.126, 'seq_num_similar': 109, 'blast_evalue': 2.09947e-14, 'blast_score': 192.0, 'pdb_chain_id': 'B', 'seq_num_coverage': 63}), (('4huq', 'A'), {'seq_similar': 0.218, 'pdb_id': '4huq', 'seq_coverage': 0.126, 'seq_num_similar': 109, 'blast_evalue': 2.09947e-14, 'blast_score': 192.0, 'pdb_chain_id': 'A', 'seq_num_coverage': 63}), (('2nq2', 'C'), {'seq_similar': 0.21, 'pdb_id': '2nq2', 'seq_coverage': 0.112, 'seq_num_similar': 105, 'blast_evalue': 2.52249e-14, 'blast_score': 191.0, 'pdb_chain_id': 'C', 'seq_num_coverage': 56}), (('2nq2', 'D'), {'seq_similar': 0.21, 'pdb_id': '2nq2', 'seq_coverage': 0.112, 'seq_num_similar': 105, 'blast_evalue': 2.52249e-14, 'blast_score': 191.0, 'pdb_chain_id': 'D', 'seq_num_coverage': 56}), (('4xtc', 'S'), {'seq_similar': 0.272, 'pdb_id': '4xtc', 'seq_coverage': 0.148, 'seq_num_similar': 136, 'blast_evalue': 2.88276e-14, 'blast_score': 191.0, 'pdb_chain_id': 'S', 'seq_num_coverage': 74}), (('4xtc', 'T'), {'seq_similar': 0.272, 'pdb_id': '4xtc', 'seq_coverage': 0.148, 'seq_num_similar': 136, 'blast_evalue': 2.88276e-14, 'blast_score': 191.0, 'pdb_chain_id': 'T', 'seq_num_coverage': 74}), (('4xig', 'S'), {'seq_similar': 0.272, 'pdb_id': '4xig', 'seq_coverage': 0.148, 'seq_num_similar': 136, 'blast_evalue': 2.88276e-14, 'blast_score': 191.0, 'pdb_chain_id': 'S', 'seq_num_coverage': 74}), (('4xig', 'T'), {'seq_similar': 0.272, 'pdb_id': '4xig', 'seq_coverage': 0.148, 'seq_num_similar': 136, 'blast_evalue': 2.88276e-14, 'blast_score': 191.0, 'pdb_chain_id': 'T', 'seq_num_coverage': 74}), (('4tqv', 'C'), {'seq_similar': 0.272, 'pdb_id': '4tqv', 'seq_coverage': 0.148, 'seq_num_similar': 136, 'blast_evalue': 2.88276e-14, 'blast_score': 191.0, 'pdb_chain_id': 'C', 'seq_num_coverage': 74}), (('4tqv', 'D'), {'seq_similar': 0.272, 'pdb_id': '4tqv', 'seq_coverage': 0.148, 'seq_num_similar': 136, 'blast_evalue': 2.88276e-14, 'blast_score': 191.0, 'pdb_chain_id': 'D', 'seq_num_coverage': 74}), (('4tqv', 'G'), {'seq_similar': 0.272, 'pdb_id': '4tqv', 'seq_coverage': 0.148, 'seq_num_similar': 136, 'blast_evalue': 2.88276e-14, 'blast_score': 191.0, 'pdb_chain_id': 'G', 'seq_num_coverage': 74}), (('4tqv', 'H'), {'seq_similar': 0.272, 'pdb_id': '4tqv', 'seq_coverage': 0.148, 'seq_num_similar': 136, 'blast_evalue': 2.88276e-14, 'blast_score': 191.0, 'pdb_chain_id': 'H', 'seq_num_coverage': 74}), (('4tqv', 'K'), {'seq_similar': 0.272, 'pdb_id': '4tqv', 'seq_coverage': 0.148, 'seq_num_similar': 136, 'blast_evalue': 2.88276e-14, 'blast_score': 191.0, 'pdb_chain_id': 'K', 'seq_num_coverage': 74}), (('4tqv', 'L'), {'seq_similar': 0.272, 'pdb_id': '4tqv', 'seq_coverage': 0.148, 'seq_num_similar': 136, 'blast_evalue': 2.88276e-14, 'blast_score': 191.0, 'pdb_chain_id': 'L', 'seq_num_coverage': 74}), (('4tqv', 'O'), {'seq_similar': 0.272, 'pdb_id': '4tqv', 'seq_coverage': 0.148, 'seq_num_similar': 136, 'blast_evalue': 2.88276e-14, 'blast_score': 191.0, 'pdb_chain_id': 'O', 'seq_num_coverage': 74}), (('4tqv', 'P'), {'seq_similar': 0.272, 'pdb_id': '4tqv', 'seq_coverage': 0.148, 'seq_num_similar': 136, 'blast_evalue': 2.88276e-14, 'blast_score': 191.0, 'pdb_chain_id': 'P', 'seq_num_coverage': 74}), (('4tqu', 'S'), {'seq_similar': 0.272, 'pdb_id': '4tqu', 'seq_coverage': 0.148, 'seq_num_similar': 136, 'blast_evalue': 2.88276e-14, 'blast_score': 191.0, 'pdb_chain_id': 'S', 'seq_num_coverage': 74}), (('4tqu', 'T'), {'seq_similar': 0.272, 'pdb_id': '4tqu', 'seq_coverage': 0.148, 'seq_num_similar': 136, 'blast_evalue': 2.88276e-14, 'blast_score': 191.0, 'pdb_chain_id': 'T', 'seq_num_coverage': 74}), (('2fgj', 'A'), {'seq_similar': 0.224, 'pdb_id': '2fgj', 'seq_coverage': 0.124, 'seq_num_similar': 112, 'blast_evalue': 3.08175e-14, 'blast_score': 191.0, 'pdb_chain_id': 'A', 'seq_num_coverage': 62}), (('2fgj', 'B'), {'seq_similar': 0.224, 'pdb_id': '2fgj', 'seq_coverage': 0.124, 'seq_num_similar': 112, 'blast_evalue': 3.08175e-14, 'blast_score': 191.0, 'pdb_chain_id': 'B', 'seq_num_coverage': 62}), (('2fgj', 'C'), {'seq_similar': 0.224, 'pdb_id': '2fgj', 'seq_coverage': 0.124, 'seq_num_similar': 112, 'blast_evalue': 3.08175e-14, 'blast_score': 191.0, 'pdb_chain_id': 'C', 'seq_num_coverage': 62}), (('2fgj', 'D'), {'seq_similar': 0.224, 'pdb_id': '2fgj', 'seq_coverage': 0.124, 'seq_num_similar': 112, 'blast_evalue': 3.08175e-14, 'blast_score': 191.0, 'pdb_chain_id': 'D', 'seq_num_coverage': 62}), (('2ffa', 'A'), {'seq_similar': 0.224, 'pdb_id': '2ffa', 'seq_coverage': 0.124, 'seq_num_similar': 112, 'blast_evalue': 3.08175e-14, 'blast_score': 191.0, 'pdb_chain_id': 'A', 'seq_num_coverage': 62}), (('1xef', 'A'), {'seq_similar': 0.224, 'pdb_id': '1xef', 'seq_coverage': 0.124, 'seq_num_similar': 112, 'blast_evalue': 3.08175e-14, 'blast_score': 191.0, 'pdb_chain_id': 'A', 'seq_num_coverage': 62}), (('1xef', 'B'), {'seq_similar': 0.224, 'pdb_id': '1xef', 'seq_coverage': 0.124, 'seq_num_similar': 112, 'blast_evalue': 3.08175e-14, 'blast_score': 191.0, 'pdb_chain_id': 'B', 'seq_num_coverage': 62}), (('1xef', 'C'), {'seq_similar': 0.224, 'pdb_id': '1xef', 'seq_coverage': 0.124, 'seq_num_similar': 112, 'blast_evalue': 3.08175e-14, 'blast_score': 191.0, 'pdb_chain_id': 'C', 'seq_num_coverage': 62}), (('1xef', 'D'), {'seq_similar': 0.224, 'pdb_id': '1xef', 'seq_coverage': 0.124, 'seq_num_similar': 112, 'blast_evalue': 3.08175e-14, 'blast_score': 191.0, 'pdb_chain_id': 'D', 'seq_num_coverage': 62}), (('3g61', 'A'), {'seq_similar': 0.224, 'pdb_id': '3g61', 'seq_coverage': 0.118, 'seq_num_similar': 112, 'blast_evalue': 4.52361e-14, 'blast_score': 189.0, 'pdb_chain_id': 'A', 'seq_num_coverage': 59}), (('3g61', 'B'), {'seq_similar': 0.224, 'pdb_id': '3g61', 'seq_coverage': 0.118, 'seq_num_similar': 112, 'blast_evalue': 4.52361e-14, 'blast_score': 189.0, 'pdb_chain_id': 'B', 'seq_num_coverage': 59}), (('3g60', 'A'), {'seq_similar': 0.224, 'pdb_id': '3g60', 'seq_coverage': 0.118, 'seq_num_similar': 112, 'blast_evalue': 4.52361e-14, 'blast_score': 189.0, 'pdb_chain_id': 'A', 'seq_num_coverage': 59}), (('3g60', 'B'), {'seq_similar': 0.224, 'pdb_id': '3g60', 'seq_coverage': 0.118, 'seq_num_similar': 112, 'blast_evalue': 4.52361e-14, 'blast_score': 189.0, 'pdb_chain_id': 'B', 'seq_num_coverage': 59}), (('4ksd', 'A'), {'seq_similar': 0.224, 'pdb_id': '4ksd', 'seq_coverage': 0.118, 'seq_num_similar': 112, 'blast_evalue': 4.56151e-14, 'blast_score': 189.0, 'pdb_chain_id': 'A', 'seq_num_coverage': 59}), (('4ksc', 'A'), {'seq_similar': 0.224, 'pdb_id': '4ksc', 'seq_coverage': 0.118, 'seq_num_similar': 112, 'blast_evalue': 4.56151e-14, 'blast_score': 189.0, 'pdb_chain_id': 'A', 'seq_num_coverage': 59}), (('4ksb', 'A'), {'seq_similar': 0.224, 'pdb_id': '4ksb', 'seq_coverage': 0.118, 'seq_num_similar': 112, 'blast_evalue': 4.56151e-14, 'blast_score': 189.0, 'pdb_chain_id': 'A', 'seq_num_coverage': 59}), (('3g5u', 'A'), {'seq_similar': 0.224, 'pdb_id': '3g5u', 'seq_coverage': 0.118, 'seq_num_similar': 112, 'blast_evalue': 4.59973e-14, 'blast_score': 189.0, 'pdb_chain_id': 'A', 'seq_num_coverage': 59}), (('3g5u', 'B'), {'seq_similar': 0.224, 'pdb_id': '3g5u', 'seq_coverage': 0.118, 'seq_num_similar': 112, 'blast_evalue': 4.59973e-14, 'blast_score': 189.0, 'pdb_chain_id': 'B', 'seq_num_coverage': 59}), (('4lsg', 'A'), {'seq_similar': 0.224, 'pdb_id': '4lsg', 'seq_coverage': 0.118, 'seq_num_similar': 112, 'blast_evalue': 4.63827e-14, 'blast_score': 189.0, 'pdb_chain_id': 'A', 'seq_num_coverage': 59}), (('4lsg', 'B'), {'seq_similar': 0.224, 'pdb_id': '4lsg', 'seq_coverage': 0.118, 'seq_num_similar': 112, 'blast_evalue': 4.63827e-14, 'blast_score': 189.0, 'pdb_chain_id': 'B', 'seq_num_coverage': 59}), (('4m2t', 'A'), {'seq_similar': 0.224, 'pdb_id': '4m2t', 'seq_coverage': 0.118, 'seq_num_similar': 112, 'blast_evalue': 4.95844e-14, 'blast_score': 189.0, 'pdb_chain_id': 'A', 'seq_num_coverage': 59}), (('4m2t', 'B'), {'seq_similar': 0.224, 'pdb_id': '4m2t', 'seq_coverage': 0.118, 'seq_num_similar': 112, 'blast_evalue': 4.95844e-14, 'blast_score': 189.0, 'pdb_chain_id': 'B', 'seq_num_coverage': 59}), (('4m2s', 'A'), {'seq_similar': 0.224, 'pdb_id': '4m2s', 'seq_coverage': 0.118, 'seq_num_similar': 112, 'blast_evalue': 4.95844e-14, 'blast_score': 189.0, 'pdb_chain_id': 'A', 'seq_num_coverage': 59}), (('4m2s', 'B'), {'seq_similar': 0.224, 'pdb_id': '4m2s', 'seq_coverage': 0.118, 'seq_num_similar': 112, 'blast_evalue': 4.95844e-14, 'blast_score': 189.0, 'pdb_chain_id': 'B', 'seq_num_coverage': 59}), (('4xwk', 'A'), {'seq_similar': 0.224, 'pdb_id': '4xwk', 'seq_coverage': 0.118, 'seq_num_similar': 112, 'blast_evalue': 5.08413e-14, 'blast_score': 189.0, 'pdb_chain_id': 'A', 'seq_num_coverage': 59}), (('4q9l', 'A'), {'seq_similar': 0.224, 'pdb_id': '4q9l', 'seq_coverage': 0.118, 'seq_num_similar': 112, 'blast_evalue': 5.08413e-14, 'blast_score': 189.0, 'pdb_chain_id': 'A', 'seq_num_coverage': 59}), (('4q9k', 'A'), {'seq_similar': 0.224, 'pdb_id': '4q9k', 'seq_coverage': 0.118, 'seq_num_similar': 112, 'blast_evalue': 5.08413e-14, 'blast_score': 189.0, 'pdb_chain_id': 'A', 'seq_num_coverage': 59}), (('4q9j', 'A'), {'seq_similar': 0.224, 'pdb_id': '4q9j', 'seq_coverage': 0.118, 'seq_num_similar': 112, 'blast_evalue': 5.08413e-14, 'blast_score': 189.0, 'pdb_chain_id': 'A', 'seq_num_coverage': 59}), (('4q9i', 'A'), {'seq_similar': 0.224, 'pdb_id': '4q9i', 'seq_coverage': 0.118, 'seq_num_similar': 112, 'blast_evalue': 5.08413e-14, 'blast_score': 189.0, 'pdb_chain_id': 'A', 'seq_num_coverage': 59}), (('4q9h', 'A'), {'seq_similar': 0.224, 'pdb_id': '4q9h', 'seq_coverage': 0.118, 'seq_num_similar': 112, 'blast_evalue': 5.08413e-14, 'blast_score': 189.0, 'pdb_chain_id': 'A', 'seq_num_coverage': 59}), (('4m1m', 'A'), {'seq_similar': 0.224, 'pdb_id': '4m1m', 'seq_coverage': 0.118, 'seq_num_similar': 112, 'blast_evalue': 5.16968e-14, 'blast_score': 189.0, 'pdb_chain_id': 'A', 'seq_num_coverage': 59}), (('4m1m', 'B'), {'seq_similar': 0.224, 'pdb_id': '4m1m', 'seq_coverage': 0.118, 'seq_num_similar': 112, 'blast_evalue': 5.16968e-14, 'blast_score': 189.0, 'pdb_chain_id': 'B', 'seq_num_coverage': 59}), (('3b5x', 'A'), {'seq_similar': 0.212, 'pdb_id': '3b5x', 'seq_coverage': 0.124, 'seq_num_similar': 106, 'blast_evalue': 1.2415e-13, 'blast_score': 185.0, 'pdb_chain_id': 'A', 'seq_num_coverage': 62}), (('3b5x', 'B'), {'seq_similar': 0.212, 'pdb_id': '3b5x', 'seq_coverage': 0.124, 'seq_num_similar': 106, 'blast_evalue': 1.2415e-13, 'blast_score': 185.0, 'pdb_chain_id': 'B', 'seq_num_coverage': 62}), (('1q1b', 'A'), {'seq_similar': 0.22, 'pdb_id': '1q1b', 'seq_coverage': 0.106, 'seq_num_similar': 110, 'blast_evalue': 4.30397e-13, 'blast_score': 181.0, 'pdb_chain_id': 'A', 'seq_num_coverage': 53}), (('1q1b', 'B'), {'seq_similar': 0.22, 'pdb_id': '1q1b', 'seq_coverage': 0.106, 'seq_num_similar': 110, 'blast_evalue': 4.30397e-13, 'blast_score': 181.0, 'pdb_chain_id': 'B', 'seq_num_coverage': 53}), (('1q1b', 'C'), {'seq_similar': 0.22, 'pdb_id': '1q1b', 'seq_coverage': 0.106, 'seq_num_similar': 110, 'blast_evalue': 4.30397e-13, 'blast_score': 181.0, 'pdb_chain_id': 'C', 'seq_num_coverage': 53}), (('1q1b', 'D'), {'seq_similar': 0.22, 'pdb_id': '1q1b', 'seq_coverage': 0.106, 'seq_num_similar': 110, 'blast_evalue': 4.30397e-13, 'blast_score': 181.0, 'pdb_chain_id': 'D', 'seq_num_coverage': 53}), (('4ki0', 'A'), {'seq_similar': 0.22, 'pdb_id': '4ki0', 'seq_coverage': 0.106, 'seq_num_similar': 110, 'blast_evalue': 4.34003e-13, 'blast_score': 181.0, 'pdb_chain_id': 'A', 'seq_num_coverage': 53}), (('4ki0', 'B'), {'seq_similar': 0.22, 'pdb_id': '4ki0', 'seq_coverage': 0.106, 'seq_num_similar': 110, 'blast_evalue': 4.34003e-13, 'blast_score': 181.0, 'pdb_chain_id': 'B', 'seq_num_coverage': 53}), (('4khz', 'A'), {'seq_similar': 0.22, 'pdb_id': '4khz', 'seq_coverage': 0.106, 'seq_num_similar': 110, 'blast_evalue': 4.34003e-13, 'blast_score': 181.0, 'pdb_chain_id': 'A', 'seq_num_coverage': 53}), (('4khz', 'B'), {'seq_similar': 0.22, 'pdb_id': '4khz', 'seq_coverage': 0.106, 'seq_num_similar': 110, 'blast_evalue': 4.34003e-13, 'blast_score': 181.0, 'pdb_chain_id': 'B', 'seq_num_coverage': 53}), (('4jbw', 'A'), {'seq_similar': 0.22, 'pdb_id': '4jbw', 'seq_coverage': 0.106, 'seq_num_similar': 110, 'blast_evalue': 4.34003e-13, 'blast_score': 181.0, 'pdb_chain_id': 'A', 'seq_num_coverage': 53}), (('4jbw', 'B'), {'seq_similar': 0.22, 'pdb_id': '4jbw', 'seq_coverage': 0.106, 'seq_num_similar': 110, 'blast_evalue': 4.34003e-13, 'blast_score': 181.0, 'pdb_chain_id': 'B', 'seq_num_coverage': 53}), (('4jbw', 'C'), {'seq_similar': 0.22, 'pdb_id': '4jbw', 'seq_coverage': 0.106, 'seq_num_similar': 110, 'blast_evalue': 4.34003e-13, 'blast_score': 181.0, 'pdb_chain_id': 'C', 'seq_num_coverage': 53}), (('4jbw', 'D'), {'seq_similar': 0.22, 'pdb_id': '4jbw', 'seq_coverage': 0.106, 'seq_num_similar': 110, 'blast_evalue': 4.34003e-13, 'blast_score': 181.0, 'pdb_chain_id': 'D', 'seq_num_coverage': 53}), (('3rlf', 'A'), {'seq_similar': 0.22, 'pdb_id': '3rlf', 'seq_coverage': 0.106, 'seq_num_similar': 110, 'blast_evalue': 4.34003e-13, 'blast_score': 181.0, 'pdb_chain_id': 'A', 'seq_num_coverage': 53}), (('3rlf', 'B'), {'seq_similar': 0.22, 'pdb_id': '3rlf', 'seq_coverage': 0.106, 'seq_num_similar': 110, 'blast_evalue': 4.34003e-13, 'blast_score': 181.0, 'pdb_chain_id': 'B', 'seq_num_coverage': 53}), (('3pv0', 'A'), {'seq_similar': 0.22, 'pdb_id': '3pv0', 'seq_coverage': 0.106, 'seq_num_similar': 110, 'blast_evalue': 4.34003e-13, 'blast_score': 181.0, 'pdb_chain_id': 'A', 'seq_num_coverage': 53}), (('3pv0', 'B'), {'seq_similar': 0.22, 'pdb_id': '3pv0', 'seq_coverage': 0.106, 'seq_num_similar': 110, 'blast_evalue': 4.34003e-13, 'blast_score': 181.0, 'pdb_chain_id': 'B', 'seq_num_coverage': 53}), (('3puz', 'A'), {'seq_similar': 0.22, 'pdb_id': '3puz', 'seq_coverage': 0.106, 'seq_num_similar': 110, 'blast_evalue': 4.34003e-13, 'blast_score': 181.0, 'pdb_chain_id': 'A', 'seq_num_coverage': 53}), (('3puz', 'B'), {'seq_similar': 0.22, 'pdb_id': '3puz', 'seq_coverage': 0.106, 'seq_num_similar': 110, 'blast_evalue': 4.34003e-13, 'blast_score': 181.0, 'pdb_chain_id': 'B', 'seq_num_coverage': 53}), (('3puy', 'A'), {'seq_similar': 0.22, 'pdb_id': '3puy', 'seq_coverage': 0.106, 'seq_num_similar': 110, 'blast_evalue': 4.34003e-13, 'blast_score': 181.0, 'pdb_chain_id': 'A', 'seq_num_coverage': 53}), (('3puy', 'B'), {'seq_similar': 0.22, 'pdb_id': '3puy', 'seq_coverage': 0.106, 'seq_num_similar': 110, 'blast_evalue': 4.34003e-13, 'blast_score': 181.0, 'pdb_chain_id': 'B', 'seq_num_coverage': 53}), (('3pux', 'A'), {'seq_similar': 0.22, 'pdb_id': '3pux', 'seq_coverage': 0.106, 'seq_num_similar': 110, 'blast_evalue': 4.34003e-13, 'blast_score': 181.0, 'pdb_chain_id': 'A', 'seq_num_coverage': 53}), (('3pux', 'B'), {'seq_similar': 0.22, 'pdb_id': '3pux', 'seq_coverage': 0.106, 'seq_num_similar': 110, 'blast_evalue': 4.34003e-13, 'blast_score': 181.0, 'pdb_chain_id': 'B', 'seq_num_coverage': 53}), (('3puw', 'A'), {'seq_similar': 0.22, 'pdb_id': '3puw', 'seq_coverage': 0.106, 'seq_num_similar': 110, 'blast_evalue': 4.34003e-13, 'blast_score': 181.0, 'pdb_chain_id': 'A', 'seq_num_coverage': 53}), (('3puw', 'B'), {'seq_similar': 0.22, 'pdb_id': '3puw', 'seq_coverage': 0.106, 'seq_num_similar': 110, 'blast_evalue': 4.34003e-13, 'blast_score': 181.0, 'pdb_chain_id': 'B', 'seq_num_coverage': 53}), (('3puv', 'A'), {'seq_similar': 0.22, 'pdb_id': '3puv', 'seq_coverage': 0.106, 'seq_num_similar': 110, 'blast_evalue': 4.34003e-13, 'blast_score': 181.0, 'pdb_chain_id': 'A', 'seq_num_coverage': 53}), (('3puv', 'B'), {'seq_similar': 0.22, 'pdb_id': '3puv', 'seq_coverage': 0.106, 'seq_num_similar': 110, 'blast_evalue': 4.34003e-13, 'blast_score': 181.0, 'pdb_chain_id': 'B', 'seq_num_coverage': 53}), (('3fh6', 'A'), {'seq_similar': 0.22, 'pdb_id': '3fh6', 'seq_coverage': 0.106, 'seq_num_similar': 110, 'blast_evalue': 4.34003e-13, 'blast_score': 181.0, 'pdb_chain_id': 'A', 'seq_num_coverage': 53}), (('3fh6', 'B'), {'seq_similar': 0.22, 'pdb_id': '3fh6', 'seq_coverage': 0.106, 'seq_num_similar': 110, 'blast_evalue': 4.34003e-13, 'blast_score': 181.0, 'pdb_chain_id': 'B', 'seq_num_coverage': 53}), (('3fh6', 'C'), {'seq_similar': 0.22, 'pdb_id': '3fh6', 'seq_coverage': 0.106, 'seq_num_similar': 110, 'blast_evalue': 4.34003e-13, 'blast_score': 181.0, 'pdb_chain_id': 'C', 'seq_num_coverage': 53}), (('3fh6', 'D'), {'seq_similar': 0.22, 'pdb_id': '3fh6', 'seq_coverage': 0.106, 'seq_num_similar': 110, 'blast_evalue': 4.34003e-13, 'blast_score': 181.0, 'pdb_chain_id': 'D', 'seq_num_coverage': 53}), (('2awo', 'A'), {'seq_similar': 0.22, 'pdb_id': '2awo', 'seq_coverage': 0.106, 'seq_num_similar': 110, 'blast_evalue': 4.34003e-13, 'blast_score': 181.0, 'pdb_chain_id': 'A', 'seq_num_coverage': 53}), (('2awo', 'B'), {'seq_similar': 0.22, 'pdb_id': '2awo', 'seq_coverage': 0.106, 'seq_num_similar': 110, 'blast_evalue': 4.34003e-13, 'blast_score': 181.0, 'pdb_chain_id': 'B', 'seq_num_coverage': 53}), (('2awo', 'C'), {'seq_similar': 0.22, 'pdb_id': '2awo', 'seq_coverage': 0.106, 'seq_num_similar': 110, 'blast_evalue': 4.34003e-13, 'blast_score': 181.0, 'pdb_chain_id': 'C', 'seq_num_coverage': 53}), (('2awo', 'D'), {'seq_similar': 0.22, 'pdb_id': '2awo', 'seq_coverage': 0.106, 'seq_num_similar': 110, 'blast_evalue': 4.34003e-13, 'blast_score': 181.0, 'pdb_chain_id': 'D', 'seq_num_coverage': 53}), (('2awn', 'A'), {'seq_similar': 0.22, 'pdb_id': '2awn', 'seq_coverage': 0.106, 'seq_num_similar': 110, 'blast_evalue': 4.34003e-13, 'blast_score': 181.0, 'pdb_chain_id': 'A', 'seq_num_coverage': 53}), (('2awn', 'B'), {'seq_similar': 0.22, 'pdb_id': '2awn', 'seq_coverage': 0.106, 'seq_num_similar': 110, 'blast_evalue': 4.34003e-13, 'blast_score': 181.0, 'pdb_chain_id': 'B', 'seq_num_coverage': 53}), (('2awn', 'C'), {'seq_similar': 0.22, 'pdb_id': '2awn', 'seq_coverage': 0.106, 'seq_num_similar': 110, 'blast_evalue': 4.34003e-13, 'blast_score': 181.0, 'pdb_chain_id': 'C', 'seq_num_coverage': 53}), (('2awn', 'D'), {'seq_similar': 0.22, 'pdb_id': '2awn', 'seq_coverage': 0.106, 'seq_num_similar': 110, 'blast_evalue': 4.34003e-13, 'blast_score': 181.0, 'pdb_chain_id': 'D', 'seq_num_coverage': 53}), (('1q1e', 'A'), {'seq_similar': 0.22, 'pdb_id': '1q1e', 'seq_coverage': 0.106, 'seq_num_similar': 110, 'blast_evalue': 4.34003e-13, 'blast_score': 181.0, 'pdb_chain_id': 'A', 'seq_num_coverage': 53}), (('1q1e', 'B'), {'seq_similar': 0.22, 'pdb_id': '1q1e', 'seq_coverage': 0.106, 'seq_num_similar': 110, 'blast_evalue': 4.34003e-13, 'blast_score': 181.0, 'pdb_chain_id': 'B', 'seq_num_coverage': 53}), (('1q12', 'A'), {'seq_similar': 0.22, 'pdb_id': '1q12', 'seq_coverage': 0.106, 'seq_num_similar': 110, 'blast_evalue': 4.34003e-13, 'blast_score': 181.0, 'pdb_chain_id': 'A', 'seq_num_coverage': 53}), (('1q12', 'B'), {'seq_similar': 0.22, 'pdb_id': '1q12', 'seq_coverage': 0.106, 'seq_num_similar': 110, 'blast_evalue': 4.34003e-13, 'blast_score': 181.0, 'pdb_chain_id': 'B', 'seq_num_coverage': 53}), (('1q12', 'C'), {'seq_similar': 0.22, 'pdb_id': '1q12', 'seq_coverage': 0.106, 'seq_num_similar': 110, 'blast_evalue': 4.34003e-13, 'blast_score': 181.0, 'pdb_chain_id': 'C', 'seq_num_coverage': 53}), (('1q12', 'D'), {'seq_similar': 0.22, 'pdb_id': '1q12', 'seq_coverage': 0.106, 'seq_num_similar': 110, 'blast_evalue': 4.34003e-13, 'blast_score': 181.0, 'pdb_chain_id': 'D', 'seq_num_coverage': 53}), (('1vpl', 'A'), {'seq_similar': 0.202, 'pdb_id': '1vpl', 'seq_coverage': 0.102, 'seq_num_similar': 101, 'blast_evalue': 4.3764e-13, 'blast_score': 181.0, 'pdb_chain_id': 'A', 'seq_num_coverage': 51}), (('3b60', 'A'), {'seq_similar': 0.212, 'pdb_id': '3b60', 'seq_coverage': 0.122, 'seq_num_similar': 106, 'blast_evalue': 7.65422e-13, 'blast_score': 179.0, 'pdb_chain_id': 'A', 'seq_num_coverage': 61}), (('3b60', 'B'), {'seq_similar': 0.212, 'pdb_id': '3b60', 'seq_coverage': 0.122, 'seq_num_similar': 106, 'blast_evalue': 7.65422e-13, 'blast_score': 179.0, 'pdb_chain_id': 'B', 'seq_num_coverage': 61}), (('3b60', 'C'), {'seq_similar': 0.212, 'pdb_id': '3b60', 'seq_coverage': 0.122, 'seq_num_similar': 106, 'blast_evalue': 7.65422e-13, 'blast_score': 179.0, 'pdb_chain_id': 'C', 'seq_num_coverage': 61}), (('3b60', 'D'), {'seq_similar': 0.212, 'pdb_id': '3b60', 'seq_coverage': 0.122, 'seq_num_similar': 106, 'blast_evalue': 7.65422e-13, 'blast_score': 179.0, 'pdb_chain_id': 'D', 'seq_num_coverage': 61}), (('3b5z', 'A'), {'seq_similar': 0.212, 'pdb_id': '3b5z', 'seq_coverage': 0.122, 'seq_num_similar': 106, 'blast_evalue': 7.65422e-13, 'blast_score': 179.0, 'pdb_chain_id': 'A', 'seq_num_coverage': 61}), (('3b5z', 'B'), {'seq_similar': 0.212, 'pdb_id': '3b5z', 'seq_coverage': 0.122, 'seq_num_similar': 106, 'blast_evalue': 7.65422e-13, 'blast_score': 179.0, 'pdb_chain_id': 'B', 'seq_num_coverage': 61}), (('3b5z', 'C'), {'seq_similar': 0.212, 'pdb_id': '3b5z', 'seq_coverage': 0.122, 'seq_num_similar': 106, 'blast_evalue': 7.65422e-13, 'blast_score': 179.0, 'pdb_chain_id': 'C', 'seq_num_coverage': 61}), (('3b5z', 'D'), {'seq_similar': 0.212, 'pdb_id': '3b5z', 'seq_coverage': 0.122, 'seq_num_similar': 106, 'blast_evalue': 7.65422e-13, 'blast_score': 179.0, 'pdb_chain_id': 'D', 'seq_num_coverage': 61}), (('3b5y', 'A'), {'seq_similar': 0.212, 'pdb_id': '3b5y', 'seq_coverage': 0.122, 'seq_num_similar': 106, 'blast_evalue': 7.65422e-13, 'blast_score': 179.0, 'pdb_chain_id': 'A', 'seq_num_coverage': 61}), (('3b5y', 'B'), {'seq_similar': 0.212, 'pdb_id': '3b5y', 'seq_coverage': 0.122, 'seq_num_similar': 106, 'blast_evalue': 7.65422e-13, 'blast_score': 179.0, 'pdb_chain_id': 'B', 'seq_num_coverage': 61}), (('3b5y', 'C'), {'seq_similar': 0.212, 'pdb_id': '3b5y', 'seq_coverage': 0.122, 'seq_num_similar': 106, 'blast_evalue': 7.65422e-13, 'blast_score': 179.0, 'pdb_chain_id': 'C', 'seq_num_coverage': 61}), (('3b5y', 'D'), {'seq_similar': 0.212, 'pdb_id': '3b5y', 'seq_coverage': 0.122, 'seq_num_similar': 106, 'blast_evalue': 7.65422e-13, 'blast_score': 179.0, 'pdb_chain_id': 'D', 'seq_num_coverage': 61}), (('4ry2', 'A'), {'seq_similar': 0.21, 'pdb_id': '4ry2', 'seq_coverage': 0.12, 'seq_num_similar': 105, 'blast_evalue': 8.53116e-13, 'blast_score': 178.0, 'pdb_chain_id': 'A', 'seq_num_coverage': 60}), (('4ry2', 'B'), {'seq_similar': 0.21, 'pdb_id': '4ry2', 'seq_coverage': 0.12, 'seq_num_similar': 105, 'blast_evalue': 8.53116e-13, 'blast_score': 178.0, 'pdb_chain_id': 'B', 'seq_num_coverage': 60}), (('2r6g', 'A'), {'seq_similar': 0.22, 'pdb_id': '2r6g', 'seq_coverage': 0.104, 'seq_num_similar': 110, 'blast_evalue': 9.99672e-13, 'blast_score': 178.0, 'pdb_chain_id': 'A', 'seq_num_coverage': 52}), (('2r6g', 'B'), {'seq_similar': 0.22, 'pdb_id': '2r6g', 'seq_coverage': 0.104, 'seq_num_similar': 110, 'blast_evalue': 9.99672e-13, 'blast_score': 178.0, 'pdb_chain_id': 'B', 'seq_num_coverage': 52}), (('1b0u', 'A'), {'seq_similar': 0.222, 'pdb_id': '1b0u', 'seq_coverage': 0.126, 'seq_num_similar': 111, 'blast_evalue': 1.04226e-12, 'blast_score': 177.0, 'pdb_chain_id': 'A', 'seq_num_coverage': 63}), (('4s0f', 'A'), {'seq_similar': 0.21, 'pdb_id': '4s0f', 'seq_coverage': 0.118, 'seq_num_similar': 105, 'blast_evalue': 2.03174e-12, 'blast_score': 175.0, 'pdb_chain_id': 'A', 'seq_num_coverage': 59}), (('4s0f', 'B'), {'seq_similar': 0.21, 'pdb_id': '4s0f', 'seq_coverage': 0.118, 'seq_num_similar': 105, 'blast_evalue': 2.03174e-12, 'blast_score': 175.0, 'pdb_chain_id': 'B', 'seq_num_coverage': 59}), (('3b5w', 'A'), {'seq_similar': 0.214, 'pdb_id': '3b5w', 'seq_coverage': 0.124, 'seq_num_similar': 107, 'blast_evalue': 2.30262e-12, 'blast_score': 175.0, 'pdb_chain_id': 'A', 'seq_num_coverage': 62}), (('3b5w', 'B'), {'seq_similar': 0.214, 'pdb_id': '3b5w', 'seq_coverage': 0.124, 'seq_num_similar': 107, 'blast_evalue': 2.30262e-12, 'blast_score': 175.0, 'pdb_chain_id': 'B', 'seq_num_coverage': 62}), (('3b5w', 'C'), {'seq_similar': 0.214, 'pdb_id': '3b5w', 'seq_coverage': 0.124, 'seq_num_similar': 107, 'blast_evalue': 2.30262e-12, 'blast_score': 175.0, 'pdb_chain_id': 'C', 'seq_num_coverage': 62}), (('3b5w', 'D'), {'seq_similar': 0.214, 'pdb_id': '3b5w', 'seq_coverage': 0.124, 'seq_num_similar': 107, 'blast_evalue': 2.30262e-12, 'blast_score': 175.0, 'pdb_chain_id': 'D', 'seq_num_coverage': 62}), (('3b5w', 'E'), {'seq_similar': 0.214, 'pdb_id': '3b5w', 'seq_coverage': 0.124, 'seq_num_similar': 107, 'blast_evalue': 2.30262e-12, 'blast_score': 175.0, 'pdb_chain_id': 'E', 'seq_num_coverage': 62}), (('3b5w', 'F'), {'seq_similar': 0.214, 'pdb_id': '3b5w', 'seq_coverage': 0.124, 'seq_num_similar': 107, 'blast_evalue': 2.30262e-12, 'blast_score': 175.0, 'pdb_chain_id': 'F', 'seq_num_coverage': 62}), (('3b5w', 'G'), {'seq_similar': 0.214, 'pdb_id': '3b5w', 'seq_coverage': 0.124, 'seq_num_similar': 107, 'blast_evalue': 2.30262e-12, 'blast_score': 175.0, 'pdb_chain_id': 'G', 'seq_num_coverage': 62}), (('3b5w', 'H'), {'seq_similar': 0.214, 'pdb_id': '3b5w', 'seq_coverage': 0.124, 'seq_num_similar': 107, 'blast_evalue': 2.30262e-12, 'blast_score': 175.0, 'pdb_chain_id': 'H', 'seq_num_coverage': 62}), (('4zir', 'B'), {'seq_similar': 0.202, 'pdb_id': '4zir', 'seq_coverage': 0.126, 'seq_num_similar': 101, 'blast_evalue': 2.74359e-12, 'blast_score': 174.0, 'pdb_chain_id': 'B', 'seq_num_coverage': 63}), (('4hlu', 'C'), {'seq_similar': 0.202, 'pdb_id': '4hlu', 'seq_coverage': 0.126, 'seq_num_similar': 101, 'blast_evalue': 2.74359e-12, 'blast_score': 174.0, 'pdb_chain_id': 'C', 'seq_num_coverage': 63}), (('4hlu', 'D'), {'seq_similar': 0.202, 'pdb_id': '4hlu', 'seq_coverage': 0.126, 'seq_num_similar': 101, 'blast_evalue': 2.74359e-12, 'blast_score': 174.0, 'pdb_chain_id': 'D', 'seq_num_coverage': 63}), (('3nhb', 'A'), {'seq_similar': 0.21, 'pdb_id': '3nhb', 'seq_coverage': 0.128, 'seq_num_similar': 105, 'blast_evalue': 4.30522e-12, 'blast_score': 172.0, 'pdb_chain_id': 'A', 'seq_num_coverage': 64}), (('3nha', 'A'), {'seq_similar': 0.21, 'pdb_id': '3nha', 'seq_coverage': 0.128, 'seq_num_similar': 105, 'blast_evalue': 4.30522e-12, 'blast_score': 172.0, 'pdb_chain_id': 'A', 'seq_num_coverage': 64}), (('3nh9', 'A'), {'seq_similar': 0.21, 'pdb_id': '3nh9', 'seq_coverage': 0.128, 'seq_num_similar': 105, 'blast_evalue': 4.30522e-12, 'blast_score': 172.0, 'pdb_chain_id': 'A', 'seq_num_coverage': 64}), (('3nh6', 'A'), {'seq_similar': 0.21, 'pdb_id': '3nh6', 'seq_coverage': 0.128, 'seq_num_similar': 105, 'blast_evalue': 4.30522e-12, 'blast_score': 172.0, 'pdb_chain_id': 'A', 'seq_num_coverage': 64}), (('4q7m', 'B'), {'seq_similar': 0.22, 'pdb_id': '4q7m', 'seq_coverage': 0.13, 'seq_num_similar': 110, 'blast_evalue': 5.1297e-12, 'blast_score': 172.0, 'pdb_chain_id': 'B', 'seq_num_coverage': 65}), (('4q7l', 'A'), {'seq_similar': 0.22, 'pdb_id': '4q7l', 'seq_coverage': 0.13, 'seq_num_similar': 110, 'blast_evalue': 5.76531e-12, 'blast_score': 171.0, 'pdb_chain_id': 'A', 'seq_num_coverage': 65}), (('4q7l', 'B'), {'seq_similar': 0.22, 'pdb_id': '4q7l', 'seq_coverage': 0.13, 'seq_num_similar': 110, 'blast_evalue': 5.76531e-12, 'blast_score': 171.0, 'pdb_chain_id': 'B', 'seq_num_coverage': 65}), (('4q7l', 'C'), {'seq_similar': 0.22, 'pdb_id': '4q7l', 'seq_coverage': 0.13, 'seq_num_similar': 110, 'blast_evalue': 5.76531e-12, 'blast_score': 171.0, 'pdb_chain_id': 'C', 'seq_num_coverage': 65}), (('4ayw', 'A'), {'seq_similar': 0.214, 'pdb_id': '4ayw', 'seq_coverage': 0.124, 'seq_num_similar': 107, 'blast_evalue': 7.40512e-12, 'blast_score': 170.0, 'pdb_chain_id': 'A', 'seq_num_coverage': 62}), (('5do7', 'B'), {'seq_similar': 0.206, 'pdb_id': '5do7', 'seq_coverage': 0.116, 'seq_num_similar': 103, 'blast_evalue': 8.32268e-12, 'blast_score': 170.0, 'pdb_chain_id': 'B', 'seq_num_coverage': 58}), (('5do7', 'D'), {'seq_similar': 0.206, 'pdb_id': '5do7', 'seq_coverage': 0.116, 'seq_num_similar': 103, 'blast_evalue': 8.32268e-12, 'blast_score': 170.0, 'pdb_chain_id': 'D', 'seq_num_coverage': 58}), (('4q4h', 'B'), {'seq_similar': 0.22, 'pdb_id': '4q4h', 'seq_coverage': 0.13, 'seq_num_similar': 110, 'blast_evalue': 8.46273e-12, 'blast_score': 170.0, 'pdb_chain_id': 'B', 'seq_num_coverage': 65}), (('4q4a', 'B'), {'seq_similar': 0.22, 'pdb_id': '4q4a', 'seq_coverage': 0.13, 'seq_num_similar': 110, 'blast_evalue': 8.46273e-12, 'blast_score': 170.0, 'pdb_chain_id': 'B', 'seq_num_coverage': 65}), (('3qf4', 'B'), {'seq_similar': 0.22, 'pdb_id': '3qf4', 'seq_coverage': 0.13, 'seq_num_similar': 110, 'blast_evalue': 8.46273e-12, 'blast_score': 170.0, 'pdb_chain_id': 'B', 'seq_num_coverage': 65}), (('4ayx', 'A'), {'seq_similar': 0.214, 'pdb_id': '4ayx', 'seq_coverage': 0.124, 'seq_num_similar': 107, 'blast_evalue': 9.99962e-12, 'blast_score': 169.0, 'pdb_chain_id': 'A', 'seq_num_coverage': 62}), (('4ayt', 'A'), {'seq_similar': 0.214, 'pdb_id': '4ayt', 'seq_coverage': 0.124, 'seq_num_similar': 107, 'blast_evalue': 9.99962e-12, 'blast_score': 169.0, 'pdb_chain_id': 'A', 'seq_num_coverage': 62}), (('3zdq', 'A'), {'seq_similar': 0.214, 'pdb_id': '3zdq', 'seq_coverage': 0.124, 'seq_num_similar': 107, 'blast_evalue': 9.99962e-12, 'blast_score': 169.0, 'pdb_chain_id': 'A', 'seq_num_coverage': 62}), (('4a82', 'A'), {'seq_similar': 0.2, 'pdb_id': '4a82', 'seq_coverage': 0.114, 'seq_num_similar': 100, 'blast_evalue': 1.14278e-11, 'blast_score': 169.0, 'pdb_chain_id': 'A', 'seq_num_coverage': 57}), (('4a82', 'B'), {'seq_similar': 0.2, 'pdb_id': '4a82', 'seq_coverage': 0.114, 'seq_num_similar': 100, 'blast_evalue': 1.14278e-11, 'blast_score': 169.0, 'pdb_chain_id': 'B', 'seq_num_coverage': 57}), (('4a82', 'C'), {'seq_similar': 0.2, 'pdb_id': '4a82', 'seq_coverage': 0.114, 'seq_num_similar': 100, 'blast_evalue': 1.14278e-11, 'blast_score': 169.0, 'pdb_chain_id': 'C', 'seq_num_coverage': 57}), (('4a82', 'D'), {'seq_similar': 0.2, 'pdb_id': '4a82', 'seq_coverage': 0.114, 'seq_num_similar': 100, 'blast_evalue': 1.14278e-11, 'blast_score': 169.0, 'pdb_chain_id': 'D', 'seq_num_coverage': 57}), (('2onj', 'A'), {'seq_similar': 0.2, 'pdb_id': '2onj', 'seq_coverage': 0.114, 'seq_num_similar': 100, 'blast_evalue': 1.14278e-11, 'blast_score': 169.0, 'pdb_chain_id': 'A', 'seq_num_coverage': 57}), (('2onj', 'B'), {'seq_similar': 0.2, 'pdb_id': '2onj', 'seq_coverage': 0.114, 'seq_num_similar': 100, 'blast_evalue': 1.14278e-11, 'blast_score': 169.0, 'pdb_chain_id': 'B', 'seq_num_coverage': 57}), (('2hyd', 'A'), {'seq_similar': 0.2, 'pdb_id': '2hyd', 'seq_coverage': 0.114, 'seq_num_similar': 100, 'blast_evalue': 1.14278e-11, 'blast_score': 169.0, 'pdb_chain_id': 'A', 'seq_num_coverage': 57}), (('2hyd', 'B'), {'seq_similar': 0.2, 'pdb_id': '2hyd', 'seq_coverage': 0.114, 'seq_num_similar': 100, 'blast_evalue': 1.14278e-11, 'blast_score': 169.0, 'pdb_chain_id': 'B', 'seq_num_coverage': 57}), (('4q4j', 'B'), {'seq_similar': 0.218, 'pdb_id': '4q4j', 'seq_coverage': 0.13, 'seq_num_similar': 109, 'blast_evalue': 1.39614e-11, 'blast_score': 168.0, 'pdb_chain_id': 'B', 'seq_num_coverage': 65}), (('5eum', 'A'), {'seq_similar': 0.218, 'pdb_id': '5eum', 'seq_coverage': 0.124, 'seq_num_similar': 109, 'blast_evalue': 1.83869e-11, 'blast_score': 167.0, 'pdb_chain_id': 'A', 'seq_num_coverage': 62}), (('5eum', 'B'), {'seq_similar': 0.218, 'pdb_id': '5eum', 'seq_coverage': 0.124, 'seq_num_similar': 109, 'blast_evalue': 1.83869e-11, 'blast_score': 167.0, 'pdb_chain_id': 'B', 'seq_num_coverage': 62}), (('2ixg', 'A'), {'seq_similar': 0.176, 'pdb_id': '2ixg', 'seq_coverage': 0.114, 'seq_num_similar': 88, 'blast_evalue': 2.17261e-11, 'blast_score': 166.0, 'pdb_chain_id': 'A', 'seq_num_coverage': 57}), (('4g1u', 'C'), {'seq_similar': 0.202, 'pdb_id': '4g1u', 'seq_coverage': 0.124, 'seq_num_similar': 101, 'blast_evalue': 2.46228e-11, 'blast_score': 166.0, 'pdb_chain_id': 'C', 'seq_num_coverage': 62}), (('4g1u', 'D'), {'seq_similar': 0.202, 'pdb_id': '4g1u', 'seq_coverage': 0.124, 'seq_num_similar': 101, 'blast_evalue': 2.46228e-11, 'blast_score': 166.0, 'pdb_chain_id': 'D', 'seq_num_coverage': 62}), (('1jj7', 'A'), {'seq_similar': 0.216, 'pdb_id': '1jj7', 'seq_coverage': 0.132, 'seq_num_similar': 108, 'blast_evalue': 2.61037e-11, 'blast_score': 165.0, 'pdb_chain_id': 'A', 'seq_num_coverage': 66}), (('2ixf', 'A'), {'seq_similar': 0.176, 'pdb_id': '2ixf', 'seq_coverage': 0.114, 'seq_num_similar': 88, 'blast_evalue': 3.64459e-11, 'blast_score': 164.0, 'pdb_chain_id': 'A', 'seq_num_coverage': 57}), (('2ixf', 'B'), {'seq_similar': 0.176, 'pdb_id': '2ixf', 'seq_coverage': 0.114, 'seq_num_similar': 88, 'blast_evalue': 3.64459e-11, 'blast_score': 164.0, 'pdb_chain_id': 'B', 'seq_num_coverage': 57}), (('2ixf', 'C'), {'seq_similar': 0.176, 'pdb_id': '2ixf', 'seq_coverage': 0.114, 'seq_num_similar': 88, 'blast_evalue': 3.64459e-11, 'blast_score': 164.0, 'pdb_chain_id': 'C', 'seq_num_coverage': 57}), (('2ixf', 'D'), {'seq_similar': 0.176, 'pdb_id': '2ixf', 'seq_coverage': 0.114, 'seq_num_similar': 88, 'blast_evalue': 3.64459e-11, 'blast_score': 164.0, 'pdb_chain_id': 'D', 'seq_num_coverage': 57}), (('4myh', 'A'), {'seq_similar': 0.238, 'pdb_id': '4myh', 'seq_coverage': 0.138, 'seq_num_similar': 119, 'blast_evalue': 5.13119e-11, 'blast_score': 163.0, 'pdb_chain_id': 'A', 'seq_num_coverage': 69}), (('4myh', 'B'), {'seq_similar': 0.238, 'pdb_id': '4myh', 'seq_coverage': 0.138, 'seq_num_similar': 119, 'blast_evalue': 5.13119e-11, 'blast_score': 163.0, 'pdb_chain_id': 'B', 'seq_num_coverage': 69}), (('4myh', 'C'), {'seq_similar': 0.238, 'pdb_id': '4myh', 'seq_coverage': 0.138, 'seq_num_similar': 119, 'blast_evalue': 5.13119e-11, 'blast_score': 163.0, 'pdb_chain_id': 'C', 'seq_num_coverage': 69}), (('4myc', 'A'), {'seq_similar': 0.238, 'pdb_id': '4myc', 'seq_coverage': 0.138, 'seq_num_similar': 119, 'blast_evalue': 5.13119e-11, 'blast_score': 163.0, 'pdb_chain_id': 'A', 'seq_num_coverage': 69}), (('4myc', 'B'), {'seq_similar': 0.238, 'pdb_id': '4myc', 'seq_coverage': 0.138, 'seq_num_similar': 119, 'blast_evalue': 5.13119e-11, 'blast_score': 163.0, 'pdb_chain_id': 'B', 'seq_num_coverage': 69}), (('4myc', 'C'), {'seq_similar': 0.238, 'pdb_id': '4myc', 'seq_coverage': 0.138, 'seq_num_similar': 119, 'blast_evalue': 5.13119e-11, 'blast_score': 163.0, 'pdb_chain_id': 'C', 'seq_num_coverage': 69}), (('2ixe', 'A'), {'seq_similar': 0.174, 'pdb_id': '2ixe', 'seq_coverage': 0.114, 'seq_num_similar': 87, 'blast_evalue': 7.04557e-11, 'blast_score': 162.0, 'pdb_chain_id': 'A', 'seq_num_coverage': 57}), (('2ixe', 'D'), {'seq_similar': 0.174, 'pdb_id': '2ixe', 'seq_coverage': 0.114, 'seq_num_similar': 87, 'blast_evalue': 7.04557e-11, 'blast_score': 162.0, 'pdb_chain_id': 'D', 'seq_num_coverage': 57}), (('2yz2', 'A'), {'seq_similar': 0.202, 'pdb_id': '2yz2', 'seq_coverage': 0.128, 'seq_num_similar': 101, 'blast_evalue': 2.58943e-10, 'blast_score': 157.0, 'pdb_chain_id': 'A', 'seq_num_coverage': 64}), (('2yz2', 'B'), {'seq_similar': 0.202, 'pdb_id': '2yz2', 'seq_coverage': 0.128, 'seq_num_similar': 101, 'blast_evalue': 2.58943e-10, 'blast_score': 157.0, 'pdb_chain_id': 'B', 'seq_num_coverage': 64}), (('3vx4', 'A'), {'seq_similar': 0.222, 'pdb_id': '3vx4', 'seq_coverage': 0.116, 'seq_num_similar': 111, 'blast_evalue': 2.61113e-10, 'blast_score': 157.0, 'pdb_chain_id': 'A', 'seq_num_coverage': 58}), (('3vx4', 'D'), {'seq_similar': 0.222, 'pdb_id': '3vx4', 'seq_coverage': 0.116, 'seq_num_similar': 111, 'blast_evalue': 2.61113e-10, 'blast_score': 157.0, 'pdb_chain_id': 'D', 'seq_num_coverage': 58}), (('4zir', 'A'), {'seq_similar': 0.202, 'pdb_id': '4zir', 'seq_coverage': 0.128, 'seq_num_similar': 101, 'blast_evalue': 2.63301e-10, 'blast_score': 157.0, 'pdb_chain_id': 'A', 'seq_num_coverage': 64}), (('4hlu', 'A'), {'seq_similar': 0.202, 'pdb_id': '4hlu', 'seq_coverage': 0.128, 'seq_num_similar': 101, 'blast_evalue': 2.63301e-10, 'blast_score': 157.0, 'pdb_chain_id': 'A', 'seq_num_coverage': 64}), (('4hlu', 'B'), {'seq_similar': 0.202, 'pdb_id': '4hlu', 'seq_coverage': 0.128, 'seq_num_similar': 101, 'blast_evalue': 2.63301e-10, 'blast_score': 157.0, 'pdb_chain_id': 'B', 'seq_num_coverage': 64}), (('4k8o', 'A'), {'seq_similar': 0.172, 'pdb_id': '4k8o', 'seq_coverage': 0.112, 'seq_num_similar': 86, 'blast_evalue': 3.58531e-10, 'blast_score': 156.0, 'pdb_chain_id': 'A', 'seq_num_coverage': 56}), (('2ihy', 'A'), {'seq_similar': 0.21, 'pdb_id': '2ihy', 'seq_coverage': 0.112, 'seq_num_similar': 105, 'blast_evalue': 6.16686e-10, 'blast_score': 154.0, 'pdb_chain_id': 'A', 'seq_num_coverage': 56}), (('2ihy', 'B'), {'seq_similar': 0.21, 'pdb_id': '2ihy', 'seq_coverage': 0.112, 'seq_num_similar': 105, 'blast_evalue': 6.16686e-10, 'blast_score': 154.0, 'pdb_chain_id': 'B', 'seq_num_coverage': 56}), (('5dgx', 'A'), {'seq_similar': 0.21, 'pdb_id': '5dgx', 'seq_coverage': 0.116, 'seq_num_similar': 105, 'blast_evalue': 2.88694e-09, 'blast_score': 148.0, 'pdb_chain_id': 'A', 'seq_num_coverage': 58}), (('4hzi', 'A'), {'seq_similar': 0.204, 'pdb_id': '4hzi', 'seq_coverage': 0.114, 'seq_num_similar': 102, 'blast_evalue': 3.43981e-09, 'blast_score': 147.0, 'pdb_chain_id': 'A', 'seq_num_coverage': 57}), (('4hzi', 'B'), {'seq_similar': 0.204, 'pdb_id': '4hzi', 'seq_coverage': 0.114, 'seq_num_similar': 102, 'blast_evalue': 3.43981e-09, 'blast_score': 147.0, 'pdb_chain_id': 'B', 'seq_num_coverage': 57}), (('4mrv', 'A'), {'seq_similar': 0.192, 'pdb_id': '4mrv', 'seq_coverage': 0.11, 'seq_num_similar': 96, 'blast_evalue': 8.75755e-09, 'blast_score': 144.0, 'pdb_chain_id': 'A', 'seq_num_coverage': 55}), (('4mrv', 'B'), {'seq_similar': 0.192, 'pdb_id': '4mrv', 'seq_coverage': 0.11, 'seq_num_similar': 96, 'blast_evalue': 8.75755e-09, 'blast_score': 144.0, 'pdb_chain_id': 'B', 'seq_num_coverage': 55}), (('4mrs', 'A'), {'seq_similar': 0.192, 'pdb_id': '4mrs', 'seq_coverage': 0.11, 'seq_num_similar': 96, 'blast_evalue': 8.75755e-09, 'blast_score': 144.0, 'pdb_chain_id': 'A', 'seq_num_coverage': 55}), (('4mrs', 'B'), {'seq_similar': 0.192, 'pdb_id': '4mrs', 'seq_coverage': 0.11, 'seq_num_similar': 96, 'blast_evalue': 8.75755e-09, 'blast_score': 144.0, 'pdb_chain_id': 'B', 'seq_num_coverage': 55}), (('4mrr', 'A'), {'seq_similar': 0.192, 'pdb_id': '4mrr', 'seq_coverage': 0.11, 'seq_num_similar': 96, 'blast_evalue': 8.75755e-09, 'blast_score': 144.0, 'pdb_chain_id': 'A', 'seq_num_coverage': 55}), (('4mrr', 'B'), {'seq_similar': 0.192, 'pdb_id': '4mrr', 'seq_coverage': 0.11, 'seq_num_similar': 96, 'blast_evalue': 8.75755e-09, 'blast_score': 144.0, 'pdb_chain_id': 'B', 'seq_num_coverage': 55}), (('4mrp', 'A'), {'seq_similar': 0.192, 'pdb_id': '4mrp', 'seq_coverage': 0.11, 'seq_num_similar': 96, 'blast_evalue': 8.75755e-09, 'blast_score': 144.0, 'pdb_chain_id': 'A', 'seq_num_coverage': 55}), (('4mrp', 'B'), {'seq_similar': 0.192, 'pdb_id': '4mrp', 'seq_coverage': 0.11, 'seq_num_similar': 96, 'blast_evalue': 8.75755e-09, 'blast_score': 144.0, 'pdb_chain_id': 'B', 'seq_num_coverage': 55}), (('4mrn', 'A'), {'seq_similar': 0.192, 'pdb_id': '4mrn', 'seq_coverage': 0.11, 'seq_num_similar': 96, 'blast_evalue': 8.75755e-09, 'blast_score': 144.0, 'pdb_chain_id': 'A', 'seq_num_coverage': 55}), (('4mrn', 'B'), {'seq_similar': 0.192, 'pdb_id': '4mrn', 'seq_coverage': 0.11, 'seq_num_similar': 96, 'blast_evalue': 8.75755e-09, 'blast_score': 144.0, 'pdb_chain_id': 'B', 'seq_num_coverage': 55}), (('3wmg', 'A'), {'seq_similar': 0.2, 'pdb_id': '3wmg', 'seq_coverage': 0.118, 'seq_num_similar': 100, 'blast_evalue': 1.00922e-08, 'blast_score': 143.0, 'pdb_chain_id': 'A', 'seq_num_coverage': 59}), (('3wmf', 'A'), {'seq_similar': 0.2, 'pdb_id': '3wmf', 'seq_coverage': 0.118, 'seq_num_similar': 100, 'blast_evalue': 1.00922e-08, 'blast_score': 143.0, 'pdb_chain_id': 'A', 'seq_num_coverage': 59}), (('3wme', 'A'), {'seq_similar': 0.2, 'pdb_id': '3wme', 'seq_coverage': 0.118, 'seq_num_similar': 100, 'blast_evalue': 1.01767e-08, 'blast_score': 143.0, 'pdb_chain_id': 'A', 'seq_num_coverage': 59}), (('4q4h', 'A'), {'seq_similar': 0.198, 'pdb_id': '4q4h', 'seq_coverage': 0.112, 'seq_num_similar': 99, 'blast_evalue': 1.08792e-08, 'blast_score': 143.0, 'pdb_chain_id': 'A', 'seq_num_coverage': 56}), (('4q4a', 'A'), {'seq_similar': 0.198, 'pdb_id': '4q4a', 'seq_coverage': 0.112, 'seq_num_similar': 99, 'blast_evalue': 1.08792e-08, 'blast_score': 143.0, 'pdb_chain_id': 'A', 'seq_num_coverage': 56}), (('3qf4', 'A'), {'seq_similar': 0.198, 'pdb_id': '3qf4', 'seq_coverage': 0.112, 'seq_num_similar': 99, 'blast_evalue': 1.08792e-08, 'blast_score': 143.0, 'pdb_chain_id': 'A', 'seq_num_coverage': 56}), (('4q7k', 'A'), {'seq_similar': 0.198, 'pdb_id': '4q7k', 'seq_coverage': 0.112, 'seq_num_similar': 99, 'blast_evalue': 1.4814e-08, 'blast_score': 142.0, 'pdb_chain_id': 'A', 'seq_num_coverage': 56}), (('4q4j', 'A'), {'seq_similar': 0.196, 'pdb_id': '4q4j', 'seq_coverage': 0.112, 'seq_num_similar': 98, 'blast_evalue': 1.75043e-08, 'blast_score': 141.0, 'pdb_chain_id': 'A', 'seq_num_coverage': 56}), (('5idv', 'A'), {'seq_similar': 0.202, 'pdb_id': '5idv', 'seq_coverage': 0.122, 'seq_num_similar': 101, 'blast_evalue': 1.98381e-08, 'blast_score': 141.0, 'pdb_chain_id': 'A', 'seq_num_coverage': 61}), (('4fwi', 'B'), {'seq_similar': 0.226, 'pdb_id': '4fwi', 'seq_coverage': 0.124, 'seq_num_similar': 113, 'blast_evalue': 2.42364e-08, 'blast_score': 140.0, 'pdb_chain_id': 'B', 'seq_num_coverage': 62}), (('2d2f', 'A'), {'seq_similar': 0.198, 'pdb_id': '2d2f', 'seq_coverage': 0.112, 'seq_num_similar': 99, 'blast_evalue': 3.35575e-08, 'blast_score': 139.0, 'pdb_chain_id': 'A', 'seq_num_coverage': 56}), (('2d2e', 'A'), {'seq_similar': 0.198, 'pdb_id': '2d2e', 'seq_coverage': 0.112, 'seq_num_similar': 99, 'blast_evalue': 3.35575e-08, 'blast_score': 139.0, 'pdb_chain_id': 'A', 'seq_num_coverage': 56}), (('5do7', 'A'), {'seq_similar': 0.2, 'pdb_id': '5do7', 'seq_coverage': 0.114, 'seq_num_similar': 100, 'blast_evalue': 4.23889e-08, 'blast_score': 138.0, 'pdb_chain_id': 'A', 'seq_num_coverage': 57}), (('5do7', 'C'), {'seq_similar': 0.2, 'pdb_id': '5do7', 'seq_coverage': 0.114, 'seq_num_similar': 100, 'blast_evalue': 4.23889e-08, 'blast_score': 138.0, 'pdb_chain_id': 'C', 'seq_num_coverage': 57}), (('2qi9', 'C'), {'seq_similar': 0.192, 'pdb_id': '2qi9', 'seq_coverage': 0.106, 'seq_num_similar': 96, 'blast_evalue': 5.96789e-08, 'blast_score': 136.0, 'pdb_chain_id': 'C', 'seq_num_coverage': 53}), (('2qi9', 'D'), {'seq_similar': 0.192, 'pdb_id': '2qi9', 'seq_coverage': 0.106, 'seq_num_similar': 96, 'blast_evalue': 5.96789e-08, 'blast_score': 136.0, 'pdb_chain_id': 'D', 'seq_num_coverage': 53}), (('4r9u', 'C'), {'seq_similar': 0.192, 'pdb_id': '4r9u', 'seq_coverage': 0.104, 'seq_num_similar': 96, 'blast_evalue': 8.98214e-08, 'blast_score': 135.0, 'pdb_chain_id': 'C', 'seq_num_coverage': 52}), (('4r9u', 'D'), {'seq_similar': 0.192, 'pdb_id': '4r9u', 'seq_coverage': 0.104, 'seq_num_similar': 96, 'blast_evalue': 8.98214e-08, 'blast_score': 135.0, 'pdb_chain_id': 'D', 'seq_num_coverage': 52}), (('4fi3', 'C'), {'seq_similar': 0.192, 'pdb_id': '4fi3', 'seq_coverage': 0.104, 'seq_num_similar': 96, 'blast_evalue': 8.98214e-08, 'blast_score': 135.0, 'pdb_chain_id': 'C', 'seq_num_coverage': 52}), (('4fi3', 'D'), {'seq_similar': 0.192, 'pdb_id': '4fi3', 'seq_coverage': 0.104, 'seq_num_similar': 96, 'blast_evalue': 8.98214e-08, 'blast_score': 135.0, 'pdb_chain_id': 'D', 'seq_num_coverage': 52}), (('1l7v', 'C'), {'seq_similar': 0.192, 'pdb_id': '1l7v', 'seq_coverage': 0.106, 'seq_num_similar': 96, 'blast_evalue': 9.0574e-08, 'blast_score': 135.0, 'pdb_chain_id': 'C', 'seq_num_coverage': 53}), (('1l7v', 'D'), {'seq_similar': 0.192, 'pdb_id': '1l7v', 'seq_coverage': 0.106, 'seq_num_similar': 96, 'blast_evalue': 9.0574e-08, 'blast_score': 135.0, 'pdb_chain_id': 'D', 'seq_num_coverage': 53}), (('1mv5', 'A'), {'seq_similar': 0.198, 'pdb_id': '1mv5', 'seq_coverage': 0.112, 'seq_num_similar': 99, 'blast_evalue': 1.27518e-07, 'blast_score': 134.0, 'pdb_chain_id': 'A', 'seq_num_coverage': 56}), (('1mv5', 'B'), {'seq_similar': 0.198, 'pdb_id': '1mv5', 'seq_coverage': 0.112, 'seq_num_similar': 99, 'blast_evalue': 1.27518e-07, 'blast_score': 134.0, 'pdb_chain_id': 'B', 'seq_num_coverage': 56}), (('1mv5', 'C'), {'seq_similar': 0.198, 'pdb_id': '1mv5', 'seq_coverage': 0.112, 'seq_num_similar': 99, 'blast_evalue': 1.27518e-07, 'blast_score': 134.0, 'pdb_chain_id': 'C', 'seq_num_coverage': 56}), (('1mv5', 'D'), {'seq_similar': 0.198, 'pdb_id': '1mv5', 'seq_coverage': 0.112, 'seq_num_similar': 99, 'blast_evalue': 1.27518e-07, 'blast_score': 134.0, 'pdb_chain_id': 'D', 'seq_num_coverage': 56}), (('4dbl', 'C'), {'seq_similar': 0.192, 'pdb_id': '4dbl', 'seq_coverage': 0.104, 'seq_num_similar': 96, 'blast_evalue': 1.39776e-07, 'blast_score': 133.0, 'pdb_chain_id': 'C', 'seq_num_coverage': 52}), (('4dbl', 'D'), {'seq_similar': 0.192, 'pdb_id': '4dbl', 'seq_coverage': 0.104, 'seq_num_similar': 96, 'blast_evalue': 1.39776e-07, 'blast_score': 133.0, 'pdb_chain_id': 'D', 'seq_num_coverage': 52}), (('4dbl', 'H'), {'seq_similar': 0.192, 'pdb_id': '4dbl', 'seq_coverage': 0.104, 'seq_num_similar': 96, 'blast_evalue': 1.39776e-07, 'blast_score': 133.0, 'pdb_chain_id': 'H', 'seq_num_coverage': 52}), (('4dbl', 'I'), {'seq_similar': 0.192, 'pdb_id': '4dbl', 'seq_coverage': 0.104, 'seq_num_similar': 96, 'blast_evalue': 1.39776e-07, 'blast_score': 133.0, 'pdb_chain_id': 'I', 'seq_num_coverage': 52}), (('5awg', 'C'), {'seq_similar': 0.202, 'pdb_id': '5awg', 'seq_coverage': 0.128, 'seq_num_similar': 101, 'blast_evalue': 1.34104e-06, 'blast_score': 125.0, 'pdb_chain_id': 'C', 'seq_num_coverage': 64}), (('5awg', 'D'), {'seq_similar': 0.202, 'pdb_id': '5awg', 'seq_coverage': 0.128, 'seq_num_similar': 101, 'blast_evalue': 1.34104e-06, 'blast_score': 125.0, 'pdb_chain_id': 'D', 'seq_num_coverage': 64}), (('5awg', 'G'), {'seq_similar': 0.202, 'pdb_id': '5awg', 'seq_coverage': 0.128, 'seq_num_similar': 101, 'blast_evalue': 1.34104e-06, 'blast_score': 125.0, 'pdb_chain_id': 'G', 'seq_num_coverage': 64}), (('5awg', 'H'), {'seq_similar': 0.202, 'pdb_id': '5awg', 'seq_coverage': 0.128, 'seq_num_similar': 101, 'blast_evalue': 1.34104e-06, 'blast_score': 125.0, 'pdb_chain_id': 'H', 'seq_num_coverage': 64}), (('5awf', 'C'), {'seq_similar': 0.202, 'pdb_id': '5awf', 'seq_coverage': 0.128, 'seq_num_similar': 101, 'blast_evalue': 1.34104e-06, 'blast_score': 125.0, 'pdb_chain_id': 'C', 'seq_num_coverage': 64}), (('5awf', 'D'), {'seq_similar': 0.202, 'pdb_id': '5awf', 'seq_coverage': 0.128, 'seq_num_similar': 101, 'blast_evalue': 1.34104e-06, 'blast_score': 125.0, 'pdb_chain_id': 'D', 'seq_num_coverage': 64}), (('5awf', 'G'), {'seq_similar': 0.202, 'pdb_id': '5awf', 'seq_coverage': 0.128, 'seq_num_similar': 101, 'blast_evalue': 1.34104e-06, 'blast_score': 125.0, 'pdb_chain_id': 'G', 'seq_num_coverage': 64}), (('5awf', 'H'), {'seq_similar': 0.202, 'pdb_id': '5awf', 'seq_coverage': 0.128, 'seq_num_similar': 101, 'blast_evalue': 1.34104e-06, 'blast_score': 125.0, 'pdb_chain_id': 'H', 'seq_num_coverage': 64}), (('2d3w', 'A'), {'seq_similar': 0.202, 'pdb_id': '2d3w', 'seq_coverage': 0.128, 'seq_num_similar': 101, 'blast_evalue': 1.34104e-06, 'blast_score': 125.0, 'pdb_chain_id': 'A', 'seq_num_coverage': 64}), (('2d3w', 'B'), {'seq_similar': 0.202, 'pdb_id': '2d3w', 'seq_coverage': 0.128, 'seq_num_similar': 101, 'blast_evalue': 1.34104e-06, 'blast_score': 125.0, 'pdb_chain_id': 'B', 'seq_num_coverage': 64}), (('2d3w', 'C'), {'seq_similar': 0.202, 'pdb_id': '2d3w', 'seq_coverage': 0.128, 'seq_num_similar': 101, 'blast_evalue': 1.34104e-06, 'blast_score': 125.0, 'pdb_chain_id': 'C', 'seq_num_coverage': 64}), (('2d3w', 'D'), {'seq_similar': 0.202, 'pdb_id': '2d3w', 'seq_coverage': 0.128, 'seq_num_similar': 101, 'blast_evalue': 1.34104e-06, 'blast_score': 125.0, 'pdb_chain_id': 'D', 'seq_num_coverage': 64}), (('4fin', 'A'), {'seq_similar': 0.186, 'pdb_id': '4fin', 'seq_coverage': 0.1, 'seq_num_similar': 93, 'blast_evalue': 1.37503e-06, 'blast_score': 125.0, 'pdb_chain_id': 'A', 'seq_num_coverage': 50}), (('4fin', 'B'), {'seq_similar': 0.186, 'pdb_id': '4fin', 'seq_coverage': 0.1, 'seq_num_similar': 93, 'blast_evalue': 1.37503e-06, 'blast_score': 125.0, 'pdb_chain_id': 'B', 'seq_num_coverage': 50}), (('3j5s', 'D'), {'seq_similar': 0.186, 'pdb_id': '3j5s', 'seq_coverage': 0.1, 'seq_num_similar': 93, 'blast_evalue': 1.37503e-06, 'blast_score': 125.0, 'pdb_chain_id': 'D', 'seq_num_coverage': 50}), (('2zu0', 'C'), {'seq_similar': 0.202, 'pdb_id': '2zu0', 'seq_coverage': 0.128, 'seq_num_similar': 101, 'blast_evalue': 1.39817e-06, 'blast_score': 125.0, 'pdb_chain_id': 'C', 'seq_num_coverage': 64}), (('2zu0', 'D'), {'seq_similar': 0.202, 'pdb_id': '2zu0', 'seq_coverage': 0.128, 'seq_num_similar': 101, 'blast_evalue': 1.39817e-06, 'blast_score': 125.0, 'pdb_chain_id': 'D', 'seq_num_coverage': 64}), (('5eg1', 'A'), {'seq_similar': 0.194, 'pdb_id': '5eg1', 'seq_coverage': 0.106, 'seq_num_similar': 97, 'blast_evalue': 2.06952e-06, 'blast_score': 123.0, 'pdb_chain_id': 'A', 'seq_num_coverage': 53}), (('5eg1', 'B'), {'seq_similar': 0.194, 'pdb_id': '5eg1', 'seq_coverage': 0.106, 'seq_num_similar': 97, 'blast_evalue': 2.06952e-06, 'blast_score': 123.0, 'pdb_chain_id': 'B', 'seq_num_coverage': 53}), (('4pl0', 'A'), {'seq_similar': 0.194, 'pdb_id': '4pl0', 'seq_coverage': 0.106, 'seq_num_similar': 97, 'blast_evalue': 2.06952e-06, 'blast_score': 123.0, 'pdb_chain_id': 'A', 'seq_num_coverage': 53}), (('4pl0', 'B'), {'seq_similar': 0.194, 'pdb_id': '4pl0', 'seq_coverage': 0.106, 'seq_num_similar': 97, 'blast_evalue': 2.06952e-06, 'blast_score': 123.0, 'pdb_chain_id': 'B', 'seq_num_coverage': 53}), (('4crm', 'P'), {'seq_similar': 0.174, 'pdb_id': '4crm', 'seq_coverage': 0.102, 'seq_num_similar': 87, 'blast_evalue': 2.40489e-06, 'blast_score': 123.0, 'pdb_chain_id': 'P', 'seq_num_coverage': 51}), (('3j16', 'B'), {'seq_similar': 0.174, 'pdb_id': '3j16', 'seq_coverage': 0.102, 'seq_num_similar': 87, 'blast_evalue': 2.40489e-06, 'blast_score': 123.0, 'pdb_chain_id': 'B', 'seq_num_coverage': 51})]), 'representative': {'seq_coverage': 0, 'clean_pdb_file': None, 'structure_id': None, 'original_pdb_file': None}})\n",
      "('b4390', {'homology': {}, 'pdb': OrderedDict([(('1lw7', 'A'), {'seq_similar': 0.6341463414634146, 'pdb_id': '1lw7', 'seq_coverage': 0.4658536585365854, 'seq_num_similar': 260, 'blast_evalue': 3.56517e-111, 'blast_score': 1026.0, 'pdb_chain_id': 'A', 'seq_num_coverage': 191})]), 'representative': {'seq_coverage': 0, 'clean_pdb_file': None, 'structure_id': None, 'original_pdb_file': None}})\n"
     ]
    }
   ],
   "source": [
    "for g in my_gempro.genes:\n",
    "    print(g.id, g.annotation['structure'])"
   ]
  },
  {
   "cell_type": "code",
   "execution_count": null,
   "metadata": {
    "collapsed": true
   },
   "outputs": [],
   "source": []
  }
 ],
 "metadata": {
  "_draft": {
   "nbviewer_url": "https://gist.github.com/342e44766d1dda637e975a4ef61dae19"
  },
  "anaconda-cloud": {},
  "gist": {
   "data": {
    "description": "GEM-PRO pipeline example for a list of gene IDs",
    "public": false
   },
   "id": "342e44766d1dda637e975a4ef61dae19"
  },
  "kernelspec": {
   "display_name": "Python 2",
   "language": "python",
   "name": "python2"
  },
  "language_info": {
   "codemirror_mode": {
    "name": "ipython",
    "version": 2
   },
   "file_extension": ".py",
   "mimetype": "text/x-python",
   "name": "python",
   "nbconvert_exporter": "python",
   "pygments_lexer": "ipython2",
   "version": "2.7.12"
  }
 },
 "nbformat": 4,
 "nbformat_minor": 1
}
