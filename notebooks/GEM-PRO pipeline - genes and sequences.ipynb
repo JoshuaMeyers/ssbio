{
 "cells": [
  {
   "cell_type": "markdown",
   "metadata": {},
   "source": [
    "# README\n",
    "\n",
    "This notebook gives an example of how to run the GEM-PRO pipeline on a **list of gene IDs** (in Python 2, but there are no differences for Python 3).\n",
    "\n",
    "### Installation\n",
    "\n",
    "See: https://github.com/nmih/ssbio/blob/master/README.md\n",
    "- If something isn't working, make sure to update the repository before you do anything (git pull)"
   ]
  },
  {
   "cell_type": "code",
   "execution_count": 1,
   "metadata": {
    "collapsed": false
   },
   "outputs": [],
   "source": [
    "# Import the GEM-PRO class\n",
    "from ssbio.pipeline.gempro import GEMPRO"
   ]
  },
  {
   "cell_type": "code",
   "execution_count": 2,
   "metadata": {
    "collapsed": true
   },
   "outputs": [],
   "source": [
    "# Create logger\n",
    "import logging\n",
    "logger = logging.getLogger()\n",
    "\n",
    "############# SET YOUR LOGGING LEVEL HERE #############\n",
    "logger.setLevel(logging.INFO)\n",
    "#######################################################"
   ]
  },
  {
   "cell_type": "code",
   "execution_count": 3,
   "metadata": {
    "collapsed": false
   },
   "outputs": [],
   "source": [
    "# Printing multiple outputs per cell\n",
    "from IPython.core.interactiveshell import InteractiveShell\n",
    "InteractiveShell.ast_node_interactivity = \"all\""
   ]
  },
  {
   "cell_type": "markdown",
   "metadata": {},
   "source": [
    "## Initialization of the project\n",
    "\n",
    "Set these three things:\n",
    "\n",
    "- GEM_NAME\n",
    "    - Your project name\n",
    "- ROOT_DIR\n",
    "    - The directory where the GEM_NAME folder will be created\n",
    "- GENES\n",
    "    - Your list of gene IDs\n",
    "    \n",
    "A directory will be created in ROOT_DIR named after your GEM_NAME. The folders are:\n",
    "```\n",
    "    .\n",
    "    ├── data  # where dataframes are stored\n",
    "    ├── model  # where SBML and GEM-PRO models are stored\n",
    "    ├── sequences  # sequences are stored here, in gene specific folders\n",
    "    │   ├── <gene_id1>\n",
    "    │   │   └── sequence.fasta\n",
    "    │   ├── <gene_id2>\n",
    "    │   └── ...\n",
    "    └── structures\n",
    "        ├── by_gene  # structures are stored here, in gene specific folders\n",
    "        │   ├── <gene_id1>\n",
    "        │   │   └── 1abc.pdb\n",
    "        │   ├── <gene_id2>\n",
    "        │   └── ...\n",
    "        └── by_complex  # complexes for reactions are stored here (in progress)\n",
    "```"
   ]
  },
  {
   "cell_type": "code",
   "execution_count": 4,
   "metadata": {
    "collapsed": true
   },
   "outputs": [],
   "source": [
    "GEM_NAME = 'gempro_genes_and_sequences_py2_test'\n",
    "\n",
    "ROOT_DIR = '/home/nathan/projects_unsynced/'\n",
    "\n",
    "GENES_AND_SEQUENCES = {'b4485': 'MTTDQHQEILRTEGLSKFFPGVKALDNVDFSLRRGEIMALLGENGAGKSTLIKALTGVYHADRGTIWLEGQAISPKNTAHAQQLGIGTVYQEVNLLPNMSVADNLFIGREPKRFGLLRRKEMEKRATELMASYGFSLDVREPLNRFSVAMQQIVAICRAIDLSAKVLILDEPTASLDTQEVELLFDLMRQLRDRGVSLIFVTHFLDQVYQVSDRITVLRNGSFVGCRETCELPQIELVKMMLGRELDTHALQRAGRTLLSDKPVAAFKNYGKKGTIAPFDLEVRPGEIVGLAGLLGSGRTETAEVIFGIKPADSGTALIKGKPQNLRSPHQASVLGIGFCPEDRKTDGIIAAASVRENIILALQAQRGWLRPISRKEQQEIAERFIRQLGIRTPSTEQPIEFLSGGNQQKVLLSRWLLTRPQFLILDEPTRGIDVGAHAEIIRLIETLCADGLALLVISSELEELVGYADRVIIMRDRKQVAEIPLAELSVPAIMNAIAA',\n",
    "                       'b4390': 'MSSFDYLKTAIKQQGCTLQQVADASGMTKGYLSQLLNAKIKSPSAQKLEALHRFLGLEFPRQKKTIGVVFGKFYPLHTGHIYLIQRACSQVDELHIIMGFDDTRDRALFEDSAMSQQPTVPDRLRWLLQTFKYQKNIRIHAFNEEGMEPYPHGWDVWSNGIKKFMAEKGIQPDLIYTSEEADAPQYMEHLGIETVLVDPKRTFMSISGAQIRENPFRYWEYIPTEVKPFFVRTVAILGGESSGKSTLVNKLANIFNTTSAWEYGRDYVFSHLGGDEIALQYSDYDKIALGHAQYIDFAVKYANKVAFIDTDFVTTQAFCKKYEGREHPFVQALIDEYRFDLVILLENNTPWVADGLRSLGSSVDRKEFQNLLVEMLEENNIEFVRVEEEDYDSRFLRCVELVREMMGEQR'}"
   ]
  },
  {
   "cell_type": "code",
   "execution_count": 5,
   "metadata": {
    "collapsed": false
   },
   "outputs": [
    {
     "name": "stderr",
     "output_type": "stream",
     "text": [
      "INFO:ssbio.pipeline.gempro:/home/nathan/projects_unsynced/gempro_genes_and_sequences_py2_test: GEM-PRO project files location\n",
      "INFO:ssbio.pipeline.gempro:Loaded in 2 sequences\n",
      "INFO:ssbio.pipeline.gempro:2: number of genes\n"
     ]
    }
   ],
   "source": [
    "# Create the GEM-PRO project\n",
    "my_gempro = GEMPRO(gem_name=GEM_NAME, root_dir=ROOT_DIR, genes_and_sequences=GENES_AND_SEQUENCES)"
   ]
  },
  {
   "cell_type": "markdown",
   "metadata": {},
   "source": [
    "## Mapping sequence -> structure\n",
    "\n",
    "There are two ways to map sequence to structure:\n",
    "1. Simply use the UniProt ID and their automatic mappings to the PDB\n",
    "2. BLAST the sequence to the PDB\n",
    "\n",
    "### map_uniprot_to_pdb\n",
    "This uses a service from the PDB to return a rank ordered list of PDBs that match a UniProt ID. \n",
    "- seq_ident_cutoff (from 0 to 1)\n",
    "    - Provide the seq_ident_cutoff as a percentage to filter for structures with only a percent identity above the cutoff.\n",
    "    - **Warning:** if you set the seq_ident_cutoff too high you risk filtering out PDBs that do match the sequence, but are just missing large portions of it.\n",
    "\n",
    "### blast_seqs_to_pdb\n",
    "This will BLAST the representative sequence against the entire PDB, and return significant hits. This will however return hits in other organisms, which may not be ideal.\n",
    "- all_genes\n",
    "    - Set to True if you want all genes and their sequences BLASTed\n",
    "    - Set to False if you only want to BLAST sequences that did not have any PDBs from the function map_uniprot_to_pdb\n",
    "- seq_ident_cutoff\n",
    "    - Same as above\n",
    "- evalue\n",
    "    - Significance of BLAST results\n",
    "\n",
    "-------------------\n",
    "\n",
    "## Saved information:\n",
    "\n",
    "### Gene annotations\n",
    "    - my_gempro.genes.get_by_id('b1187').protein.structures\n",
    "\n",
    "### DataFrames\n",
    "    - my_gempro.df_pdb_ranking\n",
    "    - my_gempro.df_pdb_blast"
   ]
  },
  {
   "cell_type": "code",
   "execution_count": 6,
   "metadata": {
    "collapsed": false
   },
   "outputs": [
    {
     "name": "stderr",
     "output_type": "stream",
     "text": [
      "INFO:ssbio.pipeline.gempro:b4390: adding 1 PDBs from BLAST results\n",
      "INFO:ssbio.pipeline.gempro:Completed sequence --> PDB BLAST. See the \"df_pdb_blast\" attribute.\n"
     ]
    },
    {
     "name": "stdout",
     "output_type": "stream",
     "text": [
      "\n"
     ]
    }
   ],
   "source": [
    "# Mapping using BLAST\n",
    "my_gempro.blast_seqs_to_pdb(all_genes=True, seq_ident_cutoff=.2, evalue=0.00001)"
   ]
  },
  {
   "cell_type": "code",
   "execution_count": 7,
   "metadata": {
    "collapsed": false
   },
   "outputs": [
    {
     "data": {
      "text/html": [
       "<div>\n",
       "<table border=\"1\" class=\"dataframe\">\n",
       "  <thead>\n",
       "    <tr style=\"text-align: right;\">\n",
       "      <th></th>\n",
       "      <th>gene</th>\n",
       "      <th>pdb_id</th>\n",
       "      <th>pdb_chain_id</th>\n",
       "      <th>hit_score</th>\n",
       "      <th>hit_evalue</th>\n",
       "      <th>hit_percent_similar</th>\n",
       "      <th>hit_percent_ident</th>\n",
       "      <th>hit_num_ident</th>\n",
       "      <th>hit_num_similar</th>\n",
       "    </tr>\n",
       "  </thead>\n",
       "  <tbody>\n",
       "    <tr>\n",
       "      <th>0</th>\n",
       "      <td>b4390</td>\n",
       "      <td>1lw7</td>\n",
       "      <td>A</td>\n",
       "      <td>1026.0</td>\n",
       "      <td>3.664420e-111</td>\n",
       "      <td>0.634146</td>\n",
       "      <td>0.465854</td>\n",
       "      <td>191</td>\n",
       "      <td>260</td>\n",
       "    </tr>\n",
       "  </tbody>\n",
       "</table>\n",
       "</div>"
      ],
      "text/plain": [
       "    gene pdb_id pdb_chain_id  hit_score     hit_evalue  hit_percent_similar  \\\n",
       "0  b4390   1lw7            A     1026.0  3.664420e-111             0.634146   \n",
       "\n",
       "   hit_percent_ident  hit_num_ident  hit_num_similar  \n",
       "0           0.465854            191              260  "
      ]
     },
     "execution_count": 7,
     "metadata": {},
     "output_type": "execute_result"
    }
   ],
   "source": [
    "# Looking at the BLAST results\n",
    "my_gempro.df_pdb_blast.head()"
   ]
  },
  {
   "cell_type": "markdown",
   "metadata": {},
   "source": [
    "## Ranking and downloading structures\n",
    "\n",
    "### set_representative_structure\n",
    "Rank available structures, run QC/QA, download and clean the final structure\n",
    "### pdb_downloader_and_metadata\n",
    "Download all structures per gene. This also adds some additional metadata to the annotation for each PDB.\n",
    "    \n",
    "-------------------\n",
    "\n",
    "## Saved information:\n",
    "\n",
    "### Gene annotations\n",
    "    - my_gempro.genes.get_by_id('b1187').protein.representative_structure\n",
    "\n",
    "### DataFrames\n",
    "    - my_gempro.df_pdb_metadata"
   ]
  },
  {
   "cell_type": "code",
   "execution_count": 8,
   "metadata": {
    "collapsed": false
   },
   "outputs": [
    {
     "name": "stderr",
     "output_type": "stream",
     "text": [
      "WARNING:ssbio.core.protein:b4390: no structures meet quality checks\n",
      "WARNING:ssbio.pipeline.gempro:2 gene(s) could not be mapped. Inspect the \"missing_repstruct\" attribute.\n",
      "INFO:ssbio.pipeline.gempro:Created representative structures dataframe. See the \"df_representative_structures\" attribute.\n"
     ]
    },
    {
     "name": "stdout",
     "output_type": "stream",
     "text": [
      "\n"
     ]
    }
   ],
   "source": [
    "my_gempro.set_representative_structure()"
   ]
  },
  {
   "cell_type": "code",
   "execution_count": 9,
   "metadata": {
    "collapsed": false
   },
   "outputs": [
    {
     "name": "stderr",
     "output_type": "stream",
     "text": [
      "INFO:ssbio.pipeline.gempro:Created PDB metadata dataframe.\n"
     ]
    },
    {
     "name": "stdout",
     "output_type": "stream",
     "text": [
      "\n"
     ]
    }
   ],
   "source": [
    "# Download all mapped PDBs and gather the metadata\n",
    "my_gempro.pdb_downloader_and_metadata()"
   ]
  },
  {
   "cell_type": "code",
   "execution_count": 10,
   "metadata": {
    "collapsed": false
   },
   "outputs": [
    {
     "data": {
      "text/html": [
       "<div>\n",
       "<table border=\"1\" class=\"dataframe\">\n",
       "  <thead>\n",
       "    <tr style=\"text-align: right;\">\n",
       "      <th></th>\n",
       "      <th>gene</th>\n",
       "      <th>pdb_id</th>\n",
       "      <th>pdb_title</th>\n",
       "      <th>description</th>\n",
       "      <th>experimental_method</th>\n",
       "      <th>resolution</th>\n",
       "      <th>chemicals</th>\n",
       "      <th>date</th>\n",
       "      <th>taxonomy_name</th>\n",
       "      <th>structure_file</th>\n",
       "    </tr>\n",
       "  </thead>\n",
       "  <tbody>\n",
       "    <tr>\n",
       "      <th>0</th>\n",
       "      <td>b4390</td>\n",
       "      <td>1lw7</td>\n",
       "      <td>NADR PROTEIN FROM HAEMOPHILUS INFLUENZAE</td>\n",
       "      <td>TRANSCRIPTIONAL REGULATOR NADR</td>\n",
       "      <td>X-RAY DIFFRACTION</td>\n",
       "      <td>2.9</td>\n",
       "      <td>SO4;NAD</td>\n",
       "      <td>2002-08-07;2004-02-10;2009-02-24;2011-07-13</td>\n",
       "      <td>Haemophilus influenzae</td>\n",
       "      <td>NaN</td>\n",
       "    </tr>\n",
       "  </tbody>\n",
       "</table>\n",
       "</div>"
      ],
      "text/plain": [
       "    gene pdb_id                                 pdb_title  \\\n",
       "0  b4390   1lw7  NADR PROTEIN FROM HAEMOPHILUS INFLUENZAE   \n",
       "\n",
       "                      description experimental_method  resolution chemicals  \\\n",
       "0  TRANSCRIPTIONAL REGULATOR NADR   X-RAY DIFFRACTION         2.9   SO4;NAD   \n",
       "\n",
       "                                          date           taxonomy_name  \\\n",
       "0  2002-08-07;2004-02-10;2009-02-24;2011-07-13  Haemophilus influenzae   \n",
       "\n",
       "   structure_file  \n",
       "0             NaN  "
      ]
     },
     "execution_count": 10,
     "metadata": {},
     "output_type": "execute_result"
    }
   ],
   "source": [
    "# Look at the summary of structures\n",
    "my_gempro.df_pdb_metadata.head()"
   ]
  }
 ],
 "metadata": {
  "_draft": {
   "nbviewer_url": "https://gist.github.com/342e44766d1dda637e975a4ef61dae19"
  },
  "anaconda-cloud": {},
  "gist": {
   "data": {
    "description": "GEM-PRO pipeline example for a list of gene IDs",
    "public": false
   },
   "id": "342e44766d1dda637e975a4ef61dae19"
  },
  "kernelspec": {
   "display_name": "Python 2",
   "language": "python",
   "name": "python2"
  },
  "language_info": {
   "codemirror_mode": {
    "name": "ipython",
    "version": 2
   },
   "file_extension": ".py",
   "mimetype": "text/x-python",
   "name": "python",
   "nbconvert_exporter": "python",
   "pygments_lexer": "ipython2",
   "version": "2.7.12"
  }
 },
 "nbformat": 4,
 "nbformat_minor": 1
}
