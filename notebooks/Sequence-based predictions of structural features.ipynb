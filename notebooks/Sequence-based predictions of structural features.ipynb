{
 "cells": [
  {
   "cell_type": "markdown",
   "metadata": {},
   "source": [
    "# SCRATCH\n",
    "\n",
    "Installation: https://github.com/nmih/ssbio/wiki/Software-Installations#scratch"
   ]
  },
  {
   "cell_type": "markdown",
   "metadata": {},
   "source": [
    "### 1. Prepare FASTA files\n",
    "- This can be a file containing one or multiple amino acid sequences"
   ]
  },
  {
   "cell_type": "code",
   "execution_count": 1,
   "metadata": {
    "collapsed": true
   },
   "outputs": [],
   "source": [
    "test_fasta = '/home/nathan/projects_unsynced/ssbio/ssbio/test/test_files/scratch/test.fasta'"
   ]
  },
  {
   "cell_type": "code",
   "execution_count": 6,
   "metadata": {
    "collapsed": false
   },
   "outputs": [
    {
     "name": "stdout",
     "output_type": "stream",
     "text": [
      ">pdb,4i8h,A,#1\r\n",
      "IVGGYTCGANTVPYQVSLNSGYHFCGGSLINSQWVVSAAHCYKSGIQVRLGEDNINVVEGNEQFISASKSIVHPSYNSNTLNNDIMLIKLKSAASLNSRVASISLPTSCASAGTQCLISGWGNTKSSGTSYPDVLKCLKAPILSDSSCKSAYPGQITSNMFCAGYLEGGKDSCQGDSGGPVVCSGKLQGIVSWGSGCAQKNKPGVYTKVCNYVSWIKQTIASN\r\n",
      ">pdb,3w5h,A,#1\r\n",
      "STPAITLENPDIKYPLRLIDKEVVNHDTRRFRFALPSPEHILGLPVGQHIYLSARIDGNLVIRPYTPVSSDDDKGFVDLVIKVYFKDTHPKFPAGGKMSQYLESMKIGDTIEFRGPNGLLVYQGKGKFAIRPDKKSSPVIKTVKSVGMIAGGTGITPMLQVIRAIMKDPDDHTVCHLLFANQTEKDILLRPELEELRNEHSARFKLWYTVDRAPEAWDYSQGFVNEEMIRDHLPPPEEEPLVLMCGPPPMIQYACLPNLERVGHPKERCFAF\r\n",
      ">pdb,4i8g,A,#1\r\n",
      "IVGGYTCGANTVPYQVSLNSGYHFCGGSLINSQWVVSAAHCYKSGIQVRLGEDNINVVEGNEQFISASKSIVHPSYNSNTLNNDIMLIKLKSAASLNSRVASISLPTSCASAGTQCLISGWGNTKSSGTSYPDVLKCLKAPILSDSSCKSAYPGQITSNMFCAGYLEGGKDSCQGDSGGPVVCSGKLQGIVSWGSGCAQKNKPGVYTKVCNYVSWIKQTIASN\r\n",
      ">pdb,4eic,A,#1\r\n",
      "ADAAAGAQVFAANCAACHAGGNNAVMPTKTLKADALKTYLAGYKDGSKSLEEAVAYQVTNGQGAMPAFGGRLSDADIANVAAYIADQAENNKW\r\n"
     ]
    }
   ],
   "source": [
    "!head $test_fasta"
   ]
  },
  {
   "cell_type": "markdown",
   "metadata": {},
   "source": [
    "### 2. Run SCRATCH\n",
    "- The path_to_scratch should be the path to the \"run_SCRATCH-1D_predictors.sh\" script\n",
    "- You can also run directly from the command line like so:\n",
    "\n",
    "        /path/to/scratch/bin/run_SCRATCH-1D_predictors.sh  input_fasta output_prefix [num_threads]\n"
   ]
  },
  {
   "cell_type": "code",
   "execution_count": 5,
   "metadata": {
    "collapsed": true
   },
   "outputs": [],
   "source": [
    "from ssbio.sequence.properties.scratch import SCRATCH"
   ]
  },
  {
   "cell_type": "code",
   "execution_count": 3,
   "metadata": {
    "collapsed": true
   },
   "outputs": [],
   "source": [
    "test_scratch = SCRATCH(project_name='test2', seq_file=test_fasta)"
   ]
  },
  {
   "cell_type": "code",
   "execution_count": 4,
   "metadata": {
    "collapsed": false
   },
   "outputs": [
    {
     "name": "stdout",
     "output_type": "stream",
     "text": [
      "\n",
      "###################################\n",
      "#                                 #\n",
      "#  SCRATCH-1D release 1.1 (2015)  #\n",
      "#                                 #\n",
      "###################################\n",
      "\n",
      "[SCRATCH-1D_predictions.pl] 4 protein sequence(s) found\n",
      "[SCRATCH-1D_predictions.pl] generating sequence profiles...\n",
      "[SCRATCH-1D_predictions.pl] running SCRATCH-1D predictors...\n",
      "[SCRATCH-1D_predictions.pl] running homology analysis...\n",
      "[SCRATCH-1D_predictions.pl] writing SSpro predictions...\n",
      "[SCRATCH-1D_predictions.pl] writing SSpro8 predictions...\n",
      "[SCRATCH-1D_predictions.pl] writing ACCpro predictions...\n",
      "[SCRATCH-1D_predictions.pl] writing ACCpro20 predictions...\n",
      "[SCRATCH-1D_predictions.pl] job successfully completed!\n",
      "\n"
     ]
    }
   ],
   "source": [
    "test_scratch.run_scratch(path_to_scratch='/home/nathan/software/SCRATCH-1D_1.1/bin/run_SCRATCH-1D_predictors.sh', \n",
    "                         outdir='/home/nathan/Desktop/',\n",
    "                         num_cores=4)"
   ]
  },
  {
   "cell_type": "markdown",
   "metadata": {},
   "source": [
    "### 3. Parse results"
   ]
  },
  {
   "cell_type": "markdown",
   "metadata": {},
   "source": [
    "##### Predicted secondary structure, 3 class"
   ]
  },
  {
   "cell_type": "code",
   "execution_count": 5,
   "metadata": {
    "collapsed": false
   },
   "outputs": [
    {
     "data": {
      "text/plain": [
       "{'pdb,3w5h,A,#1': {'C': 0.43014705882352944,\n",
       "  'E': 0.35294117647058826,\n",
       "  'H': 0.21691176470588236},\n",
       " 'pdb,4eic,A,#1': {'C': 0.41935483870967744,\n",
       "  'E': 0.021505376344086023,\n",
       "  'H': 0.5591397849462365},\n",
       " 'pdb,4i8g,A,#1': {'C': 0.5560538116591929,\n",
       "  'E': 0.34080717488789236,\n",
       "  'H': 0.1031390134529148},\n",
       " 'pdb,4i8h,A,#1': {'C': 0.5560538116591929,\n",
       "  'E': 0.34080717488789236,\n",
       "  'H': 0.1031390134529148}}"
      ]
     },
     "execution_count": 5,
     "metadata": {},
     "output_type": "execute_result"
    }
   ],
   "source": [
    "test_scratch.sspro_summary()"
   ]
  },
  {
   "cell_type": "markdown",
   "metadata": {},
   "source": [
    "##### Predicted secondary structure, 8 class"
   ]
  },
  {
   "cell_type": "code",
   "execution_count": 6,
   "metadata": {
    "collapsed": false
   },
   "outputs": [
    {
     "data": {
      "text/plain": [
       "{'pdb,3w5h,A,#1': {'B': 0.007352941176470588,\n",
       "  'C': 0.21323529411764705,\n",
       "  'E': 0.34558823529411764,\n",
       "  'G': 0.04411764705882353,\n",
       "  'H': 0.17279411764705882,\n",
       "  'I': 0.022058823529411766,\n",
       "  'S': 0.08088235294117647,\n",
       "  'T': 0.11397058823529412},\n",
       " 'pdb,4eic,A,#1': {'B': 0.021505376344086023,\n",
       "  'C': 0.13978494623655913,\n",
       "  'E': 0.0,\n",
       "  'G': 0.03225806451612903,\n",
       "  'H': 0.5268817204301075,\n",
       "  'I': 0.0,\n",
       "  'S': 0.10752688172043011,\n",
       "  'T': 0.17204301075268819},\n",
       " 'pdb,4i8g,A,#1': {'B': 0.017937219730941704,\n",
       "  'C': 0.2556053811659193,\n",
       "  'E': 0.32286995515695066,\n",
       "  'G': 0.03139013452914798,\n",
       "  'H': 0.07174887892376682,\n",
       "  'I': 0.0,\n",
       "  'S': 0.15246636771300448,\n",
       "  'T': 0.14798206278026907},\n",
       " 'pdb,4i8h,A,#1': {'B': 0.017937219730941704,\n",
       "  'C': 0.2556053811659193,\n",
       "  'E': 0.32286995515695066,\n",
       "  'G': 0.03139013452914798,\n",
       "  'H': 0.07174887892376682,\n",
       "  'I': 0.0,\n",
       "  'S': 0.15246636771300448,\n",
       "  'T': 0.14798206278026907}}"
      ]
     },
     "execution_count": 6,
     "metadata": {},
     "output_type": "execute_result"
    }
   ],
   "source": [
    "test_scratch.sspro8_summary()"
   ]
  },
  {
   "cell_type": "markdown",
   "metadata": {},
   "source": [
    "##### Predicted relative solvent accesibility (RSA), 25% cutoff"
   ]
  },
  {
   "cell_type": "code",
   "execution_count": 8,
   "metadata": {
    "collapsed": false
   },
   "outputs": [
    {
     "data": {
      "text/plain": [
       "{'pdb,3w5h,A,#1': {'buried': 0.4963235294117647,\n",
       "  'exposed': 0.5036764705882353},\n",
       " 'pdb,4eic,A,#1': {'buried': 0.3655913978494624,\n",
       "  'exposed': 0.6344086021505376},\n",
       " 'pdb,4i8g,A,#1': {'buried': 0.5560538116591929,\n",
       "  'exposed': 0.4439461883408072},\n",
       " 'pdb,4i8h,A,#1': {'buried': 0.5560538116591929,\n",
       "  'exposed': 0.4439461883408072}}"
      ]
     },
     "execution_count": 8,
     "metadata": {},
     "output_type": "execute_result"
    }
   ],
   "source": [
    "test_scratch.accpro_summary()"
   ]
  },
  {
   "cell_type": "markdown",
   "metadata": {},
   "source": [
    "##### Predicted relative solvent accesibility (RSA), variable cutoff"
   ]
  },
  {
   "cell_type": "code",
   "execution_count": 9,
   "metadata": {
    "collapsed": false
   },
   "outputs": [
    {
     "data": {
      "text/plain": [
       "{'pdb,3w5h,A,#1': {'buried': 0.6654411764705882,\n",
       "  'exposed': 0.33455882352941174},\n",
       " 'pdb,4eic,A,#1': {'buried': 0.5591397849462365,\n",
       "  'exposed': 0.44086021505376344},\n",
       " 'pdb,4i8g,A,#1': {'buried': 0.6771300448430493,\n",
       "  'exposed': 0.32286995515695066},\n",
       " 'pdb,4i8h,A,#1': {'buried': 0.6771300448430493,\n",
       "  'exposed': 0.32286995515695066}}"
      ]
     },
     "execution_count": 9,
     "metadata": {},
     "output_type": "execute_result"
    }
   ],
   "source": [
    "test_scratch.accpro20_summary(cutoff=35)"
   ]
  },
  {
   "cell_type": "code",
   "execution_count": null,
   "metadata": {
    "collapsed": true
   },
   "outputs": [],
   "source": []
  }
 ],
 "metadata": {
  "anaconda-cloud": {},
  "kernelspec": {
   "display_name": "Python [default]",
   "language": "python",
   "name": "python3"
  },
  "language_info": {
   "codemirror_mode": {
    "name": "ipython",
    "version": 3
   },
   "file_extension": ".py",
   "mimetype": "text/x-python",
   "name": "python",
   "nbconvert_exporter": "python",
   "pygments_lexer": "ipython3",
   "version": "3.5.2"
  }
 },
 "nbformat": 4,
 "nbformat_minor": 1
}
