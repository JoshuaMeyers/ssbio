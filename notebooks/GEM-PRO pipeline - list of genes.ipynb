{
 "cells": [
  {
   "cell_type": "markdown",
   "metadata": {},
   "source": [
    "# README\n",
    "\n",
    "This notebook gives an example of how to run the GEM-PRO pipeline on a **list of gene IDs** in Python 2.\n",
    "\n",
    "### Installation\n",
    "\n",
    "See: https://github.com/nmih/ssbio/blob/master/README.md"
   ]
  },
  {
   "cell_type": "code",
   "execution_count": 1,
   "metadata": {
    "collapsed": false
   },
   "outputs": [],
   "source": [
    "# Import the GEM-PRO class\n",
    "from ssbio.gempro.pipeline import GEMPRO"
   ]
  },
  {
   "cell_type": "markdown",
   "metadata": {},
   "source": [
    "## Logs\n",
    "\n",
    "The ssbio package displays logging messages for various parts of the pipeline. Set the logging level to either of the following to be notified of messages of varying importance:\n",
    "- CRITICAL\n",
    "    - Only really important messages shown, although in most cases an exception is thrown\n",
    "- ERROR\n",
    "    - Major errors\n",
    "- WARNING\n",
    "    - Warnings that don't affect running of the pipeline\n",
    "- INFO\n",
    "    - Info such as the number of structures mapped per gene\n",
    "- DEBUG\n",
    "    - Really detailed information that will print out a lot of stuff"
   ]
  },
  {
   "cell_type": "code",
   "execution_count": 2,
   "metadata": {
    "collapsed": true
   },
   "outputs": [],
   "source": [
    "# Getting logs to work in jupyter\n",
    "# https://github.com/ipython/ipykernel/issues/111\n",
    "\n",
    "# Create logger\n",
    "import sys\n",
    "import logging\n",
    "logger = logging.getLogger()\n",
    "# Create STDERR handler\n",
    "handler = logging.StreamHandler(sys.stderr)\n",
    "# Create formatter and add it to the handler\n",
    "formatter = logging.Formatter('%(name)s - %(levelname)s - %(message)s')\n",
    "handler.setFormatter(formatter)\n",
    "# Set STDERR handler as the only handler \n",
    "logger.handlers = [handler]\n",
    "# Hide most requests messages\n",
    "logging.getLogger(\"requests\").setLevel(logging.WARNING)\n",
    "logging.getLogger(\"urllib3\").setLevel(logging.WARNING)\n",
    "# Show multiple outputs of an IPython cell\n",
    "from IPython.core.interactiveshell import InteractiveShell\n",
    "InteractiveShell.ast_node_interactivity = \"all\"\n",
    "\n",
    "########### SET YOUR LOGGING LEVEL HERE ###########\n",
    "logger.setLevel(logging.INFO)\n",
    "handler.setLevel(logging.INFO)"
   ]
  },
  {
   "cell_type": "markdown",
   "metadata": {},
   "source": [
    "## Initialization of the project\n",
    "\n",
    "Set these three things:\n",
    "\n",
    "- GEM_NAME\n",
    "    - Your project name\n",
    "- ROOT_DIR\n",
    "    - The directory where the GEM_NAME folder will be created\n",
    "- GENES\n",
    "    - Your list of gene IDs\n",
    "    \n",
    "A directory will be created in ROOT_DIR named after your GEM_NAME. The folders are:\n",
    "```\n",
    "    .\n",
    "    ├── data  # where dataframes are stored\n",
    "    ├── figures  # where figures are stored\n",
    "    ├── model  # where SBML and GEM-PRO models are stored\n",
    "    ├── notebooks  # location of any ipython notebooks for analyses\n",
    "    ├── sequences  # sequences are stored here, in gene specific folders\n",
    "    │   ├── <gene_id1>\n",
    "    │   │   └── sequence.fasta\n",
    "    │   ├── <gene_id2>\n",
    "    │   └── ...\n",
    "    └── structures\n",
    "        ├── by_gene  # structures are stored here, in gene specific folders\n",
    "        │   ├── <gene_id1>\n",
    "        │   │   └── 1abc.pdb\n",
    "        │   ├── <gene_id2>\n",
    "        │   └── ...\n",
    "        └── by_complex  # complexes for reactions are stored here (in progress)\n",
    "```"
   ]
  },
  {
   "cell_type": "code",
   "execution_count": 3,
   "metadata": {
    "collapsed": true
   },
   "outputs": [],
   "source": [
    "GEM_NAME = 'py2test'\n",
    "\n",
    "ROOT_DIR = '/home/nathan/projects_unsynced/'\n",
    "\n",
    "GENES = ['b0761','b0889','b0995','b1013','b1014','b1040','b1130','b1187','b1221','b1299','b1323']"
   ]
  },
  {
   "cell_type": "code",
   "execution_count": 4,
   "metadata": {
    "collapsed": false
   },
   "outputs": [
    {
     "name": "stderr",
     "output_type": "stream",
     "text": [
      "ssbio.gempro.pipeline - INFO - Number of genes: 11\n"
     ]
    }
   ],
   "source": [
    "# Create the GEM-PRO project\n",
    "my_gempro = GEMPRO(gem_name=GEM_NAME, root_dir=ROOT_DIR, genes_list=GENES)"
   ]
  },
  {
   "cell_type": "markdown",
   "metadata": {},
   "source": [
    "## Mapping gene ID -> sequence\n",
    "\n",
    "**You only need to map gene IDs using one service.** However you can try both if some genes don't map in one service and map in another!\n",
    "\n",
    "### kegg_mapping_and_metadata\n",
    "- kegg_organism_code\n",
    "    - See the full list of organisms here: http://www.genome.jp/kegg/catalog/org_list.html\n",
    "    - E. coli MG1655 is \"eco\"\n",
    "\n",
    "### uniprot_mapping_and_metadata\n",
    "You can try mapping your genes using the actual service here:\n",
    "http://www.uniprot.org/uploadlists/\n",
    "\n",
    "- model_gene_source\n",
    "    - Here is a list of the gene IDs that can be mapped to UniProt IDs: http://www.uniprot.org/help/programmatic_access#id_mapping_examples\n",
    "    - E. coli b-numbers in this example are of the source \"ENSEMBLGENOME_ID\"\n",
    "\n",
    "### set_representative_sequence\n",
    "This function allows you to consolidate sources of ID mapping (currently KEGG and UniProt).\n",
    "\n",
    "-------------------\n",
    "\n",
    "\n",
    "## Saved information:\n",
    "\n",
    "### Gene annotations\n",
    "Check out the gene annotations saved directly into the gene. These are COBRApy Gene objects!\n",
    "    - my_gempro.genes.get_by_id('b0995').annotation\n",
    "\n",
    "### DataFrames\n",
    "Check out the dataframes to see a summary of results.\n",
    "    - my_gempro.df_uniprot_metadata\n",
    "    - my_gempro.df_kegg_metadata\n",
    "    - my_gempro.df_sequence_mapping"
   ]
  },
  {
   "cell_type": "code",
   "execution_count": 5,
   "metadata": {
    "collapsed": false
   },
   "outputs": [
    {
     "data": {
      "text/plain": [
       "{'sequence': {'kegg': {'kegg_id': None,\n",
       "   'metadata_file': None,\n",
       "   'pdbs': [],\n",
       "   'seq_file': None,\n",
       "   'seq_len': 0,\n",
       "   'uniprot_acc': None},\n",
       "  'representative': {'kegg_id': None,\n",
       "   'metadata_file': None,\n",
       "   'pdbs': [],\n",
       "   'seq_file': None,\n",
       "   'seq_len': 0,\n",
       "   'uniprot_acc': None},\n",
       "  'uniprot': {}},\n",
       " 'structure': {'homology': {},\n",
       "  'pdb': OrderedDict(),\n",
       "  'representative': {'clean_pdb_file': None,\n",
       "   'original_pdb_file': None,\n",
       "   'seq_coverage': 0,\n",
       "   'structure_id': None}}}"
      ]
     },
     "execution_count": 5,
     "metadata": {},
     "output_type": "execute_result"
    }
   ],
   "source": [
    "# Looking at the Gene object - empty for now\n",
    "example_gene = my_gempro.genes[0]\n",
    "example_gene.annotation"
   ]
  },
  {
   "cell_type": "code",
   "execution_count": 6,
   "metadata": {
    "collapsed": false
   },
   "outputs": [
    {
     "name": "stderr",
     "output_type": "stream",
     "text": [
      "root - INFO - getUserAgent: Begin\n",
      "root - INFO - getUserAgent: user_agent: EBI-Sample-Client/ (services.pyc; Python 2.7.12; Linux) Python-requests/2.9.1\n",
      "root - INFO - getUserAgent: End\n",
      "100%|██████████| 11/11 [00:00<00:00, 2526.41it/s]\n",
      "ssbio.gempro.pipeline - INFO - Created UniProt metadata dataframe. See the \"df_uniprot_metadata\" attribute.\n"
     ]
    }
   ],
   "source": [
    "# UniProt mapping of gene_id -> uniprot_id\n",
    "my_gempro.uniprot_mapping_and_metadata(model_gene_source='ENSEMBLGENOME_ID')"
   ]
  },
  {
   "cell_type": "code",
   "execution_count": 7,
   "metadata": {
    "collapsed": false
   },
   "outputs": [
    {
     "name": "stderr",
     "output_type": "stream",
     "text": [
      "100%|██████████| 11/11 [00:00<00:00, 1323.54it/s]\n",
      "ssbio.gempro.pipeline - INFO - Created KEGG metadata dataframe. See the \"df_kegg_metadata\" attribute.\n"
     ]
    }
   ],
   "source": [
    "# KEGG mapping of gene ids\n",
    "my_gempro.kegg_mapping_and_metadata(kegg_organism_code='eco')"
   ]
  },
  {
   "cell_type": "code",
   "execution_count": 8,
   "metadata": {
    "collapsed": false
   },
   "outputs": [
    {
     "name": "stderr",
     "output_type": "stream",
     "text": [
      "ssbio.gempro.pipeline - INFO - Created sequence mapping dataframe. Inspect the \"df_sequence_mapping\" attribute for more info.\n"
     ]
    }
   ],
   "source": [
    "# Consolidate mappings sources\n",
    "my_gempro.set_representative_sequence()"
   ]
  },
  {
   "cell_type": "code",
   "execution_count": 9,
   "metadata": {
    "collapsed": false
   },
   "outputs": [
    {
     "data": {
      "text/html": [
       "<div>\n",
       "<table border=\"1\" class=\"dataframe\">\n",
       "  <thead>\n",
       "    <tr style=\"text-align: right;\">\n",
       "      <th></th>\n",
       "      <th>gene</th>\n",
       "      <th>uniprot_acc</th>\n",
       "      <th>kegg_id</th>\n",
       "      <th>seq_len</th>\n",
       "      <th>pdbs</th>\n",
       "      <th>seq_file</th>\n",
       "      <th>metadata_file</th>\n",
       "    </tr>\n",
       "  </thead>\n",
       "  <tbody>\n",
       "    <tr>\n",
       "      <th>0</th>\n",
       "      <td>b1323</td>\n",
       "      <td>P07604</td>\n",
       "      <td>eco:b1323</td>\n",
       "      <td>513</td>\n",
       "      <td>[2JHE]</td>\n",
       "      <td>eco-b1323.faa</td>\n",
       "      <td>eco-b1323.kegg</td>\n",
       "    </tr>\n",
       "    <tr>\n",
       "      <th>1</th>\n",
       "      <td>b0995</td>\n",
       "      <td>P38684</td>\n",
       "      <td>eco:b0995</td>\n",
       "      <td>230</td>\n",
       "      <td>[1ZGZ]</td>\n",
       "      <td>eco-b0995.faa</td>\n",
       "      <td>eco-b0995.kegg</td>\n",
       "    </tr>\n",
       "    <tr>\n",
       "      <th>2</th>\n",
       "      <td>b0761</td>\n",
       "      <td>P0A9G8</td>\n",
       "      <td>eco:b0761</td>\n",
       "      <td>262</td>\n",
       "      <td>[1B9M, 1H9S, 1B9N, 1O7L, 1H9R]</td>\n",
       "      <td>eco-b0761.faa</td>\n",
       "      <td>eco-b0761.kegg</td>\n",
       "    </tr>\n",
       "    <tr>\n",
       "      <th>3</th>\n",
       "      <td>b1221</td>\n",
       "      <td>P0AF28</td>\n",
       "      <td>eco:b1221</td>\n",
       "      <td>216</td>\n",
       "      <td>[1JE8, 1A04, 1ZG1, 1ZG5, 1RNL]</td>\n",
       "      <td>eco-b1221.faa</td>\n",
       "      <td>eco-b1221.kegg</td>\n",
       "    </tr>\n",
       "    <tr>\n",
       "      <th>4</th>\n",
       "      <td>b1299</td>\n",
       "      <td>P0A9U6</td>\n",
       "      <td>eco:b1299</td>\n",
       "      <td>185</td>\n",
       "      <td>NaN</td>\n",
       "      <td>eco-b1299.faa</td>\n",
       "      <td>eco-b1299.kegg</td>\n",
       "    </tr>\n",
       "  </tbody>\n",
       "</table>\n",
       "</div>"
      ],
      "text/plain": [
       "    gene uniprot_acc    kegg_id  seq_len                            pdbs  \\\n",
       "0  b1323      P07604  eco:b1323      513                          [2JHE]   \n",
       "1  b0995      P38684  eco:b0995      230                          [1ZGZ]   \n",
       "2  b0761      P0A9G8  eco:b0761      262  [1B9M, 1H9S, 1B9N, 1O7L, 1H9R]   \n",
       "3  b1221      P0AF28  eco:b1221      216  [1JE8, 1A04, 1ZG1, 1ZG5, 1RNL]   \n",
       "4  b1299      P0A9U6  eco:b1299      185                             NaN   \n",
       "\n",
       "        seq_file   metadata_file  \n",
       "0  eco-b1323.faa  eco-b1323.kegg  \n",
       "1  eco-b0995.faa  eco-b0995.kegg  \n",
       "2  eco-b0761.faa  eco-b0761.kegg  \n",
       "3  eco-b1221.faa  eco-b1221.kegg  \n",
       "4  eco-b1299.faa  eco-b1299.kegg  "
      ]
     },
     "execution_count": 9,
     "metadata": {},
     "output_type": "execute_result"
    }
   ],
   "source": [
    "# Looking at the KEGG dataframe\n",
    "my_gempro.df_kegg_metadata.head()"
   ]
  },
  {
   "cell_type": "code",
   "execution_count": 10,
   "metadata": {
    "collapsed": false
   },
   "outputs": [
    {
     "data": {
      "text/plain": [
       "{'kegg': {'kegg_id': 'eco:b0995',\n",
       "  'metadata_file': 'eco-b0995.kegg',\n",
       "  'pdbs': [u'1ZGZ'],\n",
       "  'seq_file': 'eco-b0995.faa',\n",
       "  'seq_len': 230,\n",
       "  'uniprot_acc': u'P38684'},\n",
       " 'representative': {'kegg_id': ['ecj:JW0980', 'eco:b0995'],\n",
       "  'metadata_file': 'P38684.txt',\n",
       "  'pdbs': ['1ZGZ'],\n",
       "  'seq_file': 'P38684.fasta',\n",
       "  'seq_len': 230,\n",
       "  'uniprot_acc': u'P38684'},\n",
       " 'uniprot': {u'P38684': {'description': ['TorCAD operon transcriptional regulatory protein TorR'],\n",
       "   'entry_version': '2016-10-05',\n",
       "   'gene': 'b0995',\n",
       "   'gene_name': 'torR',\n",
       "   'kegg_id': ['ecj:JW0980', 'eco:b0995'],\n",
       "   'metadata_file': 'P38684.txt',\n",
       "   'pdbs': ['1ZGZ'],\n",
       "   'pfam': ['PF00072', 'PF00486'],\n",
       "   'refseq': ['NP_415515.1', 'NC_000913.3', 'WP_001120125.1', 'NZ_LN832404.1'],\n",
       "   'reviewed': True,\n",
       "   'seq_file': 'P38684.fasta',\n",
       "   'seq_len': 230,\n",
       "   'seq_version': '1997-11-01',\n",
       "   'uniprot_acc': u'P38684'}}}"
      ]
     },
     "execution_count": 10,
     "metadata": {},
     "output_type": "execute_result"
    }
   ],
   "source": [
    "# Looking at information saved per gene\n",
    "my_gempro.genes.get_by_id('b0995').annotation['sequence']"
   ]
  },
  {
   "cell_type": "markdown",
   "metadata": {},
   "source": [
    "## Mapping sequence -> structure\n",
    "\n",
    "There are two ways to map sequence to structure:\n",
    "1. Simply use the UniProt ID and their automatic mappings to the PDB\n",
    "2. BLAST the sequence to the PDB\n",
    "\n",
    "### map_uniprot_to_pdb\n",
    "This uses a service from the PDB to return a rank ordered list of PDBs that match a UniProt ID. \n",
    "- seq_ident_cutoff (from 0 to 1)\n",
    "    - Provide the seq_ident_cutoff as a percentage to filter for structures with only a percent identity above the cutoff.\n",
    "    - **Warning:** if you set the seq_ident_cutoff too high you risk filtering out PDBs that do match the sequence, but are just missing large portions of it.\n",
    "\n",
    "### blast_seqs_to_pdb\n",
    "This will BLAST the representative sequence against the entire PDB, and return significant hits. This will however return hits in other organisms, which may not be ideal.\n",
    "- all_genes\n",
    "    - Set to True if you want all genes and their sequences BLASTed\n",
    "    - Set to False if you only want to BLAST sequences that did not have any PDBs from the function map_uniprot_to_pdb\n",
    "- seq_ident_cutoff\n",
    "    - Same as above\n",
    "\n",
    "-------------------\n",
    "\n",
    "## Saved information:\n",
    "\n",
    "### Gene annotations\n",
    "    - my_gempro.genes.get_by_id('b0995').annotation['structure']['pdb']\n",
    "\n",
    "### DataFrames\n",
    "    - my_gempro.df_pdb_ranking\n",
    "    - my_gempro.df_pdb_blast"
   ]
  },
  {
   "cell_type": "code",
   "execution_count": 11,
   "metadata": {
    "collapsed": false
   },
   "outputs": [
    {
     "name": "stderr",
     "output_type": "stream",
     "text": [
      "100%|██████████| 11/11 [00:03<00:00,  3.28it/s]\n",
      "ssbio.gempro.pipeline - INFO - Completed UniProt -> best PDB mapping. See the \"df_pdb_ranking\" attribute.\n"
     ]
    }
   ],
   "source": [
    "# Mapping using the PDBe best_structures service\n",
    "my_gempro.map_uniprot_to_pdb(seq_ident_cutoff=.3)"
   ]
  },
  {
   "cell_type": "code",
   "execution_count": 12,
   "metadata": {
    "collapsed": false
   },
   "outputs": [
    {
     "name": "stderr",
     "output_type": "stream",
     "text": [
      "  0%|          | 0/11 [00:00<?, ?it/s]ssbio.gempro.pipeline - INFO - b0995: Adding 28 PDBs from BLAST results.\n",
      "ssbio.gempro.pipeline - INFO - b1221: Adding 1 PDBs from BLAST results.\n",
      "ssbio.gempro.pipeline - INFO - b1187: Adding 11 PDBs from BLAST results.\n",
      "ssbio.gempro.pipeline - INFO - b1130: Adding 32 PDBs from BLAST results.\n",
      "ssbio.gempro.pipeline - INFO - b1014: Adding 11 PDBs from BLAST results.\n",
      "ssbio.gempro.pipeline - INFO - b1013: Adding 2 PDBs from BLAST results.\n",
      "ssbio.gempro.pipeline - INFO - b0889: Adding 25 PDBs from BLAST results.\n",
      "100%|██████████| 11/11 [00:00<00:00, 180.51it/s]\n",
      "ssbio.gempro.pipeline - INFO - Completed sequence --> PDB BLAST. See the \"df_pdb_blast\" attribute.\n"
     ]
    }
   ],
   "source": [
    "# Mapping using BLAST\n",
    "my_gempro.blast_seqs_to_pdb(all_genes=True, seq_ident_cutoff=.3)"
   ]
  },
  {
   "cell_type": "code",
   "execution_count": 13,
   "metadata": {
    "collapsed": false
   },
   "outputs": [
    {
     "data": {
      "text/html": [
       "<div>\n",
       "<table border=\"1\" class=\"dataframe\">\n",
       "  <thead>\n",
       "    <tr style=\"text-align: right;\">\n",
       "      <th></th>\n",
       "      <th>gene</th>\n",
       "      <th>uniprot_acc</th>\n",
       "      <th>pdb_id</th>\n",
       "      <th>pdb_chain_id</th>\n",
       "      <th>experimental_method</th>\n",
       "      <th>resolution</th>\n",
       "      <th>seq_coverage</th>\n",
       "      <th>release_date</th>\n",
       "      <th>taxonomy_id</th>\n",
       "      <th>pdb_start</th>\n",
       "      <th>pdb_end</th>\n",
       "      <th>unp_start</th>\n",
       "      <th>unp_end</th>\n",
       "      <th>rank</th>\n",
       "    </tr>\n",
       "  </thead>\n",
       "  <tbody>\n",
       "    <tr>\n",
       "      <th>0</th>\n",
       "      <td>b1323</td>\n",
       "      <td>P07604</td>\n",
       "      <td>2jhe</td>\n",
       "      <td>A</td>\n",
       "      <td>X-ray diffraction</td>\n",
       "      <td>2.3</td>\n",
       "      <td>0.37</td>\n",
       "      <td>2008-06-24</td>\n",
       "      <td>83333</td>\n",
       "      <td>1</td>\n",
       "      <td>190</td>\n",
       "      <td>1</td>\n",
       "      <td>190</td>\n",
       "      <td>1</td>\n",
       "    </tr>\n",
       "    <tr>\n",
       "      <th>1</th>\n",
       "      <td>b1323</td>\n",
       "      <td>P07604</td>\n",
       "      <td>2jhe</td>\n",
       "      <td>B</td>\n",
       "      <td>X-ray diffraction</td>\n",
       "      <td>2.3</td>\n",
       "      <td>0.37</td>\n",
       "      <td>2008-06-24</td>\n",
       "      <td>83333</td>\n",
       "      <td>1</td>\n",
       "      <td>190</td>\n",
       "      <td>1</td>\n",
       "      <td>190</td>\n",
       "      <td>2</td>\n",
       "    </tr>\n",
       "    <tr>\n",
       "      <th>2</th>\n",
       "      <td>b1323</td>\n",
       "      <td>P07604</td>\n",
       "      <td>2jhe</td>\n",
       "      <td>C</td>\n",
       "      <td>X-ray diffraction</td>\n",
       "      <td>2.3</td>\n",
       "      <td>0.37</td>\n",
       "      <td>2008-06-24</td>\n",
       "      <td>83333</td>\n",
       "      <td>1</td>\n",
       "      <td>190</td>\n",
       "      <td>1</td>\n",
       "      <td>190</td>\n",
       "      <td>3</td>\n",
       "    </tr>\n",
       "    <tr>\n",
       "      <th>3</th>\n",
       "      <td>b1323</td>\n",
       "      <td>P07604</td>\n",
       "      <td>2jhe</td>\n",
       "      <td>D</td>\n",
       "      <td>X-ray diffraction</td>\n",
       "      <td>2.3</td>\n",
       "      <td>0.37</td>\n",
       "      <td>2008-06-24</td>\n",
       "      <td>83333</td>\n",
       "      <td>1</td>\n",
       "      <td>190</td>\n",
       "      <td>1</td>\n",
       "      <td>190</td>\n",
       "      <td>4</td>\n",
       "    </tr>\n",
       "    <tr>\n",
       "      <th>4</th>\n",
       "      <td>b0995</td>\n",
       "      <td>P38684</td>\n",
       "      <td>1zgz</td>\n",
       "      <td>A</td>\n",
       "      <td>X-ray diffraction</td>\n",
       "      <td>1.8</td>\n",
       "      <td>0.53</td>\n",
       "      <td>2005-12-13</td>\n",
       "      <td>562</td>\n",
       "      <td>1</td>\n",
       "      <td>122</td>\n",
       "      <td>1</td>\n",
       "      <td>122</td>\n",
       "      <td>1</td>\n",
       "    </tr>\n",
       "  </tbody>\n",
       "</table>\n",
       "</div>"
      ],
      "text/plain": [
       "    gene uniprot_acc pdb_id pdb_chain_id experimental_method  resolution  \\\n",
       "0  b1323      P07604   2jhe            A   X-ray diffraction         2.3   \n",
       "1  b1323      P07604   2jhe            B   X-ray diffraction         2.3   \n",
       "2  b1323      P07604   2jhe            C   X-ray diffraction         2.3   \n",
       "3  b1323      P07604   2jhe            D   X-ray diffraction         2.3   \n",
       "4  b0995      P38684   1zgz            A   X-ray diffraction         1.8   \n",
       "\n",
       "   seq_coverage release_date  taxonomy_id  pdb_start  pdb_end  unp_start  \\\n",
       "0          0.37   2008-06-24        83333          1      190          1   \n",
       "1          0.37   2008-06-24        83333          1      190          1   \n",
       "2          0.37   2008-06-24        83333          1      190          1   \n",
       "3          0.37   2008-06-24        83333          1      190          1   \n",
       "4          0.53   2005-12-13          562          1      122          1   \n",
       "\n",
       "   unp_end  rank  \n",
       "0      190     1  \n",
       "1      190     2  \n",
       "2      190     3  \n",
       "3      190     4  \n",
       "4      122     1  "
      ]
     },
     "execution_count": 13,
     "metadata": {},
     "output_type": "execute_result"
    }
   ],
   "source": [
    "# Looking at the PDB ranking dataframe\n",
    "my_gempro.df_pdb_ranking.head()"
   ]
  },
  {
   "cell_type": "code",
   "execution_count": 14,
   "metadata": {
    "collapsed": false
   },
   "outputs": [
    {
     "data": {
      "text/plain": [
       "{'clean_pdb_file': None,\n",
       " 'original_pdb_file': None,\n",
       " 'seq_coverage': 0,\n",
       " 'structure_id': None}"
      ]
     },
     "execution_count": 14,
     "metadata": {},
     "output_type": "execute_result"
    }
   ],
   "source": [
    "my_gempro.genes.get_by_id('b1221').annotation['structure']['representative']"
   ]
  },
  {
   "cell_type": "code",
   "execution_count": 15,
   "metadata": {
    "collapsed": false
   },
   "outputs": [
    {
     "data": {
      "text/plain": [
       "OrderedDict([(u'1a04_A',\n",
       "              {'experimental_method': u'X-ray diffraction',\n",
       "               'pdb_chain_id': u'A',\n",
       "               'pdb_end': 215,\n",
       "               'pdb_id': u'1a04',\n",
       "               'pdb_start': 1,\n",
       "               'rank': 1,\n",
       "               'release_date': '1998-03-18',\n",
       "               'resolution': 2.2,\n",
       "               'seq_coverage': 0.995,\n",
       "               'taxonomy_id': 562,\n",
       "               'uniprot_acc': u'P0AF28',\n",
       "               'unp_end': 216,\n",
       "               'unp_start': 2}),\n",
       "             (u'1a04_B',\n",
       "              {'experimental_method': u'X-ray diffraction',\n",
       "               'pdb_chain_id': u'B',\n",
       "               'pdb_end': 215,\n",
       "               'pdb_id': u'1a04',\n",
       "               'pdb_start': 1,\n",
       "               'rank': 2,\n",
       "               'release_date': '1998-03-18',\n",
       "               'resolution': 2.2,\n",
       "               'seq_coverage': 0.995,\n",
       "               'taxonomy_id': 562,\n",
       "               'uniprot_acc': u'P0AF28',\n",
       "               'unp_end': 216,\n",
       "               'unp_start': 2}),\n",
       "             (u'1rnl_A',\n",
       "              {'experimental_method': u'X-ray diffraction',\n",
       "               'pdb_chain_id': u'A',\n",
       "               'pdb_end': 215,\n",
       "               'pdb_id': u'1rnl',\n",
       "               'pdb_start': 1,\n",
       "               'rank': 3,\n",
       "               'release_date': '1996-11-08',\n",
       "               'resolution': 2.4,\n",
       "               'seq_coverage': 0.995,\n",
       "               'taxonomy_id': 316407,\n",
       "               'uniprot_acc': u'P0AF28',\n",
       "               'unp_end': 216,\n",
       "               'unp_start': 2}),\n",
       "             (u'1je8_A',\n",
       "              {'experimental_method': u'X-ray diffraction',\n",
       "               'pdb_chain_id': u'A',\n",
       "               'pdb_end': 82,\n",
       "               'pdb_id': u'1je8',\n",
       "               'pdb_start': 13,\n",
       "               'rank': 4,\n",
       "               'release_date': '2002-09-27',\n",
       "               'resolution': 2.12,\n",
       "               'seq_coverage': 0.324,\n",
       "               'taxonomy_id': 562,\n",
       "               'uniprot_acc': u'P0AF28',\n",
       "               'unp_end': 216,\n",
       "               'unp_start': 147}),\n",
       "             (u'1je8_B',\n",
       "              {'experimental_method': u'X-ray diffraction',\n",
       "               'pdb_chain_id': u'B',\n",
       "               'pdb_end': 82,\n",
       "               'pdb_id': u'1je8',\n",
       "               'pdb_start': 13,\n",
       "               'rank': 5,\n",
       "               'release_date': '2002-09-27',\n",
       "               'resolution': 2.12,\n",
       "               'seq_coverage': 0.324,\n",
       "               'taxonomy_id': 562,\n",
       "               'uniprot_acc': u'P0AF28',\n",
       "               'unp_end': 216,\n",
       "               'unp_start': 147}),\n",
       "             (u'1je8_E',\n",
       "              {'experimental_method': u'X-ray diffraction',\n",
       "               'pdb_chain_id': u'E',\n",
       "               'pdb_end': 82,\n",
       "               'pdb_id': u'1je8',\n",
       "               'pdb_start': 13,\n",
       "               'rank': 6,\n",
       "               'release_date': '2002-09-27',\n",
       "               'resolution': 2.12,\n",
       "               'seq_coverage': 0.324,\n",
       "               'taxonomy_id': 562,\n",
       "               'uniprot_acc': u'P0AF28',\n",
       "               'unp_end': 216,\n",
       "               'unp_start': 147}),\n",
       "             (u'1je8_F',\n",
       "              {'experimental_method': u'X-ray diffraction',\n",
       "               'pdb_chain_id': u'F',\n",
       "               'pdb_end': 82,\n",
       "               'pdb_id': u'1je8',\n",
       "               'pdb_start': 13,\n",
       "               'rank': 7,\n",
       "               'release_date': '2002-09-27',\n",
       "               'resolution': 2.12,\n",
       "               'seq_coverage': 0.324,\n",
       "               'taxonomy_id': 562,\n",
       "               'uniprot_acc': u'P0AF28',\n",
       "               'unp_end': 216,\n",
       "               'unp_start': 147}),\n",
       "             (u'1zg1_A',\n",
       "              {'experimental_method': u'X-ray diffraction',\n",
       "               'pdb_chain_id': u'A',\n",
       "               'pdb_end': 82,\n",
       "               'pdb_id': u'1zg1',\n",
       "               'pdb_start': 13,\n",
       "               'rank': 8,\n",
       "               'release_date': '2005-11-22',\n",
       "               'resolution': 2.3,\n",
       "               'seq_coverage': 0.324,\n",
       "               'taxonomy_id': 562,\n",
       "               'uniprot_acc': u'P0AF28',\n",
       "               'unp_end': 216,\n",
       "               'unp_start': 147}),\n",
       "             (u'1zg1_B',\n",
       "              {'experimental_method': u'X-ray diffraction',\n",
       "               'pdb_chain_id': u'B',\n",
       "               'pdb_end': 82,\n",
       "               'pdb_id': u'1zg1',\n",
       "               'pdb_start': 13,\n",
       "               'rank': 9,\n",
       "               'release_date': '2005-11-22',\n",
       "               'resolution': 2.3,\n",
       "               'seq_coverage': 0.324,\n",
       "               'taxonomy_id': 562,\n",
       "               'uniprot_acc': u'P0AF28',\n",
       "               'unp_end': 216,\n",
       "               'unp_start': 147}),\n",
       "             (u'1zg1_E',\n",
       "              {'experimental_method': u'X-ray diffraction',\n",
       "               'pdb_chain_id': u'E',\n",
       "               'pdb_end': 82,\n",
       "               'pdb_id': u'1zg1',\n",
       "               'pdb_start': 13,\n",
       "               'rank': 10,\n",
       "               'release_date': '2005-11-22',\n",
       "               'resolution': 2.3,\n",
       "               'seq_coverage': 0.324,\n",
       "               'taxonomy_id': 562,\n",
       "               'uniprot_acc': u'P0AF28',\n",
       "               'unp_end': 216,\n",
       "               'unp_start': 147}),\n",
       "             (u'1zg1_F',\n",
       "              {'experimental_method': u'X-ray diffraction',\n",
       "               'pdb_chain_id': u'F',\n",
       "               'pdb_end': 82,\n",
       "               'pdb_id': u'1zg1',\n",
       "               'pdb_start': 13,\n",
       "               'rank': 11,\n",
       "               'release_date': '2005-11-22',\n",
       "               'resolution': 2.3,\n",
       "               'seq_coverage': 0.324,\n",
       "               'taxonomy_id': 562,\n",
       "               'uniprot_acc': u'P0AF28',\n",
       "               'unp_end': 216,\n",
       "               'unp_start': 147}),\n",
       "             (u'1zg5_A',\n",
       "              {'experimental_method': u'X-ray diffraction',\n",
       "               'pdb_chain_id': u'A',\n",
       "               'pdb_end': 82,\n",
       "               'pdb_id': u'1zg5',\n",
       "               'pdb_start': 13,\n",
       "               'rank': 12,\n",
       "               'release_date': '2005-11-22',\n",
       "               'resolution': 2.3,\n",
       "               'seq_coverage': 0.324,\n",
       "               'taxonomy_id': 562,\n",
       "               'uniprot_acc': u'P0AF28',\n",
       "               'unp_end': 216,\n",
       "               'unp_start': 147}),\n",
       "             (u'1zg5_B',\n",
       "              {'experimental_method': u'X-ray diffraction',\n",
       "               'pdb_chain_id': u'B',\n",
       "               'pdb_end': 82,\n",
       "               'pdb_id': u'1zg5',\n",
       "               'pdb_start': 13,\n",
       "               'rank': 13,\n",
       "               'release_date': '2005-11-22',\n",
       "               'resolution': 2.3,\n",
       "               'seq_coverage': 0.324,\n",
       "               'taxonomy_id': 562,\n",
       "               'uniprot_acc': u'P0AF28',\n",
       "               'unp_end': 216,\n",
       "               'unp_start': 147}),\n",
       "             (u'1zg5_E',\n",
       "              {'experimental_method': u'X-ray diffraction',\n",
       "               'pdb_chain_id': u'E',\n",
       "               'pdb_end': 82,\n",
       "               'pdb_id': u'1zg5',\n",
       "               'pdb_start': 13,\n",
       "               'rank': 14,\n",
       "               'release_date': '2005-11-22',\n",
       "               'resolution': 2.3,\n",
       "               'seq_coverage': 0.324,\n",
       "               'taxonomy_id': 562,\n",
       "               'uniprot_acc': u'P0AF28',\n",
       "               'unp_end': 216,\n",
       "               'unp_start': 147}),\n",
       "             (u'1zg5_F',\n",
       "              {'experimental_method': u'X-ray diffraction',\n",
       "               'pdb_chain_id': u'F',\n",
       "               'pdb_end': 82,\n",
       "               'pdb_id': u'1zg5',\n",
       "               'pdb_start': 13,\n",
       "               'rank': 15,\n",
       "               'release_date': '2005-11-22',\n",
       "               'resolution': 2.3,\n",
       "               'seq_coverage': 0.324,\n",
       "               'taxonomy_id': 562,\n",
       "               'uniprot_acc': u'P0AF28',\n",
       "               'unp_end': 216,\n",
       "               'unp_start': 147}),\n",
       "             ('4yn8_A',\n",
       "              {'blast_evalue': 2.54635e-18,\n",
       "               'blast_score': 221.0,\n",
       "               'pdb_chain_id': 'A',\n",
       "               'pdb_id': '4yn8',\n",
       "               'release_date': '2015-08-19',\n",
       "               'resolution': 1.8,\n",
       "               'seq_coverage': 0.3101851851851852,\n",
       "               'seq_num_coverage': 67,\n",
       "               'seq_num_similar': 109,\n",
       "               'seq_similar': 0.5046296296296297})])"
      ]
     },
     "execution_count": 15,
     "metadata": {},
     "output_type": "execute_result"
    }
   ],
   "source": [
    "# Looking at the information saved per gene\n",
    "my_gempro.genes.get_by_id('b1221').annotation['structure']['pdb']"
   ]
  },
  {
   "cell_type": "markdown",
   "metadata": {},
   "source": [
    "## Ranking and downloading structures\n",
    "\n",
    "### set_representative_structure\n",
    "- In progress -- will rank and set one structure as the best one.\n",
    "\n",
    "### pdb_downloader_and_metadata\n",
    "Download structures per gene\n",
    "- all_pdbs\n",
    "    - Set to True if you want to download all PDBs that were mapped to your gene (respecting the seq_ident_cutoff that may have been set)\n",
    "    - Set to False to download only the representative_structure\n",
    "    \n",
    "    \n",
    "**NOTE:** Parsing the file for metadata takes a while if it is a big structure, I'll be adding a function to save the header information in the future.\n",
    "    \n",
    "-------------------\n",
    "\n",
    "## Saved information:\n",
    "\n",
    "### Gene annotations\n",
    "    - my_gempro.genes.get_by_id('b0995').annotation['structure']['representative']\n",
    "\n",
    "### DataFrames\n",
    "    - my_gempro.df_pdb_metadata"
   ]
  },
  {
   "cell_type": "code",
   "execution_count": 16,
   "metadata": {
    "collapsed": false
   },
   "outputs": [
    {
     "name": "stderr",
     "output_type": "stream",
     "text": [
      "  0%|          | 0/11 [00:00<?, ?it/s]\n"
     ]
    },
    {
     "ename": "KeyError",
     "evalue": "u'2jhe'",
     "output_type": "error",
     "traceback": [
      "\u001b[1;31m---------------------------------------------------------------------------\u001b[0m",
      "\u001b[1;31mKeyError\u001b[0m                                  Traceback (most recent call last)",
      "\u001b[1;32m<ipython-input-16-2a37b348a9ca>\u001b[0m in \u001b[0;36m<module>\u001b[1;34m()\u001b[0m\n\u001b[0;32m      1\u001b[0m \u001b[1;31m# Download all mapped PDBs and gather the metadata\u001b[0m\u001b[1;33m\u001b[0m\u001b[1;33m\u001b[0m\u001b[0m\n\u001b[1;32m----> 2\u001b[1;33m \u001b[0mmy_gempro\u001b[0m\u001b[1;33m.\u001b[0m\u001b[0mpdb_downloader_and_metadata\u001b[0m\u001b[1;33m(\u001b[0m\u001b[0mall_pdbs\u001b[0m\u001b[1;33m=\u001b[0m\u001b[0mTrue\u001b[0m\u001b[1;33m)\u001b[0m\u001b[1;33m\u001b[0m\u001b[0m\n\u001b[0m",
      "\u001b[1;32m/home/nathan/projects_unsynced/ssbio/ssbio/gempro/pipeline.py\u001b[0m in \u001b[0;36mpdb_downloader_and_metadata\u001b[1;34m(self, all_pdbs, force_rerun)\u001b[0m\n\u001b[0;32m   1095\u001b[0m                 \u001b[0minfo_dict\u001b[0m\u001b[1;33m[\u001b[0m\u001b[1;34m'pdb_file'\u001b[0m\u001b[1;33m]\u001b[0m \u001b[1;33m=\u001b[0m \u001b[0mop\u001b[0m\u001b[1;33m.\u001b[0m\u001b[0mbasename\u001b[0m\u001b[1;33m(\u001b[0m\u001b[0mpdb_file\u001b[0m\u001b[1;33m)\u001b[0m\u001b[1;33m\u001b[0m\u001b[0m\n\u001b[0;32m   1096\u001b[0m                 \u001b[0minfo_dict\u001b[0m\u001b[1;33m[\u001b[0m\u001b[1;34m'mmcif_file'\u001b[0m\u001b[1;33m]\u001b[0m \u001b[1;33m=\u001b[0m \u001b[0mop\u001b[0m\u001b[1;33m.\u001b[0m\u001b[0mbasename\u001b[0m\u001b[1;33m(\u001b[0m\u001b[0mcif_file\u001b[0m\u001b[1;33m)\u001b[0m\u001b[1;33m\u001b[0m\u001b[0m\n\u001b[1;32m-> 1097\u001b[1;33m                 \u001b[0mg\u001b[0m\u001b[1;33m.\u001b[0m\u001b[0mannotation\u001b[0m\u001b[1;33m[\u001b[0m\u001b[1;34m'structure'\u001b[0m\u001b[1;33m]\u001b[0m\u001b[1;33m[\u001b[0m\u001b[1;34m'pdb'\u001b[0m\u001b[1;33m]\u001b[0m\u001b[1;33m[\u001b[0m\u001b[0mp\u001b[0m\u001b[1;33m]\u001b[0m\u001b[1;33m.\u001b[0m\u001b[0mupdate\u001b[0m\u001b[1;33m(\u001b[0m\u001b[0minfo_dict\u001b[0m\u001b[1;33m)\u001b[0m\u001b[1;33m\u001b[0m\u001b[0m\n\u001b[0m\u001b[0;32m   1098\u001b[0m \u001b[1;33m\u001b[0m\u001b[0m\n\u001b[0;32m   1099\u001b[0m                 \u001b[0minfo_dict\u001b[0m\u001b[1;33m[\u001b[0m\u001b[1;34m'gene'\u001b[0m\u001b[1;33m]\u001b[0m \u001b[1;33m=\u001b[0m \u001b[0mgene_id\u001b[0m\u001b[1;33m\u001b[0m\u001b[0m\n",
      "\u001b[1;31mKeyError\u001b[0m: u'2jhe'"
     ]
    }
   ],
   "source": [
    "# Download all mapped PDBs and gather the metadata\n",
    "my_gempro.pdb_downloader_and_metadata(all_pdbs=True)"
   ]
  },
  {
   "cell_type": "code",
   "execution_count": 16,
   "metadata": {
    "collapsed": false
   },
   "outputs": [
    {
     "data": {
      "text/html": [
       "<div>\n",
       "<table border=\"1\" class=\"dataframe\">\n",
       "  <thead>\n",
       "    <tr style=\"text-align: right;\">\n",
       "      <th></th>\n",
       "      <th>gene</th>\n",
       "      <th>organism</th>\n",
       "      <th>experiment</th>\n",
       "      <th>resolution</th>\n",
       "      <th>chemicals</th>\n",
       "      <th>pdb_file</th>\n",
       "      <th>mmcif_file</th>\n",
       "    </tr>\n",
       "  </thead>\n",
       "  <tbody>\n",
       "    <tr>\n",
       "      <th>0</th>\n",
       "      <td>b1323</td>\n",
       "      <td>ESCHERICHIA COLI</td>\n",
       "      <td>X-RAY DIFFRACTION</td>\n",
       "      <td>2.30</td>\n",
       "      <td>[AE3, PG4, SO4]</td>\n",
       "      <td>2jhe.pdb</td>\n",
       "      <td>2jhe.cif</td>\n",
       "    </tr>\n",
       "    <tr>\n",
       "      <th>1</th>\n",
       "      <td>b0995</td>\n",
       "      <td>ESCHERICHIA COLI STR. K-12 SUBSTR. MG1655</td>\n",
       "      <td>X-RAY DIFFRACTION</td>\n",
       "      <td>3.30</td>\n",
       "      <td>[TBR]</td>\n",
       "      <td>4b09.pdb</td>\n",
       "      <td>4b09.cif</td>\n",
       "    </tr>\n",
       "    <tr>\n",
       "      <th>2</th>\n",
       "      <td>b0995</td>\n",
       "      <td>Klebsiella pneumoniae</td>\n",
       "      <td>X-RAY DIFFRACTION</td>\n",
       "      <td>3.80</td>\n",
       "      <td>[DA, DT, DC, DG, BEF, MG]</td>\n",
       "      <td>4s05.pdb</td>\n",
       "      <td>4s05.cif</td>\n",
       "    </tr>\n",
       "    <tr>\n",
       "      <th>3</th>\n",
       "      <td>b0995</td>\n",
       "      <td>Klebsiella pneumoniae</td>\n",
       "      <td>X-RAY DIFFRACTION</td>\n",
       "      <td>3.20</td>\n",
       "      <td>[DA, DT, DC, DG, BEF, MG]</td>\n",
       "      <td>4s04.pdb</td>\n",
       "      <td>4s04.cif</td>\n",
       "    </tr>\n",
       "    <tr>\n",
       "      <th>4</th>\n",
       "      <td>b0995</td>\n",
       "      <td>Escherichia coli</td>\n",
       "      <td>X-RAY DIFFRACTION</td>\n",
       "      <td>1.80</td>\n",
       "      <td>[SO4, GOL]</td>\n",
       "      <td>1zgz.pdb</td>\n",
       "      <td>1zgz.cif</td>\n",
       "    </tr>\n",
       "  </tbody>\n",
       "</table>\n",
       "</div>"
      ],
      "text/plain": [
       "    gene                                   organism         experiment  \\\n",
       "0  b1323                           ESCHERICHIA COLI  X-RAY DIFFRACTION   \n",
       "1  b0995  ESCHERICHIA COLI STR. K-12 SUBSTR. MG1655  X-RAY DIFFRACTION   \n",
       "2  b0995                      Klebsiella pneumoniae  X-RAY DIFFRACTION   \n",
       "3  b0995                      Klebsiella pneumoniae  X-RAY DIFFRACTION   \n",
       "4  b0995                           Escherichia coli  X-RAY DIFFRACTION   \n",
       "\n",
       "  resolution                  chemicals  pdb_file mmcif_file  \n",
       "0       2.30            [AE3, PG4, SO4]  2jhe.pdb   2jhe.cif  \n",
       "1       3.30                      [TBR]  4b09.pdb   4b09.cif  \n",
       "2       3.80  [DA, DT, DC, DG, BEF, MG]  4s05.pdb   4s05.cif  \n",
       "3       3.20  [DA, DT, DC, DG, BEF, MG]  4s04.pdb   4s04.cif  \n",
       "4       1.80                 [SO4, GOL]  1zgz.pdb   1zgz.cif  "
      ]
     },
     "execution_count": 16,
     "metadata": {},
     "output_type": "execute_result"
    }
   ],
   "source": [
    "# Look at the summary of structures\n",
    "my_gempro.df_pdb_metadata.head()"
   ]
  },
  {
   "cell_type": "code",
   "execution_count": 17,
   "metadata": {
    "collapsed": false
   },
   "outputs": [
    {
     "data": {
      "text/plain": [
       "{'1ys6': {'chemicals': ['CA', 'GOL'],\n",
       "  'experiment': 'X-RAY DIFFRACTION',\n",
       "  'gene': 'b0995',\n",
       "  'mmcif_file': '1ys6.cif',\n",
       "  'organism': 'Mycobacterium tuberculosis',\n",
       "  'pdb_file': '1ys6.pdb',\n",
       "  'resolution': '1.77'},\n",
       " '1ys7': {'chemicals': ['MG', 'ACT', 'TRS', 'GOL'],\n",
       "  'experiment': 'X-RAY DIFFRACTION',\n",
       "  'gene': 'b0995',\n",
       "  'mmcif_file': '1ys7.cif',\n",
       "  'organism': 'Mycobacterium tuberculosis',\n",
       "  'pdb_file': '1ys7.pdb',\n",
       "  'resolution': '1.58'},\n",
       " u'1zgz': {'chemicals': ['SO4', 'GOL'],\n",
       "  'experiment': 'X-RAY DIFFRACTION',\n",
       "  'gene': 'b0995',\n",
       "  'mmcif_file': '1zgz.cif',\n",
       "  'organism': 'Escherichia coli',\n",
       "  'pdb_file': '1zgz.pdb',\n",
       "  'resolution': '1.80'},\n",
       " '2gwr': {'chemicals': ['CA', 'GOL'],\n",
       "  'experiment': 'X-RAY DIFFRACTION',\n",
       "  'gene': 'b0995',\n",
       "  'mmcif_file': '2gwr.cif',\n",
       "  'organism': 'Mycobacterium tuberculosis',\n",
       "  'pdb_file': '2gwr.pdb',\n",
       "  'resolution': '2.100'},\n",
       " '2oqr': {'chemicals': ['ACT', 'LA', 'BME'],\n",
       "  'experiment': 'X-RAY DIFFRACTION',\n",
       "  'gene': 'b0995',\n",
       "  'mmcif_file': '2oqr.cif',\n",
       "  'organism': 'Mycobacterium tuberculosis H37Rv',\n",
       "  'pdb_file': '2oqr.pdb',\n",
       "  'resolution': '2.030'},\n",
       " '4b09': {'chemicals': ['TBR'],\n",
       "  'experiment': 'X-RAY DIFFRACTION',\n",
       "  'gene': 'b0995',\n",
       "  'mmcif_file': '4b09.cif',\n",
       "  'organism': 'ESCHERICHIA COLI STR. K-12 SUBSTR. MG1655',\n",
       "  'pdb_file': '4b09.pdb',\n",
       "  'resolution': '3.30'},\n",
       " '4s04': {'chemicals': ['DA', 'DT', 'DC', 'DG', 'BEF', 'MG'],\n",
       "  'experiment': 'X-RAY DIFFRACTION',\n",
       "  'gene': 'b0995',\n",
       "  'mmcif_file': '4s04.cif',\n",
       "  'organism': 'Klebsiella pneumoniae',\n",
       "  'pdb_file': '4s04.pdb',\n",
       "  'resolution': '3.20'},\n",
       " '4s05': {'chemicals': ['DA', 'DT', 'DC', 'DG', 'BEF', 'MG'],\n",
       "  'experiment': 'X-RAY DIFFRACTION',\n",
       "  'gene': 'b0995',\n",
       "  'mmcif_file': '4s05.cif',\n",
       "  'organism': 'Klebsiella pneumoniae',\n",
       "  'pdb_file': '4s05.pdb',\n",
       "  'resolution': '3.80'},\n",
       " '5dcl': {'chemicals': ['EDO'],\n",
       "  'experiment': 'X-RAY DIFFRACTION',\n",
       "  'gene': 'b0995',\n",
       "  'mmcif_file': '5dcl.cif',\n",
       "  'organism': 'Streptococcus agalactiae',\n",
       "  'pdb_file': '5dcl.pdb',\n",
       "  'resolution': '1.410'},\n",
       " '5dcm': {'chemicals': [],\n",
       "  'experiment': 'X-RAY DIFFRACTION',\n",
       "  'gene': 'b0995',\n",
       "  'mmcif_file': '5dcm.cif',\n",
       "  'organism': ['Streptococcus agalactiae', 'Streptococcus agalactiae'],\n",
       "  'pdb_file': '5dcm.pdb',\n",
       "  'resolution': '1.600'}}"
      ]
     },
     "execution_count": 17,
     "metadata": {},
     "output_type": "execute_result"
    }
   ],
   "source": [
    "# Looking at information saved per gene\n",
    "my_gempro.genes.get_by_id('b0995').annotation['structure']['pdb']"
   ]
  }
 ],
 "metadata": {
  "_draft": {
   "nbviewer_url": "https://gist.github.com/342e44766d1dda637e975a4ef61dae19"
  },
  "anaconda-cloud": {},
  "gist": {
   "data": {
    "description": "projects/161022-gempro_list_of_genes_py2_testing.ipynb",
    "public": false
   },
   "id": "342e44766d1dda637e975a4ef61dae19"
  },
  "kernelspec": {
   "display_name": "Python 2",
   "language": "python",
   "name": "python2"
  },
  "language_info": {
   "codemirror_mode": {
    "name": "ipython",
    "version": 2
   },
   "file_extension": ".py",
   "mimetype": "text/x-python",
   "name": "python",
   "nbconvert_exporter": "python",
   "pygments_lexer": "ipython2",
   "version": "2.7.12"
  }
 },
 "nbformat": 4,
 "nbformat_minor": 1
}
