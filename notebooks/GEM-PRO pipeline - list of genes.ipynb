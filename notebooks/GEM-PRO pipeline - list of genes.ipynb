{
 "cells": [
  {
   "cell_type": "markdown",
   "metadata": {},
   "source": [
    "# README\n",
    "\n",
    "This notebook gives an example of how to run the GEM-PRO pipeline on a **list of gene IDs** (in Python 2, but there are no differences for Python 3).\n",
    "\n",
    "### Installation\n",
    "\n",
    "See: https://github.com/nmih/ssbio/blob/master/README.md\n",
    "- If something isn't working, make sure to update the repository before you do anything (git pull)"
   ]
  },
  {
   "cell_type": "code",
   "execution_count": 1,
   "metadata": {
    "collapsed": false
   },
   "outputs": [],
   "source": [
    "# Import the GEM-PRO class\n",
    "from ssbio.pipeline.gempro import GEMPRO"
   ]
  },
  {
   "cell_type": "code",
   "execution_count": 2,
   "metadata": {
    "collapsed": false
   },
   "outputs": [],
   "source": [
    "# Create logger\n",
    "import logging\n",
    "logger = logging.getLogger()\n",
    "\n",
    "############# SET YOUR LOGGING LEVEL HERE #############\n",
    "logger.setLevel(logging.INFO)\n",
    "#######################################################"
   ]
  },
  {
   "cell_type": "code",
   "execution_count": 3,
   "metadata": {
    "collapsed": true
   },
   "outputs": [],
   "source": [
    "# Printing multiple outputs per cell\n",
    "from IPython.core.interactiveshell import InteractiveShell\n",
    "InteractiveShell.ast_node_interactivity = \"all\""
   ]
  },
  {
   "cell_type": "markdown",
   "metadata": {},
   "source": [
    "## Initialization of the project\n",
    "\n",
    "Set these three things:\n",
    "\n",
    "- GEM_NAME\n",
    "    - Your project name\n",
    "- ROOT_DIR\n",
    "    - The directory where the GEM_NAME folder will be created\n",
    "- GENES\n",
    "    - Your list of gene IDs\n",
    "    \n",
    "A directory will be created in ROOT_DIR named after your GEM_NAME. The folders are:\n",
    "```\n",
    "    .\n",
    "    ├── data  # where dataframes are stored\n",
    "    ├── figures  # where figures are stored\n",
    "    ├── model  # where SBML and GEM-PRO models are stored\n",
    "    ├── notebooks  # location of any ipython notebooks for analyses\n",
    "    ├── sequences  # sequences are stored here, in gene specific folders\n",
    "    │   ├── <gene_id1>\n",
    "    │   │   └── sequence.fasta\n",
    "    │   ├── <gene_id2>\n",
    "    │   └── ...\n",
    "    └── structures\n",
    "        ├── by_gene  # structures are stored here, in gene specific folders\n",
    "        │   ├── <gene_id1>\n",
    "        │   │   └── 1abc.pdb\n",
    "        │   ├── <gene_id2>\n",
    "        │   └── ...\n",
    "        └── by_complex  # complexes for reactions are stored here (in progress)\n",
    "```"
   ]
  },
  {
   "cell_type": "code",
   "execution_count": 4,
   "metadata": {
    "collapsed": true
   },
   "outputs": [],
   "source": [
    "GEM_NAME = 'gempro_py2_test'\n",
    "\n",
    "ROOT_DIR = '/home/nathan/projects_unsynced/'\n",
    "\n",
    "GENES = ['b0761','b0889','b0995','b1013','b1014','b1040','b1130','b1187','b1221','b1299']"
   ]
  },
  {
   "cell_type": "code",
   "execution_count": 5,
   "metadata": {
    "collapsed": false
   },
   "outputs": [
    {
     "name": "stderr",
     "output_type": "stream",
     "text": [
      "INFO:ssbio.pipeline.gempro:Number of genes: 11\n"
     ]
    }
   ],
   "source": [
    "# Create the GEM-PRO project\n",
    "my_gempro = GEMPRO(gem_name=GEM_NAME, root_dir=ROOT_DIR, genes_list=GENES)"
   ]
  },
  {
   "cell_type": "markdown",
   "metadata": {},
   "source": [
    "## Mapping gene ID -> sequence\n",
    "\n",
    "**You only need to map gene IDs using one service.** However you can try both if some genes don't map in one service and map in another!\n",
    "\n",
    "### kegg_mapping_and_metadata\n",
    "- kegg_organism_code\n",
    "    - See the full list of organisms here: http://www.genome.jp/kegg/catalog/org_list.html\n",
    "    - E. coli MG1655 is \"eco\"\n",
    "\n",
    "### uniprot_mapping_and_metadata\n",
    "You can try mapping your genes using the actual service here:\n",
    "http://www.uniprot.org/uploadlists/\n",
    "\n",
    "- model_gene_source\n",
    "    - Here is a list of the gene IDs that can be mapped to UniProt IDs: http://www.uniprot.org/help/programmatic_access#id_mapping_examples\n",
    "    - E. coli b-numbers in this example are of the source \"ENSEMBLGENOME_ID\"\n",
    "\n",
    "### set_representative_sequence\n",
    "This function allows you to consolidate sources of ID mapping (currently KEGG and UniProt).\n",
    "\n",
    "-------------------\n",
    "\n",
    "## Saved information:\n",
    "\n",
    "### Gene annotations\n",
    "Check out the gene annotations saved directly into the gene. These are COBRApy Gene objects!\n",
    "    - my_gempro.genes.get_by_id('b1187').annotation\n",
    "\n",
    "### DataFrames\n",
    "Check out the dataframes to see a summary of results.\n",
    "    - my_gempro.df_uniprot_metadata\n",
    "    - my_gempro.df_kegg_metadata\n",
    "    - my_gempro.df_sequence_mapping  # Summary of the representative sequences"
   ]
  },
  {
   "cell_type": "code",
   "execution_count": 6,
   "metadata": {
    "collapsed": false
   },
   "outputs": [
    {
     "name": "stderr",
     "output_type": "stream",
     "text": [
      "INFO:root:getUserAgent: Begin\n",
      "INFO:root:getUserAgent: user_agent: EBI-Sample-Client/ (services.pyc; Python 2.7.12; Linux) Python-requests/2.9.1\n",
      "INFO:root:getUserAgent: End\n",
      "INFO:ssbio.pipeline.gempro:Created UniProt metadata dataframe. See the \"df_uniprot_metadata\" attribute.\n"
     ]
    },
    {
     "name": "stdout",
     "output_type": "stream",
     "text": [
      "\n"
     ]
    },
    {
     "data": {
      "text/html": [
       "<div>\n",
       "<table border=\"1\" class=\"dataframe\">\n",
       "  <thead>\n",
       "    <tr style=\"text-align: right;\">\n",
       "      <th></th>\n",
       "      <th>gene</th>\n",
       "      <th>uniprot</th>\n",
       "      <th>reviewed</th>\n",
       "      <th>gene_name</th>\n",
       "      <th>kegg</th>\n",
       "      <th>refseq</th>\n",
       "      <th>pdbs</th>\n",
       "      <th>ec_number</th>\n",
       "      <th>pfam</th>\n",
       "      <th>sequence_len</th>\n",
       "      <th>description</th>\n",
       "      <th>entry_version</th>\n",
       "      <th>seq_version</th>\n",
       "      <th>sequence_file</th>\n",
       "      <th>metadata_file</th>\n",
       "    </tr>\n",
       "  </thead>\n",
       "  <tbody>\n",
       "    <tr>\n",
       "      <th>0</th>\n",
       "      <td>b1323</td>\n",
       "      <td>P07604</td>\n",
       "      <td>True</td>\n",
       "      <td>tyrR</td>\n",
       "      <td>ecj:JW1316;eco:b1323</td>\n",
       "      <td>NP_415839.1;NC_000913.3;WP_001300658.1;NZ_LN83...</td>\n",
       "      <td>2JHE</td>\n",
       "      <td>NaN</td>\n",
       "      <td>PF13188;PF00158</td>\n",
       "      <td>513</td>\n",
       "      <td>Transcriptional regulatory protein TyrR</td>\n",
       "      <td>2016-11-02</td>\n",
       "      <td>1991-11-01</td>\n",
       "      <td>P07604.fasta</td>\n",
       "      <td>P07604.txt</td>\n",
       "    </tr>\n",
       "    <tr>\n",
       "      <th>1</th>\n",
       "      <td>b0995</td>\n",
       "      <td>P38684</td>\n",
       "      <td>True</td>\n",
       "      <td>torR</td>\n",
       "      <td>ecj:JW0980;eco:b0995</td>\n",
       "      <td>NP_415515.1;NC_000913.3;WP_001120125.1;NZ_LN83...</td>\n",
       "      <td>1ZGZ</td>\n",
       "      <td>NaN</td>\n",
       "      <td>PF00072;PF00486</td>\n",
       "      <td>230</td>\n",
       "      <td>TorCAD operon transcriptional regulatory prote...</td>\n",
       "      <td>2016-11-02</td>\n",
       "      <td>1997-11-01</td>\n",
       "      <td>P38684.fasta</td>\n",
       "      <td>P38684.txt</td>\n",
       "    </tr>\n",
       "  </tbody>\n",
       "</table>\n",
       "</div>"
      ],
      "text/plain": [
       "    gene uniprot reviewed gene_name                  kegg  \\\n",
       "0  b1323  P07604     True      tyrR  ecj:JW1316;eco:b1323   \n",
       "1  b0995  P38684     True      torR  ecj:JW0980;eco:b0995   \n",
       "\n",
       "                                              refseq  pdbs ec_number  \\\n",
       "0  NP_415839.1;NC_000913.3;WP_001300658.1;NZ_LN83...  2JHE       NaN   \n",
       "1  NP_415515.1;NC_000913.3;WP_001120125.1;NZ_LN83...  1ZGZ       NaN   \n",
       "\n",
       "              pfam  sequence_len  \\\n",
       "0  PF13188;PF00158           513   \n",
       "1  PF00072;PF00486           230   \n",
       "\n",
       "                                         description entry_version  \\\n",
       "0            Transcriptional regulatory protein TyrR    2016-11-02   \n",
       "1  TorCAD operon transcriptional regulatory prote...    2016-11-02   \n",
       "\n",
       "  seq_version sequence_file metadata_file  \n",
       "0  1991-11-01  P07604.fasta    P07604.txt  \n",
       "1  1997-11-01  P38684.fasta    P38684.txt  "
      ]
     },
     "execution_count": 6,
     "metadata": {},
     "output_type": "execute_result"
    }
   ],
   "source": [
    "# UniProt mapping of gene_id -> uniprot_id\n",
    "my_gempro.uniprot_mapping_and_metadata(model_gene_source='ENSEMBLGENOME_ID')\n",
    "my_gempro.df_uniprot_metadata.head(2)"
   ]
  },
  {
   "cell_type": "code",
   "execution_count": 7,
   "metadata": {
    "collapsed": false
   },
   "outputs": [
    {
     "name": "stderr",
     "output_type": "stream",
     "text": [
      "INFO:ssbio.pipeline.gempro:11 genes mapped to KEGG\n",
      "INFO:ssbio.pipeline.gempro:Created KEGG metadata dataframe. See the \"df_kegg_metadata\" attribute.\n"
     ]
    },
    {
     "name": "stdout",
     "output_type": "stream",
     "text": [
      "\n"
     ]
    },
    {
     "data": {
      "text/html": [
       "<div>\n",
       "<table border=\"1\" class=\"dataframe\">\n",
       "  <thead>\n",
       "    <tr style=\"text-align: right;\">\n",
       "      <th></th>\n",
       "      <th>gene</th>\n",
       "      <th>kegg</th>\n",
       "      <th>refseq</th>\n",
       "      <th>uniprot</th>\n",
       "      <th>pdbs</th>\n",
       "      <th>sequence_len</th>\n",
       "      <th>sequence_file</th>\n",
       "      <th>metadata_file</th>\n",
       "    </tr>\n",
       "  </thead>\n",
       "  <tbody>\n",
       "    <tr>\n",
       "      <th>0</th>\n",
       "      <td>b1323</td>\n",
       "      <td>eco:b1323</td>\n",
       "      <td>NP_415839</td>\n",
       "      <td>P07604</td>\n",
       "      <td>2JHE</td>\n",
       "      <td>513</td>\n",
       "      <td>eco-b1323.faa</td>\n",
       "      <td>eco-b1323.kegg</td>\n",
       "    </tr>\n",
       "    <tr>\n",
       "      <th>1</th>\n",
       "      <td>b0995</td>\n",
       "      <td>eco:b0995</td>\n",
       "      <td>NP_415515</td>\n",
       "      <td>P38684</td>\n",
       "      <td>1ZGZ</td>\n",
       "      <td>230</td>\n",
       "      <td>eco-b0995.faa</td>\n",
       "      <td>eco-b0995.kegg</td>\n",
       "    </tr>\n",
       "    <tr>\n",
       "      <th>2</th>\n",
       "      <td>b0761</td>\n",
       "      <td>eco:b0761</td>\n",
       "      <td>NP_415282</td>\n",
       "      <td>P0A9G8</td>\n",
       "      <td>1B9M;1H9S;1B9N;1O7L;1H9R</td>\n",
       "      <td>262</td>\n",
       "      <td>eco-b0761.faa</td>\n",
       "      <td>eco-b0761.kegg</td>\n",
       "    </tr>\n",
       "    <tr>\n",
       "      <th>3</th>\n",
       "      <td>b1221</td>\n",
       "      <td>eco:b1221</td>\n",
       "      <td>NP_415739</td>\n",
       "      <td>P0AF28</td>\n",
       "      <td>1JE8;1A04;1ZG1;1ZG5;1RNL</td>\n",
       "      <td>216</td>\n",
       "      <td>eco-b1221.faa</td>\n",
       "      <td>eco-b1221.kegg</td>\n",
       "    </tr>\n",
       "    <tr>\n",
       "      <th>4</th>\n",
       "      <td>b1299</td>\n",
       "      <td>eco:b1299</td>\n",
       "      <td>NP_415815</td>\n",
       "      <td>P0A9U6</td>\n",
       "      <td>NaN</td>\n",
       "      <td>185</td>\n",
       "      <td>eco-b1299.faa</td>\n",
       "      <td>eco-b1299.kegg</td>\n",
       "    </tr>\n",
       "  </tbody>\n",
       "</table>\n",
       "</div>"
      ],
      "text/plain": [
       "    gene       kegg     refseq uniprot                      pdbs  \\\n",
       "0  b1323  eco:b1323  NP_415839  P07604                      2JHE   \n",
       "1  b0995  eco:b0995  NP_415515  P38684                      1ZGZ   \n",
       "2  b0761  eco:b0761  NP_415282  P0A9G8  1B9M;1H9S;1B9N;1O7L;1H9R   \n",
       "3  b1221  eco:b1221  NP_415739  P0AF28  1JE8;1A04;1ZG1;1ZG5;1RNL   \n",
       "4  b1299  eco:b1299  NP_415815  P0A9U6                       NaN   \n",
       "\n",
       "   sequence_len  sequence_file   metadata_file  \n",
       "0           513  eco-b1323.faa  eco-b1323.kegg  \n",
       "1           230  eco-b0995.faa  eco-b0995.kegg  \n",
       "2           262  eco-b0761.faa  eco-b0761.kegg  \n",
       "3           216  eco-b1221.faa  eco-b1221.kegg  \n",
       "4           185  eco-b1299.faa  eco-b1299.kegg  "
      ]
     },
     "execution_count": 7,
     "metadata": {},
     "output_type": "execute_result"
    }
   ],
   "source": [
    "# KEGG mapping of gene ids\n",
    "my_gempro.kegg_mapping_and_metadata(kegg_organism_code='eco')\n",
    "my_gempro.df_kegg_metadata.head()"
   ]
  },
  {
   "cell_type": "code",
   "execution_count": 8,
   "metadata": {
    "collapsed": false
   },
   "outputs": [
    {
     "name": "stderr",
     "output_type": "stream",
     "text": [
      "INFO:ssbio.pipeline.gempro:Created sequence mapping dataframe. See the \"df_representative_sequences\" attribute.\n"
     ]
    },
    {
     "data": {
      "text/html": [
       "<div>\n",
       "<table border=\"1\" class=\"dataframe\">\n",
       "  <thead>\n",
       "    <tr style=\"text-align: right;\">\n",
       "      <th></th>\n",
       "      <th>gene</th>\n",
       "      <th>uniprot</th>\n",
       "      <th>kegg</th>\n",
       "      <th>pdbs</th>\n",
       "      <th>sequence_len</th>\n",
       "      <th>sequence_file</th>\n",
       "      <th>metadata_file</th>\n",
       "    </tr>\n",
       "  </thead>\n",
       "  <tbody>\n",
       "    <tr>\n",
       "      <th>0</th>\n",
       "      <td>b1323</td>\n",
       "      <td>P07604</td>\n",
       "      <td>ecj:JW1316;eco:b1323</td>\n",
       "      <td>2JHE</td>\n",
       "      <td>513</td>\n",
       "      <td>P07604.fasta</td>\n",
       "      <td>P07604.txt</td>\n",
       "    </tr>\n",
       "    <tr>\n",
       "      <th>1</th>\n",
       "      <td>b0995</td>\n",
       "      <td>P38684</td>\n",
       "      <td>ecj:JW0980;eco:b0995</td>\n",
       "      <td>1ZGZ</td>\n",
       "      <td>230</td>\n",
       "      <td>P38684.fasta</td>\n",
       "      <td>P38684.txt</td>\n",
       "    </tr>\n",
       "    <tr>\n",
       "      <th>2</th>\n",
       "      <td>b0761</td>\n",
       "      <td>P0A9G8</td>\n",
       "      <td>ecj:JW0744;eco:b0761</td>\n",
       "      <td>1O7L;1H9S;1B9N;1H9R;1B9M</td>\n",
       "      <td>262</td>\n",
       "      <td>P0A9G8.fasta</td>\n",
       "      <td>P0A9G8.txt</td>\n",
       "    </tr>\n",
       "    <tr>\n",
       "      <th>3</th>\n",
       "      <td>b1221</td>\n",
       "      <td>P0AF28</td>\n",
       "      <td>ecj:JW1212;eco:b1221</td>\n",
       "      <td>1ZG1;1A04;1ZG5;1JE8;1RNL</td>\n",
       "      <td>216</td>\n",
       "      <td>P0AF28.fasta</td>\n",
       "      <td>P0AF28.txt</td>\n",
       "    </tr>\n",
       "    <tr>\n",
       "      <th>4</th>\n",
       "      <td>b1299</td>\n",
       "      <td>P0A9U6</td>\n",
       "      <td>ecj:JW1292;eco:b1299</td>\n",
       "      <td>NaN</td>\n",
       "      <td>185</td>\n",
       "      <td>P0A9U6.fasta</td>\n",
       "      <td>P0A9U6.txt</td>\n",
       "    </tr>\n",
       "  </tbody>\n",
       "</table>\n",
       "</div>"
      ],
      "text/plain": [
       "    gene uniprot                  kegg                      pdbs  \\\n",
       "0  b1323  P07604  ecj:JW1316;eco:b1323                      2JHE   \n",
       "1  b0995  P38684  ecj:JW0980;eco:b0995                      1ZGZ   \n",
       "2  b0761  P0A9G8  ecj:JW0744;eco:b0761  1O7L;1H9S;1B9N;1H9R;1B9M   \n",
       "3  b1221  P0AF28  ecj:JW1212;eco:b1221  1ZG1;1A04;1ZG5;1JE8;1RNL   \n",
       "4  b1299  P0A9U6  ecj:JW1292;eco:b1299                       NaN   \n",
       "\n",
       "   sequence_len sequence_file metadata_file  \n",
       "0           513  P07604.fasta    P07604.txt  \n",
       "1           230  P38684.fasta    P38684.txt  \n",
       "2           262  P0A9G8.fasta    P0A9G8.txt  \n",
       "3           216  P0AF28.fasta    P0AF28.txt  \n",
       "4           185  P0A9U6.fasta    P0A9U6.txt  "
      ]
     },
     "execution_count": 8,
     "metadata": {},
     "output_type": "execute_result"
    }
   ],
   "source": [
    "# Consolidate mappings sources\n",
    "my_gempro.set_representative_sequence()\n",
    "my_gempro.df_representative_sequences.head()"
   ]
  },
  {
   "cell_type": "code",
   "execution_count": 9,
   "metadata": {
    "collapsed": false
   },
   "outputs": [
    {
     "data": {
      "text/plain": [
       "[<UniProtProp P0A8V6 at 0x7fbf794d8f50>,\n",
       " <KEGGProp eco:b1187 at 0x7fbf7949c8d0>]"
      ]
     },
     "execution_count": 9,
     "metadata": {},
     "output_type": "execute_result"
    },
    {
     "data": {
      "text/plain": [
       "{'bigg': None,\n",
       " 'description': ['Fatty acid metabolism regulator protein {ECO:0000255|HAMAP-Rule:MF_00696}'],\n",
       " 'ec_number': None,\n",
       " 'entry_version': '2016-11-02',\n",
       " 'gene_name': 'fadR',\n",
       " 'id': u'P0A8V6',\n",
       " 'kegg': ['ecj:JW1176', 'eco:b1187'],\n",
       " 'metadata_file': 'P0A8V6.txt',\n",
       " 'metadata_path': '/home/nathan/projects_unsynced/gempro_py2_test/sequences/b1187/P0A8V6.txt',\n",
       " 'pdbs': ['1H9T', '1HW2', '1H9G', '1E2X', '1HW1'],\n",
       " 'pfam': ['PF07840', 'PF00392'],\n",
       " 'refseq': ['NP_415705.1', 'NC_000913.3', 'WP_000234823.1', 'NZ_LN832404.1'],\n",
       " 'reviewed': True,\n",
       " 'seq_record': None,\n",
       " 'seq_str': None,\n",
       " 'seq_version': '2007-01-23',\n",
       " 'sequence_alignments': [],\n",
       " 'sequence_file': 'P0A8V6.fasta',\n",
       " 'sequence_len': 239,\n",
       " 'sequence_path': '/home/nathan/projects_unsynced/gempro_py2_test/sequences/b1187/P0A8V6.fasta',\n",
       " 'structure_alignments': [],\n",
       " 'uniprot': u'P0A8V6'}"
      ]
     },
     "execution_count": 9,
     "metadata": {},
     "output_type": "execute_result"
    }
   ],
   "source": [
    "# Looking at information saved per gene\n",
    "my_gempro.genes.get_by_id('b1187').protein.sequences\n",
    "my_gempro.genes.get_by_id('b1187').protein.sequences[0].get_dict()"
   ]
  },
  {
   "cell_type": "markdown",
   "metadata": {},
   "source": [
    "## Mapping sequence -> structure\n",
    "\n",
    "There are two ways to map sequence to structure:\n",
    "1. Simply use the UniProt ID and their automatic mappings to the PDB\n",
    "2. BLAST the sequence to the PDB\n",
    "\n",
    "### map_uniprot_to_pdb\n",
    "This uses a service from the PDB to return a rank ordered list of PDBs that match a UniProt ID. \n",
    "- seq_ident_cutoff (from 0 to 1)\n",
    "    - Provide the seq_ident_cutoff as a percentage to filter for structures with only a percent identity above the cutoff.\n",
    "    - **Warning:** if you set the seq_ident_cutoff too high you risk filtering out PDBs that do match the sequence, but are just missing large portions of it.\n",
    "\n",
    "### blast_seqs_to_pdb\n",
    "This will BLAST the representative sequence against the entire PDB, and return significant hits. This will however return hits in other organisms, which may not be ideal.\n",
    "- all_genes\n",
    "    - Set to True if you want all genes and their sequences BLASTed\n",
    "    - Set to False if you only want to BLAST sequences that did not have any PDBs from the function map_uniprot_to_pdb\n",
    "- seq_ident_cutoff\n",
    "    - Same as above\n",
    "- evalue\n",
    "    - Significance of BLAST results\n",
    "\n",
    "-------------------\n",
    "\n",
    "## Saved information:\n",
    "\n",
    "### Gene annotations\n",
    "    - my_gempro.genes.get_by_id('b1187').annotation['structure']['pdb']\n",
    "\n",
    "### DataFrames\n",
    "    - my_gempro.df_pdb_ranking\n",
    "    - my_gempro.df_pdb_blast"
   ]
  },
  {
   "cell_type": "code",
   "execution_count": 10,
   "metadata": {
    "collapsed": false
   },
   "outputs": [
    {
     "name": "stderr",
     "output_type": "stream",
     "text": [
      "INFO:root:getUserAgent: Begin\n",
      "INFO:root:getUserAgent: user_agent: EBI-Sample-Client/ (services.pyc; Python 2.7.12; Linux) Python-requests/2.9.1\n",
      "INFO:root:getUserAgent: End\n",
      "INFO:ssbio.pipeline.gempro:Completed UniProt -> best PDB mapping. See the \"df_pdb_ranking\" attribute.\n",
      "INFO:ssbio.pipeline.gempro:9: number of genes with at least one structure\n",
      "INFO:ssbio.pipeline.gempro:2: number of genes with no structures\n"
     ]
    },
    {
     "name": "stdout",
     "output_type": "stream",
     "text": [
      "\n"
     ]
    },
    {
     "data": {
      "text/html": [
       "<div>\n",
       "<table border=\"1\" class=\"dataframe\">\n",
       "  <thead>\n",
       "    <tr style=\"text-align: right;\">\n",
       "      <th></th>\n",
       "      <th>gene</th>\n",
       "      <th>uniprot</th>\n",
       "      <th>pdb_id</th>\n",
       "      <th>pdb_chain_id</th>\n",
       "      <th>experimental_method</th>\n",
       "      <th>resolution</th>\n",
       "      <th>coverage</th>\n",
       "      <th>taxonomy_name</th>\n",
       "      <th>start</th>\n",
       "      <th>end</th>\n",
       "      <th>unp_start</th>\n",
       "      <th>unp_end</th>\n",
       "      <th>rank</th>\n",
       "    </tr>\n",
       "  </thead>\n",
       "  <tbody>\n",
       "    <tr>\n",
       "      <th>0</th>\n",
       "      <td>b1323</td>\n",
       "      <td>P07604</td>\n",
       "      <td>2jhe</td>\n",
       "      <td>A</td>\n",
       "      <td>X-ray diffraction</td>\n",
       "      <td>2.3</td>\n",
       "      <td>0.37</td>\n",
       "      <td>None</td>\n",
       "      <td>1</td>\n",
       "      <td>190</td>\n",
       "      <td>1</td>\n",
       "      <td>190</td>\n",
       "      <td>1</td>\n",
       "    </tr>\n",
       "    <tr>\n",
       "      <th>1</th>\n",
       "      <td>b1323</td>\n",
       "      <td>P07604</td>\n",
       "      <td>2jhe</td>\n",
       "      <td>B</td>\n",
       "      <td>X-ray diffraction</td>\n",
       "      <td>2.3</td>\n",
       "      <td>0.37</td>\n",
       "      <td>None</td>\n",
       "      <td>1</td>\n",
       "      <td>190</td>\n",
       "      <td>1</td>\n",
       "      <td>190</td>\n",
       "      <td>2</td>\n",
       "    </tr>\n",
       "    <tr>\n",
       "      <th>2</th>\n",
       "      <td>b1323</td>\n",
       "      <td>P07604</td>\n",
       "      <td>2jhe</td>\n",
       "      <td>C</td>\n",
       "      <td>X-ray diffraction</td>\n",
       "      <td>2.3</td>\n",
       "      <td>0.37</td>\n",
       "      <td>None</td>\n",
       "      <td>1</td>\n",
       "      <td>190</td>\n",
       "      <td>1</td>\n",
       "      <td>190</td>\n",
       "      <td>3</td>\n",
       "    </tr>\n",
       "    <tr>\n",
       "      <th>3</th>\n",
       "      <td>b1323</td>\n",
       "      <td>P07604</td>\n",
       "      <td>2jhe</td>\n",
       "      <td>D</td>\n",
       "      <td>X-ray diffraction</td>\n",
       "      <td>2.3</td>\n",
       "      <td>0.37</td>\n",
       "      <td>None</td>\n",
       "      <td>1</td>\n",
       "      <td>190</td>\n",
       "      <td>1</td>\n",
       "      <td>190</td>\n",
       "      <td>4</td>\n",
       "    </tr>\n",
       "    <tr>\n",
       "      <th>4</th>\n",
       "      <td>b0995</td>\n",
       "      <td>P38684</td>\n",
       "      <td>1zgz</td>\n",
       "      <td>A</td>\n",
       "      <td>X-ray diffraction</td>\n",
       "      <td>1.8</td>\n",
       "      <td>0.53</td>\n",
       "      <td>None</td>\n",
       "      <td>1</td>\n",
       "      <td>122</td>\n",
       "      <td>1</td>\n",
       "      <td>122</td>\n",
       "      <td>1</td>\n",
       "    </tr>\n",
       "  </tbody>\n",
       "</table>\n",
       "</div>"
      ],
      "text/plain": [
       "    gene uniprot pdb_id pdb_chain_id experimental_method  resolution  \\\n",
       "0  b1323  P07604   2jhe            A   X-ray diffraction         2.3   \n",
       "1  b1323  P07604   2jhe            B   X-ray diffraction         2.3   \n",
       "2  b1323  P07604   2jhe            C   X-ray diffraction         2.3   \n",
       "3  b1323  P07604   2jhe            D   X-ray diffraction         2.3   \n",
       "4  b0995  P38684   1zgz            A   X-ray diffraction         1.8   \n",
       "\n",
       "   coverage taxonomy_name  start  end  unp_start  unp_end  rank  \n",
       "0      0.37          None      1  190          1      190     1  \n",
       "1      0.37          None      1  190          1      190     2  \n",
       "2      0.37          None      1  190          1      190     3  \n",
       "3      0.37          None      1  190          1      190     4  \n",
       "4      0.53          None      1  122          1      122     1  "
      ]
     },
     "execution_count": 10,
     "metadata": {},
     "output_type": "execute_result"
    }
   ],
   "source": [
    "# Mapping using the PDBe best_structures service\n",
    "my_gempro.map_uniprot_to_pdb(seq_ident_cutoff=.3)\n",
    "my_gempro.df_pdb_ranking.head()"
   ]
  },
  {
   "cell_type": "code",
   "execution_count": 11,
   "metadata": {
    "collapsed": false
   },
   "outputs": [
    {
     "name": "stderr",
     "output_type": "stream",
     "text": [
      "INFO:ssbio.pipeline.gempro:b1013: Adding 1 PDBs from BLAST results.\n",
      "INFO:ssbio.pipeline.gempro:Completed sequence --> PDB BLAST. See the \"df_pdb_blast\" attribute.\n"
     ]
    },
    {
     "name": "stdout",
     "output_type": "stream",
     "text": [
      "\n"
     ]
    },
    {
     "data": {
      "text/html": [
       "<div>\n",
       "<table border=\"1\" class=\"dataframe\">\n",
       "  <thead>\n",
       "    <tr style=\"text-align: right;\">\n",
       "      <th></th>\n",
       "      <th>gene</th>\n",
       "      <th>pdb_id</th>\n",
       "      <th>pdb_chain_id</th>\n",
       "      <th>hit_score</th>\n",
       "      <th>hit_evalue</th>\n",
       "      <th>hit_percent_similar</th>\n",
       "      <th>hit_percent_ident</th>\n",
       "      <th>hit_num_ident</th>\n",
       "      <th>hit_num_similar</th>\n",
       "    </tr>\n",
       "  </thead>\n",
       "  <tbody>\n",
       "    <tr>\n",
       "      <th>0</th>\n",
       "      <td>b1013</td>\n",
       "      <td>4x1e</td>\n",
       "      <td>A</td>\n",
       "      <td>966.0</td>\n",
       "      <td>1.265800e-104</td>\n",
       "      <td>0.910377</td>\n",
       "      <td>0.910377</td>\n",
       "      <td>193</td>\n",
       "      <td>193</td>\n",
       "    </tr>\n",
       "    <tr>\n",
       "      <th>1</th>\n",
       "      <td>b1013</td>\n",
       "      <td>4x1e</td>\n",
       "      <td>B</td>\n",
       "      <td>966.0</td>\n",
       "      <td>1.265800e-104</td>\n",
       "      <td>0.910377</td>\n",
       "      <td>0.910377</td>\n",
       "      <td>193</td>\n",
       "      <td>193</td>\n",
       "    </tr>\n",
       "  </tbody>\n",
       "</table>\n",
       "</div>"
      ],
      "text/plain": [
       "    gene pdb_id pdb_chain_id  hit_score     hit_evalue  hit_percent_similar  \\\n",
       "0  b1013   4x1e            A      966.0  1.265800e-104             0.910377   \n",
       "1  b1013   4x1e            B      966.0  1.265800e-104             0.910377   \n",
       "\n",
       "   hit_percent_ident  hit_num_ident  hit_num_similar  \n",
       "0           0.910377            193              193  \n",
       "1           0.910377            193              193  "
      ]
     },
     "execution_count": 11,
     "metadata": {},
     "output_type": "execute_result"
    }
   ],
   "source": [
    "# Mapping using BLAST\n",
    "my_gempro.blast_seqs_to_pdb(all_genes=True, seq_ident_cutoff=.9, evalue=0.00001)\n",
    "my_gempro.df_pdb_blast.head()"
   ]
  },
  {
   "cell_type": "code",
   "execution_count": 12,
   "metadata": {
    "collapsed": false
   },
   "outputs": [
    {
     "data": {
      "text/plain": [
       "[<PDBProp 1hw1 at 0x7fbf793f37d0>,\n",
       " <PDBProp 1e2x at 0x7fbf793f3910>,\n",
       " <PDBProp 1h9g at 0x7fbf793f39d0>,\n",
       " <PDBProp 1h9t at 0x7fbf793f3a50>,\n",
       " <PDBProp 1hw2 at 0x7fbf793f3ad0>]"
      ]
     },
     "execution_count": 12,
     "metadata": {},
     "output_type": "execute_result"
    },
    {
     "data": {
      "text/plain": [
       "{'chains': [<ChainProp A at 0x7fbf791d0d90>, <ChainProp B at 0x7fbf791d0c90>],\n",
       " 'date': None,\n",
       " 'description': None,\n",
       " 'experimental_method': u'X-ray diffraction',\n",
       " 'file_type': None,\n",
       " 'id': '1hw1',\n",
       " 'is_experimental': True,\n",
       " 'mapped_chains': ['A', 'B'],\n",
       " 'reference_seq': <SeqProp P0A8V6 at 0x7fbf791d0dd0>,\n",
       " 'reference_seq_top_coverage': 0,\n",
       " 'representative_chain': None,\n",
       " 'resolution': 1.5,\n",
       " 'structure': None,\n",
       " 'structure_file': None,\n",
       " 'structure_path': None,\n",
       " 'taxonomy_name': None}"
      ]
     },
     "execution_count": 12,
     "metadata": {},
     "output_type": "execute_result"
    }
   ],
   "source": [
    "# Looking at information saved per gene\n",
    "my_gempro.genes.get_by_id('b1187').protein.structures\n",
    "my_gempro.genes.get_by_id('b1187').protein.structures[0].get_dict()"
   ]
  },
  {
   "cell_type": "markdown",
   "metadata": {},
   "source": [
    "## Ranking and downloading structures\n",
    "\n",
    "### set_representative_structure\n",
    "Rank available structures, run QC/QA, download and clean the final structure\n",
    "### pdb_downloader_and_metadata\n",
    "Download all structures per gene. This also adds some additional metadata to the annotation for each PDB.\n",
    "    \n",
    "-------------------\n",
    "\n",
    "## Saved information:\n",
    "\n",
    "### Gene annotations\n",
    "    - my_gempro.genes.get_by_id('b1187').annotation['structure']['representative']\n",
    "\n",
    "### DataFrames\n",
    "    - my_gempro.df_pdb_metadata"
   ]
  },
  {
   "cell_type": "code",
   "execution_count": null,
   "metadata": {
    "collapsed": false
   },
   "outputs": [
    {
     "name": "stderr",
     "output_type": "stream",
     "text": [
      "WARNING:ssbio.core.protein:b1323: no representative structure found\n",
      "WARNING:ssbio.core.protein:b0995: no representative structure found\n",
      "WARNING:ssbio.core.protein:b1130: no representative structure found\n",
      "WARNING:ssbio.core.protein:b1014: no representative structure found\n",
      "WARNING:ssbio.pipeline.gempro:6 gene(s) could not be mapped. Inspect the \"missing_repstruct\" attribute.\n",
      "INFO:ssbio.pipeline.gempro:Created representative structures dataframe. See the \"df_representative_structures\" attribute.\n"
     ]
    },
    {
     "name": "stdout",
     "output_type": "stream",
     "text": [
      "\n"
     ]
    },
    {
     "data": {
      "text/html": [
       "<div>\n",
       "<table border=\"1\" class=\"dataframe\">\n",
       "  <thead>\n",
       "    <tr style=\"text-align: right;\">\n",
       "      <th></th>\n",
       "      <th>gene</th>\n",
       "      <th>id</th>\n",
       "      <th>is_experimental</th>\n",
       "      <th>reference_seq</th>\n",
       "      <th>reference_seq_top_coverage</th>\n",
       "      <th>structure_file</th>\n",
       "    </tr>\n",
       "  </thead>\n",
       "  <tbody>\n",
       "    <tr>\n",
       "      <th>0</th>\n",
       "      <td>b0761</td>\n",
       "      <td>1b9m-A</td>\n",
       "      <td>True</td>\n",
       "      <td>P0A9G8</td>\n",
       "      <td>96.2</td>\n",
       "      <td>1b9m-A_clean.pdb</td>\n",
       "    </tr>\n",
       "    <tr>\n",
       "      <th>1</th>\n",
       "      <td>b1221</td>\n",
       "      <td>1a04-A</td>\n",
       "      <td>True</td>\n",
       "      <td>P0AF28</td>\n",
       "      <td>94.9</td>\n",
       "      <td>1a04-A_clean.pdb</td>\n",
       "    </tr>\n",
       "    <tr>\n",
       "      <th>2</th>\n",
       "      <td>b1187</td>\n",
       "      <td>1hw1-A</td>\n",
       "      <td>True</td>\n",
       "      <td>P0A8V6</td>\n",
       "      <td>94.6</td>\n",
       "      <td>1hw1-A_clean.pdb</td>\n",
       "    </tr>\n",
       "    <tr>\n",
       "      <th>3</th>\n",
       "      <td>b1013</td>\n",
       "      <td>4jyk-A</td>\n",
       "      <td>True</td>\n",
       "      <td>P0ACU2</td>\n",
       "      <td>94.8</td>\n",
       "      <td>4jyk-A_clean.pdb</td>\n",
       "    </tr>\n",
       "    <tr>\n",
       "      <th>4</th>\n",
       "      <td>b0889</td>\n",
       "      <td>2gqq-A</td>\n",
       "      <td>True</td>\n",
       "      <td>P0ACJ0</td>\n",
       "      <td>93.3</td>\n",
       "      <td>2gqq-A_clean.pdb</td>\n",
       "    </tr>\n",
       "  </tbody>\n",
       "</table>\n",
       "</div>"
      ],
      "text/plain": [
       "    gene      id is_experimental reference_seq  reference_seq_top_coverage  \\\n",
       "0  b0761  1b9m-A            True        P0A9G8                        96.2   \n",
       "1  b1221  1a04-A            True        P0AF28                        94.9   \n",
       "2  b1187  1hw1-A            True        P0A8V6                        94.6   \n",
       "3  b1013  4jyk-A            True        P0ACU2                        94.8   \n",
       "4  b0889  2gqq-A            True        P0ACJ0                        93.3   \n",
       "\n",
       "     structure_file  \n",
       "0  1b9m-A_clean.pdb  \n",
       "1  1a04-A_clean.pdb  \n",
       "2  1hw1-A_clean.pdb  \n",
       "3  4jyk-A_clean.pdb  \n",
       "4  2gqq-A_clean.pdb  "
      ]
     },
     "execution_count": 13,
     "metadata": {},
     "output_type": "execute_result"
    }
   ],
   "source": [
    "my_gempro.set_representative_structure()\n",
    "my_gempro.df_representative_structures.head()"
   ]
  },
  {
   "cell_type": "code",
   "execution_count": null,
   "metadata": {
    "collapsed": false
   },
   "outputs": [],
   "source": [
    "# Download all mapped PDBs and gather the metadata\n",
    "my_gempro.pdb_downloader_and_metadata()\n",
    "my_gempro.df_pdb_metadata.head()"
   ]
  }
 ],
 "metadata": {
  "_draft": {
   "nbviewer_url": "https://gist.github.com/342e44766d1dda637e975a4ef61dae19"
  },
  "anaconda-cloud": {},
  "gist": {
   "data": {
    "description": "GEM-PRO pipeline example for a list of gene IDs",
    "public": false
   },
   "id": "342e44766d1dda637e975a4ef61dae19"
  },
  "kernelspec": {
   "display_name": "Python [conda env:py27]",
   "language": "python",
   "name": "conda-env-py27-py"
  },
  "language_info": {
   "codemirror_mode": {
    "name": "ipython",
    "version": 2
   },
   "file_extension": ".py",
   "mimetype": "text/x-python",
   "name": "python",
   "nbconvert_exporter": "python",
   "pygments_lexer": "ipython2",
   "version": "2.7.12"
  },
  "widgets": {
   "state": {
    "4298a992f82642fe838e2c0ba1ba8bd4": {
     "views": [
      {
       "cell_index": 9
      }
     ]
    },
    "4d77c65f9e7d4710b9b4faad1ebbfc55": {
     "views": [
      {
       "cell_index": 8
      }
     ]
    },
    "4eb91bb30879400cbc24a29b19e3b656": {
     "views": [
      {
       "cell_index": 14
      }
     ]
    },
    "66ae420f3a09495b96bea62755edc863": {
     "views": [
      {
       "cell_index": 17
      }
     ]
    },
    "a4b6a18c7af44259a77b9b61c2c09ea2": {
     "views": [
      {
       "cell_index": 13
      }
     ]
    },
    "d44fa4344bed4b999d65798293128b15": {
     "views": [
      {
       "cell_index": 18
      }
     ]
    }
   },
   "version": "1.2.0"
  }
 },
 "nbformat": 4,
 "nbformat_minor": 1
}
