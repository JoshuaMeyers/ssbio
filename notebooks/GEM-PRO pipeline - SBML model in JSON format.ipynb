{
 "cells": [
  {
   "cell_type": "markdown",
   "metadata": {},
   "source": [
    "# README\n",
    "\n",
    "This notebook is to redo the GEM-PRO I did for the 212 class for iNJ661"
   ]
  },
  {
   "cell_type": "code",
   "execution_count": 1,
   "metadata": {
    "collapsed": false
   },
   "outputs": [],
   "source": [
    "import os.path as op\n",
    "import pandas as pd\n",
    "from ssbio.gempro import GEMPRO"
   ]
  },
  {
   "cell_type": "code",
   "execution_count": 2,
   "metadata": {
    "collapsed": true
   },
   "outputs": [],
   "source": [
    "# Create logger\n",
    "import sys\n",
    "import logging\n",
    "logger = logging.getLogger()\n",
    "logger.setLevel(logging.INFO)\n",
    "\n",
    "# Create STDERR handler\n",
    "handler = logging.StreamHandler(sys.stderr)\n",
    "handler.setLevel(logging.INFO)\n",
    "\n",
    "# Create formatter and add it to the handler\n",
    "formatter = logging.Formatter('%(name)s - %(levelname)s - %(message)s')\n",
    "handler.setFormatter(formatter)\n",
    "\n",
    "# Set STDERR handler as the only handler \n",
    "logger.handlers = [handler]\n",
    "\n",
    "from IPython.core.interactiveshell import InteractiveShell\n",
    "InteractiveShell.ast_node_interactivity = \"all\""
   ]
  },
  {
   "cell_type": "code",
   "execution_count": 3,
   "metadata": {
    "collapsed": true
   },
   "outputs": [],
   "source": [
    "# name of the folder which will be created, and the directory where it will be made\n",
    "GEM_NAME = 'iNJ661'\n",
    "ROOT_DIR = '/home/nathan/projects/'\n",
    "GEM_FILE = '/home/nathan/projects/iNJ661/model/iNJ661.json'"
   ]
  },
  {
   "cell_type": "code",
   "execution_count": 4,
   "metadata": {
    "collapsed": false
   },
   "outputs": [
    {
     "name": "stderr",
     "output_type": "stream",
     "text": [
      "ssbio.gempro.pipeline - INFO - Loaded model: /home/nathan/projects/iNJ661/model/iNJ661.json\n",
      "ssbio.gempro.pipeline - INFO - Number of reactions: 1025\n",
      "ssbio.gempro.pipeline - INFO - Number of reactions linked to a gene: 720\n",
      "ssbio.gempro.pipeline - INFO - Number of genes (excluding spontaneous): 661\n",
      "ssbio.gempro.pipeline - INFO - Number of metabolites: 826\n"
     ]
    }
   ],
   "source": [
    "my_gempro = GEMPRO(gem_name=GEM_NAME, root_dir=ROOT_DIR, gem_file_path=GEM_FILE, gem_file_type='json')"
   ]
  },
  {
   "cell_type": "code",
   "execution_count": 5,
   "metadata": {
    "collapsed": false
   },
   "outputs": [
    {
     "name": "stderr",
     "output_type": "stream",
     "text": [
      " 14%|█▍        | 95/661 [00:00<00:05, 111.31it/s]root - WARNING - status is not ok with Not Found\n",
      "root - WARNING - status is not ok with Not Found\n",
      " 20%|█▉        | 131/661 [00:00<00:05, 104.56it/s]root - WARNING - status is not ok with Not Found\n",
      "root - WARNING - status is not ok with Not Found\n",
      " 50%|████▉     | 328/661 [00:01<00:02, 144.10it/s]root - WARNING - status is not ok with Not Found\n",
      "root - WARNING - status is not ok with Not Found\n",
      "root - WARNING - status is not ok with Not Found\n",
      " 58%|█████▊    | 381/661 [00:01<00:02, 123.68it/s]root - WARNING - status is not ok with Not Found\n",
      "root - WARNING - status is not ok with Not Found\n",
      "root - WARNING - status is not ok with Not Found\n",
      "root - WARNING - status is not ok with Not Found\n",
      "100%|██████████| 661/661 [00:02<00:00, 229.82it/s]\n",
      "ssbio.gempro.pipeline - INFO - Created KEGG metadata dataframe. See the \"df_kegg_metadata\" attribute.\n",
      "ssbio.gempro.pipeline - WARNING - 6 gene(s) could not be mapped. Inspect the \"missing_kegg_mapping\" attribute.\n"
     ]
    }
   ],
   "source": [
    "my_gempro.kegg_mapping_and_metadata(kegg_organism_code='mtu')"
   ]
  },
  {
   "cell_type": "code",
   "execution_count": 6,
   "metadata": {
    "collapsed": false,
    "scrolled": true
   },
   "outputs": [
    {
     "name": "stderr",
     "output_type": "stream",
     "text": [
      "root - INFO - getUserAgent: Begin\n",
      "root - INFO - getUserAgent: user_agent: EBI-Sample-Client/ (services.py; Python 3.5.2; Linux) Python-requests/2.11.1\n",
      "root - INFO - getUserAgent: End\n",
      "100%|██████████| 661/661 [00:00<00:00, 1096.54it/s]\n",
      "ssbio.gempro.pipeline - INFO - Created UniProt metadata dataframe. See the \"df_uniprot_metadata\" attribute.\n",
      "ssbio.gempro.pipeline - WARNING - 75 gene(s) could not be mapped. Inspect the \"missing_uniprot_mapping\" attribute.\n"
     ]
    }
   ],
   "source": [
    "my_gempro.uniprot_mapping_and_metadata(model_gene_source='TUBERCULIST_ID')"
   ]
  },
  {
   "cell_type": "code",
   "execution_count": 7,
   "metadata": {
    "collapsed": false
   },
   "outputs": [
    {
     "name": "stderr",
     "output_type": "stream",
     "text": [
      "ssbio.gempro.pipeline - INFO - Updated existing UniProt dataframe.\n"
     ]
    }
   ],
   "source": [
    "manual_uniprot = pd.read_csv(op.join(my_gempro.data_dir, '161019-gene_to_uniprot.in'))\n",
    "manual_uniprot_dict = {}\n",
    "for i,r in manual_uniprot.iterrows():\n",
    "    manual_uniprot_dict[r[0]] = r[1]\n",
    "my_gempro.manual_uniprot_mapping(manual_uniprot_dict)"
   ]
  },
  {
   "cell_type": "code",
   "execution_count": 8,
   "metadata": {
    "collapsed": false
   },
   "outputs": [
    {
     "name": "stderr",
     "output_type": "stream",
     "text": [
      "ssbio.gempro.pipeline - WARNING - 1 gene(s) could not be mapped. Inspect the \"missing_mapping\" attribute.\n",
      "ssbio.gempro.pipeline - INFO - Created sequence mapping dataframe. Inspect the \"df_sequence_mapping\" attribute for more info.\n"
     ]
    }
   ],
   "source": [
    "my_gempro.set_representative_sequence()"
   ]
  },
  {
   "cell_type": "code",
   "execution_count": 9,
   "metadata": {
    "collapsed": false
   },
   "outputs": [
    {
     "data": {
      "text/plain": [
       "['Rv2233']"
      ]
     },
     "execution_count": 9,
     "metadata": {},
     "output_type": "execute_result"
    }
   ],
   "source": [
    "my_gempro.missing_mapping"
   ]
  },
  {
   "cell_type": "code",
   "execution_count": 11,
   "metadata": {
    "collapsed": false
   },
   "outputs": [
    {
     "name": "stderr",
     "output_type": "stream",
     "text": [
      "  1%|          | 4/661 [00:06<16:30,  1.51s/it]ssbio.gempro.pipeline - WARNING - Rv2233: No representative UniProt ID set, cannot use best structures API\n",
      "100%|██████████| 661/661 [00:06<00:00, 104.92it/s]\n",
      "ssbio.gempro.pipeline - INFO - Completed UniProt -> best PDB mapping. See the \"df_pdb_ranking\" attribute.\n"
     ]
    }
   ],
   "source": [
    "my_gempro.map_uniprot_to_pdb()"
   ]
  },
  {
   "cell_type": "code",
   "execution_count": 14,
   "metadata": {
    "collapsed": false
   },
   "outputs": [
    {
     "data": {
      "text/plain": [
       "{'sequence': {'kegg': {'kegg_id': 'mtu:Rv1295',\n",
       "   'metadata_file': 'mtu-Rv1295.kegg',\n",
       "   'pdbs': ['2D1F'],\n",
       "   'seq_file': 'mtu-Rv1295.faa',\n",
       "   'seq_len': 360,\n",
       "   'uniprot_acc': 'P9WG59'},\n",
       "  'representative': {'kegg_id': ['mtu:Rv1295'],\n",
       "   'metadata_file': 'P9WG59.txt',\n",
       "   'pdbs': ['2D1F'],\n",
       "   'seq_file': 'P9WG59.fasta',\n",
       "   'seq_len': 360,\n",
       "   'uniprot_acc': 'P9WG59'},\n",
       "  'uniprot': {'P9WG59': {'description': ['TS', 'Threonine synthase'],\n",
       "    'ec_number': ['4.2.3.1'],\n",
       "    'entry_version': '2016-10-05',\n",
       "    'gene': 'Rv1295',\n",
       "    'gene_name': 'thrC',\n",
       "    'kegg_id': ['mtu:Rv1295'],\n",
       "    'metadata_file': 'P9WG59.txt',\n",
       "    'pdbs': ['2D1F'],\n",
       "    'pfam': ['PF00291'],\n",
       "    'refseq': ['NP_215811.1',\n",
       "     'NC_000962.3',\n",
       "     'WP_003406652.1',\n",
       "     'NZ_KK339370.1'],\n",
       "    'reviewed': True,\n",
       "    'seq_file': 'P9WG59.fasta',\n",
       "    'seq_len': 360,\n",
       "    'seq_version': '2014-04-16',\n",
       "    'uniprot_acc': 'P9WG59'}}},\n",
       " 'structure': {'homology': {},\n",
       "  'pdb': OrderedDict([('2d1f_A',\n",
       "                {'experimental_method': 'X-ray diffraction',\n",
       "                 'pdb_chain_id': 'A',\n",
       "                 'pdb_end': 360,\n",
       "                 'pdb_id': '2d1f',\n",
       "                 'pdb_start': 1,\n",
       "                 'rank': 1,\n",
       "                 'release_date': '2006-09-05',\n",
       "                 'resolution': 2.5,\n",
       "                 'seq_coverage': 1,\n",
       "                 'taxonomy_id': 1773,\n",
       "                 'uniprot_acc': 'P9WG59',\n",
       "                 'unp_end': 360,\n",
       "                 'unp_start': 1}),\n",
       "               ('2d1f_B',\n",
       "                {'experimental_method': 'X-ray diffraction',\n",
       "                 'pdb_chain_id': 'B',\n",
       "                 'pdb_end': 360,\n",
       "                 'pdb_id': '2d1f',\n",
       "                 'pdb_start': 1,\n",
       "                 'rank': 2,\n",
       "                 'release_date': '2006-09-05',\n",
       "                 'resolution': 2.5,\n",
       "                 'seq_coverage': 1,\n",
       "                 'taxonomy_id': 1773,\n",
       "                 'uniprot_acc': 'P9WG59',\n",
       "                 'unp_end': 360,\n",
       "                 'unp_start': 1})]),\n",
       "  'representative': {'clean_pdb_file': None,\n",
       "   'original_pdb_file': None,\n",
       "   'seq_coverage': 0,\n",
       "   'structure_id': None}}}"
      ]
     },
     "execution_count": 14,
     "metadata": {},
     "output_type": "execute_result"
    }
   ],
   "source": [
    "my_gempro.genes[3].annotation"
   ]
  },
  {
   "cell_type": "code",
   "execution_count": 13,
   "metadata": {
    "collapsed": false
   },
   "outputs": [
    {
     "data": {
      "text/plain": [
       "{'homology': {},\n",
       " 'pdb': OrderedDict([('2d1f_A',\n",
       "               {'experimental_method': 'X-ray diffraction',\n",
       "                'pdb_chain_id': 'A',\n",
       "                'pdb_end': 360,\n",
       "                'pdb_id': '2d1f',\n",
       "                'pdb_start': 1,\n",
       "                'rank': 1,\n",
       "                'release_date': '2006-09-05',\n",
       "                'resolution': 2.5,\n",
       "                'seq_coverage': 1,\n",
       "                'taxonomy_id': 1773,\n",
       "                'uniprot_acc': 'P9WG59',\n",
       "                'unp_end': 360,\n",
       "                'unp_start': 1}),\n",
       "              ('2d1f_B',\n",
       "               {'experimental_method': 'X-ray diffraction',\n",
       "                'pdb_chain_id': 'B',\n",
       "                'pdb_end': 360,\n",
       "                'pdb_id': '2d1f',\n",
       "                'pdb_start': 1,\n",
       "                'rank': 2,\n",
       "                'release_date': '2006-09-05',\n",
       "                'resolution': 2.5,\n",
       "                'seq_coverage': 1,\n",
       "                'taxonomy_id': 1773,\n",
       "                'uniprot_acc': 'P9WG59',\n",
       "                'unp_end': 360,\n",
       "                'unp_start': 1})]),\n",
       " 'representative': {'clean_pdb_file': None,\n",
       "  'original_pdb_file': None,\n",
       "  'seq_coverage': 0,\n",
       "  'structure_id': None}}"
      ]
     },
     "execution_count": 13,
     "metadata": {},
     "output_type": "execute_result"
    }
   ],
   "source": [
    "my_gempro.genes[3].annotation['structure']"
   ]
  },
  {
   "cell_type": "code",
   "execution_count": 11,
   "metadata": {
    "collapsed": false
   },
   "outputs": [
    {
     "name": "stderr",
     "output_type": "stream",
     "text": [
      "  0%|          | 0/661 [00:00<?, ?it/s]ssbio.gempro.pipeline - INFO - Rv3846: Adding 20 PDBs from BLAST results.\n",
      "  5%|▌         | 35/661 [00:00<00:01, 329.24it/s]ssbio.gempro.pipeline - INFO - Rv2539c: Adding 4 PDBs from BLAST results.\n",
      " 10%|█         | 69/661 [00:00<00:01, 332.24it/s]ssbio.gempro.pipeline - INFO - Rv1603: Adding 2 PDBs from BLAST results.\n",
      " 15%|█▌        | 100/661 [00:00<00:01, 315.63it/s]ssbio.gempro.pipeline - INFO - Rv3628: Adding 1 PDBs from BLAST results.\n",
      "ssbio.gempro.pipeline - WARNING - Rv2233: No sequence set\n",
      " 36%|███▋      | 240/661 [00:00<00:01, 397.91it/s]ssbio.gempro.pipeline - INFO - Rv2764c: Adding 1 PDBs from BLAST results.\n",
      "ssbio.gempro.pipeline - INFO - Rv0467: Adding 4 PDBs from BLAST results.\n",
      " 43%|████▎     | 285/661 [00:00<00:00, 411.27it/s]ssbio.gempro.pipeline - INFO - Rv1415: Adding 2 PDBs from BLAST results.\n",
      " 50%|████▉     | 329/661 [00:00<00:00, 411.19it/s]ssbio.gempro.pipeline - INFO - Rv2220: Adding 24 PDBs from BLAST results.\n",
      " 58%|█████▊    | 384/661 [00:00<00:00, 444.40it/s]ssbio.gempro.pipeline - INFO - Rv0548c: Adding 1 PDBs from BLAST results.\n",
      "ssbio.gempro.pipeline - INFO - Rv2043c: Adding 1 PDBs from BLAST results.\n",
      "ssbio.gempro.pipeline - INFO - Rv2445c: Adding 1 PDBs from BLAST results.\n",
      " 66%|██████▌   | 433/661 [00:01<00:00, 457.10it/s]ssbio.gempro.pipeline - INFO - Rv0126: Adding 2 PDBs from BLAST results.\n",
      "ssbio.gempro.pipeline - INFO - Rv2537c: Adding 2 PDBs from BLAST results.\n",
      "ssbio.gempro.pipeline - INFO - Rv2753c: Adding 1 PDBs from BLAST results.\n",
      " 89%|████████▊ | 585/661 [00:01<00:00, 236.74it/s]ssbio.gempro.pipeline - INFO - Rv1484: Adding 5 PDBs from BLAST results.\n",
      " 93%|█████████▎| 613/661 [00:01<00:00, 245.19it/s]ssbio.gempro.pipeline - INFO - Rv0533c: Adding 1 PDBs from BLAST results.\n",
      "ssbio.gempro.pipeline - INFO - Rv0859: Adding 1 PDBs from BLAST results.\n",
      "100%|██████████| 661/661 [00:02<00:00, 304.02it/s]\n",
      "ssbio.gempro.pipeline - INFO - Completed sequence --> PDB BLAST. See the \"df_pdb_blast\" attribute.\n"
     ]
    }
   ],
   "source": [
    "my_gempro.blast_seqs_to_pdb(seq_ident_cutoff=.99, all_genes=True)"
   ]
  },
  {
   "cell_type": "code",
   "execution_count": 12,
   "metadata": {
    "collapsed": true
   },
   "outputs": [],
   "source": [
    "old_gene_to_homology = pd.read_csv('~/projects/iNJ661/data_frames/DF_01_RXN_GENE_UNIPROT_PDB.csv')\n",
    "old_gene_to_homology = old_gene_to_homology[['m_gene','u_uniprot_acc']].drop_duplicates().reset_index(drop=True)\n",
    "old_gene_to_homology = old_gene_to_homology[pd.notnull(old_gene_to_homology.u_uniprot_acc)]\n",
    "old_gene_to_homology.to_csv(op.join(my_gempro.data_dir,'161031-old_gene_to_uniprot_mapping.csv'))\n",
    "gene_to_uniprot = old_gene_to_homology.set_index('m_gene').to_dict()['u_uniprot_acc']"
   ]
  },
  {
   "cell_type": "code",
   "execution_count": 13,
   "metadata": {
    "collapsed": false
   },
   "outputs": [
    {
     "name": "stderr",
     "output_type": "stream",
     "text": [
      "100%|██████████| 661/661 [00:00<00:00, 5759.53it/s]\n",
      "ssbio.gempro.pipeline - INFO - Completed copying of I-TASSER models to GEM-PRO directory. See the \"df_itasser\" attribute.\n"
     ]
    }
   ],
   "source": [
    "my_gempro.get_itasser_models(homology_raw_dir='/home/nathan/projects_unsynced/iNJ661/structure_files/homology_models_prep', custom_itasser_name_mapping=gene_to_uniprot)"
   ]
  },
  {
   "cell_type": "code",
   "execution_count": 47,
   "metadata": {
    "collapsed": false
   },
   "outputs": [
    {
     "name": "stderr",
     "output_type": "stream",
     "text": [
      "100%|██████████| 661/661 [00:00<00:00, 340510.31it/s]\n"
     ]
    }
   ],
   "source": [
    "my_gempro.set_representative_structure()"
   ]
  },
  {
   "cell_type": "code",
   "execution_count": 49,
   "metadata": {
    "collapsed": false
   },
   "outputs": [
    {
     "data": {
      "text/plain": [
       "{'homology': {'Rv1731': {'c_score': -0.22,\n",
       "   'difficulty': 'easy',\n",
       "   'model_date': '2016-01-08',\n",
       "   'model_file': 'Rv1731.pdb',\n",
       "   'rmsd': 7.9,\n",
       "   'rmsd_err': 4.4,\n",
       "   'seq_coverage': 1,\n",
       "   'tm_score': 0.69,\n",
       "   'tm_score_err': 0.12,\n",
       "   'top_template_chain': 'A',\n",
       "   'top_template_pdb': '4h73'}},\n",
       " 'pdb': OrderedDict(),\n",
       " 'representative': {'clean_pdb_file': None,\n",
       "  'original_pdb_file': None,\n",
       "  'seq_coverage': 0,\n",
       "  'structure_id': None}}"
      ]
     },
     "execution_count": 49,
     "metadata": {},
     "output_type": "execute_result"
    }
   ],
   "source": [
    "my_gempro.genes[33].annotation['structure']"
   ]
  },
  {
   "cell_type": "code",
   "execution_count": 45,
   "metadata": {
    "collapsed": false
   },
   "outputs": [
    {
     "data": {
      "text/plain": [
       "OrderedDict([('2d1f_A',\n",
       "              {'experimental_method': 'X-ray diffraction',\n",
       "               'pdb_chain_id': 'A',\n",
       "               'pdb_end': 360,\n",
       "               'pdb_id': '2d1f',\n",
       "               'pdb_start': 1,\n",
       "               'rank': 1,\n",
       "               'release_date': '2006-09-05',\n",
       "               'resolution': 2.5,\n",
       "               'seq_coverage': 1,\n",
       "               'taxonomy_id': 1773,\n",
       "               'uniprot_acc': 'P9WG59',\n",
       "               'unp_end': 360,\n",
       "               'unp_start': 1}),\n",
       "             ('2d1f_B',\n",
       "              {'experimental_method': 'X-ray diffraction',\n",
       "               'pdb_chain_id': 'B',\n",
       "               'pdb_end': 360,\n",
       "               'pdb_id': '2d1f',\n",
       "               'pdb_start': 1,\n",
       "               'rank': 2,\n",
       "               'release_date': '2006-09-05',\n",
       "               'resolution': 2.5,\n",
       "               'seq_coverage': 1,\n",
       "               'taxonomy_id': 1773,\n",
       "               'uniprot_acc': 'P9WG59',\n",
       "               'unp_end': 360,\n",
       "               'unp_start': 1})])"
      ]
     },
     "execution_count": 45,
     "metadata": {},
     "output_type": "execute_result"
    }
   ],
   "source": [
    "my_gempro.genes[3].annotation['structure']['pdb']"
   ]
  },
  {
   "cell_type": "code",
   "execution_count": 21,
   "metadata": {
    "collapsed": false
   },
   "outputs": [
    {
     "data": {
      "text/plain": [
       "'20160104'"
      ]
     },
     "execution_count": 21,
     "metadata": {},
     "output_type": "execute_result"
    }
   ],
   "source": [
    "import time\n",
    "import os\n"
   ]
  },
  {
   "cell_type": "code",
   "execution_count": 18,
   "metadata": {
    "collapsed": false,
    "scrolled": false
   },
   "outputs": [],
   "source": [
    "d = my_gempro.genes.get_by_id('Rv2043c').annotation['structure']['homology']"
   ]
  },
  {
   "cell_type": "code",
   "execution_count": 40,
   "metadata": {
    "collapsed": false
   },
   "outputs": [],
   "source": [
    "d['rvvv'] = {'c_score': 26,\n",
    "  'difficulty': 'easy',\n",
    "  'model_date': '2016-12-29',\n",
    "  'model_file': 'Rv2043c.pdb',\n",
    "  'rmsd': 1.7,\n",
    "  'rmsd_err': 1.5,\n",
    "  'seq_coverage': 1,\n",
    "  'tm_score': 0,\n",
    "  'tm_score_err': 0.05,\n",
    "  'top_template_chain': 'A',\n",
    "  'top_template_pdb': '3gbc'}"
   ]
  },
  {
   "cell_type": "code",
   "execution_count": 41,
   "metadata": {
    "collapsed": false
   },
   "outputs": [
    {
     "data": {
      "text/plain": [
       "{'Rv2043c': {'c_score': 1.86,\n",
       "  'difficulty': 'easy',\n",
       "  'model_date': '2015-12-29',\n",
       "  'model_file': 'Rv2043c.pdb',\n",
       "  'rmsd': 1.7,\n",
       "  'rmsd_err': 1.5,\n",
       "  'seq_coverage': 1,\n",
       "  'tm_score': 0.98,\n",
       "  'tm_score_err': 0.05,\n",
       "  'top_template_chain': 'A',\n",
       "  'top_template_pdb': '3gbc'},\n",
       " 'rvvv': {'c_score': 26,\n",
       "  'difficulty': 'easy',\n",
       "  'model_date': '2016-12-29',\n",
       "  'model_file': 'Rv2043c.pdb',\n",
       "  'rmsd': 1.7,\n",
       "  'rmsd_err': 1.5,\n",
       "  'seq_coverage': 1,\n",
       "  'tm_score': 0,\n",
       "  'tm_score_err': 0.05,\n",
       "  'top_template_chain': 'A',\n",
       "  'top_template_pdb': '3gbc'}}"
      ]
     },
     "execution_count": 41,
     "metadata": {},
     "output_type": "execute_result"
    }
   ],
   "source": [
    "d"
   ]
  },
  {
   "cell_type": "code",
   "execution_count": 42,
   "metadata": {
    "collapsed": false
   },
   "outputs": [
    {
     "data": {
      "text/plain": [
       "['rvvv', 'Rv2043c']"
      ]
     },
     "execution_count": 42,
     "metadata": {},
     "output_type": "execute_result"
    }
   ],
   "source": [
    "sorted(d, key=lambda x: d[x]['model_date'], reverse=True)"
   ]
  },
  {
   "cell_type": "code",
   "execution_count": null,
   "metadata": {
    "collapsed": true
   },
   "outputs": [],
   "source": []
  }
 ],
 "metadata": {
  "anaconda-cloud": {},
  "kernelspec": {
   "display_name": "Python [default]",
   "language": "python",
   "name": "python3"
  },
  "language_info": {
   "codemirror_mode": {
    "name": "ipython",
    "version": 3
   },
   "file_extension": ".py",
   "mimetype": "text/x-python",
   "name": "python",
   "nbconvert_exporter": "python",
   "pygments_lexer": "ipython3",
   "version": "3.5.2"
  }
 },
 "nbformat": 4,
 "nbformat_minor": 1
}
