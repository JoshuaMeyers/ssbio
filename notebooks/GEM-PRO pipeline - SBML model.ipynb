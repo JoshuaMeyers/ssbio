{
 "cells": [
  {
   "cell_type": "markdown",
   "metadata": {},
   "source": [
    "# README\n",
    "\n",
    "This notebook gives an example of how to run the GEM-PRO pipeline on a **SBML model**.\n",
    "\n",
    "## Installation\n",
    "\n",
    "See: https://github.com/nmih/ssbio/blob/master/README.md\n",
    "- If something isn't working, make sure to update the repository before you do anything (git pull)\n",
    "\n",
    "## Quick start\n",
    "\n",
    "I just want to get structures ASAP! How can I do that?\n",
    "\n",
    "-- TODO"
   ]
  },
  {
   "cell_type": "code",
   "execution_count": 1,
   "metadata": {
    "collapsed": false
   },
   "outputs": [],
   "source": [
    "# Import the GEM-PRO class\n",
    "from ssbio.pipeline.gempro import GEMPRO"
   ]
  },
  {
   "cell_type": "code",
   "execution_count": 2,
   "metadata": {
    "collapsed": true
   },
   "outputs": [],
   "source": [
    "# Other imports for this example\n",
    "import os\n",
    "import pandas as pd\n",
    "import os.path as op"
   ]
  },
  {
   "cell_type": "code",
   "execution_count": 16,
   "metadata": {
    "collapsed": true
   },
   "outputs": [],
   "source": [
    "# Printing multiple outputs per cell\n",
    "from IPython.core.interactiveshell import InteractiveShell\n",
    "InteractiveShell.ast_node_interactivity = \"all\""
   ]
  },
  {
   "cell_type": "code",
   "execution_count": 3,
   "metadata": {
    "collapsed": true
   },
   "outputs": [],
   "source": [
    "# Create logger\n",
    "import logging\n",
    "logger = logging.getLogger()\n",
    "\n",
    "############# SET YOUR LOGGING LEVEL HERE #############\n",
    "# - CRITICAL\n",
    "#     - Only really important messages shown\n",
    "# - ERROR\n",
    "#     - Major errors\n",
    "# - WARNING\n",
    "#     - Warnings that don't affect running of the pipeline\n",
    "# - INFO\n",
    "#     - Info such as the number of structures mapped per gene\n",
    "# - DEBUG\n",
    "#     - Really detailed information that will print out a lot of stuff\n",
    "logger.setLevel(logging.INFO)\n",
    "#######################################################"
   ]
  },
  {
   "cell_type": "markdown",
   "metadata": {},
   "source": [
    "## Initialization of the project\n",
    "\n",
    "Set these three things:\n",
    "\n",
    "- GEM_NAME\n",
    "    - Your project name\n",
    "- ROOT_DIR\n",
    "    - The directory where the GEM_NAME folder will be created\n",
    "- GENES\n",
    "    - Your list of gene IDs\n",
    "    \n",
    "A directory will be created in ROOT_DIR named after your GEM_NAME. The folders are:\n",
    "```\n",
    "    .\n",
    "    ├── data  # where dataframes are stored\n",
    "    ├── figures  # where figures are stored\n",
    "    ├── model  # where SBML and GEM-PRO models are stored\n",
    "    ├── notebooks  # location of any ipython notebooks for analyses\n",
    "    ├── sequences  # sequences are stored here, in gene specific folders\n",
    "    │   ├── <gene_id1>\n",
    "    │   │   └── sequence.fasta\n",
    "    │   ├── <gene_id2>\n",
    "    │   └── ...\n",
    "    └── structures\n",
    "        ├── by_gene  # structures are stored here, in gene specific folders\n",
    "        │   ├── <gene_id1>\n",
    "        │   │   └── 1abc.pdb\n",
    "        │   ├── <gene_id2>\n",
    "        │   └── ...\n",
    "        └── by_complex  # complexes for reactions are stored here (in progress)\n",
    "```"
   ]
  },
  {
   "cell_type": "code",
   "execution_count": 4,
   "metadata": {
    "collapsed": true
   },
   "outputs": [],
   "source": [
    "GEM_NAME = 'iNJ661'\n",
    "\n",
    "ROOT_DIR = '/home/nathan/projects/'\n",
    "\n",
    "GEM_FILE = '/home/nathan/projects/iNJ661/model/iNJ661.json'"
   ]
  },
  {
   "cell_type": "code",
   "execution_count": 5,
   "metadata": {
    "collapsed": false
   },
   "outputs": [
    {
     "name": "stderr",
     "output_type": "stream",
     "text": [
      "INFO:ssbio.pipeline.gempro:Loaded model: /home/nathan/projects/iNJ661/model/iNJ661.json\n",
      "INFO:ssbio.pipeline.gempro:Number of reactions: 1025\n",
      "INFO:ssbio.pipeline.gempro:Number of reactions linked to a gene: 720\n",
      "INFO:ssbio.pipeline.gempro:Number of genes (excluding spontaneous): 661\n",
      "INFO:ssbio.pipeline.gempro:Number of metabolites: 826\n"
     ]
    }
   ],
   "source": [
    "# Create the GEM-PRO project\n",
    "# Specify that the model is in json format\n",
    "my_gempro = GEMPRO(gem_name=GEM_NAME, root_dir=ROOT_DIR, gem_file_path=GEM_FILE, gem_file_type='json')"
   ]
  },
  {
   "cell_type": "markdown",
   "metadata": {},
   "source": [
    "## Mapping gene ID to sequence\n",
    "\n",
    "**First, we want to set a sequence for each of the genes in our model.** This can happen one of two ways:\n",
    "\n",
    "1. I want to map the gene IDs in the model (I don't have the original genome sequence)\n",
    "2. I have the sequences for my organism\n",
    "\n",
    "---------------------\n",
    "\n",
    "### 1. I want to map the gene IDs in the model\n",
    "\n",
    "\n",
    "##### Mapping with KEGG\n",
    "\n",
    "- Files downloaded:\n",
    "    - Per gene, the KEGG sequence and metadata is downloaded in the GEM-PRO \"sequences\" folder.\n",
    "    \n",
    "\n",
    "- Usage:\n",
    "        my_gempro.kegg_mapping_and_metadata(kegg_organism_code, custom_gene_mapping=None, force_rerun=False)\n",
    "\n",
    "\n",
    "- Arguments:\n",
    "\n",
    "    - *kegg_organism_code*\n",
    "        - See the full list of organisms here: http://www.genome.jp/kegg/catalog/org_list.html\n",
    "        - E. coli MG1655 is \"eco\"\n",
    "        - M. tuberculosis is \"mtu\"\n",
    "\n",
    "    - *custom_gene_mapping*\n",
    "        - If the model gene IDs differ from the KEGG gene IDs, and you know the mapping, supply it as a dictionary here. \n",
    "        - An example would be for the *T. maritima* model, where the model IDs are formatted without an underscore (\"TM0001\") while in KEGG they have an underscore (\"TM_0001\").\n",
    "\n",
    "    - *force_rerun*\n",
    "        - If you want to force the rerun of mapping, set this to True.\n",
    "\n",
    "\n",
    "- Creates attributes:\n",
    "    - A summary of the metadata is available in the \"df_kegg_metadata\" attribute.\n",
    "            my_gempro.df_kegg_metadata\n",
    "            \n",
    "    - Any gene IDs that are missing a mapping are reported in the \"missing_kegg_mapping\" attribute.\n",
    "            my_gempro.missing_kegg_mapping\n",
    "        \n",
    "    \n",
    "##### Mapping with UniProt\n",
    "\n",
    "- Method:\n",
    "    - You can try mapping your genes using the actual service here: http://www.uniprot.org/uploadlists/\n",
    "    \n",
    "    \n",
    "- Files downloaded:\n",
    "    - Per gene, the sequence and metadata is downloaded in the GEM-PRO \"sequences\" folder.\n",
    "    \n",
    "\n",
    "- Usage:\n",
    "        my_gempro.uniprot_mapping_and_metadata(model_gene_source, custom_gene_mapping=None, force_rerun=False)\n",
    "        \n",
    "        \n",
    "- Arguments:\n",
    "\n",
    "    - *model_gene_source*\n",
    "        - Here is a list of the gene IDs that can be mapped to UniProt IDs: http://www.uniprot.org/help/programmatic_access#id_mapping_examples\n",
    "        - *E. coli* b-numbers are of the source \"ENSEMBLGENOME_ID\"\n",
    "        - *M. tuberculosis* gene IDs match the source \"TUBERCULIST_ID\"\n",
    "        \n",
    "    - *custom_gene_mapping*\n",
    "        - If you know the model gene ID to UniProt ID mapping, supply it as a dictionary here.\n",
    "        \n",
    "    - *force_rerun*\n",
    "        - If you want to force the rerun of mapping, set this to True.\n",
    "        \n",
    "        \n",
    "- Creates attributes:\n",
    "    - A summary of the metadata is available in the \"df_uniprot_metadata\" attribute.\n",
    "            my_gempro.df_uniprot_metadata\n",
    "            \n",
    "    - Any gene IDs that are missing a mapping are reported in the \"missing_uniprot_mapping\" attribute.\n",
    "            my_gempro.missing_uniprot_mapping\n",
    "        \n",
    "            \n",
    "##### Consolidating information\n",
    "\n",
    "If you have mapped with both KEGG and UniProt mappers, then you can set a representative sequence for the gene using this function.\n",
    "\n",
    "- Method:\n",
    "    - Manual mappings override all existing mappings.\n",
    "    - UniProt mappings override KEGG mappings except when KEGG mappings have PDBs associated with them and UniProt doesn't.\n",
    "\n",
    "\n",
    "- Usage:\n",
    "        my_gempro.set_representative_sequence()\n",
    "\n",
    "\n",
    "- Creates attributes:\n",
    "    - A summary of the mappings available in the \"df_sequence_mapping\" attribute.\n",
    "            my_gempro.df_sequence_mapping\n",
    "            \n",
    "    - Any gene IDs that are missing a mapping are reported in the \"missing_mapping\" attribute.\n",
    "            my_gempro.missing_mapping\n",
    "        \n",
    "\n",
    "---------------------------\n",
    "\n",
    "\n",
    "### 2. I have the sequences for my organism\n",
    "\n",
    "If you already have the amino acid sequences for each gene, simply set them as the representative sequence using the below function.\n",
    "\n",
    "##### Setting the amino acid sequences\n",
    "\n",
    "- Usage:\n",
    "        my_gempro.manual_seq_mapping(gene_to_seq_dict)\n",
    "        \n",
    "        \n",
    "- Arguments:\n",
    "\n",
    "    - *gene_to_seq_dict*\n",
    "        - Supply a dictionary mapping the model gene IDs to their amino acid sequences.\n",
    "        - Example: \n",
    "                {'Rv1295': 'MFNGLNPTEDFVVLFEKDGNIYIADAPLSQRGVGKRSF'}\n",
    "\n",
    "-------------------\n",
    "\n",
    "### Gene annotations\n",
    "\n",
    "Check out the gene annotations saved directly into the gene. \n",
    "\n",
    "- **These are COBRApy Gene objects! If you started with a SBML model, these are directly annotated within the model.**\n",
    "\n",
    "- Usage:\n",
    "        my_gempro.genes.get_by_id('Rv1295').annotation\n",
    "        my_gempro.genes.get_by_id('Rv1295').annotation['sequence']"
   ]
  },
  {
   "cell_type": "code",
   "execution_count": 17,
   "metadata": {
    "collapsed": false
   },
   "outputs": [
    {
     "name": "stderr",
     "output_type": "stream",
     "text": [
      "  0%|          | 0/661 [00:00<?, ?it/s]WARNING:root:status is not ok with Not Found\n",
      "WARNING:root:status is not ok with Not Found\n",
      " 20%|█▉        | 131/661 [00:00<00:02, 211.03it/s]WARNING:root:status is not ok with Not Found\n",
      "WARNING:root:status is not ok with Not Found\n",
      " 21%|██▏       | 142/661 [00:00<00:06, 82.52it/s] WARNING:root:status is not ok with Not Found\n",
      "WARNING:root:status is not ok with Not Found\n",
      " 54%|█████▍    | 360/661 [00:01<00:02, 110.75it/s]WARNING:root:status is not ok with Not Found\n",
      " 58%|█████▊    | 381/661 [00:01<00:02, 116.89it/s]WARNING:root:status is not ok with Not Found\n",
      "WARNING:root:status is not ok with Not Found\n",
      "WARNING:root:status is not ok with Not Found\n",
      "WARNING:root:status is not ok with Not Found\n",
      "100%|██████████| 661/661 [00:02<00:00, 301.98it/s]\n",
      "INFO:ssbio.pipeline.gempro:Created KEGG metadata dataframe. See the \"df_kegg_metadata\" attribute.\n",
      "WARNING:ssbio.pipeline.gempro:6 gene(s) could not be mapped. Inspect the \"missing_kegg_mapping\" attribute.\n"
     ]
    },
    {
     "data": {
      "text/html": [
       "<div>\n",
       "<table border=\"1\" class=\"dataframe\">\n",
       "  <thead>\n",
       "    <tr style=\"text-align: right;\">\n",
       "      <th></th>\n",
       "      <th>gene</th>\n",
       "      <th>uniprot_acc</th>\n",
       "      <th>kegg_id</th>\n",
       "      <th>seq_len</th>\n",
       "      <th>pdbs</th>\n",
       "      <th>seq_file</th>\n",
       "      <th>metadata_file</th>\n",
       "    </tr>\n",
       "  </thead>\n",
       "  <tbody>\n",
       "    <tr>\n",
       "      <th>0</th>\n",
       "      <td>Rv0417</td>\n",
       "      <td>P9WG73</td>\n",
       "      <td>mtu:Rv0417</td>\n",
       "      <td>252.0</td>\n",
       "      <td>NaN</td>\n",
       "      <td>mtu-Rv0417.faa</td>\n",
       "      <td>mtu-Rv0417.kegg</td>\n",
       "    </tr>\n",
       "    <tr>\n",
       "      <th>1</th>\n",
       "      <td>Rv2291</td>\n",
       "      <td>P9WHF5</td>\n",
       "      <td>mtu:Rv2291</td>\n",
       "      <td>284.0</td>\n",
       "      <td>NaN</td>\n",
       "      <td>mtu-Rv2291.faa</td>\n",
       "      <td>mtu-Rv2291.kegg</td>\n",
       "    </tr>\n",
       "  </tbody>\n",
       "</table>\n",
       "</div>"
      ],
      "text/plain": [
       "     gene uniprot_acc     kegg_id  seq_len pdbs        seq_file  \\\n",
       "0  Rv0417      P9WG73  mtu:Rv0417    252.0  NaN  mtu-Rv0417.faa   \n",
       "1  Rv2291      P9WHF5  mtu:Rv2291    284.0  NaN  mtu-Rv2291.faa   \n",
       "\n",
       "     metadata_file  \n",
       "0  mtu-Rv0417.kegg  \n",
       "1  mtu-Rv2291.kegg  "
      ]
     },
     "execution_count": 17,
     "metadata": {},
     "output_type": "execute_result"
    },
    {
     "data": {
      "text/plain": [
       "['Rv1755c', 'Rv2233', 'Rv0619', 'Rv0618', 'Rv2321c', 'Rv2322c']"
      ]
     },
     "execution_count": 17,
     "metadata": {},
     "output_type": "execute_result"
    }
   ],
   "source": [
    "# KEGG mapping of gene ids\n",
    "my_gempro.kegg_mapping_and_metadata(kegg_organism_code='mtu')\n",
    "my_gempro.df_kegg_metadata.head(2)\n",
    "my_gempro.missing_kegg_mapping"
   ]
  },
  {
   "cell_type": "code",
   "execution_count": 19,
   "metadata": {
    "collapsed": false,
    "scrolled": false
   },
   "outputs": [
    {
     "name": "stderr",
     "output_type": "stream",
     "text": [
      "INFO:root:getUserAgent: Begin\n",
      "INFO:root:getUserAgent: user_agent: EBI-Sample-Client/ (services.py; Python 3.5.2; Linux) Python-requests/2.11.1\n",
      "INFO:root:getUserAgent: End\n",
      "100%|██████████| 661/661 [00:00<00:00, 2422.65it/s]\n",
      "INFO:ssbio.pipeline.gempro:Updated existing UniProt dataframe.\n",
      "WARNING:ssbio.pipeline.gempro:75 gene(s) could not be mapped. Inspect the \"missing_uniprot_mapping\" attribute.\n"
     ]
    },
    {
     "data": {
      "text/html": [
       "<div>\n",
       "<table border=\"1\" class=\"dataframe\">\n",
       "  <thead>\n",
       "    <tr style=\"text-align: right;\">\n",
       "      <th></th>\n",
       "      <th>gene</th>\n",
       "      <th>uniprot_acc</th>\n",
       "      <th>seq_len</th>\n",
       "      <th>seq_file</th>\n",
       "      <th>pdbs</th>\n",
       "      <th>gene_name</th>\n",
       "      <th>reviewed</th>\n",
       "      <th>kegg_id</th>\n",
       "      <th>refseq</th>\n",
       "      <th>ec_number</th>\n",
       "      <th>pfam</th>\n",
       "      <th>description</th>\n",
       "      <th>entry_version</th>\n",
       "      <th>seq_version</th>\n",
       "      <th>metadata_file</th>\n",
       "    </tr>\n",
       "  </thead>\n",
       "  <tbody>\n",
       "    <tr>\n",
       "      <th>0</th>\n",
       "      <td>Rv0417</td>\n",
       "      <td>P9WG73</td>\n",
       "      <td>252.0</td>\n",
       "      <td>P9WG73.fasta</td>\n",
       "      <td>[]</td>\n",
       "      <td>thiG</td>\n",
       "      <td>True</td>\n",
       "      <td>[mtu:Rv0417]</td>\n",
       "      <td>[NP_214931.1, NC_000962.3, WP_003916659.1, NZ_...</td>\n",
       "      <td>[2.8.1.10]</td>\n",
       "      <td>NaN</td>\n",
       "      <td>[Thiazole synthase {ECO:0000255|HAMAP-Rule:MF_...</td>\n",
       "      <td>2016-10-05</td>\n",
       "      <td>2014-04-16</td>\n",
       "      <td>P9WG73.txt</td>\n",
       "    </tr>\n",
       "    <tr>\n",
       "      <th>1</th>\n",
       "      <td>Rv2291</td>\n",
       "      <td>P9WHF5</td>\n",
       "      <td>284.0</td>\n",
       "      <td>P9WHF5.fasta</td>\n",
       "      <td>[]</td>\n",
       "      <td>sseB</td>\n",
       "      <td>True</td>\n",
       "      <td>[mtu:Rv2291]</td>\n",
       "      <td>[NP_216807.1, NC_000962.3, WP_003899253.1, NZ_...</td>\n",
       "      <td>[2.8.1.1]</td>\n",
       "      <td>[PF00581]</td>\n",
       "      <td>[Putative thiosulfate sulfurtransferase SseB]</td>\n",
       "      <td>2016-10-05</td>\n",
       "      <td>2014-04-16</td>\n",
       "      <td>P9WHF5.txt</td>\n",
       "    </tr>\n",
       "  </tbody>\n",
       "</table>\n",
       "</div>"
      ],
      "text/plain": [
       "     gene uniprot_acc  seq_len      seq_file pdbs gene_name reviewed  \\\n",
       "0  Rv0417      P9WG73    252.0  P9WG73.fasta   []      thiG     True   \n",
       "1  Rv2291      P9WHF5    284.0  P9WHF5.fasta   []      sseB     True   \n",
       "\n",
       "        kegg_id                                             refseq  \\\n",
       "0  [mtu:Rv0417]  [NP_214931.1, NC_000962.3, WP_003916659.1, NZ_...   \n",
       "1  [mtu:Rv2291]  [NP_216807.1, NC_000962.3, WP_003899253.1, NZ_...   \n",
       "\n",
       "    ec_number       pfam                                        description  \\\n",
       "0  [2.8.1.10]        NaN  [Thiazole synthase {ECO:0000255|HAMAP-Rule:MF_...   \n",
       "1   [2.8.1.1]  [PF00581]      [Putative thiosulfate sulfurtransferase SseB]   \n",
       "\n",
       "  entry_version seq_version metadata_file  \n",
       "0    2016-10-05  2014-04-16    P9WG73.txt  \n",
       "1    2016-10-05  2014-04-16    P9WHF5.txt  "
      ]
     },
     "execution_count": 19,
     "metadata": {},
     "output_type": "execute_result"
    }
   ],
   "source": [
    "# UniProt mapping of gene_id -> uniprot_id\n",
    "my_gempro.uniprot_mapping_and_metadata(model_gene_source='TUBERCULIST_ID')\n",
    "my_gempro.df_uniprot_metadata.head(2)"
   ]
  },
  {
   "cell_type": "code",
   "execution_count": 8,
   "metadata": {
    "collapsed": false
   },
   "outputs": [
    {
     "name": "stdout",
     "output_type": "stream",
     "text": [
      "{'Rv0619': 'Q79FY3', 'Rv2321c': 'P71891', 'Rv0618': 'Q79FY4', 'Rv2322c': 'P71890', 'Rv1755c': 'P9WIA9'}\n"
     ]
    },
    {
     "name": "stderr",
     "output_type": "stream",
     "text": [
      "INFO:ssbio.pipeline.gempro:Updated existing UniProt dataframe.\n"
     ]
    }
   ],
   "source": [
    "# Manually adding in UniProt mappings later\n",
    "manual_uniprot = pd.read_csv(op.join(my_gempro.data_dir, '161019-gene_to_uniprot.in'))\n",
    "manual_uniprot_dict = {}\n",
    "for i,r in manual_uniprot.iterrows():\n",
    "    manual_uniprot_dict[r[0]] = r[1]\n",
    "print(manual_uniprot_dict)\n",
    "my_gempro.manual_uniprot_mapping(manual_uniprot_dict)"
   ]
  },
  {
   "cell_type": "code",
   "execution_count": 20,
   "metadata": {
    "collapsed": false
   },
   "outputs": [
    {
     "name": "stderr",
     "output_type": "stream",
     "text": [
      "WARNING:ssbio.pipeline.gempro:1 gene(s) could not be mapped. Inspect the \"missing_mapping\" attribute.\n",
      "INFO:ssbio.pipeline.gempro:Created sequence mapping dataframe. See the \"df_sequence_mapping\" attribute.\n"
     ]
    },
    {
     "data": {
      "text/html": [
       "<div>\n",
       "<table border=\"1\" class=\"dataframe\">\n",
       "  <thead>\n",
       "    <tr style=\"text-align: right;\">\n",
       "      <th></th>\n",
       "      <th>gene</th>\n",
       "      <th>uniprot_acc</th>\n",
       "      <th>kegg_id</th>\n",
       "      <th>pdbs</th>\n",
       "      <th>seq_len</th>\n",
       "      <th>seq_file</th>\n",
       "      <th>metadata_file</th>\n",
       "    </tr>\n",
       "  </thead>\n",
       "  <tbody>\n",
       "    <tr>\n",
       "      <th>0</th>\n",
       "      <td>Rv0417</td>\n",
       "      <td>P9WG73</td>\n",
       "      <td>mtu:Rv0417</td>\n",
       "      <td>NaN</td>\n",
       "      <td>252.0</td>\n",
       "      <td>P9WG73.fasta</td>\n",
       "      <td>P9WG73.txt</td>\n",
       "    </tr>\n",
       "    <tr>\n",
       "      <th>1</th>\n",
       "      <td>Rv2291</td>\n",
       "      <td>P9WHF5</td>\n",
       "      <td>mtu:Rv2291</td>\n",
       "      <td>NaN</td>\n",
       "      <td>284.0</td>\n",
       "      <td>P9WHF5.fasta</td>\n",
       "      <td>P9WHF5.txt</td>\n",
       "    </tr>\n",
       "  </tbody>\n",
       "</table>\n",
       "</div>"
      ],
      "text/plain": [
       "     gene uniprot_acc     kegg_id pdbs  seq_len      seq_file metadata_file\n",
       "0  Rv0417      P9WG73  mtu:Rv0417  NaN    252.0  P9WG73.fasta    P9WG73.txt\n",
       "1  Rv2291      P9WHF5  mtu:Rv2291  NaN    284.0  P9WHF5.fasta    P9WHF5.txt"
      ]
     },
     "execution_count": 20,
     "metadata": {},
     "output_type": "execute_result"
    },
    {
     "data": {
      "text/plain": [
       "['Rv2233']"
      ]
     },
     "execution_count": 20,
     "metadata": {},
     "output_type": "execute_result"
    }
   ],
   "source": [
    "# Consolidate mappings sources\n",
    "my_gempro.set_representative_sequence()\n",
    "my_gempro.df_sequence_mapping.head(2)\n",
    "my_gempro.missing_mapping"
   ]
  },
  {
   "cell_type": "code",
   "execution_count": 21,
   "metadata": {
    "collapsed": false
   },
   "outputs": [
    {
     "data": {
      "text/plain": [
       "{'kegg': {'kegg_id': 'mtu:Rv0417',\n",
       "  'metadata_file': 'mtu-Rv0417.kegg',\n",
       "  'pdbs': [],\n",
       "  'seq_file': 'mtu-Rv0417.faa',\n",
       "  'seq_len': 252,\n",
       "  'uniprot_acc': 'P9WG73'},\n",
       " 'representative': {'kegg_id': ['mtu:Rv0417'],\n",
       "  'metadata_file': 'P9WG73.txt',\n",
       "  'pdbs': [],\n",
       "  'seq_file': 'P9WG73.fasta',\n",
       "  'seq_len': 252,\n",
       "  'uniprot_acc': 'P9WG73'},\n",
       " 'uniprot': {'P9WG73': {'description': ['Thiazole synthase {ECO:0000255|HAMAP-Rule:MF_00443}'],\n",
       "   'ec_number': ['2.8.1.10'],\n",
       "   'entry_version': '2016-10-05',\n",
       "   'gene': 'Rv0417',\n",
       "   'gene_name': 'thiG',\n",
       "   'kegg_id': ['mtu:Rv0417'],\n",
       "   'metadata_file': 'P9WG73.txt',\n",
       "   'pdbs': [],\n",
       "   'refseq': ['NP_214931.1', 'NC_000962.3', 'WP_003916659.1', 'NZ_KK339370.1'],\n",
       "   'reviewed': True,\n",
       "   'seq_file': 'P9WG73.fasta',\n",
       "   'seq_len': 252,\n",
       "   'seq_version': '2014-04-16',\n",
       "   'uniprot_acc': 'P9WG73'}}}"
      ]
     },
     "execution_count": 21,
     "metadata": {},
     "output_type": "execute_result"
    }
   ],
   "source": [
    "# Looking at sequence information saved per gene\n",
    "my_gempro.genes.get_by_id('Rv0417').annotation['sequence']"
   ]
  },
  {
   "cell_type": "markdown",
   "metadata": {},
   "source": [
    "## Mapping representative sequence to structure\n",
    "\n",
    "There are two ways to map sequence to structure:\n",
    "\n",
    "1. Use the UniProt ID and their automatic mappings to the PDB\n",
    "2. BLAST the sequence to the PDB\n",
    "\n",
    "As you can see, if you mapped UniProt IDs, then you can utilize an existing web service to map to PDBs. If not, you'll have to BLAST your sequence to the PDB. You can also run both for maximum coverage.\n",
    "\n",
    "---------------------\n",
    "\n",
    "### 1. Use the UniProt ID and their automatic mappings to the PDB\n",
    "\n",
    "\n",
    "- Method:\n",
    "    - Use the PDBe REST service to query for the best PDB structures for a UniProt ID.\n",
    "    - Here is the ranking algorithm described by the PDB paper: https://nar.oxfordjournals.org/content/44/D1/D385.full\n",
    "    - More information found here: https://www.ebi.ac.uk/pdbe/api/doc/sifts.html\n",
    "    - Link used to retrieve results: https://www.ebi.ac.uk/pdbe/api/mappings/best_structures/:accession\n",
    "    - The list of PDB structures mapping to a UniProt accession sorted by coverage of the protein and, if the same, resolution.\n",
    "\n",
    "\n",
    "- Files downloaded:\n",
    "    - Saves a .json file directly from the web request in the GEM-PRO \"sequences\" folder\n",
    "    - No PDBs are downloaded yet\n",
    "    \n",
    "    \n",
    "- Usage:\n",
    "        my_gempro.map_uniprot_to_pdb(seq_ident_cutoff=0, force_rerun=False)\n",
    "        \n",
    "        \n",
    "- Arguments:\n",
    "\n",
    "    - *seq_ident_cutoff*\n",
    "        - From 0 to 1\n",
    "        - Provide the seq_ident_cutoff as a percentage to filter for structures with only a percent identity above the cutoff.\n",
    "        - **Warning:** if you set the seq_ident_cutoff too high you risk filtering out PDBs that do match the sequence, but are just missing large portions of it.\n",
    "        \n",
    "    - *force_rerun*\n",
    "        - If you want to force the rerun of mapping, set this to True.\n",
    "        \n",
    "        \n",
    "- Creates attributes:\n",
    "\n",
    "    - A summary of the rankings is available in the \"df_pdb_ranking\" attribute.\n",
    "            my_gempro.df_pdb_ranking\n",
    "    \n",
    "        \n",
    "---------------------------\n",
    "\n",
    "\n",
    "### 2. BLAST the sequence to the PDB\n",
    "\n",
    "This will BLAST the representative sequence against the entire PDB, and return significant hits. This will however return hits in other organisms, which may not be ideal.\n",
    "\n",
    "\n",
    "- Method:\n",
    "    - BLAST the representative sequence to the entire PDB.\n",
    "\n",
    "\n",
    "- Files downloaded:\n",
    "    - Saves a .xml file directly from the web request in the GEM-PRO \"sequences\" folder\n",
    "    - No PDBs are downloaded yet\n",
    "    \n",
    "    \n",
    "- Usage:\n",
    "        my_gempro.blast_seqs_to_pdb(seq_ident_cutoff=0, evalue=0.0001, all_genes=False, force_rerun=False, display_link=False)\n",
    "        \n",
    "        \n",
    "- Arguments:\n",
    "\n",
    "    - *seq_ident_cutoff*\n",
    "        - From 0 (default) to 1\n",
    "        - Provide the seq_ident_cutoff as a percentage to filter for structures with only a percent identity above the cutoff.\n",
    "        - **Warning:** if you set the seq_ident_cutoff too high you risk filtering out PDBs that do match the sequence, but are just missing large portions of it.\n",
    "        \n",
    "    - *evalue*\n",
    "        - Cutoff for the E-value - filters for significant hits.\n",
    "        - 0.001 is liberal, 0.0001 is stringent (default).\n",
    "        \n",
    "    - *all_genes*\n",
    "        - Set to True if you want to BLAST all gene sequences\n",
    "        - Set to False if you only want to BLAST genes without any PDBs (if map_uniprot_to_pdb was already run)\n",
    "        \n",
    "    - *force_rerun*\n",
    "        - If you want to force the rerun of mapping, set this to True.\n",
    "        \n",
    "    - *display_link*\n",
    "        - Display a link to the HTML results of the BLAST result per gene.\n",
    "        \n",
    "        \n",
    "- Creates attributes:\n",
    "\n",
    "    - A summary of the rankings is available in the \"df_pdb_blast\" attribute.\n",
    "            my_gempro.df_pdb_blast\n",
    "            \n",
    "\n",
    "-------------------\n",
    "\n",
    "\n",
    "### Gene annotations\n",
    "\n",
    "Check out the gene annotations saved directly into the gene.\n",
    "\n",
    "- Usage:\n",
    "        my_gempro.genes.get_by_id('Rv1295').annotation['structure']['pdb']\n"
   ]
  },
  {
   "cell_type": "code",
   "execution_count": 22,
   "metadata": {
    "collapsed": false
   },
   "outputs": [
    {
     "name": "stderr",
     "output_type": "stream",
     "text": [
      " 17%|█▋        | 114/661 [00:03<04:02,  2.26it/s]WARNING:ssbio.pipeline.gempro:Rv2233: No representative UniProt ID set, cannot use best structures API\n",
      "100%|██████████| 661/661 [00:04<00:00, 160.34it/s]\n",
      "INFO:ssbio.pipeline.gempro:Completed UniProt -> best PDB mapping. See the \"df_pdb_ranking\" attribute.\n"
     ]
    }
   ],
   "source": [
    "# Mapping using the PDBe best_structures service\n",
    "my_gempro.map_uniprot_to_pdb()"
   ]
  },
  {
   "cell_type": "code",
   "execution_count": 23,
   "metadata": {
    "collapsed": false
   },
   "outputs": [
    {
     "name": "stderr",
     "output_type": "stream",
     "text": [
      "  2%|▏         | 14/661 [00:00<00:04, 139.31it/s]INFO:ssbio.pipeline.gempro:Rv3846: Adding 20 PDBs from BLAST results.\n",
      "  5%|▌         | 35/661 [00:00<00:04, 154.53it/s]INFO:ssbio.pipeline.gempro:Rv2539c: Adding 4 PDBs from BLAST results.\n",
      " 10%|▉         | 66/661 [00:00<00:03, 180.38it/s]INFO:ssbio.pipeline.gempro:Rv1603: Adding 2 PDBs from BLAST results.\n",
      " 15%|█▍        | 97/661 [00:00<00:02, 205.19it/s]INFO:ssbio.pipeline.gempro:Rv3628: Adding 1 PDBs from BLAST results.\n",
      "WARNING:ssbio.pipeline.gempro:Rv2233: No sequence set\n",
      " 32%|███▏      | 210/661 [00:00<00:01, 276.25it/s]INFO:ssbio.pipeline.gempro:Rv2764c: Adding 1 PDBs from BLAST results.\n",
      " 38%|███▊      | 250/661 [00:00<00:01, 300.94it/s]INFO:ssbio.pipeline.gempro:Rv0467: Adding 4 PDBs from BLAST results.\n",
      " 44%|████▍     | 291/661 [00:00<00:01, 323.83it/s]INFO:ssbio.pipeline.gempro:Rv1415: Adding 2 PDBs from BLAST results.\n",
      " 50%|█████     | 331/661 [00:01<00:00, 339.88it/s]INFO:ssbio.pipeline.gempro:Rv2220: Adding 24 PDBs from BLAST results.\n",
      " 59%|█████▊    | 388/661 [00:01<00:00, 386.01it/s]INFO:ssbio.pipeline.gempro:Rv0548c: Adding 1 PDBs from BLAST results.\n",
      "INFO:ssbio.pipeline.gempro:Rv2043c: Adding 1 PDBs from BLAST results.\n",
      "INFO:ssbio.pipeline.gempro:Rv2445c: Adding 1 PDBs from BLAST results.\n",
      " 66%|██████▋   | 439/661 [00:01<00:00, 415.37it/s]INFO:ssbio.pipeline.gempro:Rv0126: Adding 2 PDBs from BLAST results.\n",
      "INFO:ssbio.pipeline.gempro:Rv2537c: Adding 2 PDBs from BLAST results.\n",
      "INFO:ssbio.pipeline.gempro:Rv2753c: Adding 1 PDBs from BLAST results.\n",
      " 88%|████████▊ | 579/661 [00:01<00:00, 351.44it/s]INFO:ssbio.pipeline.gempro:Rv1484: Adding 5 PDBs from BLAST results.\n",
      "INFO:ssbio.pipeline.gempro:Rv0533c: Adding 1 PDBs from BLAST results.\n",
      "INFO:ssbio.pipeline.gempro:Rv0859: Adding 1 PDBs from BLAST results.\n",
      "100%|██████████| 661/661 [00:01<00:00, 347.42it/s]\n",
      "INFO:ssbio.pipeline.gempro:Completed sequence --> PDB BLAST. See the \"df_pdb_blast\" attribute.\n"
     ]
    }
   ],
   "source": [
    "# Mapping using BLAST\n",
    "my_gempro.blast_seqs_to_pdb(seq_ident_cutoff=.99, all_genes=True)"
   ]
  },
  {
   "cell_type": "markdown",
   "metadata": {},
   "source": [
    "## Mapping representative sequence to structure\n",
    "\n",
    "There are two ways to map sequence to structure:\n",
    "\n",
    "1. Use the UniProt ID and their automatic mappings to the PDB\n",
    "2. BLAST the sequence to the PDB\n",
    "\n",
    "As you can see, if you mapped UniProt IDs, then you can utilize an existing web service to map to PDBs. If not, you'll have to BLAST your sequence to the PDB. You can also run both for maximum coverage.\n",
    "\n",
    "---------------------\n",
    "\n",
    "### 1. Use the UniProt ID and their automatic mappings to the PDB\n",
    "\n",
    "\n",
    "- Method:\n",
    "    - Use the PDBe REST service to query for the best PDB structures for a UniProt ID.\n",
    "    - Here is the ranking algorithm described by the PDB paper: https://nar.oxfordjournals.org/content/44/D1/D385.full\n",
    "    - More information found here: https://www.ebi.ac.uk/pdbe/api/doc/sifts.html\n",
    "    - Link used to retrieve results: https://www.ebi.ac.uk/pdbe/api/mappings/best_structures/:accession\n",
    "    - The list of PDB structures mapping to a UniProt accession sorted by coverage of the protein and, if the same, resolution.\n",
    "\n",
    "\n",
    "- Files downloaded:\n",
    "    - Saves a .json file directly from the web request in the GEM-PRO \"sequences\" folder\n",
    "    - No PDBs are downloaded yet\n",
    "    \n",
    "    \n",
    "- Usage:\n",
    "        my_gempro.map_uniprot_to_pdb(seq_ident_cutoff=0, force_rerun=False)\n",
    "        \n",
    "        \n",
    "- Arguments:\n",
    "\n",
    "    - *seq_ident_cutoff*\n",
    "        - From 0 to 1\n",
    "        - Provide the seq_ident_cutoff as a percentage to filter for structures with only a percent identity above the cutoff.\n",
    "        - **Warning:** if you set the seq_ident_cutoff too high you risk filtering out PDBs that do match the sequence, but are just missing large portions of it.\n",
    "        \n",
    "    - *force_rerun*\n",
    "        - If you want to force the rerun of mapping, set this to True.\n",
    "        \n",
    "        \n",
    "- Creates attributes:\n",
    "\n",
    "    - A summary of the rankings is available in the \"df_pdb_ranking\" attribute.\n",
    "            my_gempro.df_pdb_ranking\n",
    "    "
   ]
  },
  {
   "cell_type": "code",
   "execution_count": 12,
   "metadata": {
    "collapsed": true
   },
   "outputs": [],
   "source": [
    "old_gene_to_homology = pd.read_csv('~/projects/iNJ661/data_frames/DF_01_RXN_GENE_UNIPROT_PDB.csv')\n",
    "old_gene_to_homology = old_gene_to_homology[['m_gene','u_uniprot_acc']].drop_duplicates().reset_index(drop=True)\n",
    "old_gene_to_homology = old_gene_to_homology[pd.notnull(old_gene_to_homology.u_uniprot_acc)]\n",
    "old_gene_to_homology.to_csv(op.join(my_gempro.data_dir,'161031-old_gene_to_uniprot_mapping.csv'))\n",
    "gene_to_uniprot = old_gene_to_homology.set_index('m_gene').to_dict()['u_uniprot_acc']"
   ]
  },
  {
   "cell_type": "code",
   "execution_count": 13,
   "metadata": {
    "collapsed": false
   },
   "outputs": [
    {
     "name": "stderr",
     "output_type": "stream",
     "text": [
      "100%|██████████| 661/661 [00:00<00:00, 5759.53it/s]\n",
      "ssbio.gempro.pipeline - INFO - Completed copying of I-TASSER models to GEM-PRO directory. See the \"df_itasser\" attribute.\n"
     ]
    }
   ],
   "source": [
    "my_gempro.get_itasser_models(homology_raw_dir='/home/nathan/projects_unsynced/iNJ661/structure_files/homology_models_prep', custom_itasser_name_mapping=gene_to_uniprot)"
   ]
  },
  {
   "cell_type": "code",
   "execution_count": 47,
   "metadata": {
    "collapsed": false
   },
   "outputs": [
    {
     "name": "stderr",
     "output_type": "stream",
     "text": [
      "100%|██████████| 661/661 [00:00<00:00, 340510.31it/s]\n"
     ]
    }
   ],
   "source": [
    "my_gempro.set_representative_structure()"
   ]
  },
  {
   "cell_type": "code",
   "execution_count": 49,
   "metadata": {
    "collapsed": false
   },
   "outputs": [
    {
     "data": {
      "text/plain": [
       "{'homology': {'Rv1731': {'c_score': -0.22,\n",
       "   'difficulty': 'easy',\n",
       "   'model_date': '2016-01-08',\n",
       "   'model_file': 'Rv1731.pdb',\n",
       "   'rmsd': 7.9,\n",
       "   'rmsd_err': 4.4,\n",
       "   'seq_coverage': 1,\n",
       "   'tm_score': 0.69,\n",
       "   'tm_score_err': 0.12,\n",
       "   'top_template_chain': 'A',\n",
       "   'top_template_pdb': '4h73'}},\n",
       " 'pdb': OrderedDict(),\n",
       " 'representative': {'clean_pdb_file': None,\n",
       "  'original_pdb_file': None,\n",
       "  'seq_coverage': 0,\n",
       "  'structure_id': None}}"
      ]
     },
     "execution_count": 49,
     "metadata": {},
     "output_type": "execute_result"
    }
   ],
   "source": [
    "my_gempro.genes[33].annotation['structure']"
   ]
  },
  {
   "cell_type": "code",
   "execution_count": 45,
   "metadata": {
    "collapsed": false
   },
   "outputs": [
    {
     "data": {
      "text/plain": [
       "OrderedDict([('2d1f_A',\n",
       "              {'experimental_method': 'X-ray diffraction',\n",
       "               'pdb_chain_id': 'A',\n",
       "               'pdb_end': 360,\n",
       "               'pdb_id': '2d1f',\n",
       "               'pdb_start': 1,\n",
       "               'rank': 1,\n",
       "               'release_date': '2006-09-05',\n",
       "               'resolution': 2.5,\n",
       "               'seq_coverage': 1,\n",
       "               'taxonomy_id': 1773,\n",
       "               'uniprot_acc': 'P9WG59',\n",
       "               'unp_end': 360,\n",
       "               'unp_start': 1}),\n",
       "             ('2d1f_B',\n",
       "              {'experimental_method': 'X-ray diffraction',\n",
       "               'pdb_chain_id': 'B',\n",
       "               'pdb_end': 360,\n",
       "               'pdb_id': '2d1f',\n",
       "               'pdb_start': 1,\n",
       "               'rank': 2,\n",
       "               'release_date': '2006-09-05',\n",
       "               'resolution': 2.5,\n",
       "               'seq_coverage': 1,\n",
       "               'taxonomy_id': 1773,\n",
       "               'uniprot_acc': 'P9WG59',\n",
       "               'unp_end': 360,\n",
       "               'unp_start': 1})])"
      ]
     },
     "execution_count": 45,
     "metadata": {},
     "output_type": "execute_result"
    }
   ],
   "source": [
    "my_gempro.genes[3].annotation['structure']['pdb']"
   ]
  },
  {
   "cell_type": "code",
   "execution_count": 21,
   "metadata": {
    "collapsed": false
   },
   "outputs": [
    {
     "data": {
      "text/plain": [
       "'20160104'"
      ]
     },
     "execution_count": 21,
     "metadata": {},
     "output_type": "execute_result"
    }
   ],
   "source": [
    "import time\n",
    "import os\n"
   ]
  },
  {
   "cell_type": "code",
   "execution_count": 18,
   "metadata": {
    "collapsed": false,
    "scrolled": false
   },
   "outputs": [],
   "source": [
    "d = my_gempro.genes.get_by_id('Rv2043c').annotation['structure']['homology']"
   ]
  },
  {
   "cell_type": "code",
   "execution_count": 40,
   "metadata": {
    "collapsed": false
   },
   "outputs": [],
   "source": [
    "d['rvvv'] = {'c_score': 26,\n",
    "  'difficulty': 'easy',\n",
    "  'model_date': '2016-12-29',\n",
    "  'model_file': 'Rv2043c.pdb',\n",
    "  'rmsd': 1.7,\n",
    "  'rmsd_err': 1.5,\n",
    "  'seq_coverage': 1,\n",
    "  'tm_score': 0,\n",
    "  'tm_score_err': 0.05,\n",
    "  'top_template_chain': 'A',\n",
    "  'top_template_pdb': '3gbc'}"
   ]
  },
  {
   "cell_type": "code",
   "execution_count": 41,
   "metadata": {
    "collapsed": false
   },
   "outputs": [
    {
     "data": {
      "text/plain": [
       "{'Rv2043c': {'c_score': 1.86,\n",
       "  'difficulty': 'easy',\n",
       "  'model_date': '2015-12-29',\n",
       "  'model_file': 'Rv2043c.pdb',\n",
       "  'rmsd': 1.7,\n",
       "  'rmsd_err': 1.5,\n",
       "  'seq_coverage': 1,\n",
       "  'tm_score': 0.98,\n",
       "  'tm_score_err': 0.05,\n",
       "  'top_template_chain': 'A',\n",
       "  'top_template_pdb': '3gbc'},\n",
       " 'rvvv': {'c_score': 26,\n",
       "  'difficulty': 'easy',\n",
       "  'model_date': '2016-12-29',\n",
       "  'model_file': 'Rv2043c.pdb',\n",
       "  'rmsd': 1.7,\n",
       "  'rmsd_err': 1.5,\n",
       "  'seq_coverage': 1,\n",
       "  'tm_score': 0,\n",
       "  'tm_score_err': 0.05,\n",
       "  'top_template_chain': 'A',\n",
       "  'top_template_pdb': '3gbc'}}"
      ]
     },
     "execution_count": 41,
     "metadata": {},
     "output_type": "execute_result"
    }
   ],
   "source": [
    "d"
   ]
  },
  {
   "cell_type": "code",
   "execution_count": 42,
   "metadata": {
    "collapsed": false
   },
   "outputs": [
    {
     "data": {
      "text/plain": [
       "['rvvv', 'Rv2043c']"
      ]
     },
     "execution_count": 42,
     "metadata": {},
     "output_type": "execute_result"
    }
   ],
   "source": [
    "sorted(d, key=lambda x: d[x]['model_date'], reverse=True)"
   ]
  },
  {
   "cell_type": "code",
   "execution_count": null,
   "metadata": {
    "collapsed": true
   },
   "outputs": [],
   "source": []
  }
 ],
 "metadata": {
  "anaconda-cloud": {},
  "kernelspec": {
   "display_name": "Python [default]",
   "language": "python",
   "name": "python3"
  },
  "language_info": {
   "codemirror_mode": {
    "name": "ipython",
    "version": 3
   },
   "file_extension": ".py",
   "mimetype": "text/x-python",
   "name": "python",
   "nbconvert_exporter": "python",
   "pygments_lexer": "ipython3",
   "version": "3.5.2"
  }
 },
 "nbformat": 4,
 "nbformat_minor": 1
}
