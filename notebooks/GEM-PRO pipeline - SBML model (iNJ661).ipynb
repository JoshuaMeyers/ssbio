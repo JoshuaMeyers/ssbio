{
 "cells": [
  {
   "cell_type": "markdown",
   "metadata": {},
   "source": [
    "# README\n",
    "\n",
    "This notebook gives an example of how to run the GEM-PRO pipeline on a **SBML model**."
   ]
  },
  {
   "cell_type": "markdown",
   "metadata": {},
   "source": [
    "## Installation\n",
    "\n",
    "See: https://github.com/nmih/ssbio/blob/master/README.md\n",
    "- If something isn't working, make sure to update the repository before you do anything (git pull)\n",
    "\n",
    "## Quick start\n",
    "\n",
    "I just want to get structures ASAP! How can I do that?\n",
    "\n",
    "- my_gempro.run_pipeline()"
   ]
  },
  {
   "cell_type": "code",
   "execution_count": 1,
   "metadata": {
    "collapsed": false
   },
   "outputs": [
    {
     "name": "stderr",
     "output_type": "stream",
     "text": [
      "/home/nathan/anaconda3/lib/python3.5/site-packages/cobra/solvers/__init__.py:62: UserWarning: No LP solvers found\n",
      "  warn(\"No LP solvers found\")\n"
     ]
    }
   ],
   "source": [
    "# Import the GEM-PRO class\n",
    "from ssbio.pipeline.gempro import GEMPRO"
   ]
  },
  {
   "cell_type": "code",
   "execution_count": 2,
   "metadata": {
    "collapsed": true
   },
   "outputs": [],
   "source": [
    "# Other imports for this example\n",
    "import os\n",
    "import pandas as pd\n",
    "import os.path as op\n",
    "from tqdm import tqdm_notebook as tqdm"
   ]
  },
  {
   "cell_type": "code",
   "execution_count": 3,
   "metadata": {
    "collapsed": true
   },
   "outputs": [],
   "source": [
    "# Printing multiple outputs per cell\n",
    "from IPython.core.interactiveshell import InteractiveShell\n",
    "InteractiveShell.ast_node_interactivity = \"all\""
   ]
  },
  {
   "cell_type": "markdown",
   "metadata": {},
   "source": [
    "## Logging\n",
    "\n",
    "Set the logging level to specify how verbose you want the pipeline to be. Debug is most verbose.\n",
    "\n",
    "- CRITICAL\n",
    "     - Only really important messages shown\n",
    "- ERROR\n",
    "     - Major errors\n",
    "- WARNING\n",
    "     - Warnings that don't affect running of the pipeline\n",
    "- INFO\n",
    "     - Info such as the number of structures mapped per gene\n",
    "- DEBUG\n",
    "     - Really detailed information that will print out a lot of stuff"
   ]
  },
  {
   "cell_type": "code",
   "execution_count": 4,
   "metadata": {
    "collapsed": true
   },
   "outputs": [],
   "source": [
    "# Create logger\n",
    "import logging\n",
    "logger = logging.getLogger()\n",
    "\n",
    "############# SET YOUR LOGGING LEVEL HERE #############\n",
    "logger.setLevel(logging.INFO)\n",
    "#######################################################"
   ]
  },
  {
   "cell_type": "markdown",
   "metadata": {},
   "source": [
    "## Initialization of the project\n",
    "\n",
    "Set these three things:\n",
    "\n",
    "- GEM_NAME\n",
    "    - Your project name\n",
    "- ROOT_DIR\n",
    "    - The directory where the GEM_NAME folder will be created\n",
    "- GENES\n",
    "    - Your list of gene IDs"
   ]
  },
  {
   "cell_type": "markdown",
   "metadata": {},
   "source": [
    "A directory will be created in ROOT_DIR named after your GEM_NAME. The folders are:\n",
    "```\n",
    "    .\n",
    "    ├── data  # where dataframes are stored\n",
    "    ├── figures  # where figures are stored\n",
    "    ├── model  # where SBML and GEM-PRO models are stored\n",
    "    ├── notebooks  # location of any ipython notebooks for analyses\n",
    "    ├── sequences  # sequences are stored here, in gene specific folders\n",
    "    │   ├── <gene_id1>\n",
    "    │   │   └── sequence.fasta\n",
    "    │   ├── <gene_id2>\n",
    "    │   └── ...\n",
    "    └── structures\n",
    "        ├── by_gene  # structures are stored here, in gene specific folders\n",
    "        │   ├── <gene_id1>\n",
    "        │   │   └── 1abc.pdb\n",
    "        │   ├── <gene_id2>\n",
    "        │   └── ...\n",
    "        └── by_complex  # complexes for reactions are stored here (in progress)\n",
    "```"
   ]
  },
  {
   "cell_type": "code",
   "execution_count": 5,
   "metadata": {
    "collapsed": true
   },
   "outputs": [],
   "source": [
    "# Specify the folders and model\n",
    "GEM_NAME = 'mtuberculosis_gp_atlas'\n",
    "ROOT_DIR = '/home/nathan/projects_unsynced/'\n",
    "GEM_FILE = '/home/nathan/projects_unsynced/mtuberculosis_gp_atlas/model/iNJ661.json'"
   ]
  },
  {
   "cell_type": "code",
   "execution_count": 6,
   "metadata": {
    "collapsed": false
   },
   "outputs": [
    {
     "name": "stderr",
     "output_type": "stream",
     "text": [
      "INFO:ssbio.pipeline.gempro:Loaded model: /home/nathan/projects_unsynced/mtuberculosis_gp_atlas/model/iNJ661.json\n",
      "WARNING:ssbio.pipeline.gempro:IMPORTANT: All Gene objects have been transformed into GenePro objects, and will be for any new ones\n",
      "INFO:ssbio.pipeline.gempro:Number of reactions: 1025\n",
      "INFO:ssbio.pipeline.gempro:Number of reactions linked to a gene: 720\n",
      "INFO:ssbio.pipeline.gempro:Number of genes (excluding spontaneous): 661\n",
      "INFO:ssbio.pipeline.gempro:Number of metabolites: 826\n"
     ]
    }
   ],
   "source": [
    "# Create the GEM-PRO project\n",
    "# Specify that the model is in json format\n",
    "my_gempro = GEMPRO(gem_name=GEM_NAME, root_dir=ROOT_DIR, gem_file_path=GEM_FILE, gem_file_type='json')"
   ]
  },
  {
   "cell_type": "markdown",
   "metadata": {},
   "source": [
    "## Mapping gene ID to sequence\n",
    "\n",
    "**First, we want to set a sequence for each of the genes in our model.** This can happen one of two ways:\n",
    "\n",
    "1. I want to map the gene IDs in the model (I don't have the original genome sequence)\n",
    "2. I have the sequences for my organism"
   ]
  },
  {
   "cell_type": "markdown",
   "metadata": {},
   "source": [
    "### 1. I want to map the gene IDs in the model"
   ]
  },
  {
   "cell_type": "markdown",
   "metadata": {},
   "source": [
    "##### Mapping with KEGG\n",
    "\n",
    "- Files created:\n",
    "    - Per gene, the KEGG sequence and metadata is downloaded in the GEM-PRO \"sequences\" folder.\n",
    "    \n",
    "\n",
    "- Usage:\n",
    "        my_gempro.kegg_mapping_and_metadata(kegg_organism_code, custom_gene_mapping=None, force_rerun=False)\n",
    "\n",
    "\n",
    "- Arguments:\n",
    "\n",
    "    - *kegg_organism_code*\n",
    "        - See the full list of organisms here: http://www.genome.jp/kegg/catalog/org_list.html\n",
    "        - E. coli MG1655 is \"eco\"\n",
    "        - M. tuberculosis is \"mtu\"\n",
    "\n",
    "    - *custom_gene_mapping*\n",
    "        - If the model gene IDs differ from the KEGG gene IDs, and you know the mapping, supply it as a dictionary here. \n",
    "        - An example would be for the *T. maritima* model, where the model IDs are formatted without an underscore (\"TM0001\") while in KEGG they have an underscore (\"TM_0001\").\n",
    "\n",
    "    - *force_rerun*\n",
    "        - If you want to force the rerun of mapping, set this to True.\n",
    "\n",
    "\n",
    "- Creates attributes:\n",
    "    - A summary of the metadata is available in the \"df_kegg_metadata\" attribute.\n",
    "            my_gempro.df_kegg_metadata\n",
    "            \n",
    "    - Any gene IDs that are missing a mapping are reported in the \"missing_kegg_mapping\" attribute.\n",
    "            my_gempro.missing_kegg_mapping"
   ]
  },
  {
   "cell_type": "markdown",
   "metadata": {},
   "source": [
    "##### Mapping with UniProt\n",
    "\n",
    "- Method:\n",
    "    - You can try mapping your genes using the actual service here: http://www.uniprot.org/uploadlists/\n",
    "    \n",
    "    \n",
    "- Files created:\n",
    "    - Per gene, the sequence and metadata is downloaded in the GEM-PRO \"sequences\" folder.\n",
    "    \n",
    "\n",
    "- Usage:\n",
    "        my_gempro.uniprot_mapping_and_metadata(model_gene_source, custom_gene_mapping=None, force_rerun=False)\n",
    "        \n",
    "        \n",
    "- Arguments:\n",
    "\n",
    "    - *model_gene_source*\n",
    "        - Here is a list of the gene IDs that can be mapped to UniProt IDs: http://www.uniprot.org/help/programmatic_access#id_mapping_examples\n",
    "        - *E. coli* b-numbers are of the source \"ENSEMBLGENOME_ID\"\n",
    "        - *M. tuberculosis* gene IDs match the source \"TUBERCULIST_ID\"\n",
    "        \n",
    "    - *custom_gene_mapping*\n",
    "        - If you know the model gene ID to UniProt ID mapping, supply it as a dictionary here.\n",
    "        \n",
    "    - *force_rerun*\n",
    "        - If you want to force the rerun of mapping, set this to True.\n",
    "        \n",
    "        \n",
    "- Creates attributes:\n",
    "    - A summary of the metadata is available in the \"df_uniprot_metadata\" attribute.\n",
    "            my_gempro.df_uniprot_metadata\n",
    "            \n",
    "    - Any gene IDs that are missing a mapping are reported in the \"missing_uniprot_mapping\" attribute.\n",
    "            my_gempro.missing_uniprot_mapping\n",
    "        "
   ]
  },
  {
   "cell_type": "markdown",
   "metadata": {},
   "source": [
    "##### Consolidating information\n",
    "\n",
    "If you have mapped with both KEGG and UniProt mappers, then you can set a representative sequence for the gene using this function.\n",
    "\n",
    "- Method:\n",
    "    - Manual mappings override all existing mappings.\n",
    "    - UniProt mappings override KEGG mappings except when KEGG mappings have PDBs associated with them and UniProt doesn't.\n",
    "\n",
    "\n",
    "- Usage:\n",
    "        my_gempro.set_representative_sequence()\n",
    "\n",
    "\n",
    "- Creates attributes:\n",
    "    - A summary of the mappings available in the \"df_sequence_mapping\" attribute.\n",
    "            my_gempro.df_sequence_mapping\n",
    "            \n",
    "    - Any gene IDs that are missing a mapping are reported in the \"missing_mapping\" attribute.\n",
    "            my_gempro.missing_mapping\n",
    "        "
   ]
  },
  {
   "cell_type": "markdown",
   "metadata": {},
   "source": [
    "---------------------------"
   ]
  },
  {
   "cell_type": "markdown",
   "metadata": {},
   "source": [
    "### 2. I have the sequences for my organism\n",
    "\n",
    "If you already have the amino acid sequences for each gene, simply set them as the representative sequence using the below function."
   ]
  },
  {
   "cell_type": "markdown",
   "metadata": {},
   "source": [
    "##### Setting the amino acid sequences\n",
    "\n",
    "- Method:\n",
    "    - This is to be used when you actually have the genome source as protein coding sequences, or are for some reason interested in a random collection of sequences.\n",
    "    - These sequences are set as \"representative\" for each gene. That means you wouldn't have any KEGG or UniProt ID set as representative though. If you do run the above KEGG or UniProt mappings, it will check if they match your sequence and add in metadata.\n",
    "\n",
    "- Usage:\n",
    "        my_gempro.manual_seq_mapping(gene_to_seq_dict)\n",
    "        \n",
    "        \n",
    "- Arguments:\n",
    "\n",
    "    - *gene_to_seq_dict*\n",
    "        - Supply a dictionary mapping the model gene IDs to their amino acid sequences.\n",
    "        - Example: \n",
    "                {'Rv1295': 'MTVPPTATHQPWPGVIAAYRDRLPVGDDWTPVTLLEGGTPLIAATNLSK'}"
   ]
  },
  {
   "cell_type": "markdown",
   "metadata": {},
   "source": [
    "-------------------"
   ]
  },
  {
   "cell_type": "markdown",
   "metadata": {},
   "source": [
    "### Gene annotations\n",
    "\n",
    "Check out the gene annotations saved directly into the gene. \n",
    "\n",
    "- **These are COBRApy Gene objects, transformed into GenePro objects. Basically, just a \"protein\" attribute is added. If you started with a SBML model, these are directly annotated within the model.**\n",
    "\n",
    "- Usage:\n",
    "    - Work with the protein attribute\n",
    "            my_gempro.genes.get_by_id('Rv1295').protein\n",
    "            my_gempro.genes.get_by_id('Rv1295').protein.sequences\n",
    "    - Display all attributes of the first sequence added\n",
    "            my_gempro.genes.get_by_id('Rv1295').protein.sequences[0].get_dict()"
   ]
  },
  {
   "cell_type": "code",
   "execution_count": 7,
   "metadata": {
    "collapsed": false
   },
   "outputs": [
    {
     "name": "stderr",
     "output_type": "stream",
     "text": [
      "INFO:ssbio.pipeline.gempro:Loaded in 1 sequences\n"
     ]
    }
   ],
   "source": [
    "# Example of manual_seq_mapping\n",
    "gene_to_seq_dict = {'Rv1295': 'MTVPPTATHQPWPGVIAAYRDRLPVGDDWTPVTLLEGGTPLIAATNLSKQTGCTIHLKVEGLNPTGSFKDRGMTMAVTDALAHGQRAVLCASTGNTSASAAAYAARAGITCAVLIPQGKIAMGKLAQAVMHGAKIIQIDGNFDDCLELARKMAADFPTISLVNSVNPVRIEGQKTAAFEIVDVLGTAPDVHALPVGNAGNITAYWKGYTEYHQLGLIDKLPRMLGTQAAGAAPLVLGEPVSHPETIATAIRIGSPASWTSAVEAQQQSKGRFLAASDEEILAAYHLVARVEGVFVEPASAASIAGLLKAIDDGWVARGSTVVCTVTGNGLKDPDTALKDMPSVSPVPVDPVAVVEKLGLA'}\n",
    "my_gempro.manual_seq_mapping(gene_to_seq_dict)"
   ]
  },
  {
   "cell_type": "code",
   "execution_count": 8,
   "metadata": {
    "collapsed": false
   },
   "outputs": [
    {
     "data": {
      "text/plain": [
       "[<SeqProp Rv1295 at 0x7f08ccdc19b0>]"
      ]
     },
     "execution_count": 8,
     "metadata": {},
     "output_type": "execute_result"
    }
   ],
   "source": [
    "my_gempro.genes.get_by_id('Rv1295').protein.sequences"
   ]
  },
  {
   "cell_type": "code",
   "execution_count": 9,
   "metadata": {
    "collapsed": false
   },
   "outputs": [
    {
     "data": {
      "text/plain": [
       "{'bigg': None,\n",
       " 'description': None,\n",
       " 'gene_name': None,\n",
       " 'id': 'Rv1295',\n",
       " 'kegg': None,\n",
       " 'metadata_file': None,\n",
       " 'metadata_path': None,\n",
       " 'pdbs': None,\n",
       " 'refseq': None,\n",
       " 'seq_record': None,\n",
       " 'seq_str': None,\n",
       " 'sequence_alignments': [],\n",
       " 'sequence_file': 'Rv1295.faa',\n",
       " 'sequence_len': 360,\n",
       " 'sequence_path': '/home/nathan/projects_unsynced/mtuberculosis_gp_atlas/sequences/Rv1295/Rv1295.faa',\n",
       " 'structure_alignments': [],\n",
       " 'uniprot': None}"
      ]
     },
     "execution_count": 9,
     "metadata": {},
     "output_type": "execute_result"
    }
   ],
   "source": [
    "# manual_seq_mapping will automatically set that sequence as the representative sequence\n",
    "my_gempro.genes.get_by_id('Rv1295').protein.representative_sequence.get_dict()"
   ]
  },
  {
   "cell_type": "code",
   "execution_count": 10,
   "metadata": {
    "collapsed": false,
    "scrolled": false
   },
   "outputs": [
    {
     "name": "stderr",
     "output_type": "stream",
     "text": [
      "Widget Javascript not detected.  It may not be installed properly. Did you enable the widgetsnbextension? If not, then run \"jupyter nbextension enable --py --sys-prefix widgetsnbextension\"\n",
      "WARNING:root:status is not ok with Not Found\n",
      "WARNING:ssbio.databases.kegg:mtu:Rv1755c: no sequence file available\n",
      "WARNING:root:status is not ok with Not Found\n",
      "WARNING:ssbio.databases.kegg:mtu:Rv1755c: no metadata file available\n",
      "WARNING:root:status is not ok with Not Found\n",
      "WARNING:ssbio.databases.kegg:mtu:Rv2233: no sequence file available\n",
      "WARNING:root:status is not ok with Not Found\n",
      "WARNING:ssbio.databases.kegg:mtu:Rv2233: no metadata file available\n",
      "WARNING:root:status is not ok with Not Found\n",
      "WARNING:ssbio.databases.kegg:mtu:Rv0619: no sequence file available\n",
      "WARNING:root:status is not ok with Not Found\n",
      "WARNING:ssbio.databases.kegg:mtu:Rv0619: no metadata file available\n",
      "WARNING:root:status is not ok with Not Found\n",
      "WARNING:ssbio.databases.kegg:mtu:Rv0618: no sequence file available\n",
      "WARNING:root:status is not ok with Not Found\n",
      "WARNING:ssbio.databases.kegg:mtu:Rv2321c: no sequence file available\n",
      "WARNING:root:status is not ok with Not Found\n",
      "WARNING:ssbio.databases.kegg:mtu:Rv2321c: no metadata file available\n",
      "WARNING:root:status is not ok with Not Found\n",
      "WARNING:ssbio.databases.kegg:mtu:Rv2322c: no sequence file available\n",
      "WARNING:root:status is not ok with Not Found\n",
      "WARNING:ssbio.databases.kegg:mtu:Rv2322c: no metadata file available\n",
      "INFO:ssbio.pipeline.gempro:655 genes mapped to KEGG\n",
      "INFO:ssbio.pipeline.gempro:Created KEGG metadata dataframe. See the \"df_kegg_metadata\" attribute.\n",
      "WARNING:ssbio.pipeline.gempro:6 gene(s) could not be mapped. Inspect the \"missing_kegg_mapping\" attribute.\n"
     ]
    },
    {
     "name": "stdout",
     "output_type": "stream",
     "text": [
      "\n"
     ]
    },
    {
     "data": {
      "text/html": [
       "<div>\n",
       "<table border=\"1\" class=\"dataframe\">\n",
       "  <thead>\n",
       "    <tr style=\"text-align: right;\">\n",
       "      <th></th>\n",
       "      <th>gene</th>\n",
       "      <th>kegg</th>\n",
       "      <th>refseq</th>\n",
       "      <th>uniprot</th>\n",
       "      <th>pdbs</th>\n",
       "      <th>sequence_len</th>\n",
       "      <th>sequence_file</th>\n",
       "      <th>metadata_file</th>\n",
       "    </tr>\n",
       "  </thead>\n",
       "  <tbody>\n",
       "    <tr>\n",
       "      <th>0</th>\n",
       "      <td>Rv0417</td>\n",
       "      <td>mtu:Rv0417</td>\n",
       "      <td>NP_214931</td>\n",
       "      <td>P9WG73</td>\n",
       "      <td>NaN</td>\n",
       "      <td>252</td>\n",
       "      <td>mtu-Rv0417.faa</td>\n",
       "      <td>mtu-Rv0417.kegg</td>\n",
       "    </tr>\n",
       "    <tr>\n",
       "      <th>1</th>\n",
       "      <td>Rv2291</td>\n",
       "      <td>mtu:Rv2291</td>\n",
       "      <td>NP_216807</td>\n",
       "      <td>P9WHF5</td>\n",
       "      <td>NaN</td>\n",
       "      <td>284</td>\n",
       "      <td>mtu-Rv2291.faa</td>\n",
       "      <td>mtu-Rv2291.kegg</td>\n",
       "    </tr>\n",
       "  </tbody>\n",
       "</table>\n",
       "</div>"
      ],
      "text/plain": [
       "     gene        kegg     refseq uniprot pdbs  sequence_len   sequence_file  \\\n",
       "0  Rv0417  mtu:Rv0417  NP_214931  P9WG73  NaN           252  mtu-Rv0417.faa   \n",
       "1  Rv2291  mtu:Rv2291  NP_216807  P9WHF5  NaN           284  mtu-Rv2291.faa   \n",
       "\n",
       "     metadata_file  \n",
       "0  mtu-Rv0417.kegg  \n",
       "1  mtu-Rv2291.kegg  "
      ]
     },
     "execution_count": 10,
     "metadata": {},
     "output_type": "execute_result"
    },
    {
     "data": {
      "text/plain": [
       "['Rv2233', 'Rv2322c', 'Rv1755c', 'Rv0619', 'Rv0618', 'Rv2321c']"
      ]
     },
     "execution_count": 10,
     "metadata": {},
     "output_type": "execute_result"
    }
   ],
   "source": [
    "# KEGG mapping of gene ids\n",
    "my_gempro.kegg_mapping_and_metadata(kegg_organism_code='mtu')\n",
    "my_gempro.df_kegg_metadata.head(2)\n",
    "my_gempro.missing_kegg_mapping"
   ]
  },
  {
   "cell_type": "code",
   "execution_count": 11,
   "metadata": {
    "collapsed": false
   },
   "outputs": [
    {
     "data": {
      "text/plain": [
       "[<SeqProp Rv1295 at 0x7f08ccdc19b0>, <KEGGProp mtu:Rv1295 at 0x7f08cc525898>]"
      ]
     },
     "execution_count": 11,
     "metadata": {},
     "output_type": "execute_result"
    }
   ],
   "source": [
    "# Looking at stored sequences\n",
    "my_gempro.genes.get_by_id('Rv1295').protein.sequences"
   ]
  },
  {
   "cell_type": "code",
   "execution_count": 12,
   "metadata": {
    "collapsed": false
   },
   "outputs": [
    {
     "data": {
      "text/plain": [
       "{'bigg': None,\n",
       " 'description': None,\n",
       " 'gene_name': None,\n",
       " 'id': 'Rv1295',\n",
       " 'kegg': 'mtu:Rv1295',\n",
       " 'metadata_file': 'mtu-Rv1295.kegg',\n",
       " 'metadata_path': '/home/nathan/projects_unsynced/mtuberculosis_gp_atlas/sequences/Rv1295/mtu-Rv1295.kegg',\n",
       " 'pdbs': ['2D1F'],\n",
       " 'refseq': 'NP_215811',\n",
       " 'seq_record': None,\n",
       " 'seq_str': None,\n",
       " 'sequence_alignments': [],\n",
       " 'sequence_file': 'Rv1295.faa',\n",
       " 'sequence_len': 360,\n",
       " 'sequence_path': '/home/nathan/projects_unsynced/mtuberculosis_gp_atlas/sequences/Rv1295/Rv1295.faa',\n",
       " 'structure_alignments': [],\n",
       " 'taxonomy': 'mtu  Mycobacterium tuberculosis H37Rv',\n",
       " 'uniprot': 'P9WG59'}"
      ]
     },
     "execution_count": 12,
     "metadata": {},
     "output_type": "execute_result"
    }
   ],
   "source": [
    "# If the automatic mapping maps to a sequence that is already set as a representative_sequence, the attributes are updated\n",
    "my_gempro.genes.get_by_id('Rv1295').protein.representative_sequence.get_dict()"
   ]
  },
  {
   "cell_type": "code",
   "execution_count": 13,
   "metadata": {
    "collapsed": false,
    "scrolled": false
   },
   "outputs": [
    {
     "name": "stderr",
     "output_type": "stream",
     "text": [
      "INFO:root:getUserAgent: Begin\n",
      "INFO:root:getUserAgent: user_agent: EBI-Sample-Client/ (services.py; Python 3.5.2; Linux) Python-requests/2.11.1\n",
      "INFO:root:getUserAgent: End\n",
      "Widget Javascript not detected.  It may not be installed properly. Did you enable the widgetsnbextension? If not, then run \"jupyter nbextension enable --py --sys-prefix widgetsnbextension\"\n",
      "INFO:ssbio.pipeline.gempro:Created UniProt metadata dataframe. See the \"df_uniprot_metadata\" attribute.\n",
      "WARNING:ssbio.pipeline.gempro:72 gene(s) could not be mapped. Inspect the \"missing_uniprot_mapping\" attribute.\n"
     ]
    },
    {
     "name": "stdout",
     "output_type": "stream",
     "text": [
      "\n"
     ]
    },
    {
     "data": {
      "text/html": [
       "<div>\n",
       "<table border=\"1\" class=\"dataframe\">\n",
       "  <thead>\n",
       "    <tr style=\"text-align: right;\">\n",
       "      <th></th>\n",
       "      <th>gene</th>\n",
       "      <th>uniprot</th>\n",
       "      <th>reviewed</th>\n",
       "      <th>gene_name</th>\n",
       "      <th>kegg</th>\n",
       "      <th>refseq</th>\n",
       "      <th>pdbs</th>\n",
       "      <th>ec_number</th>\n",
       "      <th>pfam</th>\n",
       "      <th>sequence_len</th>\n",
       "      <th>description</th>\n",
       "      <th>entry_version</th>\n",
       "      <th>seq_version</th>\n",
       "      <th>sequence_file</th>\n",
       "      <th>metadata_file</th>\n",
       "    </tr>\n",
       "  </thead>\n",
       "  <tbody>\n",
       "    <tr>\n",
       "      <th>0</th>\n",
       "      <td>Rv0417</td>\n",
       "      <td>P9WG73</td>\n",
       "      <td>True</td>\n",
       "      <td>thiG</td>\n",
       "      <td>mtu:Rv0417</td>\n",
       "      <td>NP_214931.1;NC_000962.3;WP_003916659.1;NZ_KK33...</td>\n",
       "      <td>NaN</td>\n",
       "      <td>2.8.1.10</td>\n",
       "      <td>NaN</td>\n",
       "      <td>252</td>\n",
       "      <td>Thiazole synthase {ECO:0000255|HAMAP-Rule:MF_0...</td>\n",
       "      <td>2016-11-02</td>\n",
       "      <td>2014-04-16</td>\n",
       "      <td>P9WG73.fasta</td>\n",
       "      <td>P9WG73.txt</td>\n",
       "    </tr>\n",
       "    <tr>\n",
       "      <th>1</th>\n",
       "      <td>Rv2291</td>\n",
       "      <td>P9WHF5</td>\n",
       "      <td>True</td>\n",
       "      <td>sseB</td>\n",
       "      <td>mtu:Rv2291</td>\n",
       "      <td>NP_216807.1;NC_000962.3;WP_003899253.1;NZ_KK33...</td>\n",
       "      <td>NaN</td>\n",
       "      <td>2.8.1.1</td>\n",
       "      <td>PF00581</td>\n",
       "      <td>284</td>\n",
       "      <td>Putative thiosulfate sulfurtransferase SseB</td>\n",
       "      <td>2016-11-02</td>\n",
       "      <td>2014-04-16</td>\n",
       "      <td>P9WHF5.fasta</td>\n",
       "      <td>P9WHF5.txt</td>\n",
       "    </tr>\n",
       "  </tbody>\n",
       "</table>\n",
       "</div>"
      ],
      "text/plain": [
       "     gene uniprot reviewed gene_name        kegg  \\\n",
       "0  Rv0417  P9WG73     True      thiG  mtu:Rv0417   \n",
       "1  Rv2291  P9WHF5     True      sseB  mtu:Rv2291   \n",
       "\n",
       "                                              refseq pdbs ec_number     pfam  \\\n",
       "0  NP_214931.1;NC_000962.3;WP_003916659.1;NZ_KK33...  NaN  2.8.1.10      NaN   \n",
       "1  NP_216807.1;NC_000962.3;WP_003899253.1;NZ_KK33...  NaN   2.8.1.1  PF00581   \n",
       "\n",
       "   sequence_len                                        description  \\\n",
       "0           252  Thiazole synthase {ECO:0000255|HAMAP-Rule:MF_0...   \n",
       "1           284        Putative thiosulfate sulfurtransferase SseB   \n",
       "\n",
       "  entry_version seq_version sequence_file metadata_file  \n",
       "0    2016-11-02  2014-04-16  P9WG73.fasta    P9WG73.txt  \n",
       "1    2016-11-02  2014-04-16  P9WHF5.fasta    P9WHF5.txt  "
      ]
     },
     "execution_count": 13,
     "metadata": {},
     "output_type": "execute_result"
    },
    {
     "data": {
      "text/plain": [
       "['Rv1162',\n",
       " 'Rv3737',\n",
       " 'Rv0266c',\n",
       " 'Rv3332',\n",
       " 'Rv0147',\n",
       " 'Rv2382c',\n",
       " 'Rv0317c',\n",
       " 'Rv3777',\n",
       " 'Rv3758c',\n",
       " 'Rv1915']"
      ]
     },
     "execution_count": 13,
     "metadata": {},
     "output_type": "execute_result"
    }
   ],
   "source": [
    "# UniProt mapping of gene_id -> uniprot_id\n",
    "my_gempro.uniprot_mapping_and_metadata(model_gene_source='TUBERCULIST_ID')\n",
    "my_gempro.df_uniprot_metadata.head(2)\n",
    "my_gempro.missing_uniprot_mapping[:10]"
   ]
  },
  {
   "cell_type": "code",
   "execution_count": 14,
   "metadata": {
    "collapsed": false
   },
   "outputs": [
    {
     "data": {
      "text/plain": [
       "[<SeqProp Rv1295 at 0x7f08ccdc19b0>,\n",
       " <KEGGProp mtu:Rv1295 at 0x7f08cc525898>,\n",
       " <UniProtProp P9WG59 at 0x7f08cc47b3c8>]"
      ]
     },
     "execution_count": 14,
     "metadata": {},
     "output_type": "execute_result"
    }
   ],
   "source": [
    "my_gempro.genes.get_by_id('Rv1295').protein.sequences"
   ]
  },
  {
   "cell_type": "code",
   "execution_count": 15,
   "metadata": {
    "collapsed": false
   },
   "outputs": [
    {
     "data": {
      "text/plain": [
       "{'bigg': None,\n",
       " 'description': ['TS', 'Threonine synthase'],\n",
       " 'ec_number': ['4.2.3.1'],\n",
       " 'entry_version': '2016-11-02',\n",
       " 'gene_name': 'thrC',\n",
       " 'id': 'Rv1295',\n",
       " 'kegg': 'mtu:Rv1295',\n",
       " 'metadata_file': 'mtu-Rv1295.kegg',\n",
       " 'metadata_path': '/home/nathan/projects_unsynced/mtuberculosis_gp_atlas/sequences/Rv1295/mtu-Rv1295.kegg',\n",
       " 'pdbs': ['2D1F'],\n",
       " 'pfam': ['PF00291'],\n",
       " 'refseq': 'NP_215811',\n",
       " 'reviewed': True,\n",
       " 'seq_record': None,\n",
       " 'seq_str': None,\n",
       " 'seq_version': '2014-04-16',\n",
       " 'sequence_alignments': [],\n",
       " 'sequence_file': 'Rv1295.faa',\n",
       " 'sequence_len': 360,\n",
       " 'sequence_path': '/home/nathan/projects_unsynced/mtuberculosis_gp_atlas/sequences/Rv1295/Rv1295.faa',\n",
       " 'structure_alignments': [],\n",
       " 'taxonomy': 'mtu  Mycobacterium tuberculosis H37Rv',\n",
       " 'uniprot': 'P9WG59'}"
      ]
     },
     "execution_count": 15,
     "metadata": {},
     "output_type": "execute_result"
    }
   ],
   "source": [
    "my_gempro.genes.get_by_id('Rv1295').protein.representative_sequence.get_dict()"
   ]
  },
  {
   "cell_type": "code",
   "execution_count": 16,
   "metadata": {
    "collapsed": false
   },
   "outputs": [
    {
     "name": "stderr",
     "output_type": "stream",
     "text": [
      "INFO:ssbio.pipeline.gempro:Updated existing UniProt dataframe.\n"
     ]
    },
    {
     "name": "stdout",
     "output_type": "stream",
     "text": [
      "{'Rv0619': 'Q79FY3', 'Rv2322c': 'P71890', 'Rv1755c': 'P9WIA9', 'Rv2321c': 'P71891', 'Rv0618': 'Q79FY4'}\n"
     ]
    },
    {
     "data": {
      "text/html": [
       "<div>\n",
       "<table border=\"1\" class=\"dataframe\">\n",
       "  <thead>\n",
       "    <tr style=\"text-align: right;\">\n",
       "      <th></th>\n",
       "      <th>gene</th>\n",
       "      <th>uniprot</th>\n",
       "      <th>reviewed</th>\n",
       "      <th>gene_name</th>\n",
       "      <th>kegg</th>\n",
       "      <th>refseq</th>\n",
       "      <th>pdbs</th>\n",
       "      <th>ec_number</th>\n",
       "      <th>pfam</th>\n",
       "      <th>sequence_len</th>\n",
       "      <th>description</th>\n",
       "      <th>entry_version</th>\n",
       "      <th>seq_version</th>\n",
       "      <th>sequence_file</th>\n",
       "      <th>metadata_file</th>\n",
       "    </tr>\n",
       "  </thead>\n",
       "  <tbody>\n",
       "    <tr>\n",
       "      <th>657</th>\n",
       "      <td>Rv2322c</td>\n",
       "      <td>P71890</td>\n",
       "      <td>False</td>\n",
       "      <td>rocD1</td>\n",
       "      <td>mtv:RVBD_2322c</td>\n",
       "      <td>WP_003411957.1;NZ_KK339370.1</td>\n",
       "      <td>None</td>\n",
       "      <td>None</td>\n",
       "      <td>PF00202</td>\n",
       "      <td>221</td>\n",
       "      <td>Probable ornithine aminotransferase (N-terminu...</td>\n",
       "      <td>2016-11-30</td>\n",
       "      <td>1997-02-01</td>\n",
       "      <td>P71890.fasta</td>\n",
       "      <td>P71890.txt</td>\n",
       "    </tr>\n",
       "    <tr>\n",
       "      <th>658</th>\n",
       "      <td>Rv1755c</td>\n",
       "      <td>P9WIA9</td>\n",
       "      <td>True</td>\n",
       "      <td>plcD</td>\n",
       "      <td>None</td>\n",
       "      <td>None</td>\n",
       "      <td>None</td>\n",
       "      <td>3.1.4.3</td>\n",
       "      <td>PF04185</td>\n",
       "      <td>514</td>\n",
       "      <td>Phospholipase C 4</td>\n",
       "      <td>2016-11-02</td>\n",
       "      <td>2014-04-16</td>\n",
       "      <td>P9WIA9.fasta</td>\n",
       "      <td>P9WIA9.txt</td>\n",
       "    </tr>\n",
       "    <tr>\n",
       "      <th>659</th>\n",
       "      <td>Rv2321c</td>\n",
       "      <td>P71891</td>\n",
       "      <td>False</td>\n",
       "      <td>rocD2</td>\n",
       "      <td>mtv:RVBD_2321c</td>\n",
       "      <td>None</td>\n",
       "      <td>None</td>\n",
       "      <td>None</td>\n",
       "      <td>PF00202</td>\n",
       "      <td>181</td>\n",
       "      <td>Probable ornithine aminotransferase (C-terminu...</td>\n",
       "      <td>2016-11-02</td>\n",
       "      <td>1997-02-01</td>\n",
       "      <td>P71891.fasta</td>\n",
       "      <td>P71891.txt</td>\n",
       "    </tr>\n",
       "    <tr>\n",
       "      <th>660</th>\n",
       "      <td>Rv0618</td>\n",
       "      <td>Q79FY4</td>\n",
       "      <td>False</td>\n",
       "      <td>galTa</td>\n",
       "      <td>mtv:RVBD_0618</td>\n",
       "      <td>None</td>\n",
       "      <td>None</td>\n",
       "      <td>None</td>\n",
       "      <td>PF01087</td>\n",
       "      <td>231</td>\n",
       "      <td>Probable galactose-1-phosphate uridylyltransfe...</td>\n",
       "      <td>2016-11-30</td>\n",
       "      <td>2004-07-05</td>\n",
       "      <td>Q79FY4.fasta</td>\n",
       "      <td>Q79FY4.txt</td>\n",
       "    </tr>\n",
       "  </tbody>\n",
       "</table>\n",
       "</div>"
      ],
      "text/plain": [
       "        gene uniprot reviewed gene_name            kegg  \\\n",
       "657  Rv2322c  P71890    False     rocD1  mtv:RVBD_2322c   \n",
       "658  Rv1755c  P9WIA9     True      plcD            None   \n",
       "659  Rv2321c  P71891    False     rocD2  mtv:RVBD_2321c   \n",
       "660   Rv0618  Q79FY4    False     galTa   mtv:RVBD_0618   \n",
       "\n",
       "                           refseq  pdbs ec_number     pfam  sequence_len  \\\n",
       "657  WP_003411957.1;NZ_KK339370.1  None      None  PF00202           221   \n",
       "658                          None  None   3.1.4.3  PF04185           514   \n",
       "659                          None  None      None  PF00202           181   \n",
       "660                          None  None      None  PF01087           231   \n",
       "\n",
       "                                           description entry_version  \\\n",
       "657  Probable ornithine aminotransferase (N-terminu...    2016-11-30   \n",
       "658                                  Phospholipase C 4    2016-11-02   \n",
       "659  Probable ornithine aminotransferase (C-terminu...    2016-11-02   \n",
       "660  Probable galactose-1-phosphate uridylyltransfe...    2016-11-30   \n",
       "\n",
       "    seq_version sequence_file metadata_file  \n",
       "657  1997-02-01  P71890.fasta    P71890.txt  \n",
       "658  2014-04-16  P9WIA9.fasta    P9WIA9.txt  \n",
       "659  1997-02-01  P71891.fasta    P71891.txt  \n",
       "660  2004-07-05  Q79FY4.fasta    Q79FY4.txt  "
      ]
     },
     "execution_count": 16,
     "metadata": {},
     "output_type": "execute_result"
    }
   ],
   "source": [
    "# Manually adding in UniProt mappings later\n",
    "manual_uniprot = pd.read_csv(op.join(my_gempro.data_dir, '161019-gene_to_uniprot.in'))\n",
    "manual_uniprot_dict = {}\n",
    "for i,r in manual_uniprot.iterrows():\n",
    "    manual_uniprot_dict[r[0]] = r[1]\n",
    "print(manual_uniprot_dict)\n",
    "\n",
    "my_gempro.manual_uniprot_mapping(manual_uniprot_dict)\n",
    "my_gempro.df_uniprot_metadata.tail(4)"
   ]
  },
  {
   "cell_type": "code",
   "execution_count": 17,
   "metadata": {
    "collapsed": false
   },
   "outputs": [
    {
     "data": {
      "text/plain": [
       "{'bigg': None,\n",
       " 'description': None,\n",
       " 'gene_name': None,\n",
       " 'id': 'P71891',\n",
       " 'kegg': ['mtv:RVBD_2321c'],\n",
       " 'metadata_file': 'P71891.txt',\n",
       " 'metadata_path': '/home/nathan/projects_unsynced/mtuberculosis_gp_atlas/sequences/Rv2321c/P71891.txt',\n",
       " 'pdbs': None,\n",
       " 'refseq': None,\n",
       " 'seq_record': None,\n",
       " 'seq_str': None,\n",
       " 'sequence_alignments': [],\n",
       " 'sequence_file': 'P71891.fasta',\n",
       " 'sequence_len': 181,\n",
       " 'sequence_path': '/home/nathan/projects_unsynced/mtuberculosis_gp_atlas/sequences/Rv2321c/P71891.fasta',\n",
       " 'structure_alignments': [],\n",
       " 'uniprot': 'P71891'}"
      ]
     },
     "execution_count": 17,
     "metadata": {},
     "output_type": "execute_result"
    }
   ],
   "source": [
    "my_gempro.genes.get_by_id('Rv2321c').protein.representative_sequence.get_dict()"
   ]
  },
  {
   "cell_type": "code",
   "execution_count": 18,
   "metadata": {
    "collapsed": false
   },
   "outputs": [
    {
     "name": "stderr",
     "output_type": "stream",
     "text": [
      "WARNING:ssbio.pipeline.gempro:1 gene(s) could not be mapped. Inspect the \"missing_repseq\" attribute.\n",
      "INFO:ssbio.pipeline.gempro:Created sequence mapping dataframe. See the \"df_representative_sequences\" attribute.\n"
     ]
    },
    {
     "data": {
      "text/html": [
       "<div>\n",
       "<table border=\"1\" class=\"dataframe\">\n",
       "  <thead>\n",
       "    <tr style=\"text-align: right;\">\n",
       "      <th></th>\n",
       "      <th>gene</th>\n",
       "      <th>uniprot</th>\n",
       "      <th>kegg</th>\n",
       "      <th>pdbs</th>\n",
       "      <th>sequence_len</th>\n",
       "      <th>sequence_file</th>\n",
       "      <th>metadata_file</th>\n",
       "    </tr>\n",
       "  </thead>\n",
       "  <tbody>\n",
       "    <tr>\n",
       "      <th>0</th>\n",
       "      <td>Rv0417</td>\n",
       "      <td>P9WG73</td>\n",
       "      <td>mtu:Rv0417</td>\n",
       "      <td>NaN</td>\n",
       "      <td>252</td>\n",
       "      <td>P9WG73.fasta</td>\n",
       "      <td>P9WG73.txt</td>\n",
       "    </tr>\n",
       "    <tr>\n",
       "      <th>1</th>\n",
       "      <td>Rv2291</td>\n",
       "      <td>P9WHF5</td>\n",
       "      <td>mtu:Rv2291</td>\n",
       "      <td>NaN</td>\n",
       "      <td>284</td>\n",
       "      <td>P9WHF5.fasta</td>\n",
       "      <td>P9WHF5.txt</td>\n",
       "    </tr>\n",
       "  </tbody>\n",
       "</table>\n",
       "</div>"
      ],
      "text/plain": [
       "     gene uniprot        kegg pdbs  sequence_len sequence_file metadata_file\n",
       "0  Rv0417  P9WG73  mtu:Rv0417  NaN           252  P9WG73.fasta    P9WG73.txt\n",
       "1  Rv2291  P9WHF5  mtu:Rv2291  NaN           284  P9WHF5.fasta    P9WHF5.txt"
      ]
     },
     "execution_count": 18,
     "metadata": {},
     "output_type": "execute_result"
    },
    {
     "data": {
      "text/plain": [
       "['Rv2233']"
      ]
     },
     "execution_count": 18,
     "metadata": {},
     "output_type": "execute_result"
    }
   ],
   "source": [
    "# Consolidate mappings sources\n",
    "my_gempro.set_representative_sequence()\n",
    "my_gempro.df_representative_sequences.head(2)\n",
    "my_gempro.missing_repseq"
   ]
  },
  {
   "cell_type": "code",
   "execution_count": 19,
   "metadata": {
    "collapsed": false
   },
   "outputs": [
    {
     "data": {
      "text/plain": [
       "{'bigg': None,\n",
       " 'description': None,\n",
       " 'gene_name': None,\n",
       " 'id': 'P9WQ79',\n",
       " 'kegg': ['mtu:Rv2589'],\n",
       " 'metadata_file': 'P9WQ79.txt',\n",
       " 'metadata_path': '/home/nathan/projects_unsynced/mtuberculosis_gp_atlas/sequences/Rv2589/P9WQ79.txt',\n",
       " 'pdbs': None,\n",
       " 'refseq': None,\n",
       " 'seq_record': None,\n",
       " 'seq_str': None,\n",
       " 'sequence_alignments': [],\n",
       " 'sequence_file': 'P9WQ79.fasta',\n",
       " 'sequence_len': 449,\n",
       " 'sequence_path': '/home/nathan/projects_unsynced/mtuberculosis_gp_atlas/sequences/Rv2589/P9WQ79.fasta',\n",
       " 'structure_alignments': [],\n",
       " 'uniprot': 'P9WQ79'}"
      ]
     },
     "execution_count": 19,
     "metadata": {},
     "output_type": "execute_result"
    }
   ],
   "source": [
    "# Looking at sequence information saved per gene\n",
    "my_gempro.genes.get_by_id('Rv2589').protein.representative_sequence.get_dict()"
   ]
  },
  {
   "cell_type": "markdown",
   "metadata": {},
   "source": [
    "## Mapping representative sequence to structure\n",
    "\n",
    "These are the ways to map sequence to structure:\n",
    "\n",
    "1. Use the UniProt ID and their automatic mappings to the PDB\n",
    "2. BLAST the sequence to the PDB\n",
    "3. Make homology models or \n",
    "4. Map to existing homology models\n",
    "\n",
    "You can only utilize option #1 to map to PDBs if there is a mapped UniProt ID set in the representative sequence. If not, you'll have to BLAST your sequence to the PDB or make a homology model. You can also run both for maximum coverage."
   ]
  },
  {
   "cell_type": "markdown",
   "metadata": {},
   "source": [
    "---------------------"
   ]
  },
  {
   "cell_type": "markdown",
   "metadata": {},
   "source": [
    "### 1. Use the UniProt ID and their automatic mappings to the PDB\n",
    "\n",
    "\n",
    "- Method:\n",
    "    - Use the PDBe REST service to query for the best PDB structures for a UniProt ID.\n",
    "    - Here is the ranking algorithm described by the PDB paper: https://nar.oxfordjournals.org/content/44/D1/D385.full\n",
    "    - More information found here: https://www.ebi.ac.uk/pdbe/api/doc/sifts.html\n",
    "    - Link used to retrieve results: https://www.ebi.ac.uk/pdbe/api/mappings/best_structures/:accession\n",
    "    - The list of PDB structures mapping to a UniProt accession sorted by coverage of the protein and, if the same, resolution.\n",
    "\n",
    "\n",
    "- Files created:\n",
    "    - Saves a .json file directly from the web request in the GEM-PRO \"sequences\" folder\n",
    "    - No PDBs are downloaded yet\n",
    "    \n",
    "    \n",
    "- Usage:\n",
    "        my_gempro.map_uniprot_to_pdb(seq_ident_cutoff=0, force_rerun=False)\n",
    "        \n",
    "        \n",
    "- Arguments:\n",
    "\n",
    "    - *seq_ident_cutoff*\n",
    "        - From 0 to 1\n",
    "        - Provide the seq_ident_cutoff as a percentage to filter for structures with only a percent identity above the cutoff.\n",
    "        - **Warning:** if you set the seq_ident_cutoff too high you risk filtering out PDBs that do match the sequence, but are just missing large portions of it.\n",
    "        \n",
    "    - *force_rerun*\n",
    "        - If you want to force the rerun of mapping, set this to True.\n",
    "        \n",
    "        \n",
    "- Creates attributes:\n",
    "\n",
    "    - A summary of the rankings is available in the \"df_pdb_ranking\" attribute.\n",
    "            my_gempro.df_pdb_ranking\n",
    "    \n",
    "        "
   ]
  },
  {
   "cell_type": "markdown",
   "metadata": {},
   "source": [
    "---------------------------"
   ]
  },
  {
   "cell_type": "markdown",
   "metadata": {},
   "source": [
    "### 2. BLAST the sequence to the PDB\n",
    "\n",
    "This will BLAST the representative sequence against the entire PDB, and return significant hits. This will however return hits in other organisms, which may not be ideal.\n",
    "\n",
    "\n",
    "- Method:\n",
    "    - BLAST the representative sequence to the entire PDB.\n",
    "\n",
    "\n",
    "- Files created:\n",
    "    - Saves a .xml file directly from the web request in the GEM-PRO \"sequences\" folder\n",
    "    - No PDBs are downloaded yet\n",
    "    \n",
    "    \n",
    "- Usage:\n",
    "        my_gempro.blast_seqs_to_pdb(seq_ident_cutoff=0, evalue=0.0001, all_genes=False, force_rerun=False, display_link=False)\n",
    "        \n",
    "        \n",
    "- Arguments:\n",
    "\n",
    "    - *seq_ident_cutoff*\n",
    "        - From 0 to 1\n",
    "        - Provide the seq_ident_cutoff as a percentage to filter for structures with only a percent identity above the cutoff.\n",
    "        - **Warning:** if you set the seq_ident_cutoff too high you risk filtering out PDBs that do match the sequence, but are just missing large portions of it.\n",
    "        \n",
    "    - *evalue*\n",
    "        - Cutoff for the E-value - filters for significant hits.\n",
    "        - 0.001 is liberal, 0.0001 is stringent (default).\n",
    "        \n",
    "    - *all_genes*\n",
    "        - Set to True if you want to BLAST all gene sequences\n",
    "        - Set to False if you only want to BLAST genes without any PDBs (if map_uniprot_to_pdb was already run)\n",
    "        \n",
    "    - *force_rerun*\n",
    "        - If you want to force the rerun of mapping, set this to True.\n",
    "        \n",
    "    - *display_link*\n",
    "        - Display a link to the HTML results of the BLAST result per gene.\n",
    "        \n",
    "        \n",
    "- Creates attributes:\n",
    "\n",
    "    - A summary of the rankings is available in the \"df_pdb_blast\" attribute.\n",
    "            my_gempro.df_pdb_blast"
   ]
  },
  {
   "cell_type": "markdown",
   "metadata": {},
   "source": [
    "---------------------------"
   ]
  },
  {
   "cell_type": "markdown",
   "metadata": {},
   "source": [
    "### 3. Make homology models\n",
    "\n",
    "This will prepare sequences for homology modeling using I-TASSER or allow you to organize already generated ones.\n",
    "\n",
    "- Method:\n",
    "    - Prepare representative sequences for I-TASSER runs on your local machine, or using Torque (qsub, available on ssb0-ssb4) or SLURM (sbatch, currently used on NERSC) job scheduler systems.\n",
    "\n",
    "\n",
    "- Files created:\n",
    "    - Creates homology modeling files in a specified directory\n",
    "    \n",
    "    \n",
    "- Usage:\n",
    "        my_gempro.prep_itasser_models(outdir, itasser_installation, itlib_location, runtype, print_exec=False, **kwargs)\n",
    "        \n",
    "        \n",
    "- Arguments:\n",
    "\n",
    "    - *outdir*\n",
    "        - outdir\n",
    "        \n",
    "    - *itasser_installation*\n",
    "        - text\n",
    "        \n",
    "    - *itlib_location*\n",
    "        - text\n",
    "        \n",
    "    - *runtype*\n",
    "        - text\n",
    "        \n",
    "    - *print_exec*\n",
    "        - text\n",
    "        \n",
    "    - *kwargs*\n",
    "        - text"
   ]
  },
  {
   "cell_type": "markdown",
   "metadata": {},
   "source": [
    "-------------------"
   ]
  },
  {
   "cell_type": "markdown",
   "metadata": {},
   "source": [
    "### 4. Map to existing homology models (I-TASSER)\n",
    "\n",
    "This will organize the homology models generated by I-TASSER\n",
    "\n",
    "- Method:\n",
    "    - text\n",
    "\n",
    "\n",
    "- Files created:\n",
    "    - Copies homology models and a couple summary result files into the GEM-PRO \"structures\" directory\n",
    "    \n",
    "    \n",
    "- Usage:\n",
    "        my_gempro.get_itasser_models(homology_raw_dir, custom_itasser_name_mapping=None, force_rerun=False)\n",
    "        \n",
    "        \n",
    "- Arguments:\n",
    "\n",
    "    - *homology_raw_dir*\n",
    "        - \n",
    "        \n",
    "    - *custom_itasser_name_mapping*\n",
    "        - \n",
    "        \n",
    "- Creates attributes:\n",
    "\n",
    "    - A summary of the I-TASSER modeling is available in the \"df_itasser\" attribute.\n",
    "            my_gempro.df_itasser\n",
    "            "
   ]
  },
  {
   "cell_type": "markdown",
   "metadata": {},
   "source": [
    "### 4. Map to existing homology models (Generic)\n",
    "\n",
    "This will map to existing homology models\n",
    "\n",
    "- Method:\n",
    "    - text\n",
    "\n",
    "\n",
    "- Files created:\n",
    "    - Copies homology models into the GEM-PRO \"structures\" directory\n",
    "    \n",
    "    \n",
    "- Usage:\n",
    "        my_gempro.manual_homology_models(input_dict)\n",
    "        \n",
    "        \n",
    "- Arguments:\n",
    "\n",
    "    - *input_dict*\n",
    "        -  Dictionary of dictionaries of gene names to homology model IDs and information. Input a dict of:\n",
    "                {model_gene: {homology_model_id1: {'model_file': '/path/to/homology/model',\n",
    "                                                  'other_info': 'other_info_here',\n",
    "                                                  ...},\n",
    "                              homology_model_id2: {'model_file': '/path/to/homology/model',\n",
    "                                                  'other_info': 'other_info_here',\n",
    "                                                  ...}}}\n",
    "            "
   ]
  },
  {
   "cell_type": "markdown",
   "metadata": {},
   "source": [
    "-------------------"
   ]
  },
  {
   "cell_type": "markdown",
   "metadata": {},
   "source": [
    "### Gene annotations\n",
    "\n",
    "Check out the gene annotations saved directly into the gene.\n",
    "\n",
    "- Usage:\n",
    "        my_gempro.genes.get_by_id('Rv1295').protein.structures\n"
   ]
  },
  {
   "cell_type": "code",
   "execution_count": 20,
   "metadata": {
    "collapsed": false
   },
   "outputs": [
    {
     "name": "stderr",
     "output_type": "stream",
     "text": [
      "INFO:root:getUserAgent: Begin\n",
      "INFO:root:getUserAgent: user_agent: EBI-Sample-Client/ (services.py; Python 3.5.2; Linux) Python-requests/2.11.1\n",
      "INFO:root:getUserAgent: End\n",
      "Widget Javascript not detected.  It may not be installed properly. Did you enable the widgetsnbextension? If not, then run \"jupyter nbextension enable --py --sys-prefix widgetsnbextension\"\n",
      "WARNING:ssbio.pipeline.gempro:Rv2233: no representative UniProt ID set, cannot use best structures API\n",
      "INFO:ssbio.pipeline.gempro:Completed UniProt -> best PDB mapping. See the \"df_pdb_ranking\" attribute.\n",
      "INFO:ssbio.pipeline.gempro:178: number of genes with at least one structure\n",
      "INFO:ssbio.pipeline.gempro:482: number of genes with no structures\n"
     ]
    },
    {
     "name": "stdout",
     "output_type": "stream",
     "text": [
      "\n"
     ]
    },
    {
     "data": {
      "text/html": [
       "<div>\n",
       "<table border=\"1\" class=\"dataframe\">\n",
       "  <thead>\n",
       "    <tr style=\"text-align: right;\">\n",
       "      <th></th>\n",
       "      <th>gene</th>\n",
       "      <th>uniprot</th>\n",
       "      <th>pdb_id</th>\n",
       "      <th>pdb_chain_id</th>\n",
       "      <th>experimental_method</th>\n",
       "      <th>resolution</th>\n",
       "      <th>coverage</th>\n",
       "      <th>taxonomy_name</th>\n",
       "      <th>start</th>\n",
       "      <th>end</th>\n",
       "      <th>unp_start</th>\n",
       "      <th>unp_end</th>\n",
       "      <th>rank</th>\n",
       "    </tr>\n",
       "  </thead>\n",
       "  <tbody>\n",
       "    <tr>\n",
       "      <th>0</th>\n",
       "      <td>Rv1295</td>\n",
       "      <td>P9WG59</td>\n",
       "      <td>2d1f</td>\n",
       "      <td>A</td>\n",
       "      <td>X-ray diffraction</td>\n",
       "      <td>2.50</td>\n",
       "      <td>1.000</td>\n",
       "      <td>None</td>\n",
       "      <td>1</td>\n",
       "      <td>360</td>\n",
       "      <td>1</td>\n",
       "      <td>360</td>\n",
       "      <td>1</td>\n",
       "    </tr>\n",
       "    <tr>\n",
       "      <th>1</th>\n",
       "      <td>Rv1295</td>\n",
       "      <td>P9WG59</td>\n",
       "      <td>2d1f</td>\n",
       "      <td>B</td>\n",
       "      <td>X-ray diffraction</td>\n",
       "      <td>2.50</td>\n",
       "      <td>1.000</td>\n",
       "      <td>None</td>\n",
       "      <td>1</td>\n",
       "      <td>360</td>\n",
       "      <td>1</td>\n",
       "      <td>360</td>\n",
       "      <td>2</td>\n",
       "    </tr>\n",
       "    <tr>\n",
       "      <th>2</th>\n",
       "      <td>Rv1201c</td>\n",
       "      <td>P9WP21</td>\n",
       "      <td>3fsy</td>\n",
       "      <td>A</td>\n",
       "      <td>X-ray diffraction</td>\n",
       "      <td>1.97</td>\n",
       "      <td>0.997</td>\n",
       "      <td>None</td>\n",
       "      <td>4</td>\n",
       "      <td>319</td>\n",
       "      <td>2</td>\n",
       "      <td>317</td>\n",
       "      <td>1</td>\n",
       "    </tr>\n",
       "    <tr>\n",
       "      <th>3</th>\n",
       "      <td>Rv1201c</td>\n",
       "      <td>P9WP21</td>\n",
       "      <td>3fsy</td>\n",
       "      <td>B</td>\n",
       "      <td>X-ray diffraction</td>\n",
       "      <td>1.97</td>\n",
       "      <td>0.997</td>\n",
       "      <td>None</td>\n",
       "      <td>4</td>\n",
       "      <td>319</td>\n",
       "      <td>2</td>\n",
       "      <td>317</td>\n",
       "      <td>2</td>\n",
       "    </tr>\n",
       "    <tr>\n",
       "      <th>4</th>\n",
       "      <td>Rv1201c</td>\n",
       "      <td>P9WP21</td>\n",
       "      <td>3fsy</td>\n",
       "      <td>C</td>\n",
       "      <td>X-ray diffraction</td>\n",
       "      <td>1.97</td>\n",
       "      <td>0.997</td>\n",
       "      <td>None</td>\n",
       "      <td>4</td>\n",
       "      <td>319</td>\n",
       "      <td>2</td>\n",
       "      <td>317</td>\n",
       "      <td>3</td>\n",
       "    </tr>\n",
       "  </tbody>\n",
       "</table>\n",
       "</div>"
      ],
      "text/plain": [
       "      gene uniprot pdb_id pdb_chain_id experimental_method  resolution  \\\n",
       "0   Rv1295  P9WG59   2d1f            A   X-ray diffraction        2.50   \n",
       "1   Rv1295  P9WG59   2d1f            B   X-ray diffraction        2.50   \n",
       "2  Rv1201c  P9WP21   3fsy            A   X-ray diffraction        1.97   \n",
       "3  Rv1201c  P9WP21   3fsy            B   X-ray diffraction        1.97   \n",
       "4  Rv1201c  P9WP21   3fsy            C   X-ray diffraction        1.97   \n",
       "\n",
       "   coverage taxonomy_name  start  end  unp_start  unp_end  rank  \n",
       "0     1.000          None      1  360          1      360     1  \n",
       "1     1.000          None      1  360          1      360     2  \n",
       "2     0.997          None      4  319          2      317     1  \n",
       "3     0.997          None      4  319          2      317     2  \n",
       "4     0.997          None      4  319          2      317     3  "
      ]
     },
     "execution_count": 20,
     "metadata": {},
     "output_type": "execute_result"
    }
   ],
   "source": [
    "# Mapping using the PDBe best_structures service\n",
    "my_gempro.map_uniprot_to_pdb()\n",
    "my_gempro.df_pdb_ranking.head()"
   ]
  },
  {
   "cell_type": "code",
   "execution_count": 21,
   "metadata": {
    "collapsed": false
   },
   "outputs": [
    {
     "data": {
      "text/plain": [
       "[<PDBProp 2d1f at 0x7f08cc4d9cf8>]"
      ]
     },
     "execution_count": 21,
     "metadata": {},
     "output_type": "execute_result"
    }
   ],
   "source": [
    "my_gempro.genes.get_by_id('Rv1295').protein.structures"
   ]
  },
  {
   "cell_type": "code",
   "execution_count": 22,
   "metadata": {
    "collapsed": false,
    "scrolled": true
   },
   "outputs": [
    {
     "data": {
      "text/plain": [
       "{'chains': [<ChainProp A at 0x7f08cc4ef2b0>, <ChainProp B at 0x7f08cc4ef9e8>],\n",
       " 'date': None,\n",
       " 'description': None,\n",
       " 'experimental_method': 'X-ray diffraction',\n",
       " 'file_type': None,\n",
       " 'id': '2d1f',\n",
       " 'is_experimental': True,\n",
       " 'mapped_chains': ['A', 'B'],\n",
       " 'reference_seq': <SeqProp Rv1295 at 0x7f08cc4ef2e8>,\n",
       " 'reference_seq_top_coverage': 0,\n",
       " 'representative_chain': None,\n",
       " 'resolution': 2.5,\n",
       " 'structure': None,\n",
       " 'structure_file': None,\n",
       " 'structure_path': None,\n",
       " 'taxonomy_name': None}"
      ]
     },
     "execution_count": 22,
     "metadata": {},
     "output_type": "execute_result"
    }
   ],
   "source": [
    "my_gempro.genes.get_by_id('Rv1295').protein.structures[0].get_dict()"
   ]
  },
  {
   "cell_type": "code",
   "execution_count": 23,
   "metadata": {
    "collapsed": false
   },
   "outputs": [
    {
     "name": "stderr",
     "output_type": "stream",
     "text": [
      "Widget Javascript not detected.  It may not be installed properly. Did you enable the widgetsnbextension? If not, then run \"jupyter nbextension enable --py --sys-prefix widgetsnbextension\"\n",
      "INFO:ssbio.pipeline.gempro:Rv1908c: Adding 2 PDBs from BLAST results.\n",
      "INFO:ssbio.pipeline.gempro:Rv3307: Adding 1 PDBs from BLAST results.\n",
      "INFO:ssbio.pipeline.gempro:Rv2965c: Adding 1 PDBs from BLAST results.\n",
      "INFO:ssbio.pipeline.gempro:Rv1603: Adding 2 PDBs from BLAST results.\n",
      "INFO:ssbio.pipeline.gempro:Rv2247: Adding 2 PDBs from BLAST results.\n",
      "INFO:ssbio.pipeline.gempro:Rv0211: Adding 8 PDBs from BLAST results.\n",
      "WARNING:ssbio.pipeline.gempro:Rv2233: no representative sequence set, cannot BLAST\n",
      "INFO:ssbio.pipeline.gempro:Rv1392: Adding 1 PDBs from BLAST results.\n",
      "INFO:ssbio.pipeline.gempro:Rv0467: Adding 1 PDBs from BLAST results.\n",
      "INFO:ssbio.pipeline.gempro:Rv1415: Adding 1 PDBs from BLAST results.\n",
      "INFO:ssbio.pipeline.gempro:Rv2220: Adding 1 PDBs from BLAST results.\n",
      "INFO:ssbio.pipeline.gempro:Rv2043c: Adding 1 PDBs from BLAST results.\n",
      "INFO:ssbio.pipeline.gempro:Rv2245: Adding 9 PDBs from BLAST results.\n",
      "INFO:ssbio.pipeline.gempro:Rv0642c: Adding 1 PDBs from BLAST results.\n",
      "INFO:ssbio.pipeline.gempro:Rv0126: Adding 1 PDBs from BLAST results.\n",
      "INFO:ssbio.pipeline.gempro:Rv2763c: Adding 3 PDBs from BLAST results.\n",
      "INFO:ssbio.pipeline.gempro:Rv3790: Adding 8 PDBs from BLAST results.\n",
      "INFO:ssbio.pipeline.gempro:Rv1568: Adding 3 PDBs from BLAST results.\n",
      "INFO:ssbio.pipeline.gempro:Rv2780: Adding 1 PDBs from BLAST results.\n",
      "INFO:ssbio.pipeline.gempro:Rv1484: Adding 3 PDBs from BLAST results.\n",
      "INFO:ssbio.pipeline.gempro:Completed sequence --> PDB BLAST. See the \"df_pdb_blast\" attribute.\n"
     ]
    },
    {
     "name": "stdout",
     "output_type": "stream",
     "text": [
      "\n"
     ]
    },
    {
     "data": {
      "text/html": [
       "<div>\n",
       "<table border=\"1\" class=\"dataframe\">\n",
       "  <thead>\n",
       "    <tr style=\"text-align: right;\">\n",
       "      <th></th>\n",
       "      <th>gene</th>\n",
       "      <th>pdb_id</th>\n",
       "      <th>pdb_chain_id</th>\n",
       "      <th>hit_score</th>\n",
       "      <th>hit_evalue</th>\n",
       "      <th>hit_percent_similar</th>\n",
       "      <th>hit_percent_ident</th>\n",
       "      <th>hit_num_ident</th>\n",
       "      <th>hit_num_similar</th>\n",
       "    </tr>\n",
       "  </thead>\n",
       "  <tbody>\n",
       "    <tr>\n",
       "      <th>0</th>\n",
       "      <td>Rv1908c</td>\n",
       "      <td>4c50</td>\n",
       "      <td>A</td>\n",
       "      <td>3652.0</td>\n",
       "      <td>0.000000e+00</td>\n",
       "      <td>0.974324</td>\n",
       "      <td>0.974324</td>\n",
       "      <td>721</td>\n",
       "      <td>721</td>\n",
       "    </tr>\n",
       "    <tr>\n",
       "      <th>1</th>\n",
       "      <td>Rv1908c</td>\n",
       "      <td>4c50</td>\n",
       "      <td>B</td>\n",
       "      <td>3652.0</td>\n",
       "      <td>0.000000e+00</td>\n",
       "      <td>0.974324</td>\n",
       "      <td>0.974324</td>\n",
       "      <td>721</td>\n",
       "      <td>721</td>\n",
       "    </tr>\n",
       "    <tr>\n",
       "      <th>2</th>\n",
       "      <td>Rv1908c</td>\n",
       "      <td>4c51</td>\n",
       "      <td>A</td>\n",
       "      <td>3651.0</td>\n",
       "      <td>0.000000e+00</td>\n",
       "      <td>0.974324</td>\n",
       "      <td>0.974324</td>\n",
       "      <td>721</td>\n",
       "      <td>721</td>\n",
       "    </tr>\n",
       "    <tr>\n",
       "      <th>3</th>\n",
       "      <td>Rv1908c</td>\n",
       "      <td>4c51</td>\n",
       "      <td>B</td>\n",
       "      <td>3651.0</td>\n",
       "      <td>0.000000e+00</td>\n",
       "      <td>0.974324</td>\n",
       "      <td>0.974324</td>\n",
       "      <td>721</td>\n",
       "      <td>721</td>\n",
       "    </tr>\n",
       "    <tr>\n",
       "      <th>4</th>\n",
       "      <td>Rv3307</td>\n",
       "      <td>1n3i</td>\n",
       "      <td>A</td>\n",
       "      <td>1100.0</td>\n",
       "      <td>5.368050e-120</td>\n",
       "      <td>0.955224</td>\n",
       "      <td>0.955224</td>\n",
       "      <td>256</td>\n",
       "      <td>256</td>\n",
       "    </tr>\n",
       "  </tbody>\n",
       "</table>\n",
       "</div>"
      ],
      "text/plain": [
       "      gene pdb_id pdb_chain_id  hit_score     hit_evalue  hit_percent_similar  \\\n",
       "0  Rv1908c   4c50            A     3652.0   0.000000e+00             0.974324   \n",
       "1  Rv1908c   4c50            B     3652.0   0.000000e+00             0.974324   \n",
       "2  Rv1908c   4c51            A     3651.0   0.000000e+00             0.974324   \n",
       "3  Rv1908c   4c51            B     3651.0   0.000000e+00             0.974324   \n",
       "4   Rv3307   1n3i            A     1100.0  5.368050e-120             0.955224   \n",
       "\n",
       "   hit_percent_ident  hit_num_ident  hit_num_similar  \n",
       "0           0.974324            721              721  \n",
       "1           0.974324            721              721  \n",
       "2           0.974324            721              721  \n",
       "3           0.974324            721              721  \n",
       "4           0.955224            256              256  "
      ]
     },
     "execution_count": 23,
     "metadata": {},
     "output_type": "execute_result"
    }
   ],
   "source": [
    "# Mapping using BLAST\n",
    "my_gempro.blast_seqs_to_pdb(seq_ident_cutoff=.95, all_genes=True)\n",
    "my_gempro.df_pdb_blast.head()"
   ]
  },
  {
   "cell_type": "code",
   "execution_count": 24,
   "metadata": {
    "collapsed": false
   },
   "outputs": [
    {
     "name": "stderr",
     "output_type": "stream",
     "text": [
      "Widget Javascript not detected.  It may not be installed properly. Did you enable the widgetsnbextension? If not, then run \"jupyter nbextension enable --py --sys-prefix widgetsnbextension\"\n",
      "INFO:ssbio.pipeline.gempro:Completed copying of 428 I-TASSER models to GEM-PRO directory\n",
      "INFO:ssbio.pipeline.gempro:428 I-TASSER models total\n",
      "INFO:ssbio.pipeline.gempro:See the \"df_itasser\" attribute for a summary dataframe\n"
     ]
    },
    {
     "name": "stdout",
     "output_type": "stream",
     "text": [
      "\n"
     ]
    },
    {
     "data": {
      "text/html": [
       "<div>\n",
       "<table border=\"1\" class=\"dataframe\">\n",
       "  <thead>\n",
       "    <tr style=\"text-align: right;\">\n",
       "      <th></th>\n",
       "      <th>gene</th>\n",
       "      <th>model_file</th>\n",
       "      <th>model_date</th>\n",
       "      <th>difficulty</th>\n",
       "      <th>top_template_pdb</th>\n",
       "      <th>top_template_chain</th>\n",
       "      <th>c_score</th>\n",
       "      <th>tm_score</th>\n",
       "      <th>tm_score_err</th>\n",
       "      <th>rmsd</th>\n",
       "      <th>rmsd_err</th>\n",
       "    </tr>\n",
       "  </thead>\n",
       "  <tbody>\n",
       "    <tr>\n",
       "      <th>0</th>\n",
       "      <td>Rv0417</td>\n",
       "      <td>Rv0417_model1.pdb</td>\n",
       "      <td>2015-12-30</td>\n",
       "      <td>easy</td>\n",
       "      <td>2htm</td>\n",
       "      <td>C</td>\n",
       "      <td>1.66</td>\n",
       "      <td>0.95</td>\n",
       "      <td>0.05</td>\n",
       "      <td>2.6</td>\n",
       "      <td>1.9</td>\n",
       "    </tr>\n",
       "    <tr>\n",
       "      <th>1</th>\n",
       "      <td>Rv2291</td>\n",
       "      <td>Rv2291_model1.pdb</td>\n",
       "      <td>2016-01-04</td>\n",
       "      <td>easy</td>\n",
       "      <td>3olh</td>\n",
       "      <td>A</td>\n",
       "      <td>1.38</td>\n",
       "      <td>0.91</td>\n",
       "      <td>0.06</td>\n",
       "      <td>3.3</td>\n",
       "      <td>2.3</td>\n",
       "    </tr>\n",
       "    <tr>\n",
       "      <th>2</th>\n",
       "      <td>Rv1559</td>\n",
       "      <td>Rv1559_model1.pdb</td>\n",
       "      <td>2016-01-08</td>\n",
       "      <td>easy</td>\n",
       "      <td>1tdj</td>\n",
       "      <td>A</td>\n",
       "      <td>0.73</td>\n",
       "      <td>0.81</td>\n",
       "      <td>0.09</td>\n",
       "      <td>5.4</td>\n",
       "      <td>3.4</td>\n",
       "    </tr>\n",
       "    <tr>\n",
       "      <th>3</th>\n",
       "      <td>Rv3113</td>\n",
       "      <td>Rv3113_model1.pdb</td>\n",
       "      <td>2015-12-30</td>\n",
       "      <td>easy</td>\n",
       "      <td>3sd7</td>\n",
       "      <td>A</td>\n",
       "      <td>0.72</td>\n",
       "      <td>0.81</td>\n",
       "      <td>0.09</td>\n",
       "      <td>4.1</td>\n",
       "      <td>2.8</td>\n",
       "    </tr>\n",
       "    <tr>\n",
       "      <th>4</th>\n",
       "      <td>Rv2447c</td>\n",
       "      <td>Rv2447c_model1.pdb</td>\n",
       "      <td>2016-01-08</td>\n",
       "      <td>easy</td>\n",
       "      <td>2vos</td>\n",
       "      <td>A</td>\n",
       "      <td>0.07</td>\n",
       "      <td>0.72</td>\n",
       "      <td>0.11</td>\n",
       "      <td>7.1</td>\n",
       "      <td>4.2</td>\n",
       "    </tr>\n",
       "  </tbody>\n",
       "</table>\n",
       "</div>"
      ],
      "text/plain": [
       "      gene          model_file  model_date difficulty top_template_pdb  \\\n",
       "0   Rv0417   Rv0417_model1.pdb  2015-12-30       easy             2htm   \n",
       "1   Rv2291   Rv2291_model1.pdb  2016-01-04       easy             3olh   \n",
       "2   Rv1559   Rv1559_model1.pdb  2016-01-08       easy             1tdj   \n",
       "3   Rv3113   Rv3113_model1.pdb  2015-12-30       easy             3sd7   \n",
       "4  Rv2447c  Rv2447c_model1.pdb  2016-01-08       easy             2vos   \n",
       "\n",
       "  top_template_chain  c_score  tm_score  tm_score_err  rmsd  rmsd_err  \n",
       "0                  C     1.66      0.95          0.05   2.6       1.9  \n",
       "1                  A     1.38      0.91          0.06   3.3       2.3  \n",
       "2                  A     0.73      0.81          0.09   5.4       3.4  \n",
       "3                  A     0.72      0.81          0.09   4.1       2.8  \n",
       "4                  A     0.07      0.72          0.11   7.1       4.2  "
      ]
     },
     "execution_count": 24,
     "metadata": {},
     "output_type": "execute_result"
    }
   ],
   "source": [
    "# Organizing homology models (only specific to this example)\n",
    "old_gene_to_homology = pd.read_csv(op.join(my_gempro.data_dir,'161031-old_gene_to_uniprot_mapping.csv'))\n",
    "gene_to_uniprot = old_gene_to_homology.set_index('m_gene').to_dict()['u_uniprot_acc']\n",
    "\n",
    "my_gempro.get_itasser_models(homology_raw_dir='/home/nathan/projects_archive/homology_models/MTUBERCULOSIS/raw', custom_itasser_name_mapping=gene_to_uniprot)\n",
    "my_gempro.df_itasser.head()"
   ]
  },
  {
   "cell_type": "code",
   "execution_count": 25,
   "metadata": {
    "collapsed": false
   },
   "outputs": [
    {
     "data": {
      "text/plain": [
       "[<ITASSERProp P9WG73 at 0x7f08ca05e0f0>]"
      ]
     },
     "execution_count": 25,
     "metadata": {},
     "output_type": "execute_result"
    }
   ],
   "source": [
    "my_gempro.genes.get_by_id('Rv0417').protein.structures"
   ]
  },
  {
   "cell_type": "code",
   "execution_count": null,
   "metadata": {
    "collapsed": false
   },
   "outputs": [
    {
     "data": {
      "text/plain": [
       "{'c_score': 1.66,\n",
       " 'chains': [],\n",
       " 'create_dfs': True,\n",
       " 'description': None,\n",
       " 'difficulty': 'easy',\n",
       " 'file_type': 'pdb',\n",
       " 'id': 'P9WG73',\n",
       " 'is_experimental': False,\n",
       " 'mapped_chains': [],\n",
       " 'model_date': '2015-12-30',\n",
       " 'model_file': 'Rv0417_model1.pdb',\n",
       " 'model_to_use': 'model1',\n",
       " 'reference_seq': <SeqProp P9WG73 at 0x7f08cc83fe80>,\n",
       " 'reference_seq_top_coverage': 0,\n",
       " 'representative_chain': None,\n",
       " 'results_path': '/home/nathan/projects_archive/homology_models/MTUBERCULOSIS/raw/P9WG73',\n",
       " 'rmsd': 2.6,\n",
       " 'rmsd_err': 1.9,\n",
       " 'structure': None,\n",
       " 'structure_file': 'Rv0417_model1.pdb',\n",
       " 'structure_path': '/home/nathan/projects_unsynced/mtuberculosis_gp_atlas/structures/by_gene/Rv0417/Rv0417_model1.pdb',\n",
       " 'tm_score': 0.95,\n",
       " 'tm_score_err': 0.05,\n",
       " 'top_template_chain': 'C',\n",
       " 'top_template_pdb': '2htm'}"
      ]
     },
     "execution_count": 26,
     "metadata": {},
     "output_type": "execute_result"
    }
   ],
   "source": [
    "my_gempro.genes.get_by_id('Rv0417').protein.structures[0].get_dict()"
   ]
  },
  {
   "cell_type": "markdown",
   "metadata": {},
   "source": [
    "## Setting a representative structure\n",
    "\n",
    "Once you've mapped PDBs and homology models, then you need to choose between all of the available ones. \n",
    "\n",
    "\n",
    "- Method:\n",
    "    - \n",
    "\n",
    "\n",
    "- Files downloaded:\n",
    "    - \n",
    "    \n",
    "    \n",
    "- Usage:\n",
    "        my_gempro.set_representative_structure(always_use_homology=True, \n",
    "                                               sort_homology_by='seq_coverage',\n",
    "                                               allow_missing_on_termini=0.1, \n",
    "                                               allow_mutants=True, \n",
    "                                               allow_deletions=False,\n",
    "                                               allow_insertions=False, \n",
    "                                               allow_unresolved=True, \n",
    "                                               force_rerun=False)\n",
    "        \n",
    "        \n",
    "- Arguments:\n",
    "\n",
    "    - *always_use_homology*\n",
    "        - \n",
    "        \n",
    "    - *sort_homology_by*\n",
    "        - \n",
    "            "
   ]
  },
  {
   "cell_type": "markdown",
   "metadata": {},
   "source": [
    "-------------------"
   ]
  },
  {
   "cell_type": "markdown",
   "metadata": {},
   "source": [
    "### Gene annotations\n",
    "\n",
    "Check out the gene annotations saved directly into the gene.\n",
    "\n",
    "- Usage:\n",
    "        my_gempro.genes.get_by_id('Rv1295').annotation['structure']['representative']"
   ]
  },
  {
   "cell_type": "code",
   "execution_count": null,
   "metadata": {
    "collapsed": false
   },
   "outputs": [
    {
     "name": "stderr",
     "output_type": "stream",
     "text": [
      "Widget Javascript not detected.  It may not be installed properly. Did you enable the widgetsnbextension? If not, then run \"jupyter nbextension enable --py --sys-prefix widgetsnbextension\"\n",
      "WARNING:ssbio.core.protein:Rv0432: no representative structure found\n",
      "WARNING:ssbio.core.protein:Rv1286: no representative structure found\n",
      "WARNING:ssbio.core.protein:Rv2933: no representative structure found\n",
      "WARNING:ssbio.core.protein:Rv2945c: no representative structure found\n",
      "WARNING:ssbio.core.protein:Rv2941: no representative structure found\n",
      "WARNING:ssbio.core.protein:Rv2495c: no representative structure found\n",
      "WARNING:ssbio.core.protein:Rv2987c: no representative structure found\n",
      "WARNING:ssbio.core.protein:Rv1653: no representative structure found\n"
     ]
    }
   ],
   "source": [
    "my_gempro.set_representative_structure()\n",
    "my_gempro.df_representative_structures.head()"
   ]
  },
  {
   "cell_type": "code",
   "execution_count": null,
   "metadata": {
    "collapsed": false
   },
   "outputs": [],
   "source": [
    "my_gempro.genes.get_by_id('Rv1295').protein.structures"
   ]
  },
  {
   "cell_type": "code",
   "execution_count": null,
   "metadata": {
    "collapsed": false
   },
   "outputs": [],
   "source": [
    "my_gempro.genes.get_by_id('Rv1295').protein.structures[0].get_dict(exclude_attributes=['structure'])"
   ]
  },
  {
   "cell_type": "markdown",
   "metadata": {},
   "source": [
    "## Property calculations"
   ]
  },
  {
   "cell_type": "code",
   "execution_count": null,
   "metadata": {
    "collapsed": false
   },
   "outputs": [],
   "source": [
    "for g in tqdm(gp.genes):\n",
    "    g.protein.representative_sequence.get_biopython_pepstats()\n",
    "    g.protein.representative_sequence.get_emboss_pepstats()\n",
    "    if g.protein.representative_structure:\n",
    "        g.protein.representative_structure.get_dssp_annotations(outdir=op.join(gp.structure_single_chain_dir, g.id))\n",
    "        g.protein.representative_structure.get_residue_depths(outdir=op.join(gp.structure_single_chain_dir, g.id))\n",
    "        g.protein.representative_structure.get_disulfide_bridges()"
   ]
  },
  {
   "cell_type": "markdown",
   "metadata": {},
   "source": [
    "## Looking at a structure"
   ]
  },
  {
   "cell_type": "code",
   "execution_count": null,
   "metadata": {
    "collapsed": true
   },
   "outputs": [],
   "source": []
  },
  {
   "cell_type": "markdown",
   "metadata": {},
   "source": [
    "## Saving your GEM-PRO"
   ]
  },
  {
   "cell_type": "code",
   "execution_count": null,
   "metadata": {
    "collapsed": false
   },
   "outputs": [],
   "source": [
    "import cobra.io\n",
    "cobra.io.save_json_model(my_gempro.model, op.join(my_gempro.model_dir, 'iNJ661_GP.json'))"
   ]
  }
 ],
 "metadata": {
  "anaconda-cloud": {},
  "kernelspec": {
   "display_name": "Python [default]",
   "language": "python",
   "name": "python3"
  },
  "language_info": {
   "codemirror_mode": {
    "name": "ipython",
    "version": 3
   },
   "file_extension": ".py",
   "mimetype": "text/x-python",
   "name": "python",
   "nbconvert_exporter": "python",
   "pygments_lexer": "ipython3",
   "version": "3.5.2"
  },
  "widgets": {
   "state": {
    "114c944086934d9c9706829131a4cdff": {
     "views": [
      {
       "cell_index": 46
      }
     ]
    },
    "253cadaf34da4b9cbfc168f5e821dd6a": {
     "views": [
      {
       "cell_index": 49
      }
     ]
    },
    "2a567534e48649b09dc181288b28d0f2": {
     "views": [
      {
       "cell_index": 50
      }
     ]
    },
    "5b1d7447b7f64045a68587f2f5d53391": {
     "views": [
      {
       "cell_index": 56
      }
     ]
    },
    "a2855395e54649c9b001e76fdb347e4b": {
     "views": [
      {
       "cell_index": 27
      }
     ]
    },
    "ca8bcf1c1c1e4e26b28dcef7afb62ecd": {
     "views": [
      {
       "cell_index": 24
      }
     ]
    }
   },
   "version": "1.2.0"
  }
 },
 "nbformat": 4,
 "nbformat_minor": 1
}
