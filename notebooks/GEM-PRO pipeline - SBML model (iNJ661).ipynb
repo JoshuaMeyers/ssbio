{
 "cells": [
  {
   "cell_type": "markdown",
   "metadata": {},
   "source": [
    "# README\n",
    "\n",
    "This notebook gives an example of how to run the GEM-PRO pipeline on a **SBML model**.\n",
    "\n",
    "## Installation\n",
    "\n",
    "See: https://github.com/nmih/ssbio/blob/master/README.md\n",
    "- If something isn't working, make sure to update the repository before you do anything (git pull)\n",
    "\n",
    "## Quick start\n",
    "\n",
    "I just want to get structures ASAP! How can I do that?\n",
    "\n",
    "- my_gempro.run_pipeline() -- in progress!"
   ]
  },
  {
   "cell_type": "code",
   "execution_count": 1,
   "metadata": {
    "collapsed": false
   },
   "outputs": [],
   "source": [
    "# Import the GEM-PRO class\n",
    "from ssbio.pipeline.gempro import GEMPRO"
   ]
  },
  {
   "cell_type": "code",
   "execution_count": 2,
   "metadata": {
    "collapsed": true
   },
   "outputs": [],
   "source": [
    "# Other imports for this example\n",
    "import os\n",
    "import pandas as pd\n",
    "import os.path as op"
   ]
  },
  {
   "cell_type": "code",
   "execution_count": 3,
   "metadata": {
    "collapsed": true
   },
   "outputs": [],
   "source": [
    "# Printing multiple outputs per cell\n",
    "from IPython.core.interactiveshell import InteractiveShell\n",
    "InteractiveShell.ast_node_interactivity = \"all\""
   ]
  },
  {
   "cell_type": "code",
   "execution_count": 4,
   "metadata": {
    "collapsed": true
   },
   "outputs": [],
   "source": [
    "# Create logger\n",
    "import logging\n",
    "logger = logging.getLogger()\n",
    "\n",
    "############# SET YOUR LOGGING LEVEL HERE #############\n",
    "# - CRITICAL\n",
    "#     - Only really important messages shown\n",
    "# - ERROR\n",
    "#     - Major errors\n",
    "# - WARNING\n",
    "#     - Warnings that don't affect running of the pipeline\n",
    "# - INFO\n",
    "#     - Info such as the number of structures mapped per gene\n",
    "# - DEBUG\n",
    "#     - Really detailed information that will print out a lot of stuff\n",
    "logger.setLevel(logging.INFO)\n",
    "#######################################################"
   ]
  },
  {
   "cell_type": "markdown",
   "metadata": {},
   "source": [
    "## Initialization of the project\n",
    "\n",
    "Set these three things:\n",
    "\n",
    "- GEM_NAME\n",
    "    - Your project name\n",
    "- ROOT_DIR\n",
    "    - The directory where the GEM_NAME folder will be created\n",
    "- GENES\n",
    "    - Your list of gene IDs\n",
    "    \n",
    "A directory will be created in ROOT_DIR named after your GEM_NAME. The folders are:\n",
    "```\n",
    "    .\n",
    "    ├── data  # where dataframes are stored\n",
    "    ├── figures  # where figures are stored\n",
    "    ├── model  # where SBML and GEM-PRO models are stored\n",
    "    ├── notebooks  # location of any ipython notebooks for analyses\n",
    "    ├── sequences  # sequences are stored here, in gene specific folders\n",
    "    │   ├── <gene_id1>\n",
    "    │   │   └── sequence.fasta\n",
    "    │   ├── <gene_id2>\n",
    "    │   └── ...\n",
    "    └── structures\n",
    "        ├── by_gene  # structures are stored here, in gene specific folders\n",
    "        │   ├── <gene_id1>\n",
    "        │   │   └── 1abc.pdb\n",
    "        │   ├── <gene_id2>\n",
    "        │   └── ...\n",
    "        └── by_complex  # complexes for reactions are stored here (in progress)\n",
    "```"
   ]
  },
  {
   "cell_type": "code",
   "execution_count": 5,
   "metadata": {
    "collapsed": true
   },
   "outputs": [],
   "source": [
    "GEM_NAME = 'mtuberculosis_gp_atlas'\n",
    "\n",
    "ROOT_DIR = '/home/nathan/projects_unsynced/'\n",
    "\n",
    "GEM_FILE = '/home/nathan/projects_unsynced/mtuberculosis_gp_atlas/model/iNJ661.json'"
   ]
  },
  {
   "cell_type": "code",
   "execution_count": 6,
   "metadata": {
    "collapsed": false
   },
   "outputs": [
    {
     "name": "stderr",
     "output_type": "stream",
     "text": [
      "INFO:ssbio.pipeline.gempro:Loaded model: /home/nathan/projects_unsynced/mtuberculosis_gp_atlas/model/iNJ661.json\n",
      "INFO:ssbio.pipeline.gempro:Number of reactions: 1025\n",
      "INFO:ssbio.pipeline.gempro:Number of reactions linked to a gene: 720\n",
      "INFO:ssbio.pipeline.gempro:Number of genes (excluding spontaneous): 661\n",
      "INFO:ssbio.pipeline.gempro:Number of metabolites: 826\n"
     ]
    }
   ],
   "source": [
    "# Create the GEM-PRO project\n",
    "# Specify that the model is in json format\n",
    "my_gempro = GEMPRO(gem_name=GEM_NAME, root_dir=ROOT_DIR, gem_file_path=GEM_FILE, gem_file_type='json')"
   ]
  },
  {
   "cell_type": "markdown",
   "metadata": {},
   "source": [
    "## Mapping gene ID to sequence\n",
    "\n",
    "**First, we want to set a sequence for each of the genes in our model.** This can happen one of two ways:\n",
    "\n",
    "1. I want to map the gene IDs in the model (I don't have the original genome sequence)\n",
    "2. I have the sequences for my organism\n",
    "\n",
    "---------------------\n",
    "\n",
    "### 1. I want to map the gene IDs in the model\n",
    "\n",
    "\n",
    "##### Mapping with KEGG\n",
    "\n",
    "- Files created:\n",
    "    - Per gene, the KEGG sequence and metadata is downloaded in the GEM-PRO \"sequences\" folder.\n",
    "    \n",
    "\n",
    "- Usage:\n",
    "        my_gempro.kegg_mapping_and_metadata(kegg_organism_code, custom_gene_mapping=None, force_rerun=False)\n",
    "\n",
    "\n",
    "- Arguments:\n",
    "\n",
    "    - *kegg_organism_code*\n",
    "        - See the full list of organisms here: http://www.genome.jp/kegg/catalog/org_list.html\n",
    "        - E. coli MG1655 is \"eco\"\n",
    "        - M. tuberculosis is \"mtu\"\n",
    "\n",
    "    - *custom_gene_mapping*\n",
    "        - If the model gene IDs differ from the KEGG gene IDs, and you know the mapping, supply it as a dictionary here. \n",
    "        - An example would be for the *T. maritima* model, where the model IDs are formatted without an underscore (\"TM0001\") while in KEGG they have an underscore (\"TM_0001\").\n",
    "\n",
    "    - *force_rerun*\n",
    "        - If you want to force the rerun of mapping, set this to True.\n",
    "\n",
    "\n",
    "- Creates attributes:\n",
    "    - A summary of the metadata is available in the \"df_kegg_metadata\" attribute.\n",
    "            my_gempro.df_kegg_metadata\n",
    "            \n",
    "    - Any gene IDs that are missing a mapping are reported in the \"missing_kegg_mapping\" attribute.\n",
    "            my_gempro.missing_kegg_mapping\n",
    "        \n",
    "    \n",
    "##### Mapping with UniProt\n",
    "\n",
    "- Method:\n",
    "    - You can try mapping your genes using the actual service here: http://www.uniprot.org/uploadlists/\n",
    "    \n",
    "    \n",
    "- Files created:\n",
    "    - Per gene, the sequence and metadata is downloaded in the GEM-PRO \"sequences\" folder.\n",
    "    \n",
    "\n",
    "- Usage:\n",
    "        my_gempro.uniprot_mapping_and_metadata(model_gene_source, custom_gene_mapping=None, force_rerun=False)\n",
    "        \n",
    "        \n",
    "- Arguments:\n",
    "\n",
    "    - *model_gene_source*\n",
    "        - Here is a list of the gene IDs that can be mapped to UniProt IDs: http://www.uniprot.org/help/programmatic_access#id_mapping_examples\n",
    "        - *E. coli* b-numbers are of the source \"ENSEMBLGENOME_ID\"\n",
    "        - *M. tuberculosis* gene IDs match the source \"TUBERCULIST_ID\"\n",
    "        \n",
    "    - *custom_gene_mapping*\n",
    "        - If you know the model gene ID to UniProt ID mapping, supply it as a dictionary here.\n",
    "        \n",
    "    - *force_rerun*\n",
    "        - If you want to force the rerun of mapping, set this to True.\n",
    "        \n",
    "        \n",
    "- Creates attributes:\n",
    "    - A summary of the metadata is available in the \"df_uniprot_metadata\" attribute.\n",
    "            my_gempro.df_uniprot_metadata\n",
    "            \n",
    "    - Any gene IDs that are missing a mapping are reported in the \"missing_uniprot_mapping\" attribute.\n",
    "            my_gempro.missing_uniprot_mapping\n",
    "        \n",
    "            \n",
    "##### Consolidating information\n",
    "\n",
    "If you have mapped with both KEGG and UniProt mappers, then you can set a representative sequence for the gene using this function.\n",
    "\n",
    "- Method:\n",
    "    - Manual mappings override all existing mappings.\n",
    "    - UniProt mappings override KEGG mappings except when KEGG mappings have PDBs associated with them and UniProt doesn't.\n",
    "\n",
    "\n",
    "- Usage:\n",
    "        my_gempro.set_representative_sequence()\n",
    "\n",
    "\n",
    "- Creates attributes:\n",
    "    - A summary of the mappings available in the \"df_sequence_mapping\" attribute.\n",
    "            my_gempro.df_sequence_mapping\n",
    "            \n",
    "    - Any gene IDs that are missing a mapping are reported in the \"missing_mapping\" attribute.\n",
    "            my_gempro.missing_mapping\n",
    "        \n",
    "\n",
    "---------------------------\n",
    "\n",
    "\n",
    "### 2. I have the sequences for my organism\n",
    "\n",
    "If you already have the amino acid sequences for each gene, simply set them as the representative sequence using the below function.\n",
    "\n",
    "##### Setting the amino acid sequences\n",
    "\n",
    "- Method:\n",
    "    - This is to be used when you actually have the genome source as protein coding sequences, or are for some reason interested in a random collection of sequences.\n",
    "    - These sequences are set as \"representative\" for each gene. That means you wouldn't have any KEGG or UniProt ID set as representative though. If you do run the above KEGG or UniProt mappings, it will check if they match your sequence and add in metadata.\n",
    "\n",
    "- Usage:\n",
    "        my_gempro.manual_seq_mapping(gene_to_seq_dict)\n",
    "        \n",
    "        \n",
    "- Arguments:\n",
    "\n",
    "    - *gene_to_seq_dict*\n",
    "        - Supply a dictionary mapping the model gene IDs to their amino acid sequences.\n",
    "        - Example: \n",
    "                {'Rv1295': 'MTVPPTATHQPWPGVIAAYRDRLPVGDDWTPVTLLEGGTPLIAATNLSK'}\n",
    "\n",
    "-------------------\n",
    "\n",
    "### Gene annotations\n",
    "\n",
    "Check out the gene annotations saved directly into the gene. \n",
    "\n",
    "- **These are COBRApy Gene objects! If you started with a SBML model, these are directly annotated within the model.**\n",
    "\n",
    "- Usage:\n",
    "        my_gempro.genes.get_by_id('Rv1295').annotation\n",
    "        my_gempro.genes.get_by_id('Rv1295').annotation['sequence']"
   ]
  },
  {
   "cell_type": "code",
   "execution_count": 7,
   "metadata": {
    "collapsed": false
   },
   "outputs": [
    {
     "name": "stderr",
     "output_type": "stream",
     "text": [
      "INFO:ssbio.pipeline.gempro:Loaded in 1 sequences\n"
     ]
    }
   ],
   "source": [
    "# Example of manual_seq_mapping\n",
    "gene_to_seq_dict = {'Rv1295': 'MTVPPTATHQPWPGVIAAYRDRLPVGDDWTPVTLLEGGTPLIAATNLSKQTGCTIHLKVEGLNPTGSFKDRGMTMAVTDALAHGQRAVLCASTGNTSASAAAYAARAGITCAVLIPQGKIAMGKLAQAVMHGAKIIQIDGNFDDCLELARKMAADFPTISLVNSVNPVRIEGQKTAAFEIVDVLGTAPDVHALPVGNAGNITAYWKGYTEYHQLGLIDKLPRMLGTQAAGAAPLVLGEPVSHPETIATAIRIGSPASWTSAVEAQQQSKGRFLAASDEEILAAYHLVARVEGVFVEPASAASIAGLLKAIDDGWVARGSTVVCTVTGNGLKDPDTALKDMPSVSPVPVDPVAVVEKLGLA'}\n",
    "\n",
    "my_gempro.manual_seq_mapping(gene_to_seq_dict)"
   ]
  },
  {
   "cell_type": "code",
   "execution_count": 8,
   "metadata": {
    "collapsed": false
   },
   "outputs": [
    {
     "data": {
      "text/plain": [
       "{'kegg_id': None,\n",
       " 'metadata_file': None,\n",
       " 'pdbs': [],\n",
       " 'properties': {},\n",
       " 'seq_file': 'Rv1295.faa',\n",
       " 'seq_len': 360,\n",
       " 'uniprot_acc': None}"
      ]
     },
     "execution_count": 8,
     "metadata": {},
     "output_type": "execute_result"
    }
   ],
   "source": [
    "my_gempro.genes.get_by_id('Rv1295').annotation['sequence']['representative']"
   ]
  },
  {
   "cell_type": "code",
   "execution_count": 9,
   "metadata": {
    "collapsed": false
   },
   "outputs": [
    {
     "name": "stderr",
     "output_type": "stream",
     "text": [
      "WARNING:root:status is not ok with Not Found\n",
      "WARNING:root:status is not ok with Not Found\n",
      "WARNING:root:status is not ok with Not Found\n",
      "WARNING:root:status is not ok with Not Found\n",
      "WARNING:root:status is not ok with Not Found\n",
      "WARNING:root:status is not ok with Not Found\n",
      "WARNING:root:status is not ok with Not Found\n",
      "WARNING:root:status is not ok with Not Found\n",
      "WARNING:root:status is not ok with Not Found\n",
      "WARNING:root:status is not ok with Not Found\n",
      "WARNING:root:status is not ok with Not Found\n",
      "INFO:ssbio.pipeline.gempro:Created KEGG metadata dataframe. See the \"df_kegg_metadata\" attribute.\n",
      "WARNING:ssbio.pipeline.gempro:6 gene(s) could not be mapped. Inspect the \"missing_kegg_mapping\" attribute.\n"
     ]
    },
    {
     "name": "stdout",
     "output_type": "stream",
     "text": [
      "\n"
     ]
    },
    {
     "data": {
      "text/html": [
       "<div>\n",
       "<table border=\"1\" class=\"dataframe\">\n",
       "  <thead>\n",
       "    <tr style=\"text-align: right;\">\n",
       "      <th></th>\n",
       "      <th>gene</th>\n",
       "      <th>uniprot_acc</th>\n",
       "      <th>kegg_id</th>\n",
       "      <th>seq_len</th>\n",
       "      <th>pdbs</th>\n",
       "      <th>seq_file</th>\n",
       "      <th>metadata_file</th>\n",
       "    </tr>\n",
       "  </thead>\n",
       "  <tbody>\n",
       "    <tr>\n",
       "      <th>0</th>\n",
       "      <td>Rv0417</td>\n",
       "      <td>P9WG73</td>\n",
       "      <td>mtu:Rv0417</td>\n",
       "      <td>252.0</td>\n",
       "      <td>NaN</td>\n",
       "      <td>mtu-Rv0417.faa</td>\n",
       "      <td>mtu-Rv0417.kegg</td>\n",
       "    </tr>\n",
       "    <tr>\n",
       "      <th>1</th>\n",
       "      <td>Rv2291</td>\n",
       "      <td>P9WHF5</td>\n",
       "      <td>mtu:Rv2291</td>\n",
       "      <td>284.0</td>\n",
       "      <td>NaN</td>\n",
       "      <td>mtu-Rv2291.faa</td>\n",
       "      <td>mtu-Rv2291.kegg</td>\n",
       "    </tr>\n",
       "  </tbody>\n",
       "</table>\n",
       "</div>"
      ],
      "text/plain": [
       "     gene uniprot_acc     kegg_id  seq_len pdbs        seq_file  \\\n",
       "0  Rv0417      P9WG73  mtu:Rv0417    252.0  NaN  mtu-Rv0417.faa   \n",
       "1  Rv2291      P9WHF5  mtu:Rv2291    284.0  NaN  mtu-Rv2291.faa   \n",
       "\n",
       "     metadata_file  \n",
       "0  mtu-Rv0417.kegg  \n",
       "1  mtu-Rv2291.kegg  "
      ]
     },
     "execution_count": 9,
     "metadata": {},
     "output_type": "execute_result"
    },
    {
     "data": {
      "text/plain": [
       "['Rv1755c', 'Rv2233', 'Rv0619', 'Rv0618', 'Rv2321c', 'Rv2322c']"
      ]
     },
     "execution_count": 9,
     "metadata": {},
     "output_type": "execute_result"
    }
   ],
   "source": [
    "# KEGG mapping of gene ids\n",
    "my_gempro.kegg_mapping_and_metadata(kegg_organism_code='mtu')\n",
    "my_gempro.df_kegg_metadata.head(2)\n",
    "my_gempro.missing_kegg_mapping"
   ]
  },
  {
   "cell_type": "code",
   "execution_count": 10,
   "metadata": {
    "collapsed": false,
    "scrolled": false
   },
   "outputs": [
    {
     "name": "stderr",
     "output_type": "stream",
     "text": [
      "INFO:root:getUserAgent: Begin\n",
      "INFO:root:getUserAgent: user_agent: EBI-Sample-Client/ (services.py; Python 3.5.2; Linux) Python-requests/2.11.1\n",
      "INFO:root:getUserAgent: End\n",
      "INFO:ssbio.pipeline.gempro:Created UniProt metadata dataframe. See the \"df_uniprot_metadata\" attribute.\n",
      "WARNING:ssbio.pipeline.gempro:73 gene(s) could not be mapped. Inspect the \"missing_uniprot_mapping\" attribute.\n"
     ]
    },
    {
     "name": "stdout",
     "output_type": "stream",
     "text": [
      "\n"
     ]
    },
    {
     "data": {
      "text/html": [
       "<div>\n",
       "<table border=\"1\" class=\"dataframe\">\n",
       "  <thead>\n",
       "    <tr style=\"text-align: right;\">\n",
       "      <th></th>\n",
       "      <th>gene</th>\n",
       "      <th>uniprot_acc</th>\n",
       "      <th>seq_len</th>\n",
       "      <th>seq_file</th>\n",
       "      <th>pdbs</th>\n",
       "      <th>gene_name</th>\n",
       "      <th>reviewed</th>\n",
       "      <th>kegg_id</th>\n",
       "      <th>refseq</th>\n",
       "      <th>ec_number</th>\n",
       "      <th>pfam</th>\n",
       "      <th>description</th>\n",
       "      <th>entry_version</th>\n",
       "      <th>seq_version</th>\n",
       "      <th>metadata_file</th>\n",
       "    </tr>\n",
       "  </thead>\n",
       "  <tbody>\n",
       "    <tr>\n",
       "      <th>0</th>\n",
       "      <td>Rv0417</td>\n",
       "      <td>P9WG73</td>\n",
       "      <td>252.0</td>\n",
       "      <td>P9WG73.fasta</td>\n",
       "      <td>[]</td>\n",
       "      <td>thiG</td>\n",
       "      <td>True</td>\n",
       "      <td>[mtu:Rv0417]</td>\n",
       "      <td>[NP_214931.1, NC_000962.3, WP_003916659.1, NZ_...</td>\n",
       "      <td>[2.8.1.10]</td>\n",
       "      <td>NaN</td>\n",
       "      <td>[Thiazole synthase {ECO:0000255|HAMAP-Rule:MF_...</td>\n",
       "      <td>2016-10-05</td>\n",
       "      <td>2014-04-16</td>\n",
       "      <td>P9WG73.txt</td>\n",
       "    </tr>\n",
       "    <tr>\n",
       "      <th>1</th>\n",
       "      <td>Rv2291</td>\n",
       "      <td>P9WHF5</td>\n",
       "      <td>284.0</td>\n",
       "      <td>P9WHF5.fasta</td>\n",
       "      <td>[]</td>\n",
       "      <td>sseB</td>\n",
       "      <td>True</td>\n",
       "      <td>[mtu:Rv2291]</td>\n",
       "      <td>[NP_216807.1, NC_000962.3, WP_003899253.1, NZ_...</td>\n",
       "      <td>[2.8.1.1]</td>\n",
       "      <td>[PF00581]</td>\n",
       "      <td>[Putative thiosulfate sulfurtransferase SseB]</td>\n",
       "      <td>2016-10-05</td>\n",
       "      <td>2014-04-16</td>\n",
       "      <td>P9WHF5.txt</td>\n",
       "    </tr>\n",
       "  </tbody>\n",
       "</table>\n",
       "</div>"
      ],
      "text/plain": [
       "     gene uniprot_acc  seq_len      seq_file pdbs gene_name reviewed  \\\n",
       "0  Rv0417      P9WG73    252.0  P9WG73.fasta   []      thiG     True   \n",
       "1  Rv2291      P9WHF5    284.0  P9WHF5.fasta   []      sseB     True   \n",
       "\n",
       "        kegg_id                                             refseq  \\\n",
       "0  [mtu:Rv0417]  [NP_214931.1, NC_000962.3, WP_003916659.1, NZ_...   \n",
       "1  [mtu:Rv2291]  [NP_216807.1, NC_000962.3, WP_003899253.1, NZ_...   \n",
       "\n",
       "    ec_number       pfam                                        description  \\\n",
       "0  [2.8.1.10]        NaN  [Thiazole synthase {ECO:0000255|HAMAP-Rule:MF_...   \n",
       "1   [2.8.1.1]  [PF00581]      [Putative thiosulfate sulfurtransferase SseB]   \n",
       "\n",
       "  entry_version seq_version metadata_file  \n",
       "0    2016-10-05  2014-04-16    P9WG73.txt  \n",
       "1    2016-10-05  2014-04-16    P9WHF5.txt  "
      ]
     },
     "execution_count": 10,
     "metadata": {},
     "output_type": "execute_result"
    }
   ],
   "source": [
    "# UniProt mapping of gene_id -> uniprot_id\n",
    "my_gempro.uniprot_mapping_and_metadata(model_gene_source='TUBERCULIST_ID')\n",
    "my_gempro.df_uniprot_metadata.head(2)"
   ]
  },
  {
   "cell_type": "code",
   "execution_count": 11,
   "metadata": {
    "collapsed": false
   },
   "outputs": [
    {
     "name": "stderr",
     "output_type": "stream",
     "text": [
      "INFO:ssbio.pipeline.gempro:Updated existing UniProt dataframe.\n"
     ]
    },
    {
     "name": "stdout",
     "output_type": "stream",
     "text": [
      "{'Rv2321c': 'P71891', 'Rv0618': 'Q79FY4', 'Rv0619': 'Q79FY3', 'Rv1755c': 'P9WIA9', 'Rv2322c': 'P71890'}\n"
     ]
    }
   ],
   "source": [
    "# Manually adding in UniProt mappings later\n",
    "manual_uniprot = pd.read_csv(op.join(my_gempro.data_dir, '161019-gene_to_uniprot.in'))\n",
    "manual_uniprot_dict = {}\n",
    "for i,r in manual_uniprot.iterrows():\n",
    "    manual_uniprot_dict[r[0]] = r[1]\n",
    "print(manual_uniprot_dict)\n",
    "my_gempro.manual_uniprot_mapping(manual_uniprot_dict)"
   ]
  },
  {
   "cell_type": "code",
   "execution_count": 12,
   "metadata": {
    "collapsed": false
   },
   "outputs": [
    {
     "name": "stderr",
     "output_type": "stream",
     "text": [
      "WARNING:ssbio.pipeline.gempro:1 gene(s) could not be mapped. Inspect the \"missing_mapping\" attribute.\n",
      "INFO:ssbio.pipeline.gempro:Created sequence mapping dataframe. See the \"df_sequence_mapping\" attribute.\n"
     ]
    },
    {
     "data": {
      "text/html": [
       "<div>\n",
       "<table border=\"1\" class=\"dataframe\">\n",
       "  <thead>\n",
       "    <tr style=\"text-align: right;\">\n",
       "      <th></th>\n",
       "      <th>gene</th>\n",
       "      <th>uniprot_acc</th>\n",
       "      <th>kegg_id</th>\n",
       "      <th>pdbs</th>\n",
       "      <th>seq_len</th>\n",
       "      <th>seq_file</th>\n",
       "      <th>metadata_file</th>\n",
       "    </tr>\n",
       "  </thead>\n",
       "  <tbody>\n",
       "    <tr>\n",
       "      <th>0</th>\n",
       "      <td>Rv0417</td>\n",
       "      <td>P9WG73</td>\n",
       "      <td>mtu:Rv0417</td>\n",
       "      <td>NaN</td>\n",
       "      <td>252.0</td>\n",
       "      <td>P9WG73.fasta</td>\n",
       "      <td>P9WG73.txt</td>\n",
       "    </tr>\n",
       "    <tr>\n",
       "      <th>1</th>\n",
       "      <td>Rv2291</td>\n",
       "      <td>P9WHF5</td>\n",
       "      <td>mtu:Rv2291</td>\n",
       "      <td>NaN</td>\n",
       "      <td>284.0</td>\n",
       "      <td>P9WHF5.fasta</td>\n",
       "      <td>P9WHF5.txt</td>\n",
       "    </tr>\n",
       "  </tbody>\n",
       "</table>\n",
       "</div>"
      ],
      "text/plain": [
       "     gene uniprot_acc     kegg_id pdbs  seq_len      seq_file metadata_file\n",
       "0  Rv0417      P9WG73  mtu:Rv0417  NaN    252.0  P9WG73.fasta    P9WG73.txt\n",
       "1  Rv2291      P9WHF5  mtu:Rv2291  NaN    284.0  P9WHF5.fasta    P9WHF5.txt"
      ]
     },
     "execution_count": 12,
     "metadata": {},
     "output_type": "execute_result"
    },
    {
     "data": {
      "text/plain": [
       "['Rv2233']"
      ]
     },
     "execution_count": 12,
     "metadata": {},
     "output_type": "execute_result"
    }
   ],
   "source": [
    "# Consolidate mappings sources\n",
    "my_gempro.set_representative_sequence()\n",
    "my_gempro.df_sequence_mapping.head(2)\n",
    "my_gempro.missing_mapping"
   ]
  },
  {
   "cell_type": "code",
   "execution_count": 13,
   "metadata": {
    "collapsed": false
   },
   "outputs": [
    {
     "data": {
      "text/plain": [
       "{'kegg': {'kegg_id': 'mtu:Rv1295',\n",
       "  'metadata_file': 'mtu-Rv1295.kegg',\n",
       "  'pdbs': ['2D1F'],\n",
       "  'seq_file': 'mtu-Rv1295.faa',\n",
       "  'seq_len': 360,\n",
       "  'uniprot_acc': 'P9WG59'},\n",
       " 'representative': {'kegg_id': ['mtu:Rv1295'],\n",
       "  'metadata_file': 'P9WG59.txt',\n",
       "  'pdbs': ['2D1F'],\n",
       "  'properties': {},\n",
       "  'seq_file': 'Rv1295.faa',\n",
       "  'seq_len': 360,\n",
       "  'uniprot_acc': 'P9WG59'},\n",
       " 'uniprot': {'P9WG59': {'description': ['TS', 'Threonine synthase'],\n",
       "   'ec_number': ['4.2.3.1'],\n",
       "   'entry_version': '2016-10-05',\n",
       "   'gene': 'Rv1295',\n",
       "   'gene_name': 'thrC',\n",
       "   'kegg_id': ['mtu:Rv1295'],\n",
       "   'metadata_file': 'P9WG59.txt',\n",
       "   'pdbs': ['2D1F'],\n",
       "   'pfam': ['PF00291'],\n",
       "   'refseq': ['NP_215811.1', 'NC_000962.3', 'WP_003406652.1', 'NZ_KK339370.1'],\n",
       "   'reviewed': True,\n",
       "   'seq_file': 'P9WG59.fasta',\n",
       "   'seq_len': 360,\n",
       "   'seq_version': '2014-04-16',\n",
       "   'uniprot_acc': 'P9WG59'}}}"
      ]
     },
     "execution_count": 13,
     "metadata": {},
     "output_type": "execute_result"
    }
   ],
   "source": [
    "# Looking at sequence information saved per gene\n",
    "my_gempro.genes.get_by_id('Rv1295').annotation['sequence']"
   ]
  },
  {
   "cell_type": "markdown",
   "metadata": {},
   "source": [
    "## Mapping representative sequence to structure\n",
    "\n",
    "These are the ways to map sequence to structure:\n",
    "\n",
    "1. Use the UniProt ID and their automatic mappings to the PDB\n",
    "2. BLAST the sequence to the PDB\n",
    "3. Make homology models or \n",
    "4. Map to existing homology models\n",
    "\n",
    "You can only utilize option #1 to map to PDBs if there is a mapped UniProt ID set in the representative sequence. If not, you'll have to BLAST your sequence to the PDB or make a homology model. You can also run both for maximum coverage.\n",
    "\n",
    "---------------------\n",
    "\n",
    "### 1. Use the UniProt ID and their automatic mappings to the PDB\n",
    "\n",
    "\n",
    "- Method:\n",
    "    - Use the PDBe REST service to query for the best PDB structures for a UniProt ID.\n",
    "    - Here is the ranking algorithm described by the PDB paper: https://nar.oxfordjournals.org/content/44/D1/D385.full\n",
    "    - More information found here: https://www.ebi.ac.uk/pdbe/api/doc/sifts.html\n",
    "    - Link used to retrieve results: https://www.ebi.ac.uk/pdbe/api/mappings/best_structures/:accession\n",
    "    - The list of PDB structures mapping to a UniProt accession sorted by coverage of the protein and, if the same, resolution.\n",
    "\n",
    "\n",
    "- Files created:\n",
    "    - Saves a .json file directly from the web request in the GEM-PRO \"sequences\" folder\n",
    "    - No PDBs are downloaded yet\n",
    "    \n",
    "    \n",
    "- Usage:\n",
    "        my_gempro.map_uniprot_to_pdb(seq_ident_cutoff=0, force_rerun=False)\n",
    "        \n",
    "        \n",
    "- Arguments:\n",
    "\n",
    "    - *seq_ident_cutoff*\n",
    "        - From 0 to 1\n",
    "        - Provide the seq_ident_cutoff as a percentage to filter for structures with only a percent identity above the cutoff.\n",
    "        - **Warning:** if you set the seq_ident_cutoff too high you risk filtering out PDBs that do match the sequence, but are just missing large portions of it.\n",
    "        \n",
    "    - *force_rerun*\n",
    "        - If you want to force the rerun of mapping, set this to True.\n",
    "        \n",
    "        \n",
    "- Creates attributes:\n",
    "\n",
    "    - A summary of the rankings is available in the \"df_pdb_ranking\" attribute.\n",
    "            my_gempro.df_pdb_ranking\n",
    "    \n",
    "        \n",
    "---------------------------\n",
    "\n",
    "\n",
    "### 2. BLAST the sequence to the PDB\n",
    "\n",
    "This will BLAST the representative sequence against the entire PDB, and return significant hits. This will however return hits in other organisms, which may not be ideal.\n",
    "\n",
    "\n",
    "- Method:\n",
    "    - BLAST the representative sequence to the entire PDB.\n",
    "\n",
    "\n",
    "- Files created:\n",
    "    - Saves a .xml file directly from the web request in the GEM-PRO \"sequences\" folder\n",
    "    - No PDBs are downloaded yet\n",
    "    \n",
    "    \n",
    "- Usage:\n",
    "        my_gempro.blast_seqs_to_pdb(seq_ident_cutoff=0, evalue=0.0001, all_genes=False, force_rerun=False, display_link=False)\n",
    "        \n",
    "        \n",
    "- Arguments:\n",
    "\n",
    "    - *seq_ident_cutoff*\n",
    "        - From 0 to 1\n",
    "        - Provide the seq_ident_cutoff as a percentage to filter for structures with only a percent identity above the cutoff.\n",
    "        - **Warning:** if you set the seq_ident_cutoff too high you risk filtering out PDBs that do match the sequence, but are just missing large portions of it.\n",
    "        \n",
    "    - *evalue*\n",
    "        - Cutoff for the E-value - filters for significant hits.\n",
    "        - 0.001 is liberal, 0.0001 is stringent (default).\n",
    "        \n",
    "    - *all_genes*\n",
    "        - Set to True if you want to BLAST all gene sequences\n",
    "        - Set to False if you only want to BLAST genes without any PDBs (if map_uniprot_to_pdb was already run)\n",
    "        \n",
    "    - *force_rerun*\n",
    "        - If you want to force the rerun of mapping, set this to True.\n",
    "        \n",
    "    - *display_link*\n",
    "        - Display a link to the HTML results of the BLAST result per gene.\n",
    "        \n",
    "        \n",
    "- Creates attributes:\n",
    "\n",
    "    - A summary of the rankings is available in the \"df_pdb_blast\" attribute.\n",
    "            my_gempro.df_pdb_blast\n",
    "\n",
    "\n",
    "---------------------------\n",
    "\n",
    "\n",
    "### 3. Make homology models\n",
    "\n",
    "This will prepare sequences for homology modeling using I-TASSER or allow you to organize already generated ones.\n",
    "\n",
    "**IN PROGRESS**\n",
    "\n",
    "\n",
    "- Method:\n",
    "    - Prepare representative sequences for I-TASSER runs on your local machine, or using Torque (qsub, available on ssb0-ssb4) or SLURM (sbatch, currently used on NERSC) job scheduler systems.\n",
    "\n",
    "\n",
    "- Files created:\n",
    "    - Creates homology modeling files in a specified directory\n",
    "    \n",
    "    \n",
    "- Usage:\n",
    "        my_gempro.prep_itasser_models(outdir, itasser_installation, itlib_location, runtype, print_exec=False, **kwargs)\n",
    "        \n",
    "        \n",
    "- Arguments:\n",
    "\n",
    "    - *outdir*\n",
    "        - outdir\n",
    "        \n",
    "\n",
    "-------------------\n",
    "\n",
    "\n",
    "### 4. Map to existing homology models\n",
    "\n",
    "This will organize the homology models generated by I-TASSER\n",
    "\n",
    "**IN PROGRESS**\n",
    "\n",
    "\n",
    "- Method:\n",
    "    - Prepare representative sequences for I-TASSER runs on your local machine, or using Torque (qsub, available on ssb0-ssb4) or SLURM (sbatch, currently used on NERSC) job scheduler systems.\n",
    "\n",
    "\n",
    "- Files created:\n",
    "    - Copies homology models and a couple summary result files into the GEM-PRO \"structures\" directory\n",
    "    \n",
    "    \n",
    "- Usage:\n",
    "        my_gempro.get_itasser_models(homology_raw_dir, custom_itasser_name_mapping=None)\n",
    "        \n",
    "        \n",
    "- Arguments:\n",
    "\n",
    "    - *homology_raw_dir*\n",
    "        - \n",
    "        \n",
    "    - *custom_itasser_name_mapping*\n",
    "        - \n",
    "        \n",
    "- Creates attributes:\n",
    "\n",
    "    - A summary of the I-TASSER modeling is available in the \"df_itasser\" attribute.\n",
    "            my_gempro.df_itasser\n",
    "            \n",
    "\n",
    "-------------------\n",
    "\n",
    "\n",
    "### Gene annotations\n",
    "\n",
    "Check out the gene annotations saved directly into the gene.\n",
    "\n",
    "- Usage:\n",
    "        my_gempro.genes.get_by_id('Rv1295').annotation['structure']['pdb']\n",
    "        my_gempro.genes.get_by_id('Rv1295').annotation['structure']['homology']\n"
   ]
  },
  {
   "cell_type": "code",
   "execution_count": 14,
   "metadata": {
    "collapsed": false
   },
   "outputs": [
    {
     "name": "stderr",
     "output_type": "stream",
     "text": [
      "WARNING:ssbio.pipeline.gempro:Rv2233: No representative UniProt ID set, cannot use best structures API\n",
      "INFO:ssbio.pipeline.gempro:Completed UniProt -> best PDB mapping. See the \"df_pdb_ranking\" attribute.\n"
     ]
    },
    {
     "name": "stdout",
     "output_type": "stream",
     "text": [
      "\n"
     ]
    }
   ],
   "source": [
    "# Mapping using the PDBe best_structures service\n",
    "my_gempro.map_uniprot_to_pdb()"
   ]
  },
  {
   "cell_type": "code",
   "execution_count": 15,
   "metadata": {
    "collapsed": false
   },
   "outputs": [
    {
     "data": {
      "text/html": [
       "<div>\n",
       "<table border=\"1\" class=\"dataframe\">\n",
       "  <thead>\n",
       "    <tr style=\"text-align: right;\">\n",
       "      <th></th>\n",
       "      <th>gene</th>\n",
       "      <th>uniprot_acc</th>\n",
       "      <th>pdb_id</th>\n",
       "      <th>pdb_chain_id</th>\n",
       "      <th>experimental_method</th>\n",
       "      <th>resolution</th>\n",
       "      <th>seq_coverage</th>\n",
       "      <th>taxonomy_id</th>\n",
       "      <th>pdb_start</th>\n",
       "      <th>pdb_end</th>\n",
       "      <th>unp_start</th>\n",
       "      <th>unp_end</th>\n",
       "      <th>rank</th>\n",
       "    </tr>\n",
       "  </thead>\n",
       "  <tbody>\n",
       "    <tr>\n",
       "      <th>0</th>\n",
       "      <td>Rv1295</td>\n",
       "      <td>P9WG59</td>\n",
       "      <td>2d1f</td>\n",
       "      <td>A</td>\n",
       "      <td>X-ray diffraction</td>\n",
       "      <td>2.50</td>\n",
       "      <td>1.000</td>\n",
       "      <td>1773</td>\n",
       "      <td>1</td>\n",
       "      <td>360</td>\n",
       "      <td>1</td>\n",
       "      <td>360</td>\n",
       "      <td>1</td>\n",
       "    </tr>\n",
       "    <tr>\n",
       "      <th>1</th>\n",
       "      <td>Rv1295</td>\n",
       "      <td>P9WG59</td>\n",
       "      <td>2d1f</td>\n",
       "      <td>B</td>\n",
       "      <td>X-ray diffraction</td>\n",
       "      <td>2.50</td>\n",
       "      <td>1.000</td>\n",
       "      <td>1773</td>\n",
       "      <td>1</td>\n",
       "      <td>360</td>\n",
       "      <td>1</td>\n",
       "      <td>360</td>\n",
       "      <td>2</td>\n",
       "    </tr>\n",
       "    <tr>\n",
       "      <th>2</th>\n",
       "      <td>Rv1201c</td>\n",
       "      <td>P9WP21</td>\n",
       "      <td>3fsy</td>\n",
       "      <td>A</td>\n",
       "      <td>X-ray diffraction</td>\n",
       "      <td>1.97</td>\n",
       "      <td>0.997</td>\n",
       "      <td>83332</td>\n",
       "      <td>4</td>\n",
       "      <td>319</td>\n",
       "      <td>2</td>\n",
       "      <td>317</td>\n",
       "      <td>1</td>\n",
       "    </tr>\n",
       "    <tr>\n",
       "      <th>3</th>\n",
       "      <td>Rv1201c</td>\n",
       "      <td>P9WP21</td>\n",
       "      <td>3fsy</td>\n",
       "      <td>B</td>\n",
       "      <td>X-ray diffraction</td>\n",
       "      <td>1.97</td>\n",
       "      <td>0.997</td>\n",
       "      <td>83332</td>\n",
       "      <td>4</td>\n",
       "      <td>319</td>\n",
       "      <td>2</td>\n",
       "      <td>317</td>\n",
       "      <td>2</td>\n",
       "    </tr>\n",
       "    <tr>\n",
       "      <th>4</th>\n",
       "      <td>Rv1201c</td>\n",
       "      <td>P9WP21</td>\n",
       "      <td>3fsy</td>\n",
       "      <td>C</td>\n",
       "      <td>X-ray diffraction</td>\n",
       "      <td>1.97</td>\n",
       "      <td>0.997</td>\n",
       "      <td>83332</td>\n",
       "      <td>4</td>\n",
       "      <td>319</td>\n",
       "      <td>2</td>\n",
       "      <td>317</td>\n",
       "      <td>3</td>\n",
       "    </tr>\n",
       "  </tbody>\n",
       "</table>\n",
       "</div>"
      ],
      "text/plain": [
       "      gene uniprot_acc pdb_id pdb_chain_id experimental_method  resolution  \\\n",
       "0   Rv1295      P9WG59   2d1f            A   X-ray diffraction        2.50   \n",
       "1   Rv1295      P9WG59   2d1f            B   X-ray diffraction        2.50   \n",
       "2  Rv1201c      P9WP21   3fsy            A   X-ray diffraction        1.97   \n",
       "3  Rv1201c      P9WP21   3fsy            B   X-ray diffraction        1.97   \n",
       "4  Rv1201c      P9WP21   3fsy            C   X-ray diffraction        1.97   \n",
       "\n",
       "   seq_coverage  taxonomy_id  pdb_start  pdb_end  unp_start  unp_end  rank  \n",
       "0         1.000         1773          1      360          1      360     1  \n",
       "1         1.000         1773          1      360          1      360     2  \n",
       "2         0.997        83332          4      319          2      317     1  \n",
       "3         0.997        83332          4      319          2      317     2  \n",
       "4         0.997        83332          4      319          2      317     3  "
      ]
     },
     "execution_count": 15,
     "metadata": {},
     "output_type": "execute_result"
    }
   ],
   "source": [
    "my_gempro.df_pdb_ranking.head()"
   ]
  },
  {
   "cell_type": "code",
   "execution_count": 16,
   "metadata": {
    "collapsed": false
   },
   "outputs": [
    {
     "name": "stderr",
     "output_type": "stream",
     "text": [
      "INFO:ssbio.pipeline.gempro:Rv3846: Adding 20 PDBs from BLAST results.\n",
      "INFO:ssbio.pipeline.gempro:Rv2539c: Adding 4 PDBs from BLAST results.\n",
      "INFO:ssbio.pipeline.gempro:Rv1603: Adding 2 PDBs from BLAST results.\n",
      "INFO:ssbio.pipeline.gempro:Rv3628: Adding 1 PDBs from BLAST results.\n",
      "WARNING:ssbio.pipeline.gempro:Rv2233: No sequence set\n",
      "INFO:ssbio.pipeline.gempro:Rv2764c: Adding 1 PDBs from BLAST results.\n",
      "INFO:ssbio.pipeline.gempro:Rv0467: Adding 4 PDBs from BLAST results.\n",
      "INFO:ssbio.pipeline.gempro:Rv1415: Adding 2 PDBs from BLAST results.\n",
      "INFO:ssbio.pipeline.gempro:Rv2220: Adding 24 PDBs from BLAST results.\n",
      "INFO:ssbio.pipeline.gempro:Rv0548c: Adding 1 PDBs from BLAST results.\n",
      "INFO:ssbio.pipeline.gempro:Rv2043c: Adding 1 PDBs from BLAST results.\n",
      "INFO:ssbio.pipeline.gempro:Rv2445c: Adding 1 PDBs from BLAST results.\n",
      "INFO:ssbio.pipeline.gempro:Rv0126: Adding 2 PDBs from BLAST results.\n",
      "INFO:ssbio.pipeline.gempro:Rv2537c: Adding 2 PDBs from BLAST results.\n",
      "INFO:ssbio.pipeline.gempro:Rv2753c: Adding 1 PDBs from BLAST results.\n",
      "INFO:ssbio.pipeline.gempro:Rv1484: Adding 5 PDBs from BLAST results.\n",
      "INFO:ssbio.pipeline.gempro:Rv0533c: Adding 1 PDBs from BLAST results.\n",
      "INFO:ssbio.pipeline.gempro:Rv0859: Adding 1 PDBs from BLAST results.\n",
      "INFO:ssbio.pipeline.gempro:Completed sequence --> PDB BLAST. See the \"df_pdb_blast\" attribute.\n"
     ]
    },
    {
     "name": "stdout",
     "output_type": "stream",
     "text": [
      "\n"
     ]
    }
   ],
   "source": [
    "# Mapping using BLAST\n",
    "my_gempro.blast_seqs_to_pdb(seq_ident_cutoff=.99, all_genes=True)"
   ]
  },
  {
   "cell_type": "code",
   "execution_count": 17,
   "metadata": {
    "collapsed": false
   },
   "outputs": [
    {
     "data": {
      "text/html": [
       "<div>\n",
       "<table border=\"1\" class=\"dataframe\">\n",
       "  <thead>\n",
       "    <tr style=\"text-align: right;\">\n",
       "      <th></th>\n",
       "      <th>gene</th>\n",
       "      <th>pdb_id</th>\n",
       "      <th>pdb_chain_id</th>\n",
       "      <th>blast_score</th>\n",
       "      <th>blast_evalue</th>\n",
       "      <th>seq_coverage</th>\n",
       "      <th>seq_similar</th>\n",
       "      <th>seq_num_coverage</th>\n",
       "      <th>seq_num_similar</th>\n",
       "    </tr>\n",
       "  </thead>\n",
       "  <tbody>\n",
       "    <tr>\n",
       "      <th>0</th>\n",
       "      <td>Rv3465</td>\n",
       "      <td>1upi</td>\n",
       "      <td>A</td>\n",
       "      <td>1065.0</td>\n",
       "      <td>3.108690e-116</td>\n",
       "      <td>1.0</td>\n",
       "      <td>1.0</td>\n",
       "      <td>202</td>\n",
       "      <td>202</td>\n",
       "    </tr>\n",
       "    <tr>\n",
       "      <th>1</th>\n",
       "      <td>Rv3465</td>\n",
       "      <td>2ixc</td>\n",
       "      <td>A</td>\n",
       "      <td>1065.0</td>\n",
       "      <td>3.582440e-116</td>\n",
       "      <td>1.0</td>\n",
       "      <td>1.0</td>\n",
       "      <td>202</td>\n",
       "      <td>202</td>\n",
       "    </tr>\n",
       "    <tr>\n",
       "      <th>2</th>\n",
       "      <td>Rv3465</td>\n",
       "      <td>2ixc</td>\n",
       "      <td>B</td>\n",
       "      <td>1065.0</td>\n",
       "      <td>3.582440e-116</td>\n",
       "      <td>1.0</td>\n",
       "      <td>1.0</td>\n",
       "      <td>202</td>\n",
       "      <td>202</td>\n",
       "    </tr>\n",
       "    <tr>\n",
       "      <th>3</th>\n",
       "      <td>Rv3465</td>\n",
       "      <td>2ixc</td>\n",
       "      <td>C</td>\n",
       "      <td>1065.0</td>\n",
       "      <td>3.582440e-116</td>\n",
       "      <td>1.0</td>\n",
       "      <td>1.0</td>\n",
       "      <td>202</td>\n",
       "      <td>202</td>\n",
       "    </tr>\n",
       "    <tr>\n",
       "      <th>4</th>\n",
       "      <td>Rv3465</td>\n",
       "      <td>2ixc</td>\n",
       "      <td>D</td>\n",
       "      <td>1065.0</td>\n",
       "      <td>3.582440e-116</td>\n",
       "      <td>1.0</td>\n",
       "      <td>1.0</td>\n",
       "      <td>202</td>\n",
       "      <td>202</td>\n",
       "    </tr>\n",
       "  </tbody>\n",
       "</table>\n",
       "</div>"
      ],
      "text/plain": [
       "     gene pdb_id pdb_chain_id  blast_score   blast_evalue  seq_coverage  \\\n",
       "0  Rv3465   1upi            A       1065.0  3.108690e-116           1.0   \n",
       "1  Rv3465   2ixc            A       1065.0  3.582440e-116           1.0   \n",
       "2  Rv3465   2ixc            B       1065.0  3.582440e-116           1.0   \n",
       "3  Rv3465   2ixc            C       1065.0  3.582440e-116           1.0   \n",
       "4  Rv3465   2ixc            D       1065.0  3.582440e-116           1.0   \n",
       "\n",
       "   seq_similar  seq_num_coverage  seq_num_similar  \n",
       "0          1.0               202              202  \n",
       "1          1.0               202              202  \n",
       "2          1.0               202              202  \n",
       "3          1.0               202              202  \n",
       "4          1.0               202              202  "
      ]
     },
     "execution_count": 17,
     "metadata": {},
     "output_type": "execute_result"
    }
   ],
   "source": [
    "my_gempro.df_pdb_blast.head()"
   ]
  },
  {
   "cell_type": "code",
   "execution_count": 18,
   "metadata": {
    "collapsed": false
   },
   "outputs": [
    {
     "name": "stderr",
     "output_type": "stream",
     "text": [
      "INFO:ssbio.pipeline.gempro:Completed copying of I-TASSER models to GEM-PRO directory. See the \"df_itasser\" attribute.\n"
     ]
    },
    {
     "name": "stdout",
     "output_type": "stream",
     "text": [
      "\n"
     ]
    }
   ],
   "source": [
    "# Organizing homology models (only specific to this example)\n",
    "old_gene_to_homology = pd.read_csv(op.join(my_gempro.data_dir,'161031-old_gene_to_uniprot_mapping.csv'))\n",
    "gene_to_uniprot = old_gene_to_homology.set_index('m_gene').to_dict()['u_uniprot_acc']\n",
    "\n",
    "my_gempro.get_itasser_models(homology_raw_dir='/home/nathan/projects_archive/homology_models/MTUBERCULOSIS/homology_models_prep', custom_itasser_name_mapping=gene_to_uniprot)"
   ]
  },
  {
   "cell_type": "code",
   "execution_count": 19,
   "metadata": {
    "collapsed": false
   },
   "outputs": [
    {
     "data": {
      "text/html": [
       "<div>\n",
       "<table border=\"1\" class=\"dataframe\">\n",
       "  <thead>\n",
       "    <tr style=\"text-align: right;\">\n",
       "      <th></th>\n",
       "      <th>gene</th>\n",
       "      <th>model_file</th>\n",
       "      <th>model_date</th>\n",
       "      <th>difficulty</th>\n",
       "      <th>top_template_pdb</th>\n",
       "      <th>top_template_chain</th>\n",
       "      <th>c_score</th>\n",
       "      <th>tm_score</th>\n",
       "      <th>tm_score_err</th>\n",
       "      <th>rmsd</th>\n",
       "      <th>rmsd_err</th>\n",
       "    </tr>\n",
       "  </thead>\n",
       "  <tbody>\n",
       "    <tr>\n",
       "      <th>0</th>\n",
       "      <td>Rv0417</td>\n",
       "      <td>Rv0417.pdb</td>\n",
       "      <td>2015-12-30</td>\n",
       "      <td>easy</td>\n",
       "      <td>2htm</td>\n",
       "      <td>C</td>\n",
       "      <td>1.66</td>\n",
       "      <td>0.95</td>\n",
       "      <td>0.05</td>\n",
       "      <td>2.6</td>\n",
       "      <td>1.9</td>\n",
       "    </tr>\n",
       "    <tr>\n",
       "      <th>1</th>\n",
       "      <td>Rv2291</td>\n",
       "      <td>Rv2291.pdb</td>\n",
       "      <td>2016-01-04</td>\n",
       "      <td>easy</td>\n",
       "      <td>3olh</td>\n",
       "      <td>A</td>\n",
       "      <td>1.38</td>\n",
       "      <td>0.91</td>\n",
       "      <td>0.06</td>\n",
       "      <td>3.3</td>\n",
       "      <td>2.3</td>\n",
       "    </tr>\n",
       "    <tr>\n",
       "      <th>2</th>\n",
       "      <td>Rv1559</td>\n",
       "      <td>Rv1559.pdb</td>\n",
       "      <td>2016-01-08</td>\n",
       "      <td>easy</td>\n",
       "      <td>1tdj</td>\n",
       "      <td>A</td>\n",
       "      <td>0.73</td>\n",
       "      <td>0.81</td>\n",
       "      <td>0.09</td>\n",
       "      <td>5.4</td>\n",
       "      <td>3.4</td>\n",
       "    </tr>\n",
       "    <tr>\n",
       "      <th>3</th>\n",
       "      <td>Rv3113</td>\n",
       "      <td>Rv3113.pdb</td>\n",
       "      <td>2015-12-30</td>\n",
       "      <td>easy</td>\n",
       "      <td>3sd7</td>\n",
       "      <td>A</td>\n",
       "      <td>0.72</td>\n",
       "      <td>0.81</td>\n",
       "      <td>0.09</td>\n",
       "      <td>4.1</td>\n",
       "      <td>2.8</td>\n",
       "    </tr>\n",
       "    <tr>\n",
       "      <th>4</th>\n",
       "      <td>Rv2447c</td>\n",
       "      <td>Rv2447c.pdb</td>\n",
       "      <td>2016-01-08</td>\n",
       "      <td>easy</td>\n",
       "      <td>2vos</td>\n",
       "      <td>A</td>\n",
       "      <td>0.07</td>\n",
       "      <td>0.72</td>\n",
       "      <td>0.11</td>\n",
       "      <td>7.1</td>\n",
       "      <td>4.2</td>\n",
       "    </tr>\n",
       "  </tbody>\n",
       "</table>\n",
       "</div>"
      ],
      "text/plain": [
       "      gene   model_file  model_date difficulty top_template_pdb  \\\n",
       "0   Rv0417   Rv0417.pdb  2015-12-30       easy             2htm   \n",
       "1   Rv2291   Rv2291.pdb  2016-01-04       easy             3olh   \n",
       "2   Rv1559   Rv1559.pdb  2016-01-08       easy             1tdj   \n",
       "3   Rv3113   Rv3113.pdb  2015-12-30       easy             3sd7   \n",
       "4  Rv2447c  Rv2447c.pdb  2016-01-08       easy             2vos   \n",
       "\n",
       "  top_template_chain  c_score  tm_score  tm_score_err  rmsd  rmsd_err  \n",
       "0                  C     1.66      0.95          0.05   2.6       1.9  \n",
       "1                  A     1.38      0.91          0.06   3.3       2.3  \n",
       "2                  A     0.73      0.81          0.09   5.4       3.4  \n",
       "3                  A     0.72      0.81          0.09   4.1       2.8  \n",
       "4                  A     0.07      0.72          0.11   7.1       4.2  "
      ]
     },
     "execution_count": 19,
     "metadata": {},
     "output_type": "execute_result"
    }
   ],
   "source": [
    "my_gempro.df_itasser.head()"
   ]
  },
  {
   "cell_type": "markdown",
   "metadata": {},
   "source": [
    "## Setting a representative structure\n",
    "\n",
    "Once you've mapped PDBs and homology models, then you need to choose between all of the available ones. \n",
    "\n",
    "\n",
    "- Method:\n",
    "    - \n",
    "\n",
    "\n",
    "- Files downloaded:\n",
    "    - \n",
    "    \n",
    "    \n",
    "- Usage:\n",
    "        my_gempro.set_representative_structure(always_use_homology=True, \n",
    "                                               sort_homology_by='seq_coverage',\n",
    "                                               allow_missing_on_termini=0.1, \n",
    "                                               allow_mutants=True, \n",
    "                                               allow_deletions=False,\n",
    "                                               allow_insertions=False, \n",
    "                                               allow_unresolved=True, \n",
    "                                               force_rerun=False)\n",
    "        \n",
    "        \n",
    "- Arguments:\n",
    "\n",
    "    - *always_use_homology*\n",
    "        - \n",
    "        \n",
    "    - *sort_homology_by*\n",
    "        - \n",
    "            \n",
    "\n",
    "-------------------\n",
    "\n",
    "\n",
    "### Gene annotations\n",
    "\n",
    "Check out the gene annotations saved directly into the gene.\n",
    "\n",
    "- Usage:\n",
    "        my_gempro.genes.get_by_id('Rv1295').annotation['structure']['representative']\n"
   ]
  },
  {
   "cell_type": "code",
   "execution_count": 20,
   "metadata": {
    "collapsed": false
   },
   "outputs": [
    {
     "name": "stdout",
     "output_type": "stream",
     "text": [
      "\n"
     ]
    }
   ],
   "source": [
    "my_gempro.set_representative_structure()"
   ]
  },
  {
   "cell_type": "markdown",
   "metadata": {},
   "source": [
    "## Property calculations"
   ]
  },
  {
   "cell_type": "code",
   "execution_count": 21,
   "metadata": {
    "collapsed": false
   },
   "outputs": [
    {
     "name": "stderr",
     "output_type": "stream",
     "text": [
      "WARNING:ssbio.pipeline.gempro:Rv2233: No representative sequence available\n",
      "INFO:ssbio.pipeline.gempro:Created sequence property dataframe. See the \"df_sequence_properties\" attribute.\n"
     ]
    },
    {
     "name": "stdout",
     "output_type": "stream",
     "text": [
      "\n"
     ]
    },
    {
     "data": {
      "text/html": [
       "<div>\n",
       "<table border=\"1\" class=\"dataframe\">\n",
       "  <thead>\n",
       "    <tr style=\"text-align: right;\">\n",
       "      <th></th>\n",
       "      <th>gene</th>\n",
       "      <th>percent_acidic</th>\n",
       "      <th>percent_aliphatic</th>\n",
       "      <th>percent_aromatic</th>\n",
       "      <th>percent_basic</th>\n",
       "      <th>percent_charged</th>\n",
       "      <th>percent_non-polar</th>\n",
       "      <th>percent_polar</th>\n",
       "      <th>percent_small</th>\n",
       "      <th>percent_tiny</th>\n",
       "    </tr>\n",
       "  </thead>\n",
       "  <tbody>\n",
       "    <tr>\n",
       "      <th>0</th>\n",
       "      <td>Rv0417</td>\n",
       "      <td>0.10714</td>\n",
       "      <td>0.44048</td>\n",
       "      <td>0.03571</td>\n",
       "      <td>0.08333</td>\n",
       "      <td>0.19048</td>\n",
       "      <td>0.65079</td>\n",
       "      <td>0.34921</td>\n",
       "      <td>0.62698</td>\n",
       "      <td>0.40476</td>\n",
       "    </tr>\n",
       "    <tr>\n",
       "      <th>1</th>\n",
       "      <td>Rv2291</td>\n",
       "      <td>0.10563</td>\n",
       "      <td>0.37324</td>\n",
       "      <td>0.08451</td>\n",
       "      <td>0.09859</td>\n",
       "      <td>0.20423</td>\n",
       "      <td>0.63028</td>\n",
       "      <td>0.36972</td>\n",
       "      <td>0.63028</td>\n",
       "      <td>0.38028</td>\n",
       "    </tr>\n",
       "    <tr>\n",
       "      <th>2</th>\n",
       "      <td>Rv3737</td>\n",
       "      <td>0.07561</td>\n",
       "      <td>0.41777</td>\n",
       "      <td>0.05482</td>\n",
       "      <td>0.09074</td>\n",
       "      <td>0.16635</td>\n",
       "      <td>0.64839</td>\n",
       "      <td>0.35161</td>\n",
       "      <td>0.61059</td>\n",
       "      <td>0.40832</td>\n",
       "    </tr>\n",
       "    <tr>\n",
       "      <th>3</th>\n",
       "      <td>Rv1295</td>\n",
       "      <td>0.09167</td>\n",
       "      <td>0.38333</td>\n",
       "      <td>0.06944</td>\n",
       "      <td>0.09722</td>\n",
       "      <td>0.18889</td>\n",
       "      <td>0.62500</td>\n",
       "      <td>0.37500</td>\n",
       "      <td>0.61944</td>\n",
       "      <td>0.38333</td>\n",
       "    </tr>\n",
       "    <tr>\n",
       "      <th>4</th>\n",
       "      <td>Rv1559</td>\n",
       "      <td>0.13054</td>\n",
       "      <td>0.38228</td>\n",
       "      <td>0.07226</td>\n",
       "      <td>0.09091</td>\n",
       "      <td>0.22145</td>\n",
       "      <td>0.61538</td>\n",
       "      <td>0.38462</td>\n",
       "      <td>0.59207</td>\n",
       "      <td>0.36131</td>\n",
       "    </tr>\n",
       "  </tbody>\n",
       "</table>\n",
       "</div>"
      ],
      "text/plain": [
       "     gene  percent_acidic  percent_aliphatic  percent_aromatic  percent_basic  \\\n",
       "0  Rv0417         0.10714            0.44048           0.03571        0.08333   \n",
       "1  Rv2291         0.10563            0.37324           0.08451        0.09859   \n",
       "2  Rv3737         0.07561            0.41777           0.05482        0.09074   \n",
       "3  Rv1295         0.09167            0.38333           0.06944        0.09722   \n",
       "4  Rv1559         0.13054            0.38228           0.07226        0.09091   \n",
       "\n",
       "   percent_charged  percent_non-polar  percent_polar  percent_small  \\\n",
       "0          0.19048            0.65079        0.34921        0.62698   \n",
       "1          0.20423            0.63028        0.36972        0.63028   \n",
       "2          0.16635            0.64839        0.35161        0.61059   \n",
       "3          0.18889            0.62500        0.37500        0.61944   \n",
       "4          0.22145            0.61538        0.38462        0.59207   \n",
       "\n",
       "   percent_tiny  \n",
       "0       0.40476  \n",
       "1       0.38028  \n",
       "2       0.40832  \n",
       "3       0.38333  \n",
       "4       0.36131  "
      ]
     },
     "execution_count": 21,
     "metadata": {},
     "output_type": "execute_result"
    }
   ],
   "source": [
    "my_gempro.calculate_sequence_properties()\n",
    "my_gempro.df_sequence_properties.head()"
   ]
  },
  {
   "cell_type": "code",
   "execution_count": 22,
   "metadata": {
    "collapsed": false
   },
   "outputs": [
    {
     "name": "stderr",
     "output_type": "stream",
     "text": [
      "WARNING:ssbio.pipeline.gempro:Rv3737: No representative structure available\n",
      "WARNING:ssbio.pipeline.gempro:Rv1672c: No representative structure available\n",
      "WARNING:ssbio.pipeline.gempro:Rv1739c: No representative structure available\n",
      "WARNING:ssbio.pipeline.gempro:Rv2397c: No representative structure available\n",
      "WARNING:ssbio.pipeline.gempro:Rv2399c: No representative structure available\n",
      "WARNING:ssbio.pipeline.gempro:Rv2398c: No representative structure available\n",
      "WARNING:ssbio.pipeline.gempro:Rv2400c: No representative structure available\n",
      "WARNING:ssbio.pipeline.gempro:Rv2443: No representative structure available\n",
      "WARNING:ssbio.pipeline.gempro:Rv0432: No representative structure available\n",
      "WARNING:ssbio.pipeline.gempro:Rv1200: No representative structure available\n",
      "WARNING:ssbio.pipeline.gempro:Rv1704c: No representative structure available\n",
      "WARNING:ssbio.pipeline.gempro:Rv1286: No representative structure available\n",
      "WARNING:ssbio.pipeline.gempro:Rv1237: No representative structure available\n",
      "WARNING:ssbio.pipeline.gempro:Rv1236: No representative structure available\n",
      "WARNING:ssbio.pipeline.gempro:Rv1238: No representative structure available\n",
      "WARNING:ssbio.pipeline.gempro:Rv1902c: No representative structure available\n",
      "WARNING:ssbio.pipeline.gempro:Rv3759c: No representative structure available\n",
      "WARNING:ssbio.pipeline.gempro:Rv3756c: No representative structure available\n",
      "WARNING:ssbio.pipeline.gempro:Rv3757c: No representative structure available\n",
      "WARNING:ssbio.pipeline.gempro:Rv3758c: No representative structure available\n",
      "WARNING:ssbio.pipeline.gempro:Rv2934: No representative structure available\n",
      "WARNING:ssbio.pipeline.gempro:Rv2932: No representative structure available\n",
      "WARNING:ssbio.pipeline.gempro:Rv2933: No representative structure available\n",
      "WARNING:ssbio.pipeline.gempro:Rv2931: No representative structure available\n",
      "WARNING:ssbio.pipeline.gempro:Rv2945c: No representative structure available\n",
      "WARNING:ssbio.pipeline.gempro:Rv2941: No representative structure available\n",
      "WARNING:ssbio.pipeline.gempro:Rv0545c: No representative structure available\n",
      "WARNING:ssbio.pipeline.gempro:Rv2281: No representative structure available\n",
      "WARNING:ssbio.pipeline.gempro:Rv0936: No representative structure available\n",
      "WARNING:ssbio.pipeline.gempro:Rv0820: No representative structure available\n",
      "WARNING:ssbio.pipeline.gempro:Rv2233: No representative structure available\n",
      "WARNING:ssbio.pipeline.gempro:Rv2495c: No representative structure available\n",
      "WARNING:ssbio.pipeline.gempro:Rv1239c: No representative structure available\n",
      "WARNING:ssbio.pipeline.gempro:Rv2380c: No representative structure available\n",
      "WARNING:ssbio.pipeline.gempro:Rv0191: No representative structure available\n",
      "WARNING:ssbio.pipeline.gempro:Rv2320c: No representative structure available\n",
      "WARNING:ssbio.pipeline.gempro:Rv2317: No representative structure available\n",
      "WARNING:ssbio.pipeline.gempro:Rv2316: No representative structure available\n",
      "WARNING:ssbio.pipeline.gempro:Rv3236c: No representative structure available\n",
      "WARNING:ssbio.pipeline.gempro:Rv1029: No representative structure available\n",
      "WARNING:ssbio.pipeline.gempro:Rv1030: No representative structure available\n",
      "WARNING:ssbio.pipeline.gempro:Rv1031: No representative structure available\n",
      "WARNING:ssbio.pipeline.gempro:Rv2987c: No representative structure available\n",
      "WARNING:ssbio.pipeline.gempro:Rv2834c: No representative structure available\n",
      "WARNING:ssbio.pipeline.gempro:Rv2832c: No representative structure available\n",
      "WARNING:ssbio.pipeline.gempro:Rv2835c: No representative structure available\n",
      "WARNING:ssbio.pipeline.gempro:Rv2833c: No representative structure available\n",
      "WARNING:ssbio.pipeline.gempro:Rv3859c: No representative structure available\n",
      "WARNING:ssbio.pipeline.gempro:Rv2476c: No representative structure available\n",
      "WARNING:ssbio.pipeline.gempro:Rv3331: No representative structure available\n",
      "WARNING:ssbio.pipeline.gempro:Rv1653: No representative structure available\n",
      "WARNING:ssbio.pipeline.gempro:Rv1737c: No representative structure available\n",
      "WARNING:ssbio.pipeline.gempro:Rv2920c: No representative structure available\n",
      "WARNING:ssbio.pipeline.gempro:Rv2287: No representative structure available\n",
      "WARNING:ssbio.pipeline.gempro:Rv0261c: No representative structure available\n",
      "WARNING:ssbio.pipeline.gempro:Rv0267: No representative structure available\n",
      "WARNING:ssbio.pipeline.gempro:Rv2329c: No representative structure available\n",
      "WARNING:ssbio.pipeline.gempro:Rv3800c: No representative structure available\n",
      "WARNING:ssbio.pipeline.gempro:Rv0103c: No representative structure available\n",
      "WARNING:ssbio.pipeline.gempro:Rv0143c: No representative structure available\n",
      "WARNING:ssbio.pipeline.gempro:Rv2498c: No representative structure available\n",
      "WARNING:ssbio.pipeline.gempro:Rv1885c: No representative structure available\n",
      "WARNING:ssbio.pipeline.gempro:Rv1607: No representative structure available\n",
      "WARNING:ssbio.pipeline.gempro:Rv0107c: No representative structure available\n",
      "WARNING:ssbio.pipeline.gempro:Rv0522: No representative structure available\n",
      "WARNING:ssbio.pipeline.gempro:Rv1311: No representative structure available\n",
      "WARNING:ssbio.pipeline.gempro:Rv3709c: No representative structure available\n",
      "WARNING:ssbio.pipeline.gempro:Rv3601c: No representative structure available\n",
      "WARNING:ssbio.pipeline.gempro:Rv0346c: No representative structure available\n",
      "WARNING:ssbio.pipeline.gempro:Rv2127: No representative structure available\n",
      "WARNING:ssbio.pipeline.gempro:Rv3330: No representative structure available\n",
      "WARNING:ssbio.pipeline.gempro:Rv3793: No representative structure available\n",
      "WARNING:ssbio.pipeline.gempro:Rv1348: No representative structure available\n",
      "WARNING:ssbio.pipeline.gempro:Rv1349: No representative structure available\n",
      "WARNING:ssbio.pipeline.gempro:Rv2940c: No representative structure available\n",
      "WARNING:ssbio.pipeline.gempro:Rv1662: No representative structure available\n",
      "WARNING:ssbio.pipeline.gempro:Rv2524c: No representative structure available\n",
      "WARNING:ssbio.pipeline.gempro:Rv1625c: No representative structure available\n",
      "INFO:ssbio.pipeline.gempro:Completed calculations of residue depth\n"
     ]
    },
    {
     "name": "stdout",
     "output_type": "stream",
     "text": [
      "\n"
     ]
    }
   ],
   "source": [
    "my_gempro.calculate_residue_depth()"
   ]
  },
  {
   "cell_type": "code",
   "execution_count": 23,
   "metadata": {
    "collapsed": false
   },
   "outputs": [
    {
     "data": {
      "text/plain": [
       "{'percent_acidic': 0.09167,\n",
       " 'percent_aliphatic': 0.38333,\n",
       " 'percent_aromatic': 0.06944,\n",
       " 'percent_basic': 0.09722,\n",
       " 'percent_charged': 0.18889,\n",
       " 'percent_non-polar': 0.625,\n",
       " 'percent_polar': 0.375,\n",
       " 'percent_small': 0.61944,\n",
       " 'percent_tiny': 0.38333}"
      ]
     },
     "execution_count": 23,
     "metadata": {},
     "output_type": "execute_result"
    }
   ],
   "source": [
    "my_gempro.genes.get_by_id('Rv1295').annotation['sequence']['representative']['properties']"
   ]
  },
  {
   "cell_type": "code",
   "execution_count": 24,
   "metadata": {
    "collapsed": false
   },
   "outputs": [
    {
     "data": {
      "text/plain": [
       "{'msms_file': '2d1f_A_clean_msms.json'}"
      ]
     },
     "execution_count": 24,
     "metadata": {},
     "output_type": "execute_result"
    }
   ],
   "source": [
    "my_gempro.genes.get_by_id('Rv1295').annotation['structure']['representative']['properties']"
   ]
  },
  {
   "cell_type": "markdown",
   "metadata": {},
   "source": [
    "## Saving your GEM-PRO"
   ]
  },
  {
   "cell_type": "code",
   "execution_count": 25,
   "metadata": {
    "collapsed": false
   },
   "outputs": [],
   "source": [
    "import cobra.io\n",
    "cobra.io.save_json_model(my_gempro.model, op.join(my_gempro.model_dir, 'iNJ661_GP.json'))"
   ]
  }
 ],
 "metadata": {
  "anaconda-cloud": {},
  "kernelspec": {
   "display_name": "Python [default]",
   "language": "python",
   "name": "python3"
  },
  "language_info": {
   "codemirror_mode": {
    "name": "ipython",
    "version": 3
   },
   "file_extension": ".py",
   "mimetype": "text/x-python",
   "name": "python",
   "nbconvert_exporter": "python",
   "pygments_lexer": "ipython3",
   "version": "3.5.2"
  },
  "widgets": {
   "state": {
    "1d556b3d53c641b781c976c4a76e2c3c": {
     "views": [
      {
       "cell_index": 26
      }
     ]
    },
    "1f8150c5345a429184c38931875f3e95": {
     "views": [
      {
       "cell_index": 11
      }
     ]
    },
    "2390ac33b59d464ca48bb1cf6602e57d": {
     "views": [
      {
       "cell_index": 17
      }
     ]
    },
    "51d4a248c9574ac8b448cedd2570d89d": {
     "views": [
      {
       "cell_index": 19
      }
     ]
    },
    "873b4e0031a0451498ddd44b03859238": {
     "views": [
      {
       "cell_index": 24
      }
     ]
    },
    "98cd336b92914273a15e71a49da83df6": {
     "views": [
      {
       "cell_index": 21
      }
     ]
    },
    "defe3775846d4f8084da7a79d3a2dcc1": {
     "views": [
      {
       "cell_index": 12
      }
     ]
    },
    "f6f523e0b781447ca770b195ea0324fc": {
     "views": [
      {
       "cell_index": 27
      }
     ]
    }
   },
   "version": "1.2.0"
  }
 },
 "nbformat": 4,
 "nbformat_minor": 1
}
