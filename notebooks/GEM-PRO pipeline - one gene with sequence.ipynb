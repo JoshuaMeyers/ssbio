{
 "cells": [
  {
   "cell_type": "markdown",
   "metadata": {},
   "source": [
    "# README\n",
    "\n",
    "This notebook gives an example of how to run the GEM-PRO pipeline on a **one gene ID** for simplicity.\n",
    "\n",
    "### Installation\n",
    "\n",
    "See: https://github.com/nmih/ssbio/blob/master/README.md\n",
    "- If something isn't working, make sure to update the repository before you do anything (git pull)"
   ]
  },
  {
   "cell_type": "code",
   "execution_count": 1,
   "metadata": {
    "collapsed": false
   },
   "outputs": [
    {
     "name": "stderr",
     "output_type": "stream",
     "text": [
      "/home/nathan/anaconda3/lib/python3.5/site-packages/cobra/solvers/__init__.py:62: UserWarning: No LP solvers found\n",
      "  warn(\"No LP solvers found\")\n"
     ]
    }
   ],
   "source": [
    "# Import the GEM-PRO class\n",
    "from ssbio.pipeline.gempro import GEMPRO"
   ]
  },
  {
   "cell_type": "code",
   "execution_count": 2,
   "metadata": {
    "collapsed": true
   },
   "outputs": [],
   "source": [
    "# Create logger\n",
    "import logging\n",
    "logger = logging.getLogger()\n",
    "\n",
    "############# SET YOUR LOGGING LEVEL HERE #############\n",
    "logger.setLevel(logging.INFO)\n",
    "#######################################################"
   ]
  },
  {
   "cell_type": "code",
   "execution_count": 3,
   "metadata": {
    "collapsed": true
   },
   "outputs": [],
   "source": [
    "# Printing multiple outputs per cell\n",
    "from IPython.core.interactiveshell import InteractiveShell\n",
    "InteractiveShell.ast_node_interactivity = \"all\""
   ]
  },
  {
   "cell_type": "markdown",
   "metadata": {},
   "source": [
    "## Initialization of the project\n",
    "\n",
    "Set these three things:\n",
    "\n",
    "- GEM_NAME\n",
    "    - Your project name\n",
    "- ROOT_DIR\n",
    "    - The directory where the GEM_NAME folder will be created\n",
    "- GENES_AND_SEQUENCES\n",
    "    - Your gene and its sequence in a dictionary\n",
    "    \n",
    "A directory will be created in ROOT_DIR named after your GEM_NAME. The folders are:\n",
    "```\n",
    "    .\n",
    "    ├── data  # where dataframes are stored\n",
    "    ├── figures  # where figures are stored\n",
    "    ├── model  # where SBML and GEM-PRO models are stored\n",
    "    ├── notebooks  # location of any ipython notebooks for analyses\n",
    "    ├── sequences  # sequences are stored here, in gene specific folders\n",
    "    │   ├── <gene_id1>\n",
    "    │   │   └── sequence.fasta\n",
    "    │   └── ...\n",
    "    └── structures\n",
    "        └── by_gene  # structures are stored here, in gene specific folders\n",
    "            └── <gene_id1>\n",
    "                └── 1abc.pdb\n",
    "```"
   ]
  },
  {
   "cell_type": "code",
   "execution_count": 4,
   "metadata": {
    "collapsed": false
   },
   "outputs": [],
   "source": [
    "gene_id = 'SRR1753782_00918'\n",
    "gene_seq = 'MSKQQIGVVGMAVMGRNLALNIESRGYTVSVFNRSREKTEEVIAENPGKKLVPYYTVKEFVESLETPRRILLMVKAGAGTDAAIDSLKPYLEKGDIIIDGGNTFFQDTIRRNRELSAEGFNFIGTGVSGGEEGALKGPSIMPGGQKDAYELVAPILTKIAAVAEDGEPCVTYIGADGAGHYVKMVHNGIEYGDMQLIAEAYSLLKGGLNLSNEELANTFTEWNNGELSSYLIDITKDIFTKKDEDGNYLVDVILDEAANKGTGKWTSQSALDLGEPLSLITESVFARYISSLKAQRVAASKVLSGPKAQPAGDKAEFIEKVRRALYLGKIVSYAQGFSQLRAASDEYHWDLNYGEIAKIFRAGCIIRAQFLQKITDAYAENADIANLLLAPYFKKIADEYQQALRDVVAYAVQNGIPVPTFSAAVAYYDSYRAAVLPANLIQAQRDYFGAHTYKRTDKEGIFHTEWLE'\n",
    "GENES_AND_SEQUENCES = {gene_id: gene_seq}"
   ]
  },
  {
   "cell_type": "code",
   "execution_count": 5,
   "metadata": {
    "collapsed": false
   },
   "outputs": [
    {
     "name": "stderr",
     "output_type": "stream",
     "text": [
      "INFO:ssbio.pipeline.gempro:/home/nathan/Downloads/tester: created directory\n",
      "INFO:ssbio.pipeline.gempro:/home/nathan/Downloads/tester/model: created directory\n",
      "INFO:ssbio.pipeline.gempro:/home/nathan/Downloads/tester/data: created directory\n",
      "INFO:ssbio.pipeline.gempro:/home/nathan/Downloads/tester/sequences: created directory\n",
      "INFO:ssbio.pipeline.gempro:/home/nathan/Downloads/tester/structures: created directory\n",
      "INFO:ssbio.pipeline.gempro:/home/nathan/Downloads/tester/structures/by_gene: created directory\n",
      "INFO:ssbio.pipeline.gempro:/home/nathan/Downloads/tester: GEM-PRO project files location\n",
      "INFO:ssbio.pipeline.gempro:Loaded in 1 sequences\n",
      "INFO:ssbio.pipeline.gempro:1: number of genes\n"
     ]
    }
   ],
   "source": [
    "my_gempro = GEMPRO(gem_name='tester', root_dir='/home/nathan/Downloads/', genes_and_sequences=GENES_AND_SEQUENCES)"
   ]
  },
  {
   "cell_type": "markdown",
   "metadata": {},
   "source": [
    "## Mapping sequence -> structure\n",
    "\n",
    "In this notebook we just show how to:\n",
    "- BLAST the sequence to the PDB\n",
    "\n",
    "### blast_seqs_to_pdb\n",
    "This will BLAST the representative sequence against the entire PDB, and return significant hits. This will however return hits in other organisms, which may not be ideal.\n",
    "- all_genes\n",
    "    - Set to True if you want all genes and their sequences BLASTed\n",
    "    - Set to False if you only want to BLAST sequences that did not have any PDBs from the function map_uniprot_to_pdb\n",
    "- seq_ident_cutoff\n",
    "    - Same as above\n",
    "- evalue\n",
    "    - Significance of BLAST results\n",
    "\n",
    "-------------------\n",
    "\n",
    "## Saved information:\n",
    "\n",
    "### Gene annotations\n",
    "    - my_gempro.genes.get_by_id('b1187').protein.structures\n",
    "\n",
    "### DataFrames\n",
    "    - my_gempro.df_pdb_blast"
   ]
  },
  {
   "cell_type": "code",
   "execution_count": 6,
   "metadata": {
    "collapsed": false
   },
   "outputs": [
    {
     "name": "stderr",
     "output_type": "stream",
     "text": [
      "INFO:ssbio.pipeline.gempro:SRR1753782_00918: adding 28 PDBs from BLAST results\n",
      "INFO:ssbio.pipeline.gempro:Completed sequence --> PDB BLAST. See the \"df_pdb_blast\" attribute.\n"
     ]
    },
    {
     "name": "stdout",
     "output_type": "stream",
     "text": [
      "\n"
     ]
    },
    {
     "data": {
      "text/html": [
       "<div>\n",
       "<table border=\"1\" class=\"dataframe\">\n",
       "  <thead>\n",
       "    <tr style=\"text-align: right;\">\n",
       "      <th></th>\n",
       "      <th>gene</th>\n",
       "      <th>pdb_id</th>\n",
       "      <th>pdb_chain_id</th>\n",
       "      <th>hit_score</th>\n",
       "      <th>hit_evalue</th>\n",
       "      <th>hit_percent_similar</th>\n",
       "      <th>hit_percent_ident</th>\n",
       "      <th>hit_num_ident</th>\n",
       "      <th>hit_num_similar</th>\n",
       "    </tr>\n",
       "  </thead>\n",
       "  <tbody>\n",
       "    <tr>\n",
       "      <th>0</th>\n",
       "      <td>SRR1753782_00918</td>\n",
       "      <td>2zyd</td>\n",
       "      <td>A</td>\n",
       "      <td>2319.0</td>\n",
       "      <td>0.0</td>\n",
       "      <td>0.987179</td>\n",
       "      <td>0.963675</td>\n",
       "      <td>451</td>\n",
       "      <td>462</td>\n",
       "    </tr>\n",
       "    <tr>\n",
       "      <th>1</th>\n",
       "      <td>SRR1753782_00918</td>\n",
       "      <td>2zyd</td>\n",
       "      <td>B</td>\n",
       "      <td>2319.0</td>\n",
       "      <td>0.0</td>\n",
       "      <td>0.987179</td>\n",
       "      <td>0.963675</td>\n",
       "      <td>451</td>\n",
       "      <td>462</td>\n",
       "    </tr>\n",
       "    <tr>\n",
       "      <th>2</th>\n",
       "      <td>SRR1753782_00918</td>\n",
       "      <td>2zya</td>\n",
       "      <td>A</td>\n",
       "      <td>2319.0</td>\n",
       "      <td>0.0</td>\n",
       "      <td>0.987179</td>\n",
       "      <td>0.963675</td>\n",
       "      <td>451</td>\n",
       "      <td>462</td>\n",
       "    </tr>\n",
       "    <tr>\n",
       "      <th>3</th>\n",
       "      <td>SRR1753782_00918</td>\n",
       "      <td>2zya</td>\n",
       "      <td>B</td>\n",
       "      <td>2319.0</td>\n",
       "      <td>0.0</td>\n",
       "      <td>0.987179</td>\n",
       "      <td>0.963675</td>\n",
       "      <td>451</td>\n",
       "      <td>462</td>\n",
       "    </tr>\n",
       "    <tr>\n",
       "      <th>4</th>\n",
       "      <td>SRR1753782_00918</td>\n",
       "      <td>3fwn</td>\n",
       "      <td>A</td>\n",
       "      <td>2312.0</td>\n",
       "      <td>0.0</td>\n",
       "      <td>0.987179</td>\n",
       "      <td>0.963675</td>\n",
       "      <td>451</td>\n",
       "      <td>462</td>\n",
       "    </tr>\n",
       "  </tbody>\n",
       "</table>\n",
       "</div>"
      ],
      "text/plain": [
       "               gene pdb_id pdb_chain_id  hit_score  hit_evalue  \\\n",
       "0  SRR1753782_00918   2zyd            A     2319.0         0.0   \n",
       "1  SRR1753782_00918   2zyd            B     2319.0         0.0   \n",
       "2  SRR1753782_00918   2zya            A     2319.0         0.0   \n",
       "3  SRR1753782_00918   2zya            B     2319.0         0.0   \n",
       "4  SRR1753782_00918   3fwn            A     2312.0         0.0   \n",
       "\n",
       "   hit_percent_similar  hit_percent_ident  hit_num_ident  hit_num_similar  \n",
       "0             0.987179           0.963675            451              462  \n",
       "1             0.987179           0.963675            451              462  \n",
       "2             0.987179           0.963675            451              462  \n",
       "3             0.987179           0.963675            451              462  \n",
       "4             0.987179           0.963675            451              462  "
      ]
     },
     "execution_count": 6,
     "metadata": {},
     "output_type": "execute_result"
    }
   ],
   "source": [
    "my_gempro.blast_seqs_to_pdb(all_genes=True, seq_ident_cutoff=.05, evalue=0.00001)\n",
    "my_gempro.df_pdb_blast.head()"
   ]
  },
  {
   "cell_type": "markdown",
   "metadata": {},
   "source": [
    "## Ranking and downloading structures\n",
    "\n",
    "### set_representative_structure\n",
    "Rank available structures, run QC/QA, download and clean the final structure\n",
    "### pdb_downloader_and_metadata\n",
    "Download all structures per gene. This also adds some additional metadata to the annotation for each PDB.\n",
    "    \n",
    "\n",
    "-------------------\n",
    "\n",
    "## Saved information:\n",
    "\n",
    "### Gene annotations\n",
    "    - my_gempro.genes.get_by_id('b1187').protein.representative_structure\n",
    "\n",
    "### DataFrames\n",
    "    - my_gempro.df_pdb_metadata"
   ]
  },
  {
   "cell_type": "code",
   "execution_count": 7,
   "metadata": {
    "collapsed": false
   },
   "outputs": [
    {
     "name": "stderr",
     "output_type": "stream",
     "text": [
      "INFO:ssbio.pipeline.gempro:Created representative structures dataframe. See the \"df_representative_structures\" attribute.\n"
     ]
    },
    {
     "name": "stdout",
     "output_type": "stream",
     "text": [
      "\n"
     ]
    }
   ],
   "source": [
    "my_gempro.set_representative_structure()"
   ]
  },
  {
   "cell_type": "markdown",
   "metadata": {},
   "source": [
    "## Comparing new sequences\n",
    "\n",
    "You can load additional sequences into this gene/protein object to align to the original sequence that was loaded in.\n",
    "\n",
    "### load_manual_sequence\n",
    "Loads in a new sequence string to be compared to the original sequence\n",
    "\n",
    "### align_sequences_to_representative\n",
    "Aligns all sequences that are loaded to the representative sequence\n",
    "    \n",
    "-------------------\n",
    "\n",
    "## Saved information:\n",
    "\n",
    "### Gene annotations\n",
    "    - my_gempro.genes.get_by_id('b1187').protein.representative_sequence.sequence_alignments"
   ]
  },
  {
   "cell_type": "code",
   "execution_count": 8,
   "metadata": {
    "collapsed": true
   },
   "outputs": [],
   "source": [
    "import os.path as op"
   ]
  },
  {
   "cell_type": "code",
   "execution_count": 9,
   "metadata": {
    "collapsed": false
   },
   "outputs": [],
   "source": [
    "my_gene = my_gempro.genes[0]\n",
    "gene_dir = op.join(my_gempro.sequence_dir, my_gene.id)\n",
    "my_protein = my_gene.protein"
   ]
  },
  {
   "cell_type": "code",
   "execution_count": 10,
   "metadata": {
    "collapsed": true
   },
   "outputs": [],
   "source": [
    "mutated_id = 'mutated'\n",
    "mutated_seq = 'MSKQQIGVVGMAVMGRPLALNIESRGYTVSVFNRSREKTEEVIAENPGKKLVPYYTVKEFVESLETPRRILLMVKAGAGTDAAIDSLKPYLEKGDIIIDGGNTFFQDTIRRNRELSAEGFNFIGTGVSGGEEGALKGPSIMPGGQKDAYELVAPILTKIAAVAEDGEPCVTYIGADGAGHYVKMVHNGIEYGDMQLIAEAYSLLKGGLNLSNEELANTFTEWNNGELSSYLIDITKDIFTKKDEDGNYLVDVILDEAANKGTGKWTSQSALDLGEPLSLITESVFARYISSLKAQRVAASKVLSGPKAQPAGDKAEFIEKVRRALYLGKIVSYAQGFSQLRAASDEYHWDLNYGEIAKIFRAGCIIRAQFLQKITDAYAENADIANLLLAPYFKKIADEYQQALRDVVAYAVQNGIPVPTFSAAVAYYDSYRAAVLPANLIQAQRDYFGAHTYKRTDKEGIFHTEWLE'"
   ]
  },
  {
   "cell_type": "code",
   "execution_count": 11,
   "metadata": {
    "collapsed": false
   },
   "outputs": [
    {
     "data": {
      "text/plain": [
       "<SeqProp mutated at 0x7f0a8bf3fe48>"
      ]
     },
     "execution_count": 11,
     "metadata": {},
     "output_type": "execute_result"
    }
   ],
   "source": [
    "my_protein.load_manual_sequence(ident=mutated_id, seq=mutated_seq, outdir=gene_dir)"
   ]
  },
  {
   "cell_type": "code",
   "execution_count": 12,
   "metadata": {
    "collapsed": false
   },
   "outputs": [],
   "source": [
    "my_protein.align_sequences_to_representative(outdir=gene_dir)"
   ]
  },
  {
   "cell_type": "code",
   "execution_count": 13,
   "metadata": {
    "collapsed": false
   },
   "outputs": [
    {
     "data": {
      "text/plain": [
       "{'a_seq': 'SRR1753782_00918',\n",
       " 'b_seq': 'mutated',\n",
       " 'deletions': [],\n",
       " 'insertions': [],\n",
       " 'mutations': [('N', 17, 'P')],\n",
       " 'percent_gaps': 0.0,\n",
       " 'percent_identity': 99.8,\n",
       " 'percent_similarity': 99.8,\n",
       " 'score': 2381.0}"
      ]
     },
     "execution_count": 13,
     "metadata": {},
     "output_type": "execute_result"
    }
   ],
   "source": [
    "my_protein.representative_sequence.sequence_alignments[0].annotations"
   ]
  },
  {
   "cell_type": "code",
   "execution_count": 14,
   "metadata": {
    "collapsed": false
   },
   "outputs": [
    {
     "name": "stdout",
     "output_type": "stream",
     "text": [
      "MSKQQIGVVGMAVMGRNLALNIESRGYTVSVFNRSREKTEEVIAENPGKKLVPYYTVKEFVESLETPRRILLMVKAGAGTDAAIDSLKPYLEKGDIIIDGGNTFFQDTIRRNRELSAEGFNFIGTGVSGGEEGALKGPSIMPGGQKDAYELVAPILTKIAAVAEDGEPCVTYIGADGAGHYVKMVHNGIEYGDMQLIAEAYSLLKGGLNLSNEELANTFTEWNNGELSSYLIDITKDIFTKKDEDGNYLVDVILDEAANKGTGKWTSQSALDLGEPLSLITESVFARYISSLKAQRVAASKVLSGPKAQPAGDKAEFIEKVRRALYLGKIVSYAQGFSQLRAASDEYHWDLNYGEIAKIFRAGCIIRAQFLQKITDAYAENADIANLLLAPYFKKIADEYQQALRDVVAYAVQNGIPVPTFSAAVAYYDSYRAAVLPANLIQAQRDYFGAHTYKRTDKEGIFHTEWLE\n",
      "MSKQQIGVVGMAVMGRPLALNIESRGYTVSVFNRSREKTEEVIAENPGKKLVPYYTVKEFVESLETPRRILLMVKAGAGTDAAIDSLKPYLEKGDIIIDGGNTFFQDTIRRNRELSAEGFNFIGTGVSGGEEGALKGPSIMPGGQKDAYELVAPILTKIAAVAEDGEPCVTYIGADGAGHYVKMVHNGIEYGDMQLIAEAYSLLKGGLNLSNEELANTFTEWNNGELSSYLIDITKDIFTKKDEDGNYLVDVILDEAANKGTGKWTSQSALDLGEPLSLITESVFARYISSLKAQRVAASKVLSGPKAQPAGDKAEFIEKVRRALYLGKIVSYAQGFSQLRAASDEYHWDLNYGEIAKIFRAGCIIRAQFLQKITDAYAENADIANLLLAPYFKKIADEYQQALRDVVAYAVQNGIPVPTFSAAVAYYDSYRAAVLPANLIQAQRDYFGAHTYKRTDKEGIFHTEWLE\n"
     ]
    }
   ],
   "source": [
    "print(str(my_protein.representative_sequence.sequence_alignments[0][0].seq))\n",
    "print(str(my_protein.representative_sequence.sequence_alignments[0][1].seq))"
   ]
  },
  {
   "cell_type": "markdown",
   "metadata": {},
   "source": [
    "## Viewing structures"
   ]
  },
  {
   "cell_type": "code",
   "execution_count": 15,
   "metadata": {
    "collapsed": false
   },
   "outputs": [],
   "source": [
    "my_protein.representative_structure.view_structure()"
   ]
  },
  {
   "cell_type": "code",
   "execution_count": 16,
   "metadata": {
    "collapsed": false
   },
   "outputs": [
    {
     "name": "stderr",
     "output_type": "stream",
     "text": [
      "WARNING:ssbio.utils:Zero input range, unable to rescale\n",
      "WARNING:ssbio.utils:Zero input range, unable to rescale\n"
     ]
    }
   ],
   "source": [
    "my_protein.view_all_mutations(scale_range=(5,7))"
   ]
  }
 ],
 "metadata": {
  "anaconda-cloud": {},
  "kernelspec": {
   "display_name": "Python [default]",
   "language": "python",
   "name": "python3"
  },
  "language_info": {
   "codemirror_mode": {
    "name": "ipython",
    "version": 3
   },
   "file_extension": ".py",
   "mimetype": "text/x-python",
   "name": "python",
   "nbconvert_exporter": "python",
   "pygments_lexer": "ipython3",
   "version": "3.5.2"
  }
 },
 "nbformat": 4,
 "nbformat_minor": 1
}
